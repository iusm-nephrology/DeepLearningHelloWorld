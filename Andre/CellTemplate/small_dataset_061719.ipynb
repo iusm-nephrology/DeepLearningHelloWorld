{
 "cells": [
  {
   "cell_type": "code",
   "execution_count": 1,
   "metadata": {},
   "outputs": [
    {
     "name": "stderr",
     "output_type": "stream",
     "text": [
      "/home/awoloshu/miniconda3/envs/pytorch36/lib/python3.6/site-packages/tqdm/autonotebook/__init__.py:14: TqdmExperimentalWarning: Using `tqdm.autonotebook.tqdm` in notebook mode. Use `tqdm.tqdm` instead to force console mode (e.g. in jupyter console)\n",
      "  \" (e.g. in jupyter console)\", TqdmExperimentalWarning)\n"
     ]
    },
    {
     "name": "stdout",
     "output_type": "stream",
     "text": [
      "Modules loaded\n",
      "Reload complete\n",
      "GPUs available: 1\n"
     ]
    }
   ],
   "source": [
    "%matplotlib inline\n",
    "import matplotlib.pyplot as plt\n",
    "import os\n",
    "import numpy as np\n",
    "import json\n",
    "import argparse\n",
    "import torch\n",
    "from torch.optim import lr_scheduler\n",
    "from tqdm import tqdm\n",
    "import data_loader.data_loaders as module_data\n",
    "import model.loss as module_loss\n",
    "import model.metric as module_metric\n",
    "import model.model as module_arch\n",
    "from trainer import Trainer\n",
    "from utils import Logger\n",
    "from utils import util\n",
    "from utils import torchsummary\n",
    "from utils import viewTraining\n",
    "from utils import lr_finder\n",
    "from utils import classActivationMap\n",
    "import importlib\n",
    "import math\n",
    "import torchvision\n",
    "from torch.nn import functional as F\n",
    "from torch import topk\n",
    "import skimage.transform\n",
    "print(\"Modules loaded\")\n",
    "\n",
    "importlib.reload(module_data) #load recent changes to data_loaders.py\n",
    "importlib.reload(module_arch)\n",
    "importlib.reload(module_loss)\n",
    "importlib.reload(module_metric)\n",
    "importlib.reload(util)\n",
    "importlib.reload(viewTraining)\n",
    "importlib.reload(lr_finder)\n",
    "importlib.reload(classActivationMap)\n",
    "print(\"Reload complete\")\n",
    "\n",
    "print(\"GPUs available: \" + str(torch.cuda.device_count()))\n",
    "os.environ[\"CUDA_VISIBLE_DEVICES\"] = \"0,1\""
   ]
  },
  {
   "cell_type": "code",
   "execution_count": 2,
   "metadata": {},
   "outputs": [
    {
     "name": "stdout",
     "output_type": "stream",
     "text": [
      "fin\n"
     ]
    }
   ],
   "source": [
    "resplit_data = False\n",
    "if resplit_data:\n",
    "    os.system('python3 utils/splitDataFolder.py -r \"data/debug_dataset/\" -c \"data/debug_dataset/Label_all.csv\" -s 0.15')\n",
    "    \n",
    "print(\"fin\")"
   ]
  },
  {
   "cell_type": "code",
   "execution_count": 2,
   "metadata": {},
   "outputs": [],
   "source": [
    "#This function gets the parameters from the config.json file \n",
    "def get_instance(module, name, config, *args):\n",
    "    return getattr(module, config[name]['type'])(*args, **config[name]['args'])\n",
    "\n",
    "def set_instance(module, name, config, *args):\n",
    "    setattr(module, config[name]['type'])(*args, **config[name]['args'])\n",
    "\n",
    "def main(config, resume):\n",
    "    train_logger = Logger() #uses entries to store training performance metrics\n",
    "    device = torch.device('cuda' if torch.cuda.is_available() else 'cpu')\n",
    "    \n",
    "    # setup data_loader instances\n",
    "    data_loader = get_instance(module_data, 'data_loader', config) #looks in data_loader/data_loaders.py for 'MNISTDataLoader'\n",
    "    print(\"Total number of training images = \" + str(data_loader.dataset.data_len))\n",
    "    valid_data_loader = data_loader.split_validation() #allocate some images as validation\n",
    "\n",
    "    # build model architecture\n",
    "    model = get_instance(module_arch, 'arch', config) #looks in the model/model.py for 'MnistModel', as specified by config\n",
    "    print(model)\n",
    "    torchsummary.summary(model, (1,64,64))\n",
    "     \n",
    "    \n",
    "    if torch.cuda.is_available():\n",
    "        print(\"Using GPU: \" + torch.cuda.get_device_name(0))\n",
    "    else:\n",
    "        print(\"Using CPU to train\")\n",
    "    \n",
    "    normalized = False\n",
    "    util.visualizeBatch(data_loader, normalized)\n",
    "    \n",
    "    \n",
    "    # get function handles of loss and metrics\n",
    "    loss = getattr(module_loss, config['loss']) #looks in model/loss.py for criterion function specified in config\n",
    "    criterion = loss(data_loader.dataset.weight.to(device)) # for imbalanced datasets\n",
    "    print(data_loader.dataset.weight)\n",
    "    metrics = [getattr(module_metric, met) for met in config['metrics']] #get all the metrics in model/metrics.py - default is accuracy and top 3 accuracy\n",
    "\n",
    "    # build optimizer, learning rate scheduler. delete every lines containing lr_scheduler for disabling scheduler\n",
    "    trainable_params = filter(lambda p: p.requires_grad, model.parameters()) #Number of training params\n",
    "    optimizer = get_instance(torch.optim, 'optimizer', config, trainable_params)\n",
    "    lr_scheduler = get_instance(torch.optim.lr_scheduler, 'lr_scheduler', config, optimizer)\n",
    "\n",
    "    \n",
    "    trainer = Trainer(model, criterion, metrics, optimizer,\n",
    "                      resume=resume, #choose a previous epoch to start training from\n",
    "                      config=config,\n",
    "                      data_loader=data_loader,\n",
    "                      valid_data_loader=valid_data_loader,\n",
    "                      lr_scheduler=lr_scheduler,\n",
    "                      train_logger=train_logger)\n",
    "    \n",
    "    \n",
    "    findLR = False\n",
    "    if findLR:\n",
    "        #set lr = 1e-7 in config file \n",
    "        device_lr = torch.device('cuda' if torch.cuda.is_available() else 'cpu')\n",
    "        lr_finder_training = lr_finder.LRFinder(model, optimizer, criterion, device=device_lr)\n",
    "        lr_finder_training.range_test(data_loader, end_lr=1, num_iter=100, val_loader = valid_data_loader)\n",
    "        lr_finder_training.plot(skip_start = 10, skip_end=5)\n",
    "        # trim the first 10 and last 5 iteration from calculating loss (num_iter > skip_start + skip_end)\n",
    "    else:\n",
    "        trainer.train()\n",
    "        a=1\n",
    "    \n",
    " "
   ]
  },
  {
   "cell_type": "code",
   "execution_count": 3,
   "metadata": {},
   "outputs": [],
   "source": [
    "config_file = 'configs/config_ManyEpochs.json'\n",
    "\n",
    "# load config file\n",
    "with open(config_file) as handle:\n",
    "    config = json.load(handle)\n",
    "# setting path to save trained models and log files\n",
    "path = os.path.join(config['trainer']['save_dir'], config['name'])"
   ]
  },
  {
   "cell_type": "code",
   "execution_count": 5,
   "metadata": {},
   "outputs": [
    {
     "name": "stdout",
     "output_type": "stream",
     "text": [
      "Total number of training images = 1749\n",
      "heatmapModel64(\n",
      "  (layer): Sequential(\n",
      "    (0): Conv2d(1, 32, kernel_size=(3, 3), stride=(1, 1), padding=(1, 1))\n",
      "    (1): BatchNorm2d(32, eps=1e-05, momentum=0.1, affine=True, track_running_stats=True)\n",
      "    (2): ReLU()\n",
      "    (3): Conv2d(32, 64, kernel_size=(3, 3), stride=(1, 1), padding=(1, 1))\n",
      "    (4): BatchNorm2d(64, eps=1e-05, momentum=0.1, affine=True, track_running_stats=True)\n",
      "    (5): ReLU()\n",
      "    (6): AvgPool2d(kernel_size=2, stride=2, padding=0)\n",
      "    (7): Conv2d(64, 128, kernel_size=(3, 3), stride=(1, 1), padding=(1, 1))\n",
      "    (8): BatchNorm2d(128, eps=1e-05, momentum=0.1, affine=True, track_running_stats=True)\n",
      "    (9): ReLU()\n",
      "    (10): AvgPool2d(kernel_size=2, stride=2, padding=0)\n",
      "    (11): Conv2d(128, 256, kernel_size=(3, 3), stride=(1, 1), padding=(1, 1))\n",
      "    (12): BatchNorm2d(256, eps=1e-05, momentum=0.1, affine=True, track_running_stats=True)\n",
      "    (13): ReLU()\n",
      "    (14): AvgPool2d(kernel_size=2, stride=2, padding=0)\n",
      "    (15): Conv2d(256, 512, kernel_size=(3, 3), stride=(1, 1), padding=(1, 1))\n",
      "    (16): BatchNorm2d(512, eps=1e-05, momentum=0.1, affine=True, track_running_stats=True)\n",
      "    (17): ReLU()\n",
      "  )\n",
      "  (fc_layer): Sequential(\n",
      "    (0): Linear(in_features=32768, out_features=512, bias=True)\n",
      "    (1): ReLU()\n",
      "    (2): Dropout(p=0.5)\n",
      "    (3): Linear(in_features=512, out_features=2, bias=True)\n",
      "  )\n",
      ")\n",
      "Trainable parameters: 18348738\n",
      "----------------------------------------------------------------\n",
      "        Layer (type)               Output Shape         Param #\n",
      "================================================================\n",
      "            Conv2d-1           [-1, 32, 64, 64]             320\n",
      "       BatchNorm2d-2           [-1, 32, 64, 64]              64\n",
      "              ReLU-3           [-1, 32, 64, 64]               0\n",
      "            Conv2d-4           [-1, 64, 64, 64]          18,496\n",
      "       BatchNorm2d-5           [-1, 64, 64, 64]             128\n",
      "              ReLU-6           [-1, 64, 64, 64]               0\n",
      "         AvgPool2d-7           [-1, 64, 32, 32]               0\n",
      "            Conv2d-8          [-1, 128, 32, 32]          73,856\n",
      "       BatchNorm2d-9          [-1, 128, 32, 32]             256\n",
      "             ReLU-10          [-1, 128, 32, 32]               0\n",
      "        AvgPool2d-11          [-1, 128, 16, 16]               0\n",
      "           Conv2d-12          [-1, 256, 16, 16]         295,168\n",
      "      BatchNorm2d-13          [-1, 256, 16, 16]             512\n",
      "             ReLU-14          [-1, 256, 16, 16]               0\n",
      "        AvgPool2d-15            [-1, 256, 8, 8]               0\n",
      "           Conv2d-16            [-1, 512, 8, 8]       1,180,160\n",
      "      BatchNorm2d-17            [-1, 512, 8, 8]           1,024\n",
      "             ReLU-18            [-1, 512, 8, 8]               0\n",
      "           Linear-19                  [-1, 512]      16,777,728\n",
      "             ReLU-20                  [-1, 512]               0\n",
      "          Dropout-21                  [-1, 512]               0\n",
      "           Linear-22                    [-1, 2]           1,026\n",
      "================================================================\n",
      "Total params: 18,348,738\n",
      "Trainable params: 18,348,738\n",
      "Non-trainable params: 0\n",
      "----------------------------------------------------------------\n",
      "Input size (MB): 0.02\n",
      "Forward/backward pass size (MB): 15.14\n",
      "Params size (MB): 69.99\n",
      "Estimated Total Size (MB): 85.15\n",
      "----------------------------------------------------------------\n",
      "Using GPU: Tesla K80\n"
     ]
    },
    {
     "data": {
      "image/png": "[encoded data removed]",
      "text/plain": [
       "<Figure size 432x288 with 1 Axes>"
      ]
     },
     "metadata": {
      "needs_background": "light"
     },
     "output_type": "display_data"
    },
    {
     "data": {
      "image/png": "[encoded data removed]",
      "text/plain": [
       "<Figure size 432x288 with 1 Axes>"
      ]
     },
     "metadata": {
      "needs_background": "light"
     },
     "output_type": "display_data"
    },
    {
     "name": "stdout",
     "output_type": "stream",
     "text": [
      "tensor([1.0000, 1.0456])\n"
     ]
    },
    {
     "name": "stderr",
     "output_type": "stream",
     "text": [
      "Train Epoch: 1 [0/1487 (0%)] Loss: 1.057999\n",
      "Train Epoch: 1 [128/1487 (8%)] Loss: 2.661305\n",
      "Train Epoch: 1 [256/1487 (17%)] Loss: 0.821106\n",
      "Train Epoch: 1 [384/1487 (25%)] Loss: 1.436572\n",
      "Train Epoch: 1 [512/1487 (33%)] Loss: 1.342657\n",
      "Train Epoch: 1 [640/1487 (42%)] Loss: 0.987916\n",
      "Train Epoch: 1 [768/1487 (50%)] Loss: 0.877633\n",
      "Train Epoch: 1 [896/1487 (58%)] Loss: 0.738987\n",
      "Train Epoch: 1 [1024/1487 (67%)] Loss: 0.749488\n",
      "Train Epoch: 1 [1152/1487 (75%)] Loss: 0.645113\n",
      "Train Epoch: 1 [1280/1487 (83%)] Loss: 0.687814\n",
      "Train Epoch: 1 [1408/1487 (92%)] Loss: 0.668674\n",
      "    epoch          : 1\n",
      "    loss           : 1.0517829259236653\n",
      "    my_metric      : 0.6366319444444445\n",
      "    f1             : 0.6123025164742444\n",
      "    balanced_accuracy: 0.6333631583416527\n",
      "    precision      : 0.6765897446148909\n",
      "    recall         : 0.6366319444444445\n",
      "    val_loss       : 0.49896813929080963\n",
      "    val_my_metric  : 0.7625\n",
      "    val_f1         : 0.7619671803292494\n",
      "    val_balanced_accuracy: 0.7628310979817147\n",
      "    val_precision  : 0.764654519928289\n",
      "    val_recall     : 0.7625\n",
      "Saving checkpoint: saved/GroundTruth_smallDataset/0618_201333/checkpoint-epoch1.pth ...\n",
      "Saving current best: model_best.pth ...\n",
      "Train Epoch: 2 [0/1487 (0%)] Loss: 0.949787\n",
      "Train Epoch: 2 [128/1487 (8%)] Loss: 0.559215\n",
      "Train Epoch: 2 [256/1487 (17%)] Loss: 0.557632\n",
      "Train Epoch: 2 [384/1487 (25%)] Loss: 0.827307\n",
      "Train Epoch: 2 [512/1487 (33%)] Loss: 0.617678\n",
      "Train Epoch: 2 [640/1487 (42%)] Loss: 0.476986\n",
      "Train Epoch: 2 [768/1487 (50%)] Loss: 0.581183\n",
      "Train Epoch: 2 [896/1487 (58%)] Loss: 0.774787\n",
      "Train Epoch: 2 [1024/1487 (67%)] Loss: 0.602177\n",
      "Train Epoch: 2 [1152/1487 (75%)] Loss: 0.573690\n",
      "Train Epoch: 2 [1280/1487 (83%)] Loss: 0.589471\n",
      "Train Epoch: 2 [1408/1487 (92%)] Loss: 0.759922\n",
      "    epoch          : 2\n",
      "    loss           : 0.6372279599308968\n",
      "    my_metric      : 0.686111111111111\n",
      "    f1             : 0.6826396782236909\n",
      "    balanced_accuracy: 0.6872676606165524\n",
      "    precision      : 0.7065111739938775\n",
      "    recall         : 0.686111111111111\n",
      "    val_loss       : 0.510532546043396\n",
      "    val_my_metric  : 0.790625\n",
      "    val_f1         : 0.790235136703847\n",
      "    val_balanced_accuracy: 0.7905393594387903\n",
      "    val_precision  : 0.7932030244530244\n",
      "    val_recall     : 0.790625\n"
     ]
    },
    {
     "name": "stdout",
     "output_type": "stream",
     "text": [
      "Model has not improved in -------------| 1 epochs\n"
     ]
    },
    {
     "name": "stderr",
     "output_type": "stream",
     "text": [
      "Train Epoch: 3 [0/1487 (0%)] Loss: 0.667461\n",
      "Train Epoch: 3 [128/1487 (8%)] Loss: 0.556841\n",
      "Train Epoch: 3 [256/1487 (17%)] Loss: 0.822389\n",
      "Train Epoch: 3 [384/1487 (25%)] Loss: 0.741976\n",
      "Train Epoch: 3 [512/1487 (33%)] Loss: 0.498790\n",
      "Train Epoch: 3 [640/1487 (42%)] Loss: 0.570686\n",
      "Train Epoch: 3 [768/1487 (50%)] Loss: 0.516877\n",
      "Train Epoch: 3 [896/1487 (58%)] Loss: 0.718491\n",
      "Train Epoch: 3 [1024/1487 (67%)] Loss: 0.620836\n",
      "Train Epoch: 3 [1152/1487 (75%)] Loss: 0.533120\n",
      "Train Epoch: 3 [1280/1487 (83%)] Loss: 0.513085\n",
      "Train Epoch: 3 [1408/1487 (92%)] Loss: 0.578538\n",
      "    epoch          : 3\n",
      "    loss           : 0.5750988436241945\n",
      "    my_metric      : 0.7371093750000001\n",
      "    f1             : 0.7325973571475842\n",
      "    balanced_accuracy: 0.7390204342109968\n",
      "    precision      : 0.762202880198357\n",
      "    recall         : 0.7371093750000001\n",
      "    val_loss       : 0.5446585059165955\n",
      "    val_my_metric  : 0.7145833333333333\n",
      "    val_f1         : 0.7114343344741042\n",
      "    val_balanced_accuracy: 0.7246684792791578\n",
      "    val_precision  : 0.7490091774818561\n",
      "    val_recall     : 0.7145833333333333\n"
     ]
    },
    {
     "name": "stdout",
     "output_type": "stream",
     "text": [
      "Model has not improved in -------------| 2 epochs\n"
     ]
    },
    {
     "name": "stderr",
     "output_type": "stream",
     "text": [
      "Train Epoch: 4 [0/1487 (0%)] Loss: 0.470358\n",
      "Train Epoch: 4 [128/1487 (8%)] Loss: 0.662755\n",
      "Train Epoch: 4 [256/1487 (17%)] Loss: 0.538777\n",
      "Train Epoch: 4 [384/1487 (25%)] Loss: 0.562594\n",
      "Train Epoch: 4 [512/1487 (33%)] Loss: 0.538318\n",
      "Train Epoch: 4 [640/1487 (42%)] Loss: 0.550359\n",
      "Train Epoch: 4 [768/1487 (50%)] Loss: 0.591576\n",
      "Train Epoch: 4 [896/1487 (58%)] Loss: 0.471022\n",
      "Train Epoch: 4 [1024/1487 (67%)] Loss: 0.736862\n",
      "Train Epoch: 4 [1152/1487 (75%)] Loss: 0.530117\n",
      "Train Epoch: 4 [1280/1487 (83%)] Loss: 0.555449\n",
      "Train Epoch: 4 [1408/1487 (92%)] Loss: 0.534796\n",
      "    epoch          : 4\n",
      "    loss           : 0.5642117423315843\n",
      "    my_metric      : 0.7309461805555556\n",
      "    f1             : 0.7285566061295818\n",
      "    balanced_accuracy: 0.7327479503764032\n",
      "    precision      : 0.7434927558381487\n",
      "    recall         : 0.7309461805555556\n",
      "    val_loss       : 0.5677498996257782\n",
      "    val_my_metric  : 0.7270833333333333\n",
      "    val_f1         : 0.7175769528459157\n",
      "    val_balanced_accuracy: 0.7250554884710483\n",
      "    val_precision  : 0.757218921697509\n",
      "    val_recall     : 0.7270833333333333\n"
     ]
    },
    {
     "name": "stdout",
     "output_type": "stream",
     "text": [
      "Model has not improved in -------------| 3 epochs\n"
     ]
    },
    {
     "name": "stderr",
     "output_type": "stream",
     "text": [
      "Train Epoch: 5 [0/1487 (0%)] Loss: 0.635572\n",
      "Train Epoch: 5 [128/1487 (8%)] Loss: 0.584107\n",
      "Train Epoch: 5 [256/1487 (17%)] Loss: 0.465347\n",
      "Train Epoch: 5 [384/1487 (25%)] Loss: 0.544361\n",
      "Train Epoch: 5 [512/1487 (33%)] Loss: 0.505789\n",
      "Train Epoch: 5 [640/1487 (42%)] Loss: 0.486096\n",
      "Train Epoch: 5 [768/1487 (50%)] Loss: 0.495687\n",
      "Train Epoch: 5 [896/1487 (58%)] Loss: 0.583851\n",
      "Train Epoch: 5 [1024/1487 (67%)] Loss: 0.527378\n",
      "Train Epoch: 5 [1152/1487 (75%)] Loss: 0.415868\n",
      "Train Epoch: 5 [1280/1487 (83%)] Loss: 0.457920\n",
      "Train Epoch: 5 [1408/1487 (92%)] Loss: 0.511941\n",
      "    epoch          : 5\n",
      "    loss           : 0.5403617694973946\n",
      "    my_metric      : 0.7444010416666668\n",
      "    f1             : 0.7456849898533666\n",
      "    balanced_accuracy: 0.7472831135012717\n",
      "    precision      : 0.757183765140903\n",
      "    recall         : 0.7444010416666668\n",
      "    val_loss       : 0.5149811685085297\n",
      "    val_my_metric  : 0.7729166666666667\n",
      "    val_f1         : 0.7715144232792625\n",
      "    val_balanced_accuracy: 0.7755397753075772\n",
      "    val_precision  : 0.78860329830838\n",
      "    val_recall     : 0.7729166666666667\n"
     ]
    },
    {
     "name": "stdout",
     "output_type": "stream",
     "text": [
      "Model has not improved in -------------| 4 epochs\n"
     ]
    },
    {
     "name": "stderr",
     "output_type": "stream",
     "text": [
      "Train Epoch: 6 [0/1487 (0%)] Loss: 0.421736\n",
      "Train Epoch: 6 [128/1487 (8%)] Loss: 0.499535\n",
      "Train Epoch: 6 [256/1487 (17%)] Loss: 0.553976\n",
      "Train Epoch: 6 [384/1487 (25%)] Loss: 0.482828\n",
      "Train Epoch: 6 [512/1487 (33%)] Loss: 0.497294\n",
      "Train Epoch: 6 [640/1487 (42%)] Loss: 0.570043\n",
      "Train Epoch: 6 [768/1487 (50%)] Loss: 0.477766\n",
      "Train Epoch: 6 [896/1487 (58%)] Loss: 0.641777\n",
      "Train Epoch: 6 [1024/1487 (67%)] Loss: 0.553240\n",
      "Train Epoch: 6 [1152/1487 (75%)] Loss: 0.411616\n",
      "Train Epoch: 6 [1280/1487 (83%)] Loss: 0.436163\n",
      "Train Epoch: 6 [1408/1487 (92%)] Loss: 0.466993\n",
      "    epoch          : 6\n",
      "    loss           : 0.5266267371674379\n",
      "    my_metric      : 0.7455729166666667\n",
      "    f1             : 0.7444518170245887\n",
      "    balanced_accuracy: 0.7428797629668126\n",
      "    precision      : 0.753594285943624\n",
      "    recall         : 0.7455729166666667\n",
      "    val_loss       : 0.5382041931152344\n",
      "    val_my_metric  : 0.7020833333333333\n",
      "    val_f1         : 0.7014244767037952\n",
      "    val_balanced_accuracy: 0.6944057881773399\n",
      "    val_precision  : 0.7066510429550321\n",
      "    val_recall     : 0.7020833333333333\n"
     ]
    },
    {
     "name": "stdout",
     "output_type": "stream",
     "text": [
      "Model has not improved in -------------| 5 epochs\n"
     ]
    },
    {
     "name": "stderr",
     "output_type": "stream",
     "text": [
      "Train Epoch: 7 [0/1487 (0%)] Loss: 0.397572\n",
      "Train Epoch: 7 [128/1487 (8%)] Loss: 0.582828\n",
      "Train Epoch: 7 [256/1487 (17%)] Loss: 0.396826\n",
      "Train Epoch: 7 [384/1487 (25%)] Loss: 0.489471\n",
      "Train Epoch: 7 [512/1487 (33%)] Loss: 0.392550\n",
      "Train Epoch: 7 [640/1487 (42%)] Loss: 0.585034\n",
      "Train Epoch: 7 [768/1487 (50%)] Loss: 0.521077\n",
      "Train Epoch: 7 [896/1487 (58%)] Loss: 0.530127\n",
      "Train Epoch: 7 [1024/1487 (67%)] Loss: 0.517150\n",
      "Train Epoch: 7 [1152/1487 (75%)] Loss: 0.529326\n",
      "Train Epoch: 7 [1280/1487 (83%)] Loss: 0.530294\n",
      "Train Epoch: 7 [1408/1487 (92%)] Loss: 0.475440\n",
      "    epoch          : 7\n",
      "    loss           : 0.5266516904036204\n",
      "    my_metric      : 0.7408420138888889\n",
      "    f1             : 0.7409304203742879\n",
      "    balanced_accuracy: 0.7439580164088114\n",
      "    precision      : 0.7530697431534702\n",
      "    recall         : 0.7408420138888889\n",
      "    val_loss       : 0.5085096895694733\n",
      "    val_my_metric  : 0.7510416666666667\n",
      "    val_f1         : 0.7488406245807429\n",
      "    val_balanced_accuracy: 0.7519004082571445\n",
      "    val_precision  : 0.7653928802808112\n",
      "    val_recall     : 0.7510416666666667\n"
     ]
    },
    {
     "name": "stdout",
     "output_type": "stream",
     "text": [
      "Model has not improved in -------------| 6 epochs\n"
     ]
    },
    {
     "name": "stderr",
     "output_type": "stream",
     "text": [
      "Train Epoch: 8 [0/1487 (0%)] Loss: 0.451460\n",
      "Train Epoch: 8 [128/1487 (8%)] Loss: 0.487021\n",
      "Train Epoch: 8 [256/1487 (17%)] Loss: 0.746397\n",
      "Train Epoch: 8 [384/1487 (25%)] Loss: 0.537173\n",
      "Train Epoch: 8 [512/1487 (33%)] Loss: 0.471618\n",
      "Train Epoch: 8 [640/1487 (42%)] Loss: 0.479038\n",
      "Train Epoch: 8 [768/1487 (50%)] Loss: 0.449771\n",
      "Train Epoch: 8 [896/1487 (58%)] Loss: 0.516595\n",
      "Train Epoch: 8 [1024/1487 (67%)] Loss: 0.513147\n",
      "Train Epoch: 8 [1152/1487 (75%)] Loss: 0.556423\n",
      "Train Epoch: 8 [1280/1487 (83%)] Loss: 0.504159\n",
      "Train Epoch: 8 [1408/1487 (92%)] Loss: 0.564336\n",
      "    epoch          : 8\n",
      "    loss           : 0.5402028672397137\n",
      "    my_metric      : 0.7303819444444444\n",
      "    f1             : 0.7259718780179781\n",
      "    balanced_accuracy: 0.7276362549131461\n",
      "    precision      : 0.7443844052645842\n",
      "    recall         : 0.7303819444444444\n",
      "    val_loss       : 0.5249651670455933\n",
      "    val_my_metric  : 0.7458333333333333\n",
      "    val_f1         : 0.7447522022021\n",
      "    val_balanced_accuracy: 0.7368482768482769\n",
      "    val_precision  : 0.7530206854103214\n",
      "    val_recall     : 0.7458333333333333\n"
     ]
    },
    {
     "name": "stdout",
     "output_type": "stream",
     "text": [
      "Model has not improved in -------------| 7 epochs\n"
     ]
    },
    {
     "name": "stderr",
     "output_type": "stream",
     "text": [
      "Train Epoch: 9 [0/1487 (0%)] Loss: 0.508775\n",
      "Train Epoch: 9 [128/1487 (8%)] Loss: 0.478469\n",
      "Train Epoch: 9 [256/1487 (17%)] Loss: 0.461972\n",
      "Train Epoch: 9 [384/1487 (25%)] Loss: 0.388485\n",
      "Train Epoch: 9 [512/1487 (33%)] Loss: 0.614387\n",
      "Train Epoch: 9 [640/1487 (42%)] Loss: 0.601600\n",
      "Train Epoch: 9 [768/1487 (50%)] Loss: 0.464078\n",
      "Train Epoch: 9 [896/1487 (58%)] Loss: 0.634804\n",
      "Train Epoch: 9 [1024/1487 (67%)] Loss: 0.420254\n",
      "Train Epoch: 9 [1152/1487 (75%)] Loss: 0.465194\n",
      "Train Epoch: 9 [1280/1487 (83%)] Loss: 0.599656\n",
      "Train Epoch: 9 [1408/1487 (92%)] Loss: 0.567645\n",
      "    epoch          : 9\n",
      "    loss           : 0.5366223392387232\n",
      "    my_metric      : 0.7458767361111112\n",
      "    f1             : 0.744994127957355\n",
      "    balanced_accuracy: 0.7485175089308506\n",
      "    precision      : 0.7621118109597758\n",
      "    recall         : 0.7458767361111112\n",
      "    val_loss       : 0.5742302179336548\n",
      "    val_my_metric  : 0.7083333333333333\n",
      "    val_f1         : 0.7058765295875593\n",
      "    val_balanced_accuracy: 0.7119851962762386\n",
      "    val_precision  : 0.7238766245043184\n",
      "    val_recall     : 0.7083333333333333\n"
     ]
    },
    {
     "name": "stdout",
     "output_type": "stream",
     "text": [
      "Model has not improved in -------------| 8 epochs\n"
     ]
    },
    {
     "name": "stderr",
     "output_type": "stream",
     "text": [
      "Train Epoch: 10 [0/1487 (0%)] Loss: 0.587618\n",
      "Train Epoch: 10 [128/1487 (8%)] Loss: 0.482532\n",
      "Train Epoch: 10 [256/1487 (17%)] Loss: 0.500213\n",
      "Train Epoch: 10 [384/1487 (25%)] Loss: 0.510746\n",
      "Train Epoch: 10 [512/1487 (33%)] Loss: 0.429811\n",
      "Train Epoch: 10 [640/1487 (42%)] Loss: 0.513124\n",
      "Train Epoch: 10 [768/1487 (50%)] Loss: 0.478508\n",
      "Train Epoch: 10 [896/1487 (58%)] Loss: 0.493341\n",
      "Train Epoch: 10 [1024/1487 (67%)] Loss: 0.470532\n",
      "Train Epoch: 10 [1152/1487 (75%)] Loss: 0.600322\n",
      "Train Epoch: 10 [1280/1487 (83%)] Loss: 0.477919\n",
      "Train Epoch: 10 [1408/1487 (92%)] Loss: 0.452579\n",
      "    epoch          : 10\n",
      "    loss           : 0.5173371223111948\n",
      "    my_metric      : 0.7470052083333334\n",
      "    f1             : 0.7452413896704262\n",
      "    balanced_accuracy: 0.7459550313630565\n",
      "    precision      : 0.7590080870957783\n",
      "    recall         : 0.7470052083333334\n",
      "    val_loss       : 0.5221787631511688\n",
      "    val_my_metric  : 0.7354166666666667\n",
      "    val_f1         : 0.7378650146795694\n",
      "    val_balanced_accuracy: 0.7452861377972939\n",
      "    val_precision  : 0.7571999289772726\n",
      "    val_recall     : 0.7354166666666667\n"
     ]
    },
    {
     "name": "stdout",
     "output_type": "stream",
     "text": [
      "Model has not improved in -------------| 9 epochs\n"
     ]
    },
    {
     "name": "stderr",
     "output_type": "stream",
     "text": [
      "Train Epoch: 11 [0/1487 (0%)] Loss: 0.442417\n",
      "Train Epoch: 11 [128/1487 (8%)] Loss: 0.592045\n",
      "Train Epoch: 11 [256/1487 (17%)] Loss: 0.558339\n",
      "Train Epoch: 11 [384/1487 (25%)] Loss: 0.630246\n",
      "Train Epoch: 11 [512/1487 (33%)] Loss: 0.397759\n",
      "Train Epoch: 11 [640/1487 (42%)] Loss: 0.489692\n",
      "Train Epoch: 11 [768/1487 (50%)] Loss: 0.516758\n",
      "Train Epoch: 11 [896/1487 (58%)] Loss: 0.483624\n",
      "Train Epoch: 11 [1024/1487 (67%)] Loss: 0.450863\n",
      "Train Epoch: 11 [1152/1487 (75%)] Loss: 0.558098\n",
      "Train Epoch: 11 [1280/1487 (83%)] Loss: 0.474737\n",
      "Train Epoch: 11 [1408/1487 (92%)] Loss: 0.446979\n",
      "    epoch          : 11\n",
      "    loss           : 0.5127205861111482\n",
      "    my_metric      : 0.7404947916666668\n",
      "    f1             : 0.7387439706193666\n",
      "    balanced_accuracy: 0.7420962542865502\n",
      "    precision      : 0.7540248148943508\n",
      "    recall         : 0.7404947916666668\n",
      "    val_loss       : 0.47734191417694094\n",
      "    val_my_metric  : 0.796875\n",
      "    val_f1         : 0.7963165160597099\n",
      "    val_balanced_accuracy: 0.7952122169527129\n",
      "    val_precision  : 0.7982556915193598\n",
      "    val_recall     : 0.796875\n",
      "Saving checkpoint: saved/GroundTruth_smallDataset/0618_201333/checkpoint-epoch11.pth ...\n",
      "Saving current best: model_best.pth ...\n",
      "Train Epoch: 12 [0/1487 (0%)] Loss: 0.501421\n",
      "Train Epoch: 12 [128/1487 (8%)] Loss: 0.515673\n",
      "Train Epoch: 12 [256/1487 (17%)] Loss: 0.343146\n",
      "Train Epoch: 12 [384/1487 (25%)] Loss: 0.456921\n",
      "Train Epoch: 12 [512/1487 (33%)] Loss: 0.467663\n",
      "Train Epoch: 12 [640/1487 (42%)] Loss: 0.539394\n",
      "Train Epoch: 12 [768/1487 (50%)] Loss: 0.523315\n",
      "Train Epoch: 12 [896/1487 (58%)] Loss: 0.512542\n",
      "Train Epoch: 12 [1024/1487 (67%)] Loss: 0.384499\n",
      "Train Epoch: 12 [1152/1487 (75%)] Loss: 0.504520\n",
      "Train Epoch: 12 [1280/1487 (83%)] Loss: 0.542376\n",
      "Train Epoch: 12 [1408/1487 (92%)] Loss: 0.469813\n",
      "    epoch          : 12\n",
      "    loss           : 0.5058434158563614\n",
      "    my_metric      : 0.7561631944444445\n",
      "    f1             : 0.7553994745483367\n",
      "    balanced_accuracy: 0.7555152411421172\n",
      "    precision      : 0.7624525571919428\n",
      "    recall         : 0.7561631944444445\n",
      "    val_loss       : 0.51583811044693\n",
      "    val_my_metric  : 0.7729166666666667\n",
      "    val_f1         : 0.7738206683223038\n",
      "    val_balanced_accuracy: 0.78314417358535\n",
      "    val_precision  : 0.7889494227683567\n",
      "    val_recall     : 0.7729166666666667\n"
     ]
    },
    {
     "name": "stdout",
     "output_type": "stream",
     "text": [
      "Model has not improved in -------------| 1 epochs\n"
     ]
    },
    {
     "name": "stderr",
     "output_type": "stream",
     "text": [
      "Train Epoch: 13 [0/1487 (0%)] Loss: 0.493438\n",
      "Train Epoch: 13 [128/1487 (8%)] Loss: 0.477325\n",
      "Train Epoch: 13 [256/1487 (17%)] Loss: 0.466464\n",
      "Train Epoch: 13 [384/1487 (25%)] Loss: 0.607369\n",
      "Train Epoch: 13 [512/1487 (33%)] Loss: 0.568077\n",
      "Train Epoch: 13 [640/1487 (42%)] Loss: 0.454986\n",
      "Train Epoch: 13 [768/1487 (50%)] Loss: 0.435036\n",
      "Train Epoch: 13 [896/1487 (58%)] Loss: 0.474807\n",
      "Train Epoch: 13 [1024/1487 (67%)] Loss: 0.561005\n",
      "Train Epoch: 13 [1152/1487 (75%)] Loss: 0.578079\n",
      "Train Epoch: 13 [1280/1487 (83%)] Loss: 0.440493\n",
      "Train Epoch: 13 [1408/1487 (92%)] Loss: 0.541256\n",
      "    epoch          : 13\n",
      "    loss           : 0.5130100299914678\n",
      "    my_metric      : 0.7588975694444445\n",
      "    f1             : 0.7591179407942824\n",
      "    balanced_accuracy: 0.7602002702947793\n",
      "    precision      : 0.766181498315199\n",
      "    recall         : 0.7588975694444445\n",
      "    val_loss       : 0.5887934446334839\n",
      "    val_my_metric  : 0.7395833333333333\n",
      "    val_f1         : 0.7345028989475458\n",
      "    val_balanced_accuracy: 0.725778077731422\n",
      "    val_precision  : 0.7624513570973199\n",
      "    val_recall     : 0.7395833333333333\n"
     ]
    },
    {
     "name": "stdout",
     "output_type": "stream",
     "text": [
      "Model has not improved in -------------| 2 epochs\n"
     ]
    },
    {
     "name": "stderr",
     "output_type": "stream",
     "text": [
      "Train Epoch: 14 [0/1487 (0%)] Loss: 0.579314\n",
      "Train Epoch: 14 [128/1487 (8%)] Loss: 0.576646\n",
      "Train Epoch: 14 [256/1487 (17%)] Loss: 0.618408\n",
      "Train Epoch: 14 [384/1487 (25%)] Loss: 0.499639\n",
      "Train Epoch: 14 [512/1487 (33%)] Loss: 0.489266\n",
      "Train Epoch: 14 [640/1487 (42%)] Loss: 0.476557\n",
      "Train Epoch: 14 [768/1487 (50%)] Loss: 0.498189\n",
      "Train Epoch: 14 [896/1487 (58%)] Loss: 0.466655\n",
      "Train Epoch: 14 [1024/1487 (67%)] Loss: 0.433129\n",
      "Train Epoch: 14 [1152/1487 (75%)] Loss: 0.675825\n",
      "Train Epoch: 14 [1280/1487 (83%)] Loss: 0.448959\n",
      "Train Epoch: 14 [1408/1487 (92%)] Loss: 0.697973\n",
      "    epoch          : 14\n",
      "    loss           : 0.5108192885915438\n",
      "    my_metric      : 0.7429687500000001\n",
      "    f1             : 0.74285751654965\n",
      "    balanced_accuracy: 0.7461087690868363\n",
      "    precision      : 0.7568966241083821\n",
      "    recall         : 0.7429687500000001\n",
      "    val_loss       : 0.6245661973953247\n",
      "    val_my_metric  : 0.6760416666666667\n",
      "    val_f1         : 0.6731841833711595\n",
      "    val_balanced_accuracy: 0.6699770544620378\n",
      "    val_precision  : 0.6815911047160774\n",
      "    val_recall     : 0.6760416666666667\n"
     ]
    },
    {
     "name": "stdout",
     "output_type": "stream",
     "text": [
      "Model has not improved in -------------| 3 epochs\n"
     ]
    },
    {
     "name": "stderr",
     "output_type": "stream",
     "text": [
      "Train Epoch: 15 [0/1487 (0%)] Loss: 0.521214\n",
      "Train Epoch: 15 [128/1487 (8%)] Loss: 0.436924\n",
      "Train Epoch: 15 [256/1487 (17%)] Loss: 0.529087\n",
      "Train Epoch: 15 [384/1487 (25%)] Loss: 0.445753\n",
      "Train Epoch: 15 [512/1487 (33%)] Loss: 0.439245\n",
      "Train Epoch: 15 [640/1487 (42%)] Loss: 0.587918\n",
      "Train Epoch: 15 [768/1487 (50%)] Loss: 0.515548\n",
      "Train Epoch: 15 [896/1487 (58%)] Loss: 0.525562\n",
      "Train Epoch: 15 [1024/1487 (67%)] Loss: 0.531316\n",
      "Train Epoch: 15 [1152/1487 (75%)] Loss: 0.553189\n",
      "Train Epoch: 15 [1280/1487 (83%)] Loss: 0.467050\n",
      "Train Epoch: 15 [1408/1487 (92%)] Loss: 0.495602\n",
      "    epoch          : 15\n",
      "    loss           : 0.5055079199373722\n",
      "    my_metric      : 0.7531684027777777\n",
      "    f1             : 0.7527953418138934\n",
      "    balanced_accuracy: 0.7563169374874361\n",
      "    precision      : 0.763425609275533\n",
      "    recall         : 0.7531684027777777\n",
      "    val_loss       : 0.47698056101799013\n",
      "    val_my_metric  : 0.803125\n",
      "    val_f1         : 0.8023603247665114\n",
      "    val_balanced_accuracy: 0.8032192657121499\n",
      "    val_precision  : 0.8059541068451672\n",
      "    val_recall     : 0.803125\n",
      "Saving checkpoint: saved/GroundTruth_smallDataset/0618_201333/checkpoint-epoch15.pth ...\n",
      "Saving current best: model_best.pth ...\n",
      "Train Epoch: 16 [0/1487 (0%)] Loss: 0.477098\n",
      "Train Epoch: 16 [128/1487 (8%)] Loss: 0.651624\n",
      "Train Epoch: 16 [256/1487 (17%)] Loss: 0.520064\n",
      "Train Epoch: 16 [384/1487 (25%)] Loss: 0.487639\n",
      "Train Epoch: 16 [512/1487 (33%)] Loss: 0.483092\n",
      "Train Epoch: 16 [640/1487 (42%)] Loss: 0.458064\n",
      "Train Epoch: 16 [768/1487 (50%)] Loss: 0.457095\n",
      "Train Epoch: 16 [896/1487 (58%)] Loss: 0.567356\n",
      "Train Epoch: 16 [1024/1487 (67%)] Loss: 0.535891\n",
      "Train Epoch: 16 [1152/1487 (75%)] Loss: 0.566224\n",
      "Train Epoch: 16 [1280/1487 (83%)] Loss: 0.558112\n",
      "Train Epoch: 16 [1408/1487 (92%)] Loss: 0.400376\n",
      "    epoch          : 16\n",
      "    loss           : 0.516675009081761\n",
      "    my_metric      : 0.7559461805555556\n",
      "    f1             : 0.7548969760129326\n",
      "    balanced_accuracy: 0.7602898851131906\n",
      "    precision      : 0.7737102098472294\n",
      "    recall         : 0.7559461805555556\n",
      "    val_loss       : 0.6263300657272339\n",
      "    val_my_metric  : 0.7395833333333333\n",
      "    val_f1         : 0.7350134517434926\n",
      "    val_balanced_accuracy: 0.7242703049688343\n",
      "    val_precision  : 0.7463690009278002\n",
      "    val_recall     : 0.7395833333333333\n"
     ]
    },
    {
     "name": "stdout",
     "output_type": "stream",
     "text": [
      "Model has not improved in -------------| 1 epochs\n"
     ]
    },
    {
     "name": "stderr",
     "output_type": "stream",
     "text": [
      "Train Epoch: 17 [0/1487 (0%)] Loss: 0.577793\n",
      "Train Epoch: 17 [128/1487 (8%)] Loss: 0.459420\n",
      "Train Epoch: 17 [256/1487 (17%)] Loss: 0.540774\n",
      "Train Epoch: 17 [384/1487 (25%)] Loss: 0.612307\n",
      "Train Epoch: 17 [512/1487 (33%)] Loss: 0.535514\n",
      "Train Epoch: 17 [640/1487 (42%)] Loss: 0.537837\n",
      "Train Epoch: 17 [768/1487 (50%)] Loss: 0.481919\n",
      "Train Epoch: 17 [896/1487 (58%)] Loss: 0.586950\n",
      "Train Epoch: 17 [1024/1487 (67%)] Loss: 0.417335\n",
      "Train Epoch: 17 [1152/1487 (75%)] Loss: 0.551614\n",
      "Train Epoch: 17 [1280/1487 (83%)] Loss: 0.414949\n",
      "Train Epoch: 17 [1408/1487 (92%)] Loss: 0.484463\n",
      "    epoch          : 17\n",
      "    loss           : 0.49641059959928197\n",
      "    my_metric      : 0.7587239583333334\n",
      "    f1             : 0.7584727393040384\n",
      "    balanced_accuracy: 0.7634772730360191\n",
      "    precision      : 0.7723863004837478\n",
      "    recall         : 0.7587239583333334\n",
      "    val_loss       : 0.5037293255329132\n",
      "    val_my_metric  : 0.7572916666666667\n",
      "    val_f1         : 0.7537062939583218\n",
      "    val_balanced_accuracy: 0.7550275373237592\n",
      "    val_precision  : 0.7769974843724843\n",
      "    val_recall     : 0.7572916666666667\n"
     ]
    },
    {
     "name": "stdout",
     "output_type": "stream",
     "text": [
      "Model has not improved in -------------| 2 epochs\n"
     ]
    },
    {
     "name": "stderr",
     "output_type": "stream",
     "text": [
      "Train Epoch: 18 [0/1487 (0%)] Loss: 0.517211\n",
      "Train Epoch: 18 [128/1487 (8%)] Loss: 0.531245\n",
      "Train Epoch: 18 [256/1487 (17%)] Loss: 0.513302\n",
      "Train Epoch: 18 [384/1487 (25%)] Loss: 0.421230\n",
      "Train Epoch: 18 [512/1487 (33%)] Loss: 0.478238\n",
      "Train Epoch: 18 [640/1487 (42%)] Loss: 0.513033\n",
      "Train Epoch: 18 [768/1487 (50%)] Loss: 0.450715\n",
      "Train Epoch: 18 [896/1487 (58%)] Loss: 0.438709\n",
      "Train Epoch: 18 [1024/1487 (67%)] Loss: 0.653302\n",
      "Train Epoch: 18 [1152/1487 (75%)] Loss: 0.467093\n",
      "Train Epoch: 18 [1280/1487 (83%)] Loss: 0.504056\n",
      "Train Epoch: 18 [1408/1487 (92%)] Loss: 0.422220\n",
      "    epoch          : 18\n",
      "    loss           : 0.48999281600117683\n",
      "    my_metric      : 0.7716145833333333\n",
      "    f1             : 0.771679878796892\n",
      "    balanced_accuracy: 0.7729118849428813\n",
      "    precision      : 0.7788681167592523\n",
      "    recall         : 0.7716145833333333\n",
      "    val_loss       : 0.5371276319026947\n",
      "    val_my_metric  : 0.7395833333333333\n",
      "    val_f1         : 0.739861397663345\n",
      "    val_balanced_accuracy: 0.7561152795023763\n",
      "    val_precision  : 0.7750299179612183\n",
      "    val_recall     : 0.7395833333333333\n"
     ]
    },
    {
     "name": "stdout",
     "output_type": "stream",
     "text": [
      "Model has not improved in -------------| 3 epochs\n"
     ]
    },
    {
     "name": "stderr",
     "output_type": "stream",
     "text": [
      "Train Epoch: 19 [0/1487 (0%)] Loss: 0.422322\n",
      "Train Epoch: 19 [128/1487 (8%)] Loss: 0.607154\n",
      "Train Epoch: 19 [256/1487 (17%)] Loss: 0.531139\n",
      "Train Epoch: 19 [384/1487 (25%)] Loss: 0.538846\n",
      "Train Epoch: 19 [512/1487 (33%)] Loss: 0.472129\n",
      "Train Epoch: 19 [640/1487 (42%)] Loss: 0.432312\n",
      "Train Epoch: 19 [768/1487 (50%)] Loss: 0.419964\n",
      "Train Epoch: 19 [896/1487 (58%)] Loss: 0.505679\n",
      "Train Epoch: 19 [1024/1487 (67%)] Loss: 0.481099\n",
      "Train Epoch: 19 [1152/1487 (75%)] Loss: 0.381276\n",
      "Train Epoch: 19 [1280/1487 (83%)] Loss: 0.436310\n",
      "Train Epoch: 19 [1408/1487 (92%)] Loss: 0.476136\n",
      "    epoch          : 19\n",
      "    loss           : 0.48883989950021106\n",
      "    my_metric      : 0.7717881944444445\n",
      "    f1             : 0.7716721712422648\n",
      "    balanced_accuracy: 0.7737387185504826\n",
      "    precision      : 0.7790862597578491\n",
      "    recall         : 0.7717881944444445\n",
      "    val_loss       : 0.5285691082477569\n",
      "    val_my_metric  : 0.7552083333333333\n",
      "    val_f1         : 0.7511251325369245\n",
      "    val_balanced_accuracy: 0.7679648766413472\n",
      "    val_precision  : 0.8022184077447234\n",
      "    val_recall     : 0.7552083333333333\n"
     ]
    },
    {
     "name": "stdout",
     "output_type": "stream",
     "text": [
      "Model has not improved in -------------| 4 epochs\n"
     ]
    },
    {
     "name": "stderr",
     "output_type": "stream",
     "text": [
      "Train Epoch: 20 [0/1487 (0%)] Loss: 0.487235\n",
      "Train Epoch: 20 [128/1487 (8%)] Loss: 0.570840\n",
      "Train Epoch: 20 [256/1487 (17%)] Loss: 0.474343\n",
      "Train Epoch: 20 [384/1487 (25%)] Loss: 0.520635\n",
      "Train Epoch: 20 [512/1487 (33%)] Loss: 0.546988\n",
      "Train Epoch: 20 [640/1487 (42%)] Loss: 0.498306\n",
      "Train Epoch: 20 [768/1487 (50%)] Loss: 0.462056\n",
      "Train Epoch: 20 [896/1487 (58%)] Loss: 0.590651\n",
      "Train Epoch: 20 [1024/1487 (67%)] Loss: 0.603839\n",
      "Train Epoch: 20 [1152/1487 (75%)] Loss: 0.505108\n",
      "Train Epoch: 20 [1280/1487 (83%)] Loss: 0.371464\n",
      "Train Epoch: 20 [1408/1487 (92%)] Loss: 0.380967\n",
      "    epoch          : 20\n",
      "    loss           : 0.4850924586256345\n",
      "    my_metric      : 0.7726128472222222\n",
      "    f1             : 0.7721414309137971\n",
      "    balanced_accuracy: 0.7742097346515174\n",
      "    precision      : 0.780786813337717\n",
      "    recall         : 0.7726128472222222\n",
      "    val_loss       : 0.5388839960098266\n",
      "    val_my_metric  : 0.715625\n",
      "    val_f1         : 0.7116908063201658\n",
      "    val_balanced_accuracy: 0.7155129557131781\n",
      "    val_precision  : 0.7217743544489867\n",
      "    val_recall     : 0.715625\n"
     ]
    },
    {
     "name": "stdout",
     "output_type": "stream",
     "text": [
      "Model has not improved in -------------| 5 epochs\n"
     ]
    },
    {
     "name": "stderr",
     "output_type": "stream",
     "text": [
      "Train Epoch: 21 [0/1487 (0%)] Loss: 0.451917\n",
      "Train Epoch: 21 [128/1487 (8%)] Loss: 0.514063\n",
      "Train Epoch: 21 [256/1487 (17%)] Loss: 0.453569\n",
      "Train Epoch: 21 [384/1487 (25%)] Loss: 0.534299\n",
      "Train Epoch: 21 [512/1487 (33%)] Loss: 0.392682\n",
      "Train Epoch: 21 [640/1487 (42%)] Loss: 0.403266\n",
      "Train Epoch: 21 [768/1487 (50%)] Loss: 0.509876\n",
      "Train Epoch: 21 [896/1487 (58%)] Loss: 0.407306\n",
      "Train Epoch: 21 [1024/1487 (67%)] Loss: 0.468249\n",
      "Train Epoch: 21 [1152/1487 (75%)] Loss: 0.543478\n",
      "Train Epoch: 21 [1280/1487 (83%)] Loss: 0.542169\n",
      "Train Epoch: 21 [1408/1487 (92%)] Loss: 0.515080\n",
      "    epoch          : 21\n",
      "    loss           : 0.4811750625570615\n",
      "    my_metric      : 0.773046875\n",
      "    f1             : 0.7724592733619953\n",
      "    balanced_accuracy: 0.7733835519191232\n",
      "    precision      : 0.7813132578828895\n",
      "    recall         : 0.773046875\n",
      "    val_loss       : 0.47138512134552\n",
      "    val_my_metric  : 0.803125\n",
      "    val_f1         : 0.8021151714785291\n",
      "    val_balanced_accuracy: 0.8104396098278188\n",
      "    val_precision  : 0.8210839332657297\n",
      "    val_recall     : 0.803125\n",
      "Saving checkpoint: saved/GroundTruth_smallDataset/0618_201333/checkpoint-epoch21.pth ...\n",
      "Saving current best: model_best.pth ...\n",
      "Train Epoch: 22 [0/1487 (0%)] Loss: 0.515825\n",
      "Train Epoch: 22 [128/1487 (8%)] Loss: 0.538207\n",
      "Train Epoch: 22 [256/1487 (17%)] Loss: 0.475132\n",
      "Train Epoch: 22 [384/1487 (25%)] Loss: 0.448516\n",
      "Train Epoch: 22 [512/1487 (33%)] Loss: 0.434820\n",
      "Train Epoch: 22 [640/1487 (42%)] Loss: 0.403429\n",
      "Train Epoch: 22 [768/1487 (50%)] Loss: 0.426427\n",
      "Train Epoch: 22 [896/1487 (58%)] Loss: 0.523782\n",
      "Train Epoch: 22 [1024/1487 (67%)] Loss: 0.387165\n",
      "Train Epoch: 22 [1152/1487 (75%)] Loss: 0.478087\n",
      "Train Epoch: 22 [1280/1487 (83%)] Loss: 0.538286\n",
      "Train Epoch: 22 [1408/1487 (92%)] Loss: 0.471229\n",
      "    epoch          : 22\n",
      "    loss           : 0.4757855062683423\n",
      "    my_metric      : 0.7779513888888889\n",
      "    f1             : 0.7770620102593243\n",
      "    balanced_accuracy: 0.7786252295794714\n",
      "    precision      : 0.7860584085158421\n",
      "    recall         : 0.7779513888888889\n",
      "    val_loss       : 0.5659061133861542\n",
      "    val_my_metric  : 0.725\n",
      "    val_f1         : 0.7130532035069033\n",
      "    val_balanced_accuracy: 0.7454896940627431\n",
      "    val_precision  : 0.7955075028681685\n",
      "    val_recall     : 0.725\n"
     ]
    },
    {
     "name": "stdout",
     "output_type": "stream",
     "text": [
      "Model has not improved in -------------| 1 epochs\n"
     ]
    },
    {
     "name": "stderr",
     "output_type": "stream",
     "text": [
      "Train Epoch: 23 [0/1487 (0%)] Loss: 0.605320\n",
      "Train Epoch: 23 [128/1487 (8%)] Loss: 0.532338\n",
      "Train Epoch: 23 [256/1487 (17%)] Loss: 0.415308\n",
      "Train Epoch: 23 [384/1487 (25%)] Loss: 0.441897\n",
      "Train Epoch: 23 [512/1487 (33%)] Loss: 0.552750\n",
      "Train Epoch: 23 [640/1487 (42%)] Loss: 0.478532\n",
      "Train Epoch: 23 [768/1487 (50%)] Loss: 0.488451\n",
      "Train Epoch: 23 [896/1487 (58%)] Loss: 0.449609\n",
      "Train Epoch: 23 [1024/1487 (67%)] Loss: 0.508692\n",
      "Train Epoch: 23 [1152/1487 (75%)] Loss: 0.557986\n",
      "Train Epoch: 23 [1280/1487 (83%)] Loss: 0.496051\n",
      "Train Epoch: 23 [1408/1487 (92%)] Loss: 0.457158\n",
      "    epoch          : 23\n",
      "    loss           : 0.485354695469141\n",
      "    my_metric      : 0.7727430555555556\n",
      "    f1             : 0.7718272612987261\n",
      "    balanced_accuracy: 0.7737130613647606\n",
      "    precision      : 0.7830366954015343\n",
      "    recall         : 0.7727430555555556\n",
      "    val_loss       : 0.5072550237178802\n",
      "    val_my_metric  : 0.7760416666666667\n",
      "    val_f1         : 0.7775603241974172\n",
      "    val_balanced_accuracy: 0.7840500031740557\n",
      "    val_precision  : 0.7895139064965065\n",
      "    val_recall     : 0.7760416666666667\n"
     ]
    },
    {
     "name": "stdout",
     "output_type": "stream",
     "text": [
      "Model has not improved in -------------| 2 epochs\n"
     ]
    },
    {
     "name": "stderr",
     "output_type": "stream",
     "text": [
      "Train Epoch: 24 [0/1487 (0%)] Loss: 0.546024\n",
      "Train Epoch: 24 [128/1487 (8%)] Loss: 0.520182\n",
      "Train Epoch: 24 [256/1487 (17%)] Loss: 0.470145\n",
      "Train Epoch: 24 [384/1487 (25%)] Loss: 0.617173\n",
      "Train Epoch: 24 [512/1487 (33%)] Loss: 0.546903\n",
      "Train Epoch: 24 [640/1487 (42%)] Loss: 0.548581\n",
      "Train Epoch: 24 [768/1487 (50%)] Loss: 0.413150\n",
      "Train Epoch: 24 [896/1487 (58%)] Loss: 0.503422\n",
      "Train Epoch: 24 [1024/1487 (67%)] Loss: 0.520013\n",
      "Train Epoch: 24 [1152/1487 (75%)] Loss: 0.460205\n",
      "Train Epoch: 24 [1280/1487 (83%)] Loss: 0.424219\n",
      "Train Epoch: 24 [1408/1487 (92%)] Loss: 0.409296\n",
      "    epoch          : 24\n",
      "    loss           : 0.500004667788744\n",
      "    my_metric      : 0.75546875\n",
      "    f1             : 0.7559082716235985\n",
      "    balanced_accuracy: 0.7601898024567548\n",
      "    precision      : 0.766957558277066\n",
      "    recall         : 0.75546875\n",
      "    val_loss       : 0.45044560432434083\n",
      "    val_my_metric  : 0.8\n",
      "    val_f1         : 0.7999511241446726\n",
      "    val_balanced_accuracy: 0.7991179071824233\n",
      "    val_precision  : 0.8005015525271691\n",
      "    val_recall     : 0.8\n",
      "Saving checkpoint: saved/GroundTruth_smallDataset/0618_201333/checkpoint-epoch24.pth ...\n",
      "Saving current best: model_best.pth ...\n",
      "Train Epoch: 25 [0/1487 (0%)] Loss: 0.305074\n",
      "Train Epoch: 25 [128/1487 (8%)] Loss: 0.435907\n",
      "Train Epoch: 25 [256/1487 (17%)] Loss: 0.590191\n",
      "Train Epoch: 25 [384/1487 (25%)] Loss: 0.496760\n",
      "Train Epoch: 25 [512/1487 (33%)] Loss: 0.580325\n",
      "Train Epoch: 25 [640/1487 (42%)] Loss: 0.475197\n",
      "Train Epoch: 25 [768/1487 (50%)] Loss: 0.430145\n",
      "Train Epoch: 25 [896/1487 (58%)] Loss: 0.457670\n",
      "Train Epoch: 25 [1024/1487 (67%)] Loss: 0.378752\n",
      "Train Epoch: 25 [1152/1487 (75%)] Loss: 0.553599\n",
      "Train Epoch: 25 [1280/1487 (83%)] Loss: 0.441118\n",
      "Train Epoch: 25 [1408/1487 (92%)] Loss: 0.505110\n",
      "    epoch          : 25\n",
      "    loss           : 0.47597972800334293\n",
      "    my_metric      : 0.7654079861111112\n",
      "    f1             : 0.765598537961017\n",
      "    balanced_accuracy: 0.7676349712930864\n",
      "    precision      : 0.7748770279313392\n",
      "    recall         : 0.7654079861111112\n",
      "    val_loss       : 0.4971169352531433\n",
      "    val_my_metric  : 0.7760416666666667\n",
      "    val_f1         : 0.7798112420795216\n",
      "    val_balanced_accuracy: 0.7913081137274686\n",
      "    val_precision  : 0.7985390808622299\n",
      "    val_recall     : 0.7760416666666667\n"
     ]
    },
    {
     "name": "stdout",
     "output_type": "stream",
     "text": [
      "Model has not improved in -------------| 1 epochs\n"
     ]
    },
    {
     "name": "stderr",
     "output_type": "stream",
     "text": [
      "Train Epoch: 26 [0/1487 (0%)] Loss: 0.487010\n",
      "Train Epoch: 26 [128/1487 (8%)] Loss: 0.369217\n",
      "Train Epoch: 26 [256/1487 (17%)] Loss: 0.542225\n",
      "Train Epoch: 26 [384/1487 (25%)] Loss: 0.547671\n",
      "Train Epoch: 26 [512/1487 (33%)] Loss: 0.449217\n",
      "Train Epoch: 26 [640/1487 (42%)] Loss: 0.523419\n",
      "Train Epoch: 26 [768/1487 (50%)] Loss: 0.412062\n",
      "Train Epoch: 26 [896/1487 (58%)] Loss: 0.464403\n",
      "Train Epoch: 26 [1024/1487 (67%)] Loss: 0.423823\n",
      "Train Epoch: 26 [1152/1487 (75%)] Loss: 0.528649\n",
      "Train Epoch: 26 [1280/1487 (83%)] Loss: 0.457931\n",
      "Train Epoch: 26 [1408/1487 (92%)] Loss: 0.438590\n",
      "    epoch          : 26\n",
      "    loss           : 0.48648955672979355\n",
      "    my_metric      : 0.7618489583333333\n",
      "    f1             : 0.7603325551338672\n",
      "    balanced_accuracy: 0.7647374219517457\n",
      "    precision      : 0.7772042623919183\n",
      "    recall         : 0.7618489583333333\n",
      "    val_loss       : 0.48861864805221555\n",
      "    val_my_metric  : 0.803125\n",
      "    val_f1         : 0.8029848857208652\n",
      "    val_balanced_accuracy: 0.8018503483909492\n",
      "    val_precision  : 0.8032049587076209\n",
      "    val_recall     : 0.803125\n"
     ]
    },
    {
     "name": "stdout",
     "output_type": "stream",
     "text": [
      "Model has not improved in -------------| 2 epochs\n"
     ]
    },
    {
     "name": "stderr",
     "output_type": "stream",
     "text": [
      "Train Epoch: 27 [0/1487 (0%)] Loss: 0.522654\n",
      "Train Epoch: 27 [128/1487 (8%)] Loss: 0.431575\n",
      "Train Epoch: 27 [256/1487 (17%)] Loss: 0.579631\n",
      "Train Epoch: 27 [384/1487 (25%)] Loss: 0.468257\n",
      "Train Epoch: 27 [512/1487 (33%)] Loss: 0.493352\n",
      "Train Epoch: 27 [640/1487 (42%)] Loss: 0.394349\n",
      "Train Epoch: 27 [768/1487 (50%)] Loss: 0.397285\n",
      "Train Epoch: 27 [896/1487 (58%)] Loss: 0.625690\n",
      "Train Epoch: 27 [1024/1487 (67%)] Loss: 0.493810\n",
      "Train Epoch: 27 [1152/1487 (75%)] Loss: 0.460871\n",
      "Train Epoch: 27 [1280/1487 (83%)] Loss: 0.610876\n",
      "Train Epoch: 27 [1408/1487 (92%)] Loss: 0.377134\n",
      "    epoch          : 27\n",
      "    loss           : 0.48254596441984177\n",
      "    my_metric      : 0.7694878472222223\n",
      "    f1             : 0.7664718180971669\n",
      "    balanced_accuracy: 0.7715447522052458\n",
      "    precision      : 0.7904592073218648\n",
      "    recall         : 0.7694878472222223\n",
      "    val_loss       : 0.6074790835380555\n",
      "    val_my_metric  : 0.6927083333333333\n",
      "    val_f1         : 0.695456284197257\n",
      "    val_balanced_accuracy: 0.7211491555304942\n",
      "    val_precision  : 0.7605720305211584\n",
      "    val_recall     : 0.6927083333333333\n"
     ]
    },
    {
     "name": "stdout",
     "output_type": "stream",
     "text": [
      "Model has not improved in -------------| 3 epochs\n"
     ]
    },
    {
     "name": "stderr",
     "output_type": "stream",
     "text": [
      "Train Epoch: 28 [0/1487 (0%)] Loss: 0.600673\n",
      "Train Epoch: 28 [128/1487 (8%)] Loss: 0.462112\n",
      "Train Epoch: 28 [256/1487 (17%)] Loss: 0.421289\n",
      "Train Epoch: 28 [384/1487 (25%)] Loss: 0.444488\n",
      "Train Epoch: 28 [512/1487 (33%)] Loss: 0.533307\n",
      "Train Epoch: 28 [640/1487 (42%)] Loss: 0.423423\n",
      "Train Epoch: 28 [768/1487 (50%)] Loss: 0.385483\n",
      "Train Epoch: 28 [896/1487 (58%)] Loss: 0.460055\n",
      "Train Epoch: 28 [1024/1487 (67%)] Loss: 0.474627\n",
      "Train Epoch: 28 [1152/1487 (75%)] Loss: 0.445121\n",
      "Train Epoch: 28 [1280/1487 (83%)] Loss: 0.567209\n",
      "Train Epoch: 28 [1408/1487 (92%)] Loss: 0.524716\n",
      "    epoch          : 28\n",
      "    loss           : 0.46574070304632187\n",
      "    my_metric      : 0.7875868055555556\n",
      "    f1             : 0.7869102318414435\n",
      "    balanced_accuracy: 0.7878435241057655\n",
      "    precision      : 0.796457746561256\n",
      "    recall         : 0.7875868055555556\n",
      "    val_loss       : 0.45543260872364044\n",
      "    val_my_metric  : 0.8\n",
      "    val_f1         : 0.7994498897019173\n",
      "    val_balanced_accuracy: 0.7985142371044835\n",
      "    val_precision  : 0.8047535825180512\n",
      "    val_recall     : 0.8\n"
     ]
    },
    {
     "name": "stdout",
     "output_type": "stream",
     "text": [
      "Model has not improved in -------------| 4 epochs\n"
     ]
    },
    {
     "name": "stderr",
     "output_type": "stream",
     "text": [
      "Train Epoch: 29 [0/1487 (0%)] Loss: 0.413596\n",
      "Train Epoch: 29 [128/1487 (8%)] Loss: 0.449592\n",
      "Train Epoch: 29 [256/1487 (17%)] Loss: 0.408604\n",
      "Train Epoch: 29 [384/1487 (25%)] Loss: 0.545935\n",
      "Train Epoch: 29 [512/1487 (33%)] Loss: 0.519221\n",
      "Train Epoch: 29 [640/1487 (42%)] Loss: 0.527252\n",
      "Train Epoch: 29 [768/1487 (50%)] Loss: 0.500642\n",
      "Train Epoch: 29 [896/1487 (58%)] Loss: 0.564092\n",
      "Train Epoch: 29 [1024/1487 (67%)] Loss: 0.372958\n",
      "Train Epoch: 29 [1152/1487 (75%)] Loss: 0.461288\n",
      "Train Epoch: 29 [1280/1487 (83%)] Loss: 0.372551\n",
      "Train Epoch: 29 [1408/1487 (92%)] Loss: 0.416520\n",
      "    epoch          : 29\n",
      "    loss           : 0.46994584302107495\n",
      "    my_metric      : 0.7848090277777778\n",
      "    f1             : 0.7833330570398137\n",
      "    balanced_accuracy: 0.7838799362586539\n",
      "    precision      : 0.7956723743924409\n",
      "    recall         : 0.7848090277777778\n",
      "    val_loss       : 0.5170425474643707\n",
      "    val_my_metric  : 0.7489583333333333\n",
      "    val_f1         : 0.7559987378846741\n",
      "    val_balanced_accuracy: 0.7740874811463048\n",
      "    val_precision  : 0.8044907713790238\n",
      "    val_recall     : 0.7489583333333333\n"
     ]
    },
    {
     "name": "stdout",
     "output_type": "stream",
     "text": [
      "Model has not improved in -------------| 5 epochs\n"
     ]
    },
    {
     "name": "stderr",
     "output_type": "stream",
     "text": [
      "Train Epoch: 30 [0/1487 (0%)] Loss: 0.422912\n",
      "Train Epoch: 30 [128/1487 (8%)] Loss: 0.404466\n",
      "Train Epoch: 30 [256/1487 (17%)] Loss: 0.496009\n",
      "Train Epoch: 30 [384/1487 (25%)] Loss: 0.510963\n",
      "Train Epoch: 30 [512/1487 (33%)] Loss: 0.498888\n",
      "Train Epoch: 30 [640/1487 (42%)] Loss: 0.375675\n",
      "Train Epoch: 30 [768/1487 (50%)] Loss: 0.529306\n",
      "Train Epoch: 30 [896/1487 (58%)] Loss: 0.477098\n",
      "Train Epoch: 30 [1024/1487 (67%)] Loss: 0.564999\n",
      "Train Epoch: 30 [1152/1487 (75%)] Loss: 0.419903\n",
      "Train Epoch: 30 [1280/1487 (83%)] Loss: 0.389572\n",
      "Train Epoch: 30 [1408/1487 (92%)] Loss: 0.489593\n",
      "    epoch          : 30\n",
      "    loss           : 0.489904560148716\n",
      "    my_metric      : 0.755295138888889\n",
      "    f1             : 0.7541475646650276\n",
      "    balanced_accuracy: 0.757618630006335\n",
      "    precision      : 0.7679227968731445\n",
      "    recall         : 0.755295138888889\n",
      "    val_loss       : 0.4897733390331268\n",
      "    val_my_metric  : 0.815625\n",
      "    val_f1         : 0.8126429543391824\n",
      "    val_balanced_accuracy: 0.8151601403024553\n",
      "    val_precision  : 0.8315519129992814\n",
      "    val_recall     : 0.815625\n"
     ]
    },
    {
     "name": "stdout",
     "output_type": "stream",
     "text": [
      "Model has not improved in -------------| 6 epochs\n"
     ]
    },
    {
     "name": "stderr",
     "output_type": "stream",
     "text": [
      "Train Epoch: 31 [0/1487 (0%)] Loss: 0.462916\n",
      "Train Epoch: 31 [128/1487 (8%)] Loss: 0.495372\n",
      "Train Epoch: 31 [256/1487 (17%)] Loss: 0.380153\n",
      "Train Epoch: 31 [384/1487 (25%)] Loss: 0.477301\n",
      "Train Epoch: 31 [512/1487 (33%)] Loss: 0.347064\n",
      "Train Epoch: 31 [640/1487 (42%)] Loss: 0.399088\n",
      "Train Epoch: 31 [768/1487 (50%)] Loss: 0.449591\n",
      "Train Epoch: 31 [896/1487 (58%)] Loss: 0.484447\n",
      "Train Epoch: 31 [1024/1487 (67%)] Loss: 0.455373\n",
      "Train Epoch: 31 [1152/1487 (75%)] Loss: 0.554424\n",
      "Train Epoch: 31 [1280/1487 (83%)] Loss: 0.388762\n",
      "Train Epoch: 31 [1408/1487 (92%)] Loss: 0.407798\n",
      "    epoch          : 31\n",
      "    loss           : 0.4627142200867335\n",
      "    my_metric      : 0.7926215277777778\n",
      "    f1             : 0.7920543066971147\n",
      "    balanced_accuracy: 0.7926608551937143\n",
      "    precision      : 0.7981768443105265\n",
      "    recall         : 0.7926215277777778\n",
      "    val_loss       : 0.47470935583114626\n",
      "    val_my_metric  : 0.83125\n",
      "    val_f1         : 0.8308214500968442\n",
      "    val_balanced_accuracy: 0.832046944709053\n",
      "    val_precision  : 0.836388821087097\n",
      "    val_recall     : 0.83125\n"
     ]
    },
    {
     "name": "stdout",
     "output_type": "stream",
     "text": [
      "Model has not improved in -------------| 7 epochs\n"
     ]
    },
    {
     "name": "stderr",
     "output_type": "stream",
     "text": [
      "Train Epoch: 32 [0/1487 (0%)] Loss: 0.373607\n",
      "Train Epoch: 32 [128/1487 (8%)] Loss: 0.480136\n",
      "Train Epoch: 32 [256/1487 (17%)] Loss: 0.415014\n",
      "Train Epoch: 32 [384/1487 (25%)] Loss: 0.506146\n",
      "Train Epoch: 32 [512/1487 (33%)] Loss: 0.406352\n",
      "Train Epoch: 32 [640/1487 (42%)] Loss: 0.416575\n",
      "Train Epoch: 32 [768/1487 (50%)] Loss: 0.418819\n",
      "Train Epoch: 32 [896/1487 (58%)] Loss: 0.475237\n",
      "Train Epoch: 32 [1024/1487 (67%)] Loss: 0.365368\n",
      "Train Epoch: 32 [1152/1487 (75%)] Loss: 0.477327\n",
      "Train Epoch: 32 [1280/1487 (83%)] Loss: 0.461148\n",
      "Train Epoch: 32 [1408/1487 (92%)] Loss: 0.340848\n",
      "/home/awoloshu/miniconda3/envs/pytorch36/lib/python3.6/site-packages/sklearn/metrics/classification.py:1145: UndefinedMetricWarning: F-score is ill-defined and being set to 0.0 in labels with no true samples.\n",
      "  'recall', 'true', average, warn_for)\n",
      "/home/awoloshu/miniconda3/envs/pytorch36/lib/python3.6/site-packages/sklearn/metrics/classification.py:1437: UserWarning: y_pred contains classes not in y_true\n",
      "  warnings.warn('y_pred contains classes not in y_true')\n",
      "/home/awoloshu/miniconda3/envs/pytorch36/lib/python3.6/site-packages/sklearn/metrics/classification.py:1145: UndefinedMetricWarning: Recall is ill-defined and being set to 0.0 in labels with no true samples.\n",
      "  'recall', 'true', average, warn_for)\n",
      "    epoch          : 32\n",
      "    loss           : 0.44913991664846736\n",
      "    my_metric      : 0.7763454861111111\n",
      "    f1             : 0.7761284217773324\n",
      "    balanced_accuracy: 0.7786798724681364\n",
      "    precision      : 0.7851133285357332\n",
      "    recall         : 0.7763454861111111\n",
      "    val_loss       : 0.476916766166687\n",
      "    val_my_metric  : 0.7760416666666667\n",
      "    val_f1         : 0.7909445051805857\n",
      "    val_balanced_accuracy: 0.7763191278466421\n",
      "    val_precision  : 0.8121821105723577\n",
      "    val_recall     : 0.7760416666666667\n"
     ]
    },
    {
     "name": "stdout",
     "output_type": "stream",
     "text": [
      "Model has not improved in -------------| 8 epochs\n"
     ]
    },
    {
     "name": "stderr",
     "output_type": "stream",
     "text": [
      "Train Epoch: 33 [0/1487 (0%)] Loss: 0.442774\n",
      "Train Epoch: 33 [128/1487 (8%)] Loss: 0.475240\n",
      "Train Epoch: 33 [256/1487 (17%)] Loss: 0.468315\n",
      "Train Epoch: 33 [384/1487 (25%)] Loss: 0.418971\n",
      "Train Epoch: 33 [512/1487 (33%)] Loss: 0.482142\n",
      "Train Epoch: 33 [640/1487 (42%)] Loss: 0.513600\n",
      "Train Epoch: 33 [768/1487 (50%)] Loss: 0.534325\n",
      "Train Epoch: 33 [896/1487 (58%)] Loss: 0.491242\n",
      "Train Epoch: 33 [1024/1487 (67%)] Loss: 0.413944\n",
      "Train Epoch: 33 [1152/1487 (75%)] Loss: 0.571958\n",
      "Train Epoch: 33 [1280/1487 (83%)] Loss: 0.392393\n",
      "Train Epoch: 33 [1408/1487 (92%)] Loss: 0.388625\n",
      "    epoch          : 33\n",
      "    loss           : 0.4698084481060505\n",
      "    my_metric      : 0.7841145833333334\n",
      "    f1             : 0.7833365244442674\n",
      "    balanced_accuracy: 0.783993333714951\n",
      "    precision      : 0.7919049651260642\n",
      "    recall         : 0.7841145833333334\n",
      "    val_loss       : 0.5574833691120148\n",
      "    val_my_metric  : 0.7427083333333333\n",
      "    val_f1         : 0.7410794277407181\n",
      "    val_balanced_accuracy: 0.7558661136868541\n",
      "    val_precision  : 0.7778496086539382\n",
      "    val_recall     : 0.7427083333333333\n"
     ]
    },
    {
     "name": "stdout",
     "output_type": "stream",
     "text": [
      "Model has not improved in -------------| 9 epochs\n"
     ]
    },
    {
     "name": "stderr",
     "output_type": "stream",
     "text": [
      "Train Epoch: 34 [0/1487 (0%)] Loss: 0.513686\n",
      "Train Epoch: 34 [128/1487 (8%)] Loss: 0.366068\n",
      "Train Epoch: 34 [256/1487 (17%)] Loss: 0.398615\n",
      "Train Epoch: 34 [384/1487 (25%)] Loss: 0.388947\n",
      "Train Epoch: 34 [512/1487 (33%)] Loss: 0.516767\n",
      "Train Epoch: 34 [640/1487 (42%)] Loss: 0.406618\n",
      "Train Epoch: 34 [768/1487 (50%)] Loss: 0.630243\n",
      "Train Epoch: 34 [896/1487 (58%)] Loss: 0.538218\n",
      "Train Epoch: 34 [1024/1487 (67%)] Loss: 0.421387\n",
      "Train Epoch: 34 [1152/1487 (75%)] Loss: 0.471788\n",
      "Train Epoch: 34 [1280/1487 (83%)] Loss: 0.403398\n",
      "Train Epoch: 34 [1408/1487 (92%)] Loss: 0.457882\n",
      "    epoch          : 34\n",
      "    loss           : 0.46608299016952515\n",
      "    my_metric      : 0.7903211805555556\n",
      "    f1             : 0.7907740991468603\n",
      "    balanced_accuracy: 0.7951196740968299\n",
      "    precision      : 0.8040088974980594\n",
      "    recall         : 0.7903211805555556\n",
      "    val_loss       : 0.5467065870761871\n",
      "    val_my_metric  : 0.715625\n",
      "    val_f1         : 0.7079723805369784\n",
      "    val_balanced_accuracy: 0.7424327927177291\n",
      "    val_precision  : 0.7852409999694526\n",
      "    val_recall     : 0.715625\n"
     ]
    },
    {
     "name": "stdout",
     "output_type": "stream",
     "text": [
      "Model has not improved in -------------| 10 epochs\n"
     ]
    },
    {
     "name": "stderr",
     "output_type": "stream",
     "text": [
      "Train Epoch: 35 [0/1487 (0%)] Loss: 0.360239\n",
      "Train Epoch: 35 [128/1487 (8%)] Loss: 0.502786\n",
      "Train Epoch: 35 [256/1487 (17%)] Loss: 0.417742\n",
      "Train Epoch: 35 [384/1487 (25%)] Loss: 0.454785\n",
      "Train Epoch: 35 [512/1487 (33%)] Loss: 0.420140\n",
      "Train Epoch: 35 [640/1487 (42%)] Loss: 0.498353\n",
      "Train Epoch: 35 [768/1487 (50%)] Loss: 0.617009\n",
      "Train Epoch: 35 [896/1487 (58%)] Loss: 0.539465\n",
      "Train Epoch: 35 [1024/1487 (67%)] Loss: 0.537603\n",
      "Train Epoch: 35 [1152/1487 (75%)] Loss: 0.492057\n",
      "Train Epoch: 35 [1280/1487 (83%)] Loss: 0.380110\n",
      "Train Epoch: 35 [1408/1487 (92%)] Loss: 0.457052\n",
      "    epoch          : 35\n",
      "    loss           : 0.4728727365533511\n",
      "    my_metric      : 0.7701388888888889\n",
      "    f1             : 0.7692222168334477\n",
      "    balanced_accuracy: 0.7729455846327639\n",
      "    precision      : 0.787037412677963\n",
      "    recall         : 0.7701388888888889\n",
      "    val_loss       : 0.46579442620277406\n",
      "    val_my_metric  : 0.7791666666666667\n",
      "    val_f1         : 0.7823994859680343\n",
      "    val_balanced_accuracy: 0.7923161764705882\n",
      "    val_precision  : 0.7983220876698752\n",
      "    val_recall     : 0.7791666666666667\n"
     ]
    },
    {
     "name": "stdout",
     "output_type": "stream",
     "text": [
      "Model has not improved in -------------| 11 epochs\n"
     ]
    },
    {
     "name": "stderr",
     "output_type": "stream",
     "text": [
      "Train Epoch: 36 [0/1487 (0%)] Loss: 0.397752\n",
      "Train Epoch: 36 [128/1487 (8%)] Loss: 0.487620\n",
      "Train Epoch: 36 [256/1487 (17%)] Loss: 0.400925\n",
      "Train Epoch: 36 [384/1487 (25%)] Loss: 0.530404\n",
      "Train Epoch: 36 [512/1487 (33%)] Loss: 0.431195\n",
      "Train Epoch: 36 [640/1487 (42%)] Loss: 0.427924\n",
      "Train Epoch: 36 [768/1487 (50%)] Loss: 0.569017\n",
      "Train Epoch: 36 [896/1487 (58%)] Loss: 0.493241\n",
      "Train Epoch: 36 [1024/1487 (67%)] Loss: 0.460672\n",
      "Train Epoch: 36 [1152/1487 (75%)] Loss: 0.378511\n",
      "Train Epoch: 36 [1280/1487 (83%)] Loss: 0.422864\n",
      "Train Epoch: 36 [1408/1487 (92%)] Loss: 0.376029\n",
      "    epoch          : 36\n",
      "    loss           : 0.44742751121520996\n",
      "    my_metric      : 0.7864149305555556\n",
      "    f1             : 0.7860248490553406\n",
      "    balanced_accuracy: 0.7864363949721535\n",
      "    precision      : 0.7947552670480861\n",
      "    recall         : 0.7864149305555556\n",
      "    val_loss       : 0.5645480811595917\n",
      "    val_my_metric  : 0.7395833333333333\n",
      "    val_f1         : 0.7401643429045885\n",
      "    val_balanced_accuracy: 0.7319524142504648\n",
      "    val_precision  : 0.7472234839881898\n",
      "    val_recall     : 0.7395833333333333\n"
     ]
    },
    {
     "name": "stdout",
     "output_type": "stream",
     "text": [
      "Model has not improved in -------------| 12 epochs\n"
     ]
    },
    {
     "name": "stderr",
     "output_type": "stream",
     "text": [
      "Train Epoch: 37 [0/1487 (0%)] Loss: 0.481086\n",
      "Train Epoch: 37 [128/1487 (8%)] Loss: 0.473909\n",
      "Train Epoch: 37 [256/1487 (17%)] Loss: 0.496201\n",
      "Train Epoch: 37 [384/1487 (25%)] Loss: 0.517604\n",
      "Train Epoch: 37 [512/1487 (33%)] Loss: 0.379311\n",
      "Train Epoch: 37 [640/1487 (42%)] Loss: 0.485170\n",
      "Train Epoch: 37 [768/1487 (50%)] Loss: 0.546523\n",
      "Train Epoch: 37 [896/1487 (58%)] Loss: 0.430313\n",
      "Train Epoch: 37 [1024/1487 (67%)] Loss: 0.459768\n",
      "Train Epoch: 37 [1152/1487 (75%)] Loss: 0.567460\n",
      "Train Epoch: 37 [1280/1487 (83%)] Loss: 0.398072\n",
      "Train Epoch: 37 [1408/1487 (92%)] Loss: 0.423470\n",
      "    epoch          : 37\n",
      "    loss           : 0.46560459956526756\n",
      "    my_metric      : 0.77109375\n",
      "    f1             : 0.7707878883266924\n",
      "    balanced_accuracy: 0.773181832349779\n",
      "    precision      : 0.7814527560629942\n",
      "    recall         : 0.77109375\n",
      "    val_loss       : 0.4797373950481415\n",
      "    val_my_metric  : 0.7666666666666667\n",
      "    val_f1         : 0.7675491433793321\n",
      "    val_balanced_accuracy: 0.7797044334975369\n",
      "    val_precision  : 0.7919533095361232\n",
      "    val_recall     : 0.7666666666666667\n"
     ]
    },
    {
     "name": "stdout",
     "output_type": "stream",
     "text": [
      "Model has not improved in -------------| 13 epochs\n"
     ]
    },
    {
     "name": "stderr",
     "output_type": "stream",
     "text": [
      "Train Epoch: 38 [0/1487 (0%)] Loss: 0.440067\n",
      "Train Epoch: 38 [128/1487 (8%)] Loss: 0.375294\n",
      "Train Epoch: 38 [256/1487 (17%)] Loss: 0.479193\n",
      "Train Epoch: 38 [384/1487 (25%)] Loss: 0.446871\n",
      "Train Epoch: 38 [512/1487 (33%)] Loss: 0.449049\n",
      "Train Epoch: 38 [640/1487 (42%)] Loss: 0.471400\n",
      "Train Epoch: 38 [768/1487 (50%)] Loss: 0.343706\n",
      "Train Epoch: 38 [896/1487 (58%)] Loss: 0.434778\n",
      "Train Epoch: 38 [1024/1487 (67%)] Loss: 0.611102\n",
      "Train Epoch: 38 [1152/1487 (75%)] Loss: 0.551539\n",
      "Train Epoch: 38 [1280/1487 (83%)] Loss: 0.491457\n",
      "Train Epoch: 38 [1408/1487 (92%)] Loss: 0.679926\n",
      "    epoch          : 38\n",
      "    loss           : 0.46671748409668606\n",
      "    my_metric      : 0.7768229166666667\n",
      "    f1             : 0.7748009349658921\n",
      "    balanced_accuracy: 0.7795372581925201\n",
      "    precision      : 0.7963035839052307\n",
      "    recall         : 0.7768229166666667\n",
      "    val_loss       : 0.5987160861492157\n",
      "    val_my_metric  : 0.7364583333333333\n",
      "    val_f1         : 0.7446798525470417\n",
      "    val_balanced_accuracy: 0.7638462168161835\n",
      "    val_precision  : 0.7832933782628397\n",
      "    val_recall     : 0.7364583333333333\n"
     ]
    },
    {
     "name": "stdout",
     "output_type": "stream",
     "text": [
      "Model has not improved in -------------| 14 epochs\n"
     ]
    },
    {
     "name": "stderr",
     "output_type": "stream",
     "text": [
      "Train Epoch: 39 [0/1487 (0%)] Loss: 0.402686\n",
      "Train Epoch: 39 [128/1487 (8%)] Loss: 0.382697\n",
      "Train Epoch: 39 [256/1487 (17%)] Loss: 0.455545\n",
      "Train Epoch: 39 [384/1487 (25%)] Loss: 0.544698\n",
      "Train Epoch: 39 [512/1487 (33%)] Loss: 0.436890\n",
      "Train Epoch: 39 [640/1487 (42%)] Loss: 0.448107\n",
      "Train Epoch: 39 [768/1487 (50%)] Loss: 0.386265\n",
      "Train Epoch: 39 [896/1487 (58%)] Loss: 0.515364\n",
      "Train Epoch: 39 [1024/1487 (67%)] Loss: 0.394494\n",
      "Train Epoch: 39 [1152/1487 (75%)] Loss: 0.379253\n",
      "Train Epoch: 39 [1280/1487 (83%)] Loss: 0.397907\n",
      "Train Epoch: 39 [1408/1487 (92%)] Loss: 0.494636\n",
      "    epoch          : 39\n",
      "    loss           : 0.4644305134812991\n",
      "    my_metric      : 0.7790798611111112\n",
      "    f1             : 0.7785476973257404\n",
      "    balanced_accuracy: 0.784351961601529\n",
      "    precision      : 0.7962766841071697\n",
      "    recall         : 0.7790798611111112\n",
      "    val_loss       : 0.531728082895279\n",
      "    val_my_metric  : 0.7489583333333333\n",
      "    val_f1         : 0.7486244719028345\n",
      "    val_balanced_accuracy: 0.7404826902025178\n",
      "    val_precision  : 0.7528116511987479\n",
      "    val_recall     : 0.7489583333333333\n"
     ]
    },
    {
     "name": "stdout",
     "output_type": "stream",
     "text": [
      "Model has not improved in -------------| 15 epochs\n"
     ]
    },
    {
     "name": "stderr",
     "output_type": "stream",
     "text": [
      "Train Epoch: 40 [0/1487 (0%)] Loss: 0.345315\n",
      "Train Epoch: 40 [128/1487 (8%)] Loss: 0.561511\n",
      "Train Epoch: 40 [256/1487 (17%)] Loss: 0.402255\n",
      "Train Epoch: 40 [384/1487 (25%)] Loss: 0.460943\n",
      "Train Epoch: 40 [512/1487 (33%)] Loss: 0.425430\n",
      "Train Epoch: 40 [640/1487 (42%)] Loss: 0.546008\n",
      "Train Epoch: 40 [768/1487 (50%)] Loss: 0.482074\n",
      "Train Epoch: 40 [896/1487 (58%)] Loss: 0.399775\n",
      "Train Epoch: 40 [1024/1487 (67%)] Loss: 0.407471\n",
      "Train Epoch: 40 [1152/1487 (75%)] Loss: 0.380677\n",
      "Train Epoch: 40 [1280/1487 (83%)] Loss: 0.401888\n",
      "Train Epoch: 40 [1408/1487 (92%)] Loss: 0.442030\n",
      "    epoch          : 40\n",
      "    loss           : 0.44224164572854835\n",
      "    my_metric      : 0.794921875\n",
      "    f1             : 0.7943595236514228\n",
      "    balanced_accuracy: 0.796271786095529\n",
      "    precision      : 0.804011160991508\n",
      "    recall         : 0.794921875\n",
      "    val_loss       : 0.4929137468338013\n",
      "    val_my_metric  : 0.7635416666666667\n",
      "    val_f1         : 0.7623644467625753\n",
      "    val_balanced_accuracy: 0.7648268933079304\n",
      "    val_precision  : 0.7763669563829464\n",
      "    val_recall     : 0.7635416666666667\n"
     ]
    },
    {
     "name": "stdout",
     "output_type": "stream",
     "text": [
      "Model has not improved in -------------| 16 epochs\n"
     ]
    },
    {
     "name": "stderr",
     "output_type": "stream",
     "text": [
      "Train Epoch: 41 [0/1487 (0%)] Loss: 0.457636\n",
      "Train Epoch: 41 [128/1487 (8%)] Loss: 0.425097\n",
      "Train Epoch: 41 [256/1487 (17%)] Loss: 0.636227\n",
      "Train Epoch: 41 [384/1487 (25%)] Loss: 0.319093\n",
      "Train Epoch: 41 [512/1487 (33%)] Loss: 0.451738\n",
      "Train Epoch: 41 [640/1487 (42%)] Loss: 0.337906\n",
      "Train Epoch: 41 [768/1487 (50%)] Loss: 0.454513\n",
      "Train Epoch: 41 [896/1487 (58%)] Loss: 0.423119\n",
      "Train Epoch: 41 [1024/1487 (67%)] Loss: 0.437969\n",
      "Train Epoch: 41 [1152/1487 (75%)] Loss: 0.437631\n",
      "Train Epoch: 41 [1280/1487 (83%)] Loss: 0.369575\n",
      "Train Epoch: 41 [1408/1487 (92%)] Loss: 0.409214\n",
      "    epoch          : 41\n",
      "    loss           : 0.4466451791425546\n",
      "    my_metric      : 0.7904947916666667\n",
      "    f1             : 0.7903690989995972\n",
      "    balanced_accuracy: 0.7923947957843396\n",
      "    precision      : 0.8006483132585672\n",
      "    recall         : 0.7904947916666667\n",
      "    val_loss       : 0.6042007684707642\n",
      "    val_my_metric  : 0.703125\n",
      "    val_f1         : 0.6999135654384092\n",
      "    val_balanced_accuracy: 0.7030303030303031\n",
      "    val_precision  : 0.7048589730432402\n",
      "    val_recall     : 0.703125\n"
     ]
    },
    {
     "name": "stdout",
     "output_type": "stream",
     "text": [
      "Model has not improved in -------------| 17 epochs\n"
     ]
    },
    {
     "name": "stderr",
     "output_type": "stream",
     "text": [
      "Train Epoch: 42 [0/1487 (0%)] Loss: 0.547675\n",
      "Train Epoch: 42 [128/1487 (8%)] Loss: 0.327493\n",
      "Train Epoch: 42 [256/1487 (17%)] Loss: 0.438585\n",
      "Train Epoch: 42 [384/1487 (25%)] Loss: 0.376446\n",
      "Train Epoch: 42 [512/1487 (33%)] Loss: 0.269423\n",
      "Train Epoch: 42 [640/1487 (42%)] Loss: 0.329793\n",
      "Train Epoch: 42 [768/1487 (50%)] Loss: 0.420794\n",
      "Train Epoch: 42 [896/1487 (58%)] Loss: 0.484089\n",
      "Train Epoch: 42 [1024/1487 (67%)] Loss: 0.475421\n",
      "Train Epoch: 42 [1152/1487 (75%)] Loss: 0.418300\n",
      "Train Epoch: 42 [1280/1487 (83%)] Loss: 0.414407\n",
      "Train Epoch: 42 [1408/1487 (92%)] Loss: 0.576959\n",
      "    epoch          : 42\n",
      "    loss           : 0.43943796555201214\n",
      "    my_metric      : 0.7878906250000001\n",
      "    f1             : 0.787134996575262\n",
      "    balanced_accuracy: 0.7878857681016892\n",
      "    precision      : 0.7970694675459078\n",
      "    recall         : 0.7878906250000001\n",
      "    val_loss       : 0.4931382298469543\n",
      "    val_my_metric  : 0.7916666666666667\n",
      "    val_f1         : 0.792867414077323\n",
      "    val_balanced_accuracy: 0.8039652693922145\n",
      "    val_precision  : 0.8196097615992238\n",
      "    val_recall     : 0.7916666666666667\n"
     ]
    },
    {
     "name": "stdout",
     "output_type": "stream",
     "text": [
      "Model has not improved in -------------| 18 epochs\n"
     ]
    },
    {
     "name": "stderr",
     "output_type": "stream",
     "text": [
      "Train Epoch: 43 [0/1487 (0%)] Loss: 0.504089\n",
      "Train Epoch: 43 [128/1487 (8%)] Loss: 0.422900\n",
      "Train Epoch: 43 [256/1487 (17%)] Loss: 0.462191\n",
      "Train Epoch: 43 [384/1487 (25%)] Loss: 0.518098\n",
      "Train Epoch: 43 [512/1487 (33%)] Loss: 0.481466\n",
      "Train Epoch: 43 [640/1487 (42%)] Loss: 0.462745\n",
      "Train Epoch: 43 [768/1487 (50%)] Loss: 0.383049\n",
      "Train Epoch: 43 [896/1487 (58%)] Loss: 0.438890\n",
      "Train Epoch: 43 [1024/1487 (67%)] Loss: 0.404332\n",
      "Train Epoch: 43 [1152/1487 (75%)] Loss: 0.446740\n",
      "Train Epoch: 43 [1280/1487 (83%)] Loss: 0.465164\n",
      "Train Epoch: 43 [1408/1487 (92%)] Loss: 0.500986\n",
      "    epoch          : 43\n",
      "    loss           : 0.45281461874643963\n",
      "    my_metric      : 0.780859375\n",
      "    f1             : 0.7810551462679087\n",
      "    balanced_accuracy: 0.7840950794697833\n",
      "    precision      : 0.7956522699739588\n",
      "    recall         : 0.780859375\n",
      "    val_loss       : 0.46455695331096647\n",
      "    val_my_metric  : 0.790625\n",
      "    val_f1         : 0.7889378449953932\n",
      "    val_balanced_accuracy: 0.7947988505747127\n",
      "    val_precision  : 0.8124189412829391\n",
      "    val_recall     : 0.790625\n"
     ]
    },
    {
     "name": "stdout",
     "output_type": "stream",
     "text": [
      "Model has not improved in -------------| 19 epochs\n"
     ]
    },
    {
     "name": "stderr",
     "output_type": "stream",
     "text": [
      "Train Epoch: 44 [0/1487 (0%)] Loss: 0.336921\n",
      "Train Epoch: 44 [128/1487 (8%)] Loss: 0.427129\n",
      "Train Epoch: 44 [256/1487 (17%)] Loss: 0.455081\n",
      "Train Epoch: 44 [384/1487 (25%)] Loss: 0.421534\n",
      "Train Epoch: 44 [512/1487 (33%)] Loss: 0.622651\n",
      "Train Epoch: 44 [640/1487 (42%)] Loss: 0.521818\n",
      "Train Epoch: 44 [768/1487 (50%)] Loss: 0.483553\n",
      "Train Epoch: 44 [896/1487 (58%)] Loss: 0.511128\n",
      "Train Epoch: 44 [1024/1487 (67%)] Loss: 0.398199\n",
      "Train Epoch: 44 [1152/1487 (75%)] Loss: 0.416301\n",
      "Train Epoch: 44 [1280/1487 (83%)] Loss: 0.395984\n",
      "Train Epoch: 44 [1408/1487 (92%)] Loss: 0.434918\n",
      "    epoch          : 44\n",
      "    loss           : 0.4625761608282725\n",
      "    my_metric      : 0.7735677083333333\n",
      "    f1             : 0.7721087630330651\n",
      "    balanced_accuracy: 0.7742441828189014\n",
      "    precision      : 0.7852167174462298\n",
      "    recall         : 0.7735677083333333\n",
      "    val_loss       : 0.5078153014183044\n",
      "    val_my_metric  : 0.7583333333333333\n",
      "    val_f1         : 0.7576155462184874\n",
      "    val_balanced_accuracy: 0.7762445165142606\n",
      "    val_precision  : 0.7988601933846651\n",
      "    val_recall     : 0.7583333333333333\n"
     ]
    },
    {
     "name": "stdout",
     "output_type": "stream",
     "text": [
      "Model has not improved in -------------| 20 epochs\n"
     ]
    },
    {
     "name": "stderr",
     "output_type": "stream",
     "text": [
      "Train Epoch: 45 [0/1487 (0%)] Loss: 0.419823\n",
      "Train Epoch: 45 [128/1487 (8%)] Loss: 0.537930\n",
      "Train Epoch: 45 [256/1487 (17%)] Loss: 0.411554\n",
      "Train Epoch: 45 [384/1487 (25%)] Loss: 0.396393\n",
      "Train Epoch: 45 [512/1487 (33%)] Loss: 0.406846\n",
      "Train Epoch: 45 [640/1487 (42%)] Loss: 0.329949\n",
      "Train Epoch: 45 [768/1487 (50%)] Loss: 0.392123\n",
      "Train Epoch: 45 [896/1487 (58%)] Loss: 0.476278\n",
      "Train Epoch: 45 [1024/1487 (67%)] Loss: 0.500531\n",
      "Train Epoch: 45 [1152/1487 (75%)] Loss: 0.461372\n",
      "Train Epoch: 45 [1280/1487 (83%)] Loss: 0.528600\n",
      "Train Epoch: 45 [1408/1487 (92%)] Loss: 0.466396\n",
      "    epoch          : 45\n",
      "    loss           : 0.4400536057849725\n",
      "    my_metric      : 0.7922743055555556\n",
      "    f1             : 0.7912755627328113\n",
      "    balanced_accuracy: 0.7933303204581507\n",
      "    precision      : 0.8026182872377786\n",
      "    recall         : 0.7922743055555556\n",
      "    val_loss       : 0.7509577870368958\n",
      "    val_my_metric  : 0.7322916666666667\n",
      "    val_f1         : 0.7301920746890429\n",
      "    val_balanced_accuracy: 0.7393821628116524\n",
      "    val_precision  : 0.7644865262935915\n",
      "    val_recall     : 0.7322916666666667\n"
     ]
    },
    {
     "name": "stdout",
     "output_type": "stream",
     "text": [
      "Model has not improved in -------------| 21 epochs\n"
     ]
    },
    {
     "name": "stderr",
     "output_type": "stream",
     "text": [
      "Train Epoch: 46 [0/1487 (0%)] Loss: 0.428052\n",
      "Train Epoch: 46 [128/1487 (8%)] Loss: 0.338293\n",
      "Train Epoch: 46 [256/1487 (17%)] Loss: 0.489695\n",
      "Train Epoch: 46 [384/1487 (25%)] Loss: 0.429038\n",
      "Train Epoch: 46 [512/1487 (33%)] Loss: 0.317122\n",
      "Train Epoch: 46 [640/1487 (42%)] Loss: 0.541650\n",
      "Train Epoch: 46 [768/1487 (50%)] Loss: 0.485819\n",
      "Train Epoch: 46 [896/1487 (58%)] Loss: 0.405109\n",
      "Train Epoch: 46 [1024/1487 (67%)] Loss: 0.453644\n",
      "Train Epoch: 46 [1152/1487 (75%)] Loss: 0.583170\n",
      "Train Epoch: 46 [1280/1487 (83%)] Loss: 0.536328\n",
      "Train Epoch: 46 [1408/1487 (92%)] Loss: 0.477185\n",
      "    epoch          : 46\n",
      "    loss           : 0.44484283154209453\n",
      "    my_metric      : 0.7904947916666667\n",
      "    f1             : 0.7895388105726009\n",
      "    balanced_accuracy: 0.7961376225170317\n",
      "    precision      : 0.8092011971597125\n",
      "    recall         : 0.7904947916666667\n",
      "    val_loss       : 0.49475704729557035\n",
      "    val_my_metric  : 0.80625\n",
      "    val_f1         : 0.8005843745991831\n",
      "    val_balanced_accuracy: 0.8055338968431947\n",
      "    val_precision  : 0.8279903717680195\n",
      "    val_recall     : 0.80625\n"
     ]
    },
    {
     "name": "stdout",
     "output_type": "stream",
     "text": [
      "Model has not improved in -------------| 22 epochs\n"
     ]
    },
    {
     "name": "stderr",
     "output_type": "stream",
     "text": [
      "Train Epoch: 47 [0/1487 (0%)] Loss: 0.620652\n",
      "Train Epoch: 47 [128/1487 (8%)] Loss: 0.401335\n",
      "Train Epoch: 47 [256/1487 (17%)] Loss: 0.463081\n",
      "Train Epoch: 47 [384/1487 (25%)] Loss: 0.343138\n",
      "Train Epoch: 47 [512/1487 (33%)] Loss: 0.406927\n",
      "Train Epoch: 47 [640/1487 (42%)] Loss: 0.391838\n",
      "Train Epoch: 47 [768/1487 (50%)] Loss: 0.396650\n",
      "Train Epoch: 47 [896/1487 (58%)] Loss: 0.412158\n",
      "Train Epoch: 47 [1024/1487 (67%)] Loss: 0.409672\n",
      "Train Epoch: 47 [1152/1487 (75%)] Loss: 0.419679\n",
      "Train Epoch: 47 [1280/1487 (83%)] Loss: 0.456032\n",
      "Train Epoch: 47 [1408/1487 (92%)] Loss: 0.456395\n",
      "    epoch          : 47\n",
      "    loss           : 0.4143923868735631\n",
      "    my_metric      : 0.8046440972222223\n",
      "    f1             : 0.8041566014195602\n",
      "    balanced_accuracy: 0.8059077732029246\n",
      "    precision      : 0.8145928648859186\n",
      "    recall         : 0.8046440972222223\n",
      "    val_loss       : 0.6149104237556458\n",
      "    val_my_metric  : 0.7083333333333333\n",
      "    val_f1         : 0.6984756285377619\n",
      "    val_balanced_accuracy: 0.6986006471554138\n",
      "    val_precision  : 0.7433253830030455\n",
      "    val_recall     : 0.7083333333333333\n"
     ]
    },
    {
     "name": "stdout",
     "output_type": "stream",
     "text": [
      "Model has not improved in -------------| 23 epochs\n"
     ]
    },
    {
     "name": "stderr",
     "output_type": "stream",
     "text": [
      "Train Epoch: 48 [0/1487 (0%)] Loss: 0.425274\n",
      "Train Epoch: 48 [128/1487 (8%)] Loss: 0.386420\n",
      "Train Epoch: 48 [256/1487 (17%)] Loss: 0.487285\n",
      "Train Epoch: 48 [384/1487 (25%)] Loss: 0.483922\n",
      "Train Epoch: 48 [512/1487 (33%)] Loss: 0.397125\n",
      "Train Epoch: 48 [640/1487 (42%)] Loss: 0.457985\n",
      "Train Epoch: 48 [768/1487 (50%)] Loss: 0.459097\n",
      "Train Epoch: 48 [896/1487 (58%)] Loss: 0.599897\n",
      "Train Epoch: 48 [1024/1487 (67%)] Loss: 0.420574\n",
      "Train Epoch: 48 [1152/1487 (75%)] Loss: 0.391191\n",
      "Train Epoch: 48 [1280/1487 (83%)] Loss: 0.477115\n",
      "Train Epoch: 48 [1408/1487 (92%)] Loss: 0.387686\n",
      "    epoch          : 48\n",
      "    loss           : 0.43840250993768376\n",
      "    my_metric      : 0.7978298611111111\n",
      "    f1             : 0.7974490319808502\n",
      "    balanced_accuracy: 0.7979796740827791\n",
      "    precision      : 0.8054213540395178\n",
      "    recall         : 0.7978298611111111\n",
      "    val_loss       : 0.6026050209999084\n",
      "    val_my_metric  : 0.7333333333333333\n",
      "    val_f1         : 0.7329130562951698\n",
      "    val_balanced_accuracy: 0.7277755240027045\n",
      "    val_precision  : 0.7407969611743119\n",
      "    val_recall     : 0.7333333333333333\n"
     ]
    },
    {
     "name": "stdout",
     "output_type": "stream",
     "text": [
      "Model has not improved in -------------| 24 epochs\n"
     ]
    },
    {
     "name": "stderr",
     "output_type": "stream",
     "text": [
      "Train Epoch: 49 [0/1487 (0%)] Loss: 0.434502\n",
      "Train Epoch: 49 [128/1487 (8%)] Loss: 0.302955\n",
      "Train Epoch: 49 [256/1487 (17%)] Loss: 0.475911\n",
      "Train Epoch: 49 [384/1487 (25%)] Loss: 0.456758\n",
      "Train Epoch: 49 [512/1487 (33%)] Loss: 0.498640\n",
      "Train Epoch: 49 [640/1487 (42%)] Loss: 0.463468\n",
      "Train Epoch: 49 [768/1487 (50%)] Loss: 0.400289\n",
      "Train Epoch: 49 [896/1487 (58%)] Loss: 0.412115\n",
      "Train Epoch: 49 [1024/1487 (67%)] Loss: 0.364743\n",
      "Train Epoch: 49 [1152/1487 (75%)] Loss: 0.413030\n",
      "Train Epoch: 49 [1280/1487 (83%)] Loss: 0.371975\n",
      "Train Epoch: 49 [1408/1487 (92%)] Loss: 0.424086\n",
      "    epoch          : 49\n",
      "    loss           : 0.4218913620958726\n",
      "    my_metric      : 0.8006076388888889\n",
      "    f1             : 0.8006315849808013\n",
      "    balanced_accuracy: 0.8024570160127116\n",
      "    precision      : 0.8064800114515234\n",
      "    recall         : 0.8006076388888889\n",
      "    val_loss       : 0.4883469492197037\n",
      "    val_my_metric  : 0.80625\n",
      "    val_f1         : 0.7989584433019028\n",
      "    val_balanced_accuracy: 0.8089642696158924\n",
      "    val_precision  : 0.8433012611353234\n",
      "    val_recall     : 0.80625\n"
     ]
    },
    {
     "name": "stdout",
     "output_type": "stream",
     "text": [
      "Model has not improved in -------------| 25 epochs\n"
     ]
    },
    {
     "name": "stderr",
     "output_type": "stream",
     "text": [
      "Train Epoch: 50 [0/1487 (0%)] Loss: 0.367774\n",
      "Train Epoch: 50 [128/1487 (8%)] Loss: 0.308373\n",
      "Train Epoch: 50 [256/1487 (17%)] Loss: 0.357349\n",
      "Train Epoch: 50 [384/1487 (25%)] Loss: 0.466985\n",
      "Train Epoch: 50 [512/1487 (33%)] Loss: 0.416007\n",
      "Train Epoch: 50 [640/1487 (42%)] Loss: 0.451906\n",
      "Train Epoch: 50 [768/1487 (50%)] Loss: 0.423430\n",
      "Train Epoch: 50 [896/1487 (58%)] Loss: 0.519664\n",
      "Train Epoch: 50 [1024/1487 (67%)] Loss: 0.428251\n",
      "Train Epoch: 50 [1152/1487 (75%)] Loss: 0.426429\n",
      "Train Epoch: 50 [1280/1487 (83%)] Loss: 0.441960\n",
      "Train Epoch: 50 [1408/1487 (92%)] Loss: 0.560440\n",
      "    epoch          : 50\n",
      "    loss           : 0.4295211434364319\n",
      "    my_metric      : 0.7916232638888889\n",
      "    f1             : 0.7914632686174713\n",
      "    balanced_accuracy: 0.7919276552951113\n",
      "    precision      : 0.8019490763469347\n",
      "    recall         : 0.7916232638888889\n",
      "    val_loss       : 0.4916566789150238\n",
      "    val_my_metric  : 0.8\n",
      "    val_f1         : 0.7996253410567926\n",
      "    val_balanced_accuracy: 0.80050080260641\n",
      "    val_precision  : 0.8032417006529332\n",
      "    val_recall     : 0.8\n"
     ]
    },
    {
     "name": "stdout",
     "output_type": "stream",
     "text": [
      "Model has not improved in -------------| 26 epochs\n"
     ]
    },
    {
     "name": "stderr",
     "output_type": "stream",
     "text": [
      "Train Epoch: 51 [0/1487 (0%)] Loss: 0.423497\n",
      "Train Epoch: 51 [128/1487 (8%)] Loss: 0.411200\n",
      "Train Epoch: 51 [256/1487 (17%)] Loss: 0.418469\n",
      "Train Epoch: 51 [384/1487 (25%)] Loss: 0.550686\n",
      "Train Epoch: 51 [512/1487 (33%)] Loss: 0.327729\n",
      "Train Epoch: 51 [640/1487 (42%)] Loss: 0.300798\n",
      "Train Epoch: 51 [768/1487 (50%)] Loss: 0.412839\n",
      "Train Epoch: 51 [896/1487 (58%)] Loss: 0.491636\n",
      "Train Epoch: 51 [1024/1487 (67%)] Loss: 0.493955\n",
      "Train Epoch: 51 [1152/1487 (75%)] Loss: 0.473268\n",
      "Train Epoch: 51 [1280/1487 (83%)] Loss: 0.386960\n",
      "Train Epoch: 51 [1408/1487 (92%)] Loss: 0.378070\n",
      "    epoch          : 51\n",
      "    loss           : 0.43101385856668156\n",
      "    my_metric      : 0.7944010416666667\n",
      "    f1             : 0.794097692104772\n",
      "    balanced_accuracy: 0.7979615772546967\n",
      "    precision      : 0.8056659933838487\n",
      "    recall         : 0.7944010416666667\n",
      "    val_loss       : 0.5059270203113556\n",
      "    val_my_metric  : 0.8072916666666666\n",
      "    val_f1         : 0.8069159400849542\n",
      "    val_balanced_accuracy: 0.816465660993895\n",
      "    val_precision  : 0.8249006363203076\n",
      "    val_recall     : 0.8072916666666666\n"
     ]
    },
    {
     "name": "stdout",
     "output_type": "stream",
     "text": [
      "Model has not improved in -------------| 27 epochs\n"
     ]
    },
    {
     "name": "stderr",
     "output_type": "stream",
     "text": [
      "Train Epoch: 52 [0/1487 (0%)] Loss: 0.562883\n",
      "Train Epoch: 52 [128/1487 (8%)] Loss: 0.412338\n",
      "Train Epoch: 52 [256/1487 (17%)] Loss: 0.323772\n",
      "Train Epoch: 52 [384/1487 (25%)] Loss: 0.514376\n",
      "Train Epoch: 52 [512/1487 (33%)] Loss: 0.443508\n",
      "Train Epoch: 52 [640/1487 (42%)] Loss: 0.482267\n",
      "Train Epoch: 52 [768/1487 (50%)] Loss: 0.360962\n",
      "Train Epoch: 52 [896/1487 (58%)] Loss: 0.442535\n",
      "Train Epoch: 52 [1024/1487 (67%)] Loss: 0.411593\n",
      "Train Epoch: 52 [1152/1487 (75%)] Loss: 0.421563\n",
      "Train Epoch: 52 [1280/1487 (83%)] Loss: 0.402076\n",
      "Train Epoch: 52 [1408/1487 (92%)] Loss: 0.357148\n",
      "    epoch          : 52\n",
      "    loss           : 0.42804375290870667\n",
      "    my_metric      : 0.8106770833333333\n",
      "    f1             : 0.8113303500946665\n",
      "    balanced_accuracy: 0.8147350609092091\n",
      "    precision      : 0.8214101897565222\n",
      "    recall         : 0.8106770833333333\n",
      "    val_loss       : 0.632152509689331\n",
      "    val_my_metric  : 0.7239583333333333\n",
      "    val_f1         : 0.7212259667771026\n",
      "    val_balanced_accuracy: 0.7441555977229601\n",
      "    val_precision  : 0.7760284312241776\n",
      "    val_recall     : 0.7239583333333333\n"
     ]
    },
    {
     "name": "stdout",
     "output_type": "stream",
     "text": [
      "Model has not improved in -------------| 28 epochs\n"
     ]
    },
    {
     "name": "stderr",
     "output_type": "stream",
     "text": [
      "Train Epoch: 53 [0/1487 (0%)] Loss: 0.339742\n",
      "Train Epoch: 53 [128/1487 (8%)] Loss: 0.341294\n",
      "Train Epoch: 53 [256/1487 (17%)] Loss: 0.504658\n",
      "Train Epoch: 53 [384/1487 (25%)] Loss: 0.303650\n",
      "Train Epoch: 53 [512/1487 (33%)] Loss: 0.466444\n",
      "Train Epoch: 53 [640/1487 (42%)] Loss: 0.341851\n",
      "Train Epoch: 53 [768/1487 (50%)] Loss: 0.590116\n",
      "Train Epoch: 53 [896/1487 (58%)] Loss: 0.459278\n",
      "Train Epoch: 53 [1024/1487 (67%)] Loss: 0.400958\n",
      "Train Epoch: 53 [1152/1487 (75%)] Loss: 0.467592\n",
      "Train Epoch: 53 [1280/1487 (83%)] Loss: 0.512672\n",
      "Train Epoch: 53 [1408/1487 (92%)] Loss: 0.354566\n",
      "    epoch          : 53\n",
      "    loss           : 0.41353395705421764\n",
      "    my_metric      : 0.8020399305555556\n",
      "    f1             : 0.8005774216284979\n",
      "    balanced_accuracy: 0.7990700395867435\n",
      "    precision      : 0.8095562703938515\n",
      "    recall         : 0.8020399305555556\n",
      "    val_loss       : 0.48169161677360534\n",
      "    val_my_metric  : 0.78125\n",
      "    val_f1         : 0.7807504847245309\n",
      "    val_balanced_accuracy: 0.7831303397932986\n",
      "    val_precision  : 0.788607423985183\n",
      "    val_recall     : 0.78125\n"
     ]
    },
    {
     "name": "stdout",
     "output_type": "stream",
     "text": [
      "Model has not improved in -------------| 29 epochs\n"
     ]
    },
    {
     "name": "stderr",
     "output_type": "stream",
     "text": [
      "Train Epoch: 54 [0/1487 (0%)] Loss: 0.356751\n",
      "Train Epoch: 54 [128/1487 (8%)] Loss: 0.335073\n",
      "Train Epoch: 54 [256/1487 (17%)] Loss: 0.450643\n",
      "Train Epoch: 54 [384/1487 (25%)] Loss: 0.355345\n",
      "Train Epoch: 54 [512/1487 (33%)] Loss: 0.409664\n",
      "Train Epoch: 54 [640/1487 (42%)] Loss: 0.452460\n",
      "Train Epoch: 54 [768/1487 (50%)] Loss: 0.364910\n",
      "Train Epoch: 54 [896/1487 (58%)] Loss: 0.464580\n",
      "Train Epoch: 54 [1024/1487 (67%)] Loss: 0.437042\n",
      "Train Epoch: 54 [1152/1487 (75%)] Loss: 0.373416\n",
      "Train Epoch: 54 [1280/1487 (83%)] Loss: 0.421931\n",
      "Train Epoch: 54 [1408/1487 (92%)] Loss: 0.403073\n",
      "    epoch          : 54\n",
      "    loss           : 0.39986931905150414\n",
      "    my_metric      : 0.8142795138888889\n",
      "    f1             : 0.8141389885618211\n",
      "    balanced_accuracy: 0.8139579620278768\n",
      "    precision      : 0.8204318638153304\n",
      "    recall         : 0.8142795138888889\n",
      "    val_loss       : 0.5342833995819092\n",
      "    val_my_metric  : 0.7791666666666667\n",
      "    val_f1         : 0.7834016966829467\n",
      "    val_balanced_accuracy: 0.7908994258835309\n",
      "    val_precision  : 0.7995193274393418\n",
      "    val_recall     : 0.7791666666666667\n"
     ]
    },
    {
     "name": "stdout",
     "output_type": "stream",
     "text": [
      "Model has not improved in -------------| 30 epochs\n"
     ]
    },
    {
     "name": "stderr",
     "output_type": "stream",
     "text": [
      "Train Epoch: 55 [0/1487 (0%)] Loss: 0.429014\n",
      "Train Epoch: 55 [128/1487 (8%)] Loss: 0.375504\n",
      "Train Epoch: 55 [256/1487 (17%)] Loss: 0.397486\n",
      "Train Epoch: 55 [384/1487 (25%)] Loss: 0.390050\n",
      "Train Epoch: 55 [512/1487 (33%)] Loss: 0.457404\n",
      "Train Epoch: 55 [640/1487 (42%)] Loss: 0.399367\n",
      "Train Epoch: 55 [768/1487 (50%)] Loss: 0.459386\n",
      "Train Epoch: 55 [896/1487 (58%)] Loss: 0.368483\n",
      "Train Epoch: 55 [1024/1487 (67%)] Loss: 0.358380\n",
      "Train Epoch: 55 [1152/1487 (75%)] Loss: 0.539816\n",
      "Train Epoch: 55 [1280/1487 (83%)] Loss: 0.401540\n",
      "Train Epoch: 55 [1408/1487 (92%)] Loss: 0.398270\n",
      "    epoch          : 55\n",
      "    loss           : 0.3975588170190652\n",
      "    my_metric      : 0.8227430555555556\n",
      "    f1             : 0.8224024902522928\n",
      "    balanced_accuracy: 0.8232574809525741\n",
      "    precision      : 0.8328374707674239\n",
      "    recall         : 0.8227430555555556\n",
      "    val_loss       : 0.5872996091842652\n",
      "    val_my_metric  : 0.71875\n",
      "    val_f1         : 0.7042085396235865\n",
      "    val_balanced_accuracy: 0.6956207467972174\n",
      "    val_precision  : 0.7202823590882802\n",
      "    val_recall     : 0.71875\n"
     ]
    },
    {
     "name": "stdout",
     "output_type": "stream",
     "text": [
      "Model has not improved in -------------| 31 epochs\n"
     ]
    },
    {
     "name": "stderr",
     "output_type": "stream",
     "text": [
      "Train Epoch: 56 [0/1487 (0%)] Loss: 0.411654\n",
      "Train Epoch: 56 [128/1487 (8%)] Loss: 0.386675\n",
      "Train Epoch: 56 [256/1487 (17%)] Loss: 0.526182\n",
      "Train Epoch: 56 [384/1487 (25%)] Loss: 0.342195\n",
      "Train Epoch: 56 [512/1487 (33%)] Loss: 0.356700\n",
      "Train Epoch: 56 [640/1487 (42%)] Loss: 0.354596\n",
      "Train Epoch: 56 [768/1487 (50%)] Loss: 0.353899\n",
      "Train Epoch: 56 [896/1487 (58%)] Loss: 0.388165\n",
      "Train Epoch: 56 [1024/1487 (67%)] Loss: 0.428173\n",
      "Train Epoch: 56 [1152/1487 (75%)] Loss: 0.378551\n",
      "Train Epoch: 56 [1280/1487 (83%)] Loss: 0.367225\n",
      "Train Epoch: 56 [1408/1487 (92%)] Loss: 0.381435\n",
      "    epoch          : 56\n",
      "    loss           : 0.41586434841156006\n",
      "    my_metric      : 0.8083767361111112\n",
      "    f1             : 0.8078880063530308\n",
      "    balanced_accuracy: 0.8090168906235554\n",
      "    precision      : 0.8139437459625167\n",
      "    recall         : 0.8083767361111112\n",
      "    val_loss       : 0.5051927447319031\n",
      "    val_my_metric  : 0.7510416666666667\n",
      "    val_f1         : 0.7551359613768176\n",
      "    val_balanced_accuracy: 0.7650993375611372\n",
      "    val_precision  : 0.7711810661764706\n",
      "    val_recall     : 0.7510416666666667\n"
     ]
    },
    {
     "name": "stdout",
     "output_type": "stream",
     "text": [
      "Model has not improved in -------------| 32 epochs\n"
     ]
    },
    {
     "name": "stderr",
     "output_type": "stream",
     "text": [
      "Train Epoch: 57 [0/1487 (0%)] Loss: 0.329058\n",
      "Train Epoch: 57 [128/1487 (8%)] Loss: 0.409580\n",
      "Train Epoch: 57 [256/1487 (17%)] Loss: 0.415709\n",
      "Train Epoch: 57 [384/1487 (25%)] Loss: 0.433734\n",
      "Train Epoch: 57 [512/1487 (33%)] Loss: 0.468873\n",
      "Train Epoch: 57 [640/1487 (42%)] Loss: 0.330456\n",
      "Train Epoch: 57 [768/1487 (50%)] Loss: 0.324718\n",
      "Train Epoch: 57 [896/1487 (58%)] Loss: 0.380336\n",
      "Train Epoch: 57 [1024/1487 (67%)] Loss: 0.455173\n",
      "Train Epoch: 57 [1152/1487 (75%)] Loss: 0.406200\n",
      "Train Epoch: 57 [1280/1487 (83%)] Loss: 0.421744\n",
      "Train Epoch: 57 [1408/1487 (92%)] Loss: 0.340887\n",
      "    epoch          : 57\n",
      "    loss           : 0.40051661680142087\n",
      "    my_metric      : 0.8098524305555556\n",
      "    f1             : 0.8098746328439065\n",
      "    balanced_accuracy: 0.8124745397558222\n",
      "    precision      : 0.817232725321878\n",
      "    recall         : 0.8098524305555556\n",
      "    val_loss       : 0.6311821520328522\n",
      "    val_my_metric  : 0.7697916666666667\n",
      "    val_f1         : 0.766893455711711\n",
      "    val_balanced_accuracy: 0.7680698471975695\n",
      "    val_precision  : 0.7866997867579508\n",
      "    val_recall     : 0.7697916666666667\n"
     ]
    },
    {
     "name": "stdout",
     "output_type": "stream",
     "text": [
      "Model has not improved in -------------| 33 epochs\n"
     ]
    },
    {
     "name": "stderr",
     "output_type": "stream",
     "text": [
      "Train Epoch: 58 [0/1487 (0%)] Loss: 0.472809\n",
      "Train Epoch: 58 [128/1487 (8%)] Loss: 0.383024\n",
      "Train Epoch: 58 [256/1487 (17%)] Loss: 0.327953\n",
      "Train Epoch: 58 [384/1487 (25%)] Loss: 0.353552\n",
      "Train Epoch: 58 [512/1487 (33%)] Loss: 0.571247\n",
      "Train Epoch: 58 [640/1487 (42%)] Loss: 0.290415\n",
      "Train Epoch: 58 [768/1487 (50%)] Loss: 0.423033\n",
      "Train Epoch: 58 [896/1487 (58%)] Loss: 0.434806\n",
      "Train Epoch: 58 [1024/1487 (67%)] Loss: 0.311454\n",
      "Train Epoch: 58 [1152/1487 (75%)] Loss: 0.429477\n",
      "Train Epoch: 58 [1280/1487 (83%)] Loss: 0.445149\n",
      "Train Epoch: 58 [1408/1487 (92%)] Loss: 0.456518\n",
      "    epoch          : 58\n",
      "    loss           : 0.40847936024268466\n",
      "    my_metric      : 0.8103298611111112\n",
      "    f1             : 0.8102964060165804\n",
      "    balanced_accuracy: 0.8135785569806785\n",
      "    precision      : 0.8199322677933877\n",
      "    recall         : 0.8103298611111112\n",
      "    val_loss       : 0.7757838845252991\n",
      "    val_my_metric  : 0.7458333333333333\n",
      "    val_f1         : 0.7451738669419752\n",
      "    val_balanced_accuracy: 0.734580787684236\n",
      "    val_precision  : 0.7505590218239083\n",
      "    val_recall     : 0.7458333333333333\n"
     ]
    },
    {
     "name": "stdout",
     "output_type": "stream",
     "text": [
      "Model has not improved in -------------| 34 epochs\n"
     ]
    },
    {
     "name": "stderr",
     "output_type": "stream",
     "text": [
      "Train Epoch: 59 [0/1487 (0%)] Loss: 0.398287\n",
      "Train Epoch: 59 [128/1487 (8%)] Loss: 0.404708\n",
      "Train Epoch: 59 [256/1487 (17%)] Loss: 0.342073\n",
      "Train Epoch: 59 [384/1487 (25%)] Loss: 0.369835\n",
      "Train Epoch: 59 [512/1487 (33%)] Loss: 0.336080\n",
      "Train Epoch: 59 [640/1487 (42%)] Loss: 0.447563\n",
      "Train Epoch: 59 [768/1487 (50%)] Loss: 0.407039\n",
      "Train Epoch: 59 [896/1487 (58%)] Loss: 0.414229\n",
      "Train Epoch: 59 [1024/1487 (67%)] Loss: 0.601605\n",
      "Train Epoch: 59 [1152/1487 (75%)] Loss: 0.483012\n",
      "Train Epoch: 59 [1280/1487 (83%)] Loss: 0.435092\n",
      "Train Epoch: 59 [1408/1487 (92%)] Loss: 0.354307\n",
      "    epoch          : 59\n",
      "    loss           : 0.41031608171761036\n",
      "    my_metric      : 0.8148871527777778\n",
      "    f1             : 0.8149957873345453\n",
      "    balanced_accuracy: 0.8170387515188628\n",
      "    precision      : 0.825437422642345\n",
      "    recall         : 0.8148871527777778\n",
      "    val_loss       : 0.5429624438285827\n",
      "    val_my_metric  : 0.7760416666666667\n",
      "    val_f1         : 0.7713818030310828\n",
      "    val_balanced_accuracy: 0.7600473695225216\n",
      "    val_precision  : 0.7876906170725143\n",
      "    val_recall     : 0.7760416666666667\n"
     ]
    },
    {
     "name": "stdout",
     "output_type": "stream",
     "text": [
      "Model has not improved in -------------| 35 epochs\n"
     ]
    },
    {
     "name": "stderr",
     "output_type": "stream",
     "text": [
      "Train Epoch: 60 [0/1487 (0%)] Loss: 0.394316\n",
      "Train Epoch: 60 [128/1487 (8%)] Loss: 0.373987\n",
      "Train Epoch: 60 [256/1487 (17%)] Loss: 0.448186\n",
      "Train Epoch: 60 [384/1487 (25%)] Loss: 0.443192\n",
      "Train Epoch: 60 [512/1487 (33%)] Loss: 0.392988\n",
      "Train Epoch: 60 [640/1487 (42%)] Loss: 0.469682\n",
      "Train Epoch: 60 [768/1487 (50%)] Loss: 0.449734\n",
      "Train Epoch: 60 [896/1487 (58%)] Loss: 0.334662\n",
      "Train Epoch: 60 [1024/1487 (67%)] Loss: 0.510271\n",
      "Train Epoch: 60 [1152/1487 (75%)] Loss: 0.408775\n",
      "Train Epoch: 60 [1280/1487 (83%)] Loss: 0.434933\n",
      "Train Epoch: 60 [1408/1487 (92%)] Loss: 0.304474\n",
      "    epoch          : 60\n",
      "    loss           : 0.39711661140124005\n",
      "    my_metric      : 0.8084201388888889\n",
      "    f1             : 0.8080498793628857\n",
      "    balanced_accuracy: 0.8084859784389171\n",
      "    precision      : 0.8138546029964085\n",
      "    recall         : 0.8084201388888889\n",
      "    val_loss       : 0.5165271162986755\n",
      "    val_my_metric  : 0.7354166666666667\n",
      "    val_f1         : 0.7377293543523382\n",
      "    val_balanced_accuracy: 0.7529446335722315\n",
      "    val_precision  : 0.7703637345089551\n",
      "    val_recall     : 0.7354166666666667\n"
     ]
    },
    {
     "name": "stdout",
     "output_type": "stream",
     "text": [
      "Model has not improved in -------------| 36 epochs\n"
     ]
    },
    {
     "name": "stderr",
     "output_type": "stream",
     "text": [
      "Train Epoch: 61 [0/1487 (0%)] Loss: 0.363357\n",
      "Train Epoch: 61 [128/1487 (8%)] Loss: 0.508947\n",
      "Train Epoch: 61 [256/1487 (17%)] Loss: 0.379626\n",
      "Train Epoch: 61 [384/1487 (25%)] Loss: 0.279668\n",
      "Train Epoch: 61 [512/1487 (33%)] Loss: 0.453438\n",
      "Train Epoch: 61 [640/1487 (42%)] Loss: 0.352939\n",
      "Train Epoch: 61 [768/1487 (50%)] Loss: 0.431859\n",
      "Train Epoch: 61 [896/1487 (58%)] Loss: 0.459838\n",
      "Train Epoch: 61 [1024/1487 (67%)] Loss: 0.422357\n",
      "Train Epoch: 61 [1152/1487 (75%)] Loss: 0.391767\n",
      "Train Epoch: 61 [1280/1487 (83%)] Loss: 0.468162\n",
      "Train Epoch: 61 [1408/1487 (92%)] Loss: 0.478134\n",
      "/home/awoloshu/miniconda3/envs/pytorch36/lib/python3.6/site-packages/sklearn/metrics/classification.py:1143: UndefinedMetricWarning: F-score is ill-defined and being set to 0.0 in labels with no predicted samples.\n",
      "  'precision', 'predicted', average, warn_for)\n",
      "/home/awoloshu/miniconda3/envs/pytorch36/lib/python3.6/site-packages/sklearn/metrics/classification.py:1143: UndefinedMetricWarning: Precision is ill-defined and being set to 0.0 in labels with no predicted samples.\n",
      "  'precision', 'predicted', average, warn_for)\n",
      "    epoch          : 61\n",
      "    loss           : 0.4032914837201436\n",
      "    my_metric      : 0.8201388888888889\n",
      "    f1             : 0.8199609747799358\n",
      "    balanced_accuracy: 0.820979716841067\n",
      "    precision      : 0.8260568325636415\n",
      "    recall         : 0.8201388888888889\n",
      "    val_loss       : 0.5826876819133758\n",
      "    val_my_metric  : 0.628125\n",
      "    val_f1         : 0.580734408831399\n",
      "    val_balanced_accuracy: 0.6314280349526749\n",
      "    val_precision  : 0.6205140925231872\n",
      "    val_recall     : 0.628125\n"
     ]
    },
    {
     "name": "stdout",
     "output_type": "stream",
     "text": [
      "Model has not improved in -------------| 37 epochs\n"
     ]
    },
    {
     "name": "stderr",
     "output_type": "stream",
     "text": [
      "Train Epoch: 62 [0/1487 (0%)] Loss: 0.296923\n",
      "Train Epoch: 62 [128/1487 (8%)] Loss: 0.489742\n",
      "Train Epoch: 62 [256/1487 (17%)] Loss: 0.370519\n",
      "Train Epoch: 62 [384/1487 (25%)] Loss: 0.365645\n",
      "Train Epoch: 62 [512/1487 (33%)] Loss: 0.344078\n",
      "Train Epoch: 62 [640/1487 (42%)] Loss: 0.317539\n",
      "Train Epoch: 62 [768/1487 (50%)] Loss: 0.345012\n",
      "Train Epoch: 62 [896/1487 (58%)] Loss: 0.353881\n",
      "Train Epoch: 62 [1024/1487 (67%)] Loss: 0.387435\n",
      "Train Epoch: 62 [1152/1487 (75%)] Loss: 0.422505\n",
      "Train Epoch: 62 [1280/1487 (83%)] Loss: 0.355168\n",
      "Train Epoch: 62 [1408/1487 (92%)] Loss: 0.297756\n",
      "    epoch          : 62\n",
      "    loss           : 0.39122163876891136\n",
      "    my_metric      : 0.8127604166666668\n",
      "    f1             : 0.8127911364748303\n",
      "    balanced_accuracy: 0.814860950279953\n",
      "    precision      : 0.822241774056306\n",
      "    recall         : 0.8127604166666668\n",
      "    val_loss       : 0.5272528648376464\n",
      "    val_my_metric  : 0.7072916666666667\n",
      "    val_f1         : 0.7017446652080432\n",
      "    val_balanced_accuracy: 0.7189836243868502\n",
      "    val_precision  : 0.7468189253447907\n",
      "    val_recall     : 0.7072916666666667\n"
     ]
    },
    {
     "name": "stdout",
     "output_type": "stream",
     "text": [
      "Model has not improved in -------------| 38 epochs\n"
     ]
    },
    {
     "name": "stderr",
     "output_type": "stream",
     "text": [
      "Train Epoch: 63 [0/1487 (0%)] Loss: 0.363587\n",
      "Train Epoch: 63 [128/1487 (8%)] Loss: 0.367141\n",
      "Train Epoch: 63 [256/1487 (17%)] Loss: 0.342516\n",
      "Train Epoch: 63 [384/1487 (25%)] Loss: 0.335690\n",
      "Train Epoch: 63 [512/1487 (33%)] Loss: 0.475642\n",
      "Train Epoch: 63 [640/1487 (42%)] Loss: 0.571947\n",
      "Train Epoch: 63 [768/1487 (50%)] Loss: 0.373441\n",
      "Train Epoch: 63 [896/1487 (58%)] Loss: 0.323025\n",
      "Train Epoch: 63 [1024/1487 (67%)] Loss: 0.513540\n",
      "Train Epoch: 63 [1152/1487 (75%)] Loss: 0.529283\n",
      "Train Epoch: 63 [1280/1487 (83%)] Loss: 0.577745\n",
      "Train Epoch: 63 [1408/1487 (92%)] Loss: 0.350817\n",
      "    epoch          : 63\n",
      "    loss           : 0.40023448194066685\n",
      "    my_metric      : 0.8132812500000001\n",
      "    f1             : 0.8125802607907179\n",
      "    balanced_accuracy: 0.8127301427727658\n",
      "    precision      : 0.8210488622818087\n",
      "    recall         : 0.8132812500000001\n",
      "    val_loss       : 0.6243726313114166\n",
      "    val_my_metric  : 0.7739583333333333\n",
      "    val_f1         : 0.7729073204780484\n",
      "    val_balanced_accuracy: 0.7215969606233299\n",
      "    val_precision  : 0.7826916599857776\n",
      "    val_recall     : 0.7739583333333333\n"
     ]
    },
    {
     "name": "stdout",
     "output_type": "stream",
     "text": [
      "Model has not improved in -------------| 39 epochs\n"
     ]
    },
    {
     "name": "stderr",
     "output_type": "stream",
     "text": [
      "Train Epoch: 64 [0/1487 (0%)] Loss: 0.370565\n",
      "Train Epoch: 64 [128/1487 (8%)] Loss: 0.393039\n",
      "Train Epoch: 64 [256/1487 (17%)] Loss: 0.418061\n",
      "Train Epoch: 64 [384/1487 (25%)] Loss: 0.442262\n",
      "Train Epoch: 64 [512/1487 (33%)] Loss: 0.361336\n",
      "Train Epoch: 64 [640/1487 (42%)] Loss: 0.385316\n",
      "Train Epoch: 64 [768/1487 (50%)] Loss: 0.315253\n",
      "Train Epoch: 64 [896/1487 (58%)] Loss: 0.321991\n",
      "Train Epoch: 64 [1024/1487 (67%)] Loss: 0.450854\n",
      "Train Epoch: 64 [1152/1487 (75%)] Loss: 0.465028\n",
      "Train Epoch: 64 [1280/1487 (83%)] Loss: 0.439072\n",
      "Train Epoch: 64 [1408/1487 (92%)] Loss: 0.358720\n",
      "    epoch          : 64\n",
      "    loss           : 0.40508916477362317\n",
      "    my_metric      : 0.8088975694444445\n",
      "    f1             : 0.8096499225108036\n",
      "    balanced_accuracy: 0.8110876397070291\n",
      "    precision      : 0.8182648326104371\n",
      "    recall         : 0.8088975694444445\n",
      "    val_loss       : 0.6754478931427002\n",
      "    val_my_metric  : 0.7239583333333333\n",
      "    val_f1         : 0.7231845563718597\n",
      "    val_balanced_accuracy: 0.723125990157414\n",
      "    val_precision  : 0.725824205293052\n",
      "    val_recall     : 0.7239583333333333\n"
     ]
    },
    {
     "name": "stdout",
     "output_type": "stream",
     "text": [
      "Model has not improved in -------------| 40 epochs\n"
     ]
    },
    {
     "name": "stderr",
     "output_type": "stream",
     "text": [
      "Train Epoch: 65 [0/1487 (0%)] Loss: 0.315336\n",
      "Train Epoch: 65 [128/1487 (8%)] Loss: 0.405130\n",
      "Train Epoch: 65 [256/1487 (17%)] Loss: 0.308681\n",
      "Train Epoch: 65 [384/1487 (25%)] Loss: 0.369175\n",
      "Train Epoch: 65 [512/1487 (33%)] Loss: 0.482267\n",
      "Train Epoch: 65 [640/1487 (42%)] Loss: 0.390467\n",
      "Train Epoch: 65 [768/1487 (50%)] Loss: 0.402392\n",
      "Train Epoch: 65 [896/1487 (58%)] Loss: 0.379732\n",
      "Train Epoch: 65 [1024/1487 (67%)] Loss: 0.422784\n",
      "Train Epoch: 65 [1152/1487 (75%)] Loss: 0.504665\n",
      "Train Epoch: 65 [1280/1487 (83%)] Loss: 0.369119\n",
      "Train Epoch: 65 [1408/1487 (92%)] Loss: 0.288978\n",
      "    epoch          : 65\n",
      "    loss           : 0.3746725954115391\n",
      "    my_metric      : 0.8329861111111111\n",
      "    f1             : 0.8330350584953693\n",
      "    balanced_accuracy: 0.8339079381033391\n",
      "    precision      : 0.8398658931837489\n",
      "    recall         : 0.8329861111111111\n",
      "    val_loss       : 0.550337040424347\n",
      "    val_my_metric  : 0.7520833333333333\n",
      "    val_f1         : 0.7518122139057384\n",
      "    val_balanced_accuracy: 0.7680515913261856\n",
      "    val_precision  : 0.7882653290028021\n",
      "    val_recall     : 0.7520833333333333\n"
     ]
    },
    {
     "name": "stdout",
     "output_type": "stream",
     "text": [
      "Model has not improved in -------------| 41 epochs\n"
     ]
    },
    {
     "name": "stderr",
     "output_type": "stream",
     "text": [
      "Train Epoch: 66 [0/1487 (0%)] Loss: 0.220039\n",
      "Train Epoch: 66 [128/1487 (8%)] Loss: 0.493383\n",
      "Train Epoch: 66 [256/1487 (17%)] Loss: 0.411060\n",
      "Train Epoch: 66 [384/1487 (25%)] Loss: 0.284255\n",
      "Train Epoch: 66 [512/1487 (33%)] Loss: 0.479487\n",
      "Train Epoch: 66 [640/1487 (42%)] Loss: 0.437800\n",
      "Train Epoch: 66 [768/1487 (50%)] Loss: 0.368101\n",
      "Train Epoch: 66 [896/1487 (58%)] Loss: 0.330639\n",
      "Train Epoch: 66 [1024/1487 (67%)] Loss: 0.726268\n",
      "Train Epoch: 66 [1152/1487 (75%)] Loss: 0.447831\n",
      "Train Epoch: 66 [1280/1487 (83%)] Loss: 0.406199\n",
      "Train Epoch: 66 [1408/1487 (92%)] Loss: 0.510540\n",
      "    epoch          : 66\n",
      "    loss           : 0.39716391637921333\n",
      "    my_metric      : 0.8269531250000001\n",
      "    f1             : 0.8272620180032964\n",
      "    balanced_accuracy: 0.8295504300449307\n",
      "    precision      : 0.8352317130488943\n",
      "    recall         : 0.8269531250000001\n",
      "    val_loss       : 0.5212717473506927\n",
      "    val_my_metric  : 0.7875\n",
      "    val_f1         : 0.7877893683118758\n",
      "    val_balanced_accuracy: 0.7877491550461516\n",
      "    val_precision  : 0.7921298532099648\n",
      "    val_recall     : 0.7875\n"
     ]
    },
    {
     "name": "stdout",
     "output_type": "stream",
     "text": [
      "Model has not improved in -------------| 42 epochs\n"
     ]
    },
    {
     "name": "stderr",
     "output_type": "stream",
     "text": [
      "Train Epoch: 67 [0/1487 (0%)] Loss: 0.412268\n",
      "Train Epoch: 67 [128/1487 (8%)] Loss: 0.428292\n",
      "Train Epoch: 67 [256/1487 (17%)] Loss: 0.308168\n",
      "Train Epoch: 67 [384/1487 (25%)] Loss: 0.308940\n",
      "Train Epoch: 67 [512/1487 (33%)] Loss: 0.432513\n",
      "Train Epoch: 67 [640/1487 (42%)] Loss: 0.362838\n",
      "Train Epoch: 67 [768/1487 (50%)] Loss: 0.384413\n",
      "Train Epoch: 67 [896/1487 (58%)] Loss: 0.428360\n",
      "Train Epoch: 67 [1024/1487 (67%)] Loss: 0.372093\n",
      "Train Epoch: 67 [1152/1487 (75%)] Loss: 0.586227\n",
      "Train Epoch: 67 [1280/1487 (83%)] Loss: 0.368587\n",
      "Train Epoch: 67 [1408/1487 (92%)] Loss: 0.387441\n",
      "    epoch          : 67\n",
      "    loss           : 0.41897284363706905\n",
      "    my_metric      : 0.7907552083333332\n",
      "    f1             : 0.7877135315027545\n",
      "    balanced_accuracy: 0.7930633032343225\n",
      "    precision      : 0.7992612744678222\n",
      "    recall         : 0.7907552083333332\n",
      "    val_loss       : 0.6958316028118133\n",
      "    val_my_metric  : 0.703125\n",
      "    val_f1         : 0.693502042198746\n",
      "    val_balanced_accuracy: 0.7268824391926858\n",
      "    val_precision  : 0.7655255660518818\n",
      "    val_recall     : 0.703125\n"
     ]
    },
    {
     "name": "stdout",
     "output_type": "stream",
     "text": [
      "Model has not improved in -------------| 43 epochs\n"
     ]
    },
    {
     "name": "stderr",
     "output_type": "stream",
     "text": [
      "Train Epoch: 68 [0/1487 (0%)] Loss: 0.383003\n",
      "Train Epoch: 68 [128/1487 (8%)] Loss: 0.343855\n",
      "Train Epoch: 68 [256/1487 (17%)] Loss: 0.414164\n",
      "Train Epoch: 68 [384/1487 (25%)] Loss: 0.370462\n",
      "Train Epoch: 68 [512/1487 (33%)] Loss: 0.399996\n",
      "Train Epoch: 68 [640/1487 (42%)] Loss: 0.460306\n",
      "Train Epoch: 68 [768/1487 (50%)] Loss: 0.423759\n",
      "Train Epoch: 68 [896/1487 (58%)] Loss: 0.340856\n",
      "Train Epoch: 68 [1024/1487 (67%)] Loss: 0.262320\n",
      "Train Epoch: 68 [1152/1487 (75%)] Loss: 0.424008\n",
      "Train Epoch: 68 [1280/1487 (83%)] Loss: 0.375116\n",
      "Train Epoch: 68 [1408/1487 (92%)] Loss: 0.393102\n",
      "    epoch          : 68\n",
      "    loss           : 0.37941489554941654\n",
      "    my_metric      : 0.8199652777777778\n",
      "    f1             : 0.8189697536544386\n",
      "    balanced_accuracy: 0.8179131681939108\n",
      "    precision      : 0.827634462425516\n",
      "    recall         : 0.8199652777777778\n",
      "    val_loss       : 0.5994033575057983\n",
      "    val_my_metric  : 0.7333333333333333\n",
      "    val_f1         : 0.7335726525815182\n",
      "    val_balanced_accuracy: 0.7515312075653633\n",
      "    val_precision  : 0.7710716794799818\n",
      "    val_recall     : 0.7333333333333333\n"
     ]
    },
    {
     "name": "stdout",
     "output_type": "stream",
     "text": [
      "Model has not improved in -------------| 44 epochs\n"
     ]
    },
    {
     "name": "stderr",
     "output_type": "stream",
     "text": [
      "Train Epoch: 69 [0/1487 (0%)] Loss: 0.310158\n",
      "Train Epoch: 69 [128/1487 (8%)] Loss: 0.521903\n",
      "Train Epoch: 69 [256/1487 (17%)] Loss: 0.411316\n",
      "Train Epoch: 69 [384/1487 (25%)] Loss: 0.376056\n",
      "Train Epoch: 69 [512/1487 (33%)] Loss: 0.398128\n",
      "Train Epoch: 69 [640/1487 (42%)] Loss: 0.357058\n",
      "Train Epoch: 69 [768/1487 (50%)] Loss: 0.415259\n",
      "Train Epoch: 69 [896/1487 (58%)] Loss: 0.319078\n",
      "Train Epoch: 69 [1024/1487 (67%)] Loss: 0.501114\n",
      "Train Epoch: 69 [1152/1487 (75%)] Loss: 0.421413\n",
      "Train Epoch: 69 [1280/1487 (83%)] Loss: 0.431111\n",
      "Train Epoch: 69 [1408/1487 (92%)] Loss: 0.400089\n",
      "    epoch          : 69\n",
      "    loss           : 0.3974188603460789\n",
      "    my_metric      : 0.8077256944444445\n",
      "    f1             : 0.808169758794579\n",
      "    balanced_accuracy: 0.8143590138541832\n",
      "    precision      : 0.8259946086937845\n",
      "    recall         : 0.8077256944444445\n",
      "    val_loss       : 0.5567057728767395\n",
      "    val_my_metric  : 0.7239583333333333\n",
      "    val_f1         : 0.7246192704317076\n",
      "    val_balanced_accuracy: 0.7267693060707766\n",
      "    val_precision  : 0.7312088932423004\n",
      "    val_recall     : 0.7239583333333333\n"
     ]
    },
    {
     "name": "stdout",
     "output_type": "stream",
     "text": [
      "Model has not improved in -------------| 45 epochs\n"
     ]
    },
    {
     "name": "stderr",
     "output_type": "stream",
     "text": [
      "Train Epoch: 70 [0/1487 (0%)] Loss: 0.262338\n",
      "Train Epoch: 70 [128/1487 (8%)] Loss: 0.398329\n",
      "Train Epoch: 70 [256/1487 (17%)] Loss: 0.300609\n",
      "Train Epoch: 70 [384/1487 (25%)] Loss: 0.457547\n",
      "Train Epoch: 70 [512/1487 (33%)] Loss: 0.472810\n",
      "Train Epoch: 70 [640/1487 (42%)] Loss: 0.452879\n",
      "Train Epoch: 70 [768/1487 (50%)] Loss: 0.385933\n",
      "Train Epoch: 70 [896/1487 (58%)] Loss: 0.499341\n",
      "Train Epoch: 70 [1024/1487 (67%)] Loss: 0.331110\n",
      "Train Epoch: 70 [1152/1487 (75%)] Loss: 0.347522\n",
      "Train Epoch: 70 [1280/1487 (83%)] Loss: 0.361286\n",
      "Train Epoch: 70 [1408/1487 (92%)] Loss: 0.335936\n",
      "    epoch          : 70\n",
      "    loss           : 0.3873724316557248\n",
      "    my_metric      : 0.8264322916666668\n",
      "    f1             : 0.8269636073892089\n",
      "    balanced_accuracy: 0.8273760375120288\n",
      "    precision      : 0.8397841600526873\n",
      "    recall         : 0.8264322916666668\n",
      "    val_loss       : 0.532589566707611\n",
      "    val_my_metric  : 0.7541666666666667\n",
      "    val_f1         : 0.7530046954679308\n",
      "    val_balanced_accuracy: 0.7546271419124835\n",
      "    val_precision  : 0.7642236804722901\n",
      "    val_recall     : 0.7541666666666667\n"
     ]
    },
    {
     "name": "stdout",
     "output_type": "stream",
     "text": [
      "Model has not improved in -------------| 46 epochs\n"
     ]
    },
    {
     "name": "stderr",
     "output_type": "stream",
     "text": [
      "Train Epoch: 71 [0/1487 (0%)] Loss: 0.233842\n",
      "Train Epoch: 71 [128/1487 (8%)] Loss: 0.437859\n",
      "Train Epoch: 71 [256/1487 (17%)] Loss: 0.378729\n",
      "Train Epoch: 71 [384/1487 (25%)] Loss: 0.350120\n",
      "Train Epoch: 71 [512/1487 (33%)] Loss: 0.386555\n",
      "Train Epoch: 71 [640/1487 (42%)] Loss: 0.433143\n",
      "Train Epoch: 71 [768/1487 (50%)] Loss: 0.532981\n",
      "Train Epoch: 71 [896/1487 (58%)] Loss: 0.356189\n",
      "Train Epoch: 71 [1024/1487 (67%)] Loss: 0.396473\n",
      "Train Epoch: 71 [1152/1487 (75%)] Loss: 0.296570\n",
      "Train Epoch: 71 [1280/1487 (83%)] Loss: 0.498352\n",
      "Train Epoch: 71 [1408/1487 (92%)] Loss: 0.282973\n",
      "    epoch          : 71\n",
      "    loss           : 0.35667413162688416\n",
      "    my_metric      : 0.8539930555555556\n",
      "    f1             : 0.8542291351500109\n",
      "    balanced_accuracy: 0.8544877585921475\n",
      "    precision      : 0.8590828355998181\n",
      "    recall         : 0.8539930555555556\n",
      "    val_loss       : 0.5342018306255341\n",
      "    val_my_metric  : 0.7697916666666667\n",
      "    val_f1         : 0.7680248586360572\n",
      "    val_balanced_accuracy: 0.7693872549019607\n",
      "    val_precision  : 0.7818319256363722\n",
      "    val_recall     : 0.7697916666666667\n"
     ]
    },
    {
     "name": "stdout",
     "output_type": "stream",
     "text": [
      "Model has not improved in -------------| 47 epochs\n"
     ]
    },
    {
     "name": "stderr",
     "output_type": "stream",
     "text": [
      "Train Epoch: 72 [0/1487 (0%)] Loss: 0.464702\n",
      "Train Epoch: 72 [128/1487 (8%)] Loss: 0.405417\n",
      "Train Epoch: 72 [256/1487 (17%)] Loss: 0.224145\n",
      "Train Epoch: 72 [384/1487 (25%)] Loss: 0.319888\n",
      "Train Epoch: 72 [512/1487 (33%)] Loss: 0.400746\n",
      "Train Epoch: 72 [640/1487 (42%)] Loss: 0.408593\n",
      "Train Epoch: 72 [768/1487 (50%)] Loss: 0.349160\n",
      "Train Epoch: 72 [896/1487 (58%)] Loss: 0.359293\n",
      "Train Epoch: 72 [1024/1487 (67%)] Loss: 0.408915\n",
      "Train Epoch: 72 [1152/1487 (75%)] Loss: 0.431011\n",
      "Train Epoch: 72 [1280/1487 (83%)] Loss: 0.323259\n",
      "Train Epoch: 72 [1408/1487 (92%)] Loss: 0.333799\n",
      "    epoch          : 72\n",
      "    loss           : 0.39176269620656967\n",
      "    my_metric      : 0.8142361111111112\n",
      "    f1             : 0.8139320885008408\n",
      "    balanced_accuracy: 0.8172349561522162\n",
      "    precision      : 0.8283354820364707\n",
      "    recall         : 0.8142361111111112\n",
      "    val_loss       : 0.5216107726097107\n",
      "    val_my_metric  : 0.778125\n",
      "    val_f1         : 0.7750707253100956\n",
      "    val_balanced_accuracy: 0.7787390128465178\n",
      "    val_precision  : 0.7911751984340843\n",
      "    val_recall     : 0.778125\n"
     ]
    },
    {
     "name": "stdout",
     "output_type": "stream",
     "text": [
      "Model has not improved in -------------| 48 epochs\n"
     ]
    },
    {
     "name": "stderr",
     "output_type": "stream",
     "text": [
      "Train Epoch: 73 [0/1487 (0%)] Loss: 0.343054\n",
      "Train Epoch: 73 [128/1487 (8%)] Loss: 0.332324\n",
      "Train Epoch: 73 [256/1487 (17%)] Loss: 0.437345\n",
      "Train Epoch: 73 [384/1487 (25%)] Loss: 0.315664\n",
      "Train Epoch: 73 [512/1487 (33%)] Loss: 0.390698\n",
      "Train Epoch: 73 [640/1487 (42%)] Loss: 0.432188\n",
      "Train Epoch: 73 [768/1487 (50%)] Loss: 0.461266\n",
      "Train Epoch: 73 [896/1487 (58%)] Loss: 0.416787\n",
      "Train Epoch: 73 [1024/1487 (67%)] Loss: 0.306073\n",
      "Train Epoch: 73 [1152/1487 (75%)] Loss: 0.459185\n",
      "Train Epoch: 73 [1280/1487 (83%)] Loss: 0.307709\n",
      "Train Epoch: 73 [1408/1487 (92%)] Loss: 0.391211\n",
      "    epoch          : 73\n",
      "    loss           : 0.36792171373963356\n",
      "    my_metric      : 0.8312065972222222\n",
      "    f1             : 0.8313121424386921\n",
      "    balanced_accuracy: 0.8347224189580182\n",
      "    precision      : 0.8399219353566948\n",
      "    recall         : 0.8312065972222222\n",
      "    val_loss       : 0.5117958843708038\n",
      "    val_my_metric  : 0.7708333333333333\n",
      "    val_f1         : 0.7703436978770353\n",
      "    val_balanced_accuracy: 0.7852718685071626\n",
      "    val_precision  : 0.8090210864404412\n",
      "    val_recall     : 0.7708333333333333\n"
     ]
    },
    {
     "name": "stdout",
     "output_type": "stream",
     "text": [
      "Model has not improved in -------------| 49 epochs\n"
     ]
    },
    {
     "name": "stderr",
     "output_type": "stream",
     "text": [
      "Train Epoch: 74 [0/1487 (0%)] Loss: 0.389172\n",
      "Train Epoch: 74 [128/1487 (8%)] Loss: 0.255152\n",
      "Train Epoch: 74 [256/1487 (17%)] Loss: 0.348748\n",
      "Train Epoch: 74 [384/1487 (25%)] Loss: 0.399656\n",
      "Train Epoch: 74 [512/1487 (33%)] Loss: 0.431889\n",
      "Train Epoch: 74 [640/1487 (42%)] Loss: 0.305293\n",
      "Train Epoch: 74 [768/1487 (50%)] Loss: 0.286171\n",
      "Train Epoch: 74 [896/1487 (58%)] Loss: 0.428006\n",
      "Train Epoch: 74 [1024/1487 (67%)] Loss: 0.327562\n",
      "Train Epoch: 74 [1152/1487 (75%)] Loss: 0.474253\n",
      "Train Epoch: 74 [1280/1487 (83%)] Loss: 0.340653\n",
      "Train Epoch: 74 [1408/1487 (92%)] Loss: 0.408782\n",
      "    epoch          : 74\n",
      "    loss           : 0.37266641358534497\n",
      "    my_metric      : 0.8365451388888889\n",
      "    f1             : 0.8364987566490214\n",
      "    balanced_accuracy: 0.8387958736927904\n",
      "    precision      : 0.8432540515534931\n",
      "    recall         : 0.8365451388888889\n",
      "    val_loss       : 0.5765557765960694\n",
      "    val_my_metric  : 0.7395833333333333\n",
      "    val_f1         : 0.7390475428657469\n",
      "    val_balanced_accuracy: 0.7536333562400434\n",
      "    val_precision  : 0.7759393442999328\n",
      "    val_recall     : 0.7395833333333333\n"
     ]
    },
    {
     "name": "stdout",
     "output_type": "stream",
     "text": [
      "Model has not improved in -------------| 50 epochs\n"
     ]
    },
    {
     "name": "stderr",
     "output_type": "stream",
     "text": [
      "Train Epoch: 75 [0/1487 (0%)] Loss: 0.335725\n",
      "Train Epoch: 75 [128/1487 (8%)] Loss: 0.363686\n",
      "Train Epoch: 75 [256/1487 (17%)] Loss: 0.439014\n",
      "Train Epoch: 75 [384/1487 (25%)] Loss: 0.312374\n",
      "Train Epoch: 75 [512/1487 (33%)] Loss: 0.334968\n",
      "Train Epoch: 75 [640/1487 (42%)] Loss: 0.319054\n",
      "Train Epoch: 75 [768/1487 (50%)] Loss: 0.269811\n",
      "Train Epoch: 75 [896/1487 (58%)] Loss: 0.416406\n",
      "Train Epoch: 75 [1024/1487 (67%)] Loss: 0.463462\n",
      "Train Epoch: 75 [1152/1487 (75%)] Loss: 0.344666\n",
      "Train Epoch: 75 [1280/1487 (83%)] Loss: 0.332121\n",
      "Train Epoch: 75 [1408/1487 (92%)] Loss: 0.521744\n",
      "    epoch          : 75\n",
      "    loss           : 0.34947079916795093\n",
      "    my_metric      : 0.8429253472222222\n",
      "    f1             : 0.842931980604086\n",
      "    balanced_accuracy: 0.8438142950772102\n",
      "    precision      : 0.8487418868898079\n",
      "    recall         : 0.8429253472222222\n",
      "    val_loss       : 0.6168210566043854\n",
      "    val_my_metric  : 0.665625\n",
      "    val_f1         : 0.6717963195472244\n",
      "    val_balanced_accuracy: 0.7067626933471335\n",
      "    val_precision  : 0.7500686236181942\n",
      "    val_recall     : 0.665625\n"
     ]
    },
    {
     "name": "stdout",
     "output_type": "stream",
     "text": [
      "Model has not improved in -------------| 51 epochs\n"
     ]
    },
    {
     "name": "stderr",
     "output_type": "stream",
     "text": [
      "Train Epoch: 76 [0/1487 (0%)] Loss: 0.388688\n",
      "Train Epoch: 76 [128/1487 (8%)] Loss: 0.336404\n",
      "Train Epoch: 76 [256/1487 (17%)] Loss: 0.335207\n",
      "Train Epoch: 76 [384/1487 (25%)] Loss: 0.316063\n",
      "Train Epoch: 76 [512/1487 (33%)] Loss: 0.362068\n",
      "Train Epoch: 76 [640/1487 (42%)] Loss: 0.348865\n",
      "Train Epoch: 76 [768/1487 (50%)] Loss: 0.350533\n",
      "Train Epoch: 76 [896/1487 (58%)] Loss: 0.397264\n",
      "Train Epoch: 76 [1024/1487 (67%)] Loss: 0.289179\n",
      "Train Epoch: 76 [1152/1487 (75%)] Loss: 0.408247\n",
      "Train Epoch: 76 [1280/1487 (83%)] Loss: 0.309539\n",
      "Train Epoch: 76 [1408/1487 (92%)] Loss: 0.390067\n",
      "    epoch          : 76\n",
      "    loss           : 0.33870353922247887\n",
      "    my_metric      : 0.8500868055555556\n",
      "    f1             : 0.8502298742251327\n",
      "    balanced_accuracy: 0.8516052000731277\n",
      "    precision      : 0.858445363732505\n",
      "    recall         : 0.8500868055555556\n",
      "    val_loss       : 0.5640407204627991\n",
      "    val_my_metric  : 0.7541666666666667\n",
      "    val_f1         : 0.7541564335353228\n",
      "    val_balanced_accuracy: 0.7639996621815882\n",
      "    val_precision  : 0.7718012711520255\n",
      "    val_recall     : 0.7541666666666667\n"
     ]
    },
    {
     "name": "stdout",
     "output_type": "stream",
     "text": [
      "Model has not improved in -------------| 52 epochs\n"
     ]
    },
    {
     "name": "stderr",
     "output_type": "stream",
     "text": [
      "Train Epoch: 77 [0/1487 (0%)] Loss: 0.344763\n",
      "Train Epoch: 77 [128/1487 (8%)] Loss: 0.282919\n",
      "Train Epoch: 77 [256/1487 (17%)] Loss: 0.403213\n",
      "Train Epoch: 77 [384/1487 (25%)] Loss: 0.363319\n",
      "Train Epoch: 77 [512/1487 (33%)] Loss: 0.347644\n",
      "Train Epoch: 77 [640/1487 (42%)] Loss: 0.261013\n",
      "Train Epoch: 77 [768/1487 (50%)] Loss: 0.268108\n",
      "Train Epoch: 77 [896/1487 (58%)] Loss: 0.269318\n",
      "Train Epoch: 77 [1024/1487 (67%)] Loss: 0.206428\n",
      "Train Epoch: 77 [1152/1487 (75%)] Loss: 0.219492\n",
      "Train Epoch: 77 [1280/1487 (83%)] Loss: 0.380815\n",
      "Train Epoch: 77 [1408/1487 (92%)] Loss: 0.386662\n",
      "    epoch          : 77\n",
      "    loss           : 0.33083139918744564\n",
      "    my_metric      : 0.8603298611111111\n",
      "    f1             : 0.8602016013239111\n",
      "    balanced_accuracy: 0.8589345885502359\n",
      "    precision      : 0.8659286821274398\n",
      "    recall         : 0.8603298611111111\n",
      "    val_loss       : 0.5019108891487122\n",
      "    val_my_metric  : 0.7729166666666667\n",
      "    val_f1         : 0.7687350271090543\n",
      "    val_balanced_accuracy: 0.7571616042759419\n",
      "    val_precision  : 0.7880482388294888\n",
      "    val_recall     : 0.7729166666666667\n"
     ]
    },
    {
     "name": "stdout",
     "output_type": "stream",
     "text": [
      "Model has not improved in -------------| 53 epochs\n"
     ]
    },
    {
     "name": "stderr",
     "output_type": "stream",
     "text": [
      "Train Epoch: 78 [0/1487 (0%)] Loss: 0.455813\n",
      "Train Epoch: 78 [128/1487 (8%)] Loss: 0.349322\n",
      "Train Epoch: 78 [256/1487 (17%)] Loss: 0.303066\n",
      "Train Epoch: 78 [384/1487 (25%)] Loss: 0.281174\n",
      "Train Epoch: 78 [512/1487 (33%)] Loss: 0.241057\n",
      "Train Epoch: 78 [640/1487 (42%)] Loss: 0.369066\n",
      "Train Epoch: 78 [768/1487 (50%)] Loss: 0.291395\n",
      "Train Epoch: 78 [896/1487 (58%)] Loss: 0.488355\n",
      "Train Epoch: 78 [1024/1487 (67%)] Loss: 0.297316\n",
      "Train Epoch: 78 [1152/1487 (75%)] Loss: 0.359141\n",
      "Train Epoch: 78 [1280/1487 (83%)] Loss: 0.409662\n",
      "Train Epoch: 78 [1408/1487 (92%)] Loss: 0.243118\n",
      "    epoch          : 78\n",
      "    loss           : 0.33603708321849507\n",
      "    my_metric      : 0.8520399305555556\n",
      "    f1             : 0.8516129789280215\n",
      "    balanced_accuracy: 0.8528557041446803\n",
      "    precision      : 0.8629820709003163\n",
      "    recall         : 0.8520399305555556\n",
      "    val_loss       : 0.5919858932495117\n",
      "    val_my_metric  : 0.6989583333333333\n",
      "    val_f1         : 0.691793953128125\n",
      "    val_balanced_accuracy: 0.717005742913001\n",
      "    val_precision  : 0.7589472753995274\n",
      "    val_recall     : 0.6989583333333333\n"
     ]
    },
    {
     "name": "stdout",
     "output_type": "stream",
     "text": [
      "Model has not improved in -------------| 54 epochs\n"
     ]
    },
    {
     "name": "stderr",
     "output_type": "stream",
     "text": [
      "Train Epoch: 79 [0/1487 (0%)] Loss: 0.310207\n",
      "Train Epoch: 79 [128/1487 (8%)] Loss: 0.369087\n",
      "Train Epoch: 79 [256/1487 (17%)] Loss: 0.301484\n",
      "Train Epoch: 79 [384/1487 (25%)] Loss: 0.284385\n",
      "Train Epoch: 79 [512/1487 (33%)] Loss: 0.220359\n",
      "Train Epoch: 79 [640/1487 (42%)] Loss: 0.283405\n",
      "Train Epoch: 79 [768/1487 (50%)] Loss: 0.370002\n",
      "Train Epoch: 79 [896/1487 (58%)] Loss: 0.218790\n",
      "Train Epoch: 79 [1024/1487 (67%)] Loss: 0.208543\n",
      "Train Epoch: 79 [1152/1487 (75%)] Loss: 0.327314\n",
      "Train Epoch: 79 [1280/1487 (83%)] Loss: 0.281871\n",
      "Train Epoch: 79 [1408/1487 (92%)] Loss: 0.291006\n",
      "    epoch          : 79\n",
      "    loss           : 0.33309603792925674\n",
      "    my_metric      : 0.8417534722222223\n",
      "    f1             : 0.8422371463072068\n",
      "    balanced_accuracy: 0.843886591928297\n",
      "    precision      : 0.8512260958367436\n",
      "    recall         : 0.8417534722222223\n",
      "    val_loss       : 0.5157674580812455\n",
      "    val_my_metric  : 0.80625\n",
      "    val_f1         : 0.8060443907657528\n",
      "    val_balanced_accuracy: 0.8084376892491791\n",
      "    val_precision  : 0.8142508541484835\n",
      "    val_recall     : 0.80625\n"
     ]
    },
    {
     "name": "stdout",
     "output_type": "stream",
     "text": [
      "Model has not improved in -------------| 55 epochs\n"
     ]
    },
    {
     "name": "stderr",
     "output_type": "stream",
     "text": [
      "Train Epoch: 80 [0/1487 (0%)] Loss: 0.243785\n",
      "Train Epoch: 80 [128/1487 (8%)] Loss: 0.325932\n",
      "Train Epoch: 80 [256/1487 (17%)] Loss: 0.271367\n",
      "Train Epoch: 80 [384/1487 (25%)] Loss: 0.368267\n",
      "Train Epoch: 80 [512/1487 (33%)] Loss: 0.337766\n",
      "Train Epoch: 80 [640/1487 (42%)] Loss: 0.427052\n",
      "Train Epoch: 80 [768/1487 (50%)] Loss: 0.380340\n",
      "Train Epoch: 80 [896/1487 (58%)] Loss: 0.232699\n",
      "Train Epoch: 80 [1024/1487 (67%)] Loss: 0.295022\n",
      "Train Epoch: 80 [1152/1487 (75%)] Loss: 0.269551\n",
      "Train Epoch: 80 [1280/1487 (83%)] Loss: 0.335199\n",
      "Train Epoch: 80 [1408/1487 (92%)] Loss: 0.393821\n",
      "    epoch          : 80\n",
      "    loss           : 0.3321244741479556\n",
      "    my_metric      : 0.8546440972222222\n",
      "    f1             : 0.8547205917046478\n",
      "    balanced_accuracy: 0.8569534555781608\n",
      "    precision      : 0.8616604597821923\n",
      "    recall         : 0.8546440972222222\n",
      "    val_loss       : 0.49364047795534133\n",
      "    val_my_metric  : 0.796875\n",
      "    val_f1         : 0.7962284475332376\n",
      "    val_balanced_accuracy: 0.7957179433735428\n",
      "    val_precision  : 0.8027143444868672\n",
      "    val_recall     : 0.796875\n"
     ]
    },
    {
     "name": "stdout",
     "output_type": "stream",
     "text": [
      "Model has not improved in -------------| 56 epochs\n"
     ]
    },
    {
     "name": "stderr",
     "output_type": "stream",
     "text": [
      "Train Epoch: 81 [0/1487 (0%)] Loss: 0.355408\n",
      "Train Epoch: 81 [128/1487 (8%)] Loss: 0.268599\n",
      "Train Epoch: 81 [256/1487 (17%)] Loss: 0.355146\n",
      "Train Epoch: 81 [384/1487 (25%)] Loss: 0.287201\n",
      "Train Epoch: 81 [512/1487 (33%)] Loss: 0.318037\n",
      "Train Epoch: 81 [640/1487 (42%)] Loss: 0.299391\n",
      "Train Epoch: 81 [768/1487 (50%)] Loss: 0.407273\n",
      "Train Epoch: 81 [896/1487 (58%)] Loss: 0.315791\n",
      "Train Epoch: 81 [1024/1487 (67%)] Loss: 0.195316\n",
      "Train Epoch: 81 [1152/1487 (75%)] Loss: 0.336255\n",
      "Train Epoch: 81 [1280/1487 (83%)] Loss: 0.310788\n",
      "Train Epoch: 81 [1408/1487 (92%)] Loss: 0.367508\n",
      "    epoch          : 81\n",
      "    loss           : 0.3210387167831262\n",
      "    my_metric      : 0.8621093750000001\n",
      "    f1             : 0.8621354757089996\n",
      "    balanced_accuracy: 0.8623744627663458\n",
      "    precision      : 0.8656967508115011\n",
      "    recall         : 0.8621093750000001\n",
      "    val_loss       : 0.8479510068893432\n",
      "    val_my_metric  : 0.7114583333333333\n",
      "    val_f1         : 0.7032422645285815\n",
      "    val_balanced_accuracy: 0.7174657909140667\n",
      "    val_precision  : 0.7506152647332083\n",
      "    val_recall     : 0.7114583333333333\n"
     ]
    },
    {
     "name": "stdout",
     "output_type": "stream",
     "text": [
      "Model has not improved in -------------| 57 epochs\n"
     ]
    },
    {
     "name": "stderr",
     "output_type": "stream",
     "text": [
      "Train Epoch: 82 [0/1487 (0%)] Loss: 0.287165\n",
      "Train Epoch: 82 [128/1487 (8%)] Loss: 0.239609\n",
      "Train Epoch: 82 [256/1487 (17%)] Loss: 0.197958\n",
      "Train Epoch: 82 [384/1487 (25%)] Loss: 0.474108\n",
      "Train Epoch: 82 [512/1487 (33%)] Loss: 0.355336\n",
      "Train Epoch: 82 [640/1487 (42%)] Loss: 0.430777\n",
      "Train Epoch: 82 [768/1487 (50%)] Loss: 0.330281\n",
      "Train Epoch: 82 [896/1487 (58%)] Loss: 0.336067\n",
      "Train Epoch: 82 [1024/1487 (67%)] Loss: 0.381565\n",
      "Train Epoch: 82 [1152/1487 (75%)] Loss: 0.430633\n",
      "Train Epoch: 82 [1280/1487 (83%)] Loss: 0.316427\n",
      "Train Epoch: 82 [1408/1487 (92%)] Loss: 0.162993\n",
      "    epoch          : 82\n",
      "    loss           : 0.3331906422972679\n",
      "    my_metric      : 0.8557725694444445\n",
      "    f1             : 0.8559085763649587\n",
      "    balanced_accuracy: 0.8606561541287596\n",
      "    precision      : 0.8658796158006395\n",
      "    recall         : 0.8557725694444445\n",
      "    val_loss       : 0.6911106884479523\n",
      "    val_my_metric  : 0.7520833333333333\n",
      "    val_f1         : 0.7508714906615197\n",
      "    val_balanced_accuracy: 0.7547672929620398\n",
      "    val_precision  : 0.7646432429977055\n",
      "    val_recall     : 0.7520833333333333\n"
     ]
    },
    {
     "name": "stdout",
     "output_type": "stream",
     "text": [
      "Model has not improved in -------------| 58 epochs\n"
     ]
    },
    {
     "name": "stderr",
     "output_type": "stream",
     "text": [
      "Train Epoch: 83 [0/1487 (0%)] Loss: 0.293817\n",
      "Train Epoch: 83 [128/1487 (8%)] Loss: 0.362742\n",
      "Train Epoch: 83 [256/1487 (17%)] Loss: 0.400798\n",
      "Train Epoch: 83 [384/1487 (25%)] Loss: 0.311009\n",
      "Train Epoch: 83 [512/1487 (33%)] Loss: 0.302070\n",
      "Train Epoch: 83 [640/1487 (42%)] Loss: 0.281000\n",
      "Train Epoch: 83 [768/1487 (50%)] Loss: 0.276551\n",
      "Train Epoch: 83 [896/1487 (58%)] Loss: 0.337949\n",
      "Train Epoch: 83 [1024/1487 (67%)] Loss: 0.256123\n",
      "Train Epoch: 83 [1152/1487 (75%)] Loss: 0.317831\n",
      "Train Epoch: 83 [1280/1487 (83%)] Loss: 0.251672\n",
      "Train Epoch: 83 [1408/1487 (92%)] Loss: 0.253167\n",
      "    epoch          : 83\n",
      "    loss           : 0.32697178795933723\n",
      "    my_metric      : 0.8625868055555556\n",
      "    f1             : 0.862464663347357\n",
      "    balanced_accuracy: 0.8651711067119269\n",
      "    precision      : 0.8746752837952884\n",
      "    recall         : 0.8625868055555556\n",
      "    val_loss       : 0.531832480430603\n",
      "    val_my_metric  : 0.7572916666666667\n",
      "    val_f1         : 0.7575945808482689\n",
      "    val_balanced_accuracy: 0.7648119093931434\n",
      "    val_precision  : 0.7712803499604971\n",
      "    val_recall     : 0.7572916666666667\n"
     ]
    },
    {
     "name": "stdout",
     "output_type": "stream",
     "text": [
      "Model has not improved in -------------| 59 epochs\n"
     ]
    },
    {
     "name": "stderr",
     "output_type": "stream",
     "text": [
      "Train Epoch: 84 [0/1487 (0%)] Loss: 0.293914\n",
      "Train Epoch: 84 [128/1487 (8%)] Loss: 0.289444\n",
      "Train Epoch: 84 [256/1487 (17%)] Loss: 0.405324\n",
      "Train Epoch: 84 [384/1487 (25%)] Loss: 0.363663\n",
      "Train Epoch: 84 [512/1487 (33%)] Loss: 0.368072\n",
      "Train Epoch: 84 [640/1487 (42%)] Loss: 0.310422\n",
      "Train Epoch: 84 [768/1487 (50%)] Loss: 0.263945\n",
      "Train Epoch: 84 [896/1487 (58%)] Loss: 0.266958\n",
      "Train Epoch: 84 [1024/1487 (67%)] Loss: 0.380035\n",
      "Train Epoch: 84 [1152/1487 (75%)] Loss: 0.333222\n",
      "Train Epoch: 84 [1280/1487 (83%)] Loss: 0.303718\n",
      "Train Epoch: 84 [1408/1487 (92%)] Loss: 0.391315\n",
      "    epoch          : 84\n",
      "    loss           : 0.3455899854501088\n",
      "    my_metric      : 0.8450086805555556\n",
      "    f1             : 0.8443819047551258\n",
      "    balanced_accuracy: 0.8450772370840313\n",
      "    precision      : 0.8591704081439376\n",
      "    recall         : 0.8450086805555556\n",
      "    val_loss       : 0.5791449308395386\n",
      "    val_my_metric  : 0.7697916666666667\n",
      "    val_f1         : 0.7697221146329016\n",
      "    val_balanced_accuracy: 0.7785064113621989\n",
      "    val_precision  : 0.7873749219385833\n",
      "    val_recall     : 0.7697916666666667\n"
     ]
    },
    {
     "name": "stdout",
     "output_type": "stream",
     "text": [
      "Model has not improved in -------------| 60 epochs\n"
     ]
    },
    {
     "name": "stderr",
     "output_type": "stream",
     "text": [
      "Train Epoch: 85 [0/1487 (0%)] Loss: 0.194517\n",
      "Train Epoch: 85 [128/1487 (8%)] Loss: 0.351130\n",
      "Train Epoch: 85 [256/1487 (17%)] Loss: 0.295991\n",
      "Train Epoch: 85 [384/1487 (25%)] Loss: 0.373302\n",
      "Train Epoch: 85 [512/1487 (33%)] Loss: 0.321829\n",
      "Train Epoch: 85 [640/1487 (42%)] Loss: 0.362345\n",
      "Train Epoch: 85 [768/1487 (50%)] Loss: 0.340168\n",
      "Train Epoch: 85 [896/1487 (58%)] Loss: 0.286590\n",
      "Train Epoch: 85 [1024/1487 (67%)] Loss: 0.291629\n",
      "Train Epoch: 85 [1152/1487 (75%)] Loss: 0.348049\n",
      "Train Epoch: 85 [1280/1487 (83%)] Loss: 0.337140\n",
      "Train Epoch: 85 [1408/1487 (92%)] Loss: 0.304232\n",
      "    epoch          : 85\n",
      "    loss           : 0.32261258115371066\n",
      "    my_metric      : 0.8551215277777778\n",
      "    f1             : 0.8550159843799051\n",
      "    balanced_accuracy: 0.856145372842223\n",
      "    precision      : 0.8614854790940701\n",
      "    recall         : 0.8551215277777778\n",
      "    val_loss       : 0.618830406665802\n",
      "    val_my_metric  : 0.7364583333333333\n",
      "    val_f1         : 0.7367134263318308\n",
      "    val_balanced_accuracy: 0.6827193235609191\n",
      "    val_precision  : 0.7390243541103871\n",
      "    val_recall     : 0.7364583333333333\n"
     ]
    },
    {
     "name": "stdout",
     "output_type": "stream",
     "text": [
      "Model has not improved in -------------| 61 epochs\n"
     ]
    },
    {
     "name": "stderr",
     "output_type": "stream",
     "text": [
      "Train Epoch: 86 [0/1487 (0%)] Loss: 0.348632\n",
      "Train Epoch: 86 [128/1487 (8%)] Loss: 0.322599\n",
      "Train Epoch: 86 [256/1487 (17%)] Loss: 0.236086\n",
      "Train Epoch: 86 [384/1487 (25%)] Loss: 0.356770\n",
      "Train Epoch: 86 [512/1487 (33%)] Loss: 0.344303\n",
      "Train Epoch: 86 [640/1487 (42%)] Loss: 0.345787\n",
      "Train Epoch: 86 [768/1487 (50%)] Loss: 0.315344\n",
      "Train Epoch: 86 [896/1487 (58%)] Loss: 0.278497\n",
      "Train Epoch: 86 [1024/1487 (67%)] Loss: 0.385400\n",
      "Train Epoch: 86 [1152/1487 (75%)] Loss: 0.345970\n",
      "Train Epoch: 86 [1280/1487 (83%)] Loss: 0.258549\n",
      "Train Epoch: 86 [1408/1487 (92%)] Loss: 0.275857\n",
      "    epoch          : 86\n",
      "    loss           : 0.31511626578867435\n",
      "    my_metric      : 0.8608072916666667\n",
      "    f1             : 0.8608138009524322\n",
      "    balanced_accuracy: 0.861775801423376\n",
      "    precision      : 0.864287234810789\n",
      "    recall         : 0.8608072916666667\n",
      "    val_loss       : 0.5273624777793884\n",
      "    val_my_metric  : 0.7697916666666667\n",
      "    val_f1         : 0.7698692447041386\n",
      "    val_balanced_accuracy: 0.7790280892415617\n",
      "    val_precision  : 0.7852534671914744\n",
      "    val_recall     : 0.7697916666666667\n"
     ]
    },
    {
     "name": "stdout",
     "output_type": "stream",
     "text": [
      "Model has not improved in -------------| 62 epochs\n"
     ]
    },
    {
     "name": "stderr",
     "output_type": "stream",
     "text": [
      "Train Epoch: 87 [0/1487 (0%)] Loss: 0.293768\n",
      "Train Epoch: 87 [128/1487 (8%)] Loss: 0.331765\n",
      "Train Epoch: 87 [256/1487 (17%)] Loss: 0.317338\n",
      "Train Epoch: 87 [384/1487 (25%)] Loss: 0.368511\n",
      "Train Epoch: 87 [512/1487 (33%)] Loss: 0.224222\n",
      "Train Epoch: 87 [640/1487 (42%)] Loss: 0.284208\n",
      "Train Epoch: 87 [768/1487 (50%)] Loss: 0.336267\n",
      "Train Epoch: 87 [896/1487 (58%)] Loss: 0.320676\n",
      "Train Epoch: 87 [1024/1487 (67%)] Loss: 0.315358\n",
      "Train Epoch: 87 [1152/1487 (75%)] Loss: 0.357517\n",
      "Train Epoch: 87 [1280/1487 (83%)] Loss: 0.210875\n",
      "Train Epoch: 87 [1408/1487 (92%)] Loss: 0.311912\n",
      "    epoch          : 87\n",
      "    loss           : 0.32527180512746173\n",
      "    my_metric      : 0.8499131944444445\n",
      "    f1             : 0.8499879141817194\n",
      "    balanced_accuracy: 0.8529660266026678\n",
      "    precision      : 0.8593718341499655\n",
      "    recall         : 0.8499131944444445\n",
      "    val_loss       : 0.6162923157215119\n",
      "    val_my_metric  : 0.7458333333333333\n",
      "    val_f1         : 0.7450861844763467\n",
      "    val_balanced_accuracy: 0.7452826174458053\n",
      "    val_precision  : 0.7485935646781234\n",
      "    val_recall     : 0.7458333333333333\n"
     ]
    },
    {
     "name": "stdout",
     "output_type": "stream",
     "text": [
      "Model has not improved in -------------| 63 epochs\n"
     ]
    },
    {
     "name": "stderr",
     "output_type": "stream",
     "text": [
      "Train Epoch: 88 [0/1487 (0%)] Loss: 0.332946\n",
      "Train Epoch: 88 [128/1487 (8%)] Loss: 0.242862\n",
      "Train Epoch: 88 [256/1487 (17%)] Loss: 0.301396\n",
      "Train Epoch: 88 [384/1487 (25%)] Loss: 0.330921\n",
      "Train Epoch: 88 [512/1487 (33%)] Loss: 0.479512\n",
      "Train Epoch: 88 [640/1487 (42%)] Loss: 0.338462\n",
      "Train Epoch: 88 [768/1487 (50%)] Loss: 0.236133\n",
      "Train Epoch: 88 [896/1487 (58%)] Loss: 0.314966\n",
      "Train Epoch: 88 [1024/1487 (67%)] Loss: 0.196707\n",
      "Train Epoch: 88 [1152/1487 (75%)] Loss: 0.446616\n",
      "Train Epoch: 88 [1280/1487 (83%)] Loss: 0.289621\n",
      "Train Epoch: 88 [1408/1487 (92%)] Loss: 0.335953\n",
      "    epoch          : 88\n",
      "    loss           : 0.32623152807354927\n",
      "    my_metric      : 0.8526475694444445\n",
      "    f1             : 0.8529648141185264\n",
      "    balanced_accuracy: 0.8571491379782031\n",
      "    precision      : 0.8618060639056253\n",
      "    recall         : 0.8526475694444445\n",
      "    val_loss       : 0.5833529353141784\n",
      "    val_my_metric  : 0.7635416666666667\n",
      "    val_f1         : 0.7636901689686867\n",
      "    val_balanced_accuracy: 0.772220109308091\n",
      "    val_precision  : 0.7802215267795948\n",
      "    val_recall     : 0.7635416666666667\n"
     ]
    },
    {
     "name": "stdout",
     "output_type": "stream",
     "text": [
      "Model has not improved in -------------| 64 epochs\n"
     ]
    },
    {
     "name": "stderr",
     "output_type": "stream",
     "text": [
      "Train Epoch: 89 [0/1487 (0%)] Loss: 0.288347\n",
      "Train Epoch: 89 [128/1487 (8%)] Loss: 0.330407\n",
      "Train Epoch: 89 [256/1487 (17%)] Loss: 0.270815\n",
      "Train Epoch: 89 [384/1487 (25%)] Loss: 0.294254\n",
      "Train Epoch: 89 [512/1487 (33%)] Loss: 0.240630\n",
      "Train Epoch: 89 [640/1487 (42%)] Loss: 0.384132\n",
      "Train Epoch: 89 [768/1487 (50%)] Loss: 0.314924\n",
      "Train Epoch: 89 [896/1487 (58%)] Loss: 0.319318\n",
      "Train Epoch: 89 [1024/1487 (67%)] Loss: 0.280136\n",
      "Train Epoch: 89 [1152/1487 (75%)] Loss: 0.293224\n",
      "Train Epoch: 89 [1280/1487 (83%)] Loss: 0.319247\n",
      "Train Epoch: 89 [1408/1487 (92%)] Loss: 0.287686\n",
      "    epoch          : 89\n",
      "    loss           : 0.28858322836458683\n",
      "    my_metric      : 0.8774305555555556\n",
      "    f1             : 0.8779544075885667\n",
      "    balanced_accuracy: 0.8811732622768838\n",
      "    precision      : 0.8856912523469624\n",
      "    recall         : 0.8774305555555556\n",
      "    val_loss       : 0.5939610719680786\n",
      "    val_my_metric  : 0.7145833333333333\n",
      "    val_f1         : 0.712996693611964\n",
      "    val_balanced_accuracy: 0.7295350985221675\n",
      "    val_precision  : 0.7532642322954823\n",
      "    val_recall     : 0.7145833333333333\n"
     ]
    },
    {
     "name": "stdout",
     "output_type": "stream",
     "text": [
      "Model has not improved in -------------| 65 epochs\n"
     ]
    },
    {
     "name": "stderr",
     "output_type": "stream",
     "text": [
      "Train Epoch: 90 [0/1487 (0%)] Loss: 0.334556\n",
      "Train Epoch: 90 [128/1487 (8%)] Loss: 0.303254\n",
      "Train Epoch: 90 [256/1487 (17%)] Loss: 0.245697\n",
      "Train Epoch: 90 [384/1487 (25%)] Loss: 0.223815\n",
      "Train Epoch: 90 [512/1487 (33%)] Loss: 0.117441\n",
      "Train Epoch: 90 [640/1487 (42%)] Loss: 0.290966\n",
      "Train Epoch: 90 [768/1487 (50%)] Loss: 0.308016\n",
      "Train Epoch: 90 [896/1487 (58%)] Loss: 0.343820\n",
      "Train Epoch: 90 [1024/1487 (67%)] Loss: 0.228121\n",
      "Train Epoch: 90 [1152/1487 (75%)] Loss: 0.408349\n",
      "Train Epoch: 90 [1280/1487 (83%)] Loss: 0.261782\n",
      "Train Epoch: 90 [1408/1487 (92%)] Loss: 0.345734\n",
      "    epoch          : 90\n",
      "    loss           : 0.2990163080394268\n",
      "    my_metric      : 0.8634114583333333\n",
      "    f1             : 0.8634574879221608\n",
      "    balanced_accuracy: 0.8674738116656543\n",
      "    precision      : 0.8762547859145515\n",
      "    recall         : 0.8634114583333333\n",
      "    val_loss       : 0.6015314936637879\n",
      "    val_my_metric  : 0.6958333333333333\n",
      "    val_f1         : 0.6909314366251326\n",
      "    val_balanced_accuracy: 0.6940224025992527\n",
      "    val_precision  : 0.7084546638257575\n",
      "    val_recall     : 0.6958333333333333\n"
     ]
    },
    {
     "name": "stdout",
     "output_type": "stream",
     "text": [
      "Model has not improved in -------------| 66 epochs\n"
     ]
    },
    {
     "name": "stderr",
     "output_type": "stream",
     "text": [
      "Train Epoch: 91 [0/1487 (0%)] Loss: 0.269458\n",
      "Train Epoch: 91 [128/1487 (8%)] Loss: 0.315880\n",
      "Train Epoch: 91 [256/1487 (17%)] Loss: 0.209791\n",
      "Train Epoch: 91 [384/1487 (25%)] Loss: 0.235309\n",
      "Train Epoch: 91 [512/1487 (33%)] Loss: 0.316764\n",
      "Train Epoch: 91 [640/1487 (42%)] Loss: 0.361492\n",
      "Train Epoch: 91 [768/1487 (50%)] Loss: 0.266904\n",
      "Train Epoch: 91 [896/1487 (58%)] Loss: 0.346284\n",
      "Train Epoch: 91 [1024/1487 (67%)] Loss: 0.312880\n",
      "Train Epoch: 91 [1152/1487 (75%)] Loss: 0.282105\n",
      "Train Epoch: 91 [1280/1487 (83%)] Loss: 0.255901\n",
      "Train Epoch: 91 [1408/1487 (92%)] Loss: 0.332283\n",
      "    epoch          : 91\n",
      "    loss           : 0.31233540177345276\n",
      "    my_metric      : 0.8621093750000001\n",
      "    f1             : 0.8621955255320334\n",
      "    balanced_accuracy: 0.8613968764945118\n",
      "    precision      : 0.8649664248423147\n",
      "    recall         : 0.8621093750000001\n",
      "    val_loss       : 0.5153485536575317\n",
      "    val_my_metric  : 0.80625\n",
      "    val_f1         : 0.8067412059824965\n",
      "    val_balanced_accuracy: 0.8127869998657975\n",
      "    val_precision  : 0.8191141287915482\n",
      "    val_recall     : 0.80625\n"
     ]
    },
    {
     "name": "stdout",
     "output_type": "stream",
     "text": [
      "Model has not improved in -------------| 67 epochs\n"
     ]
    },
    {
     "name": "stderr",
     "output_type": "stream",
     "text": [
      "Train Epoch: 92 [0/1487 (0%)] Loss: 0.229104\n",
      "Train Epoch: 92 [128/1487 (8%)] Loss: 0.241813\n",
      "Train Epoch: 92 [256/1487 (17%)] Loss: 0.311096\n",
      "Train Epoch: 92 [384/1487 (25%)] Loss: 0.284940\n",
      "Train Epoch: 92 [512/1487 (33%)] Loss: 0.251862\n",
      "Train Epoch: 92 [640/1487 (42%)] Loss: 0.328998\n",
      "Train Epoch: 92 [768/1487 (50%)] Loss: 0.294390\n",
      "Train Epoch: 92 [896/1487 (58%)] Loss: 0.377835\n",
      "Train Epoch: 92 [1024/1487 (67%)] Loss: 0.388333\n",
      "Train Epoch: 92 [1152/1487 (75%)] Loss: 0.338250\n",
      "Train Epoch: 92 [1280/1487 (83%)] Loss: 0.295560\n",
      "Train Epoch: 92 [1408/1487 (92%)] Loss: 0.314043\n",
      "    epoch          : 92\n",
      "    loss           : 0.298069695631663\n",
      "    my_metric      : 0.8707465277777778\n",
      "    f1             : 0.8705396895991612\n",
      "    balanced_accuracy: 0.870452634910139\n",
      "    precision      : 0.8755980202843311\n",
      "    recall         : 0.8707465277777778\n",
      "    val_loss       : 0.5754515945911407\n",
      "    val_my_metric  : 0.80625\n",
      "    val_f1         : 0.8013230178435149\n",
      "    val_balanced_accuracy: 0.8033907082905971\n",
      "    val_precision  : 0.8227405676220332\n",
      "    val_recall     : 0.80625\n"
     ]
    },
    {
     "name": "stdout",
     "output_type": "stream",
     "text": [
      "Model has not improved in -------------| 68 epochs\n"
     ]
    },
    {
     "name": "stderr",
     "output_type": "stream",
     "text": [
      "Train Epoch: 93 [0/1487 (0%)] Loss: 0.293389\n",
      "Train Epoch: 93 [128/1487 (8%)] Loss: 0.269640\n",
      "Train Epoch: 93 [256/1487 (17%)] Loss: 0.249030\n",
      "Train Epoch: 93 [384/1487 (25%)] Loss: 0.265921\n",
      "Train Epoch: 93 [512/1487 (33%)] Loss: 0.225956\n",
      "Train Epoch: 93 [640/1487 (42%)] Loss: 0.274597\n",
      "Train Epoch: 93 [768/1487 (50%)] Loss: 0.266777\n",
      "Train Epoch: 93 [896/1487 (58%)] Loss: 0.365498\n",
      "Train Epoch: 93 [1024/1487 (67%)] Loss: 0.261751\n",
      "Train Epoch: 93 [1152/1487 (75%)] Loss: 0.286306\n",
      "Train Epoch: 93 [1280/1487 (83%)] Loss: 0.339959\n",
      "Train Epoch: 93 [1408/1487 (92%)] Loss: 0.249836\n",
      "    epoch          : 93\n",
      "    loss           : 0.2961517535150051\n",
      "    my_metric      : 0.8733506944444445\n",
      "    f1             : 0.8731831240500149\n",
      "    balanced_accuracy: 0.8734022517110563\n",
      "    precision      : 0.8777339748227901\n",
      "    recall         : 0.8733506944444445\n",
      "    val_loss       : 0.6123159110546113\n",
      "    val_my_metric  : 0.7552083333333333\n",
      "    val_f1         : 0.7538619528961843\n",
      "    val_balanced_accuracy: 0.7534562029635394\n",
      "    val_precision  : 0.7592018744198422\n",
      "    val_recall     : 0.7552083333333333\n"
     ]
    },
    {
     "name": "stdout",
     "output_type": "stream",
     "text": [
      "Model has not improved in -------------| 69 epochs\n"
     ]
    },
    {
     "name": "stderr",
     "output_type": "stream",
     "text": [
      "Train Epoch: 94 [0/1487 (0%)] Loss: 0.378465\n",
      "Train Epoch: 94 [128/1487 (8%)] Loss: 0.293759\n",
      "Train Epoch: 94 [256/1487 (17%)] Loss: 0.244858\n",
      "Train Epoch: 94 [384/1487 (25%)] Loss: 0.172776\n",
      "Train Epoch: 94 [512/1487 (33%)] Loss: 0.352356\n",
      "Train Epoch: 94 [640/1487 (42%)] Loss: 0.289869\n",
      "Train Epoch: 94 [768/1487 (50%)] Loss: 0.452006\n",
      "Train Epoch: 94 [896/1487 (58%)] Loss: 0.329277\n",
      "Train Epoch: 94 [1024/1487 (67%)] Loss: 0.327753\n",
      "Train Epoch: 94 [1152/1487 (75%)] Loss: 0.253677\n",
      "Train Epoch: 94 [1280/1487 (83%)] Loss: 0.267463\n",
      "Train Epoch: 94 [1408/1487 (92%)] Loss: 0.392316\n",
      "    epoch          : 94\n",
      "    loss           : 0.3124442547559738\n",
      "    my_metric      : 0.8614583333333333\n",
      "    f1             : 0.8610155423202843\n",
      "    balanced_accuracy: 0.859633519815945\n",
      "    precision      : 0.8665905608477781\n",
      "    recall         : 0.8614583333333333\n",
      "    val_loss       : 0.8091118335723877\n",
      "    val_my_metric  : 0.7458333333333333\n",
      "    val_f1         : 0.7456223387197285\n",
      "    val_balanced_accuracy: 0.7469225461445574\n",
      "    val_precision  : 0.7488536378092904\n",
      "    val_recall     : 0.7458333333333333\n"
     ]
    },
    {
     "name": "stdout",
     "output_type": "stream",
     "text": [
      "Model has not improved in -------------| 70 epochs\n"
     ]
    },
    {
     "name": "stderr",
     "output_type": "stream",
     "text": [
      "Train Epoch: 95 [0/1487 (0%)] Loss: 0.345785\n",
      "Train Epoch: 95 [128/1487 (8%)] Loss: 0.297462\n",
      "Train Epoch: 95 [256/1487 (17%)] Loss: 0.246589\n",
      "Train Epoch: 95 [384/1487 (25%)] Loss: 0.285283\n",
      "Train Epoch: 95 [512/1487 (33%)] Loss: 0.200471\n",
      "Train Epoch: 95 [640/1487 (42%)] Loss: 0.242265\n",
      "Train Epoch: 95 [768/1487 (50%)] Loss: 0.256648\n",
      "Train Epoch: 95 [896/1487 (58%)] Loss: 0.393201\n",
      "Train Epoch: 95 [1024/1487 (67%)] Loss: 0.377162\n",
      "Train Epoch: 95 [1152/1487 (75%)] Loss: 0.262596\n",
      "Train Epoch: 95 [1280/1487 (83%)] Loss: 0.242148\n",
      "Train Epoch: 95 [1408/1487 (92%)] Loss: 0.269221\n",
      "    epoch          : 95\n",
      "    loss           : 0.28318459540605545\n",
      "    my_metric      : 0.8806857638888889\n",
      "    f1             : 0.8808046566808853\n",
      "    balanced_accuracy: 0.8817133570531234\n",
      "    precision      : 0.8851244096607096\n",
      "    recall         : 0.8806857638888889\n",
      "    val_loss       : 0.595329225063324\n",
      "    val_my_metric  : 0.7479166666666667\n",
      "    val_f1         : 0.7479541013707239\n",
      "    val_balanced_accuracy: 0.7611772286610996\n",
      "    val_precision  : 0.7811420377867746\n",
      "    val_recall     : 0.7479166666666667\n"
     ]
    },
    {
     "name": "stdout",
     "output_type": "stream",
     "text": [
      "Model has not improved in -------------| 71 epochs\n"
     ]
    },
    {
     "name": "stderr",
     "output_type": "stream",
     "text": [
      "Train Epoch: 96 [0/1487 (0%)] Loss: 0.296926\n",
      "Train Epoch: 96 [128/1487 (8%)] Loss: 0.280253\n",
      "Train Epoch: 96 [256/1487 (17%)] Loss: 0.279701\n",
      "Train Epoch: 96 [384/1487 (25%)] Loss: 0.240769\n",
      "Train Epoch: 96 [512/1487 (33%)] Loss: 0.339267\n",
      "Train Epoch: 96 [640/1487 (42%)] Loss: 0.207492\n",
      "Train Epoch: 96 [768/1487 (50%)] Loss: 0.259386\n",
      "Train Epoch: 96 [896/1487 (58%)] Loss: 0.253913\n",
      "Train Epoch: 96 [1024/1487 (67%)] Loss: 0.221756\n",
      "Train Epoch: 96 [1152/1487 (75%)] Loss: 0.352639\n",
      "Train Epoch: 96 [1280/1487 (83%)] Loss: 0.264826\n",
      "Train Epoch: 96 [1408/1487 (92%)] Loss: 0.356510\n",
      "    epoch          : 96\n",
      "    loss           : 0.29934516611198586\n",
      "    my_metric      : 0.8730034722222223\n",
      "    f1             : 0.8727699851419336\n",
      "    balanced_accuracy: 0.8741308524296993\n",
      "    precision      : 0.878720037638467\n",
      "    recall         : 0.8730034722222223\n",
      "    val_loss       : 0.5170190691947937\n",
      "    val_my_metric  : 0.79375\n",
      "    val_f1         : 0.7922130535233055\n",
      "    val_balanced_accuracy: 0.7959292299520003\n",
      "    val_precision  : 0.8020160400648365\n",
      "    val_recall     : 0.79375\n"
     ]
    },
    {
     "name": "stdout",
     "output_type": "stream",
     "text": [
      "Model has not improved in -------------| 72 epochs\n"
     ]
    },
    {
     "name": "stderr",
     "output_type": "stream",
     "text": [
      "Train Epoch: 97 [0/1487 (0%)] Loss: 0.315471\n",
      "Train Epoch: 97 [128/1487 (8%)] Loss: 0.285719\n",
      "Train Epoch: 97 [256/1487 (17%)] Loss: 0.295294\n",
      "Train Epoch: 97 [384/1487 (25%)] Loss: 0.354669\n",
      "Train Epoch: 97 [512/1487 (33%)] Loss: 0.302841\n",
      "Train Epoch: 97 [640/1487 (42%)] Loss: 0.383887\n",
      "Train Epoch: 97 [768/1487 (50%)] Loss: 0.232889\n",
      "Train Epoch: 97 [896/1487 (58%)] Loss: 0.253520\n",
      "Train Epoch: 97 [1024/1487 (67%)] Loss: 0.254776\n",
      "Train Epoch: 97 [1152/1487 (75%)] Loss: 0.265107\n",
      "Train Epoch: 97 [1280/1487 (83%)] Loss: 0.372407\n",
      "Train Epoch: 97 [1408/1487 (92%)] Loss: 0.222468\n",
      "    epoch          : 97\n",
      "    loss           : 0.30372938700020313\n",
      "    my_metric      : 0.8669704861111112\n",
      "    f1             : 0.8682774994609511\n",
      "    balanced_accuracy: 0.8683366736925189\n",
      "    precision      : 0.8776454273883164\n",
      "    recall         : 0.8669704861111112\n",
      "    val_loss       : 0.6936379492282867\n",
      "    val_my_metric  : 0.6541666666666667\n",
      "    val_f1         : 0.6535667760799394\n",
      "    val_balanced_accuracy: 0.6603895693174631\n",
      "    val_precision  : 0.6711383426856297\n",
      "    val_recall     : 0.6541666666666667\n"
     ]
    },
    {
     "name": "stdout",
     "output_type": "stream",
     "text": [
      "Model has not improved in -------------| 73 epochs\n"
     ]
    },
    {
     "name": "stderr",
     "output_type": "stream",
     "text": [
      "Train Epoch: 98 [0/1487 (0%)] Loss: 0.244445\n",
      "Train Epoch: 98 [128/1487 (8%)] Loss: 0.401764\n",
      "Train Epoch: 98 [256/1487 (17%)] Loss: 0.224631\n",
      "Train Epoch: 98 [384/1487 (25%)] Loss: 0.356253\n",
      "Train Epoch: 98 [512/1487 (33%)] Loss: 0.324899\n",
      "Train Epoch: 98 [640/1487 (42%)] Loss: 0.241263\n",
      "Train Epoch: 98 [768/1487 (50%)] Loss: 0.325786\n",
      "Train Epoch: 98 [896/1487 (58%)] Loss: 0.305749\n",
      "Train Epoch: 98 [1024/1487 (67%)] Loss: 0.318550\n",
      "Train Epoch: 98 [1152/1487 (75%)] Loss: 0.350958\n",
      "Train Epoch: 98 [1280/1487 (83%)] Loss: 0.245102\n",
      "Train Epoch: 98 [1408/1487 (92%)] Loss: 0.315343\n",
      "    epoch          : 98\n",
      "    loss           : 0.3112396237750848\n",
      "    my_metric      : 0.8725260416666667\n",
      "    f1             : 0.8727595320357963\n",
      "    balanced_accuracy: 0.8770348158980452\n",
      "    precision      : 0.8849507754828606\n",
      "    recall         : 0.8725260416666667\n",
      "    val_loss       : 0.491849185526371\n",
      "    val_my_metric  : 0.821875\n",
      "    val_f1         : 0.8224903891468924\n",
      "    val_balanced_accuracy: 0.82524852529097\n",
      "    val_precision  : 0.8282284793499513\n",
      "    val_recall     : 0.821875\n"
     ]
    },
    {
     "name": "stdout",
     "output_type": "stream",
     "text": [
      "Model has not improved in -------------| 74 epochs\n"
     ]
    },
    {
     "name": "stderr",
     "output_type": "stream",
     "text": [
      "Train Epoch: 99 [0/1487 (0%)] Loss: 0.225818\n",
      "Train Epoch: 99 [128/1487 (8%)] Loss: 0.328319\n",
      "Train Epoch: 99 [256/1487 (17%)] Loss: 0.279184\n",
      "Train Epoch: 99 [384/1487 (25%)] Loss: 0.345176\n",
      "Train Epoch: 99 [512/1487 (33%)] Loss: 0.333599\n",
      "Train Epoch: 99 [640/1487 (42%)] Loss: 0.307986\n",
      "Train Epoch: 99 [768/1487 (50%)] Loss: 0.258698\n",
      "Train Epoch: 99 [896/1487 (58%)] Loss: 0.352235\n",
      "Train Epoch: 99 [1024/1487 (67%)] Loss: 0.310039\n",
      "Train Epoch: 99 [1152/1487 (75%)] Loss: 0.363819\n",
      "Train Epoch: 99 [1280/1487 (83%)] Loss: 0.232245\n",
      "Train Epoch: 99 [1408/1487 (92%)] Loss: 0.274393\n",
      "    epoch          : 99\n",
      "    loss           : 0.2939110801865657\n",
      "    my_metric      : 0.8754774305555556\n",
      "    f1             : 0.8753548330293316\n",
      "    balanced_accuracy: 0.8766886714837648\n",
      "    precision      : 0.8819993075719226\n",
      "    recall         : 0.8754774305555556\n",
      "    val_loss       : 0.634944224357605\n",
      "    val_my_metric  : 0.7083333333333333\n",
      "    val_f1         : 0.7141476559275748\n",
      "    val_balanced_accuracy: 0.7331812280888826\n",
      "    val_precision  : 0.7616461489898989\n",
      "    val_recall     : 0.7083333333333333\n"
     ]
    },
    {
     "name": "stdout",
     "output_type": "stream",
     "text": [
      "Model has not improved in -------------| 75 epochs\n"
     ]
    },
    {
     "name": "stderr",
     "output_type": "stream",
     "text": [
      "Train Epoch: 100 [0/1487 (0%)] Loss: 0.266019\n",
      "Train Epoch: 100 [128/1487 (8%)] Loss: 0.355847\n",
      "Train Epoch: 100 [256/1487 (17%)] Loss: 0.257072\n",
      "Train Epoch: 100 [384/1487 (25%)] Loss: 0.226600\n",
      "Train Epoch: 100 [512/1487 (33%)] Loss: 0.275779\n",
      "Train Epoch: 100 [640/1487 (42%)] Loss: 0.272154\n",
      "Train Epoch: 100 [768/1487 (50%)] Loss: 0.276776\n",
      "Train Epoch: 100 [896/1487 (58%)] Loss: 0.288508\n",
      "Train Epoch: 100 [1024/1487 (67%)] Loss: 0.252300\n",
      "Train Epoch: 100 [1152/1487 (75%)] Loss: 0.177747\n",
      "Train Epoch: 100 [1280/1487 (83%)] Loss: 0.364980\n",
      "Train Epoch: 100 [1408/1487 (92%)] Loss: 0.411156\n",
      "    epoch          : 100\n",
      "    loss           : 0.2844668757170439\n",
      "    my_metric      : 0.8818142361111111\n",
      "    f1             : 0.8819580701614368\n",
      "    balanced_accuracy: 0.882884760594047\n",
      "    precision      : 0.8855503186808695\n",
      "    recall         : 0.8818142361111111\n",
      "    val_loss       : 0.5998684227466583\n",
      "    val_my_metric  : 0.7208333333333333\n",
      "    val_f1         : 0.7203667396777212\n",
      "    val_balanced_accuracy: 0.7369018457823012\n",
      "    val_precision  : 0.7553043235565279\n",
      "    val_recall     : 0.7208333333333333\n"
     ]
    },
    {
     "name": "stdout",
     "output_type": "stream",
     "text": [
      "Model has not improved in -------------| 76 epochs\n"
     ]
    },
    {
     "name": "stderr",
     "output_type": "stream",
     "text": [
      "Saving checkpoint: saved/GroundTruth_smallDataset/0618_201333/checkpoint-epoch100.pth ...\n",
      "Train Epoch: 101 [0/1487 (0%)] Loss: 0.264675\n",
      "Train Epoch: 101 [128/1487 (8%)] Loss: 0.229899\n",
      "Train Epoch: 101 [256/1487 (17%)] Loss: 0.318461\n",
      "Train Epoch: 101 [384/1487 (25%)] Loss: 0.313842\n",
      "Train Epoch: 101 [512/1487 (33%)] Loss: 0.215155\n",
      "Train Epoch: 101 [640/1487 (42%)] Loss: 0.207157\n",
      "Train Epoch: 101 [768/1487 (50%)] Loss: 0.259113\n",
      "Train Epoch: 101 [896/1487 (58%)] Loss: 0.207895\n",
      "Train Epoch: 101 [1024/1487 (67%)] Loss: 0.339225\n",
      "Train Epoch: 101 [1152/1487 (75%)] Loss: 0.247356\n",
      "Train Epoch: 101 [1280/1487 (83%)] Loss: 0.327101\n",
      "Train Epoch: 101 [1408/1487 (92%)] Loss: 0.366969\n",
      "    epoch          : 101\n",
      "    loss           : 0.29684702431162197\n",
      "    my_metric      : 0.8699218750000001\n",
      "    f1             : 0.8698124212401988\n",
      "    balanced_accuracy: 0.8737888266850685\n",
      "    precision      : 0.8802125897979806\n",
      "    recall         : 0.8699218750000001\n",
      "    val_loss       : 0.663537073135376\n",
      "    val_my_metric  : 0.7145833333333333\n",
      "    val_f1         : 0.7150297619047619\n",
      "    val_balanced_accuracy: 0.710508865000698\n",
      "    val_precision  : 0.7253955267107952\n",
      "    val_recall     : 0.7145833333333333\n"
     ]
    },
    {
     "name": "stdout",
     "output_type": "stream",
     "text": [
      "Model has not improved in -------------| 77 epochs\n"
     ]
    },
    {
     "name": "stderr",
     "output_type": "stream",
     "text": [
      "Train Epoch: 102 [0/1487 (0%)] Loss: 0.276217\n",
      "Train Epoch: 102 [128/1487 (8%)] Loss: 0.337240\n",
      "Train Epoch: 102 [256/1487 (17%)] Loss: 0.266307\n",
      "Train Epoch: 102 [384/1487 (25%)] Loss: 0.232116\n",
      "Train Epoch: 102 [512/1487 (33%)] Loss: 0.282849\n",
      "Train Epoch: 102 [640/1487 (42%)] Loss: 0.234908\n",
      "Train Epoch: 102 [768/1487 (50%)] Loss: 0.281519\n",
      "Train Epoch: 102 [896/1487 (58%)] Loss: 0.322785\n",
      "Train Epoch: 102 [1024/1487 (67%)] Loss: 0.227069\n",
      "Train Epoch: 102 [1152/1487 (75%)] Loss: 0.238895\n",
      "Train Epoch: 102 [1280/1487 (83%)] Loss: 0.325699\n",
      "Train Epoch: 102 [1408/1487 (92%)] Loss: 0.311662\n",
      "    epoch          : 102\n",
      "    loss           : 0.28782039632399875\n",
      "    my_metric      : 0.8705729166666667\n",
      "    f1             : 0.8703392671074067\n",
      "    balanced_accuracy: 0.8705417241592709\n",
      "    precision      : 0.875557199275248\n",
      "    recall         : 0.8705729166666667\n",
      "    val_loss       : 0.5957809090614319\n",
      "    val_my_metric  : 0.7489583333333333\n",
      "    val_f1         : 0.7483356014137802\n",
      "    val_balanced_accuracy: 0.7486575090649061\n",
      "    val_precision  : 0.7535079561706369\n",
      "    val_recall     : 0.7489583333333333\n"
     ]
    },
    {
     "name": "stdout",
     "output_type": "stream",
     "text": [
      "Model has not improved in -------------| 78 epochs\n"
     ]
    },
    {
     "name": "stderr",
     "output_type": "stream",
     "text": [
      "Train Epoch: 103 [0/1487 (0%)] Loss: 0.335626\n",
      "Train Epoch: 103 [128/1487 (8%)] Loss: 0.257842\n",
      "Train Epoch: 103 [256/1487 (17%)] Loss: 0.338544\n",
      "Train Epoch: 103 [384/1487 (25%)] Loss: 0.309340\n",
      "Train Epoch: 103 [512/1487 (33%)] Loss: 0.299376\n",
      "Train Epoch: 103 [640/1487 (42%)] Loss: 0.272717\n",
      "Train Epoch: 103 [768/1487 (50%)] Loss: 0.269304\n",
      "Train Epoch: 103 [896/1487 (58%)] Loss: 0.324988\n",
      "Train Epoch: 103 [1024/1487 (67%)] Loss: 0.167147\n",
      "Train Epoch: 103 [1152/1487 (75%)] Loss: 0.229113\n",
      "Train Epoch: 103 [1280/1487 (83%)] Loss: 0.248115\n",
      "Train Epoch: 103 [1408/1487 (92%)] Loss: 0.181738\n",
      "    epoch          : 103\n",
      "    loss           : 0.2877336914340655\n",
      "    my_metric      : 0.8749565972222223\n",
      "    f1             : 0.8748462520208456\n",
      "    balanced_accuracy: 0.8752950896351132\n",
      "    precision      : 0.8782301873971017\n",
      "    recall         : 0.8749565972222223\n",
      "    val_loss       : 0.5593326091766357\n",
      "    val_my_metric  : 0.803125\n",
      "    val_f1         : 0.8030858112475758\n",
      "    val_balanced_accuracy: 0.8020301118783092\n",
      "    val_precision  : 0.8043207520140223\n",
      "    val_recall     : 0.803125\n"
     ]
    },
    {
     "name": "stdout",
     "output_type": "stream",
     "text": [
      "Model has not improved in -------------| 79 epochs\n"
     ]
    },
    {
     "name": "stderr",
     "output_type": "stream",
     "text": [
      "Train Epoch: 104 [0/1487 (0%)] Loss: 0.214837\n",
      "Train Epoch: 104 [128/1487 (8%)] Loss: 0.269312\n",
      "Train Epoch: 104 [256/1487 (17%)] Loss: 0.253038\n",
      "Train Epoch: 104 [384/1487 (25%)] Loss: 0.304903\n",
      "Train Epoch: 104 [512/1487 (33%)] Loss: 0.256613\n",
      "Train Epoch: 104 [640/1487 (42%)] Loss: 0.306916\n",
      "Train Epoch: 104 [768/1487 (50%)] Loss: 0.130933\n",
      "Train Epoch: 104 [896/1487 (58%)] Loss: 0.293161\n",
      "Train Epoch: 104 [1024/1487 (67%)] Loss: 0.221851\n",
      "Train Epoch: 104 [1152/1487 (75%)] Loss: 0.330763\n",
      "Train Epoch: 104 [1280/1487 (83%)] Loss: 0.345124\n",
      "Train Epoch: 104 [1408/1487 (92%)] Loss: 0.293061\n",
      "    epoch          : 104\n",
      "    loss           : 0.2749369616309802\n",
      "    my_metric      : 0.8896267361111111\n",
      "    f1             : 0.8895059300669779\n",
      "    balanced_accuracy: 0.8895436533022179\n",
      "    precision      : 0.8950819585561796\n",
      "    recall         : 0.8896267361111111\n",
      "    val_loss       : 0.6657508730888366\n",
      "    val_my_metric  : 0.715625\n",
      "    val_f1         : 0.7043895799649867\n",
      "    val_balanced_accuracy: 0.6906566975752035\n",
      "    val_precision  : 0.69739576163951\n",
      "    val_recall     : 0.715625\n"
     ]
    },
    {
     "name": "stdout",
     "output_type": "stream",
     "text": [
      "Model has not improved in -------------| 80 epochs\n"
     ]
    },
    {
     "name": "stderr",
     "output_type": "stream",
     "text": [
      "Train Epoch: 105 [0/1487 (0%)] Loss: 0.313100\n",
      "Train Epoch: 105 [128/1487 (8%)] Loss: 0.323149\n",
      "Train Epoch: 105 [256/1487 (17%)] Loss: 0.408368\n",
      "Train Epoch: 105 [384/1487 (25%)] Loss: 0.262598\n",
      "Train Epoch: 105 [512/1487 (33%)] Loss: 0.280428\n",
      "Train Epoch: 105 [640/1487 (42%)] Loss: 0.188947\n",
      "Train Epoch: 105 [768/1487 (50%)] Loss: 0.218711\n",
      "Train Epoch: 105 [896/1487 (58%)] Loss: 0.299838\n",
      "Train Epoch: 105 [1024/1487 (67%)] Loss: 0.253158\n",
      "Train Epoch: 105 [1152/1487 (75%)] Loss: 0.441177\n",
      "Train Epoch: 105 [1280/1487 (83%)] Loss: 0.246344\n",
      "Train Epoch: 105 [1408/1487 (92%)] Loss: 0.246208\n",
      "    epoch          : 105\n",
      "    loss           : 0.2798332354674737\n",
      "    my_metric      : 0.8800347222222222\n",
      "    f1             : 0.8797861617106256\n",
      "    balanced_accuracy: 0.8787988850381979\n",
      "    precision      : 0.8849153828712469\n",
      "    recall         : 0.8800347222222222\n",
      "    val_loss       : 0.7246065318584443\n",
      "    val_my_metric  : 0.696875\n",
      "    val_f1         : 0.7050428926566139\n",
      "    val_balanced_accuracy: 0.655224051750339\n",
      "    val_precision  : 0.7316731833590386\n",
      "    val_recall     : 0.696875\n"
     ]
    },
    {
     "name": "stdout",
     "output_type": "stream",
     "text": [
      "Model has not improved in -------------| 81 epochs\n"
     ]
    },
    {
     "name": "stderr",
     "output_type": "stream",
     "text": [
      "Train Epoch: 106 [0/1487 (0%)] Loss: 0.184663\n",
      "Train Epoch: 106 [128/1487 (8%)] Loss: 0.404883\n",
      "Train Epoch: 106 [256/1487 (17%)] Loss: 0.197593\n",
      "Train Epoch: 106 [384/1487 (25%)] Loss: 0.331205\n",
      "Train Epoch: 106 [512/1487 (33%)] Loss: 0.255639\n",
      "Train Epoch: 106 [640/1487 (42%)] Loss: 0.339287\n",
      "Train Epoch: 106 [768/1487 (50%)] Loss: 0.158768\n",
      "Train Epoch: 106 [896/1487 (58%)] Loss: 0.451868\n",
      "Train Epoch: 106 [1024/1487 (67%)] Loss: 0.249916\n",
      "Train Epoch: 106 [1152/1487 (75%)] Loss: 0.266688\n",
      "Train Epoch: 106 [1280/1487 (83%)] Loss: 0.311088\n",
      "Train Epoch: 106 [1408/1487 (92%)] Loss: 0.257989\n",
      "    epoch          : 106\n",
      "    loss           : 0.29048019150892895\n",
      "    my_metric      : 0.8604600694444445\n",
      "    f1             : 0.8599018547628733\n",
      "    balanced_accuracy: 0.8618492104474277\n",
      "    precision      : 0.8673215147969228\n",
      "    recall         : 0.8604600694444445\n",
      "    val_loss       : 0.7661284565925598\n",
      "    val_my_metric  : 0.7604166666666667\n",
      "    val_f1         : 0.7598434098265385\n",
      "    val_balanced_accuracy: 0.7603295139080342\n",
      "    val_precision  : 0.77125198277227\n",
      "    val_recall     : 0.7604166666666667\n"
     ]
    },
    {
     "name": "stdout",
     "output_type": "stream",
     "text": [
      "Model has not improved in -------------| 82 epochs\n"
     ]
    },
    {
     "name": "stderr",
     "output_type": "stream",
     "text": [
      "Train Epoch: 107 [0/1487 (0%)] Loss: 0.316189\n",
      "Train Epoch: 107 [128/1487 (8%)] Loss: 0.278767\n",
      "Train Epoch: 107 [256/1487 (17%)] Loss: 0.193123\n",
      "Train Epoch: 107 [384/1487 (25%)] Loss: 0.278069\n",
      "Train Epoch: 107 [512/1487 (33%)] Loss: 0.210747\n",
      "Train Epoch: 107 [640/1487 (42%)] Loss: 0.341917\n",
      "Train Epoch: 107 [768/1487 (50%)] Loss: 0.208553\n",
      "Train Epoch: 107 [896/1487 (58%)] Loss: 0.284007\n",
      "Train Epoch: 107 [1024/1487 (67%)] Loss: 0.259230\n",
      "Train Epoch: 107 [1152/1487 (75%)] Loss: 0.323088\n",
      "Train Epoch: 107 [1280/1487 (83%)] Loss: 0.249823\n",
      "Train Epoch: 107 [1408/1487 (92%)] Loss: 0.371569\n",
      "    epoch          : 107\n",
      "    loss           : 0.2671203911304474\n",
      "    my_metric      : 0.876953125\n",
      "    f1             : 0.8768132321751948\n",
      "    balanced_accuracy: 0.8769887709460127\n",
      "    precision      : 0.8804817345555289\n",
      "    recall         : 0.876953125\n",
      "    val_loss       : 0.5449675157666206\n",
      "    val_my_metric  : 0.784375\n",
      "    val_f1         : 0.7836440733314095\n",
      "    val_balanced_accuracy: 0.7842686565980422\n",
      "    val_precision  : 0.7874661817427394\n",
      "    val_recall     : 0.784375\n"
     ]
    },
    {
     "name": "stdout",
     "output_type": "stream",
     "text": [
      "Model has not improved in -------------| 83 epochs\n"
     ]
    },
    {
     "name": "stderr",
     "output_type": "stream",
     "text": [
      "Train Epoch: 108 [0/1487 (0%)] Loss: 0.306656\n",
      "Train Epoch: 108 [128/1487 (8%)] Loss: 0.199671\n",
      "Train Epoch: 108 [256/1487 (17%)] Loss: 0.147979\n",
      "Train Epoch: 108 [384/1487 (25%)] Loss: 0.290556\n",
      "Train Epoch: 108 [512/1487 (33%)] Loss: 0.188461\n",
      "Train Epoch: 108 [640/1487 (42%)] Loss: 0.176498\n",
      "Train Epoch: 108 [768/1487 (50%)] Loss: 0.252555\n",
      "Train Epoch: 108 [896/1487 (58%)] Loss: 0.233336\n",
      "Train Epoch: 108 [1024/1487 (67%)] Loss: 0.285989\n",
      "Train Epoch: 108 [1152/1487 (75%)] Loss: 0.310787\n",
      "Train Epoch: 108 [1280/1487 (83%)] Loss: 0.302037\n",
      "Train Epoch: 108 [1408/1487 (92%)] Loss: 0.211736\n",
      "    epoch          : 108\n",
      "    loss           : 0.26914811320602894\n",
      "    my_metric      : 0.8837673611111111\n",
      "    f1             : 0.884170587130539\n",
      "    balanced_accuracy: 0.8883657457460007\n",
      "    precision      : 0.8922738128702451\n",
      "    recall         : 0.8837673611111111\n",
      "    val_loss       : 0.7021122515201569\n",
      "    val_my_metric  : 0.6760416666666667\n",
      "    val_f1         : 0.6759824205506944\n",
      "    val_balanced_accuracy: 0.6789815449397992\n",
      "    val_precision  : 0.6827701964406453\n",
      "    val_recall     : 0.6760416666666667\n"
     ]
    },
    {
     "name": "stdout",
     "output_type": "stream",
     "text": [
      "Model has not improved in -------------| 84 epochs\n"
     ]
    },
    {
     "name": "stderr",
     "output_type": "stream",
     "text": [
      "Train Epoch: 109 [0/1487 (0%)] Loss: 0.317843\n",
      "Train Epoch: 109 [128/1487 (8%)] Loss: 0.270733\n",
      "Train Epoch: 109 [256/1487 (17%)] Loss: 0.254540\n",
      "Train Epoch: 109 [384/1487 (25%)] Loss: 0.234583\n",
      "Train Epoch: 109 [512/1487 (33%)] Loss: 0.261732\n",
      "Train Epoch: 109 [640/1487 (42%)] Loss: 0.293897\n",
      "Train Epoch: 109 [768/1487 (50%)] Loss: 0.253179\n",
      "Train Epoch: 109 [896/1487 (58%)] Loss: 0.264558\n",
      "Train Epoch: 109 [1024/1487 (67%)] Loss: 0.266924\n",
      "Train Epoch: 109 [1152/1487 (75%)] Loss: 0.172568\n",
      "Train Epoch: 109 [1280/1487 (83%)] Loss: 0.357628\n",
      "Train Epoch: 109 [1408/1487 (92%)] Loss: 0.402936\n",
      "    epoch          : 109\n",
      "    loss           : 0.270256611208121\n",
      "    my_metric      : 0.8930555555555556\n",
      "    f1             : 0.8928646976073121\n",
      "    balanced_accuracy: 0.8930846248012388\n",
      "    precision      : 0.8991417227395139\n",
      "    recall         : 0.8930555555555556\n",
      "    val_loss       : 0.5713359534740448\n",
      "    val_my_metric  : 0.7604166666666667\n",
      "    val_f1         : 0.7601844192096372\n",
      "    val_balanced_accuracy: 0.7716729025516567\n",
      "    val_precision  : 0.7878294916763358\n",
      "    val_recall     : 0.7604166666666667\n"
     ]
    },
    {
     "name": "stdout",
     "output_type": "stream",
     "text": [
      "Model has not improved in -------------| 85 epochs\n"
     ]
    },
    {
     "name": "stderr",
     "output_type": "stream",
     "text": [
      "Train Epoch: 110 [0/1487 (0%)] Loss: 0.202367\n",
      "Train Epoch: 110 [128/1487 (8%)] Loss: 0.448735\n",
      "Train Epoch: 110 [256/1487 (17%)] Loss: 0.365373\n",
      "Train Epoch: 110 [384/1487 (25%)] Loss: 0.182571\n",
      "Train Epoch: 110 [512/1487 (33%)] Loss: 0.221151\n",
      "Train Epoch: 110 [640/1487 (42%)] Loss: 0.455192\n",
      "Train Epoch: 110 [768/1487 (50%)] Loss: 0.232709\n",
      "Train Epoch: 110 [896/1487 (58%)] Loss: 0.251721\n",
      "Train Epoch: 110 [1024/1487 (67%)] Loss: 0.243978\n",
      "Train Epoch: 110 [1152/1487 (75%)] Loss: 0.245998\n",
      "Train Epoch: 110 [1280/1487 (83%)] Loss: 0.218572\n",
      "Train Epoch: 110 [1408/1487 (92%)] Loss: 0.267202\n",
      "    epoch          : 110\n",
      "    loss           : 0.2588307388747732\n",
      "    my_metric      : 0.8958333333333334\n",
      "    f1             : 0.8957223043040061\n",
      "    balanced_accuracy: 0.8960755990155861\n",
      "    precision      : 0.8991036862179688\n",
      "    recall         : 0.8958333333333334\n",
      "    val_loss       : 0.6831357479095459\n",
      "    val_my_metric  : 0.7333333333333333\n",
      "    val_f1         : 0.7339900183378902\n",
      "    val_balanced_accuracy: 0.7510997697204594\n",
      "    val_precision  : 0.7743168944565908\n",
      "    val_recall     : 0.7333333333333333\n"
     ]
    },
    {
     "name": "stdout",
     "output_type": "stream",
     "text": [
      "Model has not improved in -------------| 86 epochs\n"
     ]
    },
    {
     "name": "stderr",
     "output_type": "stream",
     "text": [
      "Train Epoch: 111 [0/1487 (0%)] Loss: 0.177534\n",
      "Train Epoch: 111 [128/1487 (8%)] Loss: 0.283948\n",
      "Train Epoch: 111 [256/1487 (17%)] Loss: 0.271648\n",
      "Train Epoch: 111 [384/1487 (25%)] Loss: 0.187512\n",
      "Train Epoch: 111 [512/1487 (33%)] Loss: 0.196140\n",
      "Train Epoch: 111 [640/1487 (42%)] Loss: 0.187044\n",
      "Train Epoch: 111 [768/1487 (50%)] Loss: 0.288597\n",
      "Train Epoch: 111 [896/1487 (58%)] Loss: 0.409801\n",
      "Train Epoch: 111 [1024/1487 (67%)] Loss: 0.270933\n",
      "Train Epoch: 111 [1152/1487 (75%)] Loss: 0.311711\n",
      "Train Epoch: 111 [1280/1487 (83%)] Loss: 0.224019\n",
      "Train Epoch: 111 [1408/1487 (92%)] Loss: 0.298404\n",
      "    epoch          : 111\n",
      "    loss           : 0.2707873371740182\n",
      "    my_metric      : 0.8901041666666667\n",
      "    f1             : 0.8902433030215207\n",
      "    balanced_accuracy: 0.8941108079254508\n",
      "    precision      : 0.8995651762447098\n",
      "    recall         : 0.8901041666666667\n",
      "    val_loss       : 0.6905699014663697\n",
      "    val_my_metric  : 0.671875\n",
      "    val_f1         : 0.6650617603992052\n",
      "    val_balanced_accuracy: 0.6746840730427068\n",
      "    val_precision  : 0.6886639527443303\n",
      "    val_recall     : 0.671875\n"
     ]
    },
    {
     "name": "stdout",
     "output_type": "stream",
     "text": [
      "Model has not improved in -------------| 87 epochs\n"
     ]
    },
    {
     "name": "stderr",
     "output_type": "stream",
     "text": [
      "Train Epoch: 112 [0/1487 (0%)] Loss: 0.210168\n",
      "Train Epoch: 112 [128/1487 (8%)] Loss: 0.228512\n",
      "Train Epoch: 112 [256/1487 (17%)] Loss: 0.249736\n",
      "Train Epoch: 112 [384/1487 (25%)] Loss: 0.223776\n",
      "Train Epoch: 112 [512/1487 (33%)] Loss: 0.265923\n",
      "Train Epoch: 112 [640/1487 (42%)] Loss: 0.158641\n",
      "Train Epoch: 112 [768/1487 (50%)] Loss: 0.244935\n",
      "Train Epoch: 112 [896/1487 (58%)] Loss: 0.375620\n",
      "Train Epoch: 112 [1024/1487 (67%)] Loss: 0.243396\n",
      "Train Epoch: 112 [1152/1487 (75%)] Loss: 0.336292\n",
      "Train Epoch: 112 [1280/1487 (83%)] Loss: 0.255901\n",
      "Train Epoch: 112 [1408/1487 (92%)] Loss: 0.219142\n",
      "    epoch          : 112\n",
      "    loss           : 0.24827449147899947\n",
      "    my_metric      : 0.9010416666666666\n",
      "    f1             : 0.9011855416275387\n",
      "    balanced_accuracy: 0.902271452008275\n",
      "    precision      : 0.9034077464013462\n",
      "    recall         : 0.9010416666666666\n",
      "    val_loss       : 0.5484192639589309\n",
      "    val_my_metric  : 0.784375\n",
      "    val_f1         : 0.7835073925102229\n",
      "    val_balanced_accuracy: 0.7875892857142858\n",
      "    val_precision  : 0.7927809877678957\n",
      "    val_recall     : 0.784375\n"
     ]
    },
    {
     "name": "stdout",
     "output_type": "stream",
     "text": [
      "Model has not improved in -------------| 88 epochs\n"
     ]
    },
    {
     "name": "stderr",
     "output_type": "stream",
     "text": [
      "Train Epoch: 113 [0/1487 (0%)] Loss: 0.240723\n",
      "Train Epoch: 113 [128/1487 (8%)] Loss: 0.215496\n",
      "Train Epoch: 113 [256/1487 (17%)] Loss: 0.296278\n",
      "Train Epoch: 113 [384/1487 (25%)] Loss: 0.274907\n",
      "Train Epoch: 113 [512/1487 (33%)] Loss: 0.305560\n",
      "Train Epoch: 113 [640/1487 (42%)] Loss: 0.273098\n",
      "Train Epoch: 113 [768/1487 (50%)] Loss: 0.318557\n",
      "Train Epoch: 113 [896/1487 (58%)] Loss: 0.413206\n",
      "Train Epoch: 113 [1024/1487 (67%)] Loss: 0.244602\n",
      "Train Epoch: 113 [1152/1487 (75%)] Loss: 0.301218\n",
      "Train Epoch: 113 [1280/1487 (83%)] Loss: 0.223455\n",
      "Train Epoch: 113 [1408/1487 (92%)] Loss: 0.194458\n",
      "    epoch          : 113\n",
      "    loss           : 0.2673448057224353\n",
      "    my_metric      : 0.8831163194444445\n",
      "    f1             : 0.8831826674406532\n",
      "    balanced_accuracy: 0.8871633100260411\n",
      "    precision      : 0.8933920924563092\n",
      "    recall         : 0.8831163194444445\n",
      "    val_loss       : 0.6307420849800109\n",
      "    val_my_metric  : 0.7791666666666667\n",
      "    val_f1         : 0.7833263014992984\n",
      "    val_balanced_accuracy: 0.7948269422711614\n",
      "    val_precision  : 0.8004405509225319\n",
      "    val_recall     : 0.7791666666666667\n"
     ]
    },
    {
     "name": "stdout",
     "output_type": "stream",
     "text": [
      "Model has not improved in -------------| 89 epochs\n"
     ]
    },
    {
     "name": "stderr",
     "output_type": "stream",
     "text": [
      "Train Epoch: 114 [0/1487 (0%)] Loss: 0.212559\n",
      "Train Epoch: 114 [128/1487 (8%)] Loss: 0.412793\n",
      "Train Epoch: 114 [256/1487 (17%)] Loss: 0.182152\n",
      "Train Epoch: 114 [384/1487 (25%)] Loss: 0.194794\n",
      "Train Epoch: 114 [512/1487 (33%)] Loss: 0.271246\n",
      "Train Epoch: 114 [640/1487 (42%)] Loss: 0.262011\n",
      "Train Epoch: 114 [768/1487 (50%)] Loss: 0.281405\n",
      "Train Epoch: 114 [896/1487 (58%)] Loss: 0.379094\n",
      "Train Epoch: 114 [1024/1487 (67%)] Loss: 0.384542\n",
      "Train Epoch: 114 [1152/1487 (75%)] Loss: 0.288996\n",
      "Train Epoch: 114 [1280/1487 (83%)] Loss: 0.221543\n",
      "Train Epoch: 114 [1408/1487 (92%)] Loss: 0.255957\n",
      "    epoch          : 114\n",
      "    loss           : 0.2731974919637044\n",
      "    my_metric      : 0.8819878472222222\n",
      "    f1             : 0.8822290147449334\n",
      "    balanced_accuracy: 0.8865405779209685\n",
      "    precision      : 0.8957979024468353\n",
      "    recall         : 0.8819878472222222\n",
      "    val_loss       : 0.6813307881355286\n",
      "    val_my_metric  : 0.640625\n",
      "    val_f1         : 0.6338929067870229\n",
      "    val_balanced_accuracy: 0.6436749918138961\n",
      "    val_precision  : 0.6792216507157834\n",
      "    val_recall     : 0.640625\n"
     ]
    },
    {
     "name": "stdout",
     "output_type": "stream",
     "text": [
      "Model has not improved in -------------| 90 epochs\n"
     ]
    },
    {
     "name": "stderr",
     "output_type": "stream",
     "text": [
      "Train Epoch: 115 [0/1487 (0%)] Loss: 0.366138\n",
      "Train Epoch: 115 [128/1487 (8%)] Loss: 0.248818\n",
      "Train Epoch: 115 [256/1487 (17%)] Loss: 0.217095\n",
      "Train Epoch: 115 [384/1487 (25%)] Loss: 0.353825\n",
      "Train Epoch: 115 [512/1487 (33%)] Loss: 0.376688\n",
      "Train Epoch: 115 [640/1487 (42%)] Loss: 0.270997\n",
      "Train Epoch: 115 [768/1487 (50%)] Loss: 0.279973\n",
      "Train Epoch: 115 [896/1487 (58%)] Loss: 0.287318\n",
      "Train Epoch: 115 [1024/1487 (67%)] Loss: 0.346770\n",
      "Train Epoch: 115 [1152/1487 (75%)] Loss: 0.208058\n",
      "Train Epoch: 115 [1280/1487 (83%)] Loss: 0.267051\n",
      "Train Epoch: 115 [1408/1487 (92%)] Loss: 0.291021\n",
      "    epoch          : 115\n",
      "    loss           : 0.2756897664318482\n",
      "    my_metric      : 0.8767795138888889\n",
      "    f1             : 0.8765876906265251\n",
      "    balanced_accuracy: 0.8775379864459131\n",
      "    precision      : 0.8831507783644978\n",
      "    recall         : 0.8767795138888889\n",
      "    val_loss       : 0.6048228204250335\n",
      "    val_my_metric  : 0.7354166666666667\n",
      "    val_f1         : 0.7369272590931711\n",
      "    val_balanced_accuracy: 0.7424898369604251\n",
      "    val_precision  : 0.748851348663727\n",
      "    val_recall     : 0.7354166666666667\n"
     ]
    },
    {
     "name": "stdout",
     "output_type": "stream",
     "text": [
      "Model has not improved in -------------| 91 epochs\n"
     ]
    },
    {
     "name": "stderr",
     "output_type": "stream",
     "text": [
      "Train Epoch: 116 [0/1487 (0%)] Loss: 0.290527\n",
      "Train Epoch: 116 [128/1487 (8%)] Loss: 0.261803\n",
      "Train Epoch: 116 [256/1487 (17%)] Loss: 0.269331\n",
      "Train Epoch: 116 [384/1487 (25%)] Loss: 0.232762\n",
      "Train Epoch: 116 [512/1487 (33%)] Loss: 0.208229\n",
      "Train Epoch: 116 [640/1487 (42%)] Loss: 0.288254\n",
      "Train Epoch: 116 [768/1487 (50%)] Loss: 0.329631\n",
      "Train Epoch: 116 [896/1487 (58%)] Loss: 0.264406\n",
      "Train Epoch: 116 [1024/1487 (67%)] Loss: 0.297776\n",
      "Train Epoch: 116 [1152/1487 (75%)] Loss: 0.255807\n",
      "Train Epoch: 116 [1280/1487 (83%)] Loss: 0.232745\n",
      "Train Epoch: 116 [1408/1487 (92%)] Loss: 0.177439\n",
      "    epoch          : 116\n",
      "    loss           : 0.244095366448164\n",
      "    my_metric      : 0.9069010416666666\n",
      "    f1             : 0.9069556524210997\n",
      "    balanced_accuracy: 0.907397987106957\n",
      "    precision      : 0.9092240855240225\n",
      "    recall         : 0.9069010416666666\n",
      "    val_loss       : 0.6583424925804138\n",
      "    val_my_metric  : 0.703125\n",
      "    val_f1         : 0.7043393829333233\n",
      "    val_balanced_accuracy: 0.6982546832546832\n",
      "    val_precision  : 0.7171374527721293\n",
      "    val_recall     : 0.703125\n"
     ]
    },
    {
     "name": "stdout",
     "output_type": "stream",
     "text": [
      "Model has not improved in -------------| 92 epochs\n"
     ]
    },
    {
     "name": "stderr",
     "output_type": "stream",
     "text": [
      "Train Epoch: 117 [0/1487 (0%)] Loss: 0.203488\n",
      "Train Epoch: 117 [128/1487 (8%)] Loss: 0.154421\n",
      "Train Epoch: 117 [256/1487 (17%)] Loss: 0.308511\n",
      "Train Epoch: 117 [384/1487 (25%)] Loss: 0.307933\n",
      "Train Epoch: 117 [512/1487 (33%)] Loss: 0.334604\n",
      "Train Epoch: 117 [640/1487 (42%)] Loss: 0.209665\n",
      "Train Epoch: 117 [768/1487 (50%)] Loss: 0.259861\n",
      "Train Epoch: 117 [896/1487 (58%)] Loss: 0.242458\n",
      "Train Epoch: 117 [1024/1487 (67%)] Loss: 0.302127\n",
      "Train Epoch: 117 [1152/1487 (75%)] Loss: 0.176001\n",
      "Train Epoch: 117 [1280/1487 (83%)] Loss: 0.237712\n",
      "Train Epoch: 117 [1408/1487 (92%)] Loss: 0.246617\n",
      "    epoch          : 117\n",
      "    loss           : 0.2398823198551933\n",
      "    my_metric      : 0.8982638888888889\n",
      "    f1             : 0.8986384610200474\n",
      "    balanced_accuracy: 0.9011115956614179\n",
      "    precision      : 0.9035166143593226\n",
      "    recall         : 0.8982638888888889\n",
      "    val_loss       : 0.774707555770874\n",
      "    val_my_metric  : 0.7583333333333333\n",
      "    val_f1         : 0.7572692417518374\n",
      "    val_balanced_accuracy: 0.7759926045688003\n",
      "    val_precision  : 0.8006576763542771\n",
      "    val_recall     : 0.7583333333333333\n"
     ]
    },
    {
     "name": "stdout",
     "output_type": "stream",
     "text": [
      "Model has not improved in -------------| 93 epochs\n"
     ]
    },
    {
     "name": "stderr",
     "output_type": "stream",
     "text": [
      "Train Epoch: 118 [0/1487 (0%)] Loss: 0.359468\n",
      "Train Epoch: 118 [128/1487 (8%)] Loss: 0.163782\n",
      "Train Epoch: 118 [256/1487 (17%)] Loss: 0.239774\n",
      "Train Epoch: 118 [384/1487 (25%)] Loss: 0.254310\n",
      "Train Epoch: 118 [512/1487 (33%)] Loss: 0.297835\n",
      "Train Epoch: 118 [640/1487 (42%)] Loss: 0.270764\n",
      "Train Epoch: 118 [768/1487 (50%)] Loss: 0.148594\n",
      "Train Epoch: 118 [896/1487 (58%)] Loss: 0.340834\n",
      "Train Epoch: 118 [1024/1487 (67%)] Loss: 0.214376\n",
      "Train Epoch: 118 [1152/1487 (75%)] Loss: 0.150550\n",
      "Train Epoch: 118 [1280/1487 (83%)] Loss: 0.311323\n",
      "Train Epoch: 118 [1408/1487 (92%)] Loss: 0.164423\n",
      "    epoch          : 118\n",
      "    loss           : 0.28713876319428283\n",
      "    my_metric      : 0.8917100694444445\n",
      "    f1             : 0.8938819640207972\n",
      "    balanced_accuracy: 0.8995430632094702\n",
      "    precision      : 0.9077109047007217\n",
      "    recall         : 0.8917100694444445\n",
      "    val_loss       : 0.6940105020999908\n",
      "    val_my_metric  : 0.69375\n",
      "    val_f1         : 0.703642795750824\n",
      "    val_balanced_accuracy: 0.6540450889797385\n",
      "    val_precision  : 0.7270958294223362\n",
      "    val_recall     : 0.69375\n"
     ]
    },
    {
     "name": "stdout",
     "output_type": "stream",
     "text": [
      "Model has not improved in -------------| 94 epochs\n"
     ]
    },
    {
     "name": "stderr",
     "output_type": "stream",
     "text": [
      "Train Epoch: 119 [0/1487 (0%)] Loss: 0.218094\n",
      "Train Epoch: 119 [128/1487 (8%)] Loss: 0.249628\n",
      "Train Epoch: 119 [256/1487 (17%)] Loss: 0.286391\n",
      "Train Epoch: 119 [384/1487 (25%)] Loss: 0.211063\n",
      "Train Epoch: 119 [512/1487 (33%)] Loss: 0.328234\n",
      "Train Epoch: 119 [640/1487 (42%)] Loss: 0.290063\n",
      "Train Epoch: 119 [768/1487 (50%)] Loss: 0.221007\n",
      "Train Epoch: 119 [896/1487 (58%)] Loss: 0.317798\n",
      "Train Epoch: 119 [1024/1487 (67%)] Loss: 0.195317\n",
      "Train Epoch: 119 [1152/1487 (75%)] Loss: 0.190611\n",
      "Train Epoch: 119 [1280/1487 (83%)] Loss: 0.337219\n",
      "Train Epoch: 119 [1408/1487 (92%)] Loss: 0.327970\n",
      "    epoch          : 119\n",
      "    loss           : 0.2619824502617121\n",
      "    my_metric      : 0.8902777777777778\n",
      "    f1             : 0.8903237104408995\n",
      "    balanced_accuracy: 0.8942097736080631\n",
      "    precision      : 0.9007005682372718\n",
      "    recall         : 0.8902777777777778\n",
      "    val_loss       : 0.5554456889629364\n",
      "    val_my_metric  : 0.7510416666666667\n",
      "    val_f1         : 0.7501833406950892\n",
      "    val_balanced_accuracy: 0.7486642889274467\n",
      "    val_precision  : 0.7663320998615115\n",
      "    val_recall     : 0.7510416666666667\n"
     ]
    },
    {
     "name": "stdout",
     "output_type": "stream",
     "text": [
      "Model has not improved in -------------| 95 epochs\n"
     ]
    },
    {
     "name": "stderr",
     "output_type": "stream",
     "text": [
      "Train Epoch: 120 [0/1487 (0%)] Loss: 0.207295\n",
      "Train Epoch: 120 [128/1487 (8%)] Loss: 0.327145\n",
      "Train Epoch: 120 [256/1487 (17%)] Loss: 0.331131\n",
      "Train Epoch: 120 [384/1487 (25%)] Loss: 0.287830\n",
      "Train Epoch: 120 [512/1487 (33%)] Loss: 0.288292\n",
      "Train Epoch: 120 [640/1487 (42%)] Loss: 0.176847\n",
      "Train Epoch: 120 [768/1487 (50%)] Loss: 0.289577\n",
      "Train Epoch: 120 [896/1487 (58%)] Loss: 0.229070\n",
      "Train Epoch: 120 [1024/1487 (67%)] Loss: 0.213003\n",
      "Train Epoch: 120 [1152/1487 (75%)] Loss: 0.231213\n",
      "Train Epoch: 120 [1280/1487 (83%)] Loss: 0.231406\n",
      "Train Epoch: 120 [1408/1487 (92%)] Loss: 0.252375\n",
      "    epoch          : 120\n",
      "    loss           : 0.25233564836283523\n",
      "    my_metric      : 0.8943576388888889\n",
      "    f1             : 0.8946857797787828\n",
      "    balanced_accuracy: 0.8982661093188208\n",
      "    precision      : 0.9004951761887455\n",
      "    recall         : 0.8943576388888889\n",
      "    val_loss       : 0.7005238175392151\n",
      "    val_my_metric  : 0.69375\n",
      "    val_f1         : 0.6955109190289404\n",
      "    val_balanced_accuracy: 0.6955893168606642\n",
      "    val_precision  : 0.7166895342218618\n",
      "    val_recall     : 0.69375\n"
     ]
    },
    {
     "name": "stdout",
     "output_type": "stream",
     "text": [
      "Model has not improved in -------------| 96 epochs\n"
     ]
    },
    {
     "name": "stderr",
     "output_type": "stream",
     "text": [
      "Train Epoch: 121 [0/1487 (0%)] Loss: 0.277183\n",
      "Train Epoch: 121 [128/1487 (8%)] Loss: 0.366593\n",
      "Train Epoch: 121 [256/1487 (17%)] Loss: 0.270400\n",
      "Train Epoch: 121 [384/1487 (25%)] Loss: 0.301048\n",
      "Train Epoch: 121 [512/1487 (33%)] Loss: 0.268769\n",
      "Train Epoch: 121 [640/1487 (42%)] Loss: 0.282244\n",
      "Train Epoch: 121 [768/1487 (50%)] Loss: 0.271446\n",
      "Train Epoch: 121 [896/1487 (58%)] Loss: 0.230057\n",
      "Train Epoch: 121 [1024/1487 (67%)] Loss: 0.255551\n",
      "Train Epoch: 121 [1152/1487 (75%)] Loss: 0.220493\n",
      "Train Epoch: 121 [1280/1487 (83%)] Loss: 0.278197\n",
      "Train Epoch: 121 [1408/1487 (92%)] Loss: 0.240991\n",
      "    epoch          : 121\n",
      "    loss           : 0.2560344325999419\n",
      "    my_metric      : 0.8937065972222222\n",
      "    f1             : 0.8937073396130474\n",
      "    balanced_accuracy: 0.8963380807143894\n",
      "    precision      : 0.9015553037333063\n",
      "    recall         : 0.8937065972222222\n",
      "    val_loss       : 0.681036651134491\n",
      "    val_my_metric  : 0.7572916666666667\n",
      "    val_f1         : 0.7576717100725691\n",
      "    val_balanced_accuracy: 0.7566772769713946\n",
      "    val_precision  : 0.7728750445322696\n",
      "    val_recall     : 0.7572916666666667\n"
     ]
    },
    {
     "name": "stdout",
     "output_type": "stream",
     "text": [
      "Model has not improved in -------------| 97 epochs\n"
     ]
    },
    {
     "name": "stderr",
     "output_type": "stream",
     "text": [
      "Train Epoch: 122 [0/1487 (0%)] Loss: 0.136210\n",
      "Train Epoch: 122 [128/1487 (8%)] Loss: 0.298864\n",
      "Train Epoch: 122 [256/1487 (17%)] Loss: 0.218527\n",
      "Train Epoch: 122 [384/1487 (25%)] Loss: 0.226797\n",
      "Train Epoch: 122 [512/1487 (33%)] Loss: 0.256489\n",
      "Train Epoch: 122 [640/1487 (42%)] Loss: 0.244505\n",
      "Train Epoch: 122 [768/1487 (50%)] Loss: 0.269611\n",
      "Train Epoch: 122 [896/1487 (58%)] Loss: 0.207925\n",
      "Train Epoch: 122 [1024/1487 (67%)] Loss: 0.226727\n",
      "Train Epoch: 122 [1152/1487 (75%)] Loss: 0.208911\n",
      "Train Epoch: 122 [1280/1487 (83%)] Loss: 0.235655\n",
      "Train Epoch: 122 [1408/1487 (92%)] Loss: 0.188819\n",
      "    epoch          : 122\n",
      "    loss           : 0.220357036528488\n",
      "    my_metric      : 0.9173177083333334\n",
      "    f1             : 0.9172559908677439\n",
      "    balanced_accuracy: 0.9162957294075985\n",
      "    precision      : 0.9188072150582923\n",
      "    recall         : 0.9173177083333334\n",
      "    val_loss       : 0.6128839552402496\n",
      "    val_my_metric  : 0.7510416666666667\n",
      "    val_f1         : 0.7469862734662358\n",
      "    val_balanced_accuracy: 0.7356476496959387\n",
      "    val_precision  : 0.7620979970117902\n",
      "    val_recall     : 0.7510416666666667\n"
     ]
    },
    {
     "name": "stdout",
     "output_type": "stream",
     "text": [
      "Model has not improved in -------------| 98 epochs\n"
     ]
    },
    {
     "name": "stderr",
     "output_type": "stream",
     "text": [
      "Train Epoch: 123 [0/1487 (0%)] Loss: 0.312808\n",
      "Train Epoch: 123 [128/1487 (8%)] Loss: 0.214470\n",
      "Train Epoch: 123 [256/1487 (17%)] Loss: 0.175388\n",
      "Train Epoch: 123 [384/1487 (25%)] Loss: 0.183898\n",
      "Train Epoch: 123 [512/1487 (33%)] Loss: 0.260361\n",
      "Train Epoch: 123 [640/1487 (42%)] Loss: 0.331007\n",
      "Train Epoch: 123 [768/1487 (50%)] Loss: 0.153335\n",
      "Train Epoch: 123 [896/1487 (58%)] Loss: 0.164988\n",
      "Train Epoch: 123 [1024/1487 (67%)] Loss: 0.162468\n",
      "Train Epoch: 123 [1152/1487 (75%)] Loss: 0.310292\n",
      "Train Epoch: 123 [1280/1487 (83%)] Loss: 0.293545\n",
      "Train Epoch: 123 [1408/1487 (92%)] Loss: 0.218648\n",
      "    epoch          : 123\n",
      "    loss           : 0.23579238168895245\n",
      "    my_metric      : 0.9052517361111111\n",
      "    f1             : 0.9053607029248428\n",
      "    balanced_accuracy: 0.90710215918988\n",
      "    precision      : 0.9092743977599768\n",
      "    recall         : 0.9052517361111111\n",
      "    val_loss       : 0.5135399580001831\n",
      "    val_my_metric  : 0.809375\n",
      "    val_f1         : 0.8095468395803931\n",
      "    val_balanced_accuracy: 0.8048697160615766\n",
      "    val_precision  : 0.8134813628028145\n",
      "    val_recall     : 0.809375\n"
     ]
    },
    {
     "name": "stdout",
     "output_type": "stream",
     "text": [
      "Model has not improved in -------------| 99 epochs\n"
     ]
    },
    {
     "name": "stderr",
     "output_type": "stream",
     "text": [
      "Train Epoch: 124 [0/1487 (0%)] Loss: 0.230127\n",
      "Train Epoch: 124 [128/1487 (8%)] Loss: 0.229281\n",
      "Train Epoch: 124 [256/1487 (17%)] Loss: 0.290166\n",
      "Train Epoch: 124 [384/1487 (25%)] Loss: 0.227809\n",
      "Train Epoch: 124 [512/1487 (33%)] Loss: 0.255187\n",
      "Train Epoch: 124 [640/1487 (42%)] Loss: 0.333975\n",
      "Train Epoch: 124 [768/1487 (50%)] Loss: 0.292715\n",
      "Train Epoch: 124 [896/1487 (58%)] Loss: 0.190104\n",
      "Train Epoch: 124 [1024/1487 (67%)] Loss: 0.222590\n",
      "Train Epoch: 124 [1152/1487 (75%)] Loss: 0.202171\n",
      "Train Epoch: 124 [1280/1487 (83%)] Loss: 0.141856\n",
      "Train Epoch: 124 [1408/1487 (92%)] Loss: 0.332171\n",
      "    epoch          : 124\n",
      "    loss           : 0.23945111905535063\n",
      "    my_metric      : 0.9019965277777778\n",
      "    f1             : 0.9018929389306968\n",
      "    balanced_accuracy: 0.9027753646789178\n",
      "    precision      : 0.9063591501628511\n",
      "    recall         : 0.9019965277777778\n",
      "    val_loss       : 0.6636631608009338\n",
      "    val_my_metric  : 0.68125\n",
      "    val_f1         : 0.6834312770427274\n",
      "    val_balanced_accuracy: 0.6805124902288416\n",
      "    val_precision  : 0.6986379699218196\n",
      "    val_recall     : 0.68125\n"
     ]
    },
    {
     "name": "stdout",
     "output_type": "stream",
     "text": [
      "Model has not improved in -------------| 100 epochs\n"
     ]
    },
    {
     "name": "stderr",
     "output_type": "stream",
     "text": [
      "Train Epoch: 125 [0/1487 (0%)] Loss: 0.211799\n",
      "Train Epoch: 125 [128/1487 (8%)] Loss: 0.227775\n",
      "Train Epoch: 125 [256/1487 (17%)] Loss: 0.193353\n",
      "Train Epoch: 125 [384/1487 (25%)] Loss: 0.169403\n",
      "Train Epoch: 125 [512/1487 (33%)] Loss: 0.186742\n",
      "Train Epoch: 125 [640/1487 (42%)] Loss: 0.199146\n",
      "Train Epoch: 125 [768/1487 (50%)] Loss: 0.285301\n",
      "Train Epoch: 125 [896/1487 (58%)] Loss: 0.170432\n",
      "Train Epoch: 125 [1024/1487 (67%)] Loss: 0.328452\n",
      "Train Epoch: 125 [1152/1487 (75%)] Loss: 0.197370\n",
      "Train Epoch: 125 [1280/1487 (83%)] Loss: 0.262409\n",
      "Train Epoch: 125 [1408/1487 (92%)] Loss: 0.222388\n",
      "    epoch          : 125\n",
      "    loss           : 0.23467489207784334\n",
      "    my_metric      : 0.9125868055555556\n",
      "    f1             : 0.912460304638559\n",
      "    balanced_accuracy: 0.9143030410771544\n",
      "    precision      : 0.918609270475479\n",
      "    recall         : 0.9125868055555556\n",
      "    val_loss       : 0.6468768537044525\n",
      "    val_my_metric  : 0.7604166666666667\n",
      "    val_f1         : 0.7632127008318025\n",
      "    val_balanced_accuracy: 0.7724215377997358\n",
      "    val_precision  : 0.7885983117245592\n",
      "    val_recall     : 0.7604166666666667\n"
     ]
    },
    {
     "name": "stdout",
     "output_type": "stream",
     "text": [
      "Model has not improved in -------------| 101 epochs\n"
     ]
    },
    {
     "name": "stderr",
     "output_type": "stream",
     "text": [
      "Train Epoch: 126 [0/1487 (0%)] Loss: 0.245869\n",
      "Train Epoch: 126 [128/1487 (8%)] Loss: 0.220637\n",
      "Train Epoch: 126 [256/1487 (17%)] Loss: 0.226540\n",
      "Train Epoch: 126 [384/1487 (25%)] Loss: 0.241518\n",
      "Train Epoch: 126 [512/1487 (33%)] Loss: 0.186724\n",
      "Train Epoch: 126 [640/1487 (42%)] Loss: 0.304067\n",
      "Train Epoch: 126 [768/1487 (50%)] Loss: 0.296815\n",
      "Train Epoch: 126 [896/1487 (58%)] Loss: 0.206887\n",
      "Train Epoch: 126 [1024/1487 (67%)] Loss: 0.154925\n",
      "Train Epoch: 126 [1152/1487 (75%)] Loss: 0.319872\n",
      "Train Epoch: 126 [1280/1487 (83%)] Loss: 0.176696\n",
      "Train Epoch: 126 [1408/1487 (92%)] Loss: 0.316888\n",
      "    epoch          : 126\n",
      "    loss           : 0.2374626419817408\n",
      "    my_metric      : 0.9002170138888889\n",
      "    f1             : 0.9003694849641355\n",
      "    balanced_accuracy: 0.9032509743876412\n",
      "    precision      : 0.9065722944735821\n",
      "    recall         : 0.9002170138888889\n",
      "    val_loss       : 0.5735320270061492\n",
      "    val_my_metric  : 0.7822916666666667\n",
      "    val_f1         : 0.7808847213400976\n",
      "    val_balanced_accuracy: 0.783813608776844\n",
      "    val_precision  : 0.7962411702012722\n",
      "    val_recall     : 0.7822916666666667\n"
     ]
    },
    {
     "name": "stdout",
     "output_type": "stream",
     "text": [
      "Model has not improved in -------------| 102 epochs\n"
     ]
    },
    {
     "name": "stderr",
     "output_type": "stream",
     "text": [
      "Train Epoch: 127 [0/1487 (0%)] Loss: 0.214385\n",
      "Train Epoch: 127 [128/1487 (8%)] Loss: 0.146622\n",
      "Train Epoch: 127 [256/1487 (17%)] Loss: 0.238180\n",
      "Train Epoch: 127 [384/1487 (25%)] Loss: 0.203460\n",
      "Train Epoch: 127 [512/1487 (33%)] Loss: 0.235921\n",
      "Train Epoch: 127 [640/1487 (42%)] Loss: 0.201082\n",
      "Train Epoch: 127 [768/1487 (50%)] Loss: 0.276205\n",
      "Train Epoch: 127 [896/1487 (58%)] Loss: 0.120050\n",
      "Train Epoch: 127 [1024/1487 (67%)] Loss: 0.223038\n",
      "Train Epoch: 127 [1152/1487 (75%)] Loss: 0.234100\n",
      "Train Epoch: 127 [1280/1487 (83%)] Loss: 0.218460\n",
      "Train Epoch: 127 [1408/1487 (92%)] Loss: 0.221899\n",
      "    epoch          : 127\n",
      "    loss           : 0.23673275330414376\n",
      "    my_metric      : 0.8985677083333333\n",
      "    f1             : 0.8987980801377625\n",
      "    balanced_accuracy: 0.9015322579748104\n",
      "    precision      : 0.9063679077470334\n",
      "    recall         : 0.8985677083333333\n",
      "    val_loss       : 0.6352889835834503\n",
      "    val_my_metric  : 0.7416666666666667\n",
      "    val_f1         : 0.7419184603623201\n",
      "    val_balanced_accuracy: 0.7509305404839658\n",
      "    val_precision  : 0.7573964652896923\n",
      "    val_recall     : 0.7416666666666667\n"
     ]
    },
    {
     "name": "stdout",
     "output_type": "stream",
     "text": [
      "Model has not improved in -------------| 103 epochs\n"
     ]
    },
    {
     "name": "stderr",
     "output_type": "stream",
     "text": [
      "Train Epoch: 128 [0/1487 (0%)] Loss: 0.173831\n",
      "Train Epoch: 128 [128/1487 (8%)] Loss: 0.189622\n",
      "Train Epoch: 128 [256/1487 (17%)] Loss: 0.231024\n",
      "Train Epoch: 128 [384/1487 (25%)] Loss: 0.260429\n",
      "Train Epoch: 128 [512/1487 (33%)] Loss: 0.189546\n",
      "Train Epoch: 128 [640/1487 (42%)] Loss: 0.286163\n",
      "Train Epoch: 128 [768/1487 (50%)] Loss: 0.354103\n",
      "Train Epoch: 128 [896/1487 (58%)] Loss: 0.275693\n",
      "Train Epoch: 128 [1024/1487 (67%)] Loss: 0.228085\n",
      "Train Epoch: 128 [1152/1487 (75%)] Loss: 0.221858\n",
      "Train Epoch: 128 [1280/1487 (83%)] Loss: 0.175934\n",
      "Train Epoch: 128 [1408/1487 (92%)] Loss: 0.260333\n",
      "    epoch          : 128\n",
      "    loss           : 0.24564685362080732\n",
      "    my_metric      : 0.8982638888888889\n",
      "    f1             : 0.8986106062343638\n",
      "    balanced_accuracy: 0.9019192271112835\n",
      "    precision      : 0.9067543057324534\n",
      "    recall         : 0.8982638888888889\n",
      "    val_loss       : 0.5832246840000153\n",
      "    val_my_metric  : 0.784375\n",
      "    val_f1         : 0.7852561241653039\n",
      "    val_balanced_accuracy: 0.785438598209496\n",
      "    val_precision  : 0.7943892490943307\n",
      "    val_recall     : 0.784375\n"
     ]
    },
    {
     "name": "stdout",
     "output_type": "stream",
     "text": [
      "Model has not improved in -------------| 104 epochs\n"
     ]
    },
    {
     "name": "stderr",
     "output_type": "stream",
     "text": [
      "Train Epoch: 129 [0/1487 (0%)] Loss: 0.191374\n",
      "Train Epoch: 129 [128/1487 (8%)] Loss: 0.207026\n",
      "Train Epoch: 129 [256/1487 (17%)] Loss: 0.280665\n",
      "Train Epoch: 129 [384/1487 (25%)] Loss: 0.212612\n",
      "Train Epoch: 129 [512/1487 (33%)] Loss: 0.268590\n",
      "Train Epoch: 129 [640/1487 (42%)] Loss: 0.152725\n",
      "Train Epoch: 129 [768/1487 (50%)] Loss: 0.192929\n",
      "Train Epoch: 129 [896/1487 (58%)] Loss: 0.259079\n",
      "Train Epoch: 129 [1024/1487 (67%)] Loss: 0.229905\n",
      "Train Epoch: 129 [1152/1487 (75%)] Loss: 0.162207\n",
      "Train Epoch: 129 [1280/1487 (83%)] Loss: 0.143196\n",
      "Train Epoch: 129 [1408/1487 (92%)] Loss: 0.225914\n",
      "    epoch          : 129\n",
      "    loss           : 0.22395904548466206\n",
      "    my_metric      : 0.9137152777777778\n",
      "    f1             : 0.91381297236177\n",
      "    balanced_accuracy: 0.9151561383272543\n",
      "    precision      : 0.9167211092611437\n",
      "    recall         : 0.9137152777777778\n",
      "    val_loss       : 0.6961894989013672\n",
      "    val_my_metric  : 0.7395833333333333\n",
      "    val_f1         : 0.7396508258179224\n",
      "    val_balanced_accuracy: 0.7382602694282339\n",
      "    val_precision  : 0.7401641956956903\n",
      "    val_recall     : 0.7395833333333333\n"
     ]
    },
    {
     "name": "stdout",
     "output_type": "stream",
     "text": [
      "Model has not improved in -------------| 105 epochs\n"
     ]
    },
    {
     "name": "stderr",
     "output_type": "stream",
     "text": [
      "Train Epoch: 130 [0/1487 (0%)] Loss: 0.209124\n",
      "Train Epoch: 130 [128/1487 (8%)] Loss: 0.234352\n",
      "Train Epoch: 130 [256/1487 (17%)] Loss: 0.242248\n",
      "Train Epoch: 130 [384/1487 (25%)] Loss: 0.374370\n",
      "Train Epoch: 130 [512/1487 (33%)] Loss: 0.246979\n",
      "Train Epoch: 130 [640/1487 (42%)] Loss: 0.259597\n",
      "Train Epoch: 130 [768/1487 (50%)] Loss: 0.204068\n",
      "Train Epoch: 130 [896/1487 (58%)] Loss: 0.280943\n",
      "Train Epoch: 130 [1024/1487 (67%)] Loss: 0.203774\n",
      "Train Epoch: 130 [1152/1487 (75%)] Loss: 0.202218\n",
      "Train Epoch: 130 [1280/1487 (83%)] Loss: 0.218589\n",
      "Train Epoch: 130 [1408/1487 (92%)] Loss: 0.192288\n",
      "    epoch          : 130\n",
      "    loss           : 0.2395585005482038\n",
      "    my_metric      : 0.8883246527777778\n",
      "    f1             : 0.8888055807230257\n",
      "    balanced_accuracy: 0.891119598180559\n",
      "    precision      : 0.8949981301504831\n",
      "    recall         : 0.8883246527777778\n",
      "    val_loss       : 0.5656245023012161\n",
      "    val_my_metric  : 0.796875\n",
      "    val_f1         : 0.7973214262730061\n",
      "    val_balanced_accuracy: 0.7980574627398583\n",
      "    val_precision  : 0.8044832930001775\n",
      "    val_recall     : 0.796875\n"
     ]
    },
    {
     "name": "stdout",
     "output_type": "stream",
     "text": [
      "Model has not improved in -------------| 106 epochs\n"
     ]
    },
    {
     "name": "stderr",
     "output_type": "stream",
     "text": [
      "Train Epoch: 131 [0/1487 (0%)] Loss: 0.249794\n",
      "Train Epoch: 131 [128/1487 (8%)] Loss: 0.207107\n",
      "Train Epoch: 131 [256/1487 (17%)] Loss: 0.165051\n",
      "Train Epoch: 131 [384/1487 (25%)] Loss: 0.266150\n",
      "Train Epoch: 131 [512/1487 (33%)] Loss: 0.182196\n",
      "Train Epoch: 131 [640/1487 (42%)] Loss: 0.194078\n",
      "Train Epoch: 131 [768/1487 (50%)] Loss: 0.166521\n",
      "Train Epoch: 131 [896/1487 (58%)] Loss: 0.314320\n",
      "Train Epoch: 131 [1024/1487 (67%)] Loss: 0.165062\n",
      "Train Epoch: 131 [1152/1487 (75%)] Loss: 0.155750\n",
      "Train Epoch: 131 [1280/1487 (83%)] Loss: 0.272903\n",
      "Train Epoch: 131 [1408/1487 (92%)] Loss: 0.198064\n",
      "    epoch          : 131\n",
      "    loss           : 0.2253904566168785\n",
      "    my_metric      : 0.9080295138888889\n",
      "    f1             : 0.9079978176465019\n",
      "    balanced_accuracy: 0.9102839432947744\n",
      "    precision      : 0.9135999695529341\n",
      "    recall         : 0.9080295138888889\n",
      "    val_loss       : 0.5729483723640442\n",
      "    val_my_metric  : 0.79375\n",
      "    val_f1         : 0.7931795117683031\n",
      "    val_balanced_accuracy: 0.7950664136622392\n",
      "    val_precision  : 0.7993545785953057\n",
      "    val_recall     : 0.79375\n"
     ]
    },
    {
     "name": "stdout",
     "output_type": "stream",
     "text": [
      "Model has not improved in -------------| 107 epochs\n"
     ]
    },
    {
     "name": "stderr",
     "output_type": "stream",
     "text": [
      "Train Epoch: 132 [0/1487 (0%)] Loss: 0.245872\n",
      "Train Epoch: 132 [128/1487 (8%)] Loss: 0.229103\n",
      "Train Epoch: 132 [256/1487 (17%)] Loss: 0.197882\n",
      "Train Epoch: 132 [384/1487 (25%)] Loss: 0.214402\n",
      "Train Epoch: 132 [512/1487 (33%)] Loss: 0.221198\n",
      "Train Epoch: 132 [640/1487 (42%)] Loss: 0.273402\n",
      "Train Epoch: 132 [768/1487 (50%)] Loss: 0.244148\n",
      "Train Epoch: 132 [896/1487 (58%)] Loss: 0.167730\n",
      "Train Epoch: 132 [1024/1487 (67%)] Loss: 0.170837\n",
      "Train Epoch: 132 [1152/1487 (75%)] Loss: 0.181758\n",
      "Train Epoch: 132 [1280/1487 (83%)] Loss: 0.174602\n",
      "Train Epoch: 132 [1408/1487 (92%)] Loss: 0.224246\n",
      "    epoch          : 132\n",
      "    loss           : 0.23005173727869987\n",
      "    my_metric      : 0.9039496527777778\n",
      "    f1             : 0.9037784521671822\n",
      "    balanced_accuracy: 0.9029971506406801\n",
      "    precision      : 0.9079598008809309\n",
      "    recall         : 0.9039496527777778\n",
      "    val_loss       : 0.7708346843719482\n",
      "    val_my_metric  : 0.7177083333333333\n",
      "    val_f1         : 0.7145261010642521\n",
      "    val_balanced_accuracy: 0.7131200412234894\n",
      "    val_precision  : 0.7250139909497904\n",
      "    val_recall     : 0.7177083333333333\n"
     ]
    },
    {
     "name": "stdout",
     "output_type": "stream",
     "text": [
      "Model has not improved in -------------| 108 epochs\n"
     ]
    },
    {
     "name": "stderr",
     "output_type": "stream",
     "text": [
      "Train Epoch: 133 [0/1487 (0%)] Loss: 0.277609\n",
      "Train Epoch: 133 [128/1487 (8%)] Loss: 0.264438\n",
      "Train Epoch: 133 [256/1487 (17%)] Loss: 0.173222\n",
      "Train Epoch: 133 [384/1487 (25%)] Loss: 0.233019\n",
      "Train Epoch: 133 [512/1487 (33%)] Loss: 0.205267\n",
      "Train Epoch: 133 [640/1487 (42%)] Loss: 0.215631\n",
      "Train Epoch: 133 [768/1487 (50%)] Loss: 0.136096\n",
      "Train Epoch: 133 [896/1487 (58%)] Loss: 0.206199\n",
      "Train Epoch: 133 [1024/1487 (67%)] Loss: 0.201278\n",
      "Train Epoch: 133 [1152/1487 (75%)] Loss: 0.209165\n",
      "Train Epoch: 133 [1280/1487 (83%)] Loss: 0.240721\n",
      "Train Epoch: 133 [1408/1487 (92%)] Loss: 0.227002\n",
      "    epoch          : 133\n",
      "    loss           : 0.21770472824573517\n",
      "    my_metric      : 0.9127604166666666\n",
      "    f1             : 0.9129110160181977\n",
      "    balanced_accuracy: 0.9143352348044873\n",
      "    precision      : 0.9154741904073876\n",
      "    recall         : 0.9127604166666666\n",
      "    val_loss       : 0.7115997076034546\n",
      "    val_my_metric  : 0.73125\n",
      "    val_f1         : 0.7330763618859664\n",
      "    val_balanced_accuracy: 0.731547015003797\n",
      "    val_precision  : 0.7497456086258302\n",
      "    val_recall     : 0.73125\n"
     ]
    },
    {
     "name": "stdout",
     "output_type": "stream",
     "text": [
      "Model has not improved in -------------| 109 epochs\n"
     ]
    },
    {
     "name": "stderr",
     "output_type": "stream",
     "text": [
      "Train Epoch: 134 [0/1487 (0%)] Loss: 0.171365\n",
      "Train Epoch: 134 [128/1487 (8%)] Loss: 0.297847\n",
      "Train Epoch: 134 [256/1487 (17%)] Loss: 0.220222\n",
      "Train Epoch: 134 [384/1487 (25%)] Loss: 0.203477\n",
      "Train Epoch: 134 [512/1487 (33%)] Loss: 0.229975\n",
      "Train Epoch: 134 [640/1487 (42%)] Loss: 0.147725\n",
      "Train Epoch: 134 [768/1487 (50%)] Loss: 0.189283\n",
      "Train Epoch: 134 [896/1487 (58%)] Loss: 0.240987\n",
      "Train Epoch: 134 [1024/1487 (67%)] Loss: 0.192436\n",
      "Train Epoch: 134 [1152/1487 (75%)] Loss: 0.187509\n",
      "Train Epoch: 134 [1280/1487 (83%)] Loss: 0.225795\n",
      "Train Epoch: 134 [1408/1487 (92%)] Loss: 0.224351\n",
      "    epoch          : 134\n",
      "    loss           : 0.2214463505273064\n",
      "    my_metric      : 0.9125868055555556\n",
      "    f1             : 0.9125896049372533\n",
      "    balanced_accuracy: 0.9125897478652898\n",
      "    precision      : 0.9155384152360991\n",
      "    recall         : 0.9125868055555556\n",
      "    val_loss       : 0.6062479794025422\n",
      "    val_my_metric  : 0.7364583333333333\n",
      "    val_f1         : 0.7364239462474271\n",
      "    val_balanced_accuracy: 0.7548640221829344\n",
      "    val_precision  : 0.7762416574298764\n",
      "    val_recall     : 0.7364583333333333\n"
     ]
    },
    {
     "name": "stdout",
     "output_type": "stream",
     "text": [
      "Model has not improved in -------------| 110 epochs\n"
     ]
    },
    {
     "name": "stderr",
     "output_type": "stream",
     "text": [
      "Train Epoch: 135 [0/1487 (0%)] Loss: 0.147681\n",
      "Train Epoch: 135 [128/1487 (8%)] Loss: 0.242832\n",
      "Train Epoch: 135 [256/1487 (17%)] Loss: 0.196948\n",
      "Train Epoch: 135 [384/1487 (25%)] Loss: 0.198524\n",
      "Train Epoch: 135 [512/1487 (33%)] Loss: 0.234328\n",
      "Train Epoch: 135 [640/1487 (42%)] Loss: 0.383224\n",
      "Train Epoch: 135 [768/1487 (50%)] Loss: 0.236567\n",
      "Train Epoch: 135 [896/1487 (58%)] Loss: 0.260075\n",
      "Train Epoch: 135 [1024/1487 (67%)] Loss: 0.230353\n",
      "Train Epoch: 135 [1152/1487 (75%)] Loss: 0.287872\n",
      "Train Epoch: 135 [1280/1487 (83%)] Loss: 0.289620\n",
      "Train Epoch: 135 [1408/1487 (92%)] Loss: 0.243752\n",
      "    epoch          : 135\n",
      "    loss           : 0.23147697870930037\n",
      "    my_metric      : 0.8990885416666666\n",
      "    f1             : 0.899153810476453\n",
      "    balanced_accuracy: 0.9010106527472583\n",
      "    precision      : 0.9048405720109455\n",
      "    recall         : 0.8990885416666666\n",
      "    val_loss       : 0.5691868633031845\n",
      "    val_my_metric  : 0.784375\n",
      "    val_f1         : 0.7840995235235066\n",
      "    val_balanced_accuracy: 0.7834000611738948\n",
      "    val_precision  : 0.787692631740196\n",
      "    val_recall     : 0.784375\n"
     ]
    },
    {
     "name": "stdout",
     "output_type": "stream",
     "text": [
      "Model has not improved in -------------| 111 epochs\n"
     ]
    },
    {
     "name": "stderr",
     "output_type": "stream",
     "text": [
      "Train Epoch: 136 [0/1487 (0%)] Loss: 0.270010\n",
      "Train Epoch: 136 [128/1487 (8%)] Loss: 0.190085\n",
      "Train Epoch: 136 [256/1487 (17%)] Loss: 0.214821\n",
      "Train Epoch: 136 [384/1487 (25%)] Loss: 0.238000\n",
      "Train Epoch: 136 [512/1487 (33%)] Loss: 0.220531\n",
      "Train Epoch: 136 [640/1487 (42%)] Loss: 0.128534\n",
      "Train Epoch: 136 [768/1487 (50%)] Loss: 0.210165\n",
      "Train Epoch: 136 [896/1487 (58%)] Loss: 0.174838\n",
      "Train Epoch: 136 [1024/1487 (67%)] Loss: 0.100280\n",
      "Train Epoch: 136 [1152/1487 (75%)] Loss: 0.253318\n",
      "Train Epoch: 136 [1280/1487 (83%)] Loss: 0.252726\n",
      "Train Epoch: 136 [1408/1487 (92%)] Loss: 0.189211\n",
      "    epoch          : 136\n",
      "    loss           : 0.22574720531702042\n",
      "    my_metric      : 0.9057291666666667\n",
      "    f1             : 0.9060109100419219\n",
      "    balanced_accuracy: 0.9105343201011892\n",
      "    precision      : 0.9148535733250988\n",
      "    recall         : 0.9057291666666667\n",
      "    val_loss       : 0.5993192791938782\n",
      "    val_my_metric  : 0.7354166666666667\n",
      "    val_f1         : 0.7375553036896336\n",
      "    val_balanced_accuracy: 0.742489544869451\n",
      "    val_precision  : 0.7524372737578383\n",
      "    val_recall     : 0.7354166666666667\n"
     ]
    },
    {
     "name": "stdout",
     "output_type": "stream",
     "text": [
      "Model has not improved in -------------| 112 epochs\n"
     ]
    },
    {
     "name": "stderr",
     "output_type": "stream",
     "text": [
      "Train Epoch: 137 [0/1487 (0%)] Loss: 0.213336\n",
      "Train Epoch: 137 [128/1487 (8%)] Loss: 0.322156\n",
      "Train Epoch: 137 [256/1487 (17%)] Loss: 0.200107\n",
      "Train Epoch: 137 [384/1487 (25%)] Loss: 0.219615\n",
      "Train Epoch: 137 [512/1487 (33%)] Loss: 0.157777\n",
      "Train Epoch: 137 [640/1487 (42%)] Loss: 0.280997\n",
      "Train Epoch: 137 [768/1487 (50%)] Loss: 0.224018\n",
      "Train Epoch: 137 [896/1487 (58%)] Loss: 0.244135\n",
      "Train Epoch: 137 [1024/1487 (67%)] Loss: 0.301547\n",
      "Train Epoch: 137 [1152/1487 (75%)] Loss: 0.319316\n",
      "Train Epoch: 137 [1280/1487 (83%)] Loss: 0.293979\n",
      "Train Epoch: 137 [1408/1487 (92%)] Loss: 0.171253\n",
      "    epoch          : 137\n",
      "    loss           : 0.22506921427945295\n",
      "    my_metric      : 0.8956597222222222\n",
      "    f1             : 0.895710924526666\n",
      "    balanced_accuracy: 0.8971317868507369\n",
      "    precision      : 0.9000841052294795\n",
      "    recall         : 0.8956597222222222\n",
      "    val_loss       : 0.7846467614173889\n",
      "    val_my_metric  : 0.7208333333333333\n",
      "    val_f1         : 0.7204295325168191\n",
      "    val_balanced_accuracy: 0.6687418779828648\n",
      "    val_precision  : 0.7246509868315142\n",
      "    val_recall     : 0.7208333333333333\n"
     ]
    },
    {
     "name": "stdout",
     "output_type": "stream",
     "text": [
      "Model has not improved in -------------| 113 epochs\n"
     ]
    },
    {
     "name": "stderr",
     "output_type": "stream",
     "text": [
      "Train Epoch: 138 [0/1487 (0%)] Loss: 0.194261\n",
      "Train Epoch: 138 [128/1487 (8%)] Loss: 0.248427\n",
      "Train Epoch: 138 [256/1487 (17%)] Loss: 0.360167\n",
      "Train Epoch: 138 [384/1487 (25%)] Loss: 0.148498\n",
      "Train Epoch: 138 [512/1487 (33%)] Loss: 0.152427\n",
      "Train Epoch: 138 [640/1487 (42%)] Loss: 0.243326\n",
      "Train Epoch: 138 [768/1487 (50%)] Loss: 0.268469\n",
      "Train Epoch: 138 [896/1487 (58%)] Loss: 0.127813\n",
      "Train Epoch: 138 [1024/1487 (67%)] Loss: 0.387074\n",
      "Train Epoch: 138 [1152/1487 (75%)] Loss: 0.178830\n",
      "Train Epoch: 138 [1280/1487 (83%)] Loss: 0.189848\n",
      "Train Epoch: 138 [1408/1487 (92%)] Loss: 0.250173\n",
      "    epoch          : 138\n",
      "    loss           : 0.2128738695755601\n",
      "    my_metric      : 0.9075520833333334\n",
      "    f1             : 0.9075953062058094\n",
      "    balanced_accuracy: 0.909151478577343\n",
      "    precision      : 0.9131448251847286\n",
      "    recall         : 0.9075520833333334\n",
      "    val_loss       : 0.6373338803648949\n",
      "    val_my_metric  : 0.753125\n",
      "    val_f1         : 0.748882161288185\n",
      "    val_balanced_accuracy: 0.7560119620075128\n",
      "    val_precision  : 0.7725503535822167\n",
      "    val_recall     : 0.753125\n"
     ]
    },
    {
     "name": "stdout",
     "output_type": "stream",
     "text": [
      "Model has not improved in -------------| 114 epochs\n"
     ]
    },
    {
     "name": "stderr",
     "output_type": "stream",
     "text": [
      "Train Epoch: 139 [0/1487 (0%)] Loss: 0.194400\n",
      "Train Epoch: 139 [128/1487 (8%)] Loss: 0.174640\n",
      "Train Epoch: 139 [256/1487 (17%)] Loss: 0.184241\n",
      "Train Epoch: 139 [384/1487 (25%)] Loss: 0.206139\n",
      "Train Epoch: 139 [512/1487 (33%)] Loss: 0.201571\n",
      "Train Epoch: 139 [640/1487 (42%)] Loss: 0.234007\n",
      "Train Epoch: 139 [768/1487 (50%)] Loss: 0.228374\n",
      "Train Epoch: 139 [896/1487 (58%)] Loss: 0.265023\n",
      "Train Epoch: 139 [1024/1487 (67%)] Loss: 0.271811\n",
      "Train Epoch: 139 [1152/1487 (75%)] Loss: 0.199049\n",
      "Train Epoch: 139 [1280/1487 (83%)] Loss: 0.176590\n",
      "Train Epoch: 139 [1408/1487 (92%)] Loss: 0.188817\n",
      "    epoch          : 139\n",
      "    loss           : 0.2211793108532826\n",
      "    my_metric      : 0.9018229166666667\n",
      "    f1             : 0.9021830267075804\n",
      "    balanced_accuracy: 0.9063993383344854\n",
      "    precision      : 0.9109520536867884\n",
      "    recall         : 0.9018229166666667\n",
      "    val_loss       : 0.5481362164020538\n",
      "    val_my_metric  : 0.8125\n",
      "    val_f1         : 0.8139135612062848\n",
      "    val_balanced_accuracy: 0.809016133800962\n",
      "    val_precision  : 0.8193963865995115\n",
      "    val_recall     : 0.8125\n"
     ]
    },
    {
     "name": "stdout",
     "output_type": "stream",
     "text": [
      "Model has not improved in -------------| 115 epochs\n"
     ]
    },
    {
     "name": "stderr",
     "output_type": "stream",
     "text": [
      "Train Epoch: 140 [0/1487 (0%)] Loss: 0.232720\n",
      "Train Epoch: 140 [128/1487 (8%)] Loss: 0.249857\n",
      "Train Epoch: 140 [256/1487 (17%)] Loss: 0.202344\n",
      "Train Epoch: 140 [384/1487 (25%)] Loss: 0.164215\n",
      "Train Epoch: 140 [512/1487 (33%)] Loss: 0.143100\n",
      "Train Epoch: 140 [640/1487 (42%)] Loss: 0.195286\n",
      "Train Epoch: 140 [768/1487 (50%)] Loss: 0.256134\n",
      "Train Epoch: 140 [896/1487 (58%)] Loss: 0.189279\n",
      "Train Epoch: 140 [1024/1487 (67%)] Loss: 0.331905\n",
      "Train Epoch: 140 [1152/1487 (75%)] Loss: 0.266525\n",
      "Train Epoch: 140 [1280/1487 (83%)] Loss: 0.107741\n",
      "Train Epoch: 140 [1408/1487 (92%)] Loss: 0.356987\n",
      "    epoch          : 140\n",
      "    loss           : 0.21986955186973015\n",
      "    my_metric      : 0.9044270833333333\n",
      "    f1             : 0.9045589150376937\n",
      "    balanced_accuracy: 0.9057597363571892\n",
      "    precision      : 0.9106963735469709\n",
      "    recall         : 0.9044270833333333\n",
      "    val_loss       : 0.8662657856941223\n",
      "    val_my_metric  : 0.675\n",
      "    val_f1         : 0.6741784505936568\n",
      "    val_balanced_accuracy: 0.6766780309049498\n",
      "    val_precision  : 0.7024694638035232\n",
      "    val_recall     : 0.675\n"
     ]
    },
    {
     "name": "stdout",
     "output_type": "stream",
     "text": [
      "Model has not improved in -------------| 116 epochs\n"
     ]
    },
    {
     "name": "stderr",
     "output_type": "stream",
     "text": [
      "Train Epoch: 141 [0/1487 (0%)] Loss: 0.281416\n",
      "Train Epoch: 141 [128/1487 (8%)] Loss: 0.163457\n",
      "Train Epoch: 141 [256/1487 (17%)] Loss: 0.280167\n",
      "Train Epoch: 141 [384/1487 (25%)] Loss: 0.155926\n",
      "Train Epoch: 141 [512/1487 (33%)] Loss: 0.281279\n",
      "Train Epoch: 141 [640/1487 (42%)] Loss: 0.177624\n",
      "Train Epoch: 141 [768/1487 (50%)] Loss: 0.231161\n",
      "Train Epoch: 141 [896/1487 (58%)] Loss: 0.256068\n",
      "Train Epoch: 141 [1024/1487 (67%)] Loss: 0.240744\n",
      "Train Epoch: 141 [1152/1487 (75%)] Loss: 0.294272\n",
      "Train Epoch: 141 [1280/1487 (83%)] Loss: 0.227536\n",
      "Train Epoch: 141 [1408/1487 (92%)] Loss: 0.234074\n",
      "    epoch          : 141\n",
      "    loss           : 0.21212878512839475\n",
      "    my_metric      : 0.9153645833333334\n",
      "    f1             : 0.9153351988367184\n",
      "    balanced_accuracy: 0.916103706050273\n",
      "    precision      : 0.9188230467822022\n",
      "    recall         : 0.9153645833333334\n",
      "    val_loss       : 0.7350354433059693\n",
      "    val_my_metric  : 0.7489583333333333\n",
      "    val_f1         : 0.7398235800028068\n",
      "    val_balanced_accuracy: 0.7448775005953798\n",
      "    val_precision  : 0.777492302955665\n",
      "    val_recall     : 0.7489583333333333\n"
     ]
    },
    {
     "name": "stdout",
     "output_type": "stream",
     "text": [
      "Model has not improved in -------------| 117 epochs\n"
     ]
    },
    {
     "name": "stderr",
     "output_type": "stream",
     "text": [
      "Train Epoch: 142 [0/1487 (0%)] Loss: 0.263536\n",
      "Train Epoch: 142 [128/1487 (8%)] Loss: 0.178342\n",
      "Train Epoch: 142 [256/1487 (17%)] Loss: 0.208715\n",
      "Train Epoch: 142 [384/1487 (25%)] Loss: 0.165605\n",
      "Train Epoch: 142 [512/1487 (33%)] Loss: 0.169663\n",
      "Train Epoch: 142 [640/1487 (42%)] Loss: 0.159710\n",
      "Train Epoch: 142 [768/1487 (50%)] Loss: 0.179760\n",
      "Train Epoch: 142 [896/1487 (58%)] Loss: 0.182172\n",
      "Train Epoch: 142 [1024/1487 (67%)] Loss: 0.339371\n",
      "Train Epoch: 142 [1152/1487 (75%)] Loss: 0.166251\n",
      "Train Epoch: 142 [1280/1487 (83%)] Loss: 0.306727\n",
      "Train Epoch: 142 [1408/1487 (92%)] Loss: 0.133798\n",
      "    epoch          : 142\n",
      "    loss           : 0.21437519260992607\n",
      "    my_metric      : 0.9146701388888889\n",
      "    f1             : 0.9147622209351997\n",
      "    balanced_accuracy: 0.9154612188282605\n",
      "    precision      : 0.9183195680609781\n",
      "    recall         : 0.9146701388888889\n",
      "    val_loss       : 0.8056074023246765\n",
      "    val_my_metric  : 0.63125\n",
      "    val_f1         : 0.6097536278364493\n",
      "    val_balanced_accuracy: 0.6566479788396297\n",
      "    val_precision  : 0.722953817016317\n",
      "    val_recall     : 0.63125\n"
     ]
    },
    {
     "name": "stdout",
     "output_type": "stream",
     "text": [
      "Model has not improved in -------------| 118 epochs\n"
     ]
    },
    {
     "name": "stderr",
     "output_type": "stream",
     "text": [
      "Train Epoch: 143 [0/1487 (0%)] Loss: 0.157221\n",
      "Train Epoch: 143 [128/1487 (8%)] Loss: 0.174803\n",
      "Train Epoch: 143 [256/1487 (17%)] Loss: 0.315978\n",
      "Train Epoch: 143 [384/1487 (25%)] Loss: 0.193785\n",
      "Train Epoch: 143 [512/1487 (33%)] Loss: 0.208576\n",
      "Train Epoch: 143 [640/1487 (42%)] Loss: 0.374875\n",
      "Train Epoch: 143 [768/1487 (50%)] Loss: 0.260593\n",
      "Train Epoch: 143 [896/1487 (58%)] Loss: 0.160283\n",
      "Train Epoch: 143 [1024/1487 (67%)] Loss: 0.268434\n",
      "Train Epoch: 143 [1152/1487 (75%)] Loss: 0.179170\n",
      "Train Epoch: 143 [1280/1487 (83%)] Loss: 0.226331\n",
      "Train Epoch: 143 [1408/1487 (92%)] Loss: 0.172016\n",
      "    epoch          : 143\n",
      "    loss           : 0.21466080906490484\n",
      "    my_metric      : 0.91796875\n",
      "    f1             : 0.9177588313455253\n",
      "    balanced_accuracy: 0.9172039093681494\n",
      "    precision      : 0.9211415761988149\n",
      "    recall         : 0.91796875\n",
      "    val_loss       : 0.8451721787452697\n",
      "    val_my_metric  : 0.71875\n",
      "    val_f1         : 0.7065555607904722\n",
      "    val_balanced_accuracy: 0.6913824243468293\n",
      "    val_precision  : 0.7023985607806172\n",
      "    val_recall     : 0.71875\n"
     ]
    },
    {
     "name": "stdout",
     "output_type": "stream",
     "text": [
      "Model has not improved in -------------| 119 epochs\n"
     ]
    },
    {
     "name": "stderr",
     "output_type": "stream",
     "text": [
      "Train Epoch: 144 [0/1487 (0%)] Loss: 0.235307\n",
      "Train Epoch: 144 [128/1487 (8%)] Loss: 0.226380\n",
      "Train Epoch: 144 [256/1487 (17%)] Loss: 0.273376\n",
      "Train Epoch: 144 [384/1487 (25%)] Loss: 0.176728\n",
      "Train Epoch: 144 [512/1487 (33%)] Loss: 0.115916\n",
      "Train Epoch: 144 [640/1487 (42%)] Loss: 0.102536\n",
      "Train Epoch: 144 [768/1487 (50%)] Loss: 0.239842\n",
      "Train Epoch: 144 [896/1487 (58%)] Loss: 0.254338\n",
      "Train Epoch: 144 [1024/1487 (67%)] Loss: 0.188504\n",
      "Train Epoch: 144 [1152/1487 (75%)] Loss: 0.158683\n",
      "Train Epoch: 144 [1280/1487 (83%)] Loss: 0.204643\n",
      "Train Epoch: 144 [1408/1487 (92%)] Loss: 0.223855\n",
      "    epoch          : 144\n",
      "    loss           : 0.20540518127381802\n",
      "    my_metric      : 0.9117621527777778\n",
      "    f1             : 0.9117309645393944\n",
      "    balanced_accuracy: 0.9135447472445146\n",
      "    precision      : 0.9178121959433327\n",
      "    recall         : 0.9117621527777778\n",
      "    val_loss       : 0.7877003073692321\n",
      "    val_my_metric  : 0.7\n",
      "    val_f1         : 0.6964297173776888\n",
      "    val_balanced_accuracy: 0.6990065077755241\n",
      "    val_precision  : 0.702494239671659\n",
      "    val_recall     : 0.7\n"
     ]
    },
    {
     "name": "stdout",
     "output_type": "stream",
     "text": [
      "Model has not improved in -------------| 120 epochs\n"
     ]
    },
    {
     "name": "stderr",
     "output_type": "stream",
     "text": [
      "Train Epoch: 145 [0/1487 (0%)] Loss: 0.177123\n",
      "Train Epoch: 145 [128/1487 (8%)] Loss: 0.146360\n",
      "Train Epoch: 145 [256/1487 (17%)] Loss: 0.229214\n",
      "Train Epoch: 145 [384/1487 (25%)] Loss: 0.283291\n",
      "Train Epoch: 145 [512/1487 (33%)] Loss: 0.309160\n",
      "Train Epoch: 145 [640/1487 (42%)] Loss: 0.187538\n",
      "Train Epoch: 145 [768/1487 (50%)] Loss: 0.117739\n",
      "Train Epoch: 145 [896/1487 (58%)] Loss: 0.195969\n",
      "Train Epoch: 145 [1024/1487 (67%)] Loss: 0.192334\n",
      "Train Epoch: 145 [1152/1487 (75%)] Loss: 0.202108\n",
      "Train Epoch: 145 [1280/1487 (83%)] Loss: 0.165033\n",
      "Train Epoch: 145 [1408/1487 (92%)] Loss: 0.144255\n",
      "    epoch          : 145\n",
      "    loss           : 0.20798675902187824\n",
      "    my_metric      : 0.9044270833333333\n",
      "    f1             : 0.9046149343047852\n",
      "    balanced_accuracy: 0.9062549699185108\n",
      "    precision      : 0.9098917927423932\n",
      "    recall         : 0.9044270833333333\n",
      "    val_loss       : 0.754388827085495\n",
      "    val_my_metric  : 0.7427083333333333\n",
      "    val_f1         : 0.7158185646347801\n",
      "    val_balanced_accuracy: 0.710011041326228\n",
      "    val_precision  : 0.7017204630376537\n",
      "    val_recall     : 0.7427083333333333\n"
     ]
    },
    {
     "name": "stdout",
     "output_type": "stream",
     "text": [
      "Model has not improved in -------------| 121 epochs\n"
     ]
    },
    {
     "name": "stderr",
     "output_type": "stream",
     "text": [
      "Train Epoch: 146 [0/1487 (0%)] Loss: 0.132979\n",
      "Train Epoch: 146 [128/1487 (8%)] Loss: 0.209710\n",
      "Train Epoch: 146 [256/1487 (17%)] Loss: 0.180184\n",
      "Train Epoch: 146 [384/1487 (25%)] Loss: 0.190963\n",
      "Train Epoch: 146 [512/1487 (33%)] Loss: 0.199735\n",
      "Train Epoch: 146 [640/1487 (42%)] Loss: 0.197717\n",
      "Train Epoch: 146 [768/1487 (50%)] Loss: 0.214234\n",
      "Train Epoch: 146 [896/1487 (58%)] Loss: 0.260153\n",
      "Train Epoch: 146 [1024/1487 (67%)] Loss: 0.167533\n",
      "Train Epoch: 146 [1152/1487 (75%)] Loss: 0.244868\n",
      "Train Epoch: 146 [1280/1487 (83%)] Loss: 0.212450\n",
      "Train Epoch: 146 [1408/1487 (92%)] Loss: 0.228465\n",
      "    epoch          : 146\n",
      "    loss           : 0.2097981326902906\n",
      "    my_metric      : 0.9169704861111111\n",
      "    f1             : 0.9168865333466435\n",
      "    balanced_accuracy: 0.9170618760884607\n",
      "    precision      : 0.9219021126175008\n",
      "    recall         : 0.9169704861111111\n",
      "    val_loss       : 0.7546265006065369\n",
      "    val_my_metric  : 0.6447916666666667\n",
      "    val_f1         : 0.6104548755841859\n",
      "    val_balanced_accuracy: 0.6796135316296608\n",
      "    val_precision  : 0.6079041845489214\n",
      "    val_recall     : 0.6447916666666667\n"
     ]
    },
    {
     "name": "stdout",
     "output_type": "stream",
     "text": [
      "Model has not improved in -------------| 122 epochs\n"
     ]
    },
    {
     "name": "stderr",
     "output_type": "stream",
     "text": [
      "Train Epoch: 147 [0/1487 (0%)] Loss: 0.183965\n",
      "Train Epoch: 147 [128/1487 (8%)] Loss: 0.184619\n",
      "Train Epoch: 147 [256/1487 (17%)] Loss: 0.208721\n",
      "Train Epoch: 147 [384/1487 (25%)] Loss: 0.148360\n",
      "Train Epoch: 147 [512/1487 (33%)] Loss: 0.120817\n",
      "Train Epoch: 147 [640/1487 (42%)] Loss: 0.156686\n",
      "Train Epoch: 147 [768/1487 (50%)] Loss: 0.206782\n",
      "Train Epoch: 147 [896/1487 (58%)] Loss: 0.176349\n",
      "Train Epoch: 147 [1024/1487 (67%)] Loss: 0.284261\n",
      "Train Epoch: 147 [1152/1487 (75%)] Loss: 0.369070\n",
      "Train Epoch: 147 [1280/1487 (83%)] Loss: 0.347848\n",
      "Train Epoch: 147 [1408/1487 (92%)] Loss: 0.304547\n",
      "    epoch          : 147\n",
      "    loss           : 0.22942653267333904\n",
      "    my_metric      : 0.9052517361111111\n",
      "    f1             : 0.9055497404110096\n",
      "    balanced_accuracy: 0.9102406281519949\n",
      "    precision      : 0.9133956928082058\n",
      "    recall         : 0.9052517361111111\n",
      "    val_loss       : 0.6746164500713349\n",
      "    val_my_metric  : 0.7510416666666667\n",
      "    val_f1         : 0.733159877975046\n",
      "    val_balanced_accuracy: 0.6870213653769729\n",
      "    val_precision  : 0.7349414908008659\n",
      "    val_recall     : 0.7510416666666667\n"
     ]
    },
    {
     "name": "stdout",
     "output_type": "stream",
     "text": [
      "Model has not improved in -------------| 123 epochs\n"
     ]
    },
    {
     "name": "stderr",
     "output_type": "stream",
     "text": [
      "Train Epoch: 148 [0/1487 (0%)] Loss: 0.161947\n",
      "Train Epoch: 148 [128/1487 (8%)] Loss: 0.310391\n",
      "Train Epoch: 148 [256/1487 (17%)] Loss: 0.263186\n",
      "Train Epoch: 148 [384/1487 (25%)] Loss: 0.214622\n",
      "Train Epoch: 148 [512/1487 (33%)] Loss: 0.172737\n",
      "Train Epoch: 148 [640/1487 (42%)] Loss: 0.213965\n",
      "Train Epoch: 148 [768/1487 (50%)] Loss: 0.186623\n",
      "Train Epoch: 148 [896/1487 (58%)] Loss: 0.161521\n",
      "Train Epoch: 148 [1024/1487 (67%)] Loss: 0.230144\n",
      "Train Epoch: 148 [1152/1487 (75%)] Loss: 0.160056\n",
      "Train Epoch: 148 [1280/1487 (83%)] Loss: 0.225734\n",
      "Train Epoch: 148 [1408/1487 (92%)] Loss: 0.260366\n",
      "    epoch          : 148\n",
      "    loss           : 0.20753566858669123\n",
      "    my_metric      : 0.9182725694444445\n",
      "    f1             : 0.9180831272499673\n",
      "    balanced_accuracy: 0.9180176714036828\n",
      "    precision      : 0.9228053813857157\n",
      "    recall         : 0.9182725694444445\n",
      "    val_loss       : 0.6286520928144455\n",
      "    val_my_metric  : 0.7729166666666667\n",
      "    val_f1         : 0.7761914202039615\n",
      "    val_balanced_accuracy: 0.7856324136406172\n",
      "    val_precision  : 0.79269057003432\n",
      "    val_recall     : 0.7729166666666667\n"
     ]
    },
    {
     "name": "stdout",
     "output_type": "stream",
     "text": [
      "Model has not improved in -------------| 124 epochs\n"
     ]
    },
    {
     "name": "stderr",
     "output_type": "stream",
     "text": [
      "Train Epoch: 149 [0/1487 (0%)] Loss: 0.180892\n",
      "Train Epoch: 149 [128/1487 (8%)] Loss: 0.139878\n",
      "Train Epoch: 149 [256/1487 (17%)] Loss: 0.136031\n",
      "Train Epoch: 149 [384/1487 (25%)] Loss: 0.155880\n",
      "Train Epoch: 149 [512/1487 (33%)] Loss: 0.154915\n",
      "Train Epoch: 149 [640/1487 (42%)] Loss: 0.297117\n",
      "Train Epoch: 149 [768/1487 (50%)] Loss: 0.286939\n",
      "Train Epoch: 149 [896/1487 (58%)] Loss: 0.206214\n",
      "Train Epoch: 149 [1024/1487 (67%)] Loss: 0.233105\n",
      "Train Epoch: 149 [1152/1487 (75%)] Loss: 0.304366\n",
      "Train Epoch: 149 [1280/1487 (83%)] Loss: 0.296227\n",
      "Train Epoch: 149 [1408/1487 (92%)] Loss: 0.224601\n",
      "    epoch          : 149\n",
      "    loss           : 0.20706215873360634\n",
      "    my_metric      : 0.9083333333333333\n",
      "    f1             : 0.9086888572178965\n",
      "    balanced_accuracy: 0.9126470826179474\n",
      "    precision      : 0.9153022307054158\n",
      "    recall         : 0.9083333333333333\n",
      "    val_loss       : 0.6240880906581878\n",
      "    val_my_metric  : 0.7916666666666667\n",
      "    val_f1         : 0.7916857061256988\n",
      "    val_balanced_accuracy: 0.796880155439666\n",
      "    val_precision  : 0.8089670562213737\n",
      "    val_recall     : 0.7916666666666667\n"
     ]
    },
    {
     "name": "stdout",
     "output_type": "stream",
     "text": [
      "Model has not improved in -------------| 125 epochs\n"
     ]
    },
    {
     "name": "stderr",
     "output_type": "stream",
     "text": [
      "Train Epoch: 150 [0/1487 (0%)] Loss: 0.253275\n",
      "Train Epoch: 150 [128/1487 (8%)] Loss: 0.278854\n",
      "Train Epoch: 150 [256/1487 (17%)] Loss: 0.150201\n",
      "Train Epoch: 150 [384/1487 (25%)] Loss: 0.152601\n",
      "Train Epoch: 150 [512/1487 (33%)] Loss: 0.163419\n",
      "Train Epoch: 150 [640/1487 (42%)] Loss: 0.202839\n",
      "Train Epoch: 150 [768/1487 (50%)] Loss: 0.275824\n",
      "Train Epoch: 150 [896/1487 (58%)] Loss: 0.163476\n",
      "Train Epoch: 150 [1024/1487 (67%)] Loss: 0.136875\n",
      "Train Epoch: 150 [1152/1487 (75%)] Loss: 0.244753\n",
      "Train Epoch: 150 [1280/1487 (83%)] Loss: 0.344388\n",
      "Train Epoch: 150 [1408/1487 (92%)] Loss: 0.208334\n",
      "    epoch          : 150\n",
      "    loss           : 0.1978917516147097\n",
      "    my_metric      : 0.9137152777777778\n",
      "    f1             : 0.9136783364432253\n",
      "    balanced_accuracy: 0.9147636960523089\n",
      "    precision      : 0.9195393709608171\n",
      "    recall         : 0.9137152777777778\n",
      "    val_loss       : 0.6215025663375855\n",
      "    val_my_metric  : 0.7760416666666667\n",
      "    val_f1         : 0.7908274620835295\n",
      "    val_balanced_accuracy: 0.7726758809301913\n",
      "    val_precision  : 0.8095109246358716\n",
      "    val_recall     : 0.7760416666666667\n"
     ]
    },
    {
     "name": "stdout",
     "output_type": "stream",
     "text": [
      "Model has not improved in -------------| 126 epochs\n"
     ]
    },
    {
     "name": "stderr",
     "output_type": "stream",
     "text": [
      "Train Epoch: 151 [0/1487 (0%)] Loss: 0.251369\n",
      "Train Epoch: 151 [128/1487 (8%)] Loss: 0.161421\n",
      "Train Epoch: 151 [256/1487 (17%)] Loss: 0.136695\n",
      "Train Epoch: 151 [384/1487 (25%)] Loss: 0.200901\n",
      "Train Epoch: 151 [512/1487 (33%)] Loss: 0.211056\n",
      "Train Epoch: 151 [640/1487 (42%)] Loss: 0.169789\n",
      "Train Epoch: 151 [768/1487 (50%)] Loss: 0.210553\n",
      "Train Epoch: 151 [896/1487 (58%)] Loss: 0.176866\n",
      "Train Epoch: 151 [1024/1487 (67%)] Loss: 0.137364\n",
      "Train Epoch: 151 [1152/1487 (75%)] Loss: 0.159441\n",
      "Train Epoch: 151 [1280/1487 (83%)] Loss: 0.185060\n",
      "Train Epoch: 151 [1408/1487 (92%)] Loss: 0.157701\n",
      "    epoch          : 151\n",
      "    loss           : 0.1827440531924367\n",
      "    my_metric      : 0.9282118055555556\n",
      "    f1             : 0.9283049022436914\n",
      "    balanced_accuracy: 0.9304565312289782\n",
      "    precision      : 0.9319966116182273\n",
      "    recall         : 0.9282118055555556\n",
      "    val_loss       : 0.8656534850597382\n",
      "    val_my_metric  : 0.7302083333333333\n",
      "    val_f1         : 0.7292948204359513\n",
      "    val_balanced_accuracy: 0.722466663091663\n",
      "    val_precision  : 0.7355293578970049\n",
      "    val_recall     : 0.7302083333333333\n"
     ]
    },
    {
     "name": "stdout",
     "output_type": "stream",
     "text": [
      "Model has not improved in -------------| 127 epochs\n"
     ]
    },
    {
     "name": "stderr",
     "output_type": "stream",
     "text": [
      "Train Epoch: 152 [0/1487 (0%)] Loss: 0.189232\n",
      "Train Epoch: 152 [128/1487 (8%)] Loss: 0.200184\n",
      "Train Epoch: 152 [256/1487 (17%)] Loss: 0.242592\n",
      "Train Epoch: 152 [384/1487 (25%)] Loss: 0.224847\n",
      "Train Epoch: 152 [512/1487 (33%)] Loss: 0.147690\n",
      "Train Epoch: 152 [640/1487 (42%)] Loss: 0.212370\n",
      "Train Epoch: 152 [768/1487 (50%)] Loss: 0.259204\n",
      "Train Epoch: 152 [896/1487 (58%)] Loss: 0.183824\n",
      "Train Epoch: 152 [1024/1487 (67%)] Loss: 0.215116\n",
      "Train Epoch: 152 [1152/1487 (75%)] Loss: 0.237704\n",
      "Train Epoch: 152 [1280/1487 (83%)] Loss: 0.159888\n",
      "Train Epoch: 152 [1408/1487 (92%)] Loss: 0.185522\n",
      "    epoch          : 152\n",
      "    loss           : 0.19282484209785858\n",
      "    my_metric      : 0.9230034722222222\n",
      "    f1             : 0.9231728544901063\n",
      "    balanced_accuracy: 0.9260826210063496\n",
      "    precision      : 0.9274690286683559\n",
      "    recall         : 0.9230034722222222\n",
      "    val_loss       : 0.699983561038971\n",
      "    val_my_metric  : 0.684375\n",
      "    val_f1         : 0.686055646650506\n",
      "    val_balanced_accuracy: 0.6803492227780653\n",
      "    val_precision  : 0.6967760986970545\n",
      "    val_recall     : 0.684375\n"
     ]
    },
    {
     "name": "stdout",
     "output_type": "stream",
     "text": [
      "Model has not improved in -------------| 128 epochs\n"
     ]
    },
    {
     "name": "stderr",
     "output_type": "stream",
     "text": [
      "Train Epoch: 153 [0/1487 (0%)] Loss: 0.128826\n",
      "Train Epoch: 153 [128/1487 (8%)] Loss: 0.086351\n",
      "Train Epoch: 153 [256/1487 (17%)] Loss: 0.179411\n",
      "Train Epoch: 153 [384/1487 (25%)] Loss: 0.204038\n",
      "Train Epoch: 153 [512/1487 (33%)] Loss: 0.131630\n",
      "Train Epoch: 153 [640/1487 (42%)] Loss: 0.193085\n",
      "Train Epoch: 153 [768/1487 (50%)] Loss: 0.119922\n",
      "Train Epoch: 153 [896/1487 (58%)] Loss: 0.149689\n",
      "Train Epoch: 153 [1024/1487 (67%)] Loss: 0.269899\n",
      "Train Epoch: 153 [1152/1487 (75%)] Loss: 0.160623\n",
      "Train Epoch: 153 [1280/1487 (83%)] Loss: 0.214462\n",
      "Train Epoch: 153 [1408/1487 (92%)] Loss: 0.147582\n",
      "    epoch          : 153\n",
      "    loss           : 0.18455918257435164\n",
      "    my_metric      : 0.9285156250000001\n",
      "    f1             : 0.9285913255772944\n",
      "    balanced_accuracy: 0.9295737545803937\n",
      "    precision      : 0.9340196778680044\n",
      "    recall         : 0.9285156250000001\n",
      "    val_loss       : 0.6102801918983459\n",
      "    val_my_metric  : 0.7947916666666667\n",
      "    val_f1         : 0.796154232245555\n",
      "    val_balanced_accuracy: 0.8035493346588682\n",
      "    val_precision  : 0.809585020853292\n",
      "    val_recall     : 0.7947916666666667\n"
     ]
    },
    {
     "name": "stdout",
     "output_type": "stream",
     "text": [
      "Model has not improved in -------------| 129 epochs\n"
     ]
    },
    {
     "name": "stderr",
     "output_type": "stream",
     "text": [
      "Train Epoch: 154 [0/1487 (0%)] Loss: 0.160286\n",
      "Train Epoch: 154 [128/1487 (8%)] Loss: 0.187796\n",
      "Train Epoch: 154 [256/1487 (17%)] Loss: 0.222784\n",
      "Train Epoch: 154 [384/1487 (25%)] Loss: 0.182716\n",
      "Train Epoch: 154 [512/1487 (33%)] Loss: 0.232568\n",
      "Train Epoch: 154 [640/1487 (42%)] Loss: 0.179686\n",
      "Train Epoch: 154 [768/1487 (50%)] Loss: 0.294501\n",
      "Train Epoch: 154 [896/1487 (58%)] Loss: 0.171545\n",
      "Train Epoch: 154 [1024/1487 (67%)] Loss: 0.134256\n",
      "Train Epoch: 154 [1152/1487 (75%)] Loss: 0.149261\n",
      "Train Epoch: 154 [1280/1487 (83%)] Loss: 0.187609\n",
      "Train Epoch: 154 [1408/1487 (92%)] Loss: 0.128088\n",
      "    epoch          : 154\n",
      "    loss           : 0.18466463716079792\n",
      "    my_metric      : 0.9327690972222222\n",
      "    f1             : 0.9327856867180307\n",
      "    balanced_accuracy: 0.933574911043766\n",
      "    precision      : 0.9356887938879964\n",
      "    recall         : 0.9327690972222222\n",
      "    val_loss       : 0.8095771074295044\n",
      "    val_my_metric  : 0.690625\n",
      "    val_f1         : 0.6807628602348943\n",
      "    val_balanced_accuracy: 0.716672129262262\n",
      "    val_precision  : 0.7567565938013135\n",
      "    val_recall     : 0.690625\n"
     ]
    },
    {
     "name": "stdout",
     "output_type": "stream",
     "text": [
      "Model has not improved in -------------| 130 epochs\n"
     ]
    },
    {
     "name": "stderr",
     "output_type": "stream",
     "text": [
      "Train Epoch: 155 [0/1487 (0%)] Loss: 0.147196\n",
      "Train Epoch: 155 [128/1487 (8%)] Loss: 0.189595\n",
      "Train Epoch: 155 [256/1487 (17%)] Loss: 0.124049\n",
      "Train Epoch: 155 [384/1487 (25%)] Loss: 0.131020\n",
      "Train Epoch: 155 [512/1487 (33%)] Loss: 0.128101\n",
      "Train Epoch: 155 [640/1487 (42%)] Loss: 0.189265\n",
      "Train Epoch: 155 [768/1487 (50%)] Loss: 0.154274\n",
      "Train Epoch: 155 [896/1487 (58%)] Loss: 0.185106\n",
      "Train Epoch: 155 [1024/1487 (67%)] Loss: 0.187162\n",
      "Train Epoch: 155 [1152/1487 (75%)] Loss: 0.194465\n",
      "Train Epoch: 155 [1280/1487 (83%)] Loss: 0.108976\n",
      "Train Epoch: 155 [1408/1487 (92%)] Loss: 0.271425\n",
      "    epoch          : 155\n",
      "    loss           : 0.16254165613402924\n",
      "    my_metric      : 0.93359375\n",
      "    f1             : 0.933740843121452\n",
      "    balanced_accuracy: 0.9354712067198889\n",
      "    precision      : 0.9361924953460165\n",
      "    recall         : 0.93359375\n",
      "    val_loss       : 0.6843147218227387\n",
      "    val_my_metric  : 0.7447916666666667\n",
      "    val_f1         : 0.7445311346550691\n",
      "    val_balanced_accuracy: 0.7480741665366413\n",
      "    val_precision  : 0.760955532972292\n",
      "    val_recall     : 0.7447916666666667\n"
     ]
    },
    {
     "name": "stdout",
     "output_type": "stream",
     "text": [
      "Model has not improved in -------------| 131 epochs\n"
     ]
    },
    {
     "name": "stderr",
     "output_type": "stream",
     "text": [
      "Train Epoch: 156 [0/1487 (0%)] Loss: 0.163516\n",
      "Train Epoch: 156 [128/1487 (8%)] Loss: 0.323885\n",
      "Train Epoch: 156 [256/1487 (17%)] Loss: 0.187405\n",
      "Train Epoch: 156 [384/1487 (25%)] Loss: 0.138073\n",
      "Train Epoch: 156 [512/1487 (33%)] Loss: 0.141750\n",
      "Train Epoch: 156 [640/1487 (42%)] Loss: 0.303704\n",
      "Train Epoch: 156 [768/1487 (50%)] Loss: 0.154963\n",
      "Train Epoch: 156 [896/1487 (58%)] Loss: 0.177427\n",
      "Train Epoch: 156 [1024/1487 (67%)] Loss: 0.211879\n",
      "Train Epoch: 156 [1152/1487 (75%)] Loss: 0.219355\n",
      "Train Epoch: 156 [1280/1487 (83%)] Loss: 0.126688\n",
      "Train Epoch: 156 [1408/1487 (92%)] Loss: 0.247777\n",
      "    epoch          : 156\n",
      "    loss           : 0.18640300476302704\n",
      "    my_metric      : 0.9215277777777778\n",
      "    f1             : 0.9215175365795147\n",
      "    balanced_accuracy: 0.9229928694797428\n",
      "    precision      : 0.9260181395250919\n",
      "    recall         : 0.9215277777777778\n",
      "    val_loss       : 0.9502904772758484\n",
      "    val_my_metric  : 0.7520833333333333\n",
      "    val_f1         : 0.743321761255822\n",
      "    val_balanced_accuracy: 0.7533753090679086\n",
      "    val_precision  : 0.7829837164750957\n",
      "    val_recall     : 0.7520833333333333\n"
     ]
    },
    {
     "name": "stdout",
     "output_type": "stream",
     "text": [
      "Model has not improved in -------------| 132 epochs\n"
     ]
    },
    {
     "name": "stderr",
     "output_type": "stream",
     "text": [
      "Train Epoch: 157 [0/1487 (0%)] Loss: 0.180209\n",
      "Train Epoch: 157 [128/1487 (8%)] Loss: 0.200853\n",
      "Train Epoch: 157 [256/1487 (17%)] Loss: 0.227378\n",
      "Train Epoch: 157 [384/1487 (25%)] Loss: 0.097248\n",
      "Train Epoch: 157 [512/1487 (33%)] Loss: 0.254619\n",
      "Train Epoch: 157 [640/1487 (42%)] Loss: 0.121433\n",
      "Train Epoch: 157 [768/1487 (50%)] Loss: 0.094356\n",
      "Train Epoch: 157 [896/1487 (58%)] Loss: 0.195613\n",
      "Train Epoch: 157 [1024/1487 (67%)] Loss: 0.124086\n",
      "Train Epoch: 157 [1152/1487 (75%)] Loss: 0.190177\n",
      "Train Epoch: 157 [1280/1487 (83%)] Loss: 0.099622\n",
      "Train Epoch: 157 [1408/1487 (92%)] Loss: 0.191460\n",
      "    epoch          : 157\n",
      "    loss           : 0.17387544953574738\n",
      "    my_metric      : 0.9412326388888889\n",
      "    f1             : 0.941312536695126\n",
      "    balanced_accuracy: 0.9426736450518739\n",
      "    precision      : 0.9438228600780958\n",
      "    recall         : 0.9412326388888889\n",
      "    val_loss       : 0.7310747146606446\n",
      "    val_my_metric  : 0.7145833333333333\n",
      "    val_f1         : 0.7218795665119194\n",
      "    val_balanced_accuracy: 0.7393127123772285\n",
      "    val_precision  : 0.7606622944915763\n",
      "    val_recall     : 0.7145833333333333\n"
     ]
    },
    {
     "name": "stdout",
     "output_type": "stream",
     "text": [
      "Model has not improved in -------------| 133 epochs\n"
     ]
    },
    {
     "name": "stderr",
     "output_type": "stream",
     "text": [
      "Train Epoch: 158 [0/1487 (0%)] Loss: 0.186441\n",
      "Train Epoch: 158 [128/1487 (8%)] Loss: 0.084700\n",
      "Train Epoch: 158 [256/1487 (17%)] Loss: 0.113048\n",
      "Train Epoch: 158 [384/1487 (25%)] Loss: 0.279552\n",
      "Train Epoch: 158 [512/1487 (33%)] Loss: 0.201410\n",
      "Train Epoch: 158 [640/1487 (42%)] Loss: 0.117933\n",
      "Train Epoch: 158 [768/1487 (50%)] Loss: 0.103779\n",
      "Train Epoch: 158 [896/1487 (58%)] Loss: 0.152456\n",
      "Train Epoch: 158 [1024/1487 (67%)] Loss: 0.193621\n",
      "Train Epoch: 158 [1152/1487 (75%)] Loss: 0.085583\n",
      "Train Epoch: 158 [1280/1487 (83%)] Loss: 0.246522\n",
      "Train Epoch: 158 [1408/1487 (92%)] Loss: 0.240707\n",
      "    epoch          : 158\n",
      "    loss           : 0.17668580977867046\n",
      "    my_metric      : 0.9312934027777778\n",
      "    f1             : 0.9313721804287391\n",
      "    balanced_accuracy: 0.9329228905201049\n",
      "    precision      : 0.9363766592112469\n",
      "    recall         : 0.9312934027777778\n",
      "    val_loss       : 0.8291947901248932\n",
      "    val_my_metric  : 0.7302083333333333\n",
      "    val_f1         : 0.7214112490746107\n",
      "    val_balanced_accuracy: 0.7320161804032772\n",
      "    val_precision  : 0.7657151837027915\n",
      "    val_recall     : 0.7302083333333333\n"
     ]
    },
    {
     "name": "stdout",
     "output_type": "stream",
     "text": [
      "Model has not improved in -------------| 134 epochs\n"
     ]
    },
    {
     "name": "stderr",
     "output_type": "stream",
     "text": [
      "Train Epoch: 159 [0/1487 (0%)] Loss: 0.166520\n",
      "Train Epoch: 159 [128/1487 (8%)] Loss: 0.135694\n",
      "Train Epoch: 159 [256/1487 (17%)] Loss: 0.211031\n",
      "Train Epoch: 159 [384/1487 (25%)] Loss: 0.207304\n",
      "Train Epoch: 159 [512/1487 (33%)] Loss: 0.205882\n",
      "Train Epoch: 159 [640/1487 (42%)] Loss: 0.184807\n",
      "Train Epoch: 159 [768/1487 (50%)] Loss: 0.221608\n",
      "Train Epoch: 159 [896/1487 (58%)] Loss: 0.239842\n",
      "Train Epoch: 159 [1024/1487 (67%)] Loss: 0.280069\n",
      "Train Epoch: 159 [1152/1487 (75%)] Loss: 0.134022\n",
      "Train Epoch: 159 [1280/1487 (83%)] Loss: 0.136518\n",
      "Train Epoch: 159 [1408/1487 (92%)] Loss: 0.175073\n",
      "    epoch          : 159\n",
      "    loss           : 0.17536324790368477\n",
      "    my_metric      : 0.9347222222222222\n",
      "    f1             : 0.9348292436197535\n",
      "    balanced_accuracy: 0.9360839188867233\n",
      "    precision      : 0.9376216653862608\n",
      "    recall         : 0.9347222222222222\n",
      "    val_loss       : 0.8331038594245911\n",
      "    val_my_metric  : 0.715625\n",
      "    val_f1         : 0.7184687400043135\n",
      "    val_balanced_accuracy: 0.7190425238812335\n",
      "    val_precision  : 0.7351075130942222\n",
      "    val_recall     : 0.715625\n"
     ]
    },
    {
     "name": "stdout",
     "output_type": "stream",
     "text": [
      "Model has not improved in -------------| 135 epochs\n"
     ]
    },
    {
     "name": "stderr",
     "output_type": "stream",
     "text": [
      "Train Epoch: 160 [0/1487 (0%)] Loss: 0.186089\n",
      "Train Epoch: 160 [128/1487 (8%)] Loss: 0.215334\n",
      "Train Epoch: 160 [256/1487 (17%)] Loss: 0.145280\n",
      "Train Epoch: 160 [384/1487 (25%)] Loss: 0.210201\n",
      "Train Epoch: 160 [512/1487 (33%)] Loss: 0.206740\n",
      "Train Epoch: 160 [640/1487 (42%)] Loss: 0.147909\n",
      "Train Epoch: 160 [768/1487 (50%)] Loss: 0.123181\n",
      "Train Epoch: 160 [896/1487 (58%)] Loss: 0.136857\n",
      "Train Epoch: 160 [1024/1487 (67%)] Loss: 0.184033\n",
      "Train Epoch: 160 [1152/1487 (75%)] Loss: 0.166204\n",
      "Train Epoch: 160 [1280/1487 (83%)] Loss: 0.174355\n",
      "Train Epoch: 160 [1408/1487 (92%)] Loss: 0.113101\n",
      "    epoch          : 160\n",
      "    loss           : 0.17120732832700014\n",
      "    my_metric      : 0.9397569444444445\n",
      "    f1             : 0.9396932778259083\n",
      "    balanced_accuracy: 0.9405432433545831\n",
      "    precision      : 0.9434159392211979\n",
      "    recall         : 0.9397569444444445\n",
      "    val_loss       : 0.6218487381935119\n",
      "    val_my_metric  : 0.7666666666666667\n",
      "    val_f1         : 0.7629517286111213\n",
      "    val_balanced_accuracy: 0.7501252603605544\n",
      "    val_precision  : 0.7827650563689279\n",
      "    val_recall     : 0.7666666666666667\n"
     ]
    },
    {
     "name": "stdout",
     "output_type": "stream",
     "text": [
      "Model has not improved in -------------| 136 epochs\n"
     ]
    },
    {
     "name": "stderr",
     "output_type": "stream",
     "text": [
      "Train Epoch: 161 [0/1487 (0%)] Loss: 0.180353\n",
      "Train Epoch: 161 [128/1487 (8%)] Loss: 0.161415\n",
      "Train Epoch: 161 [256/1487 (17%)] Loss: 0.121051\n",
      "Train Epoch: 161 [384/1487 (25%)] Loss: 0.249127\n",
      "Train Epoch: 161 [512/1487 (33%)] Loss: 0.212016\n",
      "Train Epoch: 161 [640/1487 (42%)] Loss: 0.094009\n",
      "Train Epoch: 161 [768/1487 (50%)] Loss: 0.201834\n",
      "Train Epoch: 161 [896/1487 (58%)] Loss: 0.142921\n",
      "Train Epoch: 161 [1024/1487 (67%)] Loss: 0.187293\n",
      "Train Epoch: 161 [1152/1487 (75%)] Loss: 0.219907\n",
      "Train Epoch: 161 [1280/1487 (83%)] Loss: 0.137923\n",
      "Train Epoch: 161 [1408/1487 (92%)] Loss: 0.187603\n",
      "    epoch          : 161\n",
      "    loss           : 0.16600608173757792\n",
      "    my_metric      : 0.9388020833333334\n",
      "    f1             : 0.9387771722237392\n",
      "    balanced_accuracy: 0.939538204024413\n",
      "    precision      : 0.9417726272024719\n",
      "    recall         : 0.9388020833333334\n",
      "    val_loss       : 0.6991800427436828\n",
      "    val_my_metric  : 0.7114583333333333\n",
      "    val_f1         : 0.7101884571164365\n",
      "    val_balanced_accuracy: 0.7096055629249374\n",
      "    val_precision  : 0.7143650672433567\n",
      "    val_recall     : 0.7114583333333333\n"
     ]
    },
    {
     "name": "stdout",
     "output_type": "stream",
     "text": [
      "Model has not improved in -------------| 137 epochs\n"
     ]
    },
    {
     "name": "stderr",
     "output_type": "stream",
     "text": [
      "Train Epoch: 162 [0/1487 (0%)] Loss: 0.138395\n",
      "Train Epoch: 162 [128/1487 (8%)] Loss: 0.082744\n",
      "Train Epoch: 162 [256/1487 (17%)] Loss: 0.098445\n",
      "Train Epoch: 162 [384/1487 (25%)] Loss: 0.186079\n",
      "Train Epoch: 162 [512/1487 (33%)] Loss: 0.259691\n",
      "Train Epoch: 162 [640/1487 (42%)] Loss: 0.163877\n",
      "Train Epoch: 162 [768/1487 (50%)] Loss: 0.209003\n",
      "Train Epoch: 162 [896/1487 (58%)] Loss: 0.134820\n",
      "Train Epoch: 162 [1024/1487 (67%)] Loss: 0.129875\n",
      "Train Epoch: 162 [1152/1487 (75%)] Loss: 0.224238\n",
      "Train Epoch: 162 [1280/1487 (83%)] Loss: 0.177934\n",
      "Train Epoch: 162 [1408/1487 (92%)] Loss: 0.090215\n",
      "    epoch          : 162\n",
      "    loss           : 0.15317348732302585\n",
      "    my_metric      : 0.9440104166666666\n",
      "    f1             : 0.9439743987829784\n",
      "    balanced_accuracy: 0.9435642590841219\n",
      "    precision      : 0.9457824440646746\n",
      "    recall         : 0.9440104166666666\n",
      "    val_loss       : 0.6603702008724213\n",
      "    val_my_metric  : 0.7416666666666667\n",
      "    val_f1         : 0.7402379241803565\n",
      "    val_balanced_accuracy: 0.7408394608728314\n",
      "    val_precision  : 0.7511544336737112\n",
      "    val_recall     : 0.7416666666666667\n"
     ]
    },
    {
     "name": "stdout",
     "output_type": "stream",
     "text": [
      "Model has not improved in -------------| 138 epochs\n"
     ]
    },
    {
     "name": "stderr",
     "output_type": "stream",
     "text": [
      "Train Epoch: 163 [0/1487 (0%)] Loss: 0.159774\n",
      "Train Epoch: 163 [128/1487 (8%)] Loss: 0.169398\n",
      "Train Epoch: 163 [256/1487 (17%)] Loss: 0.181138\n",
      "Train Epoch: 163 [384/1487 (25%)] Loss: 0.192461\n",
      "Train Epoch: 163 [512/1487 (33%)] Loss: 0.166787\n",
      "Train Epoch: 163 [640/1487 (42%)] Loss: 0.147121\n",
      "Train Epoch: 163 [768/1487 (50%)] Loss: 0.162948\n",
      "Train Epoch: 163 [896/1487 (58%)] Loss: 0.273366\n",
      "Train Epoch: 163 [1024/1487 (67%)] Loss: 0.145077\n",
      "Train Epoch: 163 [1152/1487 (75%)] Loss: 0.215599\n",
      "Train Epoch: 163 [1280/1487 (83%)] Loss: 0.084467\n",
      "Train Epoch: 163 [1408/1487 (92%)] Loss: 0.137870\n",
      "    epoch          : 163\n",
      "    loss           : 0.18163791702439389\n",
      "    my_metric      : 0.9270399305555556\n",
      "    f1             : 0.9273317829975848\n",
      "    balanced_accuracy: 0.9278371580427152\n",
      "    precision      : 0.9311335868385099\n",
      "    recall         : 0.9270399305555556\n",
      "    val_loss       : 0.7064682424068451\n",
      "    val_my_metric  : 0.7697916666666667\n",
      "    val_f1         : 0.7668989547176646\n",
      "    val_balanced_accuracy: 0.766675977297583\n",
      "    val_precision  : 0.780346787403239\n",
      "    val_recall     : 0.7697916666666667\n"
     ]
    },
    {
     "name": "stdout",
     "output_type": "stream",
     "text": [
      "Model has not improved in -------------| 139 epochs\n"
     ]
    },
    {
     "name": "stderr",
     "output_type": "stream",
     "text": [
      "Train Epoch: 164 [0/1487 (0%)] Loss: 0.157259\n",
      "Train Epoch: 164 [128/1487 (8%)] Loss: 0.147063\n",
      "Train Epoch: 164 [256/1487 (17%)] Loss: 0.202742\n",
      "Train Epoch: 164 [384/1487 (25%)] Loss: 0.172895\n",
      "Train Epoch: 164 [512/1487 (33%)] Loss: 0.205834\n",
      "Train Epoch: 164 [640/1487 (42%)] Loss: 0.166369\n",
      "Train Epoch: 164 [768/1487 (50%)] Loss: 0.143629\n",
      "Train Epoch: 164 [896/1487 (58%)] Loss: 0.173965\n",
      "Train Epoch: 164 [1024/1487 (67%)] Loss: 0.192263\n",
      "Train Epoch: 164 [1152/1487 (75%)] Loss: 0.199577\n",
      "Train Epoch: 164 [1280/1487 (83%)] Loss: 0.121929\n",
      "Train Epoch: 164 [1408/1487 (92%)] Loss: 0.252265\n",
      "    epoch          : 164\n",
      "    loss           : 0.1730460630108913\n",
      "    my_metric      : 0.9283854166666666\n",
      "    f1             : 0.9284870454584778\n",
      "    balanced_accuracy: 0.9293820434876491\n",
      "    precision      : 0.9317993797176946\n",
      "    recall         : 0.9283854166666666\n",
      "    val_loss       : 0.7158852815628052\n",
      "    val_my_metric  : 0.7364583333333333\n",
      "    val_f1         : 0.7429097783943082\n",
      "    val_balanced_accuracy: 0.7591737797181345\n",
      "    val_precision  : 0.7853493856939093\n",
      "    val_recall     : 0.7364583333333333\n"
     ]
    },
    {
     "name": "stdout",
     "output_type": "stream",
     "text": [
      "Model has not improved in -------------| 140 epochs\n"
     ]
    },
    {
     "name": "stderr",
     "output_type": "stream",
     "text": [
      "Train Epoch: 165 [0/1487 (0%)] Loss: 0.135809\n",
      "Train Epoch: 165 [128/1487 (8%)] Loss: 0.203501\n",
      "Train Epoch: 165 [256/1487 (17%)] Loss: 0.128690\n",
      "Train Epoch: 165 [384/1487 (25%)] Loss: 0.122830\n",
      "Train Epoch: 165 [512/1487 (33%)] Loss: 0.203485\n",
      "Train Epoch: 165 [640/1487 (42%)] Loss: 0.188592\n",
      "Train Epoch: 165 [768/1487 (50%)] Loss: 0.116785\n",
      "Train Epoch: 165 [896/1487 (58%)] Loss: 0.159150\n",
      "Train Epoch: 165 [1024/1487 (67%)] Loss: 0.147982\n",
      "Train Epoch: 165 [1152/1487 (75%)] Loss: 0.121035\n",
      "Train Epoch: 165 [1280/1487 (83%)] Loss: 0.178455\n",
      "Train Epoch: 165 [1408/1487 (92%)] Loss: 0.167574\n",
      "    epoch          : 165\n",
      "    loss           : 0.14778925136973461\n",
      "    my_metric      : 0.9459635416666666\n",
      "    f1             : 0.9459126039103455\n",
      "    balanced_accuracy: 0.9459269014444308\n",
      "    precision      : 0.9482903472746099\n",
      "    recall         : 0.9459635416666666\n",
      "    val_loss       : 0.8303142786026001\n",
      "    val_my_metric  : 0.7114583333333333\n",
      "    val_f1         : 0.7211372156122108\n",
      "    val_balanced_accuracy: 0.7363359400456174\n",
      "    val_precision  : 0.7616646191522586\n",
      "    val_recall     : 0.7114583333333333\n"
     ]
    },
    {
     "name": "stdout",
     "output_type": "stream",
     "text": [
      "Model has not improved in -------------| 141 epochs\n"
     ]
    },
    {
     "name": "stderr",
     "output_type": "stream",
     "text": [
      "Train Epoch: 166 [0/1487 (0%)] Loss: 0.184184\n",
      "Train Epoch: 166 [128/1487 (8%)] Loss: 0.212118\n",
      "Train Epoch: 166 [256/1487 (17%)] Loss: 0.149517\n",
      "Train Epoch: 166 [384/1487 (25%)] Loss: 0.166277\n",
      "Train Epoch: 166 [512/1487 (33%)] Loss: 0.129903\n",
      "Train Epoch: 166 [640/1487 (42%)] Loss: 0.157746\n",
      "Train Epoch: 166 [768/1487 (50%)] Loss: 0.122947\n",
      "Train Epoch: 166 [896/1487 (58%)] Loss: 0.158101\n",
      "Train Epoch: 166 [1024/1487 (67%)] Loss: 0.102812\n",
      "Train Epoch: 166 [1152/1487 (75%)] Loss: 0.315032\n",
      "Train Epoch: 166 [1280/1487 (83%)] Loss: 0.213394\n",
      "Train Epoch: 166 [1408/1487 (92%)] Loss: 0.091630\n",
      "    epoch          : 166\n",
      "    loss           : 0.15161354839801788\n",
      "    my_metric      : 0.9440104166666666\n",
      "    f1             : 0.9440759134268535\n",
      "    balanced_accuracy: 0.9450412726122616\n",
      "    precision      : 0.946391558018711\n",
      "    recall         : 0.9440104166666666\n",
      "    val_loss       : 0.6891551911830902\n",
      "    val_my_metric  : 0.7364583333333333\n",
      "    val_f1         : 0.7361748458216901\n",
      "    val_balanced_accuracy: 0.6864586728212979\n",
      "    val_precision  : 0.745039834400443\n",
      "    val_recall     : 0.7364583333333333\n"
     ]
    },
    {
     "name": "stdout",
     "output_type": "stream",
     "text": [
      "Model has not improved in -------------| 142 epochs\n"
     ]
    },
    {
     "name": "stderr",
     "output_type": "stream",
     "text": [
      "Train Epoch: 167 [0/1487 (0%)] Loss: 0.111928\n",
      "Train Epoch: 167 [128/1487 (8%)] Loss: 0.215527\n",
      "Train Epoch: 167 [256/1487 (17%)] Loss: 0.158525\n",
      "Train Epoch: 167 [384/1487 (25%)] Loss: 0.163781\n",
      "Train Epoch: 167 [512/1487 (33%)] Loss: 0.149368\n",
      "Train Epoch: 167 [640/1487 (42%)] Loss: 0.210709\n",
      "Train Epoch: 167 [768/1487 (50%)] Loss: 0.156146\n",
      "Train Epoch: 167 [896/1487 (58%)] Loss: 0.176319\n",
      "Train Epoch: 167 [1024/1487 (67%)] Loss: 0.090875\n",
      "Train Epoch: 167 [1152/1487 (75%)] Loss: 0.190532\n",
      "Train Epoch: 167 [1280/1487 (83%)] Loss: 0.111793\n",
      "Train Epoch: 167 [1408/1487 (92%)] Loss: 0.247355\n",
      "    epoch          : 167\n",
      "    loss           : 0.15590678279598555\n",
      "    my_metric      : 0.9386284722222222\n",
      "    f1             : 0.9386336491385356\n",
      "    balanced_accuracy: 0.939058016407158\n",
      "    precision      : 0.9409579130456364\n",
      "    recall         : 0.9386284722222222\n",
      "    val_loss       : 0.6273015767335892\n",
      "    val_my_metric  : 0.7635416666666667\n",
      "    val_f1         : 0.7595299879947822\n",
      "    val_balanced_accuracy: 0.7453470961887477\n",
      "    val_precision  : 0.7742708209222677\n",
      "    val_recall     : 0.7635416666666667\n"
     ]
    },
    {
     "name": "stdout",
     "output_type": "stream",
     "text": [
      "Model has not improved in -------------| 143 epochs\n"
     ]
    },
    {
     "name": "stderr",
     "output_type": "stream",
     "text": [
      "Train Epoch: 168 [0/1487 (0%)] Loss: 0.102725\n",
      "Train Epoch: 168 [128/1487 (8%)] Loss: 0.226561\n",
      "Train Epoch: 168 [256/1487 (17%)] Loss: 0.124083\n",
      "Train Epoch: 168 [384/1487 (25%)] Loss: 0.120560\n",
      "Train Epoch: 168 [512/1487 (33%)] Loss: 0.167957\n",
      "Train Epoch: 168 [640/1487 (42%)] Loss: 0.128519\n",
      "Train Epoch: 168 [768/1487 (50%)] Loss: 0.115263\n",
      "Train Epoch: 168 [896/1487 (58%)] Loss: 0.280444\n",
      "Train Epoch: 168 [1024/1487 (67%)] Loss: 0.197853\n",
      "Train Epoch: 168 [1152/1487 (75%)] Loss: 0.189614\n",
      "Train Epoch: 168 [1280/1487 (83%)] Loss: 0.160900\n",
      "Train Epoch: 168 [1408/1487 (92%)] Loss: 0.162613\n",
      "    epoch          : 168\n",
      "    loss           : 0.15590888106574616\n",
      "    my_metric      : 0.9470920138888889\n",
      "    f1             : 0.9472062140620161\n",
      "    balanced_accuracy: 0.9479963187694387\n",
      "    precision      : 0.9493129313868612\n",
      "    recall         : 0.9470920138888889\n",
      "    val_loss       : 0.8487241268157959\n",
      "    val_my_metric  : 0.7\n",
      "    val_f1         : 0.691240744253884\n",
      "    val_balanced_accuracy: 0.7278152870343539\n",
      "    val_precision  : 0.767637826494726\n",
      "    val_recall     : 0.7\n"
     ]
    },
    {
     "name": "stdout",
     "output_type": "stream",
     "text": [
      "Model has not improved in -------------| 144 epochs\n"
     ]
    },
    {
     "name": "stderr",
     "output_type": "stream",
     "text": [
      "Train Epoch: 169 [0/1487 (0%)] Loss: 0.101270\n",
      "Train Epoch: 169 [128/1487 (8%)] Loss: 0.157599\n",
      "Train Epoch: 169 [256/1487 (17%)] Loss: 0.227062\n",
      "Train Epoch: 169 [384/1487 (25%)] Loss: 0.166824\n",
      "Train Epoch: 169 [512/1487 (33%)] Loss: 0.160548\n",
      "Train Epoch: 169 [640/1487 (42%)] Loss: 0.217342\n",
      "Train Epoch: 169 [768/1487 (50%)] Loss: 0.124928\n",
      "Train Epoch: 169 [896/1487 (58%)] Loss: 0.146043\n",
      "Train Epoch: 169 [1024/1487 (67%)] Loss: 0.193270\n",
      "Train Epoch: 169 [1152/1487 (75%)] Loss: 0.108422\n",
      "Train Epoch: 169 [1280/1487 (83%)] Loss: 0.135152\n",
      "Train Epoch: 169 [1408/1487 (92%)] Loss: 0.139814\n",
      "    epoch          : 169\n",
      "    loss           : 0.15852920524775982\n",
      "    my_metric      : 0.9407552083333334\n",
      "    f1             : 0.9406562391588654\n",
      "    balanced_accuracy: 0.9394182702319253\n",
      "    precision      : 0.9424714861424687\n",
      "    recall         : 0.9407552083333334\n",
      "    val_loss       : 0.8851719498634338\n",
      "    val_my_metric  : 0.6625\n",
      "    val_f1         : 0.654618445937302\n",
      "    val_balanced_accuracy: 0.6555564045886626\n",
      "    val_precision  : 0.6734418963118041\n",
      "    val_recall     : 0.6625\n"
     ]
    },
    {
     "name": "stdout",
     "output_type": "stream",
     "text": [
      "Model has not improved in -------------| 145 epochs\n"
     ]
    },
    {
     "name": "stderr",
     "output_type": "stream",
     "text": [
      "Train Epoch: 170 [0/1487 (0%)] Loss: 0.156234\n",
      "Train Epoch: 170 [128/1487 (8%)] Loss: 0.181083\n",
      "Train Epoch: 170 [256/1487 (17%)] Loss: 0.207710\n",
      "Train Epoch: 170 [384/1487 (25%)] Loss: 0.148210\n",
      "Train Epoch: 170 [512/1487 (33%)] Loss: 0.215310\n",
      "Train Epoch: 170 [640/1487 (42%)] Loss: 0.166379\n",
      "Train Epoch: 170 [768/1487 (50%)] Loss: 0.081530\n",
      "Train Epoch: 170 [896/1487 (58%)] Loss: 0.159119\n",
      "Train Epoch: 170 [1024/1487 (67%)] Loss: 0.172745\n",
      "Train Epoch: 170 [1152/1487 (75%)] Loss: 0.099074\n",
      "Train Epoch: 170 [1280/1487 (83%)] Loss: 0.163525\n",
      "Train Epoch: 170 [1408/1487 (92%)] Loss: 0.141263\n",
      "    epoch          : 170\n",
      "    loss           : 0.1647951565682888\n",
      "    my_metric      : 0.9420572916666666\n",
      "    f1             : 0.9420582905289066\n",
      "    balanced_accuracy: 0.9428482892837687\n",
      "    precision      : 0.9452369352788415\n",
      "    recall         : 0.9420572916666666\n",
      "    val_loss       : 0.6088621318340302\n",
      "    val_my_metric  : 0.7541666666666667\n",
      "    val_f1         : 0.7509403296822652\n",
      "    val_balanced_accuracy: 0.736908129996501\n",
      "    val_precision  : 0.7644876407349468\n",
      "    val_recall     : 0.7541666666666667\n"
     ]
    },
    {
     "name": "stdout",
     "output_type": "stream",
     "text": [
      "Model has not improved in -------------| 146 epochs\n"
     ]
    },
    {
     "name": "stderr",
     "output_type": "stream",
     "text": [
      "Train Epoch: 171 [0/1487 (0%)] Loss: 0.101070\n",
      "Train Epoch: 171 [128/1487 (8%)] Loss: 0.157729\n",
      "Train Epoch: 171 [256/1487 (17%)] Loss: 0.120135\n",
      "Train Epoch: 171 [384/1487 (25%)] Loss: 0.101116\n",
      "Train Epoch: 171 [512/1487 (33%)] Loss: 0.139187\n",
      "Train Epoch: 171 [640/1487 (42%)] Loss: 0.133028\n",
      "Train Epoch: 171 [768/1487 (50%)] Loss: 0.203595\n",
      "Train Epoch: 171 [896/1487 (58%)] Loss: 0.149510\n",
      "Train Epoch: 171 [1024/1487 (67%)] Loss: 0.197719\n",
      "Train Epoch: 171 [1152/1487 (75%)] Loss: 0.134905\n",
      "Train Epoch: 171 [1280/1487 (83%)] Loss: 0.159413\n",
      "Train Epoch: 171 [1408/1487 (92%)] Loss: 0.168097\n",
      "    epoch          : 171\n",
      "    loss           : 0.16883606805155674\n",
      "    my_metric      : 0.9399305555555556\n",
      "    f1             : 0.9399000799729728\n",
      "    balanced_accuracy: 0.9397927660148634\n",
      "    precision      : 0.94217396315823\n",
      "    recall         : 0.9399305555555556\n",
      "    val_loss       : 0.9104252696037293\n",
      "    val_my_metric  : 0.6541666666666667\n",
      "    val_f1         : 0.6367828745187236\n",
      "    val_balanced_accuracy: 0.6518067226890756\n",
      "    val_precision  : 0.6353737651392533\n",
      "    val_recall     : 0.6541666666666667\n"
     ]
    },
    {
     "name": "stdout",
     "output_type": "stream",
     "text": [
      "Model has not improved in -------------| 147 epochs\n"
     ]
    },
    {
     "name": "stderr",
     "output_type": "stream",
     "text": [
      "Train Epoch: 172 [0/1487 (0%)] Loss: 0.075902\n",
      "Train Epoch: 172 [128/1487 (8%)] Loss: 0.130546\n",
      "Train Epoch: 172 [256/1487 (17%)] Loss: 0.174651\n",
      "Train Epoch: 172 [384/1487 (25%)] Loss: 0.150863\n",
      "Train Epoch: 172 [512/1487 (33%)] Loss: 0.161693\n",
      "Train Epoch: 172 [640/1487 (42%)] Loss: 0.121641\n",
      "Train Epoch: 172 [768/1487 (50%)] Loss: 0.184828\n",
      "Train Epoch: 172 [896/1487 (58%)] Loss: 0.143643\n",
      "Train Epoch: 172 [1024/1487 (67%)] Loss: 0.112596\n",
      "Train Epoch: 172 [1152/1487 (75%)] Loss: 0.147523\n",
      "Train Epoch: 172 [1280/1487 (83%)] Loss: 0.167330\n",
      "Train Epoch: 172 [1408/1487 (92%)] Loss: 0.216247\n",
      "    epoch          : 172\n",
      "    loss           : 0.1707840341453751\n",
      "    my_metric      : 0.9337239583333333\n",
      "    f1             : 0.9336612750034633\n",
      "    balanced_accuracy: 0.9359382147444798\n",
      "    precision      : 0.9389495621878691\n",
      "    recall         : 0.9337239583333333\n",
      "    val_loss       : 0.5913244187831879\n",
      "    val_my_metric  : 0.809375\n",
      "    val_f1         : 0.8098781219350544\n",
      "    val_balanced_accuracy: 0.810800913355093\n",
      "    val_precision  : 0.8138591273086913\n",
      "    val_recall     : 0.809375\n"
     ]
    },
    {
     "name": "stdout",
     "output_type": "stream",
     "text": [
      "Model has not improved in -------------| 148 epochs\n"
     ]
    },
    {
     "name": "stderr",
     "output_type": "stream",
     "text": [
      "Train Epoch: 173 [0/1487 (0%)] Loss: 0.106621\n",
      "Train Epoch: 173 [128/1487 (8%)] Loss: 0.143328\n",
      "Train Epoch: 173 [256/1487 (17%)] Loss: 0.167487\n",
      "Train Epoch: 173 [384/1487 (25%)] Loss: 0.156563\n",
      "Train Epoch: 173 [512/1487 (33%)] Loss: 0.177831\n",
      "Train Epoch: 173 [640/1487 (42%)] Loss: 0.089379\n",
      "Train Epoch: 173 [768/1487 (50%)] Loss: 0.138791\n",
      "Train Epoch: 173 [896/1487 (58%)] Loss: 0.184765\n",
      "Train Epoch: 173 [1024/1487 (67%)] Loss: 0.127978\n",
      "Train Epoch: 173 [1152/1487 (75%)] Loss: 0.246104\n",
      "Train Epoch: 173 [1280/1487 (83%)] Loss: 0.091686\n",
      "Train Epoch: 173 [1408/1487 (92%)] Loss: 0.136438\n",
      "    epoch          : 173\n",
      "    loss           : 0.15284890867769718\n",
      "    my_metric      : 0.9498697916666666\n",
      "    f1             : 0.9497813248742227\n",
      "    balanced_accuracy: 0.9494483428855974\n",
      "    precision      : 0.9515152365217142\n",
      "    recall         : 0.9498697916666666\n",
      "    val_loss       : 0.6034327417612075\n",
      "    val_my_metric  : 0.790625\n",
      "    val_f1         : 0.7913340435814751\n",
      "    val_balanced_accuracy: 0.7960138134020225\n",
      "    val_precision  : 0.8081507493912804\n",
      "    val_recall     : 0.790625\n"
     ]
    },
    {
     "name": "stdout",
     "output_type": "stream",
     "text": [
      "Model has not improved in -------------| 149 epochs\n"
     ]
    },
    {
     "name": "stderr",
     "output_type": "stream",
     "text": [
      "Train Epoch: 174 [0/1487 (0%)] Loss: 0.164503\n",
      "Train Epoch: 174 [128/1487 (8%)] Loss: 0.108698\n",
      "Train Epoch: 174 [256/1487 (17%)] Loss: 0.364932\n",
      "Train Epoch: 174 [384/1487 (25%)] Loss: 0.241414\n",
      "Train Epoch: 174 [512/1487 (33%)] Loss: 0.316523\n",
      "Train Epoch: 174 [640/1487 (42%)] Loss: 0.203220\n",
      "Train Epoch: 174 [768/1487 (50%)] Loss: 0.079131\n",
      "Train Epoch: 174 [896/1487 (58%)] Loss: 0.110457\n",
      "Train Epoch: 174 [1024/1487 (67%)] Loss: 0.125380\n",
      "Train Epoch: 174 [1152/1487 (75%)] Loss: 0.160073\n",
      "Train Epoch: 174 [1280/1487 (83%)] Loss: 0.130821\n",
      "Train Epoch: 174 [1408/1487 (92%)] Loss: 0.255574\n",
      "    epoch          : 174\n",
      "    loss           : 0.1689571412280202\n",
      "    my_metric      : 0.9296875\n",
      "    f1             : 0.9291864732031204\n",
      "    balanced_accuracy: 0.9271440370263663\n",
      "    precision      : 0.9332755008418788\n",
      "    recall         : 0.9296875\n",
      "    val_loss       : 0.7118333578109741\n",
      "    val_my_metric  : 0.678125\n",
      "    val_f1         : 0.6683940308691402\n",
      "    val_balanced_accuracy: 0.7022312491062491\n",
      "    val_precision  : 0.7431905139286293\n",
      "    val_recall     : 0.678125\n"
     ]
    },
    {
     "name": "stdout",
     "output_type": "stream",
     "text": [
      "Model has not improved in -------------| 150 epochs\n"
     ]
    },
    {
     "name": "stderr",
     "output_type": "stream",
     "text": [
      "Train Epoch: 175 [0/1487 (0%)] Loss: 0.178183\n",
      "Train Epoch: 175 [128/1487 (8%)] Loss: 0.240069\n",
      "Train Epoch: 175 [256/1487 (17%)] Loss: 0.148164\n",
      "Train Epoch: 175 [384/1487 (25%)] Loss: 0.110607\n",
      "Train Epoch: 175 [512/1487 (33%)] Loss: 0.097731\n",
      "Train Epoch: 175 [640/1487 (42%)] Loss: 0.244734\n",
      "Train Epoch: 175 [768/1487 (50%)] Loss: 0.152390\n",
      "Train Epoch: 175 [896/1487 (58%)] Loss: 0.133793\n",
      "Train Epoch: 175 [1024/1487 (67%)] Loss: 0.174415\n",
      "Train Epoch: 175 [1152/1487 (75%)] Loss: 0.108586\n",
      "Train Epoch: 175 [1280/1487 (83%)] Loss: 0.138007\n",
      "Train Epoch: 175 [1408/1487 (92%)] Loss: 0.233668\n",
      "    epoch          : 175\n",
      "    loss           : 0.15711681420604387\n",
      "    my_metric      : 0.9483940972222222\n",
      "    f1             : 0.9481840702995585\n",
      "    balanced_accuracy: 0.9459088536810687\n",
      "    precision      : 0.9497243294717151\n",
      "    recall         : 0.9483940972222222\n",
      "    val_loss       : 0.7822359681129456\n",
      "    val_my_metric  : 0.696875\n",
      "    val_f1         : 0.7049668837836245\n",
      "    val_balanced_accuracy: 0.7402962088730589\n",
      "    val_precision  : 0.7815141369047619\n",
      "    val_recall     : 0.696875\n"
     ]
    },
    {
     "name": "stdout",
     "output_type": "stream",
     "text": [
      "Model has not improved in -------------| 151 epochs\n"
     ]
    },
    {
     "name": "stderr",
     "output_type": "stream",
     "text": [
      "Train Epoch: 176 [0/1487 (0%)] Loss: 0.137659\n",
      "Train Epoch: 176 [128/1487 (8%)] Loss: 0.168373\n",
      "Train Epoch: 176 [256/1487 (17%)] Loss: 0.108346\n",
      "Train Epoch: 176 [384/1487 (25%)] Loss: 0.220987\n",
      "Train Epoch: 176 [512/1487 (33%)] Loss: 0.168803\n",
      "Train Epoch: 176 [640/1487 (42%)] Loss: 0.157525\n",
      "Train Epoch: 176 [768/1487 (50%)] Loss: 0.184114\n",
      "Train Epoch: 176 [896/1487 (58%)] Loss: 0.187122\n",
      "Train Epoch: 176 [1024/1487 (67%)] Loss: 0.100610\n",
      "Train Epoch: 176 [1152/1487 (75%)] Loss: 0.115115\n",
      "Train Epoch: 176 [1280/1487 (83%)] Loss: 0.110701\n",
      "Train Epoch: 176 [1408/1487 (92%)] Loss: 0.119849\n",
      "    epoch          : 176\n",
      "    loss           : 0.15584478992968798\n",
      "    my_metric      : 0.9366753472222222\n",
      "    f1             : 0.9364675613326302\n",
      "    balanced_accuracy: 0.9361570238270621\n",
      "    precision      : 0.9405886434498001\n",
      "    recall         : 0.9366753472222222\n",
      "    val_loss       : 0.762951648235321\n",
      "    val_my_metric  : 0.7510416666666667\n",
      "    val_f1         : 0.7356018265111262\n",
      "    val_balanced_accuracy: 0.6812624805890526\n",
      "    val_precision  : 0.725834597175721\n",
      "    val_recall     : 0.7510416666666667\n"
     ]
    },
    {
     "name": "stdout",
     "output_type": "stream",
     "text": [
      "Model has not improved in -------------| 152 epochs\n"
     ]
    },
    {
     "name": "stderr",
     "output_type": "stream",
     "text": [
      "Train Epoch: 177 [0/1487 (0%)] Loss: 0.098285\n",
      "Train Epoch: 177 [128/1487 (8%)] Loss: 0.153686\n",
      "Train Epoch: 177 [256/1487 (17%)] Loss: 0.118858\n",
      "Train Epoch: 177 [384/1487 (25%)] Loss: 0.204210\n",
      "Train Epoch: 177 [512/1487 (33%)] Loss: 0.234776\n",
      "Train Epoch: 177 [640/1487 (42%)] Loss: 0.119187\n",
      "Train Epoch: 177 [768/1487 (50%)] Loss: 0.167856\n",
      "Train Epoch: 177 [896/1487 (58%)] Loss: 0.214023\n",
      "Train Epoch: 177 [1024/1487 (67%)] Loss: 0.116510\n",
      "Train Epoch: 177 [1152/1487 (75%)] Loss: 0.170356\n",
      "Train Epoch: 177 [1280/1487 (83%)] Loss: 0.161048\n",
      "Train Epoch: 177 [1408/1487 (92%)] Loss: 0.104241\n",
      "    epoch          : 177\n",
      "    loss           : 0.15275348691890636\n",
      "    my_metric      : 0.9407552083333334\n",
      "    f1             : 0.9408118664893824\n",
      "    balanced_accuracy: 0.9420171702539588\n",
      "    precision      : 0.9432540377110049\n",
      "    recall         : 0.9407552083333334\n",
      "    val_loss       : 0.6159919515252114\n",
      "    val_my_metric  : 0.80625\n",
      "    val_f1         : 0.8064552775636313\n",
      "    val_balanced_accuracy: 0.8030575252715074\n",
      "    val_precision  : 0.8143540588645578\n",
      "    val_recall     : 0.80625\n"
     ]
    },
    {
     "name": "stdout",
     "output_type": "stream",
     "text": [
      "Model has not improved in -------------| 153 epochs\n"
     ]
    },
    {
     "name": "stderr",
     "output_type": "stream",
     "text": [
      "Train Epoch: 178 [0/1487 (0%)] Loss: 0.231720\n",
      "Train Epoch: 178 [128/1487 (8%)] Loss: 0.171429\n",
      "Train Epoch: 178 [256/1487 (17%)] Loss: 0.199420\n",
      "Train Epoch: 178 [384/1487 (25%)] Loss: 0.135218\n",
      "Train Epoch: 178 [512/1487 (33%)] Loss: 0.209316\n",
      "Train Epoch: 178 [640/1487 (42%)] Loss: 0.107145\n",
      "Train Epoch: 178 [768/1487 (50%)] Loss: 0.175083\n",
      "Train Epoch: 178 [896/1487 (58%)] Loss: 0.083875\n",
      "Train Epoch: 178 [1024/1487 (67%)] Loss: 0.088993\n",
      "Train Epoch: 178 [1152/1487 (75%)] Loss: 0.164258\n",
      "Train Epoch: 178 [1280/1487 (83%)] Loss: 0.165151\n",
      "Train Epoch: 178 [1408/1487 (92%)] Loss: 0.127378\n",
      "    epoch          : 178\n",
      "    loss           : 0.15893757964173952\n",
      "    my_metric      : 0.939453125\n",
      "    f1             : 0.9395081069596715\n",
      "    balanced_accuracy: 0.9408168565416045\n",
      "    precision      : 0.9422234097522929\n",
      "    recall         : 0.939453125\n",
      "    val_loss       : 0.6876002669334411\n",
      "    val_my_metric  : 0.7333333333333333\n",
      "    val_f1         : 0.7345652410061031\n",
      "    val_balanced_accuracy: 0.753665200856602\n",
      "    val_precision  : 0.7763974947061189\n",
      "    val_recall     : 0.7333333333333333\n"
     ]
    },
    {
     "name": "stdout",
     "output_type": "stream",
     "text": [
      "Model has not improved in -------------| 154 epochs\n"
     ]
    },
    {
     "name": "stderr",
     "output_type": "stream",
     "text": [
      "Train Epoch: 179 [0/1487 (0%)] Loss: 0.108123\n",
      "Train Epoch: 179 [128/1487 (8%)] Loss: 0.166262\n",
      "Train Epoch: 179 [256/1487 (17%)] Loss: 0.167950\n",
      "Train Epoch: 179 [384/1487 (25%)] Loss: 0.252988\n",
      "Train Epoch: 179 [512/1487 (33%)] Loss: 0.207088\n",
      "Train Epoch: 179 [640/1487 (42%)] Loss: 0.161770\n",
      "Train Epoch: 179 [768/1487 (50%)] Loss: 0.181761\n",
      "Train Epoch: 179 [896/1487 (58%)] Loss: 0.123965\n",
      "Train Epoch: 179 [1024/1487 (67%)] Loss: 0.192133\n",
      "Train Epoch: 179 [1152/1487 (75%)] Loss: 0.137293\n",
      "Train Epoch: 179 [1280/1487 (83%)] Loss: 0.177143\n",
      "Train Epoch: 179 [1408/1487 (92%)] Loss: 0.149722\n",
      "    epoch          : 179\n",
      "    loss           : 0.16006982885301113\n",
      "    my_metric      : 0.9373263888888889\n",
      "    f1             : 0.9374160078918745\n",
      "    balanced_accuracy: 0.9379679683570079\n",
      "    precision      : 0.9393038516795226\n",
      "    recall         : 0.9373263888888889\n",
      "    val_loss       : 0.6357578486204147\n",
      "    val_my_metric  : 0.7541666666666667\n",
      "    val_f1         : 0.7529803121395366\n",
      "    val_balanced_accuracy: 0.7542296918767507\n",
      "    val_precision  : 0.765693350975609\n",
      "    val_recall     : 0.7541666666666667\n"
     ]
    },
    {
     "name": "stdout",
     "output_type": "stream",
     "text": [
      "Model has not improved in -------------| 155 epochs\n"
     ]
    },
    {
     "name": "stderr",
     "output_type": "stream",
     "text": [
      "Train Epoch: 180 [0/1487 (0%)] Loss: 0.118667\n",
      "Train Epoch: 180 [128/1487 (8%)] Loss: 0.127941\n",
      "Train Epoch: 180 [256/1487 (17%)] Loss: 0.101274\n",
      "Train Epoch: 180 [384/1487 (25%)] Loss: 0.138032\n",
      "Train Epoch: 180 [512/1487 (33%)] Loss: 0.113773\n",
      "Train Epoch: 180 [640/1487 (42%)] Loss: 0.136280\n",
      "Train Epoch: 180 [768/1487 (50%)] Loss: 0.112310\n",
      "Train Epoch: 180 [896/1487 (58%)] Loss: 0.147693\n",
      "Train Epoch: 180 [1024/1487 (67%)] Loss: 0.235619\n",
      "Train Epoch: 180 [1152/1487 (75%)] Loss: 0.172169\n",
      "Train Epoch: 180 [1280/1487 (83%)] Loss: 0.088096\n",
      "Train Epoch: 180 [1408/1487 (92%)] Loss: 0.161771\n",
      "    epoch          : 180\n",
      "    loss           : 0.16423292768498263\n",
      "    my_metric      : 0.9404079861111111\n",
      "    f1             : 0.940531464790944\n",
      "    balanced_accuracy: 0.9432659915890572\n",
      "    precision      : 0.9453409594128034\n",
      "    recall         : 0.9404079861111111\n",
      "    val_loss       : 0.7234550952911377\n",
      "    val_my_metric  : 0.7520833333333333\n",
      "    val_f1         : 0.7528636982732994\n",
      "    val_balanced_accuracy: 0.7538048561879032\n",
      "    val_precision  : 0.758479868140091\n",
      "    val_recall     : 0.7520833333333333\n"
     ]
    },
    {
     "name": "stdout",
     "output_type": "stream",
     "text": [
      "Model has not improved in -------------| 156 epochs\n"
     ]
    },
    {
     "name": "stderr",
     "output_type": "stream",
     "text": [
      "Train Epoch: 181 [0/1487 (0%)] Loss: 0.178566\n",
      "Train Epoch: 181 [128/1487 (8%)] Loss: 0.290483\n",
      "Train Epoch: 181 [256/1487 (17%)] Loss: 0.131181\n",
      "Train Epoch: 181 [384/1487 (25%)] Loss: 0.064997\n",
      "Train Epoch: 181 [512/1487 (33%)] Loss: 0.193854\n",
      "Train Epoch: 181 [640/1487 (42%)] Loss: 0.096413\n",
      "Train Epoch: 181 [768/1487 (50%)] Loss: 0.206279\n",
      "Train Epoch: 181 [896/1487 (58%)] Loss: 0.071856\n",
      "Train Epoch: 181 [1024/1487 (67%)] Loss: 0.152107\n",
      "Train Epoch: 181 [1152/1487 (75%)] Loss: 0.142068\n",
      "Train Epoch: 181 [1280/1487 (83%)] Loss: 0.116906\n",
      "Train Epoch: 181 [1408/1487 (92%)] Loss: 0.119645\n",
      "    epoch          : 181\n",
      "    loss           : 0.1477930936962366\n",
      "    my_metric      : 0.94921875\n",
      "    f1             : 0.9492388149833206\n",
      "    balanced_accuracy: 0.9496708599926035\n",
      "    precision      : 0.9508077881946285\n",
      "    recall         : 0.94921875\n",
      "    val_loss       : 0.6041249185800552\n",
      "    val_my_metric  : 0.80625\n",
      "    val_f1         : 0.8061732375337755\n",
      "    val_balanced_accuracy: 0.8049976324503577\n",
      "    val_precision  : 0.8069113270308123\n",
      "    val_recall     : 0.80625\n"
     ]
    },
    {
     "name": "stdout",
     "output_type": "stream",
     "text": [
      "Model has not improved in -------------| 157 epochs\n"
     ]
    },
    {
     "name": "stderr",
     "output_type": "stream",
     "text": [
      "Train Epoch: 182 [0/1487 (0%)] Loss: 0.152767\n",
      "Train Epoch: 182 [128/1487 (8%)] Loss: 0.299337\n",
      "Train Epoch: 182 [256/1487 (17%)] Loss: 0.135065\n",
      "Train Epoch: 182 [384/1487 (25%)] Loss: 0.118136\n",
      "Train Epoch: 182 [512/1487 (33%)] Loss: 0.106050\n",
      "Train Epoch: 182 [640/1487 (42%)] Loss: 0.152180\n",
      "Train Epoch: 182 [768/1487 (50%)] Loss: 0.148383\n",
      "Train Epoch: 182 [896/1487 (58%)] Loss: 0.130668\n",
      "Train Epoch: 182 [1024/1487 (67%)] Loss: 0.153625\n",
      "Train Epoch: 182 [1152/1487 (75%)] Loss: 0.133508\n",
      "Train Epoch: 182 [1280/1487 (83%)] Loss: 0.203006\n",
      "Train Epoch: 182 [1408/1487 (92%)] Loss: 0.139431\n",
      "    epoch          : 182\n",
      "    loss           : 0.1608151706556479\n",
      "    my_metric      : 0.9386284722222222\n",
      "    f1             : 0.9386659974784707\n",
      "    balanced_accuracy: 0.9402992805251861\n",
      "    precision      : 0.9418103167241987\n",
      "    recall         : 0.9386284722222222\n",
      "    val_loss       : 0.7973111271858215\n",
      "    val_my_metric  : 0.675\n",
      "    val_f1         : 0.6724148658467545\n",
      "    val_balanced_accuracy: 0.676804962664946\n",
      "    val_precision  : 0.6787127355295124\n",
      "    val_recall     : 0.675\n"
     ]
    },
    {
     "name": "stdout",
     "output_type": "stream",
     "text": [
      "Model has not improved in -------------| 158 epochs\n"
     ]
    },
    {
     "name": "stderr",
     "output_type": "stream",
     "text": [
      "Train Epoch: 183 [0/1487 (0%)] Loss: 0.111227\n",
      "Train Epoch: 183 [128/1487 (8%)] Loss: 0.169857\n",
      "Train Epoch: 183 [256/1487 (17%)] Loss: 0.247981\n",
      "Train Epoch: 183 [384/1487 (25%)] Loss: 0.184821\n",
      "Train Epoch: 183 [512/1487 (33%)] Loss: 0.182652\n",
      "Train Epoch: 183 [640/1487 (42%)] Loss: 0.317763\n",
      "Train Epoch: 183 [768/1487 (50%)] Loss: 0.223907\n",
      "Train Epoch: 183 [896/1487 (58%)] Loss: 0.167691\n",
      "Train Epoch: 183 [1024/1487 (67%)] Loss: 0.088680\n",
      "Train Epoch: 183 [1152/1487 (75%)] Loss: 0.127166\n",
      "Train Epoch: 183 [1280/1487 (83%)] Loss: 0.074363\n",
      "Train Epoch: 183 [1408/1487 (92%)] Loss: 0.286947\n",
      "    epoch          : 183\n",
      "    loss           : 0.16896234638988972\n",
      "    my_metric      : 0.9312934027777778\n",
      "    f1             : 0.9313220596263113\n",
      "    balanced_accuracy: 0.9311301281966814\n",
      "    precision      : 0.9343260339965536\n",
      "    recall         : 0.9312934027777778\n",
      "    val_loss       : 0.7930941224098206\n",
      "    val_my_metric  : 0.684375\n",
      "    val_f1         : 0.6511910383219842\n",
      "    val_balanced_accuracy: 0.6851751424943862\n",
      "    val_precision  : 0.6386142603593161\n",
      "    val_recall     : 0.684375\n"
     ]
    },
    {
     "name": "stdout",
     "output_type": "stream",
     "text": [
      "Model has not improved in -------------| 159 epochs\n"
     ]
    },
    {
     "name": "stderr",
     "output_type": "stream",
     "text": [
      "Train Epoch: 184 [0/1487 (0%)] Loss: 0.107649\n",
      "Train Epoch: 184 [128/1487 (8%)] Loss: 0.166968\n",
      "Train Epoch: 184 [256/1487 (17%)] Loss: 0.138419\n",
      "Train Epoch: 184 [384/1487 (25%)] Loss: 0.178801\n",
      "Train Epoch: 184 [512/1487 (33%)] Loss: 0.170996\n",
      "Train Epoch: 184 [640/1487 (42%)] Loss: 0.096172\n",
      "Train Epoch: 184 [768/1487 (50%)] Loss: 0.127120\n",
      "Train Epoch: 184 [896/1487 (58%)] Loss: 0.191299\n",
      "Train Epoch: 184 [1024/1487 (67%)] Loss: 0.150033\n",
      "Train Epoch: 184 [1152/1487 (75%)] Loss: 0.122743\n",
      "Train Epoch: 184 [1280/1487 (83%)] Loss: 0.241091\n",
      "Train Epoch: 184 [1408/1487 (92%)] Loss: 0.236412\n",
      "    epoch          : 184\n",
      "    loss           : 0.15680487950642905\n",
      "    my_metric      : 0.9425347222222222\n",
      "    f1             : 0.9425719314650451\n",
      "    balanced_accuracy: 0.94388426617921\n",
      "    precision      : 0.9454018796522861\n",
      "    recall         : 0.9425347222222222\n",
      "    val_loss       : 1.2052193522453307\n",
      "    val_my_metric  : 0.7020833333333333\n",
      "    val_f1         : 0.6982183767477885\n",
      "    val_balanced_accuracy: 0.7033323674297305\n",
      "    val_precision  : 0.7191047494172493\n",
      "    val_recall     : 0.7020833333333333\n"
     ]
    },
    {
     "name": "stdout",
     "output_type": "stream",
     "text": [
      "Model has not improved in -------------| 160 epochs\n"
     ]
    },
    {
     "name": "stderr",
     "output_type": "stream",
     "text": [
      "Train Epoch: 185 [0/1487 (0%)] Loss: 0.129363\n",
      "Train Epoch: 185 [128/1487 (8%)] Loss: 0.239472\n",
      "Train Epoch: 185 [256/1487 (17%)] Loss: 0.141978\n",
      "Train Epoch: 185 [384/1487 (25%)] Loss: 0.146274\n",
      "Train Epoch: 185 [512/1487 (33%)] Loss: 0.187406\n",
      "Train Epoch: 185 [640/1487 (42%)] Loss: 0.138672\n",
      "Train Epoch: 185 [768/1487 (50%)] Loss: 0.156598\n",
      "Train Epoch: 185 [896/1487 (58%)] Loss: 0.131828\n",
      "Train Epoch: 185 [1024/1487 (67%)] Loss: 0.131785\n",
      "Train Epoch: 185 [1152/1487 (75%)] Loss: 0.215671\n",
      "Train Epoch: 185 [1280/1487 (83%)] Loss: 0.110718\n",
      "Train Epoch: 185 [1408/1487 (92%)] Loss: 0.167699\n",
      "    epoch          : 185\n",
      "    loss           : 0.14435511827468872\n",
      "    my_metric      : 0.9459635416666666\n",
      "    f1             : 0.9459638433677525\n",
      "    balanced_accuracy: 0.9461979300766342\n",
      "    precision      : 0.9481360418271386\n",
      "    recall         : 0.9459635416666666\n",
      "    val_loss       : 0.7106996178627014\n",
      "    val_my_metric  : 0.7666666666666667\n",
      "    val_f1         : 0.7667929767922504\n",
      "    val_balanced_accuracy: 0.7752376547747222\n",
      "    val_precision  : 0.7822733055976591\n",
      "    val_recall     : 0.7666666666666667\n"
     ]
    },
    {
     "name": "stdout",
     "output_type": "stream",
     "text": [
      "Model has not improved in -------------| 161 epochs\n"
     ]
    },
    {
     "name": "stderr",
     "output_type": "stream",
     "text": [
      "Train Epoch: 186 [0/1487 (0%)] Loss: 0.064587\n",
      "Train Epoch: 186 [128/1487 (8%)] Loss: 0.108937\n",
      "Train Epoch: 186 [256/1487 (17%)] Loss: 0.120121\n",
      "Train Epoch: 186 [384/1487 (25%)] Loss: 0.261385\n",
      "Train Epoch: 186 [512/1487 (33%)] Loss: 0.236563\n",
      "Train Epoch: 186 [640/1487 (42%)] Loss: 0.068109\n",
      "Train Epoch: 186 [768/1487 (50%)] Loss: 0.121709\n",
      "Train Epoch: 186 [896/1487 (58%)] Loss: 0.114042\n",
      "Train Epoch: 186 [1024/1487 (67%)] Loss: 0.110444\n",
      "Train Epoch: 186 [1152/1487 (75%)] Loss: 0.098149\n",
      "Train Epoch: 186 [1280/1487 (83%)] Loss: 0.097489\n",
      "Train Epoch: 186 [1408/1487 (92%)] Loss: 0.173463\n",
      "    epoch          : 186\n",
      "    loss           : 0.14000106044113636\n",
      "    my_metric      : 0.951171875\n",
      "    f1             : 0.951109139346447\n",
      "    balanced_accuracy: 0.9508880354365522\n",
      "    precision      : 0.9529890171362668\n",
      "    recall         : 0.951171875\n",
      "    val_loss       : 0.8350891590118408\n",
      "    val_my_metric  : 0.7333333333333333\n",
      "    val_f1         : 0.732688676827075\n",
      "    val_balanced_accuracy: 0.7346951340986745\n",
      "    val_precision  : 0.7406920828157284\n",
      "    val_recall     : 0.7333333333333333\n"
     ]
    },
    {
     "name": "stdout",
     "output_type": "stream",
     "text": [
      "Model has not improved in -------------| 162 epochs\n"
     ]
    },
    {
     "name": "stderr",
     "output_type": "stream",
     "text": [
      "Train Epoch: 187 [0/1487 (0%)] Loss: 0.174395\n",
      "Train Epoch: 187 [128/1487 (8%)] Loss: 0.097868\n",
      "Train Epoch: 187 [256/1487 (17%)] Loss: 0.092599\n",
      "Train Epoch: 187 [384/1487 (25%)] Loss: 0.142603\n",
      "Train Epoch: 187 [512/1487 (33%)] Loss: 0.175544\n",
      "Train Epoch: 187 [640/1487 (42%)] Loss: 0.100449\n",
      "Train Epoch: 187 [768/1487 (50%)] Loss: 0.258982\n",
      "Train Epoch: 187 [896/1487 (58%)] Loss: 0.163945\n",
      "Train Epoch: 187 [1024/1487 (67%)] Loss: 0.120504\n",
      "Train Epoch: 187 [1152/1487 (75%)] Loss: 0.164502\n",
      "Train Epoch: 187 [1280/1487 (83%)] Loss: 0.129177\n",
      "Train Epoch: 187 [1408/1487 (92%)] Loss: 0.132019\n",
      "    epoch          : 187\n",
      "    loss           : 0.16026814778645834\n",
      "    my_metric      : 0.9404079861111111\n",
      "    f1             : 0.9406813724339433\n",
      "    balanced_accuracy: 0.9427880238194061\n",
      "    precision      : 0.9444093896952381\n",
      "    recall         : 0.9404079861111111\n",
      "    val_loss       : 0.596970123052597\n",
      "    val_my_metric  : 0.7875\n",
      "    val_f1         : 0.7879921160028424\n",
      "    val_balanced_accuracy: 0.7905687431853761\n",
      "    val_precision  : 0.7940853987068965\n",
      "    val_recall     : 0.7875\n"
     ]
    },
    {
     "name": "stdout",
     "output_type": "stream",
     "text": [
      "Model has not improved in -------------| 163 epochs\n"
     ]
    },
    {
     "name": "stderr",
     "output_type": "stream",
     "text": [
      "Train Epoch: 188 [0/1487 (0%)] Loss: 0.155851\n",
      "Train Epoch: 188 [128/1487 (8%)] Loss: 0.125190\n",
      "Train Epoch: 188 [256/1487 (17%)] Loss: 0.187421\n",
      "Train Epoch: 188 [384/1487 (25%)] Loss: 0.248938\n",
      "Train Epoch: 188 [512/1487 (33%)] Loss: 0.185979\n",
      "Train Epoch: 188 [640/1487 (42%)] Loss: 0.151448\n",
      "Train Epoch: 188 [768/1487 (50%)] Loss: 0.101499\n",
      "Train Epoch: 188 [896/1487 (58%)] Loss: 0.131424\n",
      "Train Epoch: 188 [1024/1487 (67%)] Loss: 0.129538\n",
      "Train Epoch: 188 [1152/1487 (75%)] Loss: 0.135392\n",
      "Train Epoch: 188 [1280/1487 (83%)] Loss: 0.143552\n",
      "Train Epoch: 188 [1408/1487 (92%)] Loss: 0.095054\n",
      "    epoch          : 188\n",
      "    loss           : 0.15333626077820858\n",
      "    my_metric      : 0.9430121527777778\n",
      "    f1             : 0.9430797044588206\n",
      "    balanced_accuracy: 0.9440305000392103\n",
      "    precision      : 0.9460718849777933\n",
      "    recall         : 0.9430121527777778\n",
      "    val_loss       : 0.8385433793067932\n",
      "    val_my_metric  : 0.6604166666666667\n",
      "    val_f1         : 0.6435405712721746\n",
      "    val_balanced_accuracy: 0.6605518328020863\n",
      "    val_precision  : 0.6360982080017119\n",
      "    val_recall     : 0.6604166666666667\n"
     ]
    },
    {
     "name": "stdout",
     "output_type": "stream",
     "text": [
      "Model has not improved in -------------| 164 epochs\n"
     ]
    },
    {
     "name": "stderr",
     "output_type": "stream",
     "text": [
      "Train Epoch: 189 [0/1487 (0%)] Loss: 0.110619\n",
      "Train Epoch: 189 [128/1487 (8%)] Loss: 0.140322\n",
      "Train Epoch: 189 [256/1487 (17%)] Loss: 0.120908\n",
      "Train Epoch: 189 [384/1487 (25%)] Loss: 0.156268\n",
      "Train Epoch: 189 [512/1487 (33%)] Loss: 0.226759\n",
      "Train Epoch: 189 [640/1487 (42%)] Loss: 0.202335\n",
      "Train Epoch: 189 [768/1487 (50%)] Loss: 0.271859\n",
      "Train Epoch: 189 [896/1487 (58%)] Loss: 0.164088\n",
      "Train Epoch: 189 [1024/1487 (67%)] Loss: 0.172193\n",
      "Train Epoch: 189 [1152/1487 (75%)] Loss: 0.114990\n",
      "Train Epoch: 189 [1280/1487 (83%)] Loss: 0.129031\n",
      "Train Epoch: 189 [1408/1487 (92%)] Loss: 0.101235\n",
      "    epoch          : 189\n",
      "    loss           : 0.14960974548012018\n",
      "    my_metric      : 0.9417100694444445\n",
      "    f1             : 0.9418766908368975\n",
      "    balanced_accuracy: 0.9438669978996651\n",
      "    precision      : 0.945891509983063\n",
      "    recall         : 0.9417100694444445\n",
      "    val_loss       : 0.6657527208328247\n",
      "    val_my_metric  : 0.7364583333333333\n",
      "    val_f1         : 0.7386710171995965\n",
      "    val_balanced_accuracy: 0.7330418813042312\n",
      "    val_precision  : 0.7489821789014928\n",
      "    val_recall     : 0.7364583333333333\n"
     ]
    },
    {
     "name": "stdout",
     "output_type": "stream",
     "text": [
      "Model has not improved in -------------| 165 epochs\n"
     ]
    },
    {
     "name": "stderr",
     "output_type": "stream",
     "text": [
      "Train Epoch: 190 [0/1487 (0%)] Loss: 0.156155\n",
      "Train Epoch: 190 [128/1487 (8%)] Loss: 0.109518\n",
      "Train Epoch: 190 [256/1487 (17%)] Loss: 0.141291\n",
      "Train Epoch: 190 [384/1487 (25%)] Loss: 0.171743\n",
      "Train Epoch: 190 [512/1487 (33%)] Loss: 0.073330\n",
      "Train Epoch: 190 [640/1487 (42%)] Loss: 0.214003\n",
      "Train Epoch: 190 [768/1487 (50%)] Loss: 0.118088\n",
      "Train Epoch: 190 [896/1487 (58%)] Loss: 0.139285\n",
      "Train Epoch: 190 [1024/1487 (67%)] Loss: 0.257197\n",
      "Train Epoch: 190 [1152/1487 (75%)] Loss: 0.071535\n",
      "Train Epoch: 190 [1280/1487 (83%)] Loss: 0.277053\n",
      "Train Epoch: 190 [1408/1487 (92%)] Loss: 0.140057\n",
      "    epoch          : 190\n",
      "    loss           : 0.14581533009186387\n",
      "    my_metric      : 0.9456163194444445\n",
      "    f1             : 0.9457301927022934\n",
      "    balanced_accuracy: 0.9465360674343297\n",
      "    precision      : 0.9482581851234245\n",
      "    recall         : 0.9456163194444445\n",
      "    val_loss       : 0.8168611884117126\n",
      "    val_my_metric  : 0.7270833333333333\n",
      "    val_f1         : 0.7271184627543419\n",
      "    val_balanced_accuracy: 0.7302059840193714\n",
      "    val_precision  : 0.7352442083673068\n",
      "    val_recall     : 0.7270833333333333\n"
     ]
    },
    {
     "name": "stdout",
     "output_type": "stream",
     "text": [
      "Model has not improved in -------------| 166 epochs\n"
     ]
    },
    {
     "name": "stderr",
     "output_type": "stream",
     "text": [
      "Train Epoch: 191 [0/1487 (0%)] Loss: 0.119355\n",
      "Train Epoch: 191 [128/1487 (8%)] Loss: 0.145598\n",
      "Train Epoch: 191 [256/1487 (17%)] Loss: 0.121868\n",
      "Train Epoch: 191 [384/1487 (25%)] Loss: 0.174671\n",
      "Train Epoch: 191 [512/1487 (33%)] Loss: 0.209592\n",
      "Train Epoch: 191 [640/1487 (42%)] Loss: 0.111836\n",
      "Train Epoch: 191 [768/1487 (50%)] Loss: 0.150127\n",
      "Train Epoch: 191 [896/1487 (58%)] Loss: 0.208685\n",
      "Train Epoch: 191 [1024/1487 (67%)] Loss: 0.232427\n",
      "Train Epoch: 191 [1152/1487 (75%)] Loss: 0.121034\n",
      "Train Epoch: 191 [1280/1487 (83%)] Loss: 0.218324\n",
      "Train Epoch: 191 [1408/1487 (92%)] Loss: 0.131372\n",
      "    epoch          : 191\n",
      "    loss           : 0.15781317558139563\n",
      "    my_metric      : 0.9407552083333334\n",
      "    f1             : 0.94076763282655\n",
      "    balanced_accuracy: 0.941903307435297\n",
      "    precision      : 0.9434482844573598\n",
      "    recall         : 0.9407552083333334\n",
      "    val_loss       : 0.8812882781028748\n",
      "    val_my_metric  : 0.7510416666666667\n",
      "    val_f1         : 0.7541426760876211\n",
      "    val_balanced_accuracy: 0.7617538998357964\n",
      "    val_precision  : 0.7685279266963995\n",
      "    val_recall     : 0.7510416666666667\n"
     ]
    },
    {
     "name": "stdout",
     "output_type": "stream",
     "text": [
      "Model has not improved in -------------| 167 epochs\n"
     ]
    },
    {
     "name": "stderr",
     "output_type": "stream",
     "text": [
      "Train Epoch: 192 [0/1487 (0%)] Loss: 0.211356\n",
      "Train Epoch: 192 [128/1487 (8%)] Loss: 0.169950\n",
      "Train Epoch: 192 [256/1487 (17%)] Loss: 0.205873\n",
      "Train Epoch: 192 [384/1487 (25%)] Loss: 0.094288\n",
      "Train Epoch: 192 [512/1487 (33%)] Loss: 0.123032\n",
      "Train Epoch: 192 [640/1487 (42%)] Loss: 0.135387\n",
      "Train Epoch: 192 [768/1487 (50%)] Loss: 0.254699\n",
      "Train Epoch: 192 [896/1487 (58%)] Loss: 0.134516\n",
      "Train Epoch: 192 [1024/1487 (67%)] Loss: 0.110989\n",
      "Train Epoch: 192 [1152/1487 (75%)] Loss: 0.121944\n",
      "Train Epoch: 192 [1280/1487 (83%)] Loss: 0.073591\n",
      "Train Epoch: 192 [1408/1487 (92%)] Loss: 0.086751\n",
      "    epoch          : 192\n",
      "    loss           : 0.14897922053933144\n",
      "    my_metric      : 0.9399305555555556\n",
      "    f1             : 0.9399072174205485\n",
      "    balanced_accuracy: 0.9402373244874949\n",
      "    precision      : 0.9428122715947965\n",
      "    recall         : 0.9399305555555556\n",
      "    val_loss       : 0.7170288145542145\n",
      "    val_my_metric  : 0.7385416666666667\n",
      "    val_f1         : 0.7390679351622986\n",
      "    val_balanced_accuracy: 0.7362617812295232\n",
      "    val_precision  : 0.7529922391896277\n",
      "    val_recall     : 0.7385416666666667\n"
     ]
    },
    {
     "name": "stdout",
     "output_type": "stream",
     "text": [
      "Model has not improved in -------------| 168 epochs\n"
     ]
    },
    {
     "name": "stderr",
     "output_type": "stream",
     "text": [
      "Train Epoch: 193 [0/1487 (0%)] Loss: 0.174100\n",
      "Train Epoch: 193 [128/1487 (8%)] Loss: 0.142391\n",
      "Train Epoch: 193 [256/1487 (17%)] Loss: 0.172190\n",
      "Train Epoch: 193 [384/1487 (25%)] Loss: 0.177114\n",
      "Train Epoch: 193 [512/1487 (33%)] Loss: 0.147500\n",
      "Train Epoch: 193 [640/1487 (42%)] Loss: 0.122853\n",
      "Train Epoch: 193 [768/1487 (50%)] Loss: 0.136517\n",
      "Train Epoch: 193 [896/1487 (58%)] Loss: 0.145182\n",
      "Train Epoch: 193 [1024/1487 (67%)] Loss: 0.155860\n",
      "Train Epoch: 193 [1152/1487 (75%)] Loss: 0.099529\n",
      "Train Epoch: 193 [1280/1487 (83%)] Loss: 0.229811\n",
      "Train Epoch: 193 [1408/1487 (92%)] Loss: 0.194053\n",
      "    epoch          : 193\n",
      "    loss           : 0.1524128851791223\n",
      "    my_metric      : 0.9373263888888889\n",
      "    f1             : 0.9370890466955045\n",
      "    balanced_accuracy: 0.9355402665572328\n",
      "    precision      : 0.9412137737098116\n",
      "    recall         : 0.9373263888888889\n",
      "    val_loss       : 0.81188063621521\n",
      "    val_my_metric  : 0.7083333333333333\n",
      "    val_f1         : 0.7070111637949326\n",
      "    val_balanced_accuracy: 0.7035392315946734\n",
      "    val_precision  : 0.7221836641757917\n",
      "    val_recall     : 0.7083333333333333\n"
     ]
    },
    {
     "name": "stdout",
     "output_type": "stream",
     "text": [
      "Model has not improved in -------------| 169 epochs\n"
     ]
    },
    {
     "name": "stderr",
     "output_type": "stream",
     "text": [
      "Train Epoch: 194 [0/1487 (0%)] Loss: 0.110462\n",
      "Train Epoch: 194 [128/1487 (8%)] Loss: 0.108901\n",
      "Train Epoch: 194 [256/1487 (17%)] Loss: 0.182021\n",
      "Train Epoch: 194 [384/1487 (25%)] Loss: 0.177457\n",
      "Train Epoch: 194 [512/1487 (33%)] Loss: 0.153738\n",
      "Train Epoch: 194 [640/1487 (42%)] Loss: 0.084073\n",
      "Train Epoch: 194 [768/1487 (50%)] Loss: 0.119990\n",
      "Train Epoch: 194 [896/1487 (58%)] Loss: 0.169031\n",
      "Train Epoch: 194 [1024/1487 (67%)] Loss: 0.114843\n",
      "Train Epoch: 194 [1152/1487 (75%)] Loss: 0.103535\n",
      "Train Epoch: 194 [1280/1487 (83%)] Loss: 0.178161\n",
      "Train Epoch: 194 [1408/1487 (92%)] Loss: 0.126664\n",
      "    epoch          : 194\n",
      "    loss           : 0.14071580674499273\n",
      "    my_metric      : 0.9562065972222222\n",
      "    f1             : 0.956176461775918\n",
      "    balanced_accuracy: 0.955853672938654\n",
      "    precision      : 0.9577975179584146\n",
      "    recall         : 0.9562065972222222\n",
      "    val_loss       : 0.7530152082443238\n",
      "    val_my_metric  : 0.7208333333333333\n",
      "    val_f1         : 0.7136511459652564\n",
      "    val_balanced_accuracy: 0.7242736084841348\n",
      "    val_precision  : 0.7562696474514254\n",
      "    val_recall     : 0.7208333333333333\n"
     ]
    },
    {
     "name": "stdout",
     "output_type": "stream",
     "text": [
      "Model has not improved in -------------| 170 epochs\n"
     ]
    },
    {
     "name": "stderr",
     "output_type": "stream",
     "text": [
      "Train Epoch: 195 [0/1487 (0%)] Loss: 0.161547\n",
      "Train Epoch: 195 [128/1487 (8%)] Loss: 0.169050\n",
      "Train Epoch: 195 [256/1487 (17%)] Loss: 0.160809\n",
      "Train Epoch: 195 [384/1487 (25%)] Loss: 0.110810\n",
      "Train Epoch: 195 [512/1487 (33%)] Loss: 0.089743\n",
      "Train Epoch: 195 [640/1487 (42%)] Loss: 0.122008\n",
      "Train Epoch: 195 [768/1487 (50%)] Loss: 0.096535\n",
      "Train Epoch: 195 [896/1487 (58%)] Loss: 0.088230\n",
      "Train Epoch: 195 [1024/1487 (67%)] Loss: 0.123409\n",
      "Train Epoch: 195 [1152/1487 (75%)] Loss: 0.127809\n",
      "Train Epoch: 195 [1280/1487 (83%)] Loss: 0.137104\n",
      "Train Epoch: 195 [1408/1487 (92%)] Loss: 0.144423\n",
      "    epoch          : 195\n",
      "    loss           : 0.12884070553506413\n",
      "    my_metric      : 0.95703125\n",
      "    f1             : 0.9570704390352959\n",
      "    balanced_accuracy: 0.9579533443379976\n",
      "    precision      : 0.958555212371476\n",
      "    recall         : 0.95703125\n",
      "    val_loss       : 0.787485784292221\n",
      "    val_my_metric  : 0.70625\n",
      "    val_f1         : 0.6934600713490815\n",
      "    val_balanced_accuracy: 0.7059613808866655\n",
      "    val_precision  : 0.7219515413588885\n",
      "    val_recall     : 0.70625\n"
     ]
    },
    {
     "name": "stdout",
     "output_type": "stream",
     "text": [
      "Model has not improved in -------------| 171 epochs\n"
     ]
    },
    {
     "name": "stderr",
     "output_type": "stream",
     "text": [
      "Train Epoch: 196 [0/1487 (0%)] Loss: 0.173651\n",
      "Train Epoch: 196 [128/1487 (8%)] Loss: 0.137747\n",
      "Train Epoch: 196 [256/1487 (17%)] Loss: 0.099645\n",
      "Train Epoch: 196 [384/1487 (25%)] Loss: 0.073874\n",
      "Train Epoch: 196 [512/1487 (33%)] Loss: 0.126387\n",
      "Train Epoch: 196 [640/1487 (42%)] Loss: 0.122581\n",
      "Train Epoch: 196 [768/1487 (50%)] Loss: 0.105486\n",
      "Train Epoch: 196 [896/1487 (58%)] Loss: 0.130439\n",
      "Train Epoch: 196 [1024/1487 (67%)] Loss: 0.157097\n",
      "Train Epoch: 196 [1152/1487 (75%)] Loss: 0.153939\n",
      "Train Epoch: 196 [1280/1487 (83%)] Loss: 0.155509\n",
      "Train Epoch: 196 [1408/1487 (92%)] Loss: 0.200234\n",
      "    epoch          : 196\n",
      "    loss           : 0.127521350979805\n",
      "    my_metric      : 0.9622395833333334\n",
      "    f1             : 0.9622710418451518\n",
      "    balanced_accuracy: 0.9626300919741652\n",
      "    precision      : 0.963285336542687\n",
      "    recall         : 0.9622395833333334\n",
      "    val_loss       : 0.7351253151893615\n",
      "    val_my_metric  : 0.7697916666666667\n",
      "    val_f1         : 0.7692601809587946\n",
      "    val_balanced_accuracy: 0.7763561286583599\n",
      "    val_precision  : 0.7862286663090624\n",
      "    val_recall     : 0.7697916666666667\n"
     ]
    },
    {
     "name": "stdout",
     "output_type": "stream",
     "text": [
      "Model has not improved in -------------| 172 epochs\n"
     ]
    },
    {
     "name": "stderr",
     "output_type": "stream",
     "text": [
      "Train Epoch: 197 [0/1487 (0%)] Loss: 0.096877\n",
      "Train Epoch: 197 [128/1487 (8%)] Loss: 0.158646\n",
      "Train Epoch: 197 [256/1487 (17%)] Loss: 0.137975\n",
      "Train Epoch: 197 [384/1487 (25%)] Loss: 0.154886\n",
      "Train Epoch: 197 [512/1487 (33%)] Loss: 0.079296\n",
      "Train Epoch: 197 [640/1487 (42%)] Loss: 0.148360\n",
      "Train Epoch: 197 [768/1487 (50%)] Loss: 0.113452\n",
      "Train Epoch: 197 [896/1487 (58%)] Loss: 0.316539\n",
      "Train Epoch: 197 [1024/1487 (67%)] Loss: 0.107780\n",
      "Train Epoch: 197 [1152/1487 (75%)] Loss: 0.146094\n",
      "Train Epoch: 197 [1280/1487 (83%)] Loss: 0.104846\n",
      "Train Epoch: 197 [1408/1487 (92%)] Loss: 0.126529\n",
      "    epoch          : 197\n",
      "    loss           : 0.15462112054228783\n",
      "    my_metric      : 0.9353298611111112\n",
      "    f1             : 0.9354598338602046\n",
      "    balanced_accuracy: 0.9369379610696305\n",
      "    precision      : 0.939601033787\n",
      "    recall         : 0.9353298611111112\n",
      "    val_loss       : 0.6608977556228638\n",
      "    val_my_metric  : 0.7239583333333333\n",
      "    val_f1         : 0.7242716803408785\n",
      "    val_balanced_accuracy: 0.7181269268366043\n",
      "    val_precision  : 0.732020129735647\n",
      "    val_recall     : 0.7239583333333333\n"
     ]
    },
    {
     "name": "stdout",
     "output_type": "stream",
     "text": [
      "Model has not improved in -------------| 173 epochs\n"
     ]
    },
    {
     "name": "stderr",
     "output_type": "stream",
     "text": [
      "Train Epoch: 198 [0/1487 (0%)] Loss: 0.224152\n",
      "Train Epoch: 198 [128/1487 (8%)] Loss: 0.138471\n",
      "Train Epoch: 198 [256/1487 (17%)] Loss: 0.120920\n",
      "Train Epoch: 198 [384/1487 (25%)] Loss: 0.147523\n",
      "Train Epoch: 198 [512/1487 (33%)] Loss: 0.217427\n",
      "Train Epoch: 198 [640/1487 (42%)] Loss: 0.105832\n",
      "Train Epoch: 198 [768/1487 (50%)] Loss: 0.165848\n",
      "Train Epoch: 198 [896/1487 (58%)] Loss: 0.092737\n",
      "Train Epoch: 198 [1024/1487 (67%)] Loss: 0.137497\n",
      "Train Epoch: 198 [1152/1487 (75%)] Loss: 0.238845\n",
      "Train Epoch: 198 [1280/1487 (83%)] Loss: 0.149268\n",
      "Train Epoch: 198 [1408/1487 (92%)] Loss: 0.150715\n",
      "    epoch          : 198\n",
      "    loss           : 0.15873367805033922\n",
      "    my_metric      : 0.9381076388888889\n",
      "    f1             : 0.9383718610054036\n",
      "    balanced_accuracy: 0.9417577323324333\n",
      "    precision      : 0.9450610808538945\n",
      "    recall         : 0.9381076388888889\n",
      "    val_loss       : 0.6584390431642533\n",
      "    val_my_metric  : 0.778125\n",
      "    val_f1         : 0.7770957184560127\n",
      "    val_balanced_accuracy: 0.7784330924451892\n",
      "    val_precision  : 0.7849801390241026\n",
      "    val_recall     : 0.778125\n"
     ]
    },
    {
     "name": "stdout",
     "output_type": "stream",
     "text": [
      "Model has not improved in -------------| 174 epochs\n"
     ]
    },
    {
     "name": "stderr",
     "output_type": "stream",
     "text": [
      "Train Epoch: 199 [0/1487 (0%)] Loss: 0.097537\n",
      "Train Epoch: 199 [128/1487 (8%)] Loss: 0.103382\n",
      "Train Epoch: 199 [256/1487 (17%)] Loss: 0.115485\n",
      "Train Epoch: 199 [384/1487 (25%)] Loss: 0.134151\n",
      "Train Epoch: 199 [512/1487 (33%)] Loss: 0.174354\n",
      "Train Epoch: 199 [640/1487 (42%)] Loss: 0.182972\n",
      "Train Epoch: 199 [768/1487 (50%)] Loss: 0.202411\n",
      "Train Epoch: 199 [896/1487 (58%)] Loss: 0.157853\n",
      "Train Epoch: 199 [1024/1487 (67%)] Loss: 0.181810\n",
      "Train Epoch: 199 [1152/1487 (75%)] Loss: 0.205421\n",
      "Train Epoch: 199 [1280/1487 (83%)] Loss: 0.114848\n",
      "Train Epoch: 199 [1408/1487 (92%)] Loss: 0.123052\n",
      "    epoch          : 199\n",
      "    loss           : 0.15889826696366072\n",
      "    my_metric      : 0.9382812500000001\n",
      "    f1             : 0.9382655650260271\n",
      "    balanced_accuracy: 0.9396284044536163\n",
      "    precision      : 0.9433771566203911\n",
      "    recall         : 0.9382812500000001\n",
      "    val_loss       : 0.8677663326263427\n",
      "    val_my_metric  : 0.69375\n",
      "    val_f1         : 0.6897007927634246\n",
      "    val_balanced_accuracy: 0.6956740196078431\n",
      "    val_precision  : 0.7019571408738499\n",
      "    val_recall     : 0.69375\n"
     ]
    },
    {
     "name": "stdout",
     "output_type": "stream",
     "text": [
      "Model has not improved in -------------| 175 epochs\n"
     ]
    },
    {
     "name": "stderr",
     "output_type": "stream",
     "text": [
      "Train Epoch: 200 [0/1487 (0%)] Loss: 0.100216\n",
      "Train Epoch: 200 [128/1487 (8%)] Loss: 0.201122\n",
      "Train Epoch: 200 [256/1487 (17%)] Loss: 0.189274\n",
      "Train Epoch: 200 [384/1487 (25%)] Loss: 0.094609\n",
      "Train Epoch: 200 [512/1487 (33%)] Loss: 0.122178\n",
      "Train Epoch: 200 [640/1487 (42%)] Loss: 0.191853\n",
      "Train Epoch: 200 [768/1487 (50%)] Loss: 0.162725\n",
      "Train Epoch: 200 [896/1487 (58%)] Loss: 0.132999\n",
      "Train Epoch: 200 [1024/1487 (67%)] Loss: 0.150645\n",
      "Train Epoch: 200 [1152/1487 (75%)] Loss: 0.212959\n",
      "Train Epoch: 200 [1280/1487 (83%)] Loss: 0.122718\n",
      "Train Epoch: 200 [1408/1487 (92%)] Loss: 0.102252\n",
      "    epoch          : 200\n",
      "    loss           : 0.15968366029361883\n",
      "    my_metric      : 0.9401041666666666\n",
      "    f1             : 0.9401048309881529\n",
      "    balanced_accuracy: 0.9394046136612643\n",
      "    precision      : 0.9410352334993962\n",
      "    recall         : 0.9401041666666666\n",
      "    val_loss       : 0.7210128426551818\n",
      "    val_my_metric  : 0.7208333333333333\n",
      "    val_f1         : 0.7201643995104428\n",
      "    val_balanced_accuracy: 0.7223210663575774\n",
      "    val_precision  : 0.7271862731375183\n",
      "    val_recall     : 0.7208333333333333\n"
     ]
    },
    {
     "name": "stdout",
     "output_type": "stream",
     "text": [
      "Model has not improved in -------------| 176 epochs\n"
     ]
    },
    {
     "name": "stderr",
     "output_type": "stream",
     "text": [
      "Saving checkpoint: saved/GroundTruth_smallDataset/0618_201333/checkpoint-epoch200.pth ...\n",
      "Train Epoch: 201 [0/1487 (0%)] Loss: 0.111846\n",
      "Train Epoch: 201 [128/1487 (8%)] Loss: 0.158559\n",
      "Train Epoch: 201 [256/1487 (17%)] Loss: 0.131506\n",
      "Train Epoch: 201 [384/1487 (25%)] Loss: 0.124896\n",
      "Train Epoch: 201 [512/1487 (33%)] Loss: 0.161202\n",
      "Train Epoch: 201 [640/1487 (42%)] Loss: 0.108896\n",
      "Train Epoch: 201 [768/1487 (50%)] Loss: 0.095229\n",
      "Train Epoch: 201 [896/1487 (58%)] Loss: 0.173402\n",
      "Train Epoch: 201 [1024/1487 (67%)] Loss: 0.107216\n",
      "Train Epoch: 201 [1152/1487 (75%)] Loss: 0.105219\n",
      "Train Epoch: 201 [1280/1487 (83%)] Loss: 0.123155\n",
      "Train Epoch: 201 [1408/1487 (92%)] Loss: 0.157472\n",
      "    epoch          : 201\n",
      "    loss           : 0.13026869017630816\n",
      "    my_metric      : 0.9583333333333334\n",
      "    f1             : 0.9583338103273199\n",
      "    balanced_accuracy: 0.9592576421509014\n",
      "    precision      : 0.9611545377756768\n",
      "    recall         : 0.9583333333333334\n",
      "    val_loss       : 0.8394655346870422\n",
      "    val_my_metric  : 0.7083333333333333\n",
      "    val_f1         : 0.6812334881062198\n",
      "    val_balanced_accuracy: 0.6777790703919736\n",
      "    val_precision  : 0.6746212225274725\n",
      "    val_recall     : 0.7083333333333333\n"
     ]
    },
    {
     "name": "stdout",
     "output_type": "stream",
     "text": [
      "Model has not improved in -------------| 177 epochs\n"
     ]
    },
    {
     "name": "stderr",
     "output_type": "stream",
     "text": [
      "Train Epoch: 202 [0/1487 (0%)] Loss: 0.177630\n",
      "Train Epoch: 202 [128/1487 (8%)] Loss: 0.182049\n",
      "Train Epoch: 202 [256/1487 (17%)] Loss: 0.116855\n",
      "Train Epoch: 202 [384/1487 (25%)] Loss: 0.126420\n",
      "Train Epoch: 202 [512/1487 (33%)] Loss: 0.230891\n",
      "Train Epoch: 202 [640/1487 (42%)] Loss: 0.121450\n",
      "Train Epoch: 202 [768/1487 (50%)] Loss: 0.190460\n",
      "Train Epoch: 202 [896/1487 (58%)] Loss: 0.137285\n",
      "Train Epoch: 202 [1024/1487 (67%)] Loss: 0.120946\n",
      "Train Epoch: 202 [1152/1487 (75%)] Loss: 0.222473\n",
      "Train Epoch: 202 [1280/1487 (83%)] Loss: 0.118411\n",
      "Train Epoch: 202 [1408/1487 (92%)] Loss: 0.122624\n",
      "    epoch          : 202\n",
      "    loss           : 0.15347826884438595\n",
      "    my_metric      : 0.9418836805555556\n",
      "    f1             : 0.9420155211845672\n",
      "    balanced_accuracy: 0.9443793508744064\n",
      "    precision      : 0.9453551365606626\n",
      "    recall         : 0.9418836805555556\n",
      "    val_loss       : 0.7637822389602661\n",
      "    val_my_metric  : 0.7447916666666667\n",
      "    val_f1         : 0.7591167929033109\n",
      "    val_balanced_accuracy: 0.7484326486479206\n",
      "    val_precision  : 0.7896811562495196\n",
      "    val_recall     : 0.7447916666666667\n"
     ]
    },
    {
     "name": "stdout",
     "output_type": "stream",
     "text": [
      "Model has not improved in -------------| 178 epochs\n"
     ]
    },
    {
     "name": "stderr",
     "output_type": "stream",
     "text": [
      "Train Epoch: 203 [0/1487 (0%)] Loss: 0.160429\n",
      "Train Epoch: 203 [128/1487 (8%)] Loss: 0.172715\n",
      "Train Epoch: 203 [256/1487 (17%)] Loss: 0.141688\n",
      "Train Epoch: 203 [384/1487 (25%)] Loss: 0.198395\n",
      "Train Epoch: 203 [512/1487 (33%)] Loss: 0.126259\n",
      "Train Epoch: 203 [640/1487 (42%)] Loss: 0.089898\n",
      "Train Epoch: 203 [768/1487 (50%)] Loss: 0.109050\n",
      "Train Epoch: 203 [896/1487 (58%)] Loss: 0.135618\n",
      "Train Epoch: 203 [1024/1487 (67%)] Loss: 0.126921\n",
      "Train Epoch: 203 [1152/1487 (75%)] Loss: 0.073495\n",
      "Train Epoch: 203 [1280/1487 (83%)] Loss: 0.097096\n",
      "Train Epoch: 203 [1408/1487 (92%)] Loss: 0.188201\n",
      "    epoch          : 203\n",
      "    loss           : 0.13871064440657696\n",
      "    my_metric      : 0.9529513888888889\n",
      "    f1             : 0.9530524527950108\n",
      "    balanced_accuracy: 0.954347215304276\n",
      "    precision      : 0.9548352401754657\n",
      "    recall         : 0.9529513888888889\n",
      "    val_loss       : 0.9841104626655579\n",
      "    val_my_metric  : 0.6864583333333333\n",
      "    val_f1         : 0.6819714683659621\n",
      "    val_balanced_accuracy: 0.6807880665233605\n",
      "    val_precision  : 0.7138849534511542\n",
      "    val_recall     : 0.6864583333333333\n"
     ]
    },
    {
     "name": "stdout",
     "output_type": "stream",
     "text": [
      "Model has not improved in -------------| 179 epochs\n"
     ]
    },
    {
     "name": "stderr",
     "output_type": "stream",
     "text": [
      "Train Epoch: 204 [0/1487 (0%)] Loss: 0.140724\n",
      "Train Epoch: 204 [128/1487 (8%)] Loss: 0.134973\n",
      "Train Epoch: 204 [256/1487 (17%)] Loss: 0.117466\n",
      "Train Epoch: 204 [384/1487 (25%)] Loss: 0.109683\n",
      "Train Epoch: 204 [512/1487 (33%)] Loss: 0.099072\n",
      "Train Epoch: 204 [640/1487 (42%)] Loss: 0.127530\n",
      "Train Epoch: 204 [768/1487 (50%)] Loss: 0.129573\n",
      "Train Epoch: 204 [896/1487 (58%)] Loss: 0.076819\n",
      "Train Epoch: 204 [1024/1487 (67%)] Loss: 0.113416\n",
      "Train Epoch: 204 [1152/1487 (75%)] Loss: 0.186832\n",
      "Train Epoch: 204 [1280/1487 (83%)] Loss: 0.157779\n",
      "Train Epoch: 204 [1408/1487 (92%)] Loss: 0.123365\n",
      "    epoch          : 204\n",
      "    loss           : 0.1381446560844779\n",
      "    my_metric      : 0.9470920138888889\n",
      "    f1             : 0.9471119562892288\n",
      "    balanced_accuracy: 0.9480063956763053\n",
      "    precision      : 0.9496974024900408\n",
      "    recall         : 0.9470920138888889\n",
      "    val_loss       : 1.057692390680313\n",
      "    val_my_metric  : 0.7479166666666667\n",
      "    val_f1         : 0.7437206288812053\n",
      "    val_balanced_accuracy: 0.7306644028832081\n",
      "    val_precision  : 0.7576801440770361\n",
      "    val_recall     : 0.7479166666666667\n"
     ]
    },
    {
     "name": "stdout",
     "output_type": "stream",
     "text": [
      "Model has not improved in -------------| 180 epochs\n"
     ]
    },
    {
     "name": "stderr",
     "output_type": "stream",
     "text": [
      "Train Epoch: 205 [0/1487 (0%)] Loss: 0.159806\n",
      "Train Epoch: 205 [128/1487 (8%)] Loss: 0.117973\n",
      "Train Epoch: 205 [256/1487 (17%)] Loss: 0.155765\n",
      "Train Epoch: 205 [384/1487 (25%)] Loss: 0.147178\n",
      "Train Epoch: 205 [512/1487 (33%)] Loss: 0.166827\n",
      "Train Epoch: 205 [640/1487 (42%)] Loss: 0.149060\n",
      "Train Epoch: 205 [768/1487 (50%)] Loss: 0.127243\n",
      "Train Epoch: 205 [896/1487 (58%)] Loss: 0.152224\n",
      "Train Epoch: 205 [1024/1487 (67%)] Loss: 0.142254\n",
      "Train Epoch: 205 [1152/1487 (75%)] Loss: 0.123467\n",
      "Train Epoch: 205 [1280/1487 (83%)] Loss: 0.084724\n",
      "Train Epoch: 205 [1408/1487 (92%)] Loss: 0.132384\n",
      "    epoch          : 205\n",
      "    loss           : 0.14678584722181162\n",
      "    my_metric      : 0.9443142361111111\n",
      "    f1             : 0.9442619083063617\n",
      "    balanced_accuracy: 0.943586711732885\n",
      "    precision      : 0.9467833055904201\n",
      "    recall         : 0.9443142361111111\n",
      "    val_loss       : 0.7538697004318238\n",
      "    val_my_metric  : 0.7760416666666667\n",
      "    val_f1         : 0.7797312666550308\n",
      "    val_balanced_accuracy: 0.7914469235970251\n",
      "    val_precision  : 0.7974730434084679\n",
      "    val_recall     : 0.7760416666666667\n"
     ]
    },
    {
     "name": "stdout",
     "output_type": "stream",
     "text": [
      "Model has not improved in -------------| 181 epochs\n"
     ]
    },
    {
     "name": "stderr",
     "output_type": "stream",
     "text": [
      "Train Epoch: 206 [0/1487 (0%)] Loss: 0.081731\n",
      "Train Epoch: 206 [128/1487 (8%)] Loss: 0.051314\n",
      "Train Epoch: 206 [256/1487 (17%)] Loss: 0.099729\n",
      "Train Epoch: 206 [384/1487 (25%)] Loss: 0.142150\n",
      "Train Epoch: 206 [512/1487 (33%)] Loss: 0.205341\n",
      "Train Epoch: 206 [640/1487 (42%)] Loss: 0.184321\n",
      "Train Epoch: 206 [768/1487 (50%)] Loss: 0.092504\n",
      "Train Epoch: 206 [896/1487 (58%)] Loss: 0.139778\n",
      "Train Epoch: 206 [1024/1487 (67%)] Loss: 0.136270\n",
      "Train Epoch: 206 [1152/1487 (75%)] Loss: 0.120326\n",
      "Train Epoch: 206 [1280/1487 (83%)] Loss: 0.147932\n",
      "Train Epoch: 206 [1408/1487 (92%)] Loss: 0.123944\n",
      "    epoch          : 206\n",
      "    loss           : 0.1346953196140627\n",
      "    my_metric      : 0.9526041666666667\n",
      "    f1             : 0.9526128208125336\n",
      "    balanced_accuracy: 0.9527833490760541\n",
      "    precision      : 0.9546181548504976\n",
      "    recall         : 0.9526041666666667\n",
      "    val_loss       : 0.8322951674461365\n",
      "    val_my_metric  : 0.696875\n",
      "    val_f1         : 0.6882915205328908\n",
      "    val_balanced_accuracy: 0.7214038785113264\n",
      "    val_precision  : 0.7594350660702162\n",
      "    val_recall     : 0.696875\n"
     ]
    },
    {
     "name": "stdout",
     "output_type": "stream",
     "text": [
      "Model has not improved in -------------| 182 epochs\n"
     ]
    },
    {
     "name": "stderr",
     "output_type": "stream",
     "text": [
      "Train Epoch: 207 [0/1487 (0%)] Loss: 0.116109\n",
      "Train Epoch: 207 [128/1487 (8%)] Loss: 0.116919\n",
      "Train Epoch: 207 [256/1487 (17%)] Loss: 0.177790\n",
      "Train Epoch: 207 [384/1487 (25%)] Loss: 0.098793\n",
      "Train Epoch: 207 [512/1487 (33%)] Loss: 0.175554\n",
      "Train Epoch: 207 [640/1487 (42%)] Loss: 0.118828\n",
      "Train Epoch: 207 [768/1487 (50%)] Loss: 0.109622\n",
      "Train Epoch: 207 [896/1487 (58%)] Loss: 0.167654\n",
      "Train Epoch: 207 [1024/1487 (67%)] Loss: 0.120652\n",
      "Train Epoch: 207 [1152/1487 (75%)] Loss: 0.200151\n",
      "Train Epoch: 207 [1280/1487 (83%)] Loss: 0.159321\n",
      "Train Epoch: 207 [1408/1487 (92%)] Loss: 0.274391\n",
      "    epoch          : 207\n",
      "    loss           : 0.1503473569949468\n",
      "    my_metric      : 0.9490451388888889\n",
      "    f1             : 0.9490136689975665\n",
      "    balanced_accuracy: 0.9498472359047375\n",
      "    precision      : 0.9514202965194083\n",
      "    recall         : 0.9490451388888889\n",
      "    val_loss       : 0.7091960906982422\n",
      "    val_my_metric  : 0.7458333333333333\n",
      "    val_f1         : 0.7543822492283162\n",
      "    val_balanced_accuracy: 0.7737335686620741\n",
      "    val_precision  : 0.7962677325750471\n",
      "    val_recall     : 0.7458333333333333\n"
     ]
    },
    {
     "name": "stdout",
     "output_type": "stream",
     "text": [
      "Model has not improved in -------------| 183 epochs\n"
     ]
    },
    {
     "name": "stderr",
     "output_type": "stream",
     "text": [
      "Train Epoch: 208 [0/1487 (0%)] Loss: 0.118056\n",
      "Train Epoch: 208 [128/1487 (8%)] Loss: 0.322256\n",
      "Train Epoch: 208 [256/1487 (17%)] Loss: 0.083260\n",
      "Train Epoch: 208 [384/1487 (25%)] Loss: 0.232957\n",
      "Train Epoch: 208 [512/1487 (33%)] Loss: 0.141784\n",
      "Train Epoch: 208 [640/1487 (42%)] Loss: 0.188050\n",
      "Train Epoch: 208 [768/1487 (50%)] Loss: 0.176714\n",
      "Train Epoch: 208 [896/1487 (58%)] Loss: 0.219523\n",
      "Train Epoch: 208 [1024/1487 (67%)] Loss: 0.156235\n",
      "Train Epoch: 208 [1152/1487 (75%)] Loss: 0.221323\n",
      "Train Epoch: 208 [1280/1487 (83%)] Loss: 0.230164\n",
      "Train Epoch: 208 [1408/1487 (92%)] Loss: 0.186669\n",
      "    epoch          : 208\n",
      "    loss           : 0.16841812897473574\n",
      "    my_metric      : 0.9345486111111111\n",
      "    f1             : 0.9345488108528334\n",
      "    balanced_accuracy: 0.9348208544576283\n",
      "    precision      : 0.9374556228788711\n",
      "    recall         : 0.9345486111111111\n",
      "    val_loss       : 0.733823037147522\n",
      "    val_my_metric  : 0.7447916666666667\n",
      "    val_f1         : 0.7449648345573041\n",
      "    val_balanced_accuracy: 0.7538735674824384\n",
      "    val_precision  : 0.7623311830777808\n",
      "    val_recall     : 0.7447916666666667\n"
     ]
    },
    {
     "name": "stdout",
     "output_type": "stream",
     "text": [
      "Model has not improved in -------------| 184 epochs\n"
     ]
    },
    {
     "name": "stderr",
     "output_type": "stream",
     "text": [
      "Train Epoch: 209 [0/1487 (0%)] Loss: 0.231771\n",
      "Train Epoch: 209 [128/1487 (8%)] Loss: 0.102798\n",
      "Train Epoch: 209 [256/1487 (17%)] Loss: 0.152868\n",
      "Train Epoch: 209 [384/1487 (25%)] Loss: 0.117861\n",
      "Train Epoch: 209 [512/1487 (33%)] Loss: 0.144329\n",
      "Train Epoch: 209 [640/1487 (42%)] Loss: 0.113877\n",
      "Train Epoch: 209 [768/1487 (50%)] Loss: 0.215047\n",
      "Train Epoch: 209 [896/1487 (58%)] Loss: 0.137625\n",
      "Train Epoch: 209 [1024/1487 (67%)] Loss: 0.099432\n",
      "Train Epoch: 209 [1152/1487 (75%)] Loss: 0.148361\n",
      "Train Epoch: 209 [1280/1487 (83%)] Loss: 0.177705\n",
      "Train Epoch: 209 [1408/1487 (92%)] Loss: 0.062308\n",
      "    epoch          : 209\n",
      "    loss           : 0.1404371332998077\n",
      "    my_metric      : 0.9524739583333334\n",
      "    f1             : 0.9523552138695276\n",
      "    balanced_accuracy: 0.9515441992687017\n",
      "    precision      : 0.9545192160629048\n",
      "    recall         : 0.9524739583333334\n",
      "    val_loss       : 0.6570764899253845\n",
      "    val_my_metric  : 0.790625\n",
      "    val_f1         : 0.7890654606881441\n",
      "    val_balanced_accuracy: 0.7919616702404595\n",
      "    val_precision  : 0.7978335945065471\n",
      "    val_recall     : 0.790625\n"
     ]
    },
    {
     "name": "stdout",
     "output_type": "stream",
     "text": [
      "Model has not improved in -------------| 185 epochs\n"
     ]
    },
    {
     "name": "stderr",
     "output_type": "stream",
     "text": [
      "Train Epoch: 210 [0/1487 (0%)] Loss: 0.134518\n",
      "Train Epoch: 210 [128/1487 (8%)] Loss: 0.103105\n",
      "Train Epoch: 210 [256/1487 (17%)] Loss: 0.127080\n",
      "Train Epoch: 210 [384/1487 (25%)] Loss: 0.159993\n",
      "Train Epoch: 210 [512/1487 (33%)] Loss: 0.104505\n",
      "Train Epoch: 210 [640/1487 (42%)] Loss: 0.106510\n",
      "Train Epoch: 210 [768/1487 (50%)] Loss: 0.174464\n",
      "Train Epoch: 210 [896/1487 (58%)] Loss: 0.202481\n",
      "Train Epoch: 210 [1024/1487 (67%)] Loss: 0.234244\n",
      "Train Epoch: 210 [1152/1487 (75%)] Loss: 0.089230\n",
      "Train Epoch: 210 [1280/1487 (83%)] Loss: 0.145256\n",
      "Train Epoch: 210 [1408/1487 (92%)] Loss: 0.109288\n",
      "    epoch          : 210\n",
      "    loss           : 0.13762437117596468\n",
      "    my_metric      : 0.9523003472222222\n",
      "    f1             : 0.9523801690819793\n",
      "    balanced_accuracy: 0.9530146630484578\n",
      "    precision      : 0.954191583212019\n",
      "    recall         : 0.9523003472222222\n",
      "    val_loss       : 0.824796587228775\n",
      "    val_my_metric  : 0.7572916666666667\n",
      "    val_f1         : 0.7585607043309843\n",
      "    val_balanced_accuracy: 0.7659947298706049\n",
      "    val_precision  : 0.7700203079768265\n",
      "    val_recall     : 0.7572916666666667\n"
     ]
    },
    {
     "name": "stdout",
     "output_type": "stream",
     "text": [
      "Model has not improved in -------------| 186 epochs\n"
     ]
    },
    {
     "name": "stderr",
     "output_type": "stream",
     "text": [
      "Train Epoch: 211 [0/1487 (0%)] Loss: 0.138775\n",
      "Train Epoch: 211 [128/1487 (8%)] Loss: 0.127618\n",
      "Train Epoch: 211 [256/1487 (17%)] Loss: 0.201763\n",
      "Train Epoch: 211 [384/1487 (25%)] Loss: 0.120517\n",
      "Train Epoch: 211 [512/1487 (33%)] Loss: 0.088512\n",
      "Train Epoch: 211 [640/1487 (42%)] Loss: 0.141631\n",
      "Train Epoch: 211 [768/1487 (50%)] Loss: 0.128630\n",
      "Train Epoch: 211 [896/1487 (58%)] Loss: 0.123509\n",
      "Train Epoch: 211 [1024/1487 (67%)] Loss: 0.091491\n",
      "Train Epoch: 211 [1152/1487 (75%)] Loss: 0.103161\n",
      "Train Epoch: 211 [1280/1487 (83%)] Loss: 0.139479\n",
      "Train Epoch: 211 [1408/1487 (92%)] Loss: 0.143196\n",
      "    epoch          : 211\n",
      "    loss           : 0.13375309637437263\n",
      "    my_metric      : 0.9482204861111111\n",
      "    f1             : 0.9484768642210685\n",
      "    balanced_accuracy: 0.9518499183268044\n",
      "    precision      : 0.9529334026674382\n",
      "    recall         : 0.9482204861111111\n",
      "    val_loss       : 0.7880188941955566\n",
      "    val_my_metric  : 0.684375\n",
      "    val_f1         : 0.6814083453769435\n",
      "    val_balanced_accuracy: 0.6802896540714145\n",
      "    val_precision  : 0.6848190509311833\n",
      "    val_recall     : 0.684375\n"
     ]
    },
    {
     "name": "stdout",
     "output_type": "stream",
     "text": [
      "Model has not improved in -------------| 187 epochs\n"
     ]
    },
    {
     "name": "stderr",
     "output_type": "stream",
     "text": [
      "Train Epoch: 212 [0/1487 (0%)] Loss: 0.087527\n",
      "Train Epoch: 212 [128/1487 (8%)] Loss: 0.079399\n",
      "Train Epoch: 212 [256/1487 (17%)] Loss: 0.088911\n",
      "Train Epoch: 212 [384/1487 (25%)] Loss: 0.071194\n",
      "Train Epoch: 212 [512/1487 (33%)] Loss: 0.191213\n",
      "Train Epoch: 212 [640/1487 (42%)] Loss: 0.163036\n",
      "Train Epoch: 212 [768/1487 (50%)] Loss: 0.214593\n",
      "Train Epoch: 212 [896/1487 (58%)] Loss: 0.099174\n",
      "Train Epoch: 212 [1024/1487 (67%)] Loss: 0.142016\n",
      "Train Epoch: 212 [1152/1487 (75%)] Loss: 0.114914\n",
      "Train Epoch: 212 [1280/1487 (83%)] Loss: 0.133545\n",
      "Train Epoch: 212 [1408/1487 (92%)] Loss: 0.084584\n",
      "    epoch          : 212\n",
      "    loss           : 0.13160200929269195\n",
      "    my_metric      : 0.9516493055555556\n",
      "    f1             : 0.9516236863541244\n",
      "    balanced_accuracy: 0.9512755965001509\n",
      "    precision      : 0.9541175311412499\n",
      "    recall         : 0.9516493055555556\n",
      "    val_loss       : 0.6529759906232357\n",
      "    val_my_metric  : 0.78125\n",
      "    val_f1         : 0.7804130227816265\n",
      "    val_balanced_accuracy: 0.7818975332068312\n",
      "    val_precision  : 0.7856716942006223\n",
      "    val_recall     : 0.78125\n"
     ]
    },
    {
     "name": "stdout",
     "output_type": "stream",
     "text": [
      "Model has not improved in -------------| 188 epochs\n"
     ]
    },
    {
     "name": "stderr",
     "output_type": "stream",
     "text": [
      "Train Epoch: 213 [0/1487 (0%)] Loss: 0.062048\n",
      "Train Epoch: 213 [128/1487 (8%)] Loss: 0.128780\n",
      "Train Epoch: 213 [256/1487 (17%)] Loss: 0.123559\n",
      "Train Epoch: 213 [384/1487 (25%)] Loss: 0.078211\n",
      "Train Epoch: 213 [512/1487 (33%)] Loss: 0.131106\n",
      "Train Epoch: 213 [640/1487 (42%)] Loss: 0.148452\n",
      "Train Epoch: 213 [768/1487 (50%)] Loss: 0.144323\n",
      "Train Epoch: 213 [896/1487 (58%)] Loss: 0.193919\n",
      "Train Epoch: 213 [1024/1487 (67%)] Loss: 0.235547\n",
      "Train Epoch: 213 [1152/1487 (75%)] Loss: 0.152946\n",
      "Train Epoch: 213 [1280/1487 (83%)] Loss: 0.114908\n",
      "Train Epoch: 213 [1408/1487 (92%)] Loss: 0.117664\n",
      "    epoch          : 213\n",
      "    loss           : 0.1337568978779018\n",
      "    my_metric      : 0.9529513888888889\n",
      "    f1             : 0.952949287335576\n",
      "    balanced_accuracy: 0.9538378037318739\n",
      "    precision      : 0.9557811635624184\n",
      "    recall         : 0.9529513888888889\n",
      "    val_loss       : 0.7234540462493897\n",
      "    val_my_metric  : 0.7604166666666667\n",
      "    val_f1         : 0.7617714703124943\n",
      "    val_balanced_accuracy: 0.7727917412110961\n",
      "    val_precision  : 0.7820436507936508\n",
      "    val_recall     : 0.7604166666666667\n"
     ]
    },
    {
     "name": "stdout",
     "output_type": "stream",
     "text": [
      "Model has not improved in -------------| 189 epochs\n"
     ]
    },
    {
     "name": "stderr",
     "output_type": "stream",
     "text": [
      "Train Epoch: 214 [0/1487 (0%)] Loss: 0.175287\n",
      "Train Epoch: 214 [128/1487 (8%)] Loss: 0.137810\n",
      "Train Epoch: 214 [256/1487 (17%)] Loss: 0.142823\n",
      "Train Epoch: 214 [384/1487 (25%)] Loss: 0.088351\n",
      "Train Epoch: 214 [512/1487 (33%)] Loss: 0.163884\n",
      "Train Epoch: 214 [640/1487 (42%)] Loss: 0.101435\n",
      "Train Epoch: 214 [768/1487 (50%)] Loss: 0.124602\n",
      "Train Epoch: 214 [896/1487 (58%)] Loss: 0.147168\n",
      "Train Epoch: 214 [1024/1487 (67%)] Loss: 0.058285\n",
      "Train Epoch: 214 [1152/1487 (75%)] Loss: 0.109317\n",
      "Train Epoch: 214 [1280/1487 (83%)] Loss: 0.136286\n",
      "Train Epoch: 214 [1408/1487 (92%)] Loss: 0.078357\n",
      "    epoch          : 214\n",
      "    loss           : 0.13127063758050403\n",
      "    my_metric      : 0.9534288194444445\n",
      "    f1             : 0.953339828406799\n",
      "    balanced_accuracy: 0.9536453738946163\n",
      "    precision      : 0.9561707907509042\n",
      "    recall         : 0.9534288194444445\n",
      "    val_loss       : 0.8759650349617004\n",
      "    val_my_metric  : 0.7208333333333333\n",
      "    val_f1         : 0.7209708306233293\n",
      "    val_balanced_accuracy: 0.7234612974744554\n",
      "    val_precision  : 0.729373076258285\n",
      "    val_recall     : 0.7208333333333333\n"
     ]
    },
    {
     "name": "stdout",
     "output_type": "stream",
     "text": [
      "Model has not improved in -------------| 190 epochs\n"
     ]
    },
    {
     "name": "stderr",
     "output_type": "stream",
     "text": [
      "Train Epoch: 215 [0/1487 (0%)] Loss: 0.055086\n",
      "Train Epoch: 215 [128/1487 (8%)] Loss: 0.117119\n",
      "Train Epoch: 215 [256/1487 (17%)] Loss: 0.100627\n",
      "Train Epoch: 215 [384/1487 (25%)] Loss: 0.160546\n",
      "Train Epoch: 215 [512/1487 (33%)] Loss: 0.166826\n",
      "Train Epoch: 215 [640/1487 (42%)] Loss: 0.202114\n",
      "Train Epoch: 215 [768/1487 (50%)] Loss: 0.179184\n",
      "Train Epoch: 215 [896/1487 (58%)] Loss: 0.183282\n",
      "Train Epoch: 215 [1024/1487 (67%)] Loss: 0.127023\n",
      "Train Epoch: 215 [1152/1487 (75%)] Loss: 0.130434\n",
      "Train Epoch: 215 [1280/1487 (83%)] Loss: 0.092019\n",
      "Train Epoch: 215 [1408/1487 (92%)] Loss: 0.117891\n",
      "    epoch          : 215\n",
      "    loss           : 0.14010867833470306\n",
      "    my_metric      : 0.9503472222222222\n",
      "    f1             : 0.9502940360796196\n",
      "    balanced_accuracy: 0.9506337804779325\n",
      "    precision      : 0.9532959667282469\n",
      "    recall         : 0.9503472222222222\n",
      "    val_loss       : 0.9423256874084472\n",
      "    val_my_metric  : 0.66875\n",
      "    val_f1         : 0.6685809819094739\n",
      "    val_balanced_accuracy: 0.6703606391236846\n",
      "    val_precision  : 0.6905628834555574\n",
      "    val_recall     : 0.66875\n"
     ]
    },
    {
     "name": "stdout",
     "output_type": "stream",
     "text": [
      "Model has not improved in -------------| 191 epochs\n"
     ]
    },
    {
     "name": "stderr",
     "output_type": "stream",
     "text": [
      "Train Epoch: 216 [0/1487 (0%)] Loss: 0.134964\n",
      "Train Epoch: 216 [128/1487 (8%)] Loss: 0.150299\n",
      "Train Epoch: 216 [256/1487 (17%)] Loss: 0.074273\n",
      "Train Epoch: 216 [384/1487 (25%)] Loss: 0.084506\n",
      "Train Epoch: 216 [512/1487 (33%)] Loss: 0.175499\n",
      "Train Epoch: 216 [640/1487 (42%)] Loss: 0.111173\n",
      "Train Epoch: 216 [768/1487 (50%)] Loss: 0.131017\n",
      "Train Epoch: 216 [896/1487 (58%)] Loss: 0.175996\n",
      "Train Epoch: 216 [1024/1487 (67%)] Loss: 0.079519\n",
      "Train Epoch: 216 [1152/1487 (75%)] Loss: 0.126462\n",
      "Train Epoch: 216 [1280/1487 (83%)] Loss: 0.181549\n",
      "Train Epoch: 216 [1408/1487 (92%)] Loss: 0.082548\n",
      "    epoch          : 216\n",
      "    loss           : 0.12292895248780648\n",
      "    my_metric      : 0.9542534722222222\n",
      "    f1             : 0.9542482584255721\n",
      "    balanced_accuracy: 0.9554182596722801\n",
      "    precision      : 0.9575350508783975\n",
      "    recall         : 0.9542534722222222\n",
      "    val_loss       : 0.683830526471138\n",
      "    val_my_metric  : 0.778125\n",
      "    val_f1         : 0.778797052620582\n",
      "    val_balanced_accuracy: 0.7794739322854648\n",
      "    val_precision  : 0.7848680539890217\n",
      "    val_recall     : 0.778125\n"
     ]
    },
    {
     "name": "stdout",
     "output_type": "stream",
     "text": [
      "Model has not improved in -------------| 192 epochs\n"
     ]
    },
    {
     "name": "stderr",
     "output_type": "stream",
     "text": [
      "Train Epoch: 217 [0/1487 (0%)] Loss: 0.099730\n",
      "Train Epoch: 217 [128/1487 (8%)] Loss: 0.204069\n",
      "Train Epoch: 217 [256/1487 (17%)] Loss: 0.127983\n",
      "Train Epoch: 217 [384/1487 (25%)] Loss: 0.149724\n",
      "Train Epoch: 217 [512/1487 (33%)] Loss: 0.076920\n",
      "Train Epoch: 217 [640/1487 (42%)] Loss: 0.146280\n",
      "Train Epoch: 217 [768/1487 (50%)] Loss: 0.197301\n",
      "Train Epoch: 217 [896/1487 (58%)] Loss: 0.109250\n",
      "Train Epoch: 217 [1024/1487 (67%)] Loss: 0.096633\n",
      "Train Epoch: 217 [1152/1487 (75%)] Loss: 0.116171\n",
      "Train Epoch: 217 [1280/1487 (83%)] Loss: 0.123248\n",
      "Train Epoch: 217 [1408/1487 (92%)] Loss: 0.166083\n",
      "    epoch          : 217\n",
      "    loss           : 0.14060210405538479\n",
      "    my_metric      : 0.9469184027777778\n",
      "    f1             : 0.9470767508624838\n",
      "    balanced_accuracy: 0.9488918381627177\n",
      "    precision      : 0.9499325386568951\n",
      "    recall         : 0.9469184027777778\n",
      "    val_loss       : 0.8354405403137207\n",
      "    val_my_metric  : 0.690625\n",
      "    val_f1         : 0.6874852637783672\n",
      "    val_balanced_accuracy: 0.6900838795928929\n",
      "    val_precision  : 0.6913232568506006\n",
      "    val_recall     : 0.690625\n"
     ]
    },
    {
     "name": "stdout",
     "output_type": "stream",
     "text": [
      "Model has not improved in -------------| 193 epochs\n"
     ]
    },
    {
     "name": "stderr",
     "output_type": "stream",
     "text": [
      "Train Epoch: 218 [0/1487 (0%)] Loss: 0.078445\n",
      "Train Epoch: 218 [128/1487 (8%)] Loss: 0.183208\n",
      "Train Epoch: 218 [256/1487 (17%)] Loss: 0.089232\n",
      "Train Epoch: 218 [384/1487 (25%)] Loss: 0.067087\n",
      "Train Epoch: 218 [512/1487 (33%)] Loss: 0.231927\n",
      "Train Epoch: 218 [640/1487 (42%)] Loss: 0.075550\n",
      "Train Epoch: 218 [768/1487 (50%)] Loss: 0.134107\n",
      "Train Epoch: 218 [896/1487 (58%)] Loss: 0.108203\n",
      "Train Epoch: 218 [1024/1487 (67%)] Loss: 0.098850\n",
      "Train Epoch: 218 [1152/1487 (75%)] Loss: 0.173391\n",
      "Train Epoch: 218 [1280/1487 (83%)] Loss: 0.149267\n",
      "Train Epoch: 218 [1408/1487 (92%)] Loss: 0.227094\n",
      "    epoch          : 218\n",
      "    loss           : 0.13869809824973345\n",
      "    my_metric      : 0.9475694444444445\n",
      "    f1             : 0.9475198065060516\n",
      "    balanced_accuracy: 0.9489301796137651\n",
      "    precision      : 0.9522565779222427\n",
      "    recall         : 0.9475694444444445\n",
      "    val_loss       : 0.7337929844856262\n",
      "    val_my_metric  : 0.7364583333333333\n",
      "    val_f1         : 0.7352974856893849\n",
      "    val_balanced_accuracy: 0.751974009545167\n",
      "    val_precision  : 0.7735306070421202\n",
      "    val_recall     : 0.7364583333333333\n"
     ]
    },
    {
     "name": "stdout",
     "output_type": "stream",
     "text": [
      "Model has not improved in -------------| 194 epochs\n"
     ]
    },
    {
     "name": "stderr",
     "output_type": "stream",
     "text": [
      "Train Epoch: 219 [0/1487 (0%)] Loss: 0.090542\n",
      "Train Epoch: 219 [128/1487 (8%)] Loss: 0.119861\n",
      "Train Epoch: 219 [256/1487 (17%)] Loss: 0.159828\n",
      "Train Epoch: 219 [384/1487 (25%)] Loss: 0.090485\n",
      "Train Epoch: 219 [512/1487 (33%)] Loss: 0.085717\n",
      "Train Epoch: 219 [640/1487 (42%)] Loss: 0.148451\n",
      "Train Epoch: 219 [768/1487 (50%)] Loss: 0.120513\n",
      "Train Epoch: 219 [896/1487 (58%)] Loss: 0.160274\n",
      "Train Epoch: 219 [1024/1487 (67%)] Loss: 0.112698\n",
      "Train Epoch: 219 [1152/1487 (75%)] Loss: 0.143993\n",
      "Train Epoch: 219 [1280/1487 (83%)] Loss: 0.108728\n",
      "Train Epoch: 219 [1408/1487 (92%)] Loss: 0.118878\n",
      "    epoch          : 219\n",
      "    loss           : 0.13804987166076899\n",
      "    my_metric      : 0.9421875000000001\n",
      "    f1             : 0.9422371207391316\n",
      "    balanced_accuracy: 0.9437048495755836\n",
      "    precision      : 0.9445079858037485\n",
      "    recall         : 0.9421875000000001\n",
      "    val_loss       : 0.9671061277389527\n",
      "    val_my_metric  : 0.6510416666666667\n",
      "    val_f1         : 0.6511201561745648\n",
      "    val_balanced_accuracy: 0.7042625182615523\n",
      "    val_precision  : 0.765145533635528\n",
      "    val_recall     : 0.6510416666666667\n"
     ]
    },
    {
     "name": "stdout",
     "output_type": "stream",
     "text": [
      "Model has not improved in -------------| 195 epochs\n"
     ]
    },
    {
     "name": "stderr",
     "output_type": "stream",
     "text": [
      "Train Epoch: 220 [0/1487 (0%)] Loss: 0.266407\n",
      "Train Epoch: 220 [128/1487 (8%)] Loss: 0.100424\n",
      "Train Epoch: 220 [256/1487 (17%)] Loss: 0.071113\n",
      "Train Epoch: 220 [384/1487 (25%)] Loss: 0.127751\n",
      "Train Epoch: 220 [512/1487 (33%)] Loss: 0.088209\n",
      "Train Epoch: 220 [640/1487 (42%)] Loss: 0.076794\n",
      "Train Epoch: 220 [768/1487 (50%)] Loss: 0.185769\n",
      "Train Epoch: 220 [896/1487 (58%)] Loss: 0.193822\n",
      "Train Epoch: 220 [1024/1487 (67%)] Loss: 0.170819\n",
      "Train Epoch: 220 [1152/1487 (75%)] Loss: 0.100099\n",
      "Train Epoch: 220 [1280/1487 (83%)] Loss: 0.097466\n",
      "Train Epoch: 220 [1408/1487 (92%)] Loss: 0.120879\n",
      "    epoch          : 220\n",
      "    loss           : 0.13844571448862553\n",
      "    my_metric      : 0.9523003472222222\n",
      "    f1             : 0.9523518157491192\n",
      "    balanced_accuracy: 0.9535590080610632\n",
      "    precision      : 0.9547610889809995\n",
      "    recall         : 0.9523003472222222\n",
      "    val_loss       : 0.9721958577632904\n",
      "    val_my_metric  : 0.7\n",
      "    val_f1         : 0.6957911351109234\n",
      "    val_balanced_accuracy: 0.6983019952849174\n",
      "    val_precision  : 0.7019640756898025\n",
      "    val_recall     : 0.7\n"
     ]
    },
    {
     "name": "stdout",
     "output_type": "stream",
     "text": [
      "Model has not improved in -------------| 196 epochs\n"
     ]
    },
    {
     "name": "stderr",
     "output_type": "stream",
     "text": [
      "Train Epoch: 221 [0/1487 (0%)] Loss: 0.159760\n",
      "Train Epoch: 221 [128/1487 (8%)] Loss: 0.164442\n",
      "Train Epoch: 221 [256/1487 (17%)] Loss: 0.125163\n",
      "Train Epoch: 221 [384/1487 (25%)] Loss: 0.200784\n",
      "Train Epoch: 221 [512/1487 (33%)] Loss: 0.093349\n",
      "Train Epoch: 221 [640/1487 (42%)] Loss: 0.155460\n",
      "Train Epoch: 221 [768/1487 (50%)] Loss: 0.164754\n",
      "Train Epoch: 221 [896/1487 (58%)] Loss: 0.139451\n",
      "Train Epoch: 221 [1024/1487 (67%)] Loss: 0.122429\n",
      "Train Epoch: 221 [1152/1487 (75%)] Loss: 0.182109\n",
      "Train Epoch: 221 [1280/1487 (83%)] Loss: 0.073573\n",
      "Train Epoch: 221 [1408/1487 (92%)] Loss: 0.101661\n",
      "    epoch          : 221\n",
      "    loss           : 0.13726571264366308\n",
      "    my_metric      : 0.9485677083333334\n",
      "    f1             : 0.9485978612381222\n",
      "    balanced_accuracy: 0.9497984516865259\n",
      "    precision      : 0.9509362132916008\n",
      "    recall         : 0.9485677083333334\n",
      "    val_loss       : 0.6110278435051442\n",
      "    val_my_metric  : 0.815625\n",
      "    val_f1         : 0.8149271609616437\n",
      "    val_balanced_accuracy: 0.8172679475015812\n",
      "    val_precision  : 0.8211553339727221\n",
      "    val_recall     : 0.815625\n"
     ]
    },
    {
     "name": "stdout",
     "output_type": "stream",
     "text": [
      "Model has not improved in -------------| 197 epochs\n"
     ]
    },
    {
     "name": "stderr",
     "output_type": "stream",
     "text": [
      "Train Epoch: 222 [0/1487 (0%)] Loss: 0.149016\n",
      "Train Epoch: 222 [128/1487 (8%)] Loss: 0.190053\n",
      "Train Epoch: 222 [256/1487 (17%)] Loss: 0.098444\n",
      "Train Epoch: 222 [384/1487 (25%)] Loss: 0.115166\n",
      "Train Epoch: 222 [512/1487 (33%)] Loss: 0.219187\n",
      "Train Epoch: 222 [640/1487 (42%)] Loss: 0.077681\n",
      "Train Epoch: 222 [768/1487 (50%)] Loss: 0.141101\n",
      "Train Epoch: 222 [896/1487 (58%)] Loss: 0.067865\n",
      "Train Epoch: 222 [1024/1487 (67%)] Loss: 0.151128\n",
      "Train Epoch: 222 [1152/1487 (75%)] Loss: 0.195330\n",
      "Train Epoch: 222 [1280/1487 (83%)] Loss: 0.094022\n",
      "Train Epoch: 222 [1408/1487 (92%)] Loss: 0.090474\n",
      "    epoch          : 222\n",
      "    loss           : 0.12704871610427895\n",
      "    my_metric      : 0.9523003472222222\n",
      "    f1             : 0.9525114005410275\n",
      "    balanced_accuracy: 0.9549661434266344\n",
      "    precision      : 0.9547631294040889\n",
      "    recall         : 0.9523003472222222\n",
      "    val_loss       : 0.9348147988319397\n",
      "    val_my_metric  : 0.7364583333333333\n",
      "    val_f1         : 0.7279343039750233\n",
      "    val_balanced_accuracy: 0.7335194149703288\n",
      "    val_precision  : 0.7639994235306735\n",
      "    val_recall     : 0.7364583333333333\n"
     ]
    },
    {
     "name": "stdout",
     "output_type": "stream",
     "text": [
      "Model has not improved in -------------| 198 epochs\n"
     ]
    },
    {
     "name": "stderr",
     "output_type": "stream",
     "text": [
      "Train Epoch: 223 [0/1487 (0%)] Loss: 0.079649\n",
      "Train Epoch: 223 [128/1487 (8%)] Loss: 0.079515\n",
      "Train Epoch: 223 [256/1487 (17%)] Loss: 0.091864\n",
      "Train Epoch: 223 [384/1487 (25%)] Loss: 0.169380\n",
      "Train Epoch: 223 [512/1487 (33%)] Loss: 0.120086\n",
      "Train Epoch: 223 [640/1487 (42%)] Loss: 0.150179\n",
      "Train Epoch: 223 [768/1487 (50%)] Loss: 0.079499\n",
      "Train Epoch: 223 [896/1487 (58%)] Loss: 0.076609\n",
      "Train Epoch: 223 [1024/1487 (67%)] Loss: 0.188974\n",
      "Train Epoch: 223 [1152/1487 (75%)] Loss: 0.073115\n",
      "Train Epoch: 223 [1280/1487 (83%)] Loss: 0.171153\n",
      "Train Epoch: 223 [1408/1487 (92%)] Loss: 0.124956\n",
      "    epoch          : 223\n",
      "    loss           : 0.1328408569097519\n",
      "    my_metric      : 0.951171875\n",
      "    f1             : 0.9512569266097061\n",
      "    balanced_accuracy: 0.952324016750007\n",
      "    precision      : 0.9534897340455442\n",
      "    recall         : 0.951171875\n",
      "    val_loss       : 1.1974066019058227\n",
      "    val_my_metric  : 0.6541666666666667\n",
      "    val_f1         : 0.6509013205310727\n",
      "    val_balanced_accuracy: 0.6549915122283113\n",
      "    val_precision  : 0.6706277386756995\n",
      "    val_recall     : 0.6541666666666667\n"
     ]
    },
    {
     "name": "stdout",
     "output_type": "stream",
     "text": [
      "Model has not improved in -------------| 199 epochs\n"
     ]
    },
    {
     "name": "stderr",
     "output_type": "stream",
     "text": [
      "Train Epoch: 224 [0/1487 (0%)] Loss: 0.068475\n",
      "Train Epoch: 224 [128/1487 (8%)] Loss: 0.141264\n",
      "Train Epoch: 224 [256/1487 (17%)] Loss: 0.094118\n",
      "Train Epoch: 224 [384/1487 (25%)] Loss: 0.151618\n",
      "Train Epoch: 224 [512/1487 (33%)] Loss: 0.055615\n",
      "Train Epoch: 224 [640/1487 (42%)] Loss: 0.167864\n",
      "Train Epoch: 224 [768/1487 (50%)] Loss: 0.061420\n",
      "Train Epoch: 224 [896/1487 (58%)] Loss: 0.216098\n",
      "Train Epoch: 224 [1024/1487 (67%)] Loss: 0.099087\n",
      "Train Epoch: 224 [1152/1487 (75%)] Loss: 0.160702\n",
      "Train Epoch: 224 [1280/1487 (83%)] Loss: 0.102291\n",
      "Train Epoch: 224 [1408/1487 (92%)] Loss: 0.103114\n",
      "    epoch          : 224\n",
      "    loss           : 0.12121651321649551\n",
      "    my_metric      : 0.9607638888888889\n",
      "    f1             : 0.9607644194317791\n",
      "    balanced_accuracy: 0.9608151346997073\n",
      "    precision      : 0.9619001565600048\n",
      "    recall         : 0.9607638888888889\n",
      "    val_loss       : 0.8664916157722473\n",
      "    val_my_metric  : 0.7458333333333333\n",
      "    val_f1         : 0.7464472722274859\n",
      "    val_balanced_accuracy: 0.7523243850409576\n",
      "    val_precision  : 0.7579944182493192\n",
      "    val_recall     : 0.7458333333333333\n"
     ]
    },
    {
     "name": "stdout",
     "output_type": "stream",
     "text": [
      "Model has not improved in -------------| 200 epochs\n"
     ]
    },
    {
     "name": "stderr",
     "output_type": "stream",
     "text": [
      "Train Epoch: 225 [0/1487 (0%)] Loss: 0.128830\n",
      "Train Epoch: 225 [128/1487 (8%)] Loss: 0.104955\n",
      "Train Epoch: 225 [256/1487 (17%)] Loss: 0.200433\n",
      "Train Epoch: 225 [384/1487 (25%)] Loss: 0.158969\n",
      "Train Epoch: 225 [512/1487 (33%)] Loss: 0.199451\n",
      "Train Epoch: 225 [640/1487 (42%)] Loss: 0.105465\n",
      "Train Epoch: 225 [768/1487 (50%)] Loss: 0.136377\n",
      "Train Epoch: 225 [896/1487 (58%)] Loss: 0.045074\n",
      "Train Epoch: 225 [1024/1487 (67%)] Loss: 0.180050\n",
      "Train Epoch: 225 [1152/1487 (75%)] Loss: 0.089186\n",
      "Train Epoch: 225 [1280/1487 (83%)] Loss: 0.091669\n",
      "Train Epoch: 225 [1408/1487 (92%)] Loss: 0.099715\n",
      "    epoch          : 225\n",
      "    loss           : 0.1294543668627739\n",
      "    my_metric      : 0.9529513888888889\n",
      "    f1             : 0.9529600581446657\n",
      "    balanced_accuracy: 0.9525728157066919\n",
      "    precision      : 0.9547944189176779\n",
      "    recall         : 0.9529513888888889\n",
      "    val_loss       : 1.0954513907432557\n",
      "    val_my_metric  : 0.7208333333333333\n",
      "    val_f1         : 0.7192154589788216\n",
      "    val_balanced_accuracy: 0.7119999209361163\n",
      "    val_precision  : 0.7245536812826505\n",
      "    val_recall     : 0.7208333333333333\n"
     ]
    },
    {
     "name": "stdout",
     "output_type": "stream",
     "text": [
      "Model has not improved in -------------| 201 epochs\n"
     ]
    },
    {
     "name": "stderr",
     "output_type": "stream",
     "text": [
      "Train Epoch: 226 [0/1487 (0%)] Loss: 0.066572\n",
      "Train Epoch: 226 [128/1487 (8%)] Loss: 0.074746\n",
      "Train Epoch: 226 [256/1487 (17%)] Loss: 0.067474\n",
      "Train Epoch: 226 [384/1487 (25%)] Loss: 0.061598\n",
      "Train Epoch: 226 [512/1487 (33%)] Loss: 0.105561\n",
      "Train Epoch: 226 [640/1487 (42%)] Loss: 0.113606\n",
      "Train Epoch: 226 [768/1487 (50%)] Loss: 0.102812\n",
      "Train Epoch: 226 [896/1487 (58%)] Loss: 0.141815\n",
      "Train Epoch: 226 [1024/1487 (67%)] Loss: 0.101267\n",
      "Train Epoch: 226 [1152/1487 (75%)] Loss: 0.139443\n",
      "Train Epoch: 226 [1280/1487 (83%)] Loss: 0.160776\n",
      "Train Epoch: 226 [1408/1487 (92%)] Loss: 0.105039\n",
      "    epoch          : 226\n",
      "    loss           : 0.12004696018993855\n",
      "    my_metric      : 0.9566840277777778\n",
      "    f1             : 0.9566846345560801\n",
      "    balanced_accuracy: 0.9566931840562501\n",
      "    precision      : 0.9580257076228601\n",
      "    recall         : 0.9566840277777778\n",
      "    val_loss       : 0.9448492050170898\n",
      "    val_my_metric  : 0.6854166666666667\n",
      "    val_f1         : 0.668330017683466\n",
      "    val_balanced_accuracy: 0.6892509373891464\n",
      "    val_precision  : 0.6683161627224018\n",
      "    val_recall     : 0.6854166666666667\n"
     ]
    },
    {
     "name": "stdout",
     "output_type": "stream",
     "text": [
      "Model has not improved in -------------| 202 epochs\n"
     ]
    },
    {
     "name": "stderr",
     "output_type": "stream",
     "text": [
      "Train Epoch: 227 [0/1487 (0%)] Loss: 0.078248\n",
      "Train Epoch: 227 [128/1487 (8%)] Loss: 0.187130\n",
      "Train Epoch: 227 [256/1487 (17%)] Loss: 0.054471\n",
      "Train Epoch: 227 [384/1487 (25%)] Loss: 0.064880\n",
      "Train Epoch: 227 [512/1487 (33%)] Loss: 0.111427\n",
      "Train Epoch: 227 [640/1487 (42%)] Loss: 0.118101\n",
      "Train Epoch: 227 [768/1487 (50%)] Loss: 0.102738\n",
      "Train Epoch: 227 [896/1487 (58%)] Loss: 0.118132\n",
      "Train Epoch: 227 [1024/1487 (67%)] Loss: 0.110980\n",
      "Train Epoch: 227 [1152/1487 (75%)] Loss: 0.107691\n",
      "Train Epoch: 227 [1280/1487 (83%)] Loss: 0.108661\n",
      "Train Epoch: 227 [1408/1487 (92%)] Loss: 0.121679\n",
      "    epoch          : 227\n",
      "    loss           : 0.11001272033900023\n",
      "    my_metric      : 0.9618923611111111\n",
      "    f1             : 0.9618846145595304\n",
      "    balanced_accuracy: 0.9622357607518776\n",
      "    precision      : 0.9628150623766496\n",
      "    recall         : 0.9618923611111111\n",
      "    val_loss       : 0.7045704007148743\n",
      "    val_my_metric  : 0.7291666666666667\n",
      "    val_f1         : 0.723656184479248\n",
      "    val_balanced_accuracy: 0.732304065321143\n",
      "    val_precision  : 0.7555196818904\n",
      "    val_recall     : 0.7291666666666667\n"
     ]
    },
    {
     "name": "stdout",
     "output_type": "stream",
     "text": [
      "Model has not improved in -------------| 203 epochs\n"
     ]
    },
    {
     "name": "stderr",
     "output_type": "stream",
     "text": [
      "Train Epoch: 228 [0/1487 (0%)] Loss: 0.105588\n",
      "Train Epoch: 228 [128/1487 (8%)] Loss: 0.108889\n",
      "Train Epoch: 228 [256/1487 (17%)] Loss: 0.203713\n",
      "Train Epoch: 228 [384/1487 (25%)] Loss: 0.121454\n",
      "Train Epoch: 228 [512/1487 (33%)] Loss: 0.181329\n",
      "Train Epoch: 228 [640/1487 (42%)] Loss: 0.124202\n",
      "Train Epoch: 228 [768/1487 (50%)] Loss: 0.078972\n",
      "Train Epoch: 228 [896/1487 (58%)] Loss: 0.125483\n",
      "Train Epoch: 228 [1024/1487 (67%)] Loss: 0.092576\n",
      "Train Epoch: 228 [1152/1487 (75%)] Loss: 0.102370\n",
      "Train Epoch: 228 [1280/1487 (83%)] Loss: 0.061396\n",
      "Train Epoch: 228 [1408/1487 (92%)] Loss: 0.090054\n",
      "    epoch          : 228\n",
      "    loss           : 0.12930955970659852\n",
      "    my_metric      : 0.9578125000000001\n",
      "    f1             : 0.957790753967095\n",
      "    balanced_accuracy: 0.9585840396174489\n",
      "    precision      : 0.9599370432411244\n",
      "    recall         : 0.9578125000000001\n",
      "    val_loss       : 0.8326697945594788\n",
      "    val_my_metric  : 0.66875\n",
      "    val_f1         : 0.6628612944893365\n",
      "    val_balanced_accuracy: 0.6659118290522464\n",
      "    val_precision  : 0.6764928247752354\n",
      "    val_recall     : 0.66875\n"
     ]
    },
    {
     "name": "stdout",
     "output_type": "stream",
     "text": [
      "Model has not improved in -------------| 204 epochs\n"
     ]
    },
    {
     "name": "stderr",
     "output_type": "stream",
     "text": [
      "Train Epoch: 229 [0/1487 (0%)] Loss: 0.090862\n",
      "Train Epoch: 229 [128/1487 (8%)] Loss: 0.141122\n",
      "Train Epoch: 229 [256/1487 (17%)] Loss: 0.107455\n",
      "Train Epoch: 229 [384/1487 (25%)] Loss: 0.055497\n",
      "Train Epoch: 229 [512/1487 (33%)] Loss: 0.147119\n",
      "Train Epoch: 229 [640/1487 (42%)] Loss: 0.092676\n",
      "Train Epoch: 229 [768/1487 (50%)] Loss: 0.123033\n",
      "Train Epoch: 229 [896/1487 (58%)] Loss: 0.099836\n",
      "Train Epoch: 229 [1024/1487 (67%)] Loss: 0.132077\n",
      "Train Epoch: 229 [1152/1487 (75%)] Loss: 0.137158\n",
      "Train Epoch: 229 [1280/1487 (83%)] Loss: 0.095907\n",
      "Train Epoch: 229 [1408/1487 (92%)] Loss: 0.136772\n",
      "    epoch          : 229\n",
      "    loss           : 0.11419835112368067\n",
      "    my_metric      : 0.95703125\n",
      "    f1             : 0.956985317041514\n",
      "    balanced_accuracy: 0.9565942845377124\n",
      "    precision      : 0.9583746806244603\n",
      "    recall         : 0.95703125\n",
      "    val_loss       : 0.7195576012134552\n",
      "    val_my_metric  : 0.7604166666666667\n",
      "    val_f1         : 0.7610456836837489\n",
      "    val_balanced_accuracy: 0.7692378241619228\n",
      "    val_precision  : 0.77525944311179\n",
      "    val_recall     : 0.7604166666666667\n"
     ]
    },
    {
     "name": "stdout",
     "output_type": "stream",
     "text": [
      "Model has not improved in -------------| 205 epochs\n"
     ]
    },
    {
     "name": "stderr",
     "output_type": "stream",
     "text": [
      "Train Epoch: 230 [0/1487 (0%)] Loss: 0.120727\n",
      "Train Epoch: 230 [128/1487 (8%)] Loss: 0.057037\n",
      "Train Epoch: 230 [256/1487 (17%)] Loss: 0.154023\n",
      "Train Epoch: 230 [384/1487 (25%)] Loss: 0.109390\n",
      "Train Epoch: 230 [512/1487 (33%)] Loss: 0.178658\n",
      "Train Epoch: 230 [640/1487 (42%)] Loss: 0.121952\n",
      "Train Epoch: 230 [768/1487 (50%)] Loss: 0.122626\n",
      "Train Epoch: 230 [896/1487 (58%)] Loss: 0.186738\n",
      "Train Epoch: 230 [1024/1487 (67%)] Loss: 0.102890\n",
      "Train Epoch: 230 [1152/1487 (75%)] Loss: 0.170179\n",
      "Train Epoch: 230 [1280/1487 (83%)] Loss: 0.111569\n",
      "Train Epoch: 230 [1408/1487 (92%)] Loss: 0.092914\n",
      "    epoch          : 230\n",
      "    loss           : 0.12582672154530883\n",
      "    my_metric      : 0.9498697916666666\n",
      "    f1             : 0.9498845450082564\n",
      "    balanced_accuracy: 0.9504996782560767\n",
      "    precision      : 0.9518440970136769\n",
      "    recall         : 0.9498697916666666\n",
      "    val_loss       : 0.8764833211898804\n",
      "    val_my_metric  : 0.7177083333333333\n",
      "    val_f1         : 0.717686388853476\n",
      "    val_balanced_accuracy: 0.711584122070448\n",
      "    val_precision  : 0.7313227340839723\n",
      "    val_recall     : 0.7177083333333333\n"
     ]
    },
    {
     "name": "stdout",
     "output_type": "stream",
     "text": [
      "Model has not improved in -------------| 206 epochs\n"
     ]
    },
    {
     "name": "stderr",
     "output_type": "stream",
     "text": [
      "Train Epoch: 231 [0/1487 (0%)] Loss: 0.107004\n",
      "Train Epoch: 231 [128/1487 (8%)] Loss: 0.052761\n",
      "Train Epoch: 231 [256/1487 (17%)] Loss: 0.076022\n",
      "Train Epoch: 231 [384/1487 (25%)] Loss: 0.071837\n",
      "Train Epoch: 231 [512/1487 (33%)] Loss: 0.155031\n",
      "Train Epoch: 231 [640/1487 (42%)] Loss: 0.260645\n",
      "Train Epoch: 231 [768/1487 (50%)] Loss: 0.114531\n",
      "Train Epoch: 231 [896/1487 (58%)] Loss: 0.112174\n",
      "Train Epoch: 231 [1024/1487 (67%)] Loss: 0.111096\n",
      "Train Epoch: 231 [1152/1487 (75%)] Loss: 0.095832\n",
      "Train Epoch: 231 [1280/1487 (83%)] Loss: 0.150965\n",
      "Train Epoch: 231 [1408/1487 (92%)] Loss: 0.064898\n",
      "    epoch          : 231\n",
      "    loss           : 0.10727691355471809\n",
      "    my_metric      : 0.9641927083333334\n",
      "    f1             : 0.9641933613482506\n",
      "    balanced_accuracy: 0.9643103982281828\n",
      "    precision      : 0.9653567518122075\n",
      "    recall         : 0.9641927083333334\n",
      "    val_loss       : 0.6951469361782074\n",
      "    val_my_metric  : 0.7395833333333333\n",
      "    val_f1         : 0.7398902220974961\n",
      "    val_balanced_accuracy: 0.7593983443717066\n",
      "    val_precision  : 0.7808409086936201\n",
      "    val_recall     : 0.7395833333333333\n"
     ]
    },
    {
     "name": "stdout",
     "output_type": "stream",
     "text": [
      "Model has not improved in -------------| 207 epochs\n"
     ]
    },
    {
     "name": "stderr",
     "output_type": "stream",
     "text": [
      "Train Epoch: 232 [0/1487 (0%)] Loss: 0.090281\n",
      "Train Epoch: 232 [128/1487 (8%)] Loss: 0.100879\n",
      "Train Epoch: 232 [256/1487 (17%)] Loss: 0.148227\n",
      "Train Epoch: 232 [384/1487 (25%)] Loss: 0.204818\n",
      "Train Epoch: 232 [512/1487 (33%)] Loss: 0.130730\n",
      "Train Epoch: 232 [640/1487 (42%)] Loss: 0.239349\n",
      "Train Epoch: 232 [768/1487 (50%)] Loss: 0.146281\n",
      "Train Epoch: 232 [896/1487 (58%)] Loss: 0.125952\n",
      "Train Epoch: 232 [1024/1487 (67%)] Loss: 0.118684\n",
      "Train Epoch: 232 [1152/1487 (75%)] Loss: 0.048792\n",
      "Train Epoch: 232 [1280/1487 (83%)] Loss: 0.081360\n",
      "Train Epoch: 232 [1408/1487 (92%)] Loss: 0.103341\n",
      "    epoch          : 232\n",
      "    loss           : 0.11357109807431698\n",
      "    my_metric      : 0.9661458333333334\n",
      "    f1             : 0.9661721854175608\n",
      "    balanced_accuracy: 0.966686964602166\n",
      "    precision      : 0.967423246240669\n",
      "    recall         : 0.9661458333333334\n",
      "    val_loss       : 0.8390886068344117\n",
      "    val_my_metric  : 0.7333333333333333\n",
      "    val_f1         : 0.7330685864079813\n",
      "    val_balanced_accuracy: 0.750181164107872\n",
      "    val_precision  : 0.7687940391673911\n",
      "    val_recall     : 0.7333333333333333\n"
     ]
    },
    {
     "name": "stdout",
     "output_type": "stream",
     "text": [
      "Model has not improved in -------------| 208 epochs\n"
     ]
    },
    {
     "name": "stderr",
     "output_type": "stream",
     "text": [
      "Train Epoch: 233 [0/1487 (0%)] Loss: 0.074990\n",
      "Train Epoch: 233 [128/1487 (8%)] Loss: 0.052848\n",
      "Train Epoch: 233 [256/1487 (17%)] Loss: 0.158375\n",
      "Train Epoch: 233 [384/1487 (25%)] Loss: 0.065196\n",
      "Train Epoch: 233 [512/1487 (33%)] Loss: 0.107751\n",
      "Train Epoch: 233 [640/1487 (42%)] Loss: 0.091403\n",
      "Train Epoch: 233 [768/1487 (50%)] Loss: 0.161221\n",
      "Train Epoch: 233 [896/1487 (58%)] Loss: 0.104071\n",
      "Train Epoch: 233 [1024/1487 (67%)] Loss: 0.154203\n",
      "Train Epoch: 233 [1152/1487 (75%)] Loss: 0.142558\n",
      "Train Epoch: 233 [1280/1487 (83%)] Loss: 0.103023\n",
      "Train Epoch: 233 [1408/1487 (92%)] Loss: 0.218244\n",
      "    epoch          : 233\n",
      "    loss           : 0.11987836938351393\n",
      "    my_metric      : 0.9594618055555556\n",
      "    f1             : 0.9595496991067588\n",
      "    balanced_accuracy: 0.9606209856398498\n",
      "    precision      : 0.9607293711133299\n",
      "    recall         : 0.9594618055555556\n",
      "    val_loss       : 0.7145628109574318\n",
      "    val_my_metric  : 0.765625\n",
      "    val_f1         : 0.7653584409383993\n",
      "    val_balanced_accuracy: 0.7661088085344203\n",
      "    val_precision  : 0.7698924731182796\n",
      "    val_recall     : 0.765625\n"
     ]
    },
    {
     "name": "stdout",
     "output_type": "stream",
     "text": [
      "Model has not improved in -------------| 209 epochs\n"
     ]
    },
    {
     "name": "stderr",
     "output_type": "stream",
     "text": [
      "Train Epoch: 234 [0/1487 (0%)] Loss: 0.070207\n",
      "Train Epoch: 234 [128/1487 (8%)] Loss: 0.126318\n",
      "Train Epoch: 234 [256/1487 (17%)] Loss: 0.065437\n",
      "Train Epoch: 234 [384/1487 (25%)] Loss: 0.076372\n",
      "Train Epoch: 234 [512/1487 (33%)] Loss: 0.081798\n",
      "Train Epoch: 234 [640/1487 (42%)] Loss: 0.155125\n",
      "Train Epoch: 234 [768/1487 (50%)] Loss: 0.091676\n",
      "Train Epoch: 234 [896/1487 (58%)] Loss: 0.136256\n",
      "Train Epoch: 234 [1024/1487 (67%)] Loss: 0.100912\n",
      "Train Epoch: 234 [1152/1487 (75%)] Loss: 0.077211\n",
      "Train Epoch: 234 [1280/1487 (83%)] Loss: 0.124621\n",
      "Train Epoch: 234 [1408/1487 (92%)] Loss: 0.145319\n",
      "    epoch          : 234\n",
      "    loss           : 0.10671763774007559\n",
      "    my_metric      : 0.9614149305555556\n",
      "    f1             : 0.9613715695846334\n",
      "    balanced_accuracy: 0.9617333245935257\n",
      "    precision      : 0.9640035889799082\n",
      "    recall         : 0.9614149305555556\n",
      "    val_loss       : 0.7986721754074096\n",
      "    val_my_metric  : 0.7458333333333333\n",
      "    val_f1         : 0.7455563856142113\n",
      "    val_balanced_accuracy: 0.762189063308608\n",
      "    val_precision  : 0.7807877008531381\n",
      "    val_recall     : 0.7458333333333333\n"
     ]
    },
    {
     "name": "stdout",
     "output_type": "stream",
     "text": [
      "Model has not improved in -------------| 210 epochs\n"
     ]
    },
    {
     "name": "stderr",
     "output_type": "stream",
     "text": [
      "Train Epoch: 235 [0/1487 (0%)] Loss: 0.087357\n",
      "Train Epoch: 235 [128/1487 (8%)] Loss: 0.133214\n",
      "Train Epoch: 235 [256/1487 (17%)] Loss: 0.112349\n",
      "Train Epoch: 235 [384/1487 (25%)] Loss: 0.070547\n",
      "Train Epoch: 235 [512/1487 (33%)] Loss: 0.061699\n",
      "Train Epoch: 235 [640/1487 (42%)] Loss: 0.122728\n",
      "Train Epoch: 235 [768/1487 (50%)] Loss: 0.106840\n",
      "Train Epoch: 235 [896/1487 (58%)] Loss: 0.107203\n",
      "Train Epoch: 235 [1024/1487 (67%)] Loss: 0.116525\n",
      "Train Epoch: 235 [1152/1487 (75%)] Loss: 0.085080\n",
      "Train Epoch: 235 [1280/1487 (83%)] Loss: 0.099683\n",
      "Train Epoch: 235 [1408/1487 (92%)] Loss: 0.136508\n",
      "    epoch          : 235\n",
      "    loss           : 0.11164005271469553\n",
      "    my_metric      : 0.9579861111111111\n",
      "    f1             : 0.9579869481068015\n",
      "    balanced_accuracy: 0.9577970189142845\n",
      "    precision      : 0.9587360243603098\n",
      "    recall         : 0.9579861111111111\n",
      "    val_loss       : 0.7662803411483765\n",
      "    val_my_metric  : 0.7333333333333333\n",
      "    val_f1         : 0.7332542151726276\n",
      "    val_balanced_accuracy: 0.7495556079225434\n",
      "    val_precision  : 0.7678307475849577\n",
      "    val_recall     : 0.7333333333333333\n"
     ]
    },
    {
     "name": "stdout",
     "output_type": "stream",
     "text": [
      "Model has not improved in -------------| 211 epochs\n"
     ]
    },
    {
     "name": "stderr",
     "output_type": "stream",
     "text": [
      "Train Epoch: 236 [0/1487 (0%)] Loss: 0.115948\n",
      "Train Epoch: 236 [128/1487 (8%)] Loss: 0.106592\n",
      "Train Epoch: 236 [256/1487 (17%)] Loss: 0.170362\n",
      "Train Epoch: 236 [384/1487 (25%)] Loss: 0.189339\n",
      "Train Epoch: 236 [512/1487 (33%)] Loss: 0.184053\n",
      "Train Epoch: 236 [640/1487 (42%)] Loss: 0.185046\n",
      "Train Epoch: 236 [768/1487 (50%)] Loss: 0.077709\n",
      "Train Epoch: 236 [896/1487 (58%)] Loss: 0.137948\n",
      "Train Epoch: 236 [1024/1487 (67%)] Loss: 0.118304\n",
      "Train Epoch: 236 [1152/1487 (75%)] Loss: 0.106465\n",
      "Train Epoch: 236 [1280/1487 (83%)] Loss: 0.154239\n",
      "Train Epoch: 236 [1408/1487 (92%)] Loss: 0.068457\n",
      "    epoch          : 236\n",
      "    loss           : 0.13594401627779007\n",
      "    my_metric      : 0.9511284722222223\n",
      "    f1             : 0.9514973868391366\n",
      "    balanced_accuracy: 0.9533574711305306\n",
      "    precision      : 0.9548073270209523\n",
      "    recall         : 0.9511284722222223\n",
      "    val_loss       : 1.2145026087760926\n",
      "    val_my_metric  : 0.6083333333333333\n",
      "    val_f1         : 0.5927038865646843\n",
      "    val_balanced_accuracy: 0.6229405020784331\n",
      "    val_precision  : 0.5938447580147361\n",
      "    val_recall     : 0.6083333333333333\n"
     ]
    },
    {
     "name": "stdout",
     "output_type": "stream",
     "text": [
      "Model has not improved in -------------| 212 epochs\n"
     ]
    },
    {
     "name": "stderr",
     "output_type": "stream",
     "text": [
      "Train Epoch: 237 [0/1487 (0%)] Loss: 0.109924\n",
      "Train Epoch: 237 [128/1487 (8%)] Loss: 0.077882\n",
      "Train Epoch: 237 [256/1487 (17%)] Loss: 0.201743\n",
      "Train Epoch: 237 [384/1487 (25%)] Loss: 0.107573\n",
      "Train Epoch: 237 [512/1487 (33%)] Loss: 0.121384\n",
      "Train Epoch: 237 [640/1487 (42%)] Loss: 0.108116\n",
      "Train Epoch: 237 [768/1487 (50%)] Loss: 0.091255\n",
      "Train Epoch: 237 [896/1487 (58%)] Loss: 0.071388\n",
      "Train Epoch: 237 [1024/1487 (67%)] Loss: 0.210354\n",
      "Train Epoch: 237 [1152/1487 (75%)] Loss: 0.082197\n",
      "Train Epoch: 237 [1280/1487 (83%)] Loss: 0.106782\n",
      "Train Epoch: 237 [1408/1487 (92%)] Loss: 0.091543\n",
      "    epoch          : 237\n",
      "    loss           : 0.11700838571414351\n",
      "    my_metric      : 0.95703125\n",
      "    f1             : 0.9571382386740854\n",
      "    balanced_accuracy: 0.9586560980733089\n",
      "    precision      : 0.9590038501434307\n",
      "    recall         : 0.95703125\n",
      "    val_loss       : 1.0144524931907655\n",
      "    val_my_metric  : 0.7208333333333333\n",
      "    val_f1         : 0.7470009226131967\n",
      "    val_balanced_accuracy: 0.7177067838629705\n",
      "    val_precision  : 0.7883679329774407\n",
      "    val_recall     : 0.7208333333333333\n"
     ]
    },
    {
     "name": "stdout",
     "output_type": "stream",
     "text": [
      "Model has not improved in -------------| 213 epochs\n"
     ]
    },
    {
     "name": "stderr",
     "output_type": "stream",
     "text": [
      "Train Epoch: 238 [0/1487 (0%)] Loss: 0.124823\n",
      "Train Epoch: 238 [128/1487 (8%)] Loss: 0.116793\n",
      "Train Epoch: 238 [256/1487 (17%)] Loss: 0.120588\n",
      "Train Epoch: 238 [384/1487 (25%)] Loss: 0.092423\n",
      "Train Epoch: 238 [512/1487 (33%)] Loss: 0.076796\n",
      "Train Epoch: 238 [640/1487 (42%)] Loss: 0.128841\n",
      "Train Epoch: 238 [768/1487 (50%)] Loss: 0.182704\n",
      "Train Epoch: 238 [896/1487 (58%)] Loss: 0.248944\n",
      "Train Epoch: 238 [1024/1487 (67%)] Loss: 0.072971\n",
      "Train Epoch: 238 [1152/1487 (75%)] Loss: 0.085243\n",
      "Train Epoch: 238 [1280/1487 (83%)] Loss: 0.072210\n",
      "Train Epoch: 238 [1408/1487 (92%)] Loss: 0.145951\n",
      "    epoch          : 238\n",
      "    loss           : 0.12803302519023418\n",
      "    my_metric      : 0.9540798611111111\n",
      "    f1             : 0.954163513534329\n",
      "    balanced_accuracy: 0.9554805426527682\n",
      "    precision      : 0.955640382867653\n",
      "    recall         : 0.9540798611111111\n",
      "    val_loss       : 0.6853578209877014\n",
      "    val_my_metric  : 0.7729166666666667\n",
      "    val_f1         : 0.7740189430525927\n",
      "    val_balanced_accuracy: 0.7817016246451731\n",
      "    val_precision  : 0.7880918406498901\n",
      "    val_recall     : 0.7729166666666667\n"
     ]
    },
    {
     "name": "stdout",
     "output_type": "stream",
     "text": [
      "Model has not improved in -------------| 214 epochs\n"
     ]
    },
    {
     "name": "stderr",
     "output_type": "stream",
     "text": [
      "Train Epoch: 239 [0/1487 (0%)] Loss: 0.112308\n",
      "Train Epoch: 239 [128/1487 (8%)] Loss: 0.171898\n",
      "Train Epoch: 239 [256/1487 (17%)] Loss: 0.081601\n",
      "Train Epoch: 239 [384/1487 (25%)] Loss: 0.162679\n",
      "Train Epoch: 239 [512/1487 (33%)] Loss: 0.120699\n",
      "Train Epoch: 239 [640/1487 (42%)] Loss: 0.169698\n",
      "Train Epoch: 239 [768/1487 (50%)] Loss: 0.072636\n",
      "Train Epoch: 239 [896/1487 (58%)] Loss: 0.080832\n",
      "Train Epoch: 239 [1024/1487 (67%)] Loss: 0.081244\n",
      "Train Epoch: 239 [1152/1487 (75%)] Loss: 0.131236\n",
      "Train Epoch: 239 [1280/1487 (83%)] Loss: 0.143396\n",
      "Train Epoch: 239 [1408/1487 (92%)] Loss: 0.080274\n",
      "    epoch          : 239\n",
      "    loss           : 0.11997384764254093\n",
      "    my_metric      : 0.9563802083333334\n",
      "    f1             : 0.9564829645044622\n",
      "    balanced_accuracy: 0.9577356553732058\n",
      "    precision      : 0.9577586737614044\n",
      "    recall         : 0.9563802083333334\n",
      "    val_loss       : 0.6959051847457886\n",
      "    val_my_metric  : 0.78125\n",
      "    val_f1         : 0.7809567638266035\n",
      "    val_balanced_accuracy: 0.7813486948080941\n",
      "    val_precision  : 0.784278095536213\n",
      "    val_recall     : 0.78125\n"
     ]
    },
    {
     "name": "stdout",
     "output_type": "stream",
     "text": [
      "Model has not improved in -------------| 215 epochs\n"
     ]
    },
    {
     "name": "stderr",
     "output_type": "stream",
     "text": [
      "Train Epoch: 240 [0/1487 (0%)] Loss: 0.177125\n",
      "Train Epoch: 240 [128/1487 (8%)] Loss: 0.136281\n",
      "Train Epoch: 240 [256/1487 (17%)] Loss: 0.100187\n",
      "Train Epoch: 240 [384/1487 (25%)] Loss: 0.071299\n",
      "Train Epoch: 240 [512/1487 (33%)] Loss: 0.133192\n",
      "Train Epoch: 240 [640/1487 (42%)] Loss: 0.092309\n",
      "Train Epoch: 240 [768/1487 (50%)] Loss: 0.072228\n",
      "Train Epoch: 240 [896/1487 (58%)] Loss: 0.102397\n",
      "Train Epoch: 240 [1024/1487 (67%)] Loss: 0.060946\n",
      "Train Epoch: 240 [1152/1487 (75%)] Loss: 0.079383\n",
      "Train Epoch: 240 [1280/1487 (83%)] Loss: 0.149103\n",
      "Train Epoch: 240 [1408/1487 (92%)] Loss: 0.063403\n",
      "    epoch          : 240\n",
      "    loss           : 0.10009582495937745\n",
      "    my_metric      : 0.9698784722222222\n",
      "    f1             : 0.9698820800586302\n",
      "    balanced_accuracy: 0.970167988247157\n",
      "    precision      : 0.9711016306876773\n",
      "    recall         : 0.9698784722222222\n",
      "    val_loss       : 1.0299340963363648\n",
      "    val_my_metric  : 0.70625\n",
      "    val_f1         : 0.7027964116681156\n",
      "    val_balanced_accuracy: 0.7047351147456656\n",
      "    val_precision  : 0.7077671421421421\n",
      "    val_recall     : 0.70625\n"
     ]
    },
    {
     "name": "stdout",
     "output_type": "stream",
     "text": [
      "Model has not improved in -------------| 216 epochs\n"
     ]
    },
    {
     "name": "stderr",
     "output_type": "stream",
     "text": [
      "Train Epoch: 241 [0/1487 (0%)] Loss: 0.137859\n",
      "Train Epoch: 241 [128/1487 (8%)] Loss: 0.083352\n",
      "Train Epoch: 241 [256/1487 (17%)] Loss: 0.087171\n",
      "Train Epoch: 241 [384/1487 (25%)] Loss: 0.069733\n",
      "Train Epoch: 241 [512/1487 (33%)] Loss: 0.051755\n",
      "Train Epoch: 241 [640/1487 (42%)] Loss: 0.154040\n",
      "Train Epoch: 241 [768/1487 (50%)] Loss: 0.117174\n",
      "Train Epoch: 241 [896/1487 (58%)] Loss: 0.146258\n",
      "Train Epoch: 241 [1024/1487 (67%)] Loss: 0.070253\n",
      "Train Epoch: 241 [1152/1487 (75%)] Loss: 0.185188\n",
      "Train Epoch: 241 [1280/1487 (83%)] Loss: 0.077699\n",
      "Train Epoch: 241 [1408/1487 (92%)] Loss: 0.139757\n",
      "    epoch          : 241\n",
      "    loss           : 0.11668101232498884\n",
      "    my_metric      : 0.9622395833333334\n",
      "    f1             : 0.9622472735837772\n",
      "    balanced_accuracy: 0.962225466257637\n",
      "    precision      : 0.9632795648733299\n",
      "    recall         : 0.9622395833333334\n",
      "    val_loss       : 0.8591927528381348\n",
      "    val_my_metric  : 0.7239583333333333\n",
      "    val_f1         : 0.7237430285295561\n",
      "    val_balanced_accuracy: 0.7157967123799667\n",
      "    val_precision  : 0.7249900175429409\n",
      "    val_recall     : 0.7239583333333333\n"
     ]
    },
    {
     "name": "stdout",
     "output_type": "stream",
     "text": [
      "Model has not improved in -------------| 217 epochs\n"
     ]
    },
    {
     "name": "stderr",
     "output_type": "stream",
     "text": [
      "Train Epoch: 242 [0/1487 (0%)] Loss: 0.159465\n",
      "Train Epoch: 242 [128/1487 (8%)] Loss: 0.159337\n",
      "Train Epoch: 242 [256/1487 (17%)] Loss: 0.120998\n",
      "Train Epoch: 242 [384/1487 (25%)] Loss: 0.109579\n",
      "Train Epoch: 242 [512/1487 (33%)] Loss: 0.133898\n",
      "Train Epoch: 242 [640/1487 (42%)] Loss: 0.064859\n",
      "Train Epoch: 242 [768/1487 (50%)] Loss: 0.117793\n",
      "Train Epoch: 242 [896/1487 (58%)] Loss: 0.116531\n",
      "Train Epoch: 242 [1024/1487 (67%)] Loss: 0.115349\n",
      "Train Epoch: 242 [1152/1487 (75%)] Loss: 0.064111\n",
      "Train Epoch: 242 [1280/1487 (83%)] Loss: 0.121005\n",
      "Train Epoch: 242 [1408/1487 (92%)] Loss: 0.095352\n",
      "    epoch          : 242\n",
      "    loss           : 0.11763062312578161\n",
      "    my_metric      : 0.9581597222222222\n",
      "    f1             : 0.9581492771022314\n",
      "    balanced_accuracy: 0.9585547771604753\n",
      "    precision      : 0.9600765340005145\n",
      "    recall         : 0.9581597222222222\n",
      "    val_loss       : 0.7355683743953705\n",
      "    val_my_metric  : 0.78125\n",
      "    val_f1         : 0.780903026696367\n",
      "    val_balanced_accuracy: 0.7846568914956012\n",
      "    val_precision  : 0.7957945103936801\n",
      "    val_recall     : 0.78125\n"
     ]
    },
    {
     "name": "stdout",
     "output_type": "stream",
     "text": [
      "Model has not improved in -------------| 218 epochs\n"
     ]
    },
    {
     "name": "stderr",
     "output_type": "stream",
     "text": [
      "Train Epoch: 243 [0/1487 (0%)] Loss: 0.172499\n",
      "Train Epoch: 243 [128/1487 (8%)] Loss: 0.181012\n",
      "Train Epoch: 243 [256/1487 (17%)] Loss: 0.093200\n",
      "Train Epoch: 243 [384/1487 (25%)] Loss: 0.074679\n",
      "Train Epoch: 243 [512/1487 (33%)] Loss: 0.034465\n",
      "Train Epoch: 243 [640/1487 (42%)] Loss: 0.089154\n",
      "Train Epoch: 243 [768/1487 (50%)] Loss: 0.104431\n",
      "Train Epoch: 243 [896/1487 (58%)] Loss: 0.109692\n",
      "Train Epoch: 243 [1024/1487 (67%)] Loss: 0.168081\n",
      "Train Epoch: 243 [1152/1487 (75%)] Loss: 0.090451\n",
      "Train Epoch: 243 [1280/1487 (83%)] Loss: 0.139108\n",
      "Train Epoch: 243 [1408/1487 (92%)] Loss: 0.071037\n",
      "    epoch          : 243\n",
      "    loss           : 0.10404102519775431\n",
      "    my_metric      : 0.96484375\n",
      "    f1             : 0.9648165475066183\n",
      "    balanced_accuracy: 0.9646419691711943\n",
      "    precision      : 0.9658142392976048\n",
      "    recall         : 0.96484375\n",
      "    val_loss       : 0.7083856463432312\n",
      "    val_my_metric  : 0.7479166666666667\n",
      "    val_f1         : 0.7463853288177427\n",
      "    val_balanced_accuracy: 0.7473994832358958\n",
      "    val_precision  : 0.7607225181232667\n",
      "    val_recall     : 0.7479166666666667\n"
     ]
    },
    {
     "name": "stdout",
     "output_type": "stream",
     "text": [
      "Model has not improved in -------------| 219 epochs\n"
     ]
    },
    {
     "name": "stderr",
     "output_type": "stream",
     "text": [
      "Train Epoch: 244 [0/1487 (0%)] Loss: 0.092190\n",
      "Train Epoch: 244 [128/1487 (8%)] Loss: 0.129757\n",
      "Train Epoch: 244 [256/1487 (17%)] Loss: 0.114341\n",
      "Train Epoch: 244 [384/1487 (25%)] Loss: 0.134564\n",
      "Train Epoch: 244 [512/1487 (33%)] Loss: 0.104377\n",
      "Train Epoch: 244 [640/1487 (42%)] Loss: 0.111278\n",
      "Train Epoch: 244 [768/1487 (50%)] Loss: 0.081230\n",
      "Train Epoch: 244 [896/1487 (58%)] Loss: 0.075341\n",
      "Train Epoch: 244 [1024/1487 (67%)] Loss: 0.114865\n",
      "Train Epoch: 244 [1152/1487 (75%)] Loss: 0.110772\n",
      "Train Epoch: 244 [1280/1487 (83%)] Loss: 0.147168\n",
      "Train Epoch: 244 [1408/1487 (92%)] Loss: 0.098378\n",
      "    epoch          : 244\n",
      "    loss           : 0.10608082947631677\n",
      "    my_metric      : 0.966796875\n",
      "    f1             : 0.9668094958806477\n",
      "    balanced_accuracy: 0.9673284679726256\n",
      "    precision      : 0.9681207252816607\n",
      "    recall         : 0.966796875\n",
      "    val_loss       : 0.7742073357105255\n",
      "    val_my_metric  : 0.7291666666666667\n",
      "    val_f1         : 0.7274695275988379\n",
      "    val_balanced_accuracy: 0.7273839356597976\n",
      "    val_precision  : 0.7417139201721745\n",
      "    val_recall     : 0.7291666666666667\n"
     ]
    },
    {
     "name": "stdout",
     "output_type": "stream",
     "text": [
      "Model has not improved in -------------| 220 epochs\n"
     ]
    },
    {
     "name": "stderr",
     "output_type": "stream",
     "text": [
      "Train Epoch: 245 [0/1487 (0%)] Loss: 0.044696\n",
      "Train Epoch: 245 [128/1487 (8%)] Loss: 0.129277\n",
      "Train Epoch: 245 [256/1487 (17%)] Loss: 0.094053\n",
      "Train Epoch: 245 [384/1487 (25%)] Loss: 0.085382\n",
      "Train Epoch: 245 [512/1487 (33%)] Loss: 0.184551\n",
      "Train Epoch: 245 [640/1487 (42%)] Loss: 0.116423\n",
      "Train Epoch: 245 [768/1487 (50%)] Loss: 0.119758\n",
      "Train Epoch: 245 [896/1487 (58%)] Loss: 0.116414\n",
      "Train Epoch: 245 [1024/1487 (67%)] Loss: 0.088334\n",
      "Train Epoch: 245 [1152/1487 (75%)] Loss: 0.069482\n",
      "Train Epoch: 245 [1280/1487 (83%)] Loss: 0.056695\n",
      "Train Epoch: 245 [1408/1487 (92%)] Loss: 0.099776\n",
      "    epoch          : 245\n",
      "    loss           : 0.10687011076758306\n",
      "    my_metric      : 0.9666232638888889\n",
      "    f1             : 0.9666612915342562\n",
      "    balanced_accuracy: 0.9679690980757473\n",
      "    precision      : 0.9690065818840442\n",
      "    recall         : 0.9666232638888889\n",
      "    val_loss       : 0.6186469435691834\n",
      "    val_my_metric  : 0.7572916666666667\n",
      "    val_f1         : 0.7575558017339853\n",
      "    val_balanced_accuracy: 0.7600525603428829\n",
      "    val_precision  : 0.7704185739978116\n",
      "    val_recall     : 0.7572916666666667\n"
     ]
    },
    {
     "name": "stdout",
     "output_type": "stream",
     "text": [
      "Model has not improved in -------------| 221 epochs\n"
     ]
    },
    {
     "name": "stderr",
     "output_type": "stream",
     "text": [
      "Train Epoch: 246 [0/1487 (0%)] Loss: 0.155351\n",
      "Train Epoch: 246 [128/1487 (8%)] Loss: 0.060379\n",
      "Train Epoch: 246 [256/1487 (17%)] Loss: 0.097875\n",
      "Train Epoch: 246 [384/1487 (25%)] Loss: 0.153365\n",
      "Train Epoch: 246 [512/1487 (33%)] Loss: 0.148120\n",
      "Train Epoch: 246 [640/1487 (42%)] Loss: 0.150314\n",
      "Train Epoch: 246 [768/1487 (50%)] Loss: 0.062908\n",
      "Train Epoch: 246 [896/1487 (58%)] Loss: 0.080009\n",
      "Train Epoch: 246 [1024/1487 (67%)] Loss: 0.102773\n",
      "Train Epoch: 246 [1152/1487 (75%)] Loss: 0.104619\n",
      "Train Epoch: 246 [1280/1487 (83%)] Loss: 0.078127\n",
      "Train Epoch: 246 [1408/1487 (92%)] Loss: 0.065353\n",
      "    epoch          : 246\n",
      "    loss           : 0.10456314341475566\n",
      "    my_metric      : 0.9641927083333334\n",
      "    f1             : 0.9641907487336511\n",
      "    balanced_accuracy: 0.9647295489679596\n",
      "    precision      : 0.9655700086555896\n",
      "    recall         : 0.9641927083333334\n",
      "    val_loss       : 0.6767344295978546\n",
      "    val_my_metric  : 0.7479166666666667\n",
      "    val_f1         : 0.7461109284562633\n",
      "    val_balanced_accuracy: 0.7488861336323385\n",
      "    val_precision  : 0.7603123959267515\n",
      "    val_recall     : 0.7479166666666667\n"
     ]
    },
    {
     "name": "stdout",
     "output_type": "stream",
     "text": [
      "Model has not improved in -------------| 222 epochs\n"
     ]
    },
    {
     "name": "stderr",
     "output_type": "stream",
     "text": [
      "Train Epoch: 247 [0/1487 (0%)] Loss: 0.114075\n",
      "Train Epoch: 247 [128/1487 (8%)] Loss: 0.131207\n",
      "Train Epoch: 247 [256/1487 (17%)] Loss: 0.158582\n",
      "Train Epoch: 247 [384/1487 (25%)] Loss: 0.095993\n",
      "Train Epoch: 247 [512/1487 (33%)] Loss: 0.066529\n",
      "Train Epoch: 247 [640/1487 (42%)] Loss: 0.128329\n",
      "Train Epoch: 247 [768/1487 (50%)] Loss: 0.181597\n"
     ]
    },
    {
     "ename": "KeyboardInterrupt",
     "evalue": "",
     "output_type": "error",
     "traceback": [
      "\u001b[0;31m---------------------------------------------------------------------------\u001b[0m",
      "\u001b[0;31mKeyboardInterrupt\u001b[0m                         Traceback (most recent call last)",
      "\u001b[0;32m<ipython-input-5-f5cf6c1f3297>\u001b[0m in \u001b[0;36m<module>\u001b[0;34m\u001b[0m\n\u001b[1;32m      1\u001b[0m \u001b[0;31m#Train the network\u001b[0m\u001b[0;34m\u001b[0m\u001b[0;34m\u001b[0m\u001b[0;34m\u001b[0m\u001b[0m\n\u001b[0;32m----> 2\u001b[0;31m \u001b[0mmain\u001b[0m\u001b[0;34m(\u001b[0m\u001b[0mconfig\u001b[0m\u001b[0;34m,\u001b[0m \u001b[0;32mNone\u001b[0m\u001b[0;34m)\u001b[0m\u001b[0;34m\u001b[0m\u001b[0;34m\u001b[0m\u001b[0m\n\u001b[0m",
      "\u001b[0;32m<ipython-input-3-34450b768ee0>\u001b[0m in \u001b[0;36mmain\u001b[0;34m(config, resume)\u001b[0m\n\u001b[1;32m     60\u001b[0m         \u001b[0;31m# trim the first 10 and last 5 iteration from calculating loss (num_iter > skip_start + skip_end)\u001b[0m\u001b[0;34m\u001b[0m\u001b[0;34m\u001b[0m\u001b[0;34m\u001b[0m\u001b[0m\n\u001b[1;32m     61\u001b[0m     \u001b[0;32melse\u001b[0m\u001b[0;34m:\u001b[0m\u001b[0;34m\u001b[0m\u001b[0;34m\u001b[0m\u001b[0m\n\u001b[0;32m---> 62\u001b[0;31m         \u001b[0mtrainer\u001b[0m\u001b[0;34m.\u001b[0m\u001b[0mtrain\u001b[0m\u001b[0;34m(\u001b[0m\u001b[0;34m)\u001b[0m\u001b[0;34m\u001b[0m\u001b[0;34m\u001b[0m\u001b[0m\n\u001b[0m\u001b[1;32m     63\u001b[0m         \u001b[0ma\u001b[0m\u001b[0;34m=\u001b[0m\u001b[0;36m1\u001b[0m\u001b[0;34m\u001b[0m\u001b[0;34m\u001b[0m\u001b[0m\n\u001b[1;32m     64\u001b[0m \u001b[0;34m\u001b[0m\u001b[0m\n",
      "\u001b[0;32m~/IUSM/CellTemplate/base/base_trainer.py\u001b[0m in \u001b[0;36mtrain\u001b[0;34m(self)\u001b[0m\n\u001b[1;32m     85\u001b[0m         \"\"\"\n\u001b[1;32m     86\u001b[0m         \u001b[0;32mfor\u001b[0m \u001b[0mepoch\u001b[0m \u001b[0;32min\u001b[0m \u001b[0mrange\u001b[0m\u001b[0;34m(\u001b[0m\u001b[0mself\u001b[0m\u001b[0;34m.\u001b[0m\u001b[0mstart_epoch\u001b[0m\u001b[0;34m,\u001b[0m \u001b[0mself\u001b[0m\u001b[0;34m.\u001b[0m\u001b[0mepochs\u001b[0m \u001b[0;34m+\u001b[0m \u001b[0;36m1\u001b[0m\u001b[0;34m)\u001b[0m\u001b[0;34m:\u001b[0m\u001b[0;34m\u001b[0m\u001b[0;34m\u001b[0m\u001b[0m\n\u001b[0;32m---> 87\u001b[0;31m             \u001b[0mresult\u001b[0m \u001b[0;34m=\u001b[0m \u001b[0mself\u001b[0m\u001b[0;34m.\u001b[0m\u001b[0m_train_epoch\u001b[0m\u001b[0;34m(\u001b[0m\u001b[0mepoch\u001b[0m\u001b[0;34m)\u001b[0m\u001b[0;34m\u001b[0m\u001b[0;34m\u001b[0m\u001b[0m\n\u001b[0m\u001b[1;32m     88\u001b[0m \u001b[0;34m\u001b[0m\u001b[0m\n\u001b[1;32m     89\u001b[0m             \u001b[0;31m# save logged informations into log dict\u001b[0m\u001b[0;34m\u001b[0m\u001b[0;34m\u001b[0m\u001b[0;34m\u001b[0m\u001b[0m\n",
      "\u001b[0;32m~/IUSM/CellTemplate/trainer/trainer.py\u001b[0m in \u001b[0;36m_train_epoch\u001b[0;34m(self, epoch)\u001b[0m\n\u001b[1;32m     73\u001b[0m                     loss.item()))\n\u001b[1;32m     74\u001b[0m                 \u001b[0;32mif\u001b[0m \u001b[0mlen\u001b[0m\u001b[0;34m(\u001b[0m\u001b[0mdata\u001b[0m\u001b[0;34m.\u001b[0m\u001b[0mcpu\u001b[0m\u001b[0;34m(\u001b[0m\u001b[0;34m)\u001b[0m\u001b[0;34m.\u001b[0m\u001b[0mshape\u001b[0m\u001b[0;34m)\u001b[0m \u001b[0;34m<\u001b[0m \u001b[0;36m5\u001b[0m\u001b[0;34m:\u001b[0m \u001b[0;31m#ignore for 3d input\u001b[0m\u001b[0;34m\u001b[0m\u001b[0;34m\u001b[0m\u001b[0m\n\u001b[0;32m---> 75\u001b[0;31m                     \u001b[0mself\u001b[0m\u001b[0;34m.\u001b[0m\u001b[0mwriter\u001b[0m\u001b[0;34m.\u001b[0m\u001b[0madd_image\u001b[0m\u001b[0;34m(\u001b[0m\u001b[0;34m'input'\u001b[0m\u001b[0;34m,\u001b[0m \u001b[0mmake_grid\u001b[0m\u001b[0;34m(\u001b[0m\u001b[0mdata\u001b[0m\u001b[0;34m.\u001b[0m\u001b[0mcpu\u001b[0m\u001b[0;34m(\u001b[0m\u001b[0;34m)\u001b[0m\u001b[0;34m,\u001b[0m \u001b[0mnrow\u001b[0m\u001b[0;34m=\u001b[0m\u001b[0;36m8\u001b[0m\u001b[0;34m,\u001b[0m \u001b[0mnormalize\u001b[0m\u001b[0;34m=\u001b[0m\u001b[0;32mTrue\u001b[0m\u001b[0;34m)\u001b[0m\u001b[0;34m)\u001b[0m\u001b[0;34m\u001b[0m\u001b[0;34m\u001b[0m\u001b[0m\n\u001b[0m\u001b[1;32m     76\u001b[0m \u001b[0;34m\u001b[0m\u001b[0m\n\u001b[1;32m     77\u001b[0m         log = {\n",
      "\u001b[0;32m~/miniconda3/envs/pytorch36/lib/python3.6/site-packages/torchvision/utils.py\u001b[0m in \u001b[0;36mmake_grid\u001b[0;34m(tensor, nrow, padding, normalize, range, scale_each, pad_value)\u001b[0m\n\u001b[1;32m     46\u001b[0m \u001b[0;34m\u001b[0m\u001b[0m\n\u001b[1;32m     47\u001b[0m     \u001b[0;32mif\u001b[0m \u001b[0mnormalize\u001b[0m \u001b[0;32mis\u001b[0m \u001b[0;32mTrue\u001b[0m\u001b[0;34m:\u001b[0m\u001b[0;34m\u001b[0m\u001b[0;34m\u001b[0m\u001b[0m\n\u001b[0;32m---> 48\u001b[0;31m         \u001b[0mtensor\u001b[0m \u001b[0;34m=\u001b[0m \u001b[0mtensor\u001b[0m\u001b[0;34m.\u001b[0m\u001b[0mclone\u001b[0m\u001b[0;34m(\u001b[0m\u001b[0;34m)\u001b[0m  \u001b[0;31m# avoid modifying tensor in-place\u001b[0m\u001b[0;34m\u001b[0m\u001b[0;34m\u001b[0m\u001b[0m\n\u001b[0m\u001b[1;32m     49\u001b[0m         \u001b[0;32mif\u001b[0m \u001b[0mrange\u001b[0m \u001b[0;32mis\u001b[0m \u001b[0;32mnot\u001b[0m \u001b[0;32mNone\u001b[0m\u001b[0;34m:\u001b[0m\u001b[0;34m\u001b[0m\u001b[0;34m\u001b[0m\u001b[0m\n\u001b[1;32m     50\u001b[0m             \u001b[0;32massert\u001b[0m \u001b[0misinstance\u001b[0m\u001b[0;34m(\u001b[0m\u001b[0mrange\u001b[0m\u001b[0;34m,\u001b[0m \u001b[0mtuple\u001b[0m\u001b[0;34m)\u001b[0m\u001b[0;34m,\u001b[0m\u001b[0;31m \u001b[0m\u001b[0;31m\\\u001b[0m\u001b[0;34m\u001b[0m\u001b[0;34m\u001b[0m\u001b[0m\n",
      "\u001b[0;31mKeyboardInterrupt\u001b[0m: "
     ]
    },
    {
     "data": {
      "image/png": "[encoded data removed]",
      "text/plain": [
       "<Figure size 2880x2880 with 64 Axes>"
      ]
     },
     "metadata": {
      "needs_background": "light"
     },
     "output_type": "display_data"
    }
   ],
   "source": [
    "#Train the network\n",
    "main(config, None)"
   ]
  },
  {
   "cell_type": "code",
   "execution_count": 6,
   "metadata": {},
   "outputs": [
    {
     "name": "stdout",
     "output_type": "stream",
     "text": [
      "skipped file: config.json\n"
     ]
    },
    {
     "data": {
      "image/png": "[encoded data removed]",
      "text/plain": [
       "<Figure size 432x288 with 1 Axes>"
      ]
     },
     "metadata": {
      "needs_background": "light"
     },
     "output_type": "display_data"
    },
    {
     "data": {
      "image/png": "[encoded data removed]",
      "text/plain": [
       "<Figure size 432x288 with 1 Axes>"
      ]
     },
     "metadata": {
      "needs_background": "light"
     },
     "output_type": "display_data"
    },
    {
     "name": "stdout",
     "output_type": "stream",
     "text": [
      "done\n"
     ]
    }
   ],
   "source": [
    "saved_dir = 'saved/GroundTruth_smallDataset/0618_201333'\n",
    "config_saved_filename = os.path.join(saved_dir, \"config.json\")\n",
    "#os.system('tensorboard --logdir ' + log_dir) cannot use with google VM without paying $$$\n",
    "viewTraining.graphLoss(saved_dir, best=False) #imported from utils\n",
    "\n",
    "print('done')"
   ]
  },
  {
   "cell_type": "code",
   "execution_count": 12,
   "metadata": {},
   "outputs": [],
   "source": [
    "def main2(config, resume):\n",
    "    # setup data_loader instances\n",
    "    data_loader = get_instance(module_data, 'data_loader_test', config)\n",
    "    '''\n",
    "    \n",
    "    data_loader = getattr(module_data, config['data_loader']['type'])(\n",
    "        config['data_loader']['args']['data_dir'],\n",
    "        batch_size=1,\n",
    "        shuffle=False,\n",
    "        validation_split=0.0,\n",
    "        training=False,\n",
    "        num_workers=2\n",
    "    )\n",
    "    '''\n",
    "    # build model architecture\n",
    "    model = get_instance(module_arch, 'arch', config)\n",
    "    print(model)\n",
    "    print(torch.cuda.get_device_name(0))\n",
    "    normalized = False\n",
    "\n",
    "    \n",
    "    # get function handles of loss and metrics\n",
    "    loss_fn = getattr(module_loss, config['loss'])\n",
    "    criterion = loss_fn(None)\n",
    "    metric_fns = [getattr(module_metric, met) for met in config['metrics']]\n",
    "    \n",
    "    # load state dict\n",
    "    checkpoint = torch.load(resume)\n",
    "    state_dict = checkpoint['state_dict'] #dictionary of model parameters from saved file\n",
    "    if config['n_gpu'] > 1:\n",
    "        model = torch.nn.DataParallel(model)\n",
    "    model.load_state_dict(state_dict) \n",
    "    \n",
    "    # prepare model for testing\n",
    "    device = torch.device('cuda' if torch.cuda.is_available() else 'cpu')\n",
    "    model = model.to(device)\n",
    "    model.eval() #tells model to ignore dropout and batch normalization\n",
    "    \n",
    "    total_loss = 0.0\n",
    "    total_metrics = torch.zeros(len(metric_fns))\n",
    "    \n",
    "    classes = ('endothelium', 'pct')\n",
    "    all_pred = []\n",
    "    all_true = []\n",
    "    hm_layers = {'final_layer': 'layer', 'fc_layer': 'fc_layer', 'conv_num': 17, 'fc_num': 3}\n",
    "    \n",
    "    heatmapper = classActivationMap.CAMgenerator(hm_layers, config, model)\n",
    "    heatmapper.generateImage(num_images=10)\n",
    "    \n",
    "    with torch.no_grad(): #speed up calculations, unable to perform back propogation\n",
    "        for i, (data, target) in enumerate(tqdm(data_loader)): #tqdm is a progress bar\n",
    "            data, target = data.to(device), target.to(device)\n",
    "            output = model(data)\n",
    "            image = np.squeeze(data[0].cpu().data.numpy())\n",
    "            all_true.extend(target.cpu().data.numpy())\n",
    "            all_pred.extend(np.argmax(output.cpu().data.numpy(), axis=1))\n",
    "            \n",
    "            #\n",
    "            # save sample images, or do something with output here\n",
    "            #\n",
    "            \n",
    "            \n",
    "            if i < 5:\n",
    "                util.visualizationOutGray(data, output, target, classes, normalized)\n",
    "                \n",
    "                \n",
    "                \n",
    "            # computing loss, metrics on test set\n",
    "            loss = criterion(output, target)\n",
    "            batch_size = data.shape[0]\n",
    "            total_loss += loss.item() * batch_size\n",
    "            if output.is_cuda: output = output.cpu()\n",
    "            if target.is_cuda: target = target.cpu()\n",
    "            \n",
    "            for i, metric in enumerate(metric_fns):\n",
    "                total_metrics[i] += metric(output, target) * batch_size\n",
    "        \n",
    "        #plt.show()\n",
    "        \n",
    "    \n",
    "    n_samples = len(data_loader.sampler)\n",
    "    print(\"num test images = \" + str(n_samples))\n",
    "    log = {'loss': total_loss / n_samples}\n",
    "    log.update({met.__name__: total_metrics[i].item() / n_samples for i, met in enumerate(metric_fns)})\n",
    "    for key in log:\n",
    "        print(\"{} = {:.4f}\".format(key, log[key]))\n",
    "    #print(log)\n",
    "    log['classes'] = classes\n",
    "    log['test_targets'] = all_true\n",
    "    log['test_predictions'] = all_pred\n",
    "    print(\"My_metric is accuracy\")\n",
    "    util.plot_confusion_matrix(all_true, all_pred, classes=classes, normalize=False) \n",
    "    \n"
   ]
  },
  {
   "cell_type": "code",
   "execution_count": 13,
   "metadata": {},
   "outputs": [
    {
     "name": "stdout",
     "output_type": "stream",
     "text": [
      "True\n",
      "True\n"
     ]
    }
   ],
   "source": [
    "#saved_dir = \"saved/GroundTruth_cellData/0529_191042/\"\n",
    "resume = os.path.join(saved_dir, \"model_best.pth\")\n",
    "\n",
    "print(os.path.isdir(saved_dir))\n",
    "print(os.path.exists(resume))\n",
    "\n",
    "#config = torch.load(saved_dir + \"config.json\")\n",
    "os.environ[\"CUDA_VISIBLE_DEVICES\"] = \"0,1\""
   ]
  },
  {
   "cell_type": "code",
   "execution_count": 14,
   "metadata": {},
   "outputs": [
    {
     "name": "stdout",
     "output_type": "stream",
     "text": [
      "heatmapModel64(\n",
      "  (layer): Sequential(\n",
      "    (0): Conv2d(1, 32, kernel_size=(3, 3), stride=(1, 1), padding=(1, 1))\n",
      "    (1): BatchNorm2d(32, eps=1e-05, momentum=0.1, affine=True, track_running_stats=True)\n",
      "    (2): ReLU()\n",
      "    (3): Conv2d(32, 64, kernel_size=(3, 3), stride=(1, 1), padding=(1, 1))\n",
      "    (4): BatchNorm2d(64, eps=1e-05, momentum=0.1, affine=True, track_running_stats=True)\n",
      "    (5): ReLU()\n",
      "    (6): AvgPool2d(kernel_size=2, stride=2, padding=0)\n",
      "    (7): Conv2d(64, 128, kernel_size=(3, 3), stride=(1, 1), padding=(1, 1))\n",
      "    (8): BatchNorm2d(128, eps=1e-05, momentum=0.1, affine=True, track_running_stats=True)\n",
      "    (9): ReLU()\n",
      "    (10): AvgPool2d(kernel_size=2, stride=2, padding=0)\n",
      "    (11): Conv2d(128, 256, kernel_size=(3, 3), stride=(1, 1), padding=(1, 1))\n",
      "    (12): BatchNorm2d(256, eps=1e-05, momentum=0.1, affine=True, track_running_stats=True)\n",
      "    (13): ReLU()\n",
      "    (14): AvgPool2d(kernel_size=2, stride=2, padding=0)\n",
      "    (15): Conv2d(256, 512, kernel_size=(3, 3), stride=(1, 1), padding=(1, 1))\n",
      "    (16): BatchNorm2d(512, eps=1e-05, momentum=0.1, affine=True, track_running_stats=True)\n",
      "    (17): ReLU()\n",
      "  )\n",
      "  (fc_layer): Sequential(\n",
      "    (0): Linear(in_features=32768, out_features=512, bias=True)\n",
      "    (1): ReLU()\n",
      "    (2): Dropout(p=0.5)\n",
      "    (3): Linear(in_features=512, out_features=2, bias=True)\n",
      "  )\n",
      ")\n",
      "Trainable parameters: 18348738\n",
      "Tesla K80\n"
     ]
    },
    {
     "data": {
      "application/vnd.jupyter.widget-view+json": {
       "model_id": "7aabb8bc283d4f238f14d0ac8ec64008",
       "version_major": 2,
       "version_minor": 0
      },
      "text/plain": [
       "HBox(children=(IntProgress(value=0, max=89), HTML(value='')))"
      ]
     },
     "metadata": {},
     "output_type": "display_data"
    },
    {
     "name": "stderr",
     "output_type": "stream",
     "text": [
      "/home/awoloshu/miniconda3/envs/pytorch36/lib/python3.6/site-packages/skimage/transform/_warps.py:105: UserWarning: The default mode, 'constant', will be changed to 'reflect' in skimage 0.15.\n",
      "  warn(\"The default mode, 'constant', will be changed to 'reflect' in \"\n",
      "/home/awoloshu/miniconda3/envs/pytorch36/lib/python3.6/site-packages/skimage/transform/_warps.py:110: UserWarning: Anti-aliasing will be enabled by default in skimage 0.15 to avoid aliasing artifacts when down-sampling images.\n",
      "  warn(\"Anti-aliasing will be enabled by default in skimage 0.15 to \"\n"
     ]
    },
    {
     "data": {
      "image/png": "[encoded data removed]",
      "text/plain": [
       "<Figure size 432x288 with 1 Axes>"
      ]
     },
     "metadata": {
      "needs_background": "light"
     },
     "output_type": "display_data"
    },
    {
     "data": {
      "image/png": "[encoded data removed]",
      "text/plain": [
       "<Figure size 432x288 with 1 Axes>"
      ]
     },
     "metadata": {
      "needs_background": "light"
     },
     "output_type": "display_data"
    },
    {
     "data": {
      "image/png": "[encoded data removed]",
      "text/plain": [
       "<Figure size 432x288 with 1 Axes>"
      ]
     },
     "metadata": {
      "needs_background": "light"
     },
     "output_type": "display_data"
    },
    {
     "data": {
      "image/png": "[encoded data removed]",
      "text/plain": [
       "<Figure size 432x288 with 1 Axes>"
      ]
     },
     "metadata": {
      "needs_background": "light"
     },
     "output_type": "display_data"
    },
    {
     "data": {
      "image/png": "[encoded data removed]",
      "text/plain": [
       "<Figure size 432x288 with 1 Axes>"
      ]
     },
     "metadata": {
      "needs_background": "light"
     },
     "output_type": "display_data"
    },
    {
     "data": {
      "image/png": "[encoded data removed]",
      "text/plain": [
       "<Figure size 432x288 with 1 Axes>"
      ]
     },
     "metadata": {
      "needs_background": "light"
     },
     "output_type": "display_data"
    },
    {
     "data": {
      "image/png": "[encoded data removed]",
      "text/plain": [
       "<Figure size 432x288 with 1 Axes>"
      ]
     },
     "metadata": {
      "needs_background": "light"
     },
     "output_type": "display_data"
    },
    {
     "data": {
      "image/png": "[encoded data removed]",
      "text/plain": [
       "<Figure size 432x288 with 1 Axes>"
      ]
     },
     "metadata": {
      "needs_background": "light"
     },
     "output_type": "display_data"
    },
    {
     "data": {
      "image/png": "[encoded data removed]",
      "text/plain": [
       "<Figure size 432x288 with 1 Axes>"
      ]
     },
     "metadata": {
      "needs_background": "light"
     },
     "output_type": "display_data"
    },
    {
     "data": {
      "image/png": "[encoded data removed]",
      "text/plain": [
       "<Figure size 432x288 with 1 Axes>"
      ]
     },
     "metadata": {
      "needs_background": "light"
     },
     "output_type": "display_data"
    },
    {
     "name": "stderr",
     "output_type": "stream",
     "text": [
      "\r",
      "  0%|          | 0/3 [00:00<?, ?it/s]"
     ]
    },
    {
     "name": "stdout",
     "output_type": "stream",
     "text": [
      "\n"
     ]
    },
    {
     "data": {
      "image/png": "[encoded data removed]",
      "text/plain": [
       "<Figure size 432x288 with 1 Axes>"
      ]
     },
     "metadata": {
      "needs_background": "light"
     },
     "output_type": "display_data"
    },
    {
     "name": "stderr",
     "output_type": "stream",
     "text": [
      "\r",
      " 33%|███▎      | 1/3 [00:00<00:00,  2.55it/s]"
     ]
    },
    {
     "data": {
      "image/png": "[encoded data removed]",
      "text/plain": [
       "<Figure size 432x288 with 1 Axes>"
      ]
     },
     "metadata": {
      "needs_background": "light"
     },
     "output_type": "display_data"
    },
    {
     "name": "stderr",
     "output_type": "stream",
     "text": [
      "\r",
      " 67%|██████▋   | 2/3 [00:00<00:00,  2.85it/s]"
     ]
    },
    {
     "data": {
      "image/png": "[encoded data removed]",
      "text/plain": [
       "<Figure size 432x288 with 1 Axes>"
      ]
     },
     "metadata": {
      "needs_background": "light"
     },
     "output_type": "display_data"
    },
    {
     "name": "stderr",
     "output_type": "stream",
     "text": [
      "100%|██████████| 3/3 [00:00<00:00,  3.10it/s]\n"
     ]
    },
    {
     "name": "stdout",
     "output_type": "stream",
     "text": [
      "num test images = 89\n",
      "loss = 0.5946\n",
      "my_metric = 0.7303\n",
      "f1 = 0.6172\n",
      "balanced_accuracy = 0.5000\n",
      "precision = 0.5351\n",
      "recall = 0.7303\n",
      "My_metric is accuracy\n",
      "Confusion matrix, without normalization\n",
      "[[65  0]\n",
      " [24  0]]\n"
     ]
    },
    {
     "data": {
      "image/png": "[encoded data removed]",
      "text/plain": [
       "<Figure size 432x288 with 2 Axes>"
      ]
     },
     "metadata": {
      "needs_background": "light"
     },
     "output_type": "display_data"
    }
   ],
   "source": [
    "#Test\n",
    "main2(config, resume)"
   ]
  },
  {
   "cell_type": "code",
   "execution_count": null,
   "metadata": {},
   "outputs": [],
   "source": []
  },
  {
   "cell_type": "code",
   "execution_count": null,
   "metadata": {},
   "outputs": [],
   "source": []
  }
 ],
 "metadata": {
  "kernelspec": {
   "display_name": "Python 3",
   "language": "python",
   "name": "python3"
  },
  "language_info": {
   "codemirror_mode": {
    "name": "ipython",
    "version": 3
   },
   "file_extension": ".py",
   "mimetype": "text/x-python",
   "name": "python",
   "nbconvert_exporter": "python",
   "pygments_lexer": "ipython3",
   "version": "3.6.8"
  }
 },
 "nbformat": 4,
 "nbformat_minor": 2
}
