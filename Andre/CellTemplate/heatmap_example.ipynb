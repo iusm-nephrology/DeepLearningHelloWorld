{
 "cells": [
  {
   "cell_type": "code",
   "execution_count": 131,
   "metadata": {},
   "outputs": [
    {
     "name": "stdout",
     "output_type": "stream",
     "text": [
      "Modules loaded\n",
      "Reload complete\n",
      "GPUs available: 1\n"
     ]
    }
   ],
   "source": [
    "%matplotlib inline\n",
    "import matplotlib.pyplot as plt\n",
    "import os\n",
    "import numpy as np\n",
    "import json\n",
    "import argparse\n",
    "import torch\n",
    "from torch.optim import lr_scheduler\n",
    "from tqdm import tqdm\n",
    "import data_loader.data_loaders as module_data\n",
    "import model.loss as module_loss\n",
    "import model.metric as module_metric\n",
    "import model.model as module_arch\n",
    "from trainer import Trainer\n",
    "from utils import Logger\n",
    "from utils import util\n",
    "from utils import torchsummary\n",
    "from utils import viewTraining\n",
    "from utils import lr_finder\n",
    "from utils import classActivationMap\n",
    "import importlib\n",
    "import math\n",
    "import torchvision\n",
    "from torch.nn import functional as F\n",
    "from torch import topk\n",
    "import skimage.transform\n",
    "print(\"Modules loaded\")\n",
    "\n",
    "importlib.reload(module_data) #load recent changes to data_loaders.py\n",
    "importlib.reload(module_arch)\n",
    "importlib.reload(module_loss)\n",
    "importlib.reload(module_metric)\n",
    "importlib.reload(util)\n",
    "importlib.reload(viewTraining)\n",
    "importlib.reload(lr_finder)\n",
    "importlib.reload(classActivationMap)\n",
    "print(\"Reload complete\")\n",
    "\n",
    "print(\"GPUs available: \" + str(torch.cuda.device_count()))\n",
    "os.environ[\"CUDA_VISIBLE_DEVICES\"] = \"0,1\""
   ]
  },
  {
   "cell_type": "code",
   "execution_count": 90,
   "metadata": {},
   "outputs": [
    {
     "name": "stdout",
     "output_type": "stream",
     "text": [
      "fin\n"
     ]
    }
   ],
   "source": [
    "resplit_data = False\n",
    "if resplit_data:\n",
    "    os.system('python3 utils/splitDataFolder.py -r \"data/sum_projection_060419/\" -c \"data/sum_projection_060419/Labels_all.csv\" -s 0.15')\n",
    "    \n",
    "print(\"fin\")"
   ]
  },
  {
   "cell_type": "code",
   "execution_count": 91,
   "metadata": {},
   "outputs": [],
   "source": [
    "#This function gets the parameters from the config.json file \n",
    "def get_instance(module, name, config, *args):\n",
    "    return getattr(module, config[name]['type'])(*args, **config[name]['args'])\n",
    "\n",
    "def set_instance(module, name, config, *args):\n",
    "    setattr(module, config[name]['type'])(*args, **config[name]['args'])\n",
    "\n",
    "def main(config, resume):\n",
    "    train_logger = Logger() #uses entries to store training performance metrics\n",
    "    device = torch.device('cuda' if torch.cuda.is_available() else 'cpu')\n",
    "    \n",
    "    # setup data_loader instances\n",
    "    data_loader = get_instance(module_data, 'data_loader', config) #looks in data_loader/data_loaders.py for 'MNISTDataLoader'\n",
    "    print(\"Total number of training images = \" + str(data_loader.dataset.data_len))\n",
    "    valid_data_loader = data_loader.split_validation() #allocate some images as validation\n",
    "\n",
    "    # build model architecture\n",
    "    model = get_instance(module_arch, 'arch', config) #looks in the model/model.py for 'MnistModel', as specified by config\n",
    "    print(model)\n",
    "    torchsummary.summary(model, (1,28,28))\n",
    "     \n",
    "    \n",
    "    if torch.cuda.is_available():\n",
    "        print(\"Using GPU: \" + torch.cuda.get_device_name(0))\n",
    "    else:\n",
    "        print(\"Using CPU to train\")\n",
    "    \n",
    "    normalized = False\n",
    "    #util.visualizeBatch(data_loader, normalized)\n",
    "    \n",
    "    \n",
    "    # get function handles of loss and metrics\n",
    "    loss = getattr(module_loss, config['loss']) #looks in model/loss.py for criterion function specified in config\n",
    "    criterion = loss(data_loader.dataset.weight.to(device)) # for imbalanced datasets\n",
    "    metrics = [getattr(module_metric, met) for met in config['metrics']] #get all the metrics in model/metrics.py - default is accuracy and top 3 accuracy\n",
    "\n",
    "    # build optimizer, learning rate scheduler. delete every lines containing lr_scheduler for disabling scheduler\n",
    "    trainable_params = filter(lambda p: p.requires_grad, model.parameters()) #Number of training params\n",
    "    optimizer = get_instance(torch.optim, 'optimizer', config, trainable_params)\n",
    "    lr_scheduler = get_instance(torch.optim.lr_scheduler, 'lr_scheduler', config, optimizer)\n",
    "\n",
    "    \n",
    "    trainer = Trainer(model, criterion, metrics, optimizer,\n",
    "                      resume=resume, #choose a previous epoch to start training from\n",
    "                      config=config,\n",
    "                      data_loader=data_loader,\n",
    "                      valid_data_loader=valid_data_loader,\n",
    "                      lr_scheduler=lr_scheduler,\n",
    "                      train_logger=train_logger)\n",
    "    \n",
    "    \n",
    "    findLR = False\n",
    "    if findLR:\n",
    "        #set lr = 1e-7 in config file \n",
    "        device_lr = torch.device('cuda' if torch.cuda.is_available() else 'cpu')\n",
    "        lr_finder_training = lr_finder.LRFinder(model, optimizer, criterion, device=device_lr)\n",
    "        lr_finder_training.range_test(data_loader, end_lr=1, num_iter=100, val_loader = valid_data_loader)\n",
    "        lr_finder_training.plot(skip_start = 10, skip_end=5)\n",
    "        # trim the first 10 and last 5 iteration from calculating loss (num_iter > skip_start + skip_end)\n",
    "    else:\n",
    "        trainer.train()\n",
    "\n",
    "    #print(np.asarray(model.gradients[12]).shape)"
   ]
  },
  {
   "cell_type": "code",
   "execution_count": 92,
   "metadata": {},
   "outputs": [],
   "source": [
    "config_file = 'configs/config_groundTruth.json'\n",
    "#config_file = 'configs/config_groundTruth_maxProj_lrfinder.json'\n",
    "\n",
    "\n",
    "# load config file\n",
    "with open(config_file) as handle:\n",
    "    config = json.load(handle)\n",
    "# setting path to save trained models and log files\n",
    "path = os.path.join(config['trainer']['save_dir'], config['name'])"
   ]
  },
  {
   "cell_type": "code",
   "execution_count": 93,
   "metadata": {},
   "outputs": [
    {
     "name": "stdout",
     "output_type": "stream",
     "text": [
      "Total number of training images = 477\n",
      "heatmapModel(\n",
      "  (layer): Sequential(\n",
      "    (0): Conv2d(1, 32, kernel_size=(3, 3), stride=(1, 1), padding=(1, 1))\n",
      "    (1): BatchNorm2d(32, eps=1e-05, momentum=0.1, affine=True, track_running_stats=True)\n",
      "    (2): ReLU()\n",
      "    (3): Conv2d(32, 64, kernel_size=(3, 3), stride=(1, 1), padding=(1, 1))\n",
      "    (4): BatchNorm2d(64, eps=1e-05, momentum=0.1, affine=True, track_running_stats=True)\n",
      "    (5): ReLU()\n",
      "    (6): AvgPool2d(kernel_size=2, stride=2, padding=0)\n",
      "    (7): Conv2d(64, 128, kernel_size=(3, 3), stride=(1, 1), padding=(1, 1))\n",
      "    (8): BatchNorm2d(128, eps=1e-05, momentum=0.1, affine=True, track_running_stats=True)\n",
      "    (9): ReLU()\n",
      "    (10): AvgPool2d(kernel_size=2, stride=2, padding=0)\n",
      "    (11): Conv2d(128, 256, kernel_size=(3, 3), stride=(1, 1), padding=(1, 1))\n",
      "    (12): BatchNorm2d(256, eps=1e-05, momentum=0.1, affine=True, track_running_stats=True)\n",
      "    (13): ReLU()\n",
      "  )\n",
      "  (fc_layer): Sequential(\n",
      "    (0): Linear(in_features=12544, out_features=256, bias=True)\n",
      "    (1): ReLU()\n",
      "    (2): Linear(in_features=256, out_features=2, bias=True)\n",
      "  )\n",
      ")\n",
      "Trainable parameters: 3600834\n",
      "----------------------------------------------------------------\n",
      "        Layer (type)               Output Shape         Param #\n",
      "================================================================\n",
      "            Conv2d-1           [-1, 32, 28, 28]             320\n",
      "       BatchNorm2d-2           [-1, 32, 28, 28]              64\n",
      "              ReLU-3           [-1, 32, 28, 28]               0\n",
      "            Conv2d-4           [-1, 64, 28, 28]          18,496\n",
      "       BatchNorm2d-5           [-1, 64, 28, 28]             128\n",
      "              ReLU-6           [-1, 64, 28, 28]               0\n",
      "         AvgPool2d-7           [-1, 64, 14, 14]               0\n",
      "            Conv2d-8          [-1, 128, 14, 14]          73,856\n",
      "       BatchNorm2d-9          [-1, 128, 14, 14]             256\n",
      "             ReLU-10          [-1, 128, 14, 14]               0\n",
      "        AvgPool2d-11            [-1, 128, 7, 7]               0\n",
      "           Conv2d-12            [-1, 256, 7, 7]         295,168\n",
      "      BatchNorm2d-13            [-1, 256, 7, 7]             512\n",
      "             ReLU-14            [-1, 256, 7, 7]               0\n",
      "           Linear-15                  [-1, 256]       3,211,520\n",
      "             ReLU-16                  [-1, 256]               0\n",
      "           Linear-17                    [-1, 2]             514\n",
      "================================================================\n",
      "Total params: 3,600,834\n",
      "Trainable params: 3,600,834\n",
      "Non-trainable params: 0\n",
      "----------------------------------------------------------------\n",
      "Input size (MB): 0.00\n",
      "Forward/backward pass size (MB): 2.73\n",
      "Params size (MB): 13.74\n",
      "Estimated Total Size (MB): 16.47\n",
      "----------------------------------------------------------------\n",
      "Using GPU: Tesla K80\n"
     ]
    },
    {
     "name": "stderr",
     "output_type": "stream",
     "text": [
      "Train Epoch: 1 [0/406 (0%)] Loss: 1.090836\n",
      "Train Epoch: 1 [64/406 (15%)] Loss: 2.902336\n",
      "Train Epoch: 1 [128/406 (31%)] Loss: 1.620900\n",
      "Train Epoch: 1 [192/406 (46%)] Loss: 2.049518\n",
      "Train Epoch: 1 [256/406 (62%)] Loss: 0.911805\n",
      "Train Epoch: 1 [320/406 (77%)] Loss: 1.301078\n",
      "Train Epoch: 1 [384/406 (92%)] Loss: 0.248394\n",
      "    epoch          : 1\n",
      "    loss           : 1.5284628088657672\n",
      "    my_metric      : 0.6195367132867133\n",
      "    f1             : 0.5377304377461901\n",
      "    balanced_accuracy: 0.5486101861101861\n",
      "    precision      : 0.5270537750906502\n",
      "    recall         : 0.6195367132867133\n",
      "    val_loss       : 0.8060518105824789\n",
      "    val_my_metric  : 0.7172619047619048\n",
      "    val_f1         : 0.6084620917168088\n",
      "    val_balanced_accuracy: 0.5208333333333334\n",
      "    val_precision  : 0.5905044351409918\n",
      "    val_recall     : 0.7172619047619048\n",
      "Saving checkpoint: saved/GroundTruth_cellData/0612_135743/checkpoint-epoch1.pth ...\n",
      "Saving current best: model_best.pth ...\n",
      "Train Epoch: 2 [0/406 (0%)] Loss: 0.638509\n",
      "Train Epoch: 2 [64/406 (15%)] Loss: 0.953717\n",
      "Train Epoch: 2 [128/406 (31%)] Loss: 0.874224\n",
      "Train Epoch: 2 [192/406 (46%)] Loss: 0.891571\n",
      "Train Epoch: 2 [256/406 (62%)] Loss: 0.149849\n",
      "Train Epoch: 2 [320/406 (77%)] Loss: 0.740358\n",
      "Train Epoch: 2 [384/406 (92%)] Loss: 0.605762\n",
      "    epoch          : 2\n",
      "    loss           : 0.7657901977117245\n",
      "    my_metric      : 0.7172202797202798\n",
      "    f1             : 0.6716118772566565\n",
      "    balanced_accuracy: 0.6244805464441092\n",
      "    precision      : 0.7395132368065702\n",
      "    recall         : 0.7172202797202798\n",
      "    val_loss       : 0.7497300306955973\n",
      "    val_my_metric  : 0.6964285714285715\n",
      "    val_f1         : 0.6540369352869353\n",
      "    val_balanced_accuracy: 0.5750649350649351\n",
      "    val_precision  : 0.7142218573253056\n",
      "    val_recall     : 0.6964285714285715\n",
      "Saving checkpoint: saved/GroundTruth_cellData/0612_135743/checkpoint-epoch2.pth ...\n",
      "Saving current best: model_best.pth ...\n",
      "Train Epoch: 3 [0/406 (0%)] Loss: 0.685940\n",
      "Train Epoch: 3 [64/406 (15%)] Loss: 0.560163\n",
      "Train Epoch: 3 [128/406 (31%)] Loss: 0.520378\n",
      "Train Epoch: 3 [192/406 (46%)] Loss: 0.259879\n",
      "Train Epoch: 3 [256/406 (62%)] Loss: 0.332957\n",
      "Train Epoch: 3 [320/406 (77%)] Loss: 0.572401\n",
      "Train Epoch: 3 [384/406 (92%)] Loss: 0.473694\n",
      "    epoch          : 3\n",
      "    loss           : 0.4762864296252911\n",
      "    my_metric      : 0.7637674825174826\n",
      "    f1             : 0.7388292913577603\n",
      "    balanced_accuracy: 0.7043172590479402\n",
      "    precision      : 0.8011909579407432\n",
      "    recall         : 0.7637674825174826\n",
      "    val_loss       : 0.8581559260686239\n",
      "    val_my_metric  : 0.7172619047619048\n",
      "    val_f1         : 0.7085813492063492\n",
      "    val_balanced_accuracy: 0.6408798126189431\n",
      "    val_precision  : 0.7076465201465202\n",
      "    val_recall     : 0.7172619047619048\n",
      "Train Epoch: 4 [0/406 (0%)] Loss: 0.341494\n",
      "Train Epoch: 4 [64/406 (15%)] Loss: 0.420226\n",
      "Train Epoch: 4 [128/406 (31%)] Loss: 0.871336\n",
      "Train Epoch: 4 [192/406 (46%)] Loss: 0.294694\n",
      "Train Epoch: 4 [256/406 (62%)] Loss: 0.686485\n",
      "Train Epoch: 4 [320/406 (77%)] Loss: 0.470326\n",
      "Train Epoch: 4 [384/406 (92%)] Loss: 0.496830\n",
      "    epoch          : 4\n",
      "    loss           : 0.5592006995127752\n",
      "    my_metric      : 0.7362325174825174\n",
      "    f1             : 0.6980640219211546\n",
      "    balanced_accuracy: 0.6531277843936267\n",
      "    precision      : 0.7489605421209304\n",
      "    recall         : 0.7362325174825174\n",
      "    val_loss       : 0.5706846018632253\n",
      "    val_my_metric  : 0.7336309523809524\n",
      "    val_f1         : 0.7041688812277047\n",
      "    val_balanced_accuracy: 0.6258838383838384\n",
      "    val_precision  : 0.7045634920634921\n",
      "    val_recall     : 0.7336309523809524\n",
      "Saving checkpoint: saved/GroundTruth_cellData/0612_135743/checkpoint-epoch4.pth ...\n",
      "Saving current best: model_best.pth ...\n",
      "Train Epoch: 5 [0/406 (0%)] Loss: 0.656802\n",
      "Train Epoch: 5 [64/406 (15%)] Loss: 0.412328\n",
      "Train Epoch: 5 [128/406 (31%)] Loss: 0.701976\n",
      "Train Epoch: 5 [192/406 (46%)] Loss: 0.438030\n",
      "Train Epoch: 5 [256/406 (62%)] Loss: 0.714324\n",
      "Train Epoch: 5 [320/406 (77%)] Loss: 0.338398\n",
      "Train Epoch: 5 [384/406 (92%)] Loss: 1.074589\n",
      "    epoch          : 5\n",
      "    loss           : 0.5780850878128638\n",
      "    my_metric      : 0.7399475524475524\n",
      "    f1             : 0.700484366475921\n",
      "    balanced_accuracy: 0.6671684131550352\n",
      "    precision      : 0.7945606763694472\n",
      "    recall         : 0.7399475524475524\n",
      "    val_loss       : 0.6465381781260172\n",
      "    val_my_metric  : 0.7232142857142857\n",
      "    val_f1         : 0.6973265160765161\n",
      "    val_balanced_accuracy: 0.6141414141414142\n",
      "    val_precision  : 0.696947496947497\n",
      "    val_recall     : 0.7232142857142857\n",
      "Train Epoch: 6 [0/406 (0%)] Loss: 0.662461\n",
      "Train Epoch: 6 [64/406 (15%)] Loss: 0.380641\n",
      "Train Epoch: 6 [128/406 (31%)] Loss: 0.551828\n",
      "Train Epoch: 6 [192/406 (46%)] Loss: 0.710649\n",
      "Train Epoch: 6 [256/406 (62%)] Loss: 0.371661\n",
      "Train Epoch: 6 [320/406 (77%)] Loss: 0.569463\n",
      "Train Epoch: 6 [384/406 (92%)] Loss: 0.400844\n",
      "    epoch          : 6\n",
      "    loss           : 0.4814439599330609\n",
      "    my_metric      : 0.7434440559440559\n",
      "    f1             : 0.7003948918843415\n",
      "    balanced_accuracy: 0.6591070486555436\n",
      "    precision      : 0.7749356155058352\n",
      "    recall         : 0.7434440559440559\n",
      "    val_loss       : 0.7010902563730875\n",
      "    val_my_metric  : 0.7068452380952381\n",
      "    val_f1         : 0.6396707982792889\n",
      "    val_balanced_accuracy: 0.5371428571428571\n",
      "    val_precision  : 0.628029336734694\n",
      "    val_recall     : 0.7068452380952381\n",
      "Train Epoch: 7 [0/406 (0%)] Loss: 0.484243\n",
      "Train Epoch: 7 [64/406 (15%)] Loss: 0.237158\n"
     ]
    },
    {
     "ename": "KeyboardInterrupt",
     "evalue": "",
     "output_type": "error",
     "traceback": [
      "\u001b[0;31m---------------------------------------------------------------------------\u001b[0m",
      "\u001b[0;31mKeyboardInterrupt\u001b[0m                         Traceback (most recent call last)",
      "\u001b[0;32m<ipython-input-93-f5cf6c1f3297>\u001b[0m in \u001b[0;36m<module>\u001b[0;34m\u001b[0m\n\u001b[1;32m      1\u001b[0m \u001b[0;31m#Train the network\u001b[0m\u001b[0;34m\u001b[0m\u001b[0;34m\u001b[0m\u001b[0;34m\u001b[0m\u001b[0m\n\u001b[0;32m----> 2\u001b[0;31m \u001b[0mmain\u001b[0m\u001b[0;34m(\u001b[0m\u001b[0mconfig\u001b[0m\u001b[0;34m,\u001b[0m \u001b[0;32mNone\u001b[0m\u001b[0;34m)\u001b[0m\u001b[0;34m\u001b[0m\u001b[0;34m\u001b[0m\u001b[0m\n\u001b[0m",
      "\u001b[0;32m<ipython-input-91-29ad5e9c470e>\u001b[0m in \u001b[0;36mmain\u001b[0;34m(config, resume)\u001b[0m\n\u001b[1;32m     59\u001b[0m         \u001b[0;31m# trim the first 10 and last 5 iteration from calculating loss (num_iter > skip_start + skip_end)\u001b[0m\u001b[0;34m\u001b[0m\u001b[0;34m\u001b[0m\u001b[0;34m\u001b[0m\u001b[0m\n\u001b[1;32m     60\u001b[0m     \u001b[0;32melse\u001b[0m\u001b[0;34m:\u001b[0m\u001b[0;34m\u001b[0m\u001b[0;34m\u001b[0m\u001b[0m\n\u001b[0;32m---> 61\u001b[0;31m         \u001b[0mtrainer\u001b[0m\u001b[0;34m.\u001b[0m\u001b[0mtrain\u001b[0m\u001b[0;34m(\u001b[0m\u001b[0;34m)\u001b[0m\u001b[0;34m\u001b[0m\u001b[0;34m\u001b[0m\u001b[0m\n\u001b[0m\u001b[1;32m     62\u001b[0m \u001b[0;34m\u001b[0m\u001b[0m\n\u001b[1;32m     63\u001b[0m     \u001b[0;31m#print(np.asarray(model.gradients[12]).shape)\u001b[0m\u001b[0;34m\u001b[0m\u001b[0;34m\u001b[0m\u001b[0;34m\u001b[0m\u001b[0m\n",
      "\u001b[0;32m~/IUSM/CellTemplate/base/base_trainer.py\u001b[0m in \u001b[0;36mtrain\u001b[0;34m(self)\u001b[0m\n\u001b[1;32m     85\u001b[0m         \"\"\"\n\u001b[1;32m     86\u001b[0m         \u001b[0;32mfor\u001b[0m \u001b[0mepoch\u001b[0m \u001b[0;32min\u001b[0m \u001b[0mrange\u001b[0m\u001b[0;34m(\u001b[0m\u001b[0mself\u001b[0m\u001b[0;34m.\u001b[0m\u001b[0mstart_epoch\u001b[0m\u001b[0;34m,\u001b[0m \u001b[0mself\u001b[0m\u001b[0;34m.\u001b[0m\u001b[0mepochs\u001b[0m \u001b[0;34m+\u001b[0m \u001b[0;36m1\u001b[0m\u001b[0;34m)\u001b[0m\u001b[0;34m:\u001b[0m\u001b[0;34m\u001b[0m\u001b[0;34m\u001b[0m\u001b[0m\n\u001b[0;32m---> 87\u001b[0;31m             \u001b[0mresult\u001b[0m \u001b[0;34m=\u001b[0m \u001b[0mself\u001b[0m\u001b[0;34m.\u001b[0m\u001b[0m_train_epoch\u001b[0m\u001b[0;34m(\u001b[0m\u001b[0mepoch\u001b[0m\u001b[0;34m)\u001b[0m\u001b[0;34m\u001b[0m\u001b[0;34m\u001b[0m\u001b[0m\n\u001b[0m\u001b[1;32m     88\u001b[0m \u001b[0;34m\u001b[0m\u001b[0m\n\u001b[1;32m     89\u001b[0m             \u001b[0;31m# save logged informations into log dict\u001b[0m\u001b[0;34m\u001b[0m\u001b[0;34m\u001b[0m\u001b[0;34m\u001b[0m\u001b[0m\n",
      "\u001b[0;32m~/IUSM/CellTemplate/trainer/trainer.py\u001b[0m in \u001b[0;36m_train_epoch\u001b[0;34m(self, epoch)\u001b[0m\n\u001b[1;32m     72\u001b[0m                     \u001b[0;36m100.0\u001b[0m \u001b[0;34m*\u001b[0m \u001b[0mbatch_idx\u001b[0m \u001b[0;34m/\u001b[0m \u001b[0mlen\u001b[0m\u001b[0;34m(\u001b[0m\u001b[0mself\u001b[0m\u001b[0;34m.\u001b[0m\u001b[0mdata_loader\u001b[0m\u001b[0;34m)\u001b[0m\u001b[0;34m,\u001b[0m\u001b[0;34m\u001b[0m\u001b[0;34m\u001b[0m\u001b[0m\n\u001b[1;32m     73\u001b[0m                     loss.item()))\n\u001b[0;32m---> 74\u001b[0;31m                 \u001b[0mself\u001b[0m\u001b[0;34m.\u001b[0m\u001b[0mwriter\u001b[0m\u001b[0;34m.\u001b[0m\u001b[0madd_image\u001b[0m\u001b[0;34m(\u001b[0m\u001b[0;34m'input'\u001b[0m\u001b[0;34m,\u001b[0m \u001b[0mmake_grid\u001b[0m\u001b[0;34m(\u001b[0m\u001b[0mdata\u001b[0m\u001b[0;34m.\u001b[0m\u001b[0mcpu\u001b[0m\u001b[0;34m(\u001b[0m\u001b[0;34m)\u001b[0m\u001b[0;34m,\u001b[0m \u001b[0mnrow\u001b[0m\u001b[0;34m=\u001b[0m\u001b[0;36m8\u001b[0m\u001b[0;34m,\u001b[0m \u001b[0mnormalize\u001b[0m\u001b[0;34m=\u001b[0m\u001b[0;32mTrue\u001b[0m\u001b[0;34m)\u001b[0m\u001b[0;34m)\u001b[0m\u001b[0;34m\u001b[0m\u001b[0;34m\u001b[0m\u001b[0m\n\u001b[0m\u001b[1;32m     75\u001b[0m \u001b[0;34m\u001b[0m\u001b[0m\n\u001b[1;32m     76\u001b[0m         log = {\n",
      "\u001b[0;32m~/miniconda3/envs/pytorch36/lib/python3.6/site-packages/torchvision/utils.py\u001b[0m in \u001b[0;36mmake_grid\u001b[0;34m(tensor, nrow, padding, normalize, range, scale_each, pad_value)\u001b[0m\n\u001b[1;32m     46\u001b[0m \u001b[0;34m\u001b[0m\u001b[0m\n\u001b[1;32m     47\u001b[0m     \u001b[0;32mif\u001b[0m \u001b[0mnormalize\u001b[0m \u001b[0;32mis\u001b[0m \u001b[0;32mTrue\u001b[0m\u001b[0;34m:\u001b[0m\u001b[0;34m\u001b[0m\u001b[0;34m\u001b[0m\u001b[0m\n\u001b[0;32m---> 48\u001b[0;31m         \u001b[0mtensor\u001b[0m \u001b[0;34m=\u001b[0m \u001b[0mtensor\u001b[0m\u001b[0;34m.\u001b[0m\u001b[0mclone\u001b[0m\u001b[0;34m(\u001b[0m\u001b[0;34m)\u001b[0m  \u001b[0;31m# avoid modifying tensor in-place\u001b[0m\u001b[0;34m\u001b[0m\u001b[0;34m\u001b[0m\u001b[0m\n\u001b[0m\u001b[1;32m     49\u001b[0m         \u001b[0;32mif\u001b[0m \u001b[0mrange\u001b[0m \u001b[0;32mis\u001b[0m \u001b[0;32mnot\u001b[0m \u001b[0;32mNone\u001b[0m\u001b[0;34m:\u001b[0m\u001b[0;34m\u001b[0m\u001b[0;34m\u001b[0m\u001b[0m\n\u001b[1;32m     50\u001b[0m             \u001b[0;32massert\u001b[0m \u001b[0misinstance\u001b[0m\u001b[0;34m(\u001b[0m\u001b[0mrange\u001b[0m\u001b[0;34m,\u001b[0m \u001b[0mtuple\u001b[0m\u001b[0;34m)\u001b[0m\u001b[0;34m,\u001b[0m\u001b[0;31m \u001b[0m\u001b[0;31m\\\u001b[0m\u001b[0;34m\u001b[0m\u001b[0;34m\u001b[0m\u001b[0m\n",
      "\u001b[0;31mKeyboardInterrupt\u001b[0m: "
     ]
    }
   ],
   "source": [
    "#Train the network\n",
    "main(config, None)"
   ]
  },
  {
   "cell_type": "code",
   "execution_count": 85,
   "metadata": {},
   "outputs": [
    {
     "data": {
      "image/png": "[encoded data removed]",
      "text/plain": [
       "<Figure size 432x288 with 1 Axes>"
      ]
     },
     "metadata": {
      "needs_background": "light"
     },
     "output_type": "display_data"
    },
    {
     "data": {
      "image/png": "[encoded data removed]",
      "text/plain": [
       "<Figure size 432x288 with 1 Axes>"
      ]
     },
     "metadata": {
      "needs_background": "light"
     },
     "output_type": "display_data"
    },
    {
     "name": "stdout",
     "output_type": "stream",
     "text": [
      "done\n"
     ]
    }
   ],
   "source": [
    "#log_dir = 'saved/runs/GroundTruth_cellData/0530_184531/'\n",
    "saved_dir = 'saved/GroundTruth_cellData/0612_133114'\n",
    "#saved_dir = 'saved/GroundTruth_maxProjection/0604_202104'\n",
    "#saved_dir = 'saved/GroundTruth_sumProjection/0604_192331'\n",
    "config_saved_filename = os.path.join(saved_dir, \"config.json\")\n",
    "#os.system('tensorboard --logdir ' + log_dir) cannot use with google VM without paying $$$\n",
    "viewTraining.graphLoss(saved_dir) #imported from utils\n",
    "\n",
    "print('done')"
   ]
  },
  {
   "cell_type": "code",
   "execution_count": 132,
   "metadata": {},
   "outputs": [],
   "source": [
    "def main2(config, resume):\n",
    "    # setup data_loader instances\n",
    "    data_loader = get_instance(module_data, 'data_loader_test', config)\n",
    "    '''\n",
    "    \n",
    "    data_loader = getattr(module_data, config['data_loader']['type'])(\n",
    "        config['data_loader']['args']['data_dir'],\n",
    "        batch_size=1,\n",
    "        shuffle=False,\n",
    "        validation_split=0.0,\n",
    "        training=False,\n",
    "        num_workers=2\n",
    "    )\n",
    "    '''\n",
    "    # build model architecture\n",
    "    model = get_instance(module_arch, 'arch', config)\n",
    "    print(model)\n",
    "    print(torch.cuda.get_device_name(0))\n",
    "    normalized = False\n",
    "\n",
    "    \n",
    "    # get function handles of loss and metrics\n",
    "    loss_fn = getattr(module_loss, config['loss'])\n",
    "    criterion = loss_fn(None)\n",
    "    metric_fns = [getattr(module_metric, met) for met in config['metrics']]\n",
    "    \n",
    "    # load state dict\n",
    "    checkpoint = torch.load(resume)\n",
    "    state_dict = checkpoint['state_dict'] #dictionary of model parameters from saved file\n",
    "    if config['n_gpu'] > 1:\n",
    "        model = torch.nn.DataParallel(model)\n",
    "    model.load_state_dict(state_dict) \n",
    "    \n",
    "    # prepare model for testing\n",
    "    device = torch.device('cuda' if torch.cuda.is_available() else 'cpu')\n",
    "    model = model.to(device)\n",
    "    model.eval() #tells model to ignore dropout and batch normalization\n",
    "    \n",
    "    total_loss = 0.0\n",
    "    total_metrics = torch.zeros(len(metric_fns))\n",
    "    \n",
    "    classes = ('class0', 'class1')\n",
    "    all_pred = []\n",
    "    all_true = []\n",
    "    hm_layers = {'final_layer': 'layer', 'fc_layer': 'fc_layer', 'conv_num': 13, 'fc_num': 2}\n",
    "    \n",
    "    heatmapper = classActivationMap.CAMgenerator(hm_layers, config, model)\n",
    "    heatmapper.generateImage()\n",
    "    \n",
    "    with torch.no_grad(): #speed up calculations, unable to perform back propogation\n",
    "        for i, (data, target) in enumerate(tqdm(data_loader)): #tqdm is a progress bar\n",
    "            data, target = data.to(device), target.to(device)\n",
    "            output = model(data)\n",
    "            image = np.squeeze(data[0].cpu().data.numpy())\n",
    "            all_true.extend(target.cpu().data.numpy())\n",
    "            all_pred.extend(np.argmax(output.cpu().data.numpy(), axis=1))\n",
    "            \n",
    "            #\n",
    "            # save sample images, or do something with output here\n",
    "            #\n",
    "            \n",
    "            \n",
    "            if i < 5:\n",
    "                util.visualizationOutGray(data, output, target, classes, normalized)\n",
    "                \n",
    "                \n",
    "                \n",
    "            # computing loss, metrics on test set\n",
    "            loss = criterion(output, target)\n",
    "            batch_size = data.shape[0]\n",
    "            total_loss += loss.item() * batch_size\n",
    "            if output.is_cuda: output = output.cpu()\n",
    "            if target.is_cuda: target = target.cpu()\n",
    "            \n",
    "            for i, metric in enumerate(metric_fns):\n",
    "                total_metrics[i] += metric(output, target) * batch_size\n",
    "        \n",
    "        #plt.show()\n",
    "        \n",
    "    \n",
    "    n_samples = len(data_loader.sampler)\n",
    "    print(\"num test images = \" + str(n_samples))\n",
    "    log = {'loss': total_loss / n_samples}\n",
    "    log.update({met.__name__: total_metrics[i].item() / n_samples for i, met in enumerate(metric_fns)})\n",
    "    for key in log:\n",
    "        print(\"{} = {:.4f}\".format(key, log[key]))\n",
    "    #print(log)\n",
    "    log['classes'] = classes\n",
    "    log['test_targets'] = all_true\n",
    "    log['test_predictions'] = all_pred\n",
    "    print(\"My_metric is accuracy\")\n",
    "    util.plot_confusion_matrix(all_true, all_pred, classes=classes, normalize=False) \n",
    "    \n"
   ]
  },
  {
   "cell_type": "code",
   "execution_count": 133,
   "metadata": {},
   "outputs": [
    {
     "name": "stdout",
     "output_type": "stream",
     "text": [
      "True\n",
      "True\n"
     ]
    }
   ],
   "source": [
    "#saved_dir = \"saved/GroundTruth_cellData/0529_191042/\"\n",
    "resume = os.path.join(saved_dir, \"model_best.pth\")\n",
    "\n",
    "print(os.path.isdir(saved_dir))\n",
    "print(os.path.exists(resume))\n",
    "\n",
    "#config = torch.load(saved_dir + \"config.json\")\n",
    "os.environ[\"CUDA_VISIBLE_DEVICES\"] = \"0,1\""
   ]
  },
  {
   "cell_type": "code",
   "execution_count": 134,
   "metadata": {},
   "outputs": [
    {
     "name": "stdout",
     "output_type": "stream",
     "text": [
      "heatmapModel(\n",
      "  (layer): Sequential(\n",
      "    (0): Conv2d(1, 32, kernel_size=(3, 3), stride=(1, 1), padding=(1, 1))\n",
      "    (1): BatchNorm2d(32, eps=1e-05, momentum=0.1, affine=True, track_running_stats=True)\n",
      "    (2): ReLU()\n",
      "    (3): Conv2d(32, 64, kernel_size=(3, 3), stride=(1, 1), padding=(1, 1))\n",
      "    (4): BatchNorm2d(64, eps=1e-05, momentum=0.1, affine=True, track_running_stats=True)\n",
      "    (5): ReLU()\n",
      "    (6): AvgPool2d(kernel_size=2, stride=2, padding=0)\n",
      "    (7): Conv2d(64, 128, kernel_size=(3, 3), stride=(1, 1), padding=(1, 1))\n",
      "    (8): BatchNorm2d(128, eps=1e-05, momentum=0.1, affine=True, track_running_stats=True)\n",
      "    (9): ReLU()\n",
      "    (10): AvgPool2d(kernel_size=2, stride=2, padding=0)\n",
      "    (11): Conv2d(128, 256, kernel_size=(3, 3), stride=(1, 1), padding=(1, 1))\n",
      "    (12): BatchNorm2d(256, eps=1e-05, momentum=0.1, affine=True, track_running_stats=True)\n",
      "    (13): ReLU()\n",
      "  )\n",
      "  (fc_layer): Sequential(\n",
      "    (0): Linear(in_features=12544, out_features=256, bias=True)\n",
      "    (1): ReLU()\n",
      "    (2): Linear(in_features=256, out_features=2, bias=True)\n",
      "  )\n",
      ")\n",
      "Trainable parameters: 3600834\n",
      "Tesla K80\n"
     ]
    },
    {
     "data": {
      "application/vnd.jupyter.widget-view+json": {
       "model_id": "973ff2d8180d495186cd48214f0eab63",
       "version_major": 2,
       "version_minor": 0
      },
      "text/plain": [
       "HBox(children=(IntProgress(value=0, max=83), HTML(value='')))"
      ]
     },
     "metadata": {},
     "output_type": "display_data"
    },
    {
     "data": {
      "image/png": "[encoded data removed]",
      "text/plain": [
       "<Figure size 432x288 with 1 Axes>"
      ]
     },
     "metadata": {
      "needs_background": "light"
     },
     "output_type": "display_data"
    },
    {
     "data": {
      "image/png": "[encoded data removed]",
      "text/plain": [
       "<Figure size 432x288 with 1 Axes>"
      ]
     },
     "metadata": {
      "needs_background": "light"
     },
     "output_type": "display_data"
    },
    {
     "data": {
      "image/png": "[encoded data removed]",
      "text/plain": [
       "<Figure size 432x288 with 1 Axes>"
      ]
     },
     "metadata": {
      "needs_background": "light"
     },
     "output_type": "display_data"
    },
    {
     "data": {
      "image/png": "[encoded data removed]",
      "text/plain": [
       "<Figure size 432x288 with 1 Axes>"
      ]
     },
     "metadata": {
      "needs_background": "light"
     },
     "output_type": "display_data"
    },
    {
     "data": {
      "image/png": "[encoded data removed]",
      "text/plain": [
       "<Figure size 432x288 with 1 Axes>"
      ]
     },
     "metadata": {
      "needs_background": "light"
     },
     "output_type": "display_data"
    },
    {
     "name": "stderr",
     "output_type": "stream",
     "text": [
      "\r",
      "  0%|          | 0/3 [00:00<?, ?it/s]"
     ]
    },
    {
     "name": "stdout",
     "output_type": "stream",
     "text": [
      "\n"
     ]
    },
    {
     "data": {
      "image/png": "[encoded data removed]",
      "text/plain": [
       "<Figure size 432x288 with 1 Axes>"
      ]
     },
     "metadata": {
      "needs_background": "light"
     },
     "output_type": "display_data"
    },
    {
     "name": "stderr",
     "output_type": "stream",
     "text": [
      "\r",
      " 33%|███▎      | 1/3 [00:00<00:00,  2.92it/s]"
     ]
    },
    {
     "data": {
      "image/png": "[encoded data removed]",
      "text/plain": [
       "<Figure size 432x288 with 1 Axes>"
      ]
     },
     "metadata": {
      "needs_background": "light"
     },
     "output_type": "display_data"
    },
    {
     "name": "stderr",
     "output_type": "stream",
     "text": [
      "\r",
      " 67%|██████▋   | 2/3 [00:00<00:00,  3.22it/s]"
     ]
    },
    {
     "data": {
      "image/png": "[encoded data removed]",
      "text/plain": [
       "<Figure size 432x288 with 1 Axes>"
      ]
     },
     "metadata": {
      "needs_background": "light"
     },
     "output_type": "display_data"
    },
    {
     "name": "stderr",
     "output_type": "stream",
     "text": [
      "100%|██████████| 3/3 [00:00<00:00,  3.45it/s]\n"
     ]
    },
    {
     "name": "stdout",
     "output_type": "stream",
     "text": [
      "num test images = 83\n",
      "loss = 0.5221\n",
      "my_metric = 0.7349\n",
      "f1 = 0.7118\n",
      "balanced_accuracy = 0.7244\n",
      "precision = 0.8173\n",
      "recall = 0.7349\n",
      "My_metric is accuracy\n",
      "Confusion matrix, without normalization\n",
      "[[19 21]\n",
      " [ 1 42]]\n"
     ]
    },
    {
     "data": {
      "image/png": "[encoded data removed]",
      "text/plain": [
       "<Figure size 432x288 with 2 Axes>"
      ]
     },
     "metadata": {
      "needs_background": "light"
     },
     "output_type": "display_data"
    }
   ],
   "source": [
    "#Test\n",
    "main2(config, resume)"
   ]
  },
  {
   "cell_type": "code",
   "execution_count": null,
   "metadata": {},
   "outputs": [],
   "source": []
  },
  {
   "cell_type": "code",
   "execution_count": null,
   "metadata": {},
   "outputs": [],
   "source": []
  }
 ],
 "metadata": {
  "kernelspec": {
   "display_name": "Python 3",
   "language": "python",
   "name": "python3"
  },
  "language_info": {
   "codemirror_mode": {
    "name": "ipython",
    "version": 3
   },
   "file_extension": ".py",
   "mimetype": "text/x-python",
   "name": "python",
   "nbconvert_exporter": "python",
   "pygments_lexer": "ipython3",
   "version": "3.6.8"
  }
 },
 "nbformat": 4,
 "nbformat_minor": 2
}
