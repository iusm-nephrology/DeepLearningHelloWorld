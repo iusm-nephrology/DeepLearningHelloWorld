{
 "cells": [
  {
   "cell_type": "code",
   "execution_count": 1,
   "metadata": {},
   "outputs": [
    {
     "name": "stdout",
     "output_type": "stream",
     "text": [
      "Modules loaded\n",
      "Reload complete\n",
      "GPUs available: 1\n"
     ]
    },
    {
     "name": "stderr",
     "output_type": "stream",
     "text": [
      "/home/awoloshu/miniconda3/envs/pytorch36/lib/python3.6/site-packages/tqdm/autonotebook/__init__.py:14: TqdmExperimentalWarning: Using `tqdm.autonotebook.tqdm` in notebook mode. Use `tqdm.tqdm` instead to force console mode (e.g. in jupyter console)\n",
      "  \" (e.g. in jupyter console)\", TqdmExperimentalWarning)\n"
     ]
    }
   ],
   "source": [
    "%matplotlib inline\n",
    "import matplotlib.pyplot as plt\n",
    "import os\n",
    "import numpy as np\n",
    "import json\n",
    "import argparse\n",
    "import torch\n",
    "from torch.optim import lr_scheduler\n",
    "from tqdm import tqdm\n",
    "import data_loader.data_loaders as module_data\n",
    "import model.loss as module_loss\n",
    "import model.metric as module_metric\n",
    "import model.model as module_arch\n",
    "from trainer import Trainer\n",
    "from utils import Logger\n",
    "from utils import util\n",
    "from utils import torchsummary\n",
    "from utils import viewTraining\n",
    "from utils import lr_finder\n",
    "from utils import classActivationMap\n",
    "import importlib\n",
    "import math\n",
    "import torchvision\n",
    "from torch.nn import functional as F\n",
    "from torch import topk\n",
    "import skimage.transform\n",
    "print(\"Modules loaded\")\n",
    "\n",
    "importlib.reload(module_data) #load recent changes to data_loaders.py\n",
    "importlib.reload(module_arch)\n",
    "importlib.reload(module_loss)\n",
    "importlib.reload(module_metric)\n",
    "importlib.reload(util)\n",
    "importlib.reload(viewTraining)\n",
    "importlib.reload(lr_finder)\n",
    "importlib.reload(classActivationMap)\n",
    "print(\"Reload complete\")\n",
    "\n",
    "print(\"GPUs available: \" + str(torch.cuda.device_count()))\n",
    "os.environ[\"CUDA_VISIBLE_DEVICES\"] = \"0,1\""
   ]
  },
  {
   "cell_type": "code",
   "execution_count": 2,
   "metadata": {},
   "outputs": [
    {
     "name": "stdout",
     "output_type": "stream",
     "text": [
      "fin\n"
     ]
    }
   ],
   "source": [
    "resplit_data = False\n",
    "if resplit_data:\n",
    "    os.system('python3 utils/splitDataFolder.py -r \"data/allDAPI_volume_0619/\" -c \"data/allDAPI_volume_0619/Label_all.csv\" -s 0.15')\n",
    "    \n",
    "print(\"fin\")"
   ]
  },
  {
   "cell_type": "code",
   "execution_count": 8,
   "metadata": {},
   "outputs": [],
   "source": [
    "#This function gets the parameters from the config.json file \n",
    "def get_instance(module, name, config, *args):\n",
    "    return getattr(module, config[name]['type'])(*args, **config[name]['args'])\n",
    "\n",
    "def set_instance(module, name, config, *args):\n",
    "    setattr(module, config[name]['type'])(*args, **config[name]['args'])\n",
    "\n",
    "def main(config, resume):\n",
    "    train_logger = Logger() #uses entries to store training performance metrics\n",
    "    device = torch.device('cuda' if torch.cuda.is_available() else 'cpu')\n",
    "    \n",
    "    # setup data_loader instances\n",
    "    data_loader = get_instance(module_data, 'data_loader', config) #looks in data_loader/data_loaders.py for 'MNISTDataLoader'\n",
    "    print(\"Total number of training images = \" + str(data_loader.dataset.data_len))\n",
    "    valid_data_loader = data_loader.split_validation() #allocate some images as validation\n",
    "\n",
    "    # build model architecture\n",
    "    model = get_instance(module_arch, 'arch', config) #looks in the model/model.py for 'MnistModel', as specified by config\n",
    "    print(model)\n",
    "    torchsummary.summary(model, (1,7,32,32))\n",
    "     \n",
    "    \n",
    "    if torch.cuda.is_available():\n",
    "        print(\"Using GPU: \" + torch.cuda.get_device_name(0))\n",
    "    else:\n",
    "        print(\"Using CPU to train\")\n",
    "    \n",
    "    normalized = False\n",
    "    util.visualizeBatch(data_loader, normalized)\n",
    "    \n",
    "    \n",
    "    # get function handles of loss and metrics\n",
    "    loss = getattr(module_loss, config['loss']) #looks in model/loss.py for criterion function specified in config\n",
    "    criterion = loss(data_loader.dataset.weight.to(device)) # for imbalanced datasets\n",
    "    metrics = [getattr(module_metric, met) for met in config['metrics']] #get all the metrics in model/metrics.py - default is accuracy and top 3 accuracy\n",
    "\n",
    "    # build optimizer, learning rate scheduler. delete every lines containing lr_scheduler for disabling scheduler\n",
    "    trainable_params = filter(lambda p: p.requires_grad, model.parameters()) #Number of training params\n",
    "    optimizer = get_instance(torch.optim, 'optimizer', config, trainable_params)\n",
    "    lr_scheduler = get_instance(torch.optim.lr_scheduler, 'lr_scheduler', config, optimizer)\n",
    "\n",
    "    \n",
    "    trainer = Trainer(model, criterion, metrics, optimizer,\n",
    "                      resume=resume, #choose a previous epoch to start training from\n",
    "                      config=config,\n",
    "                      data_loader=data_loader,\n",
    "                      valid_data_loader=valid_data_loader,\n",
    "                      lr_scheduler=lr_scheduler,\n",
    "                      train_logger=train_logger)\n",
    "    \n",
    "    \n",
    "    findLR = False\n",
    "    if findLR:\n",
    "        #set lr = 1e-7 in config file \n",
    "        device_lr = torch.device('cuda' if torch.cuda.is_available() else 'cpu')\n",
    "        lr_finder_training = lr_finder.LRFinder(model, optimizer, criterion, device=device_lr)\n",
    "        lr_finder_training.range_test(data_loader, end_lr=1, num_iter=100, val_loader = valid_data_loader)\n",
    "        lr_finder_training.plot(skip_start = 10, skip_end=5)\n",
    "        # trim the first 10 and last 5 iteration from calculating loss (num_iter > skip_start + skip_end)\n",
    "    else:\n",
    "        trainer.train()\n",
    "        a=1\n",
    "    \n",
    " "
   ]
  },
  {
   "cell_type": "code",
   "execution_count": 9,
   "metadata": {},
   "outputs": [],
   "source": [
    "config_file = 'configs/config_3d.json'\n",
    "\n",
    "# load config file\n",
    "with open(config_file) as handle:\n",
    "    config = json.load(handle)\n",
    "# setting path to save trained models and log files\n",
    "path = os.path.join(config['trainer']['save_dir'], config['name'])"
   ]
  },
  {
   "cell_type": "code",
   "execution_count": null,
   "metadata": {},
   "outputs": [
    {
     "name": "stdout",
     "output_type": "stream",
     "text": [
      "Total number of training images = 1313\n",
      "threeDmodel(\n",
      "  (conv_layer1): Sequential(\n",
      "    (0): Conv3d(1, 32, kernel_size=(3, 3, 3), stride=(1, 1, 1), padding=(1, 1, 1))\n",
      "    (1): BatchNorm3d(32, eps=1e-05, momentum=0.1, affine=True, track_running_stats=True)\n",
      "    (2): LeakyReLU(negative_slope=0.01)\n",
      "    (3): Conv3d(32, 32, kernel_size=(3, 3, 3), stride=(1, 1, 1), padding=(1, 1, 1))\n",
      "    (4): BatchNorm3d(32, eps=1e-05, momentum=0.1, affine=True, track_running_stats=True)\n",
      "    (5): LeakyReLU(negative_slope=0.01)\n",
      "    (6): MaxPool3d(kernel_size=(2, 2, 2), stride=(2, 2, 2), padding=0, dilation=1, ceil_mode=False)\n",
      "  )\n",
      "  (conv_layer2): Sequential(\n",
      "    (0): Conv3d(32, 64, kernel_size=(3, 3, 3), stride=(1, 1, 1), padding=(1, 1, 1))\n",
      "    (1): BatchNorm3d(64, eps=1e-05, momentum=0.1, affine=True, track_running_stats=True)\n",
      "    (2): LeakyReLU(negative_slope=0.01)\n",
      "    (3): Conv3d(64, 64, kernel_size=(3, 3, 3), stride=(1, 1, 1), padding=(1, 1, 1))\n",
      "    (4): BatchNorm3d(64, eps=1e-05, momentum=0.1, affine=True, track_running_stats=True)\n",
      "    (5): LeakyReLU(negative_slope=0.01)\n",
      "    (6): MaxPool3d(kernel_size=(2, 2, 2), stride=(2, 2, 2), padding=0, dilation=1, ceil_mode=False)\n",
      "  )\n",
      "  (conv_layer3): Sequential(\n",
      "    (0): Conv3d(64, 128, kernel_size=(3, 3, 3), stride=(1, 1, 1), padding=(1, 1, 1))\n",
      "    (1): BatchNorm3d(128, eps=1e-05, momentum=0.1, affine=True, track_running_stats=True)\n",
      "    (2): LeakyReLU(negative_slope=0.01)\n",
      "    (3): Conv3d(128, 128, kernel_size=(3, 3, 3), stride=(1, 1, 1), padding=(1, 1, 1))\n",
      "    (4): BatchNorm3d(128, eps=1e-05, momentum=0.1, affine=True, track_running_stats=True)\n",
      "    (5): LeakyReLU(negative_slope=0.01)\n",
      "    (6): MaxPool3d(kernel_size=(2, 2, 2), stride=(2, 2, 2), padding=0, dilation=1, ceil_mode=False)\n",
      "  )\n",
      "  (conv_layer4): Conv3d(128, 256, kernel_size=(1, 3, 3), stride=(1, 1, 1), padding=(0, 1, 1))\n",
      "  (fc5): Linear(in_features=4096, out_features=256, bias=True)\n",
      "  (relu): LeakyReLU(negative_slope=0.01)\n",
      "  (batch0): BatchNorm1d(256, eps=1e-05, momentum=0.1, affine=True, track_running_stats=True)\n",
      "  (drop): Dropout(p=0.15)\n",
      "  (fc6): Linear(in_features=256, out_features=128, bias=True)\n",
      "  (relu1): LeakyReLU(negative_slope=0.01)\n",
      "  (batch1): BatchNorm1d(128, eps=1e-05, momentum=0.1, affine=True, track_running_stats=True)\n",
      "  (drop1): Dropout(p=0.15)\n",
      "  (fc7): Linear(in_features=128, out_features=2, bias=True)\n",
      ")\n",
      "Trainable parameters: 2237218\n",
      "----------------------------------------------------------------\n",
      "        Layer (type)               Output Shape         Param #\n",
      "================================================================\n",
      "            Conv3d-1        [-1, 32, 7, 32, 32]             896\n",
      "       BatchNorm3d-2        [-1, 32, 7, 32, 32]              64\n",
      "         LeakyReLU-3        [-1, 32, 7, 32, 32]               0\n",
      "            Conv3d-4        [-1, 32, 7, 32, 32]          27,680\n",
      "       BatchNorm3d-5        [-1, 32, 7, 32, 32]              64\n",
      "         LeakyReLU-6        [-1, 32, 7, 32, 32]               0\n",
      "         MaxPool3d-7        [-1, 32, 3, 16, 16]               0\n",
      "            Conv3d-8        [-1, 64, 3, 16, 16]          55,360\n",
      "       BatchNorm3d-9        [-1, 64, 3, 16, 16]             128\n",
      "        LeakyReLU-10        [-1, 64, 3, 16, 16]               0\n",
      "           Conv3d-11        [-1, 64, 3, 16, 16]         110,656\n",
      "      BatchNorm3d-12        [-1, 64, 3, 16, 16]             128\n",
      "        LeakyReLU-13        [-1, 64, 3, 16, 16]               0\n",
      "        MaxPool3d-14          [-1, 64, 1, 8, 8]               0\n",
      "           Conv3d-15         [-1, 128, 1, 8, 8]         221,312\n",
      "      BatchNorm3d-16         [-1, 128, 1, 8, 8]             256\n",
      "        LeakyReLU-17         [-1, 128, 1, 8, 8]               0\n",
      "           Conv3d-18         [-1, 128, 1, 8, 8]         442,496\n",
      "      BatchNorm3d-19         [-1, 128, 1, 8, 8]             256\n",
      "        LeakyReLU-20         [-1, 128, 1, 8, 8]               0\n",
      "        MaxPool3d-21         [-1, 128, 1, 4, 4]               0\n",
      "           Conv3d-22         [-1, 256, 1, 4, 4]         295,168\n",
      "           Linear-23                  [-1, 256]       1,048,832\n",
      "        LeakyReLU-24                  [-1, 256]               0\n",
      "      BatchNorm1d-25                  [-1, 256]             512\n",
      "          Dropout-26                  [-1, 256]               0\n",
      "           Linear-27                  [-1, 128]          32,896\n",
      "        LeakyReLU-28                  [-1, 128]               0\n",
      "      BatchNorm1d-29                  [-1, 128]             256\n",
      "          Dropout-30                  [-1, 128]               0\n",
      "           Linear-31                    [-1, 2]             258\n",
      "================================================================\n",
      "Total params: 2,237,218\n",
      "Trainable params: 2,237,218\n",
      "Non-trainable params: 0\n",
      "----------------------------------------------------------------\n",
      "Input size (MB): 0.03\n",
      "Forward/backward pass size (MB): 13.40\n",
      "Params size (MB): 8.53\n",
      "Estimated Total Size (MB): 21.96\n",
      "----------------------------------------------------------------\n",
      "Using GPU: Tesla K80\n"
     ]
    },
    {
     "data": {
      "image/png": "[encoded data removed]",
      "text/plain": [
       "<Figure size 432x288 with 1 Axes>"
      ]
     },
     "metadata": {
      "needs_background": "light"
     },
     "output_type": "display_data"
    },
    {
     "data": {
      "image/png": "[encoded data removed]",
      "text/plain": [
       "<Figure size 432x288 with 1 Axes>"
      ]
     },
     "metadata": {
      "needs_background": "light"
     },
     "output_type": "display_data"
    },
    {
     "data": {
      "image/png": "[encoded data removed]",
      "text/plain": [
       "<Figure size 432x288 with 1 Axes>"
      ]
     },
     "metadata": {
      "needs_background": "light"
     },
     "output_type": "display_data"
    },
    {
     "data": {
      "image/png": "[encoded data removed]",
      "text/plain": [
       "<Figure size 432x288 with 1 Axes>"
      ]
     },
     "metadata": {
      "needs_background": "light"
     },
     "output_type": "display_data"
    },
    {
     "data": {
      "image/png": "[encoded data removed]",
      "text/plain": [
       "<Figure size 432x288 with 1 Axes>"
      ]
     },
     "metadata": {
      "needs_background": "light"
     },
     "output_type": "display_data"
    },
    {
     "data": {
      "image/png": "[encoded data removed]",
      "text/plain": [
       "<Figure size 432x288 with 1 Axes>"
      ]
     },
     "metadata": {
      "needs_background": "light"
     },
     "output_type": "display_data"
    },
    {
     "data": {
      "image/png": "[encoded data removed]",
      "text/plain": [
       "<Figure size 432x288 with 1 Axes>"
      ]
     },
     "metadata": {
      "needs_background": "light"
     },
     "output_type": "display_data"
    },
    {
     "name": "stderr",
     "output_type": "stream",
     "text": [
      "    epoch          : 1\n",
      "    loss           : 0.9141933818658193\n",
      "    my_metric      : 0.5893199233716475\n",
      "    f1             : 0.526381262781919\n",
      "    balanced_accuracy: 0.5704861128152741\n",
      "    precision      : 0.6473285026859759\n",
      "    recall         : 0.5893199233716475\n",
      "    val_loss       : 0.6528845578432083\n",
      "    val_my_metric  : 0.703125\n",
      "    val_f1         : 0.6857851546048275\n",
      "    val_balanced_accuracy: 0.6890415730548558\n",
      "    val_precision  : 0.7426843943427661\n",
      "    val_recall     : 0.703125\n",
      "Saving checkpoint: saved/MaskedVolume_3d/0619_200535/checkpoint-epoch1.pth ...\n",
      "Saving current best: model_best.pth ...\n",
      "    epoch          : 2\n",
      "    loss           : 0.7483117315504286\n",
      "    my_metric      : 0.6199113984674329\n",
      "    f1             : 0.583144895467592\n",
      "    balanced_accuracy: 0.6064511038428319\n",
      "    precision      : 0.6695321067012054\n",
      "    recall         : 0.6199113984674329\n",
      "    val_loss       : 0.6614248007535934\n",
      "    val_my_metric  : 0.69921875\n",
      "    val_f1         : 0.6948149204528447\n",
      "    val_balanced_accuracy: 0.7113010721529991\n",
      "    val_precision  : 0.7392933238636363\n",
      "    val_recall     : 0.69921875\n"
     ]
    },
    {
     "name": "stdout",
     "output_type": "stream",
     "text": [
      "Model has not improved in -------------| 1 epochs\n"
     ]
    },
    {
     "name": "stderr",
     "output_type": "stream",
     "text": [
      "    epoch          : 3\n",
      "    loss           : 0.6968262692292532\n",
      "    my_metric      : 0.6424808429118775\n",
      "    f1             : 0.6215191036307759\n",
      "    balanced_accuracy: 0.6321257038377229\n",
      "    precision      : 0.6724217711863608\n",
      "    recall         : 0.6424808429118775\n",
      "    val_loss       : 0.5957870036363602\n",
      "    val_my_metric  : 0.69140625\n",
      "    val_f1         : 0.6843566776854381\n",
      "    val_balanced_accuracy: 0.7022215641236775\n",
      "    val_precision  : 0.7365189985795455\n",
      "    val_recall     : 0.69140625\n",
      "Saving checkpoint: saved/MaskedVolume_3d/0619_200535/checkpoint-epoch3.pth ...\n",
      "Saving current best: model_best.pth ...\n",
      "    epoch          : 4\n",
      "    loss           : 0.6450851327843137\n",
      "    my_metric      : 0.6643618295019157\n",
      "    f1             : 0.6550705219163933\n",
      "    balanced_accuracy: 0.6581994464784118\n",
      "    precision      : 0.6814089510543968\n",
      "    recall         : 0.6643618295019157\n",
      "    val_loss       : 0.577988974750042\n",
      "    val_my_metric  : 0.6484375\n",
      "    val_f1         : 0.641383040317624\n",
      "    val_balanced_accuracy: 0.6847961413589889\n",
      "    val_precision  : 0.7440701308356098\n",
      "    val_recall     : 0.6484375\n",
      "Saving checkpoint: saved/MaskedVolume_3d/0619_200535/checkpoint-epoch4.pth ...\n",
      "Saving current best: model_best.pth ...\n",
      "    epoch          : 5\n",
      "    loss           : 0.618170772989591\n",
      "    my_metric      : 0.6789391762452107\n",
      "    f1             : 0.6778040315421725\n",
      "    balanced_accuracy: 0.6801801986213512\n",
      "    precision      : 0.691697328279973\n",
      "    recall         : 0.6789391762452107\n",
      "    val_loss       : 0.519316915422678\n",
      "    val_my_metric  : 0.7734375\n",
      "    val_f1         : 0.7744072898032797\n",
      "    val_balanced_accuracy: 0.7747998768472907\n",
      "    val_precision  : 0.7806715410396421\n",
      "    val_recall     : 0.7734375\n",
      "Saving checkpoint: saved/MaskedVolume_3d/0619_200535/checkpoint-epoch5.pth ...\n",
      "Saving current best: model_best.pth ...\n",
      "    epoch          : 6\n",
      "    loss           : 0.5878620197375616\n",
      "    my_metric      : 0.6975275383141762\n",
      "    f1             : 0.6980178184549489\n",
      "    balanced_accuracy: 0.6984552560198335\n",
      "    precision      : 0.7052253321991769\n",
      "    recall         : 0.6975275383141762\n",
      "    val_loss       : 0.5476197749376297\n",
      "    val_my_metric  : 0.734375\n",
      "    val_f1         : 0.7275124508525419\n",
      "    val_balanced_accuracy: 0.7297281453690623\n",
      "    val_precision  : 0.7622044947240258\n",
      "    val_recall     : 0.734375\n"
     ]
    },
    {
     "name": "stdout",
     "output_type": "stream",
     "text": [
      "Model has not improved in -------------| 1 epochs\n"
     ]
    },
    {
     "name": "stderr",
     "output_type": "stream",
     "text": [
      "    epoch          : 7\n",
      "    loss           : 0.6131131996711096\n",
      "    my_metric      : 0.6846563697318008\n",
      "    f1             : 0.6862410780445324\n",
      "    balanced_accuracy: 0.6877052426712305\n",
      "    precision      : 0.6968363712388406\n",
      "    recall         : 0.6846563697318008\n",
      "    val_loss       : 0.5820466056466103\n",
      "    val_my_metric  : 0.6796875\n",
      "    val_f1         : 0.7058250343755984\n",
      "    val_balanced_accuracy: 0.6874356548160776\n",
      "    val_precision  : 0.7606507316468254\n",
      "    val_recall     : 0.6796875\n"
     ]
    },
    {
     "name": "stdout",
     "output_type": "stream",
     "text": [
      "Model has not improved in -------------| 2 epochs\n"
     ]
    },
    {
     "name": "stderr",
     "output_type": "stream",
     "text": [
      "    epoch          : 8\n",
      "    loss           : 0.606745206647449\n",
      "    my_metric      : 0.6989044540229885\n",
      "    f1             : 0.6993376293874936\n",
      "    balanced_accuracy: 0.7019321894169985\n",
      "    precision      : 0.7122271570644247\n",
      "    recall         : 0.6989044540229885\n",
      "    val_loss       : 0.6729509681463242\n",
      "    val_my_metric  : 0.58203125\n",
      "    val_f1         : 0.568868898336188\n",
      "    val_balanced_accuracy: 0.5865838001867414\n",
      "    val_precision  : 0.5717029600301659\n",
      "    val_recall     : 0.58203125\n"
     ]
    },
    {
     "name": "stdout",
     "output_type": "stream",
     "text": [
      "Model has not improved in -------------| 3 epochs\n"
     ]
    },
    {
     "name": "stderr",
     "output_type": "stream",
     "text": [
      "    epoch          : 9\n",
      "    loss           : 0.590020067161984\n",
      "    my_metric      : 0.7058488984674329\n",
      "    f1             : 0.7059859339971779\n",
      "    balanced_accuracy: 0.7074922663376852\n",
      "    precision      : 0.7137394537844703\n",
      "    recall         : 0.7058488984674329\n",
      "    val_loss       : 0.9154685437679291\n",
      "    val_my_metric  : 0.62890625\n",
      "    val_f1         : 0.6187308774578452\n",
      "    val_balanced_accuracy: 0.6408730158730158\n",
      "    val_precision  : 0.6847125389230653\n",
      "    val_recall     : 0.62890625\n"
     ]
    },
    {
     "name": "stdout",
     "output_type": "stream",
     "text": [
      "Model has not improved in -------------| 4 epochs\n"
     ]
    },
    {
     "name": "stderr",
     "output_type": "stream",
     "text": [
      "    epoch          : 10\n",
      "    loss           : 0.6196391367250018\n",
      "    my_metric      : 0.6858836206896552\n",
      "    f1             : 0.6842231654960662\n",
      "    balanced_accuracy: 0.68197221628579\n",
      "    precision      : 0.6897294663322584\n",
      "    recall         : 0.6858836206896552\n",
      "    val_loss       : 0.739590659737587\n",
      "    val_my_metric  : 0.57421875\n",
      "    val_f1         : 0.555476949698319\n",
      "    val_balanced_accuracy: 0.5890625\n",
      "    val_precision  : 0.5963159307829612\n",
      "    val_recall     : 0.57421875\n"
     ]
    },
    {
     "name": "stdout",
     "output_type": "stream",
     "text": [
      "Model has not improved in -------------| 5 epochs\n"
     ]
    },
    {
     "name": "stderr",
     "output_type": "stream",
     "text": [
      "    epoch          : 11\n",
      "    loss           : 0.6076151960425906\n",
      "    my_metric      : 0.6964798850574713\n",
      "    f1             : 0.6966190207340346\n",
      "    balanced_accuracy: 0.6964463802650482\n",
      "    precision      : 0.7060300232737453\n",
      "    recall         : 0.6964798850574713\n",
      "    val_loss       : 0.553815171122551\n",
      "    val_my_metric  : 0.7109375\n",
      "    val_f1         : 0.7044039545803659\n",
      "    val_balanced_accuracy: 0.7175070028011205\n",
      "    val_precision  : 0.7484863084421061\n",
      "    val_recall     : 0.7109375\n"
     ]
    },
    {
     "name": "stdout",
     "output_type": "stream",
     "text": [
      "Model has not improved in -------------| 6 epochs\n"
     ]
    },
    {
     "name": "stderr",
     "output_type": "stream",
     "text": [
      "    epoch          : 12\n",
      "    loss           : 0.5939047899511125\n",
      "    my_metric      : 0.6971384099616859\n",
      "    f1             : 0.6986412687530711\n",
      "    balanced_accuracy: 0.695892774817019\n",
      "    precision      : 0.7070221586487014\n",
      "    recall         : 0.6971384099616859\n",
      "    val_loss       : 0.5725241005420685\n",
      "    val_my_metric  : 0.72265625\n",
      "    val_f1         : 0.7187021321353432\n",
      "    val_balanced_accuracy: 0.721609278613589\n",
      "    val_precision  : 0.7447028818400527\n",
      "    val_recall     : 0.72265625\n"
     ]
    },
    {
     "name": "stdout",
     "output_type": "stream",
     "text": [
      "Model has not improved in -------------| 7 epochs\n"
     ]
    },
    {
     "name": "stderr",
     "output_type": "stream",
     "text": [
      "    epoch          : 13\n",
      "    loss           : 0.5614297058847215\n",
      "    my_metric      : 0.7192289272030652\n",
      "    f1             : 0.7181945720083658\n",
      "    balanced_accuracy: 0.7181776880519058\n",
      "    precision      : 0.7246829721463757\n",
      "    recall         : 0.7192289272030652\n",
      "    val_loss       : 0.5367546752095222\n",
      "    val_my_metric  : 0.74609375\n",
      "    val_f1         : 0.7501832511969023\n",
      "    val_balanced_accuracy: 0.7716869506423258\n",
      "    val_precision  : 0.7871849423363095\n",
      "    val_recall     : 0.74609375\n"
     ]
    },
    {
     "name": "stdout",
     "output_type": "stream",
     "text": [
      "Model has not improved in -------------| 8 epochs\n"
     ]
    },
    {
     "name": "stderr",
     "output_type": "stream",
     "text": [
      "    epoch          : 14\n",
      "    loss           : 0.5934314346975751\n",
      "    my_metric      : 0.7169540229885057\n",
      "    f1             : 0.717982838184398\n",
      "    balanced_accuracy: 0.7219722960438246\n",
      "    precision      : 0.7291505862608836\n",
      "    recall         : 0.7169540229885057\n",
      "    val_loss       : 0.642042726278305\n",
      "    val_my_metric  : 0.6875\n",
      "    val_f1         : 0.6843371880988013\n",
      "    val_balanced_accuracy: 0.7183892396072595\n",
      "    val_precision  : 0.7514919295215443\n",
      "    val_recall     : 0.6875\n"
     ]
    },
    {
     "name": "stdout",
     "output_type": "stream",
     "text": [
      "Model has not improved in -------------| 9 epochs\n"
     ]
    },
    {
     "name": "stderr",
     "output_type": "stream",
     "text": [
      "    epoch          : 15\n",
      "    loss           : 0.5726662940449185\n",
      "    my_metric      : 0.7221922892720306\n",
      "    f1             : 0.7222681398433236\n",
      "    balanced_accuracy: 0.7245325723818571\n",
      "    precision      : 0.7340101326931574\n",
      "    recall         : 0.7221922892720306\n",
      "    val_loss       : 0.4970148727297783\n",
      "    val_my_metric  : 0.8046875\n",
      "    val_f1         : 0.8045572146678913\n",
      "    val_balanced_accuracy: 0.8046711353162965\n",
      "    val_precision  : 0.8136811197358071\n",
      "    val_recall     : 0.8046875\n",
      "Saving checkpoint: saved/MaskedVolume_3d/0619_200535/checkpoint-epoch15.pth ...\n",
      "Saving current best: model_best.pth ...\n",
      "    epoch          : 16\n",
      "    loss           : 0.5719676630364524\n",
      "    my_metric      : 0.7121048850574713\n",
      "    f1             : 0.7125885434699609\n",
      "    balanced_accuracy: 0.7183983635462903\n",
      "    precision      : 0.7291804038239152\n",
      "    recall         : 0.7121048850574713\n",
      "    val_loss       : 0.5865262001752853\n",
      "    val_my_metric  : 0.72265625\n",
      "    val_f1         : 0.7252474855280056\n",
      "    val_balanced_accuracy: 0.7513766138639364\n",
      "    val_precision  : 0.7727532219719719\n",
      "    val_recall     : 0.72265625\n"
     ]
    },
    {
     "name": "stdout",
     "output_type": "stream",
     "text": [
      "Model has not improved in -------------| 1 epochs\n"
     ]
    },
    {
     "name": "stderr",
     "output_type": "stream",
     "text": [
      "    epoch          : 17\n",
      "    loss           : 0.5703237139516406\n",
      "    my_metric      : 0.7134818007662835\n",
      "    f1             : 0.71134556337511\n",
      "    balanced_accuracy: 0.7151667302378298\n",
      "    precision      : 0.729017823290608\n",
      "    recall         : 0.7134818007662835\n",
      "    val_loss       : 0.5197689682245255\n",
      "    val_my_metric  : 0.74609375\n",
      "    val_f1         : 0.7404065759606901\n",
      "    val_balanced_accuracy: 0.741111272095045\n",
      "    val_precision  : 0.7677830474705474\n",
      "    val_recall     : 0.74609375\n"
     ]
    },
    {
     "name": "stdout",
     "output_type": "stream",
     "text": [
      "Model has not improved in -------------| 2 epochs\n"
     ]
    },
    {
     "name": "stderr",
     "output_type": "stream",
     "text": [
      "    epoch          : 18\n",
      "    loss           : 0.5583351933293872\n",
      "    my_metric      : 0.7275502873563219\n",
      "    f1             : 0.7285324209220382\n",
      "    balanced_accuracy: 0.7309499744863144\n",
      "    precision      : 0.7366521490213208\n",
      "    recall         : 0.7275502873563219\n",
      "    val_loss       : 0.6115516573190689\n",
      "    val_my_metric  : 0.703125\n",
      "    val_f1         : 0.703603690750868\n",
      "    val_balanced_accuracy: 0.7039205250394767\n",
      "    val_precision  : 0.7059564558582054\n",
      "    val_recall     : 0.703125\n"
     ]
    },
    {
     "name": "stdout",
     "output_type": "stream",
     "text": [
      "Model has not improved in -------------| 3 epochs\n"
     ]
    },
    {
     "name": "stderr",
     "output_type": "stream",
     "text": [
      "    epoch          : 19\n",
      "    loss           : 0.5575847956869338\n",
      "    my_metric      : 0.7372784961685823\n",
      "    f1             : 0.7375814392711193\n",
      "    balanced_accuracy: 0.7378223763782086\n",
      "    precision      : 0.7419156496898052\n",
      "    recall         : 0.7372784961685823\n",
      "    val_loss       : 0.6110642850399017\n",
      "    val_my_metric  : 0.66796875\n",
      "    val_f1         : 0.6676284189349923\n",
      "    val_balanced_accuracy: 0.6275016110110659\n",
      "    val_precision  : 0.6741979331843836\n",
      "    val_recall     : 0.66796875\n"
     ]
    },
    {
     "name": "stdout",
     "output_type": "stream",
     "text": [
      "Model has not improved in -------------| 4 epochs\n"
     ]
    },
    {
     "name": "stderr",
     "output_type": "stream",
     "text": [
      "    epoch          : 20\n",
      "    loss           : 0.5533482333024343\n",
      "    my_metric      : 0.7294659961685823\n",
      "    f1             : 0.728949073877878\n",
      "    balanced_accuracy: 0.729663745226662\n",
      "    precision      : 0.7368484849405462\n",
      "    recall         : 0.7294659961685823\n",
      "    val_loss       : 0.48928727209568024\n",
      "    val_my_metric  : 0.8046875\n",
      "    val_f1         : 0.805054819190345\n",
      "    val_balanced_accuracy: 0.806603504022859\n",
      "    val_precision  : 0.8089921852361635\n",
      "    val_recall     : 0.8046875\n",
      "Saving checkpoint: saved/MaskedVolume_3d/0619_200535/checkpoint-epoch20.pth ...\n",
      "Saving current best: model_best.pth ...\n",
      "    epoch          : 21\n",
      "    loss           : 0.5653931217061149\n",
      "    my_metric      : 0.7279094827586207\n",
      "    f1             : 0.7283369408659813\n",
      "    balanced_accuracy: 0.7303001122476509\n",
      "    precision      : 0.7376495945243864\n",
      "    recall         : 0.7279094827586207\n",
      "    val_loss       : 0.64165860414505\n",
      "    val_my_metric  : 0.72265625\n",
      "    val_f1         : 0.7263184200684201\n",
      "    val_balanced_accuracy: 0.7404202485591937\n",
      "    val_precision  : 0.7553148967967516\n",
      "    val_recall     : 0.72265625\n"
     ]
    },
    {
     "name": "stdout",
     "output_type": "stream",
     "text": [
      "Model has not improved in -------------| 1 epochs\n"
     ]
    },
    {
     "name": "stderr",
     "output_type": "stream",
     "text": [
      "    epoch          : 22\n",
      "    loss           : 0.5607568869988123\n",
      "    my_metric      : 0.7167744252873564\n",
      "    f1             : 0.7177333473110262\n",
      "    balanced_accuracy: 0.7194030286720126\n",
      "    precision      : 0.7269767154497094\n",
      "    recall         : 0.7167744252873564\n",
      "    val_loss       : 0.568791925907135\n",
      "    val_my_metric  : 0.76953125\n",
      "    val_f1         : 0.7423878670808791\n",
      "    val_balanced_accuracy: 0.7152465515994895\n",
      "    val_precision  : 0.7402469433719434\n",
      "    val_recall     : 0.76953125\n"
     ]
    },
    {
     "name": "stdout",
     "output_type": "stream",
     "text": [
      "Model has not improved in -------------| 2 epochs\n"
     ]
    },
    {
     "name": "stderr",
     "output_type": "stream",
     "text": [
      "    epoch          : 23\n",
      "    loss           : 0.5881087399191327\n",
      "    my_metric      : 0.7096503831417624\n",
      "    f1             : 0.7118027403350937\n",
      "    balanced_accuracy: 0.7130731206015153\n",
      "    precision      : 0.7242543153556606\n",
      "    recall         : 0.7096503831417624\n",
      "    val_loss       : 0.5858811289072037\n",
      "    val_my_metric  : 0.75\n",
      "    val_f1         : 0.7447002816321404\n",
      "    val_balanced_accuracy: 0.7590525793650793\n",
      "    val_precision  : 0.7936756297342817\n",
      "    val_recall     : 0.75\n"
     ]
    },
    {
     "name": "stdout",
     "output_type": "stream",
     "text": [
      "Model has not improved in -------------| 3 epochs\n"
     ]
    },
    {
     "name": "stderr",
     "output_type": "stream",
     "text": [
      "    epoch          : 24\n",
      "    loss           : 0.5542257130146027\n",
      "    my_metric      : 0.7343450670498084\n",
      "    f1             : 0.7333426766596296\n",
      "    balanced_accuracy: 0.7337787450018601\n",
      "    precision      : 0.7410898734008763\n",
      "    recall         : 0.7343450670498084\n",
      "    val_loss       : 0.5209142193198204\n",
      "    val_my_metric  : 0.76171875\n",
      "    val_f1         : 0.7584804081669267\n",
      "    val_balanced_accuracy: 0.7711433531746031\n",
      "    val_precision  : 0.785045086492455\n",
      "    val_recall     : 0.76171875\n"
     ]
    },
    {
     "name": "stdout",
     "output_type": "stream",
     "text": [
      "Model has not improved in -------------| 4 epochs\n"
     ]
    },
    {
     "name": "stderr",
     "output_type": "stream",
     "text": [
      "    epoch          : 25\n",
      "    loss           : 0.5591146465804842\n",
      "    my_metric      : 0.7343151340996168\n",
      "    f1             : 0.7336370983904786\n",
      "    balanced_accuracy: 0.73489671237498\n",
      "    precision      : 0.7446200338168367\n",
      "    recall         : 0.7343151340996168\n",
      "    val_loss       : 0.6387842893600464\n",
      "    val_my_metric  : 0.68359375\n",
      "    val_f1         : 0.6753259022422851\n",
      "    val_balanced_accuracy: 0.6778282939651474\n",
      "    val_precision  : 0.7079032042280062\n",
      "    val_recall     : 0.68359375\n"
     ]
    },
    {
     "name": "stdout",
     "output_type": "stream",
     "text": [
      "Model has not improved in -------------| 5 epochs\n"
     ]
    },
    {
     "name": "stderr",
     "output_type": "stream",
     "text": [
      "    epoch          : 26\n",
      "    loss           : 0.5631815526220534\n",
      "    my_metric      : 0.7232100095785441\n",
      "    f1             : 0.7237505424874057\n",
      "    balanced_accuracy: 0.7254630282423196\n",
      "    precision      : 0.7300564003966982\n",
      "    recall         : 0.7232100095785441\n",
      "    val_loss       : 0.5321115776896477\n",
      "    val_my_metric  : 0.75390625\n",
      "    val_f1         : 0.7807228282579263\n",
      "    val_balanced_accuracy: 0.7621323529411764\n",
      "    val_precision  : 0.8350262829490771\n",
      "    val_recall     : 0.75390625\n"
     ]
    },
    {
     "name": "stdout",
     "output_type": "stream",
     "text": [
      "Model has not improved in -------------| 6 epochs\n"
     ]
    },
    {
     "name": "stderr",
     "output_type": "stream",
     "text": [
      "    epoch          : 27\n",
      "    loss           : 0.5509787599245707\n",
      "    my_metric      : 0.756555316091954\n",
      "    f1             : 0.7572019597436493\n",
      "    balanced_accuracy: 0.7592502528919726\n",
      "    precision      : 0.766705356916359\n",
      "    recall         : 0.756555316091954\n",
      "    val_loss       : 0.681614100933075\n",
      "    val_my_metric  : 0.63671875\n",
      "    val_f1         : 0.6502026285197624\n",
      "    val_balanced_accuracy: 0.6204295256714611\n",
      "    val_precision  : 0.6789193722157432\n",
      "    val_recall     : 0.63671875\n"
     ]
    },
    {
     "name": "stdout",
     "output_type": "stream",
     "text": [
      "Model has not improved in -------------| 7 epochs\n"
     ]
    },
    {
     "name": "stderr",
     "output_type": "stream",
     "text": [
      "    epoch          : 28\n",
      "    loss           : 0.5479676475127538\n",
      "    my_metric      : 0.7372784961685823\n",
      "    f1             : 0.7384512851208824\n",
      "    balanced_accuracy: 0.7423393426112443\n",
      "    precision      : 0.7495006990269639\n",
      "    recall         : 0.7372784961685823\n",
      "    val_loss       : 0.574556939303875\n",
      "    val_my_metric  : 0.75\n",
      "    val_f1         : 0.7231870237501781\n",
      "    val_balanced_accuracy: 0.6945095042147322\n",
      "    val_precision  : 0.7201187025290885\n",
      "    val_recall     : 0.75\n"
     ]
    },
    {
     "name": "stdout",
     "output_type": "stream",
     "text": [
      "Model has not improved in -------------| 8 epochs\n"
     ]
    },
    {
     "name": "stderr",
     "output_type": "stream",
     "text": [
      "    epoch          : 29\n",
      "    loss           : 0.540823746058676\n",
      "    my_metric      : 0.7537715517241379\n",
      "    f1             : 0.7540158131782637\n",
      "    balanced_accuracy: 0.755000196275272\n",
      "    precision      : 0.7613341138198265\n",
      "    recall         : 0.7537715517241379\n",
      "    val_loss       : 0.5008230805397034\n",
      "    val_my_metric  : 0.7890625\n",
      "    val_f1         : 0.7863754365193663\n",
      "    val_balanced_accuracy: 0.7979157938835358\n",
      "    val_precision  : 0.8185325851199066\n",
      "    val_recall     : 0.7890625\n"
     ]
    },
    {
     "name": "stdout",
     "output_type": "stream",
     "text": [
      "Model has not improved in -------------| 9 epochs\n"
     ]
    },
    {
     "name": "stderr",
     "output_type": "stream",
     "text": [
      "    epoch          : 30\n",
      "    loss           : 0.5489636411269506\n",
      "    my_metric      : 0.7502993295019157\n",
      "    f1             : 0.7512405229939302\n",
      "    balanced_accuracy: 0.7543487293741781\n",
      "    precision      : 0.7594512071423011\n",
      "    recall         : 0.7502993295019157\n",
      "    val_loss       : 0.49761663377285004\n",
      "    val_my_metric  : 0.81640625\n",
      "    val_f1         : 0.8160846785979438\n",
      "    val_balanced_accuracy: 0.8153394544523578\n",
      "    val_precision  : 0.8175413246922824\n",
      "    val_recall     : 0.81640625\n"
     ]
    },
    {
     "name": "stdout",
     "output_type": "stream",
     "text": [
      "Model has not improved in -------------| 10 epochs\n"
     ]
    },
    {
     "name": "stderr",
     "output_type": "stream",
     "text": [
      "    epoch          : 31\n",
      "    loss           : 0.5441323733992047\n",
      "    my_metric      : 0.7433548850574713\n",
      "    f1             : 0.7439967472297577\n",
      "    balanced_accuracy: 0.746546136737823\n",
      "    precision      : 0.7530946261065331\n",
      "    recall         : 0.7433548850574713\n",
      "    val_loss       : 0.5048684999346733\n",
      "    val_my_metric  : 0.8046875\n",
      "    val_f1         : 0.802826343707884\n",
      "    val_balanced_accuracy: 0.8106925528832223\n",
      "    val_precision  : 0.826757421909537\n",
      "    val_recall     : 0.8046875\n"
     ]
    },
    {
     "name": "stdout",
     "output_type": "stream",
     "text": [
      "Model has not improved in -------------| 11 epochs\n"
     ]
    },
    {
     "name": "stderr",
     "output_type": "stream",
     "text": [
      "    epoch          : 32\n",
      "    loss           : 0.5488915824227862\n",
      "    my_metric      : 0.7529334291187739\n",
      "    f1             : 0.7532269752552886\n",
      "    balanced_accuracy: 0.7533836083236094\n",
      "    precision      : 0.7583168901195068\n",
      "    recall         : 0.7529334291187739\n",
      "    val_loss       : 0.49737370759248734\n",
      "    val_my_metric  : 0.78125\n",
      "    val_f1         : 0.7786281686097862\n",
      "    val_balanced_accuracy: 0.790575137228363\n",
      "    val_precision  : 0.8050045225045225\n",
      "    val_recall     : 0.78125\n"
     ]
    },
    {
     "name": "stdout",
     "output_type": "stream",
     "text": [
      "Model has not improved in -------------| 12 epochs\n"
     ]
    },
    {
     "name": "stderr",
     "output_type": "stream",
     "text": [
      "    epoch          : 33\n",
      "    loss           : 0.5445146974590089\n",
      "    my_metric      : 0.740930316091954\n",
      "    f1             : 0.7408717917195309\n",
      "    balanced_accuracy: 0.7417329182898883\n",
      "    precision      : 0.7490460766518215\n",
      "    recall         : 0.740930316091954\n",
      "    val_loss       : 0.7132459729909897\n",
      "    val_my_metric  : 0.65234375\n",
      "    val_f1         : 0.6913785643026261\n",
      "    val_balanced_accuracy: 0.654309109180879\n",
      "    val_precision  : 0.8471119878944979\n",
      "    val_recall     : 0.65234375\n"
     ]
    },
    {
     "name": "stdout",
     "output_type": "stream",
     "text": [
      "Model has not improved in -------------| 13 epochs\n"
     ]
    },
    {
     "name": "stderr",
     "output_type": "stream",
     "text": [
      "    epoch          : 34\n",
      "    loss           : 0.5408441291915046\n",
      "    my_metric      : 0.7445821360153256\n",
      "    f1             : 0.7455975675380061\n",
      "    balanced_accuracy: 0.748679629600895\n",
      "    precision      : 0.754477113205324\n",
      "    recall         : 0.7445821360153256\n",
      "    val_loss       : 0.8173327893018723\n",
      "    val_my_metric  : 0.63671875\n",
      "    val_f1         : 0.6774732826785274\n",
      "    val_balanced_accuracy: 0.6431764329914235\n",
      "    val_precision  : 0.7807914133201358\n",
      "    val_recall     : 0.63671875\n"
     ]
    },
    {
     "name": "stdout",
     "output_type": "stream",
     "text": [
      "Model has not improved in -------------| 14 epochs\n"
     ]
    },
    {
     "name": "stderr",
     "output_type": "stream",
     "text": [
      "    epoch          : 35\n",
      "    loss           : 0.5617645167642169\n",
      "    my_metric      : 0.7067169540229885\n",
      "    f1             : 0.7066629398279524\n",
      "    balanced_accuracy: 0.7086038211818491\n",
      "    precision      : 0.7207491735043496\n",
      "    recall         : 0.7067169540229885\n",
      "    val_loss       : 0.6246410608291626\n",
      "    val_my_metric  : 0.75390625\n",
      "    val_f1         : 0.7272506330899006\n",
      "    val_balanced_accuracy: 0.6939702322766839\n",
      "    val_precision  : 0.7129825367647059\n",
      "    val_recall     : 0.75390625\n"
     ]
    },
    {
     "name": "stdout",
     "output_type": "stream",
     "text": [
      "Model has not improved in -------------| 15 epochs\n"
     ]
    },
    {
     "name": "stderr",
     "output_type": "stream",
     "text": [
      "    epoch          : 36\n",
      "    loss           : 0.5278385265005959\n",
      "    my_metric      : 0.7424868295019157\n",
      "    f1             : 0.742813676530076\n",
      "    balanced_accuracy: 0.7466745655195736\n",
      "    precision      : 0.7521923814765474\n",
      "    recall         : 0.7424868295019157\n",
      "    val_loss       : 0.5540459603071213\n",
      "    val_my_metric  : 0.734375\n",
      "    val_f1         : 0.730611891044187\n",
      "    val_balanced_accuracy: 0.7342212117254562\n",
      "    val_precision  : 0.7572492124282972\n",
      "    val_recall     : 0.734375\n"
     ]
    },
    {
     "name": "stdout",
     "output_type": "stream",
     "text": [
      "Model has not improved in -------------| 16 epochs\n"
     ]
    },
    {
     "name": "stderr",
     "output_type": "stream",
     "text": [
      "    epoch          : 37\n",
      "    loss           : 0.5383649849229388\n",
      "    my_metric      : 0.744073275862069\n",
      "    f1             : 0.7451650676606958\n",
      "    balanced_accuracy: 0.747141486255583\n",
      "    precision      : 0.75283772264973\n",
      "    recall         : 0.744073275862069\n",
      "    val_loss       : 0.6916480660438538\n",
      "    val_my_metric  : 0.7265625\n",
      "    val_f1         : 0.7316332801449025\n",
      "    val_balanced_accuracy: 0.7543262319590591\n",
      "    val_precision  : 0.7729012725779967\n",
      "    val_recall     : 0.7265625\n"
     ]
    },
    {
     "name": "stdout",
     "output_type": "stream",
     "text": [
      "Model has not improved in -------------| 17 epochs\n"
     ]
    },
    {
     "name": "stderr",
     "output_type": "stream",
     "text": [
      "    epoch          : 38\n",
      "    loss           : 0.533760001262029\n",
      "    my_metric      : 0.7383261494252874\n",
      "    f1             : 0.7392652342142615\n",
      "    balanced_accuracy: 0.7442251205640964\n",
      "    precision      : 0.7510657005021458\n",
      "    recall         : 0.7383261494252874\n",
      "    val_loss       : 0.7436504140496254\n",
      "    val_my_metric  : 0.69921875\n",
      "    val_f1         : 0.6993316203459797\n",
      "    val_balanced_accuracy: 0.7450552473077501\n",
      "    val_precision  : 0.7917848281722512\n",
      "    val_recall     : 0.69921875\n"
     ]
    },
    {
     "name": "stdout",
     "output_type": "stream",
     "text": [
      "Model has not improved in -------------| 18 epochs\n"
     ]
    },
    {
     "name": "stderr",
     "output_type": "stream",
     "text": [
      "    epoch          : 39\n",
      "    loss           : 0.5380604167779287\n",
      "    my_metric      : 0.7508081896551724\n",
      "    f1             : 0.7513280567442725\n",
      "    balanced_accuracy: 0.7525744481427313\n",
      "    precision      : 0.7564744546088099\n",
      "    recall         : 0.7508081896551724\n",
      "    val_loss       : 0.5767036527395248\n",
      "    val_my_metric  : 0.73828125\n",
      "    val_f1         : 0.7324345840209592\n",
      "    val_balanced_accuracy: 0.7458903433168138\n",
      "    val_precision  : 0.7831196820420958\n",
      "    val_recall     : 0.73828125\n"
     ]
    },
    {
     "name": "stdout",
     "output_type": "stream",
     "text": [
      "Model has not improved in -------------| 19 epochs\n"
     ]
    },
    {
     "name": "stderr",
     "output_type": "stream",
     "text": [
      "    epoch          : 40\n",
      "    loss           : 0.5209220912721422\n",
      "    my_metric      : 0.7450909961685823\n",
      "    f1             : 0.7457531230492788\n",
      "    balanced_accuracy: 0.7489709986881752\n",
      "    precision      : 0.7540841128340862\n",
      "    recall         : 0.7450909961685823\n",
      "    val_loss       : 0.5455840229988098\n",
      "    val_my_metric  : 0.75390625\n",
      "    val_f1         : 0.7499741247228285\n",
      "    val_balanced_accuracy: 0.7554176465626736\n",
      "    val_precision  : 0.7797302079057198\n",
      "    val_recall     : 0.75390625\n"
     ]
    },
    {
     "name": "stdout",
     "output_type": "stream",
     "text": [
      "Model has not improved in -------------| 20 epochs\n"
     ]
    },
    {
     "name": "stderr",
     "output_type": "stream",
     "text": [
      "    epoch          : 41\n",
      "    loss           : 0.5425926513142056\n",
      "    my_metric      : 0.7529034961685823\n",
      "    f1             : 0.7537497809812914\n",
      "    balanced_accuracy: 0.754281875756475\n",
      "    precision      : 0.7601538033945565\n",
      "    recall         : 0.7529034961685823\n",
      "    val_loss       : 0.60056072473526\n",
      "    val_my_metric  : 0.75390625\n",
      "    val_f1         : 0.7584202781149305\n",
      "    val_balanced_accuracy: 0.7799768427544129\n",
      "    val_precision  : 0.7953935453491742\n",
      "    val_recall     : 0.75390625\n"
     ]
    },
    {
     "name": "stdout",
     "output_type": "stream",
     "text": [
      "Model has not improved in -------------| 21 epochs\n"
     ]
    },
    {
     "name": "stderr",
     "output_type": "stream",
     "text": [
      "    epoch          : 42\n",
      "    loss           : 0.5332029826111264\n",
      "    my_metric      : 0.7456297892720306\n",
      "    f1             : 0.7467378289818573\n",
      "    balanced_accuracy: 0.7498204299751947\n",
      "    precision      : 0.7585778673142733\n",
      "    recall         : 0.7456297892720306\n",
      "    val_loss       : 0.5365952700376511\n",
      "    val_my_metric  : 0.81640625\n",
      "    val_f1         : 0.8155008184919674\n",
      "    val_balanced_accuracy: 0.8204245058347226\n",
      "    val_precision  : 0.8298641189266189\n",
      "    val_recall     : 0.81640625\n"
     ]
    },
    {
     "name": "stdout",
     "output_type": "stream",
     "text": [
      "Model has not improved in -------------| 22 epochs\n"
     ]
    },
    {
     "name": "stderr",
     "output_type": "stream",
     "text": [
      "    epoch          : 43\n",
      "    loss           : 0.539796393778589\n",
      "    my_metric      : 0.7551784003831418\n",
      "    f1             : 0.7559703881020868\n",
      "    balanced_accuracy: 0.7592112685076208\n",
      "    precision      : 0.7638413539086085\n",
      "    recall         : 0.7551784003831418\n",
      "    val_loss       : 0.5106507204473019\n",
      "    val_my_metric  : 0.79296875\n",
      "    val_f1         : 0.792505858836504\n",
      "    val_balanced_accuracy: 0.8003147235905856\n",
      "    val_precision  : 0.8079989867099242\n",
      "    val_recall     : 0.79296875\n"
     ]
    },
    {
     "name": "stdout",
     "output_type": "stream",
     "text": [
      "Model has not improved in -------------| 23 epochs\n"
     ]
    },
    {
     "name": "stderr",
     "output_type": "stream",
     "text": [
      "    epoch          : 44\n",
      "    loss           : 0.5451537006431155\n",
      "    my_metric      : 0.7466475095785441\n",
      "    f1             : 0.7479354560799991\n",
      "    balanced_accuracy: 0.7516230509866547\n",
      "    precision      : 0.7580575278829815\n",
      "    recall         : 0.7466475095785441\n",
      "    val_loss       : 0.5200959295034409\n",
      "    val_my_metric  : 0.75\n",
      "    val_f1         : 0.7458530579689042\n",
      "    val_balanced_accuracy: 0.7549605530293136\n",
      "    val_precision  : 0.7792258211878502\n",
      "    val_recall     : 0.75\n"
     ]
    },
    {
     "name": "stdout",
     "output_type": "stream",
     "text": [
      "Model has not improved in -------------| 24 epochs\n"
     ]
    },
    {
     "name": "stderr",
     "output_type": "stream",
     "text": [
      "    epoch          : 45\n",
      "    loss           : 0.5537759098741744\n",
      "    my_metric      : 0.735213122605364\n",
      "    f1             : 0.7356908725585134\n",
      "    balanced_accuracy: 0.7368682142564007\n",
      "    precision      : 0.7446442410903871\n",
      "    recall         : 0.735213122605364\n",
      "    val_loss       : 0.5185454860329628\n",
      "    val_my_metric  : 0.8203125\n",
      "    val_f1         : 0.8210345407742323\n",
      "    val_balanced_accuracy: 0.8233116267034672\n",
      "    val_precision  : 0.82755573063296\n",
      "    val_recall     : 0.8203125\n"
     ]
    },
    {
     "name": "stdout",
     "output_type": "stream",
     "text": [
      "Model has not improved in -------------| 25 epochs\n"
     ]
    },
    {
     "name": "stderr",
     "output_type": "stream",
     "text": [
      "    epoch          : 46\n",
      "    loss           : 0.5222169823116727\n",
      "    my_metric      : 0.7530830938697318\n",
      "    f1             : 0.7538361641374418\n",
      "    balanced_accuracy: 0.7565077314123866\n",
      "    precision      : 0.7613576204516446\n",
      "    recall         : 0.7530830938697318\n",
      "    val_loss       : 0.5025402531027794\n",
      "    val_my_metric  : 0.828125\n",
      "    val_f1         : 0.8277451285535977\n",
      "    val_balanced_accuracy: 0.8291308825583019\n",
      "    val_precision  : 0.8340077154299874\n",
      "    val_recall     : 0.828125\n"
     ]
    },
    {
     "name": "stdout",
     "output_type": "stream",
     "text": [
      "Model has not improved in -------------| 26 epochs\n"
     ]
    },
    {
     "name": "stderr",
     "output_type": "stream",
     "text": [
      "    epoch          : 47\n",
      "    loss           : 0.5127019435167313\n",
      "    my_metric      : 0.7607159961685823\n",
      "    f1             : 0.7616327440460483\n",
      "    balanced_accuracy: 0.7671138670733628\n",
      "    precision      : 0.7740722281508178\n",
      "    recall         : 0.7607159961685823\n",
      "    val_loss       : 0.5711043477058411\n",
      "    val_my_metric  : 0.76953125\n",
      "    val_f1         : 0.7732398922002407\n",
      "    val_balanced_accuracy: 0.7811279118480918\n",
      "    val_precision  : 0.8009361770276292\n",
      "    val_recall     : 0.76953125\n"
     ]
    },
    {
     "name": "stdout",
     "output_type": "stream",
     "text": [
      "Model has not improved in -------------| 27 epochs\n"
     ]
    },
    {
     "name": "stderr",
     "output_type": "stream",
     "text": [
      "    epoch          : 48\n",
      "    loss           : 0.5271253486474355\n",
      "    my_metric      : 0.7569145114942528\n",
      "    f1             : 0.7573431553237884\n",
      "    balanced_accuracy: 0.7572205788111974\n",
      "    precision      : 0.7633624792456115\n",
      "    recall         : 0.7569145114942528\n",
      "    val_loss       : 0.7471486181020737\n",
      "    val_my_metric  : 0.67578125\n",
      "    val_f1         : 0.6739922205032439\n",
      "    val_balanced_accuracy: 0.7116152437342648\n",
      "    val_precision  : 0.7614621629901962\n",
      "    val_recall     : 0.67578125\n"
     ]
    },
    {
     "name": "stdout",
     "output_type": "stream",
     "text": [
      "Model has not improved in -------------| 28 epochs\n"
     ]
    },
    {
     "name": "stderr",
     "output_type": "stream",
     "text": [
      "    epoch          : 49\n",
      "    loss           : 0.5304370042350557\n",
      "    my_metric      : 0.7517061781609196\n",
      "    f1             : 0.751626104055291\n",
      "    balanced_accuracy: 0.7523979451633594\n",
      "    precision      : 0.7576096363994377\n",
      "    recall         : 0.7517061781609196\n",
      "    val_loss       : 0.5672741234302521\n",
      "    val_my_metric  : 0.73828125\n",
      "    val_f1         : 0.743025909470967\n",
      "    val_balanced_accuracy: 0.764961588974747\n",
      "    val_precision  : 0.7834952821091934\n",
      "    val_recall     : 0.73828125\n"
     ]
    },
    {
     "name": "stdout",
     "output_type": "stream",
     "text": [
      "Model has not improved in -------------| 29 epochs\n"
     ]
    },
    {
     "name": "stderr",
     "output_type": "stream",
     "text": [
      "    epoch          : 50\n",
      "    loss           : 0.5280395415094163\n",
      "    my_metric      : 0.7525742337164751\n",
      "    f1             : 0.7529559374810477\n",
      "    balanced_accuracy: 0.7594086373108917\n",
      "    precision      : 0.7698553293932691\n",
      "    recall         : 0.7525742337164751\n",
      "    val_loss       : 0.4795767813920975\n",
      "    val_my_metric  : 0.74609375\n",
      "    val_f1         : 0.7415409094557233\n",
      "    val_balanced_accuracy: 0.7477911524517128\n",
      "    val_precision  : 0.7756971615421451\n",
      "    val_recall     : 0.74609375\n",
      "Saving checkpoint: saved/MaskedVolume_3d/0619_200535/checkpoint-epoch50.pth ...\n",
      "Saving current best: model_best.pth ...\n",
      "    epoch          : 51\n",
      "    loss           : 0.5204328563478258\n",
      "    my_metric      : 0.7612547892720306\n",
      "    f1             : 0.7617015646825366\n",
      "    balanced_accuracy: 0.7647787583495077\n",
      "    precision      : 0.7730772267279875\n",
      "    recall         : 0.7612547892720306\n",
      "    val_loss       : 0.4884745925664902\n",
      "    val_my_metric  : 0.83203125\n",
      "    val_f1         : 0.8321612946486627\n",
      "    val_balanced_accuracy: 0.8345636692410885\n",
      "    val_precision  : 0.8387657594791227\n",
      "    val_recall     : 0.83203125\n"
     ]
    },
    {
     "name": "stdout",
     "output_type": "stream",
     "text": [
      "Model has not improved in -------------| 1 epochs\n"
     ]
    },
    {
     "name": "stderr",
     "output_type": "stream",
     "text": [
      "    epoch          : 52\n",
      "    loss           : 0.5176220056083467\n",
      "    my_metric      : 0.7598479406130267\n",
      "    f1             : 0.7608391629472789\n",
      "    balanced_accuracy: 0.766925313510429\n",
      "    precision      : 0.7769667372766733\n",
      "    recall         : 0.7598479406130267\n",
      "    val_loss       : 0.47844140231609344\n",
      "    val_my_metric  : 0.8125\n",
      "    val_f1         : 0.8126218302570295\n",
      "    val_balanced_accuracy: 0.8153903688059285\n",
      "    val_precision  : 0.8190270935960591\n",
      "    val_recall     : 0.8125\n",
      "Saving checkpoint: saved/MaskedVolume_3d/0619_200535/checkpoint-epoch52.pth ...\n",
      "Saving current best: model_best.pth ...\n",
      "    epoch          : 53\n",
      "    loss           : 0.5081412229273055\n",
      "    my_metric      : 0.7674808429118775\n",
      "    f1             : 0.7671439530045094\n",
      "    balanced_accuracy: 0.7664525054048181\n",
      "    precision      : 0.769992933261603\n",
      "    recall         : 0.7674808429118775\n",
      "    val_loss       : 0.5202935859560966\n",
      "    val_my_metric  : 0.78515625\n",
      "    val_f1         : 0.7902254626518994\n",
      "    val_balanced_accuracy: 0.8114449917898194\n",
      "    val_precision  : 0.8263063734474729\n",
      "    val_recall     : 0.78515625\n"
     ]
    },
    {
     "name": "stdout",
     "output_type": "stream",
     "text": [
      "Model has not improved in -------------| 1 epochs\n"
     ]
    },
    {
     "name": "stderr",
     "output_type": "stream",
     "text": [
      "    epoch          : 54\n",
      "    loss           : 0.5058018151256773\n",
      "    my_metric      : 0.7747844827586207\n",
      "    f1             : 0.7755499884270978\n",
      "    balanced_accuracy: 0.7775126195902693\n",
      "    precision      : 0.7825824030015743\n",
      "    recall         : 0.7747844827586207\n",
      "    val_loss       : 0.477852676063776\n",
      "    val_my_metric  : 0.82421875\n",
      "    val_f1         : 0.8241412959744057\n",
      "    val_balanced_accuracy: 0.8294291239497628\n",
      "    val_precision  : 0.8362087631644037\n",
      "    val_recall     : 0.82421875\n",
      "Saving checkpoint: saved/MaskedVolume_3d/0619_200535/checkpoint-epoch54.pth ...\n",
      "Saving current best: model_best.pth ...\n",
      "    epoch          : 55\n",
      "    loss           : 0.4987426830662621\n",
      "    my_metric      : 0.789900622605364\n",
      "    f1             : 0.7899103513754162\n",
      "    balanced_accuracy: 0.7892263557846712\n",
      "    precision      : 0.7924133138111852\n",
      "    recall         : 0.789900622605364\n",
      "    val_loss       : 0.5631172508001328\n",
      "    val_my_metric  : 0.74609375\n",
      "    val_f1         : 0.7501331481464516\n",
      "    val_balanced_accuracy: 0.7718993916991692\n",
      "    val_precision  : 0.7895980137769303\n",
      "    val_recall     : 0.74609375\n"
     ]
    },
    {
     "name": "stdout",
     "output_type": "stream",
     "text": [
      "Model has not improved in -------------| 1 epochs\n"
     ]
    },
    {
     "name": "stderr",
     "output_type": "stream",
     "text": [
      "    epoch          : 56\n",
      "    loss           : 0.5299309011962678\n",
      "    my_metric      : 0.7570641762452107\n",
      "    f1             : 0.7575860477547547\n",
      "    balanced_accuracy: 0.7572388320766148\n",
      "    precision      : 0.761890633687524\n",
      "    recall         : 0.7570641762452107\n",
      "    val_loss       : 0.64366165548563\n",
      "    val_my_metric  : 0.69921875\n",
      "    val_f1         : 0.6997356219623674\n",
      "    val_balanced_accuracy: 0.6599548926300873\n",
      "    val_precision  : 0.7041033523872801\n",
      "    val_recall     : 0.69921875\n"
     ]
    },
    {
     "name": "stdout",
     "output_type": "stream",
     "text": [
      "Model has not improved in -------------| 2 epochs\n"
     ]
    },
    {
     "name": "stderr",
     "output_type": "stream",
     "text": [
      "    epoch          : 57\n",
      "    loss           : 0.5084685915046268\n",
      "    my_metric      : 0.7714918582375478\n",
      "    f1             : 0.7720094928587355\n",
      "    balanced_accuracy: 0.7764389168557019\n",
      "    precision      : 0.781003396168897\n",
      "    recall         : 0.7714918582375478\n",
      "    val_loss       : 0.49589620158076286\n",
      "    val_my_metric  : 0.78515625\n",
      "    val_f1         : 0.7820887910109251\n",
      "    val_balanced_accuracy: 0.7869195992179863\n",
      "    val_precision  : 0.8054742257374441\n",
      "    val_recall     : 0.78515625\n"
     ]
    },
    {
     "name": "stdout",
     "output_type": "stream",
     "text": [
      "Model has not improved in -------------| 3 epochs\n"
     ]
    },
    {
     "name": "stderr",
     "output_type": "stream",
     "text": [
      "    epoch          : 58\n",
      "    loss           : 0.5115982823901706\n",
      "    my_metric      : 0.7803520114942528\n",
      "    f1             : 0.7800788713936505\n",
      "    balanced_accuracy: 0.7829446522829502\n",
      "    precision      : 0.7917467001245124\n",
      "    recall         : 0.7803520114942528\n",
      "    val_loss       : 0.49718719720840454\n",
      "    val_my_metric  : 0.828125\n",
      "    val_f1         : 0.8291737965113193\n",
      "    val_balanced_accuracy: 0.8270352193241358\n",
      "    val_precision  : 0.8326487395312376\n",
      "    val_recall     : 0.828125\n"
     ]
    },
    {
     "name": "stdout",
     "output_type": "stream",
     "text": [
      "Model has not improved in -------------| 4 epochs\n"
     ]
    },
    {
     "name": "stderr",
     "output_type": "stream",
     "text": [
      "    epoch          : 59\n",
      "    loss           : 0.5139565666516622\n",
      "    my_metric      : 0.7529034961685823\n",
      "    f1             : 0.7536154929977656\n",
      "    balanced_accuracy: 0.7578781048632419\n",
      "    precision      : 0.7640377817725746\n",
      "    recall         : 0.7529034961685823\n",
      "    val_loss       : 0.5065997503697872\n",
      "    val_my_metric  : 0.77734375\n",
      "    val_f1         : 0.7758058247032991\n",
      "    val_balanced_accuracy: 0.7813648938422078\n",
      "    val_precision  : 0.7980784790469505\n",
      "    val_recall     : 0.77734375\n"
     ]
    },
    {
     "name": "stdout",
     "output_type": "stream",
     "text": [
      "Model has not improved in -------------| 5 epochs\n"
     ]
    },
    {
     "name": "stderr",
     "output_type": "stream",
     "text": [
      "    epoch          : 60\n",
      "    loss           : 0.5257078409194946\n",
      "    my_metric      : 0.7631405651340997\n",
      "    f1             : 0.7637109079083069\n",
      "    balanced_accuracy: 0.7655410129001622\n",
      "    precision      : 0.7705133238339443\n",
      "    recall         : 0.7631405651340997\n",
      "    val_loss       : 0.552333690226078\n",
      "    val_my_metric  : 0.75390625\n",
      "    val_f1         : 0.7581993589071561\n",
      "    val_balanced_accuracy: 0.775225578737242\n",
      "    val_precision  : 0.788405987262464\n",
      "    val_recall     : 0.75390625\n"
     ]
    },
    {
     "name": "stdout",
     "output_type": "stream",
     "text": [
      "Model has not improved in -------------| 6 epochs\n"
     ]
    },
    {
     "name": "stderr",
     "output_type": "stream",
     "text": [
      "    epoch          : 61\n",
      "    loss           : 0.5179523759418063\n",
      "    my_metric      : 0.749790469348659\n",
      "    f1             : 0.7513556607346978\n",
      "    balanced_accuracy: 0.756220983989206\n",
      "    precision      : 0.7631085820296484\n",
      "    recall         : 0.749790469348659\n",
      "    val_loss       : 0.5206342414021492\n",
      "    val_my_metric  : 0.80078125\n",
      "    val_f1         : 0.8010054282328365\n",
      "    val_balanced_accuracy: 0.8028773767555162\n",
      "    val_precision  : 0.8081222569873154\n",
      "    val_recall     : 0.80078125\n"
     ]
    },
    {
     "name": "stdout",
     "output_type": "stream",
     "text": [
      "Model has not improved in -------------| 7 epochs\n"
     ]
    },
    {
     "name": "stderr",
     "output_type": "stream",
     "text": [
      "    epoch          : 62\n",
      "    loss           : 0.5302050924963422\n",
      "    my_metric      : 0.7454501915708812\n",
      "    f1             : 0.7457971917083924\n",
      "    balanced_accuracy: 0.7476509590636399\n",
      "    precision      : 0.7537502147724521\n",
      "    recall         : 0.7454501915708812\n",
      "    val_loss       : 0.4802257791161537\n",
      "    val_my_metric  : 0.8203125\n",
      "    val_f1         : 0.8205058857259422\n",
      "    val_balanced_accuracy: 0.8205061334878779\n",
      "    val_precision  : 0.8216638901654412\n",
      "    val_recall     : 0.8203125\n"
     ]
    },
    {
     "name": "stdout",
     "output_type": "stream",
     "text": [
      "Model has not improved in -------------| 8 epochs\n"
     ]
    },
    {
     "name": "stderr",
     "output_type": "stream",
     "text": [
      "    epoch          : 63\n",
      "    loss           : 0.5027022841903899\n",
      "    my_metric      : 0.7636793582375478\n",
      "    f1             : 0.7643757186462428\n",
      "    balanced_accuracy: 0.7679697396646308\n",
      "    precision      : 0.7734486741284706\n",
      "    recall         : 0.7636793582375478\n",
      "    val_loss       : 0.8414219096302986\n",
      "    val_my_metric  : 0.70703125\n",
      "    val_f1         : 0.706964426997206\n",
      "    val_balanced_accuracy: 0.7058291755682647\n",
      "    val_precision  : 0.7081691066066066\n",
      "    val_recall     : 0.70703125\n"
     ]
    },
    {
     "name": "stdout",
     "output_type": "stream",
     "text": [
      "Model has not improved in -------------| 9 epochs\n"
     ]
    },
    {
     "name": "stderr",
     "output_type": "stream",
     "text": [
      "    epoch          : 64\n",
      "    loss           : 0.5178935279448827\n",
      "    my_metric      : 0.7549988026819923\n",
      "    f1             : 0.7553064536140821\n",
      "    balanced_accuracy: 0.7552475805832249\n",
      "    precision      : 0.761636046779488\n",
      "    recall         : 0.7549988026819923\n",
      "    val_loss       : 0.538145150989294\n",
      "    val_my_metric  : 0.7890625\n",
      "    val_f1         : 0.7873404453849966\n",
      "    val_balanced_accuracy: 0.7933967692032209\n",
      "    val_precision  : 0.8078432382568411\n",
      "    val_recall     : 0.7890625\n"
     ]
    },
    {
     "name": "stdout",
     "output_type": "stream",
     "text": [
      "Model has not improved in -------------| 10 epochs\n"
     ]
    },
    {
     "name": "stderr",
     "output_type": "stream",
     "text": [
      "    epoch          : 65\n",
      "    loss           : 0.5022714187701544\n",
      "    my_metric      : 0.7529034961685823\n",
      "    f1             : 0.753179695008726\n",
      "    balanced_accuracy: 0.7558470473363564\n",
      "    precision      : 0.7607624860245983\n",
      "    recall         : 0.7529034961685823\n",
      "    val_loss       : 0.6372356414794922\n",
      "    val_my_metric  : 0.7734375\n",
      "    val_f1         : 0.7472893626404195\n",
      "    val_balanced_accuracy: 0.7148776849021687\n",
      "    val_precision  : 0.734009095262542\n",
      "    val_recall     : 0.7734375\n"
     ]
    },
    {
     "name": "stdout",
     "output_type": "stream",
     "text": [
      "Model has not improved in -------------| 11 epochs\n"
     ]
    },
    {
     "name": "stderr",
     "output_type": "stream",
     "text": [
      "    epoch          : 66\n",
      "    loss           : 0.5009742859337065\n",
      "    my_metric      : 0.7714918582375478\n",
      "    f1             : 0.7721703550619371\n",
      "    balanced_accuracy: 0.7774227812929764\n",
      "    precision      : 0.7833250801563756\n",
      "    recall         : 0.7714918582375478\n",
      "    val_loss       : 0.51450065523386\n",
      "    val_my_metric  : 0.80078125\n",
      "    val_f1         : 0.8001499496165961\n",
      "    val_balanced_accuracy: 0.8051580992757463\n",
      "    val_precision  : 0.8124650543811275\n",
      "    val_recall     : 0.80078125\n"
     ]
    },
    {
     "name": "stdout",
     "output_type": "stream",
     "text": [
      "Model has not improved in -------------| 12 epochs\n"
     ]
    },
    {
     "name": "stderr",
     "output_type": "stream",
     "text": [
      "    epoch          : 67\n",
      "    loss           : 0.4914928790595796\n",
      "    my_metric      : 0.7714918582375478\n",
      "    f1             : 0.7721379873158907\n",
      "    balanced_accuracy: 0.7748897397056052\n",
      "    precision      : 0.7804041707472756\n",
      "    recall         : 0.7714918582375478\n",
      "    val_loss       : 0.5049450770020485\n",
      "    val_my_metric  : 0.765625\n",
      "    val_f1         : 0.7611229651037944\n",
      "    val_balanced_accuracy: 0.7640763036019462\n",
      "    val_precision  : 0.7893971833630551\n",
      "    val_recall     : 0.765625\n"
     ]
    },
    {
     "name": "stdout",
     "output_type": "stream",
     "text": [
      "Model has not improved in -------------| 13 epochs\n"
     ]
    },
    {
     "name": "stderr",
     "output_type": "stream",
     "text": [
      "    epoch          : 68\n",
      "    loss           : 0.49727481106917065\n",
      "    my_metric      : 0.7793043582375478\n",
      "    f1             : 0.780005939417679\n",
      "    balanced_accuracy: 0.7811737408638761\n",
      "    precision      : 0.7860286017628503\n",
      "    recall         : 0.7793043582375478\n",
      "    val_loss       : 0.593077264726162\n",
      "    val_my_metric  : 0.703125\n",
      "    val_f1         : 0.7026964931620954\n",
      "    val_balanced_accuracy: 0.7022721552844893\n",
      "    val_precision  : 0.7046317744391559\n",
      "    val_recall     : 0.703125\n"
     ]
    },
    {
     "name": "stdout",
     "output_type": "stream",
     "text": [
      "Model has not improved in -------------| 14 epochs\n"
     ]
    },
    {
     "name": "stderr",
     "output_type": "stream",
     "text": [
      "    epoch          : 69\n",
      "    loss           : 0.5014519873592589\n",
      "    my_metric      : 0.7490720785440613\n",
      "    f1             : 0.7502270267080094\n",
      "    balanced_accuracy: 0.752762786726395\n",
      "    precision      : 0.7590171518769421\n",
      "    recall         : 0.7490720785440613\n",
      "    val_loss       : 0.5535832792520523\n",
      "    val_my_metric  : 0.76953125\n",
      "    val_f1         : 0.7737260188202658\n",
      "    val_balanced_accuracy: 0.7933694239189928\n",
      "    val_precision  : 0.8077581553454715\n",
      "    val_recall     : 0.76953125\n"
     ]
    },
    {
     "name": "stdout",
     "output_type": "stream",
     "text": [
      "Model has not improved in -------------| 15 epochs\n"
     ]
    },
    {
     "name": "stderr",
     "output_type": "stream",
     "text": [
      "    epoch          : 70\n",
      "    loss           : 0.49926724698808456\n",
      "    my_metric      : 0.7676604406130267\n",
      "    f1             : 0.7676272301766314\n",
      "    balanced_accuracy: 0.7670335548657776\n",
      "    precision      : 0.7706343516722811\n",
      "    recall         : 0.7676604406130267\n",
      "    val_loss       : 0.5051454454660416\n",
      "    val_my_metric  : 0.83203125\n",
      "    val_f1         : 0.8318104225420804\n",
      "    val_balanced_accuracy: 0.8351432880844646\n",
      "    val_precision  : 0.8429526700849438\n",
      "    val_recall     : 0.83203125\n"
     ]
    },
    {
     "name": "stdout",
     "output_type": "stream",
     "text": [
      "Model has not improved in -------------| 16 epochs\n"
     ]
    },
    {
     "name": "stderr",
     "output_type": "stream",
     "text": [
      "    epoch          : 71\n",
      "    loss           : 0.5071385900179545\n",
      "    my_metric      : 0.7633201628352491\n",
      "    f1             : 0.7644657501328742\n",
      "    balanced_accuracy: 0.7664249276362818\n",
      "    precision      : 0.7722047109574646\n",
      "    recall         : 0.7633201628352491\n",
      "    val_loss       : 0.5807633325457573\n",
      "    val_my_metric  : 0.71875\n",
      "    val_f1         : 0.7188764576956597\n",
      "    val_balanced_accuracy: 0.7191089947624987\n",
      "    val_precision  : 0.7211271911108194\n",
      "    val_recall     : 0.71875\n"
     ]
    },
    {
     "name": "stdout",
     "output_type": "stream",
     "text": [
      "Model has not improved in -------------| 17 epochs\n"
     ]
    },
    {
     "name": "stderr",
     "output_type": "stream",
     "text": [
      "    epoch          : 72\n",
      "    loss           : 0.5129047930240631\n",
      "    my_metric      : 0.7509877873563219\n",
      "    f1             : 0.7516449349894821\n",
      "    balanced_accuracy: 0.7566086839309383\n",
      "    precision      : 0.7636285160343159\n",
      "    recall         : 0.7509877873563219\n",
      "    val_loss       : 0.5265311896800995\n",
      "    val_my_metric  : 0.75\n",
      "    val_f1         : 0.7526644532313242\n",
      "    val_balanced_accuracy: 0.7738614411281755\n",
      "    val_precision  : 0.7920487292323257\n",
      "    val_recall     : 0.75\n"
     ]
    },
    {
     "name": "stdout",
     "output_type": "stream",
     "text": [
      "Model has not improved in -------------| 18 epochs\n"
     ]
    },
    {
     "name": "stderr",
     "output_type": "stream",
     "text": [
      "    epoch          : 73\n",
      "    loss           : 0.491508553425471\n",
      "    my_metric      : 0.7721503831417624\n",
      "    f1             : 0.772270539191783\n",
      "    balanced_accuracy: 0.7735058584611018\n",
      "    precision      : 0.7769672320739596\n",
      "    recall         : 0.7721503831417624\n",
      "    val_loss       : 0.5406240075826645\n",
      "    val_my_metric  : 0.76953125\n",
      "    val_f1         : 0.7656781899037511\n",
      "    val_balanced_accuracy: 0.7714587431125594\n",
      "    val_precision  : 0.7990717444709565\n",
      "    val_recall     : 0.76953125\n"
     ]
    },
    {
     "name": "stdout",
     "output_type": "stream",
     "text": [
      "Model has not improved in -------------| 19 epochs\n"
     ]
    },
    {
     "name": "stderr",
     "output_type": "stream",
     "text": [
      "    epoch          : 74\n",
      "    loss           : 0.4816335803932614\n",
      "    my_metric      : 0.775113745210728\n",
      "    f1             : 0.7753908709614019\n",
      "    balanced_accuracy: 0.7768987732909667\n",
      "    precision      : 0.7796789328992249\n",
      "    recall         : 0.775113745210728\n",
      "    val_loss       : 0.577784463763237\n",
      "    val_my_metric  : 0.75\n",
      "    val_f1         : 0.7462263998223773\n",
      "    val_balanced_accuracy: 0.7521894473882671\n",
      "    val_precision  : 0.7764855132546664\n",
      "    val_recall     : 0.75\n"
     ]
    },
    {
     "name": "stdout",
     "output_type": "stream",
     "text": [
      "Model has not improved in -------------| 20 epochs\n"
     ]
    },
    {
     "name": "stderr",
     "output_type": "stream",
     "text": [
      "    epoch          : 75\n",
      "    loss           : 0.4870520234107971\n",
      "    my_metric      : 0.7699054118773946\n",
      "    f1             : 0.7700758168902286\n",
      "    balanced_accuracy: 0.7723308152533597\n",
      "    precision      : 0.776127927726539\n",
      "    recall         : 0.7699054118773946\n",
      "    val_loss       : 0.6234658062458038\n",
      "    val_my_metric  : 0.69921875\n",
      "    val_f1         : 0.6993787106158682\n",
      "    val_balanced_accuracy: 0.7405502469381146\n",
      "    val_precision  : 0.7839013969621329\n",
      "    val_recall     : 0.69921875\n"
     ]
    },
    {
     "name": "stdout",
     "output_type": "stream",
     "text": [
      "Model has not improved in -------------| 21 epochs\n"
     ]
    },
    {
     "name": "stderr",
     "output_type": "stream",
     "text": [
      "    epoch          : 76\n",
      "    loss           : 0.4844323496023814\n",
      "    my_metric      : 0.7754729406130267\n",
      "    f1             : 0.7761842811966838\n",
      "    balanced_accuracy: 0.7783799402917579\n",
      "    precision      : 0.7841508163410805\n",
      "    recall         : 0.7754729406130267\n",
      "    val_loss       : 0.591404564678669\n",
      "    val_my_metric  : 0.75390625\n",
      "    val_f1         : 0.7261951006504287\n",
      "    val_balanced_accuracy: 0.6954136102143693\n",
      "    val_precision  : 0.7189205109126984\n",
      "    val_recall     : 0.75390625\n"
     ]
    },
    {
     "name": "stdout",
     "output_type": "stream",
     "text": [
      "Model has not improved in -------------| 22 epochs\n"
     ]
    },
    {
     "name": "stderr",
     "output_type": "stream",
     "text": [
      "    epoch          : 77\n",
      "    loss           : 0.49451276825533974\n",
      "    my_metric      : 0.7758321360153256\n",
      "    f1             : 0.7761282528558182\n",
      "    balanced_accuracy: 0.7754097198118983\n",
      "    precision      : 0.782299533675363\n",
      "    recall         : 0.7758321360153256\n",
      "    val_loss       : 0.569665253162384\n",
      "    val_my_metric  : 0.79296875\n",
      "    val_f1         : 0.7909972488064738\n",
      "    val_balanced_accuracy: 0.7923653125266028\n",
      "    val_precision  : 0.7982062447004826\n",
      "    val_recall     : 0.79296875\n"
     ]
    },
    {
     "name": "stdout",
     "output_type": "stream",
     "text": [
      "Model has not improved in -------------| 23 epochs\n"
     ]
    },
    {
     "name": "stderr",
     "output_type": "stream",
     "text": [
      "    epoch          : 78\n",
      "    loss           : 0.48905396792623734\n",
      "    my_metric      : 0.77496408045977\n",
      "    f1             : 0.77586662722045\n",
      "    balanced_accuracy: 0.77934613228761\n",
      "    precision      : 0.7852208252160545\n",
      "    recall         : 0.77496408045977\n",
      "    val_loss       : 0.8022891581058502\n",
      "    val_my_metric  : 0.69921875\n",
      "    val_f1         : 0.6979232656904029\n",
      "    val_balanced_accuracy: 0.7464655877013562\n",
      "    val_precision  : 0.8009147820570235\n",
      "    val_recall     : 0.69921875\n"
     ]
    },
    {
     "name": "stdout",
     "output_type": "stream",
     "text": [
      "Model has not improved in -------------| 24 epochs\n"
     ]
    },
    {
     "name": "stderr",
     "output_type": "stream",
     "text": [
      "    epoch          : 79\n",
      "    loss           : 0.4828023198578093\n",
      "    my_metric      : 0.7869372605363985\n",
      "    f1             : 0.7875265076597441\n",
      "    balanced_accuracy: 0.7901689598972619\n",
      "    precision      : 0.7942432231586166\n",
      "    recall         : 0.7869372605363985\n",
      "    val_loss       : 0.45790427550673485\n",
      "    val_my_metric  : 0.828125\n",
      "    val_f1         : 0.8290472364917307\n",
      "    val_balanced_accuracy: 0.8309657309246814\n",
      "    val_precision  : 0.8362761701844308\n",
      "    val_recall     : 0.828125\n",
      "Saving checkpoint: saved/MaskedVolume_3d/0619_200535/checkpoint-epoch79.pth ...\n",
      "Saving current best: model_best.pth ...\n",
      "    epoch          : 80\n",
      "    loss           : 0.4765157285663817\n",
      "    my_metric      : 0.7780771072796935\n",
      "    f1             : 0.7786982500587531\n",
      "    balanced_accuracy: 0.78074361272672\n",
      "    precision      : 0.7849757044709015\n",
      "    recall         : 0.7780771072796935\n",
      "    val_loss       : 0.5620156079530716\n",
      "    val_my_metric  : 0.76953125\n",
      "    val_f1         : 0.7734389700720636\n",
      "    val_balanced_accuracy: 0.7901750247987638\n",
      "    val_precision  : 0.8050289619852\n",
      "    val_recall     : 0.76953125\n"
     ]
    },
    {
     "name": "stdout",
     "output_type": "stream",
     "text": [
      "Model has not improved in -------------| 1 epochs\n"
     ]
    },
    {
     "name": "stderr",
     "output_type": "stream",
     "text": [
      "    epoch          : 81\n",
      "    loss           : 0.49106495910220677\n",
      "    my_metric      : 0.7754729406130267\n",
      "    f1             : 0.7758675777703978\n",
      "    balanced_accuracy: 0.7777874574749037\n",
      "    precision      : 0.7803642426015873\n",
      "    recall         : 0.7754729406130267\n",
      "    val_loss       : 0.6456648707389832\n",
      "    val_my_metric  : 0.66796875\n",
      "    val_f1         : 0.7096072764041513\n",
      "    val_balanced_accuracy: 0.6688401763832799\n",
      "    val_precision  : 0.797877642112556\n",
      "    val_recall     : 0.66796875\n"
     ]
    },
    {
     "name": "stdout",
     "output_type": "stream",
     "text": [
      "Model has not improved in -------------| 2 epochs\n"
     ]
    },
    {
     "name": "stderr",
     "output_type": "stream",
     "text": [
      "    epoch          : 82\n",
      "    loss           : 0.47921620474921334\n",
      "    my_metric      : 0.7685284961685823\n",
      "    f1             : 0.7695460691189149\n",
      "    balanced_accuracy: 0.7721803506201232\n",
      "    precision      : 0.7767144826780049\n",
      "    recall         : 0.7685284961685823\n",
      "    val_loss       : 0.6258002072572708\n",
      "    val_my_metric  : 0.67578125\n",
      "    val_f1         : 0.6319371947496948\n",
      "    val_balanced_accuracy: 0.6721532221949351\n",
      "    val_precision  : 0.6179213938634894\n",
      "    val_recall     : 0.67578125\n"
     ]
    },
    {
     "name": "stdout",
     "output_type": "stream",
     "text": [
      "Model has not improved in -------------| 3 epochs\n"
     ]
    },
    {
     "name": "stderr",
     "output_type": "stream",
     "text": [
      "    epoch          : 83\n",
      "    loss           : 0.4719487561119927\n",
      "    my_metric      : 0.7806812739463601\n",
      "    f1             : 0.7810588130027162\n",
      "    balanced_accuracy: 0.7858715086987891\n",
      "    precision      : 0.7923624932275147\n",
      "    recall         : 0.7806812739463601\n",
      "    val_loss       : 0.6460890173912048\n",
      "    val_my_metric  : 0.734375\n",
      "    val_f1         : 0.7297916094843236\n",
      "    val_balanced_accuracy: 0.7405989521314599\n",
      "    val_precision  : 0.7698864549193496\n",
      "    val_recall     : 0.734375\n"
     ]
    },
    {
     "name": "stdout",
     "output_type": "stream",
     "text": [
      "Model has not improved in -------------| 4 epochs\n"
     ]
    },
    {
     "name": "stderr",
     "output_type": "stream",
     "text": [
      "    epoch          : 84\n",
      "    loss           : 0.484415739774704\n",
      "    my_metric      : 0.7737368295019157\n",
      "    f1             : 0.7740692472759727\n",
      "    balanced_accuracy: 0.7752376167783502\n",
      "    precision      : 0.7801716470792143\n",
      "    recall         : 0.7737368295019157\n",
      "    val_loss       : 0.6865930557250977\n",
      "    val_my_metric  : 0.73046875\n",
      "    val_f1         : 0.7270011511302709\n",
      "    val_balanced_accuracy: 0.7303285238730626\n",
      "    val_precision  : 0.7617874043938813\n",
      "    val_recall     : 0.73046875\n"
     ]
    },
    {
     "name": "stdout",
     "output_type": "stream",
     "text": [
      "Model has not improved in -------------| 5 epochs\n"
     ]
    },
    {
     "name": "stderr",
     "output_type": "stream",
     "text": [
      "    epoch          : 85\n",
      "    loss           : 0.48057398034466636\n",
      "    my_metric      : 0.7791247605363985\n",
      "    f1             : 0.7801770606363378\n",
      "    balanced_accuracy: 0.7848078912538456\n",
      "    precision      : 0.7922190205006396\n",
      "    recall         : 0.7791247605363985\n",
      "    val_loss       : 0.6944299340248108\n",
      "    val_my_metric  : 0.62890625\n",
      "    val_f1         : 0.6187044194505242\n",
      "    val_balanced_accuracy: 0.5768543732253409\n",
      "    val_precision  : 0.6397209821428571\n",
      "    val_recall     : 0.62890625\n"
     ]
    },
    {
     "name": "stdout",
     "output_type": "stream",
     "text": [
      "Model has not improved in -------------| 6 epochs\n"
     ]
    },
    {
     "name": "stderr",
     "output_type": "stream",
     "text": [
      "    epoch          : 86\n",
      "    loss           : 0.4792766405476464\n",
      "    my_metric      : 0.7871168582375478\n",
      "    f1             : 0.7874276844696352\n",
      "    balanced_accuracy: 0.790533781902734\n",
      "    precision      : 0.7971041957581314\n",
      "    recall         : 0.7871168582375478\n",
      "    val_loss       : 0.704421266913414\n",
      "    val_my_metric  : 0.69921875\n",
      "    val_f1         : 0.6907877787190826\n",
      "    val_balanced_accuracy: 0.7066913237709738\n",
      "    val_precision  : 0.74958387271656\n",
      "    val_recall     : 0.69921875\n"
     ]
    },
    {
     "name": "stdout",
     "output_type": "stream",
     "text": [
      "Model has not improved in -------------| 7 epochs\n"
     ]
    },
    {
     "name": "stderr",
     "output_type": "stream",
     "text": [
      "    epoch          : 87\n",
      "    loss           : 0.4839066416025162\n",
      "    my_metric      : 0.7674808429118775\n",
      "    f1             : 0.7681698841168705\n",
      "    balanced_accuracy: 0.7709353555176937\n",
      "    precision      : 0.7750361678135416\n",
      "    recall         : 0.7674808429118775\n",
      "    val_loss       : 0.5552636086940765\n",
      "    val_my_metric  : 0.73828125\n",
      "    val_f1         : 0.7330853478262601\n",
      "    val_balanced_accuracy: 0.7399501731120196\n",
      "    val_precision  : 0.7734165145516247\n",
      "    val_recall     : 0.73828125\n"
     ]
    },
    {
     "name": "stdout",
     "output_type": "stream",
     "text": [
      "Model has not improved in -------------| 8 epochs\n"
     ]
    },
    {
     "name": "stderr",
     "output_type": "stream",
     "text": [
      "    epoch          : 88\n",
      "    loss           : 0.4823777923981349\n",
      "    my_metric      : 0.7863984674329502\n",
      "    f1             : 0.7879182031257711\n",
      "    balanced_accuracy: 0.7927988815841756\n",
      "    precision      : 0.7998334319366667\n",
      "    recall         : 0.7863984674329502\n",
      "    val_loss       : 0.5038214549422264\n",
      "    val_my_metric  : 0.80859375\n",
      "    val_f1         : 0.8086213740292099\n",
      "    val_balanced_accuracy: 0.8092011028296444\n",
      "    val_precision  : 0.8103883878514749\n",
      "    val_recall     : 0.80859375\n"
     ]
    },
    {
     "name": "stdout",
     "output_type": "stream",
     "text": [
      "Model has not improved in -------------| 9 epochs\n"
     ]
    },
    {
     "name": "stderr",
     "output_type": "stream",
     "text": [
      "    epoch          : 89\n",
      "    loss           : 0.4764983505010605\n",
      "    my_metric      : 0.7805316091954023\n",
      "    f1             : 0.7814437168788643\n",
      "    balanced_accuracy: 0.7842998312403555\n",
      "    precision      : 0.7884160191929738\n",
      "    recall         : 0.7805316091954023\n",
      "    val_loss       : 0.534525029361248\n",
      "    val_my_metric  : 0.76171875\n",
      "    val_f1         : 0.7573870573870574\n",
      "    val_balanced_accuracy: 0.767547123015873\n",
      "    val_precision  : 0.7936755873074004\n",
      "    val_recall     : 0.76171875\n"
     ]
    },
    {
     "name": "stdout",
     "output_type": "stream",
     "text": [
      "Model has not improved in -------------| 10 epochs\n"
     ]
    },
    {
     "name": "stderr",
     "output_type": "stream",
     "text": [
      "    epoch          : 90\n",
      "    loss           : 0.46412336826324463\n",
      "    my_metric      : 0.7938817049808429\n",
      "    f1             : 0.7946630765874698\n",
      "    balanced_accuracy: 0.798954203395492\n",
      "    precision      : 0.8035752209136716\n",
      "    recall         : 0.7938817049808429\n",
      "    val_loss       : 0.7505898326635361\n",
      "    val_my_metric  : 0.6640625\n",
      "    val_f1         : 0.6662931106853311\n",
      "    val_balanced_accuracy: 0.6278272254565359\n",
      "    val_precision  : 0.6775873655913979\n",
      "    val_recall     : 0.6640625\n"
     ]
    },
    {
     "name": "stdout",
     "output_type": "stream",
     "text": [
      "Model has not improved in -------------| 11 epochs\n"
     ]
    },
    {
     "name": "stderr",
     "output_type": "stream",
     "text": [
      "    epoch          : 91\n",
      "    loss           : 0.4730699376927482\n",
      "    my_metric      : 0.7923251915708812\n",
      "    f1             : 0.7932651583930045\n",
      "    balanced_accuracy: 0.7950427587211458\n",
      "    precision      : 0.800559599370966\n",
      "    recall         : 0.7923251915708812\n",
      "    val_loss       : 0.5242483988404274\n",
      "    val_my_metric  : 0.796875\n",
      "    val_f1         : 0.7972121722712617\n",
      "    val_balanced_accuracy: 0.7972694661573339\n",
      "    val_precision  : 0.8006271204602531\n",
      "    val_recall     : 0.796875\n"
     ]
    },
    {
     "name": "stdout",
     "output_type": "stream",
     "text": [
      "Model has not improved in -------------| 12 epochs\n"
     ]
    },
    {
     "name": "stderr",
     "output_type": "stream",
     "text": [
      "    epoch          : 92\n",
      "    loss           : 0.48460807734065586\n",
      "    my_metric      : 0.7782567049808429\n",
      "    f1             : 0.7798105903316694\n",
      "    balanced_accuracy: 0.7812688503219464\n",
      "    precision      : 0.7888673457785919\n",
      "    recall         : 0.7782567049808429\n",
      "    val_loss       : 0.6900777667760849\n",
      "    val_my_metric  : 0.69140625\n",
      "    val_f1         : 0.6916083431478652\n",
      "    val_balanced_accuracy: 0.6887256892020958\n",
      "    val_precision  : 0.6926272540955523\n",
      "    val_recall     : 0.69140625\n"
     ]
    },
    {
     "name": "stdout",
     "output_type": "stream",
     "text": [
      "Model has not improved in -------------| 13 epochs\n"
     ]
    },
    {
     "name": "stderr",
     "output_type": "stream",
     "text": [
      "    epoch          : 93\n",
      "    loss           : 0.46398019790649414\n",
      "    my_metric      : 0.7813697318007663\n",
      "    f1             : 0.7822012731975219\n",
      "    balanced_accuracy: 0.7843716957567174\n",
      "    precision      : 0.7891049107700772\n",
      "    recall         : 0.7813697318007663\n",
      "    val_loss       : 0.7282266765832901\n",
      "    val_my_metric  : 0.70703125\n",
      "    val_f1         : 0.665474371486\n",
      "    val_balanced_accuracy: 0.7096835289723221\n",
      "    val_precision  : 0.652462979681675\n",
      "    val_recall     : 0.70703125\n"
     ]
    },
    {
     "name": "stdout",
     "output_type": "stream",
     "text": [
      "Model has not improved in -------------| 14 epochs\n"
     ]
    },
    {
     "name": "stderr",
     "output_type": "stream",
     "text": [
      "    epoch          : 94\n",
      "    loss           : 0.45596058170000714\n",
      "    my_metric      : 0.7876257183908045\n",
      "    f1             : 0.7886569527165016\n",
      "    balanced_accuracy: 0.7913228000859771\n",
      "    precision      : 0.7962691808949012\n",
      "    recall         : 0.7876257183908045\n",
      "    val_loss       : 0.6049155741930008\n",
      "    val_my_metric  : 0.73046875\n",
      "    val_f1         : 0.7343380680547553\n",
      "    val_balanced_accuracy: 0.7550144984680089\n",
      "    val_precision  : 0.7700657105417501\n",
      "    val_recall     : 0.73046875\n"
     ]
    },
    {
     "name": "stdout",
     "output_type": "stream",
     "text": [
      "Model has not improved in -------------| 15 epochs\n"
     ]
    },
    {
     "name": "stderr",
     "output_type": "stream",
     "text": [
      "    epoch          : 95\n",
      "    loss           : 0.4716491632991367\n",
      "    my_metric      : 0.7874461206896552\n",
      "    f1             : 0.7879551642323279\n",
      "    balanced_accuracy: 0.7907569044483423\n",
      "    precision      : 0.7943868828575043\n",
      "    recall         : 0.7874461206896552\n",
      "    val_loss       : 0.6957511529326439\n",
      "    val_my_metric  : 0.7734375\n",
      "    val_f1         : 0.7781754584017515\n",
      "    val_balanced_accuracy: 0.7950461458525975\n",
      "    val_precision  : 0.8077184350456736\n",
      "    val_recall     : 0.7734375\n"
     ]
    },
    {
     "name": "stdout",
     "output_type": "stream",
     "text": [
      "Model has not improved in -------------| 16 epochs\n"
     ]
    },
    {
     "name": "stderr",
     "output_type": "stream",
     "text": [
      "    epoch          : 96\n",
      "    loss           : 0.45408299896452164\n",
      "    my_metric      : 0.7918163314176245\n",
      "    f1             : 0.7924688262694641\n",
      "    balanced_accuracy: 0.7960268776102226\n",
      "    precision      : 0.8031311717892884\n",
      "    recall         : 0.7918163314176245\n",
      "    val_loss       : 0.49447840824723244\n",
      "    val_my_metric  : 0.8046875\n",
      "    val_f1         : 0.8035527769473914\n",
      "    val_balanced_accuracy: 0.8012040795689295\n",
      "    val_precision  : 0.8055943080357143\n",
      "    val_recall     : 0.8046875\n"
     ]
    },
    {
     "name": "stdout",
     "output_type": "stream",
     "text": [
      "Model has not improved in -------------| 17 epochs\n"
     ]
    },
    {
     "name": "stderr",
     "output_type": "stream",
     "text": [
      "    epoch          : 97\n",
      "    loss           : 0.45259709656238556\n",
      "    my_metric      : 0.7961566091954023\n",
      "    f1             : 0.7966862965185408\n",
      "    balanced_accuracy: 0.7998178794734991\n",
      "    precision      : 0.8037168969917811\n",
      "    recall         : 0.7961566091954023\n",
      "    val_loss       : 0.5912515372037888\n",
      "    val_my_metric  : 0.7578125\n",
      "    val_f1         : 0.7544107556764197\n",
      "    val_balanced_accuracy: 0.7636688342649744\n",
      "    val_precision  : 0.7943378987753722\n",
      "    val_recall     : 0.7578125\n"
     ]
    },
    {
     "name": "stdout",
     "output_type": "stream",
     "text": [
      "Model has not improved in -------------| 18 epochs\n"
     ]
    },
    {
     "name": "stderr",
     "output_type": "stream",
     "text": [
      "    epoch          : 98\n",
      "    loss           : 0.4608837531672584\n",
      "    my_metric      : 0.79058908045977\n",
      "    f1             : 0.7907240393408335\n",
      "    balanced_accuracy: 0.7897669425367075\n",
      "    precision      : 0.7928788369084998\n",
      "    recall         : 0.79058908045977\n",
      "    val_loss       : 0.6742270588874817\n",
      "    val_my_metric  : 0.6953125\n",
      "    val_f1         : 0.7373243838649471\n",
      "    val_balanced_accuracy: 0.6957742471988796\n",
      "    val_precision  : 0.8222212357954546\n",
      "    val_recall     : 0.6953125\n"
     ]
    },
    {
     "name": "stdout",
     "output_type": "stream",
     "text": [
      "Model has not improved in -------------| 19 epochs\n"
     ]
    },
    {
     "name": "stderr",
     "output_type": "stream",
     "text": [
      "    epoch          : 99\n",
      "    loss           : 0.4708477308352788\n",
      "    my_metric      : 0.7876556513409961\n",
      "    f1             : 0.7892554943602174\n",
      "    balanced_accuracy: 0.7922132041776684\n",
      "    precision      : 0.7980400681427421\n",
      "    recall         : 0.7876556513409961\n",
      "    val_loss       : 0.5933682322502136\n",
      "    val_my_metric  : 0.6953125\n",
      "    val_f1         : 0.6941865507756815\n",
      "    val_balanced_accuracy: 0.6524461508741428\n",
      "    val_precision  : 0.6997901106529323\n",
      "    val_recall     : 0.6953125\n"
     ]
    },
    {
     "name": "stdout",
     "output_type": "stream",
     "text": [
      "Model has not improved in -------------| 20 epochs\n"
     ]
    },
    {
     "name": "stderr",
     "output_type": "stream",
     "text": [
      "    epoch          : 100\n",
      "    loss           : 0.44086266226238674\n",
      "    my_metric      : 0.8006764846743295\n",
      "    f1             : 0.8009804759034472\n",
      "    balanced_accuracy: 0.8044789485520597\n",
      "    precision      : 0.8108511459625164\n",
      "    recall         : 0.8006764846743295\n",
      "    val_loss       : 0.5920469388365746\n",
      "    val_my_metric  : 0.7578125\n",
      "    val_f1         : 0.7537238183511908\n",
      "    val_balanced_accuracy: 0.7584735244128034\n",
      "    val_precision  : 0.7801734670414076\n",
      "    val_recall     : 0.7578125\n",
      "Saving checkpoint: saved/MaskedVolume_3d/0619_200535/checkpoint-epoch100.pth ...\n"
     ]
    },
    {
     "name": "stdout",
     "output_type": "stream",
     "text": [
      "Model has not improved in -------------| 21 epochs\n"
     ]
    },
    {
     "name": "stderr",
     "output_type": "stream",
     "text": [
      "    epoch          : 101\n",
      "    loss           : 0.457296555240949\n",
      "    my_metric      : 0.7884937739463601\n",
      "    f1             : 0.7890594367396406\n",
      "    balanced_accuracy: 0.7916560696149113\n",
      "    precision      : 0.7965107698073396\n",
      "    recall         : 0.7884937739463601\n",
      "    val_loss       : 0.4472060352563858\n",
      "    val_my_metric  : 0.828125\n",
      "    val_f1         : 0.8278100890945116\n",
      "    val_balanced_accuracy: 0.8270829442435046\n",
      "    val_precision  : 0.8314805636636865\n",
      "    val_recall     : 0.828125\n",
      "Saving checkpoint: saved/MaskedVolume_3d/0619_200535/checkpoint-epoch101.pth ...\n",
      "Saving current best: model_best.pth ...\n",
      "    epoch          : 102\n",
      "    loss           : 0.43179355561733246\n",
      "    my_metric      : 0.7973539272030652\n",
      "    f1             : 0.7980046794778546\n",
      "    balanced_accuracy: 0.7993321359896901\n",
      "    precision      : 0.8033662170097848\n",
      "    recall         : 0.7973539272030652\n",
      "    val_loss       : 0.5339736342430115\n",
      "    val_my_metric  : 0.7421875\n",
      "    val_f1         : 0.7380651273916665\n",
      "    val_balanced_accuracy: 0.7413515447789641\n",
      "    val_precision  : 0.7656171843766293\n",
      "    val_recall     : 0.7421875\n"
     ]
    },
    {
     "name": "stdout",
     "output_type": "stream",
     "text": [
      "Model has not improved in -------------| 1 epochs\n"
     ]
    },
    {
     "name": "stderr",
     "output_type": "stream",
     "text": [
      "    epoch          : 103\n",
      "    loss           : 0.4458833071920607\n",
      "    my_metric      : 0.7964858716475096\n",
      "    f1             : 0.7974822742071219\n",
      "    balanced_accuracy: 0.8008692190014433\n",
      "    precision      : 0.8075641025392957\n",
      "    recall         : 0.7964858716475096\n",
      "    val_loss       : 0.7160788625478745\n",
      "    val_my_metric  : 0.67578125\n",
      "    val_f1         : 0.6761253054190139\n",
      "    val_balanced_accuracy: 0.6371520504585021\n",
      "    val_precision  : 0.6825174394417743\n",
      "    val_recall     : 0.67578125\n"
     ]
    },
    {
     "name": "stdout",
     "output_type": "stream",
     "text": [
      "Model has not improved in -------------| 2 epochs\n"
     ]
    },
    {
     "name": "stderr",
     "output_type": "stream",
     "text": [
      "    epoch          : 104\n",
      "    loss           : 0.4236598461866379\n",
      "    my_metric      : 0.8116020114942528\n",
      "    f1             : 0.8119195087926119\n",
      "    balanced_accuracy: 0.8136110526648488\n",
      "    precision      : 0.8177600896097215\n",
      "    recall         : 0.8116020114942528\n",
      "    val_loss       : 0.7202183902263641\n",
      "    val_my_metric  : 0.7421875\n",
      "    val_f1         : 0.7457465760391363\n",
      "    val_balanced_accuracy: 0.7670221803286319\n",
      "    val_precision  : 0.7832491829175645\n",
      "    val_recall     : 0.7421875\n"
     ]
    },
    {
     "name": "stdout",
     "output_type": "stream",
     "text": [
      "Model has not improved in -------------| 3 epochs\n"
     ]
    },
    {
     "name": "stderr",
     "output_type": "stream",
     "text": [
      "    epoch          : 105\n",
      "    loss           : 0.4163767331176334\n",
      "    my_metric      : 0.8183668582375478\n",
      "    f1             : 0.8191228336963605\n",
      "    balanced_accuracy: 0.8220991105703274\n",
      "    precision      : 0.8265529870970253\n",
      "    recall         : 0.8183668582375478\n",
      "    val_loss       : 0.6969330236315727\n",
      "    val_my_metric  : 0.765625\n",
      "    val_f1         : 0.7623362491548343\n",
      "    val_balanced_accuracy: 0.7749533706588341\n",
      "    val_precision  : 0.8024681855500821\n",
      "    val_recall     : 0.765625\n"
     ]
    },
    {
     "name": "stdout",
     "output_type": "stream",
     "text": [
      "Model has not improved in -------------| 4 epochs\n"
     ]
    },
    {
     "name": "stderr",
     "output_type": "stream",
     "text": [
      "    epoch          : 106\n",
      "    loss           : 0.3983811007605659\n",
      "    my_metric      : 0.8261793582375478\n",
      "    f1             : 0.8274191404881739\n",
      "    balanced_accuracy: 0.8326733901572866\n",
      "    precision      : 0.8372504906084719\n",
      "    recall         : 0.8261793582375478\n",
      "    val_loss       : 0.6212390065193176\n",
      "    val_my_metric  : 0.6796875\n",
      "    val_f1         : 0.6793289315970767\n",
      "    val_balanced_accuracy: 0.7217183425094175\n",
      "    val_precision  : 0.7666776019700031\n",
      "    val_recall     : 0.6796875\n"
     ]
    },
    {
     "name": "stdout",
     "output_type": "stream",
     "text": [
      "Model has not improved in -------------| 5 epochs\n"
     ]
    },
    {
     "name": "stderr",
     "output_type": "stream",
     "text": [
      "    epoch          : 107\n",
      "    loss           : 0.4064531690544552\n",
      "    my_metric      : 0.8246228448275862\n",
      "    f1             : 0.8253666012597386\n",
      "    balanced_accuracy: 0.8278997402518932\n",
      "    precision      : 0.8318364959424787\n",
      "    recall         : 0.8246228448275862\n",
      "    val_loss       : 0.4705819934606552\n",
      "    val_my_metric  : 0.8203125\n",
      "    val_f1         : 0.8205987892095171\n",
      "    val_balanced_accuracy: 0.8195269851116626\n",
      "    val_precision  : 0.8220028169773189\n",
      "    val_recall     : 0.8203125\n"
     ]
    },
    {
     "name": "stdout",
     "output_type": "stream",
     "text": [
      "Model has not improved in -------------| 6 epochs\n"
     ]
    },
    {
     "name": "stderr",
     "output_type": "stream",
     "text": [
      "    epoch          : 108\n",
      "    loss           : 0.4114968263440662\n",
      "    my_metric      : 0.8213302203065135\n",
      "    f1             : 0.8223464310672044\n",
      "    balanced_accuracy: 0.8259144569779208\n",
      "    precision      : 0.8301034401090106\n",
      "    recall         : 0.8213302203065135\n",
      "    val_loss       : 0.5389335677027702\n",
      "    val_my_metric  : 0.734375\n",
      "    val_f1         : 0.7386332761332761\n",
      "    val_balanced_accuracy: 0.7520649264070316\n",
      "    val_precision  : 0.766879426060177\n",
      "    val_recall     : 0.734375\n"
     ]
    },
    {
     "name": "stdout",
     "output_type": "stream",
     "text": [
      "Model has not improved in -------------| 7 epochs\n"
     ]
    },
    {
     "name": "stderr",
     "output_type": "stream",
     "text": [
      "    epoch          : 109\n",
      "    loss           : 0.40700192252794903\n",
      "    my_metric      : 0.8197737068965517\n",
      "    f1             : 0.8204183908957021\n",
      "    balanced_accuracy: 0.8221755053838664\n",
      "    precision      : 0.8261995161435511\n",
      "    recall         : 0.8197737068965517\n",
      "    val_loss       : 0.4927383251488209\n",
      "    val_my_metric  : 0.80078125\n",
      "    val_f1         : 0.8010891534735336\n",
      "    val_balanced_accuracy: 0.8006767680780473\n",
      "    val_precision  : 0.8023213804649014\n",
      "    val_recall     : 0.80078125\n"
     ]
    },
    {
     "name": "stdout",
     "output_type": "stream",
     "text": [
      "Model has not improved in -------------| 8 epochs\n"
     ]
    },
    {
     "name": "stderr",
     "output_type": "stream",
     "text": [
      "    epoch          : 110\n",
      "    loss           : 0.4112132787704468\n",
      "    my_metric      : 0.8150742337164751\n",
      "    f1             : 0.8154787359497223\n",
      "    balanced_accuracy: 0.8188492546260113\n",
      "    precision      : 0.8237897545767356\n",
      "    recall         : 0.8150742337164751\n",
      "    val_loss       : 0.5641709789633751\n",
      "    val_my_metric  : 0.7265625\n",
      "    val_f1         : 0.7003295699479838\n",
      "    val_balanced_accuracy: 0.6605869071766637\n",
      "    val_precision  : 0.6813193444303242\n",
      "    val_recall     : 0.7265625\n"
     ]
    },
    {
     "name": "stdout",
     "output_type": "stream",
     "text": [
      "Model has not improved in -------------| 9 epochs\n"
     ]
    },
    {
     "name": "stderr",
     "output_type": "stream",
     "text": [
      "    epoch          : 111\n",
      "    loss           : 0.4122467984755834\n",
      "    my_metric      : 0.812290469348659\n",
      "    f1             : 0.8131902195050449\n",
      "    balanced_accuracy: 0.8154015060416233\n",
      "    precision      : 0.8202092670968977\n",
      "    recall         : 0.812290469348659\n",
      "    val_loss       : 0.5313004329800606\n",
      "    val_my_metric  : 0.81640625\n",
      "    val_f1         : 0.81677068714545\n",
      "    val_balanced_accuracy: 0.8196304563492063\n",
      "    val_precision  : 0.822269308658214\n",
      "    val_recall     : 0.81640625\n"
     ]
    },
    {
     "name": "stdout",
     "output_type": "stream",
     "text": [
      "Model has not improved in -------------| 10 epochs\n"
     ]
    },
    {
     "name": "stderr",
     "output_type": "stream",
     "text": [
      "    epoch          : 112\n",
      "    loss           : 0.4119498282670975\n",
      "    my_metric      : 0.8113924808429119\n",
      "    f1             : 0.8120767146525254\n",
      "    balanced_accuracy: 0.8138152166508887\n",
      "    precision      : 0.8171855995021964\n",
      "    recall         : 0.8113924808429119\n",
      "    val_loss       : 0.7944638133049011\n",
      "    val_my_metric  : 0.7421875\n",
      "    val_f1         : 0.7156384554066005\n",
      "    val_balanced_accuracy: 0.6829600266830871\n",
      "    val_precision  : 0.7017180811170661\n",
      "    val_recall     : 0.7421875\n"
     ]
    },
    {
     "name": "stdout",
     "output_type": "stream",
     "text": [
      "Model has not improved in -------------| 11 epochs\n"
     ]
    },
    {
     "name": "stderr",
     "output_type": "stream",
     "text": [
      "    epoch          : 113\n",
      "    loss           : 0.41678072181012893\n",
      "    my_metric      : 0.8121108716475096\n",
      "    f1             : 0.813392907543874\n",
      "    balanced_accuracy: 0.8180153754342063\n",
      "    precision      : 0.8227410482815987\n",
      "    recall         : 0.8121108716475096\n",
      "    val_loss       : 0.5175379142165184\n",
      "    val_my_metric  : 0.8125\n",
      "    val_f1         : 0.8134701797385621\n",
      "    val_balanced_accuracy: 0.8157226860493648\n",
      "    val_precision  : 0.8194870910240929\n",
      "    val_recall     : 0.8125\n"
     ]
    },
    {
     "name": "stdout",
     "output_type": "stream",
     "text": [
      "Model has not improved in -------------| 12 epochs\n"
     ]
    },
    {
     "name": "stderr",
     "output_type": "stream",
     "text": [
      "    epoch          : 114\n",
      "    loss           : 0.4017866204182307\n",
      "    my_metric      : 0.8206118295019157\n",
      "    f1             : 0.82124879536916\n",
      "    balanced_accuracy: 0.8235895288184173\n",
      "    precision      : 0.8273886875957986\n",
      "    recall         : 0.8206118295019157\n",
      "    val_loss       : 0.5615553259849548\n",
      "    val_my_metric  : 0.76171875\n",
      "    val_f1         : 0.7576948935048718\n",
      "    val_balanced_accuracy: 0.762156738018807\n",
      "    val_precision  : 0.7855569192239114\n",
      "    val_recall     : 0.76171875\n"
     ]
    },
    {
     "name": "stdout",
     "output_type": "stream",
     "text": [
      "Model has not improved in -------------| 13 epochs\n"
     ]
    },
    {
     "name": "stderr",
     "output_type": "stream",
     "text": [
      "    epoch          : 115\n",
      "    loss           : 0.38111978272596997\n",
      "    my_metric      : 0.8318965517241379\n",
      "    f1             : 0.832399781880979\n",
      "    balanced_accuracy: 0.8350784002817753\n",
      "    precision      : 0.8374150837451905\n",
      "    recall         : 0.8318965517241379\n",
      "    val_loss       : 0.5704464428126812\n",
      "    val_my_metric  : 0.8125\n",
      "    val_f1         : 0.812540114633298\n",
      "    val_balanced_accuracy: 0.8111754973267765\n",
      "    val_precision  : 0.8137986054929746\n",
      "    val_recall     : 0.8125\n"
     ]
    },
    {
     "name": "stdout",
     "output_type": "stream",
     "text": [
      "Model has not improved in -------------| 14 epochs\n"
     ]
    },
    {
     "name": "stderr",
     "output_type": "stream",
     "text": [
      "    epoch          : 116\n",
      "    loss           : 0.3868120296133889\n",
      "    my_metric      : 0.8306992337164751\n",
      "    f1             : 0.8320061142145421\n",
      "    balanced_accuracy: 0.8381573992503575\n",
      "    precision      : 0.8438822989737372\n",
      "    recall         : 0.8306992337164751\n",
      "    val_loss       : 0.6564871519804001\n",
      "    val_my_metric  : 0.734375\n",
      "    val_f1         : 0.7301535681701546\n",
      "    val_balanced_accuracy: 0.7333454071283686\n",
      "    val_precision  : 0.7559279702991901\n",
      "    val_recall     : 0.734375\n"
     ]
    },
    {
     "name": "stdout",
     "output_type": "stream",
     "text": [
      "Model has not improved in -------------| 15 epochs\n"
     ]
    },
    {
     "name": "stderr",
     "output_type": "stream",
     "text": [
      "    epoch          : 117\n",
      "    loss           : 0.3847643584012985\n",
      "    my_metric      : 0.8277658045977012\n",
      "    f1             : 0.8282706239695061\n",
      "    balanced_accuracy: 0.829518695194314\n",
      "    precision      : 0.833861397161056\n",
      "    recall         : 0.8277658045977012\n",
      "    val_loss       : 0.515179879963398\n",
      "    val_my_metric  : 0.8203125\n",
      "    val_f1         : 0.8219762087697311\n",
      "    val_balanced_accuracy: 0.8231110144353935\n",
      "    val_precision  : 0.8291375343209131\n",
      "    val_recall     : 0.8203125\n"
     ]
    },
    {
     "name": "stdout",
     "output_type": "stream",
     "text": [
      "Model has not improved in -------------| 16 epochs\n"
     ]
    },
    {
     "name": "stderr",
     "output_type": "stream",
     "text": [
      "    epoch          : 118\n",
      "    loss           : 0.3876143544912338\n",
      "    my_metric      : 0.8348599137931034\n",
      "    f1             : 0.8360337642623965\n",
      "    balanced_accuracy: 0.8427407311493413\n",
      "    precision      : 0.8470804746307993\n",
      "    recall         : 0.8348599137931034\n",
      "    val_loss       : 0.5843466743826866\n",
      "    val_my_metric  : 0.79296875\n",
      "    val_f1         : 0.7939404237634591\n",
      "    val_balanced_accuracy: 0.7963351399603669\n",
      "    val_precision  : 0.8010132786429367\n",
      "    val_recall     : 0.79296875\n"
     ]
    },
    {
     "name": "stdout",
     "output_type": "stream",
     "text": [
      "Model has not improved in -------------| 17 epochs\n"
     ]
    },
    {
     "name": "stderr",
     "output_type": "stream",
     "text": [
      "    epoch          : 119\n",
      "    loss           : 0.40195005138715106\n",
      "    my_metric      : 0.8263589559386973\n",
      "    f1             : 0.8271252420397631\n",
      "    balanced_accuracy: 0.8286754231034323\n",
      "    precision      : 0.8328396989464806\n",
      "    recall         : 0.8263589559386973\n",
      "    val_loss       : 0.52419638261199\n",
      "    val_my_metric  : 0.8125\n",
      "    val_f1         : 0.8129605476971806\n",
      "    val_balanced_accuracy: 0.8095786945036056\n",
      "    val_precision  : 0.8140014762536314\n",
      "    val_recall     : 0.8125\n"
     ]
    },
    {
     "name": "stdout",
     "output_type": "stream",
     "text": [
      "Model has not improved in -------------| 18 epochs\n"
     ]
    },
    {
     "name": "stderr",
     "output_type": "stream",
     "text": [
      "    epoch          : 120\n",
      "    loss           : 0.381804957985878\n",
      "    my_metric      : 0.8385117337164751\n",
      "    f1             : 0.8390483562882921\n",
      "    balanced_accuracy: 0.8414821819694123\n",
      "    precision      : 0.8453697926037802\n",
      "    recall         : 0.8385117337164751\n",
      "    val_loss       : 0.6588998585939407\n",
      "    val_my_metric  : 0.69140625\n",
      "    val_f1         : 0.6902769256831002\n",
      "    val_balanced_accuracy: 0.7371406033677839\n",
      "    val_precision  : 0.7887813380666032\n",
      "    val_recall     : 0.69140625\n"
     ]
    },
    {
     "name": "stdout",
     "output_type": "stream",
     "text": [
      "Model has not improved in -------------| 19 epochs\n"
     ]
    },
    {
     "name": "stderr",
     "output_type": "stream",
     "text": [
      "    epoch          : 121\n",
      "    loss           : 0.3893052173985375\n",
      "    my_metric      : 0.8159123563218391\n",
      "    f1             : 0.8167017968587961\n",
      "    balanced_accuracy: 0.8198731141912823\n",
      "    precision      : 0.8273120380688869\n",
      "    recall         : 0.8159123563218391\n",
      "    val_loss       : 0.6161260977387428\n",
      "    val_my_metric  : 0.75\n",
      "    val_f1         : 0.7769577536789122\n",
      "    val_balanced_accuracy: 0.7513019015035144\n",
      "    val_precision  : 0.8152760183068829\n",
      "    val_recall     : 0.75\n"
     ]
    },
    {
     "name": "stdout",
     "output_type": "stream",
     "text": [
      "Model has not improved in -------------| 20 epochs\n"
     ]
    },
    {
     "name": "stderr",
     "output_type": "stream",
     "text": [
      "    epoch          : 122\n",
      "    loss           : 0.39479711320665145\n",
      "    my_metric      : 0.8227071360153256\n",
      "    f1             : 0.8233365200165621\n",
      "    balanced_accuracy: 0.8263216307482689\n",
      "    precision      : 0.8295173051513204\n",
      "    recall         : 0.8227071360153256\n",
      "    val_loss       : 0.48433913849294186\n",
      "    val_my_metric  : 0.83203125\n",
      "    val_f1         : 0.8323547383423447\n",
      "    val_balanced_accuracy: 0.8326702903732938\n",
      "    val_precision  : 0.8344592524509804\n",
      "    val_recall     : 0.83203125\n"
     ]
    },
    {
     "name": "stdout",
     "output_type": "stream",
     "text": [
      "Model has not improved in -------------| 21 epochs\n"
     ]
    },
    {
     "name": "stderr",
     "output_type": "stream",
     "text": [
      "    epoch          : 123\n",
      "    loss           : 0.4022108316421509\n",
      "    my_metric      : 0.821988745210728\n",
      "    f1             : 0.8221870395826333\n",
      "    balanced_accuracy: 0.822568352739165\n",
      "    precision      : 0.8254093317169114\n",
      "    recall         : 0.821988745210728\n",
      "    val_loss       : 0.577628530561924\n",
      "    val_my_metric  : 0.8203125\n",
      "    val_f1         : 0.8197564289331059\n",
      "    val_balanced_accuracy: 0.8205301429905565\n",
      "    val_precision  : 0.8243751515909382\n",
      "    val_recall     : 0.8203125\n"
     ]
    },
    {
     "name": "stdout",
     "output_type": "stream",
     "text": [
      "Model has not improved in -------------| 22 epochs\n"
     ]
    },
    {
     "name": "stderr",
     "output_type": "stream",
     "text": [
      "    epoch          : 124\n",
      "    loss           : 0.3684060614969995\n",
      "    my_metric      : 0.8397090517241379\n",
      "    f1             : 0.8399073369986597\n",
      "    balanced_accuracy: 0.8422369796306219\n",
      "    precision      : 0.8475690087227501\n",
      "    recall         : 0.8397090517241379\n",
      "    val_loss       : 0.670447513461113\n",
      "    val_my_metric  : 0.76953125\n",
      "    val_f1         : 0.7746329310025897\n",
      "    val_balanced_accuracy: 0.7903347996089931\n",
      "    val_precision  : 0.8051724137931034\n",
      "    val_recall     : 0.76953125\n"
     ]
    },
    {
     "name": "stdout",
     "output_type": "stream",
     "text": [
      "Model has not improved in -------------| 23 epochs\n"
     ]
    },
    {
     "name": "stderr",
     "output_type": "stream",
     "text": [
      "    epoch          : 125\n",
      "    loss           : 0.3725995504193836\n",
      "    my_metric      : 0.8244432471264367\n",
      "    f1             : 0.8251211849647881\n",
      "    balanced_accuracy: 0.8271879409970582\n",
      "    precision      : 0.8314058846124505\n",
      "    recall         : 0.8244432471264367\n",
      "    val_loss       : 0.5431109443306923\n",
      "    val_my_metric  : 0.76171875\n",
      "    val_f1         : 0.7574476585505998\n",
      "    val_balanced_accuracy: 0.7588587487781036\n",
      "    val_precision  : 0.782797306355193\n",
      "    val_recall     : 0.76171875\n"
     ]
    },
    {
     "name": "stdout",
     "output_type": "stream",
     "text": [
      "Model has not improved in -------------| 24 epochs\n"
     ]
    },
    {
     "name": "stderr",
     "output_type": "stream",
     "text": [
      "    epoch          : 126\n",
      "    loss           : 0.39189507563908893\n",
      "    my_metric      : 0.821150622605364\n",
      "    f1             : 0.8222174077623472\n",
      "    balanced_accuracy: 0.8274335925950161\n",
      "    precision      : 0.8344517063317848\n",
      "    recall         : 0.821150622605364\n",
      "    val_loss       : 0.5799165740609169\n",
      "    val_my_metric  : 0.76171875\n",
      "    val_f1         : 0.7571152371933623\n",
      "    val_balanced_accuracy: 0.7572626917410595\n",
      "    val_precision  : 0.7821566037191037\n",
      "    val_recall     : 0.76171875\n"
     ]
    },
    {
     "name": "stdout",
     "output_type": "stream",
     "text": [
      "Model has not improved in -------------| 25 epochs\n"
     ]
    },
    {
     "name": "stderr",
     "output_type": "stream",
     "text": [
      "    epoch          : 127\n",
      "    loss           : 0.3698567748069763\n",
      "    my_metric      : 0.8395593869731801\n",
      "    f1             : 0.8399272816414636\n",
      "    balanced_accuracy: 0.8439013538142786\n",
      "    precision      : 0.8478195771671082\n",
      "    recall         : 0.8395593869731801\n",
      "    val_loss       : 0.6666563451290131\n",
      "    val_my_metric  : 0.74609375\n",
      "    val_f1         : 0.7416272233835437\n",
      "    val_balanced_accuracy: 0.7452558759859269\n",
      "    val_precision  : 0.7712329478493272\n",
      "    val_recall     : 0.74609375\n"
     ]
    },
    {
     "name": "stdout",
     "output_type": "stream",
     "text": [
      "Model has not improved in -------------| 26 epochs\n"
     ]
    },
    {
     "name": "stderr",
     "output_type": "stream",
     "text": [
      "    epoch          : 128\n",
      "    loss           : 0.3669475085205502\n",
      "    my_metric      : 0.8407567049808429\n",
      "    f1             : 0.8412747235891038\n",
      "    balanced_accuracy: 0.8434543941283521\n",
      "    precision      : 0.8473806966414457\n",
      "    recall         : 0.8407567049808429\n",
      "    val_loss       : 0.6371067836880684\n",
      "    val_my_metric  : 0.7734375\n",
      "    val_f1         : 0.7776287336029983\n",
      "    val_balanced_accuracy: 0.7922235576923076\n",
      "    val_precision  : 0.8065912144030511\n",
      "    val_recall     : 0.7734375\n"
     ]
    },
    {
     "name": "stdout",
     "output_type": "stream",
     "text": [
      "Model has not improved in -------------| 27 epochs\n"
     ]
    },
    {
     "name": "stderr",
     "output_type": "stream",
     "text": [
      "    epoch          : 129\n",
      "    loss           : 0.3712327877680461\n",
      "    my_metric      : 0.8372844827586207\n",
      "    f1             : 0.8378092085383435\n",
      "    balanced_accuracy: 0.8422102277757105\n",
      "    precision      : 0.8477560225502423\n",
      "    recall         : 0.8372844827586207\n",
      "    val_loss       : 0.6342246904969215\n",
      "    val_my_metric  : 0.7421875\n",
      "    val_f1         : 0.7387799548081806\n",
      "    val_balanced_accuracy: 0.7425083597616804\n",
      "    val_precision  : 0.7678194594109196\n",
      "    val_recall     : 0.7421875\n"
     ]
    },
    {
     "name": "stdout",
     "output_type": "stream",
     "text": [
      "Model has not improved in -------------| 28 epochs\n"
     ]
    },
    {
     "name": "stderr",
     "output_type": "stream",
     "text": [
      "    epoch          : 130\n",
      "    loss           : 0.3737537231710222\n",
      "    my_metric      : 0.8324353448275862\n",
      "    f1             : 0.8327052768770842\n",
      "    balanced_accuracy: 0.8362686012998689\n",
      "    precision      : 0.83923887046212\n",
      "    recall         : 0.8324353448275862\n",
      "    val_loss       : 0.7792917639017105\n",
      "    val_my_metric  : 0.6796875\n",
      "    val_f1         : 0.6795601026265656\n",
      "    val_balanced_accuracy: 0.6362239910627008\n",
      "    val_precision  : 0.6811466716100336\n",
      "    val_recall     : 0.6796875\n"
     ]
    },
    {
     "name": "stdout",
     "output_type": "stream",
     "text": [
      "Model has not improved in -------------| 29 epochs\n"
     ]
    },
    {
     "name": "stderr",
     "output_type": "stream",
     "text": [
      "    epoch          : 131\n",
      "    loss           : 0.37620127035511863\n",
      "    my_metric      : 0.8359075670498084\n",
      "    f1             : 0.8365286098642866\n",
      "    balanced_accuracy: 0.8398236236392095\n",
      "    precision      : 0.8434187714167826\n",
      "    recall         : 0.8359075670498084\n",
      "    val_loss       : 0.45897193998098373\n",
      "    val_my_metric  : 0.82421875\n",
      "    val_f1         : 0.8246352989752299\n",
      "    val_balanced_accuracy: 0.8277083394157921\n",
      "    val_precision  : 0.8319077886963007\n",
      "    val_recall     : 0.82421875\n"
     ]
    },
    {
     "name": "stdout",
     "output_type": "stream",
     "text": [
      "Model has not improved in -------------| 30 epochs\n"
     ]
    },
    {
     "name": "stderr",
     "output_type": "stream",
     "text": [
      "    epoch          : 132\n",
      "    loss           : 0.36644241710503894\n",
      "    my_metric      : 0.8348599137931034\n",
      "    f1             : 0.8351029342018577\n",
      "    balanced_accuracy: 0.837658374852025\n",
      "    precision      : 0.8402428528121232\n",
      "    recall         : 0.8348599137931034\n",
      "    val_loss       : 0.6748009771108627\n",
      "    val_my_metric  : 0.69921875\n",
      "    val_f1         : 0.6577517747843161\n",
      "    val_balanced_accuracy: 0.7017458707620978\n",
      "    val_precision  : 0.6417693340132389\n",
      "    val_recall     : 0.69921875\n"
     ]
    },
    {
     "name": "stdout",
     "output_type": "stream",
     "text": [
      "Model has not improved in -------------| 31 epochs\n"
     ]
    },
    {
     "name": "stderr",
     "output_type": "stream",
     "text": [
      "    epoch          : 133\n",
      "    loss           : 0.37713292572233414\n",
      "    my_metric      : 0.8327945402298851\n",
      "    f1             : 0.8331499821638118\n",
      "    balanced_accuracy: 0.8347052345855109\n",
      "    precision      : 0.8378739807542563\n",
      "    recall         : 0.8327945402298851\n",
      "    val_loss       : 0.5186204090714455\n",
      "    val_my_metric  : 0.8125\n",
      "    val_f1         : 0.8133309789221925\n",
      "    val_balanced_accuracy: 0.8147842289983978\n",
      "    val_precision  : 0.8195554699920509\n",
      "    val_recall     : 0.8125\n"
     ]
    },
    {
     "name": "stdout",
     "output_type": "stream",
     "text": [
      "Model has not improved in -------------| 32 epochs\n"
     ]
    },
    {
     "name": "stderr",
     "output_type": "stream",
     "text": [
      "    epoch          : 134\n",
      "    loss           : 0.3561838178171052\n",
      "    my_metric      : 0.8496168582375478\n",
      "    f1             : 0.8497114653342344\n",
      "    balanced_accuracy: 0.8503530156236297\n",
      "    precision      : 0.8533084427896733\n",
      "    recall         : 0.8496168582375478\n",
      "    val_loss       : 0.7537394315004349\n",
      "    val_my_metric  : 0.71484375\n",
      "    val_f1         : 0.6880866928195669\n",
      "    val_balanced_accuracy: 0.6507484986089228\n",
      "    val_precision  : 0.66888235138663\n",
      "    val_recall     : 0.71484375\n"
     ]
    },
    {
     "name": "stdout",
     "output_type": "stream",
     "text": [
      "Model has not improved in -------------| 33 epochs\n"
     ]
    },
    {
     "name": "stderr",
     "output_type": "stream",
     "text": [
      "    epoch          : 135\n",
      "    loss           : 0.3608212371667226\n",
      "    my_metric      : 0.8431812739463601\n",
      "    f1             : 0.8435463978227941\n",
      "    balanced_accuracy: 0.845527601228669\n",
      "    precision      : 0.8490908778074757\n",
      "    recall         : 0.8431812739463601\n",
      "    val_loss       : 0.5299781635403633\n",
      "    val_my_metric  : 0.81640625\n",
      "    val_f1         : 0.8162097383330181\n",
      "    val_balanced_accuracy: 0.8157770793624357\n",
      "    val_precision  : 0.8175912741174056\n",
      "    val_recall     : 0.81640625\n"
     ]
    },
    {
     "name": "stdout",
     "output_type": "stream",
     "text": [
      "Model has not improved in -------------| 34 epochs\n"
     ]
    },
    {
     "name": "stderr",
     "output_type": "stream",
     "text": [
      "    epoch          : 136\n",
      "    loss           : 0.3580412144462268\n",
      "    my_metric      : 0.8341714559386973\n",
      "    f1             : 0.835099256982991\n",
      "    balanced_accuracy: 0.83878535660202\n",
      "    precision      : 0.8439446795883792\n",
      "    recall         : 0.8341714559386973\n",
      "    val_loss       : 0.5626682788133621\n",
      "    val_my_metric  : 0.734375\n",
      "    val_f1         : 0.729556053140028\n",
      "    val_balanced_accuracy: 0.7327923181440978\n",
      "    val_precision  : 0.7595864020492047\n",
      "    val_recall     : 0.734375\n"
     ]
    },
    {
     "name": "stdout",
     "output_type": "stream",
     "text": [
      "Model has not improved in -------------| 35 epochs\n"
     ]
    },
    {
     "name": "stderr",
     "output_type": "stream",
     "text": [
      "    epoch          : 137\n",
      "    loss           : 0.33349333703517914\n",
      "    my_metric      : 0.8588362068965517\n",
      "    f1             : 0.8591060188046149\n",
      "    balanced_accuracy: 0.8619322224874039\n",
      "    precision      : 0.8639668841540097\n",
      "    recall         : 0.8588362068965517\n",
      "    val_loss       : 0.6434179246425629\n",
      "    val_my_metric  : 0.73046875\n",
      "    val_f1         : 0.7353765678135283\n",
      "    val_balanced_accuracy: 0.7531784014911282\n",
      "    val_precision  : 0.767061536858145\n",
      "    val_recall     : 0.73046875\n"
     ]
    },
    {
     "name": "stdout",
     "output_type": "stream",
     "text": [
      "Model has not improved in -------------| 36 epochs\n"
     ]
    },
    {
     "name": "stderr",
     "output_type": "stream",
     "text": [
      "    epoch          : 138\n",
      "    loss           : 0.36338552915387684\n",
      "    my_metric      : 0.8475514846743295\n",
      "    f1             : 0.847629635164573\n",
      "    balanced_accuracy: 0.8479073344250907\n",
      "    precision      : 0.8502776661015924\n",
      "    recall         : 0.8475514846743295\n",
      "    val_loss       : 0.5370104871690273\n",
      "    val_my_metric  : 0.80078125\n",
      "    val_f1         : 0.80146389388783\n",
      "    val_balanced_accuracy: 0.8016404963493146\n",
      "    val_precision  : 0.8040455551722154\n",
      "    val_recall     : 0.80078125\n"
     ]
    },
    {
     "name": "stdout",
     "output_type": "stream",
     "text": [
      "Model has not improved in -------------| 37 epochs\n"
     ]
    },
    {
     "name": "stderr",
     "output_type": "stream",
     "text": [
      "    epoch          : 139\n",
      "    loss           : 0.35105520155694747\n",
      "    my_metric      : 0.8404274425287357\n",
      "    f1             : 0.8405220591878163\n",
      "    balanced_accuracy: 0.8417132575972668\n",
      "    precision      : 0.8452276037013813\n",
      "    recall         : 0.8404274425287357\n",
      "    val_loss       : 0.7840293794870377\n",
      "    val_my_metric  : 0.7265625\n",
      "    val_f1         : 0.7307829868946167\n",
      "    val_balanced_accuracy: 0.7485905022669728\n",
      "    val_precision  : 0.7647224476297072\n",
      "    val_recall     : 0.7265625\n"
     ]
    },
    {
     "name": "stdout",
     "output_type": "stream",
     "text": [
      "Model has not improved in -------------| 38 epochs\n"
     ]
    },
    {
     "name": "stderr",
     "output_type": "stream",
     "text": [
      "    epoch          : 140\n",
      "    loss           : 0.35634883244832355\n",
      "    my_metric      : 0.84527658045977\n",
      "    f1             : 0.8459113458463741\n",
      "    balanced_accuracy: 0.8501461141613428\n",
      "    precision      : 0.8540154730762652\n",
      "    recall         : 0.84527658045977\n",
      "    val_loss       : 0.555370956659317\n",
      "    val_my_metric  : 0.8125\n",
      "    val_f1         : 0.8124627862719535\n",
      "    val_balanced_accuracy: 0.811505119289095\n",
      "    val_precision  : 0.8129306603208812\n",
      "    val_recall     : 0.8125\n"
     ]
    },
    {
     "name": "stdout",
     "output_type": "stream",
     "text": [
      "Model has not improved in -------------| 39 epochs\n"
     ]
    },
    {
     "name": "stderr",
     "output_type": "stream",
     "text": [
      "    epoch          : 141\n",
      "    loss           : 0.3537110942933295\n",
      "    my_metric      : 0.8411159003831418\n",
      "    f1             : 0.8417216523981933\n",
      "    balanced_accuracy: 0.8465631153731006\n",
      "    precision      : 0.8501210381044965\n",
      "    recall         : 0.8411159003831418\n",
      "    val_loss       : 0.8898365646600723\n",
      "    val_my_metric  : 0.69140625\n",
      "    val_f1         : 0.7338487103075809\n",
      "    val_balanced_accuracy: 0.691097786594744\n",
      "    val_precision  : 0.8194454128634212\n",
      "    val_recall     : 0.69140625\n"
     ]
    },
    {
     "name": "stdout",
     "output_type": "stream",
     "text": [
      "Model has not improved in -------------| 40 epochs\n"
     ]
    },
    {
     "name": "stderr",
     "output_type": "stream",
     "text": [
      "    epoch          : 142\n",
      "    loss           : 0.3385370506180657\n",
      "    my_metric      : 0.8586566091954023\n",
      "    f1             : 0.8589843711706109\n",
      "    balanced_accuracy: 0.8615108717153022\n",
      "    precision      : 0.8654595412415429\n",
      "    recall         : 0.8586566091954023\n",
      "    val_loss       : 0.7213260233402252\n",
      "    val_my_metric  : 0.7265625\n",
      "    val_f1         : 0.7229876649051235\n",
      "    val_balanced_accuracy: 0.7307612687450149\n",
      "    val_precision  : 0.7566433510365353\n",
      "    val_recall     : 0.7265625\n"
     ]
    },
    {
     "name": "stdout",
     "output_type": "stream",
     "text": [
      "Model has not improved in -------------| 41 epochs\n"
     ]
    },
    {
     "name": "stderr",
     "output_type": "stream",
     "text": [
      "    epoch          : 143\n",
      "    loss           : 0.33606652667125064\n",
      "    my_metric      : 0.8565613026819923\n",
      "    f1             : 0.8571386019134904\n",
      "    balanced_accuracy: 0.8585380854910403\n",
      "    precision      : 0.8617856973751263\n",
      "    recall         : 0.8565613026819923\n",
      "    val_loss       : 0.6111107021570206\n",
      "    val_my_metric  : 0.68359375\n",
      "    val_f1         : 0.68633270323521\n",
      "    val_balanced_accuracy: 0.7023200590296179\n",
      "    val_precision  : 0.7170674863551452\n",
      "    val_recall     : 0.68359375\n"
     ]
    },
    {
     "name": "stdout",
     "output_type": "stream",
     "text": [
      "Model has not improved in -------------| 42 epochs\n"
     ]
    },
    {
     "name": "stderr",
     "output_type": "stream",
     "text": [
      "    epoch          : 144\n",
      "    loss           : 0.3729082809554206\n",
      "    my_metric      : 0.8338122605363985\n",
      "    f1             : 0.8344325395672967\n",
      "    balanced_accuracy: 0.8366212034929679\n",
      "    precision      : 0.8396671422325527\n",
      "    recall         : 0.8338122605363985\n",
      "    val_loss       : 0.7430583089590073\n",
      "    val_my_metric  : 0.74609375\n",
      "    val_f1         : 0.742378583217937\n",
      "    val_balanced_accuracy: 0.7473017275280206\n",
      "    val_precision  : 0.7701618518558448\n",
      "    val_recall     : 0.74609375\n"
     ]
    },
    {
     "name": "stdout",
     "output_type": "stream",
     "text": [
      "Model has not improved in -------------| 43 epochs\n"
     ]
    },
    {
     "name": "stderr",
     "output_type": "stream",
     "text": [
      "    epoch          : 145\n",
      "    loss           : 0.3366271075275209\n",
      "    my_metric      : 0.8588362068965517\n",
      "    f1             : 0.8593316213222145\n",
      "    balanced_accuracy: 0.863490018343466\n",
      "    precision      : 0.8660530266397009\n",
      "    recall         : 0.8588362068965517\n",
      "    val_loss       : 0.6415713280439377\n",
      "    val_my_metric  : 0.71484375\n",
      "    val_f1         : 0.7411897487318467\n",
      "    val_balanced_accuracy: 0.7122550270894923\n",
      "    val_precision  : 0.7786224214901478\n",
      "    val_recall     : 0.71484375\n"
     ]
    },
    {
     "name": "stdout",
     "output_type": "stream",
     "text": [
      "Model has not improved in -------------| 44 epochs\n"
     ]
    },
    {
     "name": "stderr",
     "output_type": "stream",
     "text": [
      "    epoch          : 146\n",
      "    loss           : 0.3560347126589881\n",
      "    my_metric      : 0.8442289272030652\n",
      "    f1             : 0.8453504055179418\n",
      "    balanced_accuracy: 0.852234693198577\n",
      "    precision      : 0.8568748223057133\n",
      "    recall         : 0.8442289272030652\n",
      "    val_loss       : 0.9632254242897034\n",
      "    val_my_metric  : 0.625\n",
      "    val_f1         : 0.613080881682171\n",
      "    val_balanced_accuracy: 0.6178540217333321\n",
      "    val_precision  : 0.6058674994542351\n",
      "    val_recall     : 0.625\n"
     ]
    },
    {
     "name": "stdout",
     "output_type": "stream",
     "text": [
      "Model has not improved in -------------| 45 epochs\n"
     ]
    },
    {
     "name": "stderr",
     "output_type": "stream",
     "text": [
      "    epoch          : 147\n",
      "    loss           : 0.3310268604093128\n",
      "    my_metric      : 0.8506645114942528\n",
      "    f1             : 0.8507717157323476\n",
      "    balanced_accuracy: 0.8517339295200128\n",
      "    precision      : 0.8547724068470316\n",
      "    recall         : 0.8506645114942528\n",
      "    val_loss       : 0.7782090157270432\n",
      "    val_my_metric  : 0.70703125\n",
      "    val_f1         : 0.7100994583246942\n",
      "    val_balanced_accuracy: 0.7245316868956138\n",
      "    val_precision  : 0.7408804627518641\n",
      "    val_recall     : 0.70703125\n"
     ]
    },
    {
     "name": "stdout",
     "output_type": "stream",
     "text": [
      "Model has not improved in -------------| 46 epochs\n"
     ]
    },
    {
     "name": "stderr",
     "output_type": "stream",
     "text": [
      "    epoch          : 148\n",
      "    loss           : 0.35035229557090336\n",
      "    my_metric      : 0.8426724137931034\n",
      "    f1             : 0.8432138689316484\n",
      "    balanced_accuracy: 0.8469593033089325\n",
      "    precision      : 0.8507224017971725\n",
      "    recall         : 0.8426724137931034\n",
      "    val_loss       : 0.9091714769601822\n",
      "    val_my_metric  : 0.7421875\n",
      "    val_f1         : 0.7382286535303777\n",
      "    val_balanced_accuracy: 0.7416925893288518\n",
      "    val_precision  : 0.7641533336208384\n",
      "    val_recall     : 0.7421875\n"
     ]
    },
    {
     "name": "stdout",
     "output_type": "stream",
     "text": [
      "Model has not improved in -------------| 47 epochs\n"
     ]
    },
    {
     "name": "stderr",
     "output_type": "stream",
     "text": [
      "    epoch          : 149\n",
      "    loss           : 0.32196804881095886\n",
      "    my_metric      : 0.8588362068965517\n",
      "    f1             : 0.8588642754163796\n",
      "    balanced_accuracy: 0.859782985506561\n",
      "    precision      : 0.8627698233029958\n",
      "    recall         : 0.8588362068965517\n",
      "    val_loss       : 0.6576023995876312\n",
      "    val_my_metric  : 0.67578125\n",
      "    val_f1         : 0.7179708527497689\n",
      "    val_balanced_accuracy: 0.6765886719060095\n",
      "    val_precision  : 0.8044985922709601\n",
      "    val_recall     : 0.67578125\n"
     ]
    },
    {
     "name": "stdout",
     "output_type": "stream",
     "text": [
      "Model has not improved in -------------| 48 epochs\n"
     ]
    },
    {
     "name": "stderr",
     "output_type": "stream",
     "text": [
      "    epoch          : 150\n",
      "    loss           : 0.35246897406048244\n",
      "    my_metric      : 0.8504849137931034\n",
      "    f1             : 0.850641622712748\n",
      "    balanced_accuracy: 0.8521385617131148\n",
      "    precision      : 0.8549542218360656\n",
      "    recall         : 0.8504849137931034\n",
      "    val_loss       : 0.572917940095067\n",
      "    val_my_metric  : 0.81640625\n",
      "    val_f1         : 0.8142790368112895\n",
      "    val_balanced_accuracy: 0.8115744887296612\n",
      "    val_precision  : 0.824293594657559\n",
      "    val_recall     : 0.81640625\n"
     ]
    },
    {
     "name": "stdout",
     "output_type": "stream",
     "text": [
      "Model has not improved in -------------| 49 epochs\n"
     ]
    },
    {
     "name": "stderr",
     "output_type": "stream",
     "text": [
      "    epoch          : 151\n",
      "    loss           : 0.3316457023223241\n",
      "    my_metric      : 0.861260775862069\n",
      "    f1             : 0.8615539160988456\n",
      "    balanced_accuracy: 0.8641055312602464\n",
      "    precision      : 0.866089103115737\n",
      "    recall         : 0.861260775862069\n",
      "    val_loss       : 0.7542137950658798\n",
      "    val_my_metric  : 0.72265625\n",
      "    val_f1         : 0.7180817827315156\n",
      "    val_balanced_accuracy: 0.7197878835238549\n",
      "    val_precision  : 0.7449558933933933\n",
      "    val_recall     : 0.72265625\n"
     ]
    },
    {
     "name": "stdout",
     "output_type": "stream",
     "text": [
      "Model has not improved in -------------| 50 epochs\n"
     ]
    },
    {
     "name": "stderr",
     "output_type": "stream",
     "text": [
      "    epoch          : 152\n",
      "    loss           : 0.33941565950711566\n",
      "    my_metric      : 0.8623084291187739\n",
      "    f1             : 0.8631090976127056\n",
      "    balanced_accuracy: 0.86622043253773\n",
      "    precision      : 0.8695028506256305\n",
      "    recall         : 0.8623084291187739\n",
      "    val_loss       : 0.5946608185768127\n",
      "    val_my_metric  : 0.77734375\n",
      "    val_f1         : 0.7767987896526909\n",
      "    val_balanced_accuracy: 0.7766984156262173\n",
      "    val_precision  : 0.7810994953785555\n",
      "    val_recall     : 0.77734375\n"
     ]
    },
    {
     "name": "stdout",
     "output_type": "stream",
     "text": [
      "Model has not improved in -------------| 51 epochs\n"
     ]
    },
    {
     "name": "stderr",
     "output_type": "stream",
     "text": [
      "    epoch          : 153\n",
      "    loss           : 0.3193776210149129\n",
      "    my_metric      : 0.8629968869731801\n",
      "    f1             : 0.8632461454806292\n",
      "    balanced_accuracy: 0.8653809968776609\n",
      "    precision      : 0.8673245965554669\n",
      "    recall         : 0.8629968869731801\n",
      "    val_loss       : 0.5251677967607975\n",
      "    val_my_metric  : 0.80078125\n",
      "    val_f1         : 0.8006364256174665\n",
      "    val_balanced_accuracy: 0.8084077750206782\n",
      "    val_precision  : 0.8166901414960384\n",
      "    val_recall     : 0.80078125\n"
     ]
    },
    {
     "name": "stdout",
     "output_type": "stream",
     "text": [
      "Model has not improved in -------------| 52 epochs\n"
     ]
    },
    {
     "name": "stderr",
     "output_type": "stream",
     "text": [
      "    epoch          : 154\n",
      "    loss           : 0.32860541178120506\n",
      "    my_metric      : 0.8541367337164751\n",
      "    f1             : 0.8544076958849461\n",
      "    balanced_accuracy: 0.8561829864706563\n",
      "    precision      : 0.8605151665806063\n",
      "    recall         : 0.8541367337164751\n",
      "    val_loss       : 0.48736027255654335\n",
      "    val_my_metric  : 0.83203125\n",
      "    val_f1         : 0.8315351006406275\n",
      "    val_balanced_accuracy: 0.8298199287313439\n",
      "    val_precision  : 0.8335301672366384\n",
      "    val_recall     : 0.83203125\n"
     ]
    },
    {
     "name": "stdout",
     "output_type": "stream",
     "text": [
      "Model has not improved in -------------| 53 epochs\n"
     ]
    },
    {
     "name": "stderr",
     "output_type": "stream",
     "text": [
      "    epoch          : 155\n",
      "    loss           : 0.32845869494809043\n",
      "    my_metric      : 0.8629968869731801\n",
      "    f1             : 0.8630846926481972\n",
      "    balanced_accuracy: 0.8623827091749146\n",
      "    precision      : 0.8641433597860728\n",
      "    recall         : 0.8629968869731801\n",
      "    val_loss       : 0.574068158864975\n",
      "    val_my_metric  : 0.74609375\n",
      "    val_f1         : 0.7195699540355082\n",
      "    val_balanced_accuracy: 0.684515081692501\n",
      "    val_precision  : 0.7022604672588775\n",
      "    val_recall     : 0.74609375\n"
     ]
    },
    {
     "name": "stdout",
     "output_type": "stream",
     "text": [
      "Model has not improved in -------------| 54 epochs\n"
     ]
    },
    {
     "name": "stderr",
     "output_type": "stream",
     "text": [
      "    epoch          : 156\n",
      "    loss           : 0.3299027747578091\n",
      "    my_metric      : 0.8584770114942528\n",
      "    f1             : 0.8591470884774405\n",
      "    balanced_accuracy: 0.8611537268041445\n",
      "    precision      : 0.8650326145456007\n",
      "    recall         : 0.8584770114942528\n",
      "    val_loss       : 0.8948330283164978\n",
      "    val_my_metric  : 0.6796875\n",
      "    val_f1         : 0.6801731294477241\n",
      "    val_balanced_accuracy: 0.6826211722036992\n",
      "    val_precision  : 0.6853234970674487\n",
      "    val_recall     : 0.6796875\n"
     ]
    },
    {
     "name": "stdout",
     "output_type": "stream",
     "text": [
      "Model has not improved in -------------| 55 epochs\n"
     ]
    },
    {
     "name": "stderr",
     "output_type": "stream",
     "text": [
      "    epoch          : 157\n",
      "    loss           : 0.3401159635848469\n",
      "    my_metric      : 0.8471922892720306\n",
      "    f1             : 0.8480053863111157\n",
      "    balanced_accuracy: 0.8522984754046251\n",
      "    precision      : 0.8555475479398745\n",
      "    recall         : 0.8471922892720306\n",
      "    val_loss       : 0.5842513367533684\n",
      "    val_my_metric  : 0.7578125\n",
      "    val_f1         : 0.7626993945794349\n",
      "    val_balanced_accuracy: 0.7784030406801838\n",
      "    val_precision  : 0.7921855851715687\n",
      "    val_recall     : 0.7578125\n"
     ]
    },
    {
     "name": "stdout",
     "output_type": "stream",
     "text": [
      "Model has not improved in -------------| 56 epochs\n"
     ]
    },
    {
     "name": "stderr",
     "output_type": "stream",
     "text": [
      "    epoch          : 158\n",
      "    loss           : 0.32831624978118473\n",
      "    my_metric      : 0.8641942049808429\n",
      "    f1             : 0.8644764423805046\n",
      "    balanced_accuracy: 0.866714275682593\n",
      "    precision      : 0.870114224393246\n",
      "    recall         : 0.8641942049808429\n",
      "    val_loss       : 0.5586565323174\n",
      "    val_my_metric  : 0.7890625\n",
      "    val_f1         : 0.789178156828963\n",
      "    val_balanced_accuracy: 0.7893061305656182\n",
      "    val_precision  : 0.790706396715475\n",
      "    val_recall     : 0.7890625\n"
     ]
    },
    {
     "name": "stdout",
     "output_type": "stream",
     "text": [
      "Model has not improved in -------------| 57 epochs\n"
     ]
    },
    {
     "name": "stderr",
     "output_type": "stream",
     "text": [
      "    epoch          : 159\n",
      "    loss           : 0.31184806260797715\n",
      "    my_metric      : 0.8675167624521073\n",
      "    f1             : 0.8679570297902042\n",
      "    balanced_accuracy: 0.871073246290482\n",
      "    precision      : 0.8733802745978159\n",
      "    recall         : 0.8675167624521073\n",
      "    val_loss       : 0.9632968455553055\n",
      "    val_my_metric  : 0.6953125\n",
      "    val_f1         : 0.6956408846529815\n",
      "    val_balanced_accuracy: 0.6987802102602862\n",
      "    val_precision  : 0.70201999307266\n",
      "    val_recall     : 0.6953125\n"
     ]
    },
    {
     "name": "stdout",
     "output_type": "stream",
     "text": [
      "Model has not improved in -------------| 58 epochs\n"
     ]
    },
    {
     "name": "stderr",
     "output_type": "stream",
     "text": [
      "    epoch          : 160\n",
      "    loss           : 0.3173819167746438\n",
      "    my_metric      : 0.8683848180076628\n",
      "    f1             : 0.8686443469881492\n",
      "    balanced_accuracy: 0.8708451883658026\n",
      "    precision      : 0.8730014268907282\n",
      "    recall         : 0.8683848180076628\n",
      "    val_loss       : 0.6070318184792995\n",
      "    val_my_metric  : 0.78125\n",
      "    val_f1         : 0.782197270159418\n",
      "    val_balanced_accuracy: 0.7849509803921568\n",
      "    val_precision  : 0.7894844515369839\n",
      "    val_recall     : 0.78125\n"
     ]
    },
    {
     "name": "stdout",
     "output_type": "stream",
     "text": [
      "Model has not improved in -------------| 59 epochs\n"
     ]
    },
    {
     "name": "stderr",
     "output_type": "stream",
     "text": [
      "    epoch          : 161\n",
      "    loss           : 0.33115875389840865\n",
      "    my_metric      : 0.8478807471264367\n",
      "    f1             : 0.8487068493946197\n",
      "    balanced_accuracy: 0.8538425501396837\n",
      "    precision      : 0.8574155854588529\n",
      "    recall         : 0.8478807471264367\n",
      "    val_loss       : 0.5892771370708942\n",
      "    val_my_metric  : 0.796875\n",
      "    val_f1         : 0.7968366926532249\n",
      "    val_balanced_accuracy: 0.801647649487723\n",
      "    val_precision  : 0.806852684026323\n",
      "    val_recall     : 0.796875\n"
     ]
    },
    {
     "name": "stdout",
     "output_type": "stream",
     "text": [
      "Model has not improved in -------------| 60 epochs\n"
     ]
    },
    {
     "name": "stderr",
     "output_type": "stream",
     "text": [
      "    epoch          : 162\n",
      "    loss           : 0.31144175347354675\n",
      "    my_metric      : 0.8713182471264367\n",
      "    f1             : 0.8717014540285574\n",
      "    balanced_accuracy: 0.8750213084757625\n",
      "    precision      : 0.8775867265219089\n",
      "    recall         : 0.8713182471264367\n",
      "    val_loss       : 0.6361545249819756\n",
      "    val_my_metric  : 0.71484375\n",
      "    val_f1         : 0.7168953471021917\n",
      "    val_balanced_accuracy: 0.7297695805048745\n",
      "    val_precision  : 0.7472968711661145\n",
      "    val_recall     : 0.71484375\n"
     ]
    },
    {
     "name": "stdout",
     "output_type": "stream",
     "text": [
      "Model has not improved in -------------| 61 epochs\n"
     ]
    },
    {
     "name": "stderr",
     "output_type": "stream",
     "text": [
      "    epoch          : 163\n",
      "    loss           : 0.3260885054866473\n",
      "    my_metric      : 0.852400622605364\n",
      "    f1             : 0.853071092761041\n",
      "    balanced_accuracy: 0.8562287768690124\n",
      "    precision      : 0.859004836939301\n",
      "    recall         : 0.852400622605364\n",
      "    val_loss       : 1.017956405878067\n",
      "    val_my_metric  : 0.67578125\n",
      "    val_f1         : 0.6332659671241939\n",
      "    val_balanced_accuracy: 0.6800966375207362\n",
      "    val_precision  : 0.6244679775929776\n",
      "    val_recall     : 0.67578125\n"
     ]
    },
    {
     "name": "stdout",
     "output_type": "stream",
     "text": [
      "Model has not improved in -------------| 62 epochs\n"
     ]
    },
    {
     "name": "stderr",
     "output_type": "stream",
     "text": [
      "    epoch          : 164\n",
      "    loss           : 0.29794078320264816\n",
      "    my_metric      : 0.8624880268199234\n",
      "    f1             : 0.8626895948105425\n",
      "    balanced_accuracy: 0.8652610999978589\n",
      "    precision      : 0.867890752050942\n",
      "    recall         : 0.8624880268199234\n",
      "    val_loss       : 0.6238087099045515\n",
      "    val_my_metric  : 0.77734375\n",
      "    val_f1         : 0.7771548828862791\n",
      "    val_balanced_accuracy: 0.7777210733551112\n",
      "    val_precision  : 0.7825851975021897\n",
      "    val_recall     : 0.77734375\n"
     ]
    },
    {
     "name": "stdout",
     "output_type": "stream",
     "text": [
      "Model has not improved in -------------| 63 epochs\n"
     ]
    },
    {
     "name": "stderr",
     "output_type": "stream",
     "text": [
      "    epoch          : 165\n",
      "    loss           : 0.3175675753090117\n",
      "    my_metric      : 0.8457854406130267\n",
      "    f1             : 0.8460330018330054\n",
      "    balanced_accuracy: 0.8492365739296699\n",
      "    precision      : 0.8530336676272832\n",
      "    recall         : 0.8457854406130267\n",
      "    val_loss       : 1.0250602811574936\n",
      "    val_my_metric  : 0.65625\n",
      "    val_f1         : 0.6578787146686652\n",
      "    val_balanced_accuracy: 0.6109912050336812\n",
      "    val_precision  : 0.6622249793217535\n",
      "    val_recall     : 0.65625\n"
     ]
    },
    {
     "name": "stdout",
     "output_type": "stream",
     "text": [
      "Model has not improved in -------------| 64 epochs\n"
     ]
    },
    {
     "name": "stderr",
     "output_type": "stream",
     "text": [
      "    epoch          : 166\n",
      "    loss           : 0.3111858450704151\n",
      "    my_metric      : 0.8647329980842913\n",
      "    f1             : 0.8654405649947595\n",
      "    balanced_accuracy: 0.8690972651901573\n",
      "    precision      : 0.8717740032183618\n",
      "    recall         : 0.8647329980842913\n",
      "    val_loss       : 0.7120867222547531\n",
      "    val_my_metric  : 0.72265625\n",
      "    val_f1         : 0.6943109718146231\n",
      "    val_balanced_accuracy: 0.6566094497427515\n",
      "    val_precision  : 0.6760807085564629\n",
      "    val_recall     : 0.72265625\n"
     ]
    },
    {
     "name": "stdout",
     "output_type": "stream",
     "text": [
      "Model has not improved in -------------| 65 epochs\n"
     ]
    },
    {
     "name": "stderr",
     "output_type": "stream",
     "text": [
      "    epoch          : 167\n",
      "    loss           : 0.32131847325298524\n",
      "    my_metric      : 0.8633560823754789\n",
      "    f1             : 0.8636719817203442\n",
      "    balanced_accuracy: 0.8655006186131288\n",
      "    precision      : 0.868642272848174\n",
      "    recall         : 0.8633560823754789\n",
      "    val_loss       : 0.6555835828185081\n",
      "    val_my_metric  : 0.73046875\n",
      "    val_f1         : 0.7337245699561876\n",
      "    val_balanced_accuracy: 0.7484842666294278\n",
      "    val_precision  : 0.7651129388189934\n",
      "    val_recall     : 0.73046875\n"
     ]
    },
    {
     "name": "stdout",
     "output_type": "stream",
     "text": [
      "Model has not improved in -------------| 66 epochs\n"
     ]
    },
    {
     "name": "stderr",
     "output_type": "stream",
     "text": [
      "    epoch          : 168\n",
      "    loss           : 0.31082048267126083\n",
      "    my_metric      : 0.8735931513409961\n",
      "    f1             : 0.8738000800601508\n",
      "    balanced_accuracy: 0.8753180154494578\n",
      "    precision      : 0.8771244717837601\n",
      "    recall         : 0.8735931513409961\n",
      "    val_loss       : 0.8750028163194656\n",
      "    val_my_metric  : 0.75\n",
      "    val_f1         : 0.7543766100566232\n",
      "    val_balanced_accuracy: 0.7741520846359555\n",
      "    val_precision  : 0.787768351885474\n",
      "    val_recall     : 0.75\n"
     ]
    },
    {
     "name": "stdout",
     "output_type": "stream",
     "text": [
      "Model has not improved in -------------| 67 epochs\n"
     ]
    },
    {
     "name": "stderr",
     "output_type": "stream",
     "text": [
      "    epoch          : 169\n",
      "    loss           : 0.30663230684068465\n",
      "    my_metric      : 0.8749700670498084\n",
      "    f1             : 0.8751608200723258\n",
      "    balanced_accuracy: 0.8773806471193384\n",
      "    precision      : 0.8812408704784146\n",
      "    recall         : 0.8749700670498084\n",
      "    val_loss       : 0.666360005736351\n",
      "    val_my_metric  : 0.80078125\n",
      "    val_f1         : 0.798947453391734\n",
      "    val_balanced_accuracy: 0.7993291006361084\n",
      "    val_precision  : 0.8059721835725338\n",
      "    val_recall     : 0.80078125\n"
     ]
    },
    {
     "name": "stdout",
     "output_type": "stream",
     "text": [
      "Model has not improved in -------------| 68 epochs\n"
     ]
    },
    {
     "name": "stderr",
     "output_type": "stream",
     "text": [
      "    epoch          : 170\n",
      "    loss           : 0.29617555687824887\n",
      "    my_metric      : 0.8753292624521073\n",
      "    f1             : 0.8759109167672916\n",
      "    balanced_accuracy: 0.8796988275916522\n",
      "    precision      : 0.8818388760582283\n",
      "    recall         : 0.8753292624521073\n",
      "    val_loss       : 0.9522582590579987\n",
      "    val_my_metric  : 0.62109375\n",
      "    val_f1         : 0.6190413673885082\n",
      "    val_balanced_accuracy: 0.6630952380952381\n",
      "    val_precision  : 0.7101303125100412\n",
      "    val_recall     : 0.62109375\n"
     ]
    },
    {
     "name": "stdout",
     "output_type": "stream",
     "text": [
      "Model has not improved in -------------| 69 epochs\n"
     ]
    },
    {
     "name": "stderr",
     "output_type": "stream",
     "text": [
      "    epoch          : 171\n",
      "    loss           : 0.29034331027004456\n",
      "    my_metric      : 0.8864343869731801\n",
      "    f1             : 0.8864536142031975\n",
      "    balanced_accuracy: 0.8871890238646669\n",
      "    precision      : 0.8900112298697606\n",
      "    recall         : 0.8864343869731801\n",
      "    val_loss       : 0.6827847734093666\n",
      "    val_my_metric  : 0.75390625\n",
      "    val_f1         : 0.7500671566810564\n",
      "    val_balanced_accuracy: 0.7570287222583634\n",
      "    val_precision  : 0.781616370506536\n",
      "    val_recall     : 0.75390625\n"
     ]
    },
    {
     "name": "stdout",
     "output_type": "stream",
     "text": [
      "Model has not improved in -------------| 70 epochs\n"
     ]
    },
    {
     "name": "stderr",
     "output_type": "stream",
     "text": [
      "    epoch          : 172\n",
      "    loss           : 0.28957461069027585\n",
      "    my_metric      : 0.8763769157088123\n",
      "    f1             : 0.8765029441335497\n",
      "    balanced_accuracy: 0.8782333561678304\n",
      "    precision      : 0.8806082445325077\n",
      "    recall         : 0.8763769157088123\n",
      "    val_loss       : 1.1603676825761795\n",
      "    val_my_metric  : 0.61328125\n",
      "    val_f1         : 0.648418805251731\n",
      "    val_balanced_accuracy: 0.6041058205443981\n",
      "    val_precision  : 0.8007943261849512\n",
      "    val_recall     : 0.61328125\n"
     ]
    },
    {
     "name": "stdout",
     "output_type": "stream",
     "text": [
      "Model has not improved in -------------| 71 epochs\n"
     ]
    },
    {
     "name": "stderr",
     "output_type": "stream",
     "text": [
      "    epoch          : 173\n",
      "    loss           : 0.2987391377488772\n",
      "    my_metric      : 0.8742816091954023\n",
      "    f1             : 0.8745931679473788\n",
      "    balanced_accuracy: 0.8764191147350292\n",
      "    precision      : 0.8781994038375394\n",
      "    recall         : 0.8742816091954023\n",
      "    val_loss       : 1.075427696108818\n",
      "    val_my_metric  : 0.65234375\n",
      "    val_f1         : 0.6528385089372992\n",
      "    val_balanced_accuracy: 0.6989216139216139\n",
      "    val_precision  : 0.7506374265328156\n",
      "    val_recall     : 0.65234375\n"
     ]
    },
    {
     "name": "stdout",
     "output_type": "stream",
     "text": [
      "Model has not improved in -------------| 72 epochs\n"
     ]
    },
    {
     "name": "stderr",
     "output_type": "stream",
     "text": [
      "    epoch          : 174\n",
      "    loss           : 0.28475189043415916\n",
      "    my_metric      : 0.8760177203065135\n",
      "    f1             : 0.8761789209928775\n",
      "    balanced_accuracy: 0.8770554021306851\n",
      "    precision      : 0.8806091104591645\n",
      "    recall         : 0.8760177203065135\n",
      "    val_loss       : 0.622141569852829\n",
      "    val_my_metric  : 0.7265625\n",
      "    val_f1         : 0.721343850615329\n",
      "    val_balanced_accuracy: 0.716719177969178\n",
      "    val_precision  : 0.7482011415843068\n",
      "    val_recall     : 0.7265625\n"
     ]
    },
    {
     "name": "stdout",
     "output_type": "stream",
     "text": [
      "Model has not improved in -------------| 73 epochs\n"
     ]
    },
    {
     "name": "stderr",
     "output_type": "stream",
     "text": [
      "    epoch          : 175\n",
      "    loss           : 0.26529841042227215\n",
      "    my_metric      : 0.8947856800766283\n",
      "    f1             : 0.8956514233594434\n",
      "    balanced_accuracy: 0.9021402547001058\n",
      "    precision      : 0.9039733092096613\n",
      "    recall         : 0.8947856800766283\n",
      "    val_loss       : 1.0004945918917656\n",
      "    val_my_metric  : 0.734375\n",
      "    val_f1         : 0.7383627249103979\n",
      "    val_balanced_accuracy: 0.7537575149190394\n",
      "    val_precision  : 0.7699174557332098\n",
      "    val_recall     : 0.734375\n"
     ]
    },
    {
     "name": "stdout",
     "output_type": "stream",
     "text": [
      "Model has not improved in -------------| 74 epochs\n"
     ]
    },
    {
     "name": "stderr",
     "output_type": "stream",
     "text": [
      "    epoch          : 176\n",
      "    loss           : 0.2770397903190719\n",
      "    my_metric      : 0.8753292624521073\n",
      "    f1             : 0.8758683547584565\n",
      "    balanced_accuracy: 0.8793191695362192\n",
      "    precision      : 0.8829066621405279\n",
      "    recall         : 0.8753292624521073\n",
      "    val_loss       : 0.7443966642022133\n",
      "    val_my_metric  : 0.73046875\n",
      "    val_f1         : 0.7034653576956336\n",
      "    val_balanced_accuracy: 0.6662860905856596\n",
      "    val_precision  : 0.6847263671409859\n",
      "    val_recall     : 0.73046875\n"
     ]
    },
    {
     "name": "stdout",
     "output_type": "stream",
     "text": [
      "Model has not improved in -------------| 75 epochs\n"
     ]
    },
    {
     "name": "stderr",
     "output_type": "stream",
     "text": [
      "    epoch          : 177\n",
      "    loss           : 0.2952291551563475\n",
      "    my_metric      : 0.8763769157088123\n",
      "    f1             : 0.8771428296389073\n",
      "    balanced_accuracy: 0.8819192515751194\n",
      "    precision      : 0.8841314867845732\n",
      "    recall         : 0.8763769157088123\n",
      "    val_loss       : 0.8991246968507767\n",
      "    val_my_metric  : 0.71875\n",
      "    val_f1         : 0.713183618172323\n",
      "    val_balanced_accuracy: 0.7151114689907794\n",
      "    val_precision  : 0.7466838653074865\n",
      "    val_recall     : 0.71875\n"
     ]
    },
    {
     "name": "stdout",
     "output_type": "stream",
     "text": [
      "Model has not improved in -------------| 76 epochs\n"
     ]
    },
    {
     "name": "stderr",
     "output_type": "stream",
     "text": [
      "    epoch          : 178\n",
      "    loss           : 0.28542568700181115\n",
      "    my_metric      : 0.8708093869731801\n",
      "    f1             : 0.8709110201615821\n",
      "    balanced_accuracy: 0.8732458639415491\n",
      "    precision      : 0.8783321590787807\n",
      "    recall         : 0.8708093869731801\n",
      "    val_loss       : 0.6775891445577145\n",
      "    val_my_metric  : 0.7265625\n",
      "    val_f1         : 0.728925608159479\n",
      "    val_balanced_accuracy: 0.7441251427257121\n",
      "    val_precision  : 0.7588858793203167\n",
      "    val_recall     : 0.7265625\n"
     ]
    },
    {
     "name": "stdout",
     "output_type": "stream",
     "text": [
      "Model has not improved in -------------| 77 epochs\n"
     ]
    },
    {
     "name": "stderr",
     "output_type": "stream",
     "text": [
      "    epoch          : 179\n",
      "    loss           : 0.311900966697269\n",
      "    my_metric      : 0.8645534003831418\n",
      "    f1             : 0.8651052188801844\n",
      "    balanced_accuracy: 0.8681782447668145\n",
      "    precision      : 0.8717208577051186\n",
      "    recall         : 0.8645534003831418\n",
      "    val_loss       : 0.7068709433078766\n",
      "    val_my_metric  : 0.7109375\n",
      "    val_f1         : 0.7067208200705011\n",
      "    val_balanced_accuracy: 0.7151851788948563\n",
      "    val_precision  : 0.7445030248308837\n",
      "    val_recall     : 0.7109375\n"
     ]
    },
    {
     "name": "stdout",
     "output_type": "stream",
     "text": [
      "Model has not improved in -------------| 78 epochs\n"
     ]
    },
    {
     "name": "stderr",
     "output_type": "stream",
     "text": [
      "    epoch          : 180\n",
      "    loss           : 0.2845861266056697\n",
      "    my_metric      : 0.8678460249042145\n",
      "    f1             : 0.8679016390130952\n",
      "    balanced_accuracy: 0.8681690402666323\n",
      "    precision      : 0.8698040188562197\n",
      "    recall         : 0.8678460249042145\n",
      "    val_loss       : 0.9422305226325989\n",
      "    val_my_metric  : 0.7421875\n",
      "    val_f1         : 0.7391990614654789\n",
      "    val_balanced_accuracy: 0.7447733997733998\n",
      "    val_precision  : 0.7706048407455812\n",
      "    val_recall     : 0.7421875\n"
     ]
    },
    {
     "name": "stdout",
     "output_type": "stream",
     "text": [
      "Model has not improved in -------------| 79 epochs\n"
     ]
    },
    {
     "name": "stderr",
     "output_type": "stream",
     "text": [
      "    epoch          : 181\n",
      "    loss           : 0.29366206129391986\n",
      "    my_metric      : 0.8761973180076628\n",
      "    f1             : 0.8768098744032821\n",
      "    balanced_accuracy: 0.8834481781943112\n",
      "    precision      : 0.8878593041100225\n",
      "    recall         : 0.8761973180076628\n",
      "    val_loss       : 0.6231691688299179\n",
      "    val_my_metric  : 0.78515625\n",
      "    val_f1         : 0.7852971192586388\n",
      "    val_balanced_accuracy: 0.7885429070413591\n",
      "    val_precision  : 0.7930530427026291\n",
      "    val_recall     : 0.78515625\n"
     ]
    },
    {
     "name": "stdout",
     "output_type": "stream",
     "text": [
      "Model has not improved in -------------| 80 epochs\n"
     ]
    },
    {
     "name": "stderr",
     "output_type": "stream",
     "text": [
      "    epoch          : 182\n",
      "    loss           : 0.280057109064526\n",
      "    my_metric      : 0.8742816091954023\n",
      "    f1             : 0.8744369938966672\n",
      "    balanced_accuracy: 0.8761681670761893\n",
      "    precision      : 0.8799734510214147\n",
      "    recall         : 0.8742816091954023\n",
      "    val_loss       : 0.6379375495016575\n",
      "    val_my_metric  : 0.76171875\n",
      "    val_f1         : 0.7612368417672333\n",
      "    val_balanced_accuracy: 0.7614564123774605\n",
      "    val_precision  : 0.771831606720587\n",
      "    val_recall     : 0.76171875\n"
     ]
    },
    {
     "name": "stdout",
     "output_type": "stream",
     "text": [
      "Model has not improved in -------------| 81 epochs\n"
     ]
    },
    {
     "name": "stderr",
     "output_type": "stream",
     "text": [
      "    epoch          : 183\n",
      "    loss           : 0.28931546542379594\n",
      "    my_metric      : 0.8631764846743295\n",
      "    f1             : 0.8633588546321138\n",
      "    balanced_accuracy: 0.8648193561446736\n",
      "    precision      : 0.8670772899262384\n",
      "    recall         : 0.8631764846743295\n",
      "    val_loss       : 0.6402313336730003\n",
      "    val_my_metric  : 0.78515625\n",
      "    val_f1         : 0.7852128030608793\n",
      "    val_balanced_accuracy: 0.788646996484698\n",
      "    val_precision  : 0.7939956034438456\n",
      "    val_recall     : 0.78515625\n"
     ]
    },
    {
     "name": "stdout",
     "output_type": "stream",
     "text": [
      "Model has not improved in -------------| 82 epochs\n"
     ]
    },
    {
     "name": "stderr",
     "output_type": "stream",
     "text": [
      "    epoch          : 184\n",
      "    loss           : 0.27371684792968964\n",
      "    my_metric      : 0.8805375957854406\n",
      "    f1             : 0.8808949104764496\n",
      "    balanced_accuracy: 0.8847956578186551\n",
      "    precision      : 0.888313722069299\n",
      "    recall         : 0.8805375957854406\n",
      "    val_loss       : 0.8353819251060486\n",
      "    val_my_metric  : 0.74609375\n",
      "    val_f1         : 0.7733389424764011\n",
      "    val_balanced_accuracy: 0.7464132413729188\n",
      "    val_precision  : 0.8106808114716207\n",
      "    val_recall     : 0.74609375\n"
     ]
    },
    {
     "name": "stdout",
     "output_type": "stream",
     "text": [
      "Model has not improved in -------------| 83 epochs\n"
     ]
    },
    {
     "name": "stderr",
     "output_type": "stream",
     "text": [
      "    epoch          : 185\n",
      "    loss           : 0.27356020278400844\n",
      "    my_metric      : 0.8911338601532566\n",
      "    f1             : 0.891531962221252\n",
      "    balanced_accuracy: 0.8948263650512326\n",
      "    precision      : 0.8963356721762583\n",
      "    recall         : 0.8911338601532566\n",
      "    val_loss       : 0.9594632536172867\n",
      "    val_my_metric  : 0.57421875\n",
      "    val_f1         : 0.5862014229719281\n",
      "    val_balanced_accuracy: 0.5524194746324728\n",
      "    val_precision  : 0.606858716107708\n",
      "    val_recall     : 0.57421875\n"
     ]
    },
    {
     "name": "stdout",
     "output_type": "stream",
     "text": [
      "Model has not improved in -------------| 84 epochs\n"
     ]
    },
    {
     "name": "stderr",
     "output_type": "stream",
     "text": [
      "    epoch          : 186\n",
      "    loss           : 0.3009815778997209\n",
      "    my_metric      : 0.8654214559386973\n",
      "    f1             : 0.8659697413166224\n",
      "    balanced_accuracy: 0.8691425711558474\n",
      "    precision      : 0.8714795378874288\n",
      "    recall         : 0.8654214559386973\n",
      "    val_loss       : 1.1365149021148682\n",
      "    val_my_metric  : 0.52734375\n",
      "    val_f1         : 0.5297334300356844\n",
      "    val_balanced_accuracy: 0.5325653153703341\n",
      "    val_precision  : 0.5420753211512747\n",
      "    val_recall     : 0.52734375\n"
     ]
    },
    {
     "name": "stdout",
     "output_type": "stream",
     "text": [
      "Model has not improved in -------------| 85 epochs\n"
     ]
    },
    {
     "name": "stderr",
     "output_type": "stream",
     "text": [
      "    epoch          : 187\n",
      "    loss           : 0.30159800002972287\n",
      "    my_metric      : 0.8711685823754789\n",
      "    f1             : 0.8714426104253614\n",
      "    balanced_accuracy: 0.873817317289219\n",
      "    precision      : 0.8764570632276648\n",
      "    recall         : 0.8711685823754789\n",
      "    val_loss       : 0.9970017820596695\n",
      "    val_my_metric  : 0.63671875\n",
      "    val_f1         : 0.6368776965179638\n",
      "    val_balanced_accuracy: 0.6775632442615365\n",
      "    val_precision  : 0.7207986211726071\n",
      "    val_recall     : 0.63671875\n"
     ]
    },
    {
     "name": "stdout",
     "output_type": "stream",
     "text": [
      "Model has not improved in -------------| 86 epochs\n"
     ]
    },
    {
     "name": "stderr",
     "output_type": "stream",
     "text": [
      "    epoch          : 188\n",
      "    loss           : 0.2880308859878116\n",
      "    my_metric      : 0.8772449712643678\n",
      "    f1             : 0.8777807885964586\n",
      "    balanced_accuracy: 0.8811156896851258\n",
      "    precision      : 0.8831908435154698\n",
      "    recall         : 0.8772449712643678\n",
      "    val_loss       : 1.085954636335373\n",
      "    val_my_metric  : 0.6953125\n",
      "    val_f1         : 0.7373895233565602\n",
      "    val_balanced_accuracy: 0.6963903439417168\n",
      "    val_precision  : 0.8243123714329481\n",
      "    val_recall     : 0.6953125\n"
     ]
    },
    {
     "name": "stdout",
     "output_type": "stream",
     "text": [
      "Model has not improved in -------------| 87 epochs\n"
     ]
    },
    {
     "name": "stderr",
     "output_type": "stream",
     "text": [
      "    epoch          : 189\n",
      "    loss           : 0.2819388508796692\n",
      "    my_metric      : 0.8827825670498084\n",
      "    f1             : 0.8831086284232599\n",
      "    balanced_accuracy: 0.8849143410898044\n",
      "    precision      : 0.8880947515980216\n",
      "    recall         : 0.8827825670498084\n",
      "    val_loss       : 1.0587385296821594\n",
      "    val_my_metric  : 0.66015625\n",
      "    val_f1         : 0.7017799847379717\n",
      "    val_balanced_accuracy: 0.654733455882353\n",
      "    val_precision  : 0.7860597091141446\n",
      "    val_recall     : 0.66015625\n"
     ]
    },
    {
     "name": "stdout",
     "output_type": "stream",
     "text": [
      "Model has not improved in -------------| 88 epochs\n"
     ]
    },
    {
     "name": "stderr",
     "output_type": "stream",
     "text": [
      "    epoch          : 190\n",
      "    loss           : 0.28392082618342507\n",
      "    my_metric      : 0.8744612068965517\n",
      "    f1             : 0.8748646903011655\n",
      "    balanced_accuracy: 0.8791692518134256\n",
      "    precision      : 0.882818027796273\n",
      "    recall         : 0.8744612068965517\n",
      "    val_loss       : 0.6402981616556644\n",
      "    val_my_metric  : 0.7265625\n",
      "    val_f1         : 0.7227317690163849\n",
      "    val_balanced_accuracy: 0.7260416666666667\n",
      "    val_precision  : 0.7516362390354325\n",
      "    val_recall     : 0.7265625\n"
     ]
    },
    {
     "name": "stdout",
     "output_type": "stream",
     "text": [
      "Model has not improved in -------------| 89 epochs\n"
     ]
    },
    {
     "name": "stderr",
     "output_type": "stream",
     "text": [
      "    epoch          : 191\n",
      "    loss           : 0.27869902302821475\n",
      "    my_metric      : 0.8899066091954023\n",
      "    f1             : 0.8902329286395206\n",
      "    balanced_accuracy: 0.8925293517901441\n",
      "    precision      : 0.8957932011470072\n",
      "    recall         : 0.8899066091954023\n",
      "    val_loss       : 0.6283201747573912\n",
      "    val_my_metric  : 0.78515625\n",
      "    val_f1         : 0.7862230091359144\n",
      "    val_balanced_accuracy: 0.7897034904077911\n",
      "    val_precision  : 0.7954064208913347\n",
      "    val_recall     : 0.78515625\n"
     ]
    },
    {
     "name": "stdout",
     "output_type": "stream",
     "text": [
      "Model has not improved in -------------| 90 epochs\n"
     ]
    },
    {
     "name": "stderr",
     "output_type": "stream",
     "text": [
      "    epoch          : 192\n",
      "    loss           : 0.25744886034064823\n",
      "    my_metric      : 0.893558429118774\n",
      "    f1             : 0.8938761919321363\n",
      "    balanced_accuracy: 0.8957725466127777\n",
      "    precision      : 0.8974301495572724\n",
      "    recall         : 0.893558429118774\n",
      "    val_loss       : 1.168230652809143\n",
      "    val_my_metric  : 0.66015625\n",
      "    val_f1         : 0.6646450809464508\n",
      "    val_balanced_accuracy: 0.6205154027310225\n",
      "    val_precision  : 0.679268427724829\n",
      "    val_recall     : 0.66015625\n"
     ]
    },
    {
     "name": "stdout",
     "output_type": "stream",
     "text": [
      "Model has not improved in -------------| 91 epochs\n"
     ]
    },
    {
     "name": "stderr",
     "output_type": "stream",
     "text": [
      "    epoch          : 193\n",
      "    loss           : 0.2716880424155129\n",
      "    my_metric      : 0.8770653735632183\n",
      "    f1             : 0.8774873035005446\n",
      "    balanced_accuracy: 0.880348264141302\n",
      "    precision      : 0.8818875256688998\n",
      "    recall         : 0.8770653735632183\n",
      "    val_loss       : 0.9935106188058853\n",
      "    val_my_metric  : 0.73046875\n",
      "    val_f1         : 0.7347161829974499\n",
      "    val_balanced_accuracy: 0.7518376316043658\n",
      "    val_precision  : 0.763580315652741\n",
      "    val_recall     : 0.73046875\n"
     ]
    },
    {
     "name": "stdout",
     "output_type": "stream",
     "text": [
      "Model has not improved in -------------| 92 epochs\n"
     ]
    },
    {
     "name": "stderr",
     "output_type": "stream",
     "text": [
      "    epoch          : 194\n",
      "    loss           : 0.25461090438895756\n",
      "    my_metric      : 0.8900862068965518\n",
      "    f1             : 0.8901981092004245\n",
      "    balanced_accuracy: 0.8915329594745869\n",
      "    precision      : 0.8931575615537621\n",
      "    recall         : 0.8900862068965518\n",
      "    val_loss       : 0.6267147660255432\n",
      "    val_my_metric  : 0.8125\n",
      "    val_f1         : 0.8123724564685559\n",
      "    val_balanced_accuracy: 0.8062034706771549\n",
      "    val_precision  : 0.8136047709882934\n",
      "    val_recall     : 0.8125\n"
     ]
    },
    {
     "name": "stdout",
     "output_type": "stream",
     "text": [
      "Model has not improved in -------------| 93 epochs\n"
     ]
    },
    {
     "name": "stderr",
     "output_type": "stream",
     "text": [
      "    epoch          : 195\n",
      "    loss           : 0.27190018859174514\n",
      "    my_metric      : 0.8732339559386973\n",
      "    f1             : 0.8738632354418445\n",
      "    balanced_accuracy: 0.8795878008781693\n",
      "    precision      : 0.883026071293238\n",
      "    recall         : 0.8732339559386973\n",
      "    val_loss       : 0.868268221616745\n",
      "    val_my_metric  : 0.66796875\n",
      "    val_f1         : 0.6684430049512473\n",
      "    val_balanced_accuracy: 0.6293065123947478\n",
      "    val_precision  : 0.6758848929967881\n",
      "    val_recall     : 0.66796875\n"
     ]
    },
    {
     "name": "stdout",
     "output_type": "stream",
     "text": [
      "Model has not improved in -------------| 94 epochs\n"
     ]
    },
    {
     "name": "stderr",
     "output_type": "stream",
     "text": [
      "    epoch          : 196\n",
      "    loss           : 0.26607435444990796\n",
      "    my_metric      : 0.8893977490421455\n",
      "    f1             : 0.8894500112824425\n",
      "    balanced_accuracy: 0.8902496525406333\n",
      "    precision      : 0.8934586842155756\n",
      "    recall         : 0.8893977490421455\n",
      "    val_loss       : 0.6186245083808899\n",
      "    val_my_metric  : 0.78515625\n",
      "    val_f1         : 0.784956460310704\n",
      "    val_balanced_accuracy: 0.7816162206279273\n",
      "    val_precision  : 0.7850188923979247\n",
      "    val_recall     : 0.78515625\n"
     ]
    },
    {
     "name": "stdout",
     "output_type": "stream",
     "text": [
      "Model has not improved in -------------| 95 epochs\n"
     ]
    },
    {
     "name": "stderr",
     "output_type": "stream",
     "text": [
      "    epoch          : 197\n",
      "    loss           : 0.28715304285287857\n",
      "    my_metric      : 0.8699413314176245\n",
      "    f1             : 0.8700706530706362\n",
      "    balanced_accuracy: 0.871343511959028\n",
      "    precision      : 0.8750744432937333\n",
      "    recall         : 0.8699413314176245\n",
      "    val_loss       : 0.6221929006278515\n",
      "    val_my_metric  : 0.78515625\n",
      "    val_f1         : 0.7852297903709194\n",
      "    val_balanced_accuracy: 0.7904872191579644\n",
      "    val_precision  : 0.7957905574492683\n",
      "    val_recall     : 0.78515625\n"
     ]
    },
    {
     "name": "stdout",
     "output_type": "stream",
     "text": [
      "Model has not improved in -------------| 96 epochs\n"
     ]
    },
    {
     "name": "stderr",
     "output_type": "stream",
     "text": [
      "    epoch          : 198\n",
      "    loss           : 0.2579592673314942\n",
      "    my_metric      : 0.8798192049808429\n",
      "    f1             : 0.8800772611482969\n",
      "    balanced_accuracy: 0.8822192231420458\n",
      "    precision      : 0.8854090586815885\n",
      "    recall         : 0.8798192049808429\n",
      "    val_loss       : 1.1058959066867828\n",
      "    val_my_metric  : 0.7421875\n",
      "    val_f1         : 0.7377923647728244\n",
      "    val_balanced_accuracy: 0.7405994229523641\n",
      "    val_precision  : 0.7678839710043754\n",
      "    val_recall     : 0.7421875\n"
     ]
    },
    {
     "name": "stdout",
     "output_type": "stream",
     "text": [
      "Model has not improved in -------------| 97 epochs\n"
     ]
    },
    {
     "name": "stderr",
     "output_type": "stream",
     "text": [
      "    epoch          : 199\n",
      "    loss           : 0.2707860651943419\n",
      "    my_metric      : 0.8808668582375478\n",
      "    f1             : 0.8812458893145689\n",
      "    balanced_accuracy: 0.8833485111082277\n",
      "    precision      : 0.8858643310628589\n",
      "    recall         : 0.8808668582375478\n",
      "    val_loss       : 0.8373017609119415\n",
      "    val_my_metric  : 0.66015625\n",
      "    val_f1         : 0.6590555778317222\n",
      "    val_balanced_accuracy: 0.669050124695286\n",
      "    val_precision  : 0.6811008832493207\n",
      "    val_recall     : 0.66015625\n"
     ]
    },
    {
     "name": "stdout",
     "output_type": "stream",
     "text": [
      "Model has not improved in -------------| 98 epochs\n"
     ]
    },
    {
     "name": "stderr",
     "output_type": "stream",
     "text": [
      "    epoch          : 200\n",
      "    loss           : 0.2631327013174693\n",
      "    my_metric      : 0.8704501915708812\n",
      "    f1             : 0.8706564104327552\n",
      "    balanced_accuracy: 0.8726832131572874\n",
      "    precision      : 0.8755407860753318\n",
      "    recall         : 0.8704501915708812\n",
      "    val_loss       : 1.2476451992988586\n",
      "    val_my_metric  : 0.734375\n",
      "    val_f1         : 0.7612049413647173\n",
      "    val_balanced_accuracy: 0.7367533866995074\n",
      "    val_precision  : 0.8026981528288398\n",
      "    val_recall     : 0.734375\n",
      "Saving checkpoint: saved/MaskedVolume_3d/0619_200535/checkpoint-epoch200.pth ...\n"
     ]
    },
    {
     "name": "stdout",
     "output_type": "stream",
     "text": [
      "Model has not improved in -------------| 99 epochs\n"
     ]
    },
    {
     "name": "stderr",
     "output_type": "stream",
     "text": [
      "    epoch          : 201\n",
      "    loss           : 0.2605408504605293\n",
      "    my_metric      : 0.8963421934865899\n",
      "    f1             : 0.8964536662853055\n",
      "    balanced_accuracy: 0.8976855183552589\n",
      "    precision      : 0.8993951938696095\n",
      "    recall         : 0.8963421934865899\n",
      "    val_loss       : 0.6575320698320866\n",
      "    val_my_metric  : 0.76953125\n",
      "    val_f1         : 0.7702681520675312\n",
      "    val_balanced_accuracy: 0.7731854228177757\n",
      "    val_precision  : 0.7773660091785981\n",
      "    val_recall     : 0.76953125\n"
     ]
    },
    {
     "name": "stdout",
     "output_type": "stream",
     "text": [
      "Model has not improved in -------------| 100 epochs\n"
     ]
    },
    {
     "name": "stderr",
     "output_type": "stream",
     "text": [
      "    epoch          : 202\n",
      "    loss           : 0.2824965806470977\n",
      "    my_metric      : 0.8706297892720306\n",
      "    f1             : 0.870871055373138\n",
      "    balanced_accuracy: 0.8721694335206807\n",
      "    precision      : 0.8742719498823506\n",
      "    recall         : 0.8706297892720306\n",
      "    val_loss       : 0.9664751440286636\n",
      "    val_my_metric  : 0.73046875\n",
      "    val_f1         : 0.7355976326793519\n",
      "    val_balanced_accuracy: 0.755167361374258\n",
      "    val_precision  : 0.7699444710985568\n",
      "    val_recall     : 0.73046875\n"
     ]
    },
    {
     "name": "stdout",
     "output_type": "stream",
     "text": [
      "Model has not improved in -------------| 101 epochs\n"
     ]
    },
    {
     "name": "stderr",
     "output_type": "stream",
     "text": [
      "    epoch          : 203\n",
      "    loss           : 0.2573515433404181\n",
      "    my_metric      : 0.8923311781609196\n",
      "    f1             : 0.8925932267395486\n",
      "    balanced_accuracy: 0.8952498575645694\n",
      "    precision      : 0.8975508927204565\n",
      "    recall         : 0.8923311781609196\n",
      "    val_loss       : 0.9608069360256195\n",
      "    val_my_metric  : 0.64453125\n",
      "    val_f1         : 0.6426303475935828\n",
      "    val_balanced_accuracy: 0.6014972143170142\n",
      "    val_precision  : 0.6488379663821996\n",
      "    val_recall     : 0.64453125\n"
     ]
    },
    {
     "name": "stdout",
     "output_type": "stream",
     "text": [
      "Model has not improved in -------------| 102 epochs\n"
     ]
    },
    {
     "name": "stderr",
     "output_type": "stream",
     "text": [
      "    epoch          : 204\n",
      "    loss           : 0.26969722658395767\n",
      "    my_metric      : 0.8827825670498084\n",
      "    f1             : 0.8835220461342455\n",
      "    balanced_accuracy: 0.8906756994366821\n",
      "    precision      : 0.8936598501680836\n",
      "    recall         : 0.8827825670498084\n",
      "    val_loss       : 0.9741554260253906\n",
      "    val_my_metric  : 0.72265625\n",
      "    val_f1         : 0.7177075501697103\n",
      "    val_balanced_accuracy: 0.7150870489663593\n",
      "    val_precision  : 0.7434666053921568\n",
      "    val_recall     : 0.72265625\n"
     ]
    },
    {
     "name": "stdout",
     "output_type": "stream",
     "text": [
      "Model has not improved in -------------| 103 epochs\n"
     ]
    },
    {
     "name": "stderr",
     "output_type": "stream",
     "text": [
      "    epoch          : 205\n",
      "    loss           : 0.23528599656290478\n",
      "    my_metric      : 0.8985871647509579\n",
      "    f1             : 0.8988420680882759\n",
      "    balanced_accuracy: 0.9003170831297604\n",
      "    precision      : 0.9018273153178202\n",
      "    recall         : 0.8985871647509579\n",
      "    val_loss       : 1.147418037056923\n",
      "    val_my_metric  : 0.671875\n",
      "    val_f1         : 0.7140987065073031\n",
      "    val_balanced_accuracy: 0.672750084345479\n",
      "    val_precision  : 0.8024495335726565\n",
      "    val_recall     : 0.671875\n"
     ]
    },
    {
     "name": "stdout",
     "output_type": "stream",
     "text": [
      "Model has not improved in -------------| 104 epochs\n"
     ]
    },
    {
     "name": "stderr",
     "output_type": "stream",
     "text": [
      "    epoch          : 206\n",
      "    loss           : 0.24828720341126123\n",
      "    my_metric      : 0.8892181513409962\n",
      "    f1             : 0.8895183123020287\n",
      "    balanced_accuracy: 0.8919309371087066\n",
      "    precision      : 0.8932372759472942\n",
      "    recall         : 0.8892181513409962\n",
      "    val_loss       : 0.7539391666650772\n",
      "    val_my_metric  : 0.75\n",
      "    val_f1         : 0.7764396221376608\n",
      "    val_balanced_accuracy: 0.7507757572641758\n",
      "    val_precision  : 0.8172149504054746\n",
      "    val_recall     : 0.75\n"
     ]
    },
    {
     "name": "stdout",
     "output_type": "stream",
     "text": [
      "Model has not improved in -------------| 105 epochs\n"
     ]
    },
    {
     "name": "stderr",
     "output_type": "stream",
     "text": [
      "    epoch          : 207\n",
      "    loss           : 0.24388007902436787\n",
      "    my_metric      : 0.8959829980842913\n",
      "    f1             : 0.8960000319024076\n",
      "    balanced_accuracy: 0.8977151464543023\n",
      "    precision      : 0.8992840408090347\n",
      "    recall         : 0.8959829980842913\n",
      "    val_loss       : 0.6286029815673828\n",
      "    val_my_metric  : 0.71484375\n",
      "    val_f1         : 0.7112518685358759\n",
      "    val_balanced_accuracy: 0.7152454874229067\n",
      "    val_precision  : 0.7386605298773603\n",
      "    val_recall     : 0.71484375\n"
     ]
    },
    {
     "name": "stdout",
     "output_type": "stream",
     "text": [
      "Model has not improved in -------------| 106 epochs\n"
     ]
    },
    {
     "name": "stderr",
     "output_type": "stream",
     "text": [
      "    epoch          : 208\n",
      "    loss           : 0.2604072127077315\n",
      "    my_metric      : 0.8893977490421455\n",
      "    f1             : 0.8899628471861344\n",
      "    balanced_accuracy: 0.894844248492008\n",
      "    precision      : 0.8975817831298113\n",
      "    recall         : 0.8893977490421455\n",
      "    val_loss       : 0.8901574462652206\n",
      "    val_my_metric  : 0.76953125\n",
      "    val_f1         : 0.7654784142797841\n",
      "    val_balanced_accuracy: 0.768877897649245\n",
      "    val_precision  : 0.7910413993768328\n",
      "    val_recall     : 0.76953125\n"
     ]
    },
    {
     "name": "stdout",
     "output_type": "stream",
     "text": [
      "Model has not improved in -------------| 107 epochs\n"
     ]
    },
    {
     "name": "stderr",
     "output_type": "stream",
     "text": [
      "    epoch          : 209\n",
      "    loss           : 0.2631785621245702\n",
      "    my_metric      : 0.8782626915708812\n",
      "    f1             : 0.8789873584057077\n",
      "    balanced_accuracy: 0.8836581905512353\n",
      "    precision      : 0.8877701505275248\n",
      "    recall         : 0.8782626915708812\n",
      "    val_loss       : 0.6397564262151718\n",
      "    val_my_metric  : 0.75390625\n",
      "    val_f1         : 0.7280369259140607\n",
      "    val_balanced_accuracy: 0.6923382820784729\n",
      "    val_precision  : 0.711569758111578\n",
      "    val_recall     : 0.75390625\n"
     ]
    },
    {
     "name": "stdout",
     "output_type": "stream",
     "text": [
      "Model has not improved in -------------| 108 epochs\n"
     ]
    },
    {
     "name": "stderr",
     "output_type": "stream",
     "text": [
      "    epoch          : 210\n",
      "    loss           : 0.25023997243907714\n",
      "    my_metric      : 0.897389846743295\n",
      "    f1             : 0.8980916178122094\n",
      "    balanced_accuracy: 0.9014503167431405\n",
      "    precision      : 0.9035690345685248\n",
      "    recall         : 0.897389846743295\n",
      "    val_loss       : 0.6050892238272354\n",
      "    val_my_metric  : 0.796875\n",
      "    val_f1         : 0.7973030292346692\n",
      "    val_balanced_accuracy: 0.7983119142393336\n",
      "    val_precision  : 0.8012037074632412\n",
      "    val_recall     : 0.796875\n"
     ]
    },
    {
     "name": "stdout",
     "output_type": "stream",
     "text": [
      "Model has not improved in -------------| 109 epochs\n"
     ]
    },
    {
     "name": "stderr",
     "output_type": "stream",
     "text": [
      "    epoch          : 211\n",
      "    loss           : 0.24221066882212958\n",
      "    my_metric      : 0.9039750957854407\n",
      "    f1             : 0.9040932578135761\n",
      "    balanced_accuracy: 0.9066222197865333\n",
      "    precision      : 0.9083411481524456\n",
      "    recall         : 0.9039750957854407\n",
      "    val_loss       : 0.8205743730068207\n",
      "    val_my_metric  : 0.75\n",
      "    val_f1         : 0.7460348348071726\n",
      "    val_balanced_accuracy: 0.7509162366610185\n",
      "    val_precision  : 0.7744896298363095\n",
      "    val_recall     : 0.75\n"
     ]
    },
    {
     "name": "stdout",
     "output_type": "stream",
     "text": [
      "Model has not improved in -------------| 110 epochs\n"
     ]
    },
    {
     "name": "stderr",
     "output_type": "stream",
     "text": [
      "    epoch          : 212\n",
      "    loss           : 0.26087743871741825\n",
      "    my_metric      : 0.8963421934865899\n",
      "    f1             : 0.8968545923141809\n",
      "    balanced_accuracy: 0.9011423613287504\n",
      "    precision      : 0.9037229210568972\n",
      "    recall         : 0.8963421934865899\n",
      "    val_loss       : 0.6859552711248398\n",
      "    val_my_metric  : 0.734375\n",
      "    val_f1         : 0.7389183279810989\n",
      "    val_balanced_accuracy: 0.7578826848377993\n",
      "    val_precision  : 0.7720945674614085\n",
      "    val_recall     : 0.734375\n"
     ]
    },
    {
     "name": "stdout",
     "output_type": "stream",
     "text": [
      "Model has not improved in -------------| 111 epochs\n"
     ]
    },
    {
     "name": "stderr",
     "output_type": "stream",
     "text": [
      "    epoch          : 213\n",
      "    loss           : 0.2548399567604065\n",
      "    my_metric      : 0.8822737068965517\n",
      "    f1             : 0.8829277980632515\n",
      "    balanced_accuracy: 0.8856158002171711\n",
      "    precision      : 0.8881150827891438\n",
      "    recall         : 0.8822737068965517\n",
      "    val_loss       : 0.9234354197978973\n",
      "    val_my_metric  : 0.7265625\n",
      "    val_f1         : 0.7318467376987493\n",
      "    val_balanced_accuracy: 0.7527247536945814\n",
      "    val_precision  : 0.770620381773399\n",
      "    val_recall     : 0.7265625\n"
     ]
    },
    {
     "name": "stdout",
     "output_type": "stream",
     "text": [
      "Model has not improved in -------------| 112 epochs\n"
     ]
    },
    {
     "name": "stderr",
     "output_type": "stream",
     "text": [
      "    epoch          : 214\n",
      "    loss           : 0.2558481834001011\n",
      "    my_metric      : 0.8850574712643678\n",
      "    f1             : 0.885307200095109\n",
      "    balanced_accuracy: 0.8879757909893858\n",
      "    precision      : 0.8905875933616484\n",
      "    recall         : 0.8850574712643678\n",
      "    val_loss       : 0.85142020881176\n",
      "    val_my_metric  : 0.75390625\n",
      "    val_f1         : 0.7572972723248459\n",
      "    val_balanced_accuracy: 0.7770921666361044\n",
      "    val_precision  : 0.7954201159029048\n",
      "    val_recall     : 0.75390625\n"
     ]
    },
    {
     "name": "stdout",
     "output_type": "stream",
     "text": [
      "Model has not improved in -------------| 113 epochs\n"
     ]
    },
    {
     "name": "stderr",
     "output_type": "stream",
     "text": [
      "    epoch          : 215\n",
      "    loss           : 0.2555248861511548\n",
      "    my_metric      : 0.8918223180076629\n",
      "    f1             : 0.89210385666649\n",
      "    balanced_accuracy: 0.8942802835933937\n",
      "    precision      : 0.8963294338864704\n",
      "    recall         : 0.8918223180076629\n",
      "    val_loss       : 0.8572673946619034\n",
      "    val_my_metric  : 0.66796875\n",
      "    val_f1         : 0.6263131311368785\n",
      "    val_balanced_accuracy: 0.6669032501338005\n",
      "    val_precision  : 0.6072647802082545\n",
      "    val_recall     : 0.66796875\n"
     ]
    },
    {
     "name": "stdout",
     "output_type": "stream",
     "text": [
      "Model has not improved in -------------| 114 epochs\n"
     ]
    },
    {
     "name": "stderr",
     "output_type": "stream",
     "text": [
      "    epoch          : 216\n",
      "    loss           : 0.22436890502770743\n",
      "    my_metric      : 0.9100514846743296\n",
      "    f1             : 0.9101854705612937\n",
      "    balanced_accuracy: 0.912155334950816\n",
      "    precision      : 0.9137793847111081\n",
      "    recall         : 0.9100514846743296\n",
      "    val_loss       : 0.9687067419290543\n",
      "    val_my_metric  : 0.70703125\n",
      "    val_f1         : 0.734954785079716\n",
      "    val_balanced_accuracy: 0.7081384317165302\n",
      "    val_precision  : 0.7752178117340687\n",
      "    val_recall     : 0.70703125\n"
     ]
    },
    {
     "name": "stdout",
     "output_type": "stream",
     "text": [
      "Model has not improved in -------------| 115 epochs\n"
     ]
    },
    {
     "name": "stderr",
     "output_type": "stream",
     "text": [
      "    epoch          : 217\n",
      "    loss           : 0.23310182491938272\n",
      "    my_metric      : 0.9069384578544061\n",
      "    f1             : 0.9070459626098848\n",
      "    balanced_accuracy: 0.9089269416706058\n",
      "    precision      : 0.9107370885943974\n",
      "    recall         : 0.9069384578544061\n",
      "    val_loss       : 0.728822723031044\n",
      "    val_my_metric  : 0.73046875\n",
      "    val_f1         : 0.7264684516396844\n",
      "    val_balanced_accuracy: 0.7299036119956424\n",
      "    val_precision  : 0.7531911983543418\n",
      "    val_recall     : 0.73046875\n"
     ]
    },
    {
     "name": "stdout",
     "output_type": "stream",
     "text": [
      "Model has not improved in -------------| 116 epochs\n"
     ]
    },
    {
     "name": "stderr",
     "output_type": "stream",
     "text": [
      "    epoch          : 218\n",
      "    loss           : 0.2416779258184963\n",
      "    my_metric      : 0.9041546934865899\n",
      "    f1             : 0.9044622962779914\n",
      "    balanced_accuracy: 0.9074521043324262\n",
      "    precision      : 0.9087282765947788\n",
      "    recall         : 0.9041546934865899\n",
      "    val_loss       : 1.413711503148079\n",
      "    val_my_metric  : 0.6484375\n",
      "    val_f1         : 0.6485544671593861\n",
      "    val_balanced_accuracy: 0.610771373340895\n",
      "    val_precision  : 0.6574453172726955\n",
      "    val_recall     : 0.6484375\n"
     ]
    },
    {
     "name": "stdout",
     "output_type": "stream",
     "text": [
      "Model has not improved in -------------| 117 epochs\n"
     ]
    },
    {
     "name": "stderr",
     "output_type": "stream",
     "text": [
      "    epoch          : 219\n",
      "    loss           : 0.23468414280149671\n",
      "    my_metric      : 0.9005028735632185\n",
      "    f1             : 0.9005607010663191\n",
      "    balanced_accuracy: 0.901608084022985\n",
      "    precision      : 0.9032833712044046\n",
      "    recall         : 0.9005028735632185\n",
      "    val_loss       : 1.0999969094991684\n",
      "    val_my_metric  : 0.5625\n",
      "    val_f1         : 0.5727154731203565\n",
      "    val_balanced_accuracy: 0.5363925397046994\n",
      "    val_precision  : 0.5968596161560876\n",
      "    val_recall     : 0.5625\n"
     ]
    },
    {
     "name": "stdout",
     "output_type": "stream",
     "text": [
      "Model has not improved in -------------| 118 epochs\n"
     ]
    },
    {
     "name": "stderr",
     "output_type": "stream",
     "text": [
      "    epoch          : 220\n",
      "    loss           : 0.2349004786875513\n",
      "    my_metric      : 0.9022389846743296\n",
      "    f1             : 0.9024924052714343\n",
      "    balanced_accuracy: 0.9044054299149966\n",
      "    precision      : 0.9058504276716073\n",
      "    recall         : 0.9022389846743296\n",
      "    val_loss       : 0.7976913899183273\n",
      "    val_my_metric  : 0.6640625\n",
      "    val_f1         : 0.6643246154616397\n",
      "    val_balanced_accuracy: 0.6224186424408894\n",
      "    val_precision  : 0.6668860577130412\n",
      "    val_recall     : 0.6640625\n"
     ]
    },
    {
     "name": "stdout",
     "output_type": "stream",
     "text": [
      "Model has not improved in -------------| 119 epochs\n"
     ]
    },
    {
     "name": "stderr",
     "output_type": "stream",
     "text": [
      "    epoch          : 221\n",
      "    loss           : 0.2645767132441203\n",
      "    my_metric      : 0.8815852490421456\n",
      "    f1             : 0.8821249676047477\n",
      "    balanced_accuracy: 0.8859531737790427\n",
      "    precision      : 0.8886479862905292\n",
      "    recall         : 0.8815852490421456\n",
      "    val_loss       : 0.6465316209942102\n",
      "    val_my_metric  : 0.77734375\n",
      "    val_f1         : 0.7771369848006164\n",
      "    val_balanced_accuracy: 0.7768480803771752\n",
      "    val_precision  : 0.780632285412169\n",
      "    val_recall     : 0.77734375\n"
     ]
    },
    {
     "name": "stdout",
     "output_type": "stream",
     "text": [
      "Model has not improved in -------------| 120 epochs\n"
     ]
    },
    {
     "name": "stderr",
     "output_type": "stream",
     "text": [
      "    epoch          : 222\n",
      "    loss           : 0.23771711190541586\n",
      "    my_metric      : 0.9078065134099617\n",
      "    f1             : 0.907961964186495\n",
      "    balanced_accuracy: 0.9088637003841897\n",
      "    precision      : 0.9100533854637648\n",
      "    recall         : 0.9078065134099617\n",
      "    val_loss       : 1.4331945329904556\n",
      "    val_my_metric  : 0.625\n",
      "    val_f1         : 0.6136387802096146\n",
      "    val_balanced_accuracy: 0.6270833333333334\n",
      "    val_precision  : 0.6118822784447989\n",
      "    val_recall     : 0.625\n"
     ]
    },
    {
     "name": "stdout",
     "output_type": "stream",
     "text": [
      "Model has not improved in -------------| 121 epochs\n"
     ]
    },
    {
     "name": "stderr",
     "output_type": "stream",
     "text": [
      "    epoch          : 223\n",
      "    loss           : 0.2479432158999973\n",
      "    my_metric      : 0.8949353448275862\n",
      "    f1             : 0.8952452293695524\n",
      "    balanced_accuracy: 0.8974289571662898\n",
      "    precision      : 0.8989632993392613\n",
      "    recall         : 0.8949353448275862\n",
      "    val_loss       : 0.8982274085283279\n",
      "    val_my_metric  : 0.71875\n",
      "    val_f1         : 0.7146547717668408\n",
      "    val_balanced_accuracy: 0.7191070757199789\n",
      "    val_precision  : 0.7445700208744672\n",
      "    val_recall     : 0.71875\n"
     ]
    },
    {
     "name": "stdout",
     "output_type": "stream",
     "text": [
      "Model has not improved in -------------| 122 epochs\n"
     ]
    },
    {
     "name": "stderr",
     "output_type": "stream",
     "text": [
      "    epoch          : 224\n",
      "    loss           : 0.23852970782253477\n",
      "    my_metric      : 0.9063996647509579\n",
      "    f1             : 0.9070118886201693\n",
      "    balanced_accuracy: 0.9126546486220916\n",
      "    precision      : 0.913982822875647\n",
      "    recall         : 0.9063996647509579\n",
      "    val_loss       : 0.5702880620956421\n",
      "    val_my_metric  : 0.7890625\n",
      "    val_f1         : 0.7892640936267331\n",
      "    val_balanced_accuracy: 0.7878127511748201\n",
      "    val_precision  : 0.7915707576944843\n",
      "    val_recall     : 0.7890625\n"
     ]
    },
    {
     "name": "stdout",
     "output_type": "stream",
     "text": [
      "Model has not improved in -------------| 123 epochs\n"
     ]
    },
    {
     "name": "stderr",
     "output_type": "stream",
     "text": [
      "    epoch          : 225\n",
      "    loss           : 0.2519514097107781\n",
      "    my_metric      : 0.8944264846743296\n",
      "    f1             : 0.8945605732216682\n",
      "    balanced_accuracy: 0.8964304028067096\n",
      "    precision      : 0.8978747814288391\n",
      "    recall         : 0.8944264846743296\n",
      "    val_loss       : 0.6868733325973153\n",
      "    val_my_metric  : 0.796875\n",
      "    val_f1         : 0.7966522875416135\n",
      "    val_balanced_accuracy: 0.7947810478052413\n",
      "    val_precision  : 0.797654721992965\n",
      "    val_recall     : 0.796875\n"
     ]
    },
    {
     "name": "stdout",
     "output_type": "stream",
     "text": [
      "Model has not improved in -------------| 124 epochs\n"
     ]
    },
    {
     "name": "stderr",
     "output_type": "stream",
     "text": [
      "    epoch          : 226\n",
      "    loss           : 0.2691760270131959\n",
      "    my_metric      : 0.8904454022988505\n",
      "    f1             : 0.8910795970332338\n",
      "    balanced_accuracy: 0.8943061141733154\n",
      "    precision      : 0.8962327726843413\n",
      "    recall         : 0.8904454022988505\n",
      "    val_loss       : 0.674749344587326\n",
      "    val_my_metric  : 0.79296875\n",
      "    val_f1         : 0.7931352257996533\n",
      "    val_balanced_accuracy: 0.7928103596207045\n",
      "    val_precision  : 0.7952117486321264\n",
      "    val_recall     : 0.79296875\n"
     ]
    },
    {
     "name": "stdout",
     "output_type": "stream",
     "text": [
      "Model has not improved in -------------| 125 epochs\n"
     ]
    },
    {
     "name": "stderr",
     "output_type": "stream",
     "text": [
      "    epoch          : 227\n",
      "    loss           : 0.2394820037815306\n",
      "    my_metric      : 0.8987667624521074\n",
      "    f1             : 0.898948959937154\n",
      "    balanced_accuracy: 0.9001772615302445\n",
      "    precision      : 0.902464564186896\n",
      "    recall         : 0.8987667624521074\n",
      "    val_loss       : 0.5713214501738548\n",
      "    val_my_metric  : 0.79296875\n",
      "    val_f1         : 0.793340790248932\n",
      "    val_balanced_accuracy: 0.7935182980074621\n",
      "    val_precision  : 0.7952607807670482\n",
      "    val_recall     : 0.79296875\n"
     ]
    },
    {
     "name": "stdout",
     "output_type": "stream",
     "text": [
      "Model has not improved in -------------| 126 epochs\n"
     ]
    },
    {
     "name": "stderr",
     "output_type": "stream",
     "text": [
      "    epoch          : 228\n",
      "    loss           : 0.23086603648132747\n",
      "    my_metric      : 0.9057112068965518\n",
      "    f1             : 0.9059599498298412\n",
      "    balanced_accuracy: 0.9089470638055988\n",
      "    precision      : 0.9103898891877942\n",
      "    recall         : 0.9057112068965518\n",
      "    val_loss       : 1.061410665512085\n",
      "    val_my_metric  : 0.67578125\n",
      "    val_f1         : 0.6500236151751462\n",
      "    val_balanced_accuracy: 0.6141771555564659\n",
      "    val_precision  : 0.6381376127422337\n",
      "    val_recall     : 0.67578125\n"
     ]
    },
    {
     "name": "stdout",
     "output_type": "stream",
     "text": [
      "Model has not improved in -------------| 127 epochs\n"
     ]
    },
    {
     "name": "stderr",
     "output_type": "stream",
     "text": [
      "    epoch          : 229\n",
      "    loss           : 0.25407299482160145\n",
      "    my_metric      : 0.8980483716475095\n",
      "    f1             : 0.8986287342619959\n",
      "    balanced_accuracy: 0.9027481433596001\n",
      "    precision      : 0.9061419956940048\n",
      "    recall         : 0.8980483716475095\n",
      "    val_loss       : 0.9178866744041443\n",
      "    val_my_metric  : 0.71875\n",
      "    val_f1         : 0.7222739913273002\n",
      "    val_balanced_accuracy: 0.7351900098345345\n",
      "    val_precision  : 0.7494259287766831\n",
      "    val_recall     : 0.71875\n"
     ]
    },
    {
     "name": "stdout",
     "output_type": "stream",
     "text": [
      "Model has not improved in -------------| 128 epochs\n"
     ]
    },
    {
     "name": "stderr",
     "output_type": "stream",
     "text": [
      "    epoch          : 230\n",
      "    loss           : 0.2306068100863033\n",
      "    my_metric      : 0.9076269157088122\n",
      "    f1             : 0.9077051669535218\n",
      "    balanced_accuracy: 0.9096614306156836\n",
      "    precision      : 0.9116234499080923\n",
      "    recall         : 0.9076269157088122\n",
      "    val_loss       : 0.6957981660962105\n",
      "    val_my_metric  : 0.76953125\n",
      "    val_f1         : 0.7701225756706684\n",
      "    val_balanced_accuracy: 0.768876983231822\n",
      "    val_precision  : 0.7740701409129718\n",
      "    val_recall     : 0.76953125\n"
     ]
    },
    {
     "name": "stdout",
     "output_type": "stream",
     "text": [
      "Model has not improved in -------------| 129 epochs\n"
     ]
    },
    {
     "name": "stderr",
     "output_type": "stream",
     "text": [
      "    epoch          : 231\n",
      "    loss           : 0.24661111334959665\n",
      "    my_metric      : 0.8916427203065135\n",
      "    f1             : 0.8921830963762508\n",
      "    balanced_accuracy: 0.8947074363392128\n",
      "    precision      : 0.897221655751647\n",
      "    recall         : 0.8916427203065135\n",
      "    val_loss       : 0.8746913224458694\n",
      "    val_my_metric  : 0.6875\n",
      "    val_f1         : 0.6879030029476787\n",
      "    val_balanced_accuracy: 0.7319772058561632\n",
      "    val_precision  : 0.7766975029975586\n",
      "    val_recall     : 0.6875\n"
     ]
    },
    {
     "name": "stdout",
     "output_type": "stream",
     "text": [
      "Model has not improved in -------------| 130 epochs\n"
     ]
    },
    {
     "name": "stderr",
     "output_type": "stream",
     "text": [
      "    epoch          : 232\n",
      "    loss           : 0.2639091420504782\n",
      "    my_metric      : 0.8781130268199234\n",
      "    f1             : 0.8783108473527084\n",
      "    balanced_accuracy: 0.8812592781432989\n",
      "    precision      : 0.8841267519648806\n",
      "    recall         : 0.8781130268199234\n",
      "    val_loss       : 0.6362799890339375\n",
      "    val_my_metric  : 0.8125\n",
      "    val_f1         : 0.8125853613784458\n",
      "    val_balanced_accuracy: 0.8128100198412698\n",
      "    val_precision  : 0.8158970602696883\n",
      "    val_recall     : 0.8125\n"
     ]
    },
    {
     "name": "stdout",
     "output_type": "stream",
     "text": [
      "Model has not improved in -------------| 131 epochs\n"
     ]
    },
    {
     "name": "stderr",
     "output_type": "stream",
     "text": [
      "    epoch          : 233\n",
      "    loss           : 0.224537193775177\n",
      "    my_metric      : 0.8985871647509579\n",
      "    f1             : 0.8988446643656552\n",
      "    balanced_accuracy: 0.9006012592312561\n",
      "    precision      : 0.902169706277713\n",
      "    recall         : 0.8985871647509579\n",
      "    val_loss       : 0.6654167994856834\n",
      "    val_my_metric  : 0.7265625\n",
      "    val_f1         : 0.69998460591133\n",
      "    val_balanced_accuracy: 0.6638384043744575\n",
      "    val_precision  : 0.6808047265827152\n",
      "    val_recall     : 0.7265625\n"
     ]
    },
    {
     "name": "stdout",
     "output_type": "stream",
     "text": [
      "Model has not improved in -------------| 132 epochs\n"
     ]
    },
    {
     "name": "stderr",
     "output_type": "stream",
     "text": [
      "    epoch          : 234\n",
      "    loss           : 0.2639054482181867\n",
      "    my_metric      : 0.8829621647509579\n",
      "    f1             : 0.8836131304132228\n",
      "    balanced_accuracy: 0.8872236806920397\n",
      "    precision      : 0.8894164886455427\n",
      "    recall         : 0.8829621647509579\n",
      "    val_loss       : 0.5640239152126014\n",
      "    val_my_metric  : 0.77734375\n",
      "    val_f1         : 0.7791149954351796\n",
      "    val_balanced_accuracy: 0.7815382346632347\n",
      "    val_precision  : 0.7920389923210664\n",
      "    val_recall     : 0.77734375\n"
     ]
    },
    {
     "name": "stdout",
     "output_type": "stream",
     "text": [
      "Model has not improved in -------------| 133 epochs\n"
     ]
    },
    {
     "name": "stderr",
     "output_type": "stream",
     "text": [
      "    epoch          : 235\n",
      "    loss           : 0.24408764557705986\n",
      "    my_metric      : 0.9027478448275862\n",
      "    f1             : 0.9032682058395838\n",
      "    balanced_accuracy: 0.908370646087472\n",
      "    precision      : 0.9109673031796299\n",
      "    recall         : 0.9027478448275862\n",
      "    val_loss       : 1.1007586866617203\n",
      "    val_my_metric  : 0.66015625\n",
      "    val_f1         : 0.618883348860337\n",
      "    val_balanced_accuracy: 0.6576316873335981\n",
      "    val_precision  : 0.6055340636395324\n",
      "    val_recall     : 0.66015625\n"
     ]
    },
    {
     "name": "stdout",
     "output_type": "stream",
     "text": [
      "Model has not improved in -------------| 134 epochs\n"
     ]
    },
    {
     "name": "stderr",
     "output_type": "stream",
     "text": [
      "    epoch          : 236\n",
      "    loss           : 0.2516274361146821\n",
      "    my_metric      : 0.8921815134099617\n",
      "    f1             : 0.8926514488486382\n",
      "    balanced_accuracy: 0.8963430661285747\n",
      "    precision      : 0.8979163678359602\n",
      "    recall         : 0.8921815134099617\n",
      "    val_loss       : 0.8952646851539612\n",
      "    val_my_metric  : 0.6796875\n",
      "    val_f1         : 0.680163054476841\n",
      "    val_balanced_accuracy: 0.6391434506353861\n",
      "    val_precision  : 0.6829656413518487\n",
      "    val_recall     : 0.6796875\n"
     ]
    },
    {
     "name": "stdout",
     "output_type": "stream",
     "text": [
      "Model has not improved in -------------| 135 epochs\n"
     ]
    },
    {
     "name": "stderr",
     "output_type": "stream",
     "text": [
      "    epoch          : 237\n",
      "    loss           : 0.24435749732785755\n",
      "    my_metric      : 0.8977191091954023\n",
      "    f1             : 0.8980706145165352\n",
      "    balanced_accuracy: 0.9011745064195499\n",
      "    precision      : 0.9037089822775827\n",
      "    recall         : 0.8977191091954023\n",
      "    val_loss       : 1.163433000445366\n",
      "    val_my_metric  : 0.66796875\n",
      "    val_f1         : 0.6673197670591549\n",
      "    val_balanced_accuracy: 0.6226596674461352\n",
      "    val_precision  : 0.6698604839024247\n",
      "    val_recall     : 0.66796875\n"
     ]
    },
    {
     "name": "stdout",
     "output_type": "stream",
     "text": [
      "Model has not improved in -------------| 136 epochs\n"
     ]
    },
    {
     "name": "stderr",
     "output_type": "stream",
     "text": [
      "    epoch          : 238\n",
      "    loss           : 0.24643757194280624\n",
      "    my_metric      : 0.8975395114942528\n",
      "    f1             : 0.8977667681244195\n",
      "    balanced_accuracy: 0.9003674934792593\n",
      "    precision      : 0.9023210987421424\n",
      "    recall         : 0.8975395114942528\n",
      "    val_loss       : 0.645133126527071\n",
      "    val_my_metric  : 0.7890625\n",
      "    val_f1         : 0.7900330931967929\n",
      "    val_balanced_accuracy: 0.7896756978653531\n",
      "    val_precision  : 0.7931976737420285\n",
      "    val_recall     : 0.7890625\n"
     ]
    },
    {
     "name": "stdout",
     "output_type": "stream",
     "text": [
      "Model has not improved in -------------| 137 epochs\n"
     ]
    },
    {
     "name": "stderr",
     "output_type": "stream",
     "text": [
      "    epoch          : 239\n",
      "    loss           : 0.24019650121529898\n",
      "    my_metric      : 0.9076269157088122\n",
      "    f1             : 0.9079959659822726\n",
      "    balanced_accuracy: 0.9116919223170429\n",
      "    precision      : 0.9124871772897915\n",
      "    recall         : 0.9076269157088122\n",
      "    val_loss       : 0.7251302599906921\n",
      "    val_my_metric  : 0.7421875\n",
      "    val_f1         : 0.7466605392156862\n",
      "    val_balanced_accuracy: 0.7628357305776661\n",
      "    val_precision  : 0.775390625\n",
      "    val_recall     : 0.7421875\n"
     ]
    },
    {
     "name": "stdout",
     "output_type": "stream",
     "text": [
      "Model has not improved in -------------| 138 epochs\n"
     ]
    },
    {
     "name": "stderr",
     "output_type": "stream",
     "text": [
      "    epoch          : 240\n",
      "    loss           : 0.2409228500392702\n",
      "    my_metric      : 0.8970306513409962\n",
      "    f1             : 0.8972668365254888\n",
      "    balanced_accuracy: 0.9010077889852259\n",
      "    precision      : 0.9038146298792112\n",
      "    recall         : 0.8970306513409962\n",
      "    val_loss       : 1.0892104506492615\n",
      "    val_my_metric  : 0.69921875\n",
      "    val_f1         : 0.6579252190488899\n",
      "    val_balanced_accuracy: 0.6998140458808563\n",
      "    val_precision  : 0.6390530437798286\n",
      "    val_recall     : 0.69921875\n"
     ]
    },
    {
     "name": "stdout",
     "output_type": "stream",
     "text": [
      "Model has not improved in -------------| 139 epochs\n"
     ]
    },
    {
     "name": "stderr",
     "output_type": "stream",
     "text": [
      "    epoch          : 241\n",
      "    loss           : 0.21976653900411394\n",
      "    my_metric      : 0.9074473180076629\n",
      "    f1             : 0.9076546665358602\n",
      "    balanced_accuracy: 0.9099195650689773\n",
      "    precision      : 0.9109841097471464\n",
      "    recall         : 0.9074473180076629\n",
      "    val_loss       : 0.6655399519950151\n",
      "    val_my_metric  : 0.76953125\n",
      "    val_f1         : 0.770524648962149\n",
      "    val_balanced_accuracy: 0.7684164234211751\n",
      "    val_precision  : 0.7733036601484182\n",
      "    val_recall     : 0.76953125\n"
     ]
    },
    {
     "name": "stdout",
     "output_type": "stream",
     "text": [
      "Model has not improved in -------------| 140 epochs\n"
     ]
    },
    {
     "name": "stderr",
     "output_type": "stream",
     "text": [
      "    epoch          : 242\n",
      "    loss           : 0.2564845532178879\n",
      "    my_metric      : 0.8899066091954023\n",
      "    f1             : 0.8904569445655226\n",
      "    balanced_accuracy: 0.8955458057089523\n",
      "    precision      : 0.898104752312428\n",
      "    recall         : 0.8899066091954023\n",
      "    val_loss       : 0.608053064905107\n",
      "    val_my_metric  : 0.80859375\n",
      "    val_f1         : 0.8089581768385588\n",
      "    val_balanced_accuracy: 0.8085864308799493\n",
      "    val_precision  : 0.8124692132052486\n",
      "    val_recall     : 0.80859375\n"
     ]
    },
    {
     "name": "stdout",
     "output_type": "stream",
     "text": [
      "Model has not improved in -------------| 141 epochs\n"
     ]
    },
    {
     "name": "stderr",
     "output_type": "stream",
     "text": [
      "    epoch          : 243\n",
      "    loss           : 0.2356488522556093\n",
      "    my_metric      : 0.8980783045977011\n",
      "    f1             : 0.8983887710097517\n",
      "    balanced_accuracy: 0.9010203060226658\n",
      "    precision      : 0.902413990568609\n",
      "    recall         : 0.8980783045977011\n",
      "    val_loss       : 0.700037956237793\n",
      "    val_my_metric  : 0.66796875\n",
      "    val_f1         : 0.6671099470631412\n",
      "    val_balanced_accuracy: 0.6248980138226462\n",
      "    val_precision  : 0.6701819569701829\n",
      "    val_recall     : 0.66796875\n"
     ]
    },
    {
     "name": "stdout",
     "output_type": "stream",
     "text": [
      "Model has not improved in -------------| 142 epochs\n"
     ]
    },
    {
     "name": "stderr",
     "output_type": "stream",
     "text": [
      "    epoch          : 244\n",
      "    loss           : 0.23702747291988796\n",
      "    my_metric      : 0.9074473180076629\n",
      "    f1             : 0.9076670021744019\n",
      "    balanced_accuracy: 0.9088695128736991\n",
      "    precision      : 0.9097049942716438\n",
      "    recall         : 0.9074473180076629\n",
      "    val_loss       : 0.6190023235976696\n",
      "    val_my_metric  : 0.78125\n",
      "    val_f1         : 0.7817260129099673\n",
      "    val_balanced_accuracy: 0.7828320351646924\n",
      "    val_precision  : 0.7850684261974585\n",
      "    val_recall     : 0.78125\n"
     ]
    },
    {
     "name": "stdout",
     "output_type": "stream",
     "text": [
      "Model has not improved in -------------| 143 epochs\n"
     ]
    },
    {
     "name": "stderr",
     "output_type": "stream",
     "text": [
      "    epoch          : 245\n",
      "    loss           : 0.233876071870327\n",
      "    my_metric      : 0.9079561781609196\n",
      "    f1             : 0.9084406282417942\n",
      "    balanced_accuracy: 0.910850147390754\n",
      "    precision      : 0.9126740705961934\n",
      "    recall         : 0.9079561781609196\n",
      "    val_loss       : 0.9534947425127029\n",
      "    val_my_metric  : 0.67578125\n",
      "    val_f1         : 0.6760585222778273\n",
      "    val_balanced_accuracy: 0.6739142562418425\n",
      "    val_precision  : 0.6779055929877635\n",
      "    val_recall     : 0.67578125\n"
     ]
    },
    {
     "name": "stdout",
     "output_type": "stream",
     "text": [
      "Model has not improved in -------------| 144 epochs\n"
     ]
    },
    {
     "name": "stderr",
     "output_type": "stream",
     "text": [
      "    epoch          : 246\n",
      "    loss           : 0.23663621147473654\n",
      "    my_metric      : 0.8954741379310344\n",
      "    f1             : 0.8957337651704828\n",
      "    balanced_accuracy: 0.8980673400929279\n",
      "    precision      : 0.8997766659349303\n",
      "    recall         : 0.8954741379310344\n",
      "    val_loss       : 0.9966511279344559\n",
      "    val_my_metric  : 0.7265625\n",
      "    val_f1         : 0.7315031202182604\n",
      "    val_balanced_accuracy: 0.7487879866022655\n",
      "    val_precision  : 0.7659959535349166\n",
      "    val_recall     : 0.7265625\n"
     ]
    },
    {
     "name": "stdout",
     "output_type": "stream",
     "text": [
      "Model has not improved in -------------| 145 epochs\n"
     ]
    },
    {
     "name": "stderr",
     "output_type": "stream",
     "text": [
      "    epoch          : 247\n",
      "    loss           : 0.22418085071775648\n",
      "    my_metric      : 0.9083153735632185\n",
      "    f1             : 0.9084172962369205\n",
      "    balanced_accuracy: 0.9108559822093655\n",
      "    precision      : 0.9136028251208277\n",
      "    recall         : 0.9083153735632185\n",
      "    val_loss       : 1.154890015721321\n",
      "    val_my_metric  : 0.734375\n",
      "    val_f1         : 0.7391691006746833\n",
      "    val_balanced_accuracy: 0.7541852974611596\n",
      "    val_precision  : 0.7694657433168463\n",
      "    val_recall     : 0.734375\n"
     ]
    },
    {
     "name": "stdout",
     "output_type": "stream",
     "text": [
      "Model has not improved in -------------| 146 epochs\n"
     ]
    },
    {
     "name": "stderr",
     "output_type": "stream",
     "text": [
      "    epoch          : 248\n",
      "    loss           : 0.21493357006046507\n",
      "    my_metric      : 0.908135775862069\n",
      "    f1             : 0.9085795486880824\n",
      "    balanced_accuracy: 0.9122975468734782\n",
      "    precision      : 0.9135707859539262\n",
      "    recall         : 0.908135775862069\n",
      "    val_loss       : 0.8047676831483841\n",
      "    val_my_metric  : 0.73046875\n",
      "    val_f1         : 0.7341508256528417\n",
      "    val_balanced_accuracy: 0.7495180054003583\n",
      "    val_precision  : 0.766057591221261\n",
      "    val_recall     : 0.73046875\n"
     ]
    },
    {
     "name": "stdout",
     "output_type": "stream",
     "text": [
      "Model has not improved in -------------| 147 epochs\n"
     ]
    },
    {
     "name": "stderr",
     "output_type": "stream",
     "text": [
      "    epoch          : 249\n",
      "    loss           : 0.22514113204346764\n",
      "    my_metric      : 0.9067588601532566\n",
      "    f1             : 0.9069982741967085\n",
      "    balanced_accuracy: 0.9098026246099783\n",
      "    precision      : 0.911742176449036\n",
      "    recall         : 0.9067588601532566\n",
      "    val_loss       : 0.9006575047969818\n",
      "    val_my_metric  : 0.72265625\n",
      "    val_f1         : 0.6963572930612434\n",
      "    val_balanced_accuracy: 0.6602253908320085\n",
      "    val_precision  : 0.6778550091911765\n",
      "    val_recall     : 0.72265625\n"
     ]
    },
    {
     "name": "stdout",
     "output_type": "stream",
     "text": [
      "Model has not improved in -------------| 148 epochs\n"
     ]
    },
    {
     "name": "stderr",
     "output_type": "stream",
     "text": [
      "    epoch          : 250\n",
      "    loss           : 0.2314592194226053\n",
      "    my_metric      : 0.9084949712643677\n",
      "    f1             : 0.9087275700723867\n",
      "    balanced_accuracy: 0.9113540878255737\n",
      "    precision      : 0.9122434923494345\n",
      "    recall         : 0.9084949712643677\n",
      "    val_loss       : 0.8289071768522263\n",
      "    val_my_metric  : 0.71484375\n",
      "    val_f1         : 0.7193199234976942\n",
      "    val_balanced_accuracy: 0.7355852920369048\n",
      "    val_precision  : 0.749107442876344\n",
      "    val_recall     : 0.71484375\n"
     ]
    },
    {
     "name": "stdout",
     "output_type": "stream",
     "text": [
      "Model has not improved in -------------| 149 epochs\n"
     ]
    },
    {
     "name": "stderr",
     "output_type": "stream",
     "text": [
      "    epoch          : 251\n",
      "    loss           : 0.2293734633260303\n",
      "    my_metric      : 0.9104106800766283\n",
      "    f1             : 0.9105632743803059\n",
      "    balanced_accuracy: 0.9118362038361908\n",
      "    precision      : 0.9133201466154196\n",
      "    recall         : 0.9104106800766283\n",
      "    val_loss       : 0.9931349903345108\n",
      "    val_my_metric  : 0.6640625\n",
      "    val_f1         : 0.6662920961687194\n",
      "    val_balanced_accuracy: 0.6275146336176797\n",
      "    val_precision  : 0.6776434487261731\n",
      "    val_recall     : 0.6640625\n"
     ]
    },
    {
     "name": "stdout",
     "output_type": "stream",
     "text": [
      "Model has not improved in -------------| 150 epochs\n"
     ]
    },
    {
     "name": "stderr",
     "output_type": "stream",
     "text": [
      "    epoch          : 252\n",
      "    loss           : 0.23971900509463417\n",
      "    my_metric      : 0.8996348180076629\n",
      "    f1             : 0.8998248364486928\n",
      "    balanced_accuracy: 0.9011693175317481\n",
      "    precision      : 0.9029145097242759\n",
      "    recall         : 0.8996348180076629\n",
      "    val_loss       : 0.7660694122314453\n",
      "    val_my_metric  : 0.71875\n",
      "    val_f1         : 0.7226054476139651\n",
      "    val_balanced_accuracy: 0.7381234875617522\n",
      "    val_precision  : 0.7537549743455074\n",
      "    val_recall     : 0.71875\n"
     ]
    },
    {
     "name": "stdout",
     "output_type": "stream",
     "text": [
      "Model has not improved in -------------| 151 epochs\n"
     ]
    },
    {
     "name": "stderr",
     "output_type": "stream",
     "text": [
      "    epoch          : 253\n",
      "    loss           : 0.2440976467397478\n",
      "    my_metric      : 0.9027777777777778\n",
      "    f1             : 0.9030669214665663\n",
      "    balanced_accuracy: 0.9057618134865962\n",
      "    precision      : 0.9073787030163708\n",
      "    recall         : 0.9027777777777778\n",
      "    val_loss       : 0.7846009731292725\n",
      "    val_my_metric  : 0.74609375\n",
      "    val_f1         : 0.7506595103796082\n",
      "    val_balanced_accuracy: 0.7685503799220836\n",
      "    val_precision  : 0.7805959751878666\n",
      "    val_recall     : 0.74609375\n"
     ]
    },
    {
     "name": "stdout",
     "output_type": "stream",
     "text": [
      "Model has not improved in -------------| 152 epochs\n"
     ]
    },
    {
     "name": "stderr",
     "output_type": "stream",
     "text": [
      "    epoch          : 254\n",
      "    loss           : 0.22903851336903042\n",
      "    my_metric      : 0.8954741379310344\n",
      "    f1             : 0.8958039408290845\n",
      "    balanced_accuracy: 0.8983155841561233\n",
      "    precision      : 0.8999954268768702\n",
      "    recall         : 0.8954741379310344\n",
      "    val_loss       : 0.7097114473581314\n",
      "    val_my_metric  : 0.75\n",
      "    val_f1         : 0.7546153846153846\n",
      "    val_balanced_accuracy: 0.7673132183908045\n",
      "    val_precision  : 0.7825151821862348\n",
      "    val_recall     : 0.75\n"
     ]
    },
    {
     "name": "stdout",
     "output_type": "stream",
     "text": [
      "Model has not improved in -------------| 153 epochs\n"
     ]
    },
    {
     "name": "stderr",
     "output_type": "stream",
     "text": [
      "    epoch          : 255\n",
      "    loss           : 0.23426984912819332\n",
      "    my_metric      : 0.9096922892720306\n",
      "    f1             : 0.9098849409322747\n",
      "    balanced_accuracy: 0.9127008432039236\n",
      "    precision      : 0.913461164113949\n",
      "    recall         : 0.9096922892720306\n",
      "    val_loss       : 0.5866035129874945\n",
      "    val_my_metric  : 0.79296875\n",
      "    val_f1         : 0.7917964367278111\n",
      "    val_balanced_accuracy: 0.792530345471522\n",
      "    val_precision  : 0.7982097672064777\n",
      "    val_recall     : 0.79296875\n"
     ]
    },
    {
     "name": "stdout",
     "output_type": "stream",
     "text": [
      "Model has not improved in -------------| 154 epochs\n"
     ]
    },
    {
     "name": "stderr",
     "output_type": "stream",
     "text": [
      "    epoch          : 256\n",
      "    loss           : 0.23348409516943824\n",
      "    my_metric      : 0.9076269157088122\n",
      "    f1             : 0.9077115928736157\n",
      "    balanced_accuracy: 0.9096048791703661\n",
      "    precision      : 0.9107904340404188\n",
      "    recall         : 0.9076269157088122\n",
      "    val_loss       : 0.820959061384201\n",
      "    val_my_metric  : 0.703125\n",
      "    val_f1         : 0.6985157103530562\n",
      "    val_balanced_accuracy: 0.7085404138744655\n",
      "    val_precision  : 0.7349386232047521\n",
      "    val_recall     : 0.703125\n"
     ]
    },
    {
     "name": "stdout",
     "output_type": "stream",
     "text": [
      "Model has not improved in -------------| 155 epochs\n"
     ]
    },
    {
     "name": "stderr",
     "output_type": "stream",
     "text": [
      "    epoch          : 257\n",
      "    loss           : 0.26995012909173965\n",
      "    my_metric      : 0.8756585249042145\n",
      "    f1             : 0.8763446771513181\n",
      "    balanced_accuracy: 0.8788707618228573\n",
      "    precision      : 0.8825365817918408\n",
      "    recall         : 0.8756585249042145\n",
      "    val_loss       : 0.5728576499968767\n",
      "    val_my_metric  : 0.80859375\n",
      "    val_f1         : 0.8086805555555556\n",
      "    val_balanced_accuracy: 0.8126612040474666\n",
      "    val_precision  : 0.8164870689655173\n",
      "    val_recall     : 0.80859375\n"
     ]
    },
    {
     "name": "stdout",
     "output_type": "stream",
     "text": [
      "Model has not improved in -------------| 156 epochs\n"
     ]
    },
    {
     "name": "stderr",
     "output_type": "stream",
     "text": [
      "    epoch          : 258\n",
      "    loss           : 0.2308625007669131\n",
      "    my_metric      : 0.9022389846743296\n",
      "    f1             : 0.9022788128634647\n",
      "    balanced_accuracy: 0.9023138359705063\n",
      "    precision      : 0.903806640014823\n",
      "    recall         : 0.9022389846743296\n",
      "    val_loss       : 1.154686063528061\n",
      "    val_my_metric  : 0.60546875\n",
      "    val_f1         : 0.6434749895076748\n",
      "    val_balanced_accuracy: 0.6030438960680896\n",
      "    val_precision  : 0.7957929142196383\n",
      "    val_recall     : 0.60546875\n"
     ]
    },
    {
     "name": "stdout",
     "output_type": "stream",
     "text": [
      "Model has not improved in -------------| 157 epochs\n"
     ]
    },
    {
     "name": "stderr",
     "output_type": "stream",
     "text": [
      "    epoch          : 259\n",
      "    loss           : 0.2438302147719595\n",
      "    my_metric      : 0.9011913314176245\n",
      "    f1             : 0.9014174309087899\n",
      "    balanced_accuracy: 0.90350181958934\n",
      "    precision      : 0.9052799064303382\n",
      "    recall         : 0.9011913314176245\n",
      "    val_loss       : 0.6715708486735821\n",
      "    val_my_metric  : 0.796875\n",
      "    val_f1         : 0.7970373731179716\n",
      "    val_balanced_accuracy: 0.7987740756727792\n",
      "    val_precision  : 0.8029830427719422\n",
      "    val_recall     : 0.796875\n"
     ]
    },
    {
     "name": "stdout",
     "output_type": "stream",
     "text": [
      "Model has not improved in -------------| 158 epochs\n"
     ]
    },
    {
     "name": "stderr",
     "output_type": "stream",
     "text": [
      "    epoch          : 260\n",
      "    loss           : 0.23160208347770903\n",
      "    my_metric      : 0.898227969348659\n",
      "    f1             : 0.8987607937207842\n",
      "    balanced_accuracy: 0.9008816163751183\n",
      "    precision      : 0.9025759255607668\n",
      "    recall         : 0.898227969348659\n",
      "    val_loss       : 0.651972770690918\n",
      "    val_my_metric  : 0.7109375\n",
      "    val_f1         : 0.7115591634584091\n",
      "    val_balanced_accuracy: 0.7535527494148183\n",
      "    val_precision  : 0.7989479554430194\n",
      "    val_recall     : 0.7109375\n"
     ]
    },
    {
     "name": "stdout",
     "output_type": "stream",
     "text": [
      "Model has not improved in -------------| 159 epochs\n"
     ]
    },
    {
     "name": "stderr",
     "output_type": "stream",
     "text": [
      "    epoch          : 261\n",
      "    loss           : 0.22698325001531178\n",
      "    my_metric      : 0.9095426245210727\n",
      "    f1             : 0.9097556657973794\n",
      "    balanced_accuracy: 0.912275432212163\n",
      "    precision      : 0.9147628264544222\n",
      "    recall         : 0.9095426245210727\n",
      "    val_loss       : 0.7139773592352867\n",
      "    val_my_metric  : 0.75390625\n",
      "    val_f1         : 0.7545772863048853\n",
      "    val_balanced_accuracy: 0.7519985102794433\n",
      "    val_precision  : 0.7559849989285473\n",
      "    val_recall     : 0.75390625\n"
     ]
    },
    {
     "name": "stdout",
     "output_type": "stream",
     "text": [
      "Model has not improved in -------------| 160 epochs\n"
     ]
    },
    {
     "name": "stderr",
     "output_type": "stream",
     "text": [
      "    epoch          : 262\n",
      "    loss           : 0.21944096270534727\n",
      "    my_metric      : 0.9137033045977011\n",
      "    f1             : 0.9138957262424583\n",
      "    balanced_accuracy: 0.9159772225263806\n",
      "    precision      : 0.9180152214823399\n",
      "    recall         : 0.9137033045977011\n",
      "    val_loss       : 0.7016157656908035\n",
      "    val_my_metric  : 0.7265625\n",
      "    val_f1         : 0.7001265991471215\n",
      "    val_balanced_accuracy: 0.6654085412268524\n",
      "    val_precision  : 0.6828949780058651\n",
      "    val_recall     : 0.7265625\n"
     ]
    },
    {
     "name": "stdout",
     "output_type": "stream",
     "text": [
      "Model has not improved in -------------| 161 epochs\n"
     ]
    },
    {
     "name": "stderr",
     "output_type": "stream",
     "text": [
      "    epoch          : 263\n",
      "    loss           : 0.22697610987557304\n",
      "    my_metric      : 0.8968510536398467\n",
      "    f1             : 0.8970757637455757\n",
      "    balanced_accuracy: 0.8997442864376111\n",
      "    precision      : 0.9021064953546194\n",
      "    recall         : 0.8968510536398467\n",
      "    val_loss       : 1.196069523692131\n",
      "    val_my_metric  : 0.68359375\n",
      "    val_f1         : 0.6840586317418214\n",
      "    val_balanced_accuracy: 0.6431850377162878\n",
      "    val_precision  : 0.6865092756310736\n",
      "    val_recall     : 0.68359375\n"
     ]
    },
    {
     "name": "stdout",
     "output_type": "stream",
     "text": [
      "Model has not improved in -------------| 162 epochs\n"
     ]
    },
    {
     "name": "stderr",
     "output_type": "stream",
     "text": [
      "    epoch          : 264\n",
      "    loss           : 0.21800492538346183\n",
      "    my_metric      : 0.9180435823754789\n",
      "    f1             : 0.9183156237101459\n",
      "    balanced_accuracy: 0.9207764379666323\n",
      "    precision      : 0.9222412252955134\n",
      "    recall         : 0.9180435823754789\n",
      "    val_loss       : 0.9894100874662399\n",
      "    val_my_metric  : 0.68359375\n",
      "    val_f1         : 0.7284626449174066\n",
      "    val_balanced_accuracy: 0.6893201977760801\n",
      "    val_precision  : 0.8254536908009171\n",
      "    val_recall     : 0.68359375\n"
     ]
    },
    {
     "name": "stdout",
     "output_type": "stream",
     "text": [
      "Model has not improved in -------------| 163 epochs\n"
     ]
    },
    {
     "name": "stderr",
     "output_type": "stream",
     "text": [
      "    epoch          : 265\n",
      "    loss           : 0.2338961718810929\n",
      "    my_metric      : 0.9032866379310344\n",
      "    f1             : 0.9034264886335716\n",
      "    balanced_accuracy: 0.9049296790106452\n",
      "    precision      : 0.9060227550933444\n",
      "    recall         : 0.9032866379310344\n",
      "    val_loss       : 0.8357973471283913\n",
      "    val_my_metric  : 0.6484375\n",
      "    val_f1         : 0.6488800908926621\n",
      "    val_balanced_accuracy: 0.6958628025990454\n",
      "    val_precision  : 0.7455061310437899\n",
      "    val_recall     : 0.6484375\n"
     ]
    },
    {
     "name": "stdout",
     "output_type": "stream",
     "text": [
      "Model has not improved in -------------| 164 epochs\n"
     ]
    },
    {
     "name": "stderr",
     "output_type": "stream",
     "text": [
      "    epoch          : 266\n",
      "    loss           : 0.24822087668710285\n",
      "    my_metric      : 0.8838302203065135\n",
      "    f1             : 0.8842247950248427\n",
      "    balanced_accuracy: 0.8861448509036438\n",
      "    precision      : 0.8878762824563373\n",
      "    recall         : 0.8838302203065135\n",
      "    val_loss       : 0.6148920077830553\n",
      "    val_my_metric  : 0.765625\n",
      "    val_f1         : 0.7665552440885635\n",
      "    val_balanced_accuracy: 0.7687277995310312\n",
      "    val_precision  : 0.7732182521446078\n",
      "    val_recall     : 0.765625\n"
     ]
    },
    {
     "name": "stdout",
     "output_type": "stream",
     "text": [
      "Model has not improved in -------------| 165 epochs\n"
     ]
    },
    {
     "name": "stderr",
     "output_type": "stream",
     "text": [
      "    epoch          : 267\n",
      "    loss           : 0.24021617819865546\n",
      "    my_metric      : 0.893558429118774\n",
      "    f1             : 0.8938151191485753\n",
      "    balanced_accuracy: 0.8965872401117176\n",
      "    precision      : 0.8982583683517174\n",
      "    recall         : 0.893558429118774\n",
      "    val_loss       : 0.8062980771064758\n",
      "    val_my_metric  : 0.65625\n",
      "    val_f1         : 0.6550838163414229\n",
      "    val_balanced_accuracy: 0.65234375\n",
      "    val_precision  : 0.656472564870495\n",
      "    val_recall     : 0.65625\n"
     ]
    },
    {
     "name": "stdout",
     "output_type": "stream",
     "text": [
      "Model has not improved in -------------| 166 epochs\n"
     ]
    },
    {
     "name": "stderr",
     "output_type": "stream",
     "text": [
      "    epoch          : 268\n",
      "    loss           : 0.22680981705586115\n",
      "    my_metric      : 0.9031070402298851\n",
      "    f1             : 0.9032971735482072\n",
      "    balanced_accuracy: 0.9048373665234879\n",
      "    precision      : 0.905933709265024\n",
      "    recall         : 0.9031070402298851\n",
      "    val_loss       : 0.9003145545721054\n",
      "    val_my_metric  : 0.72265625\n",
      "    val_f1         : 0.7271963891190278\n",
      "    val_balanced_accuracy: 0.7439676139272913\n",
      "    val_precision  : 0.7565379149782827\n",
      "    val_recall     : 0.72265625\n"
     ]
    },
    {
     "name": "stdout",
     "output_type": "stream",
     "text": [
      "Model has not improved in -------------| 167 epochs\n"
     ]
    },
    {
     "name": "stderr",
     "output_type": "stream",
     "text": [
      "    epoch          : 269\n",
      "    loss           : 0.22607329736153284\n",
      "    my_metric      : 0.8985871647509579\n",
      "    f1             : 0.8986557569154032\n",
      "    balanced_accuracy: 0.9004140070578374\n",
      "    precision      : 0.9020848245152747\n",
      "    recall         : 0.8985871647509579\n",
      "    val_loss       : 0.6093530058860779\n",
      "    val_my_metric  : 0.7421875\n",
      "    val_f1         : 0.7464920343137255\n",
      "    val_balanced_accuracy: 0.7617555093917718\n",
      "    val_precision  : 0.7744302908113392\n",
      "    val_recall     : 0.7421875\n"
     ]
    },
    {
     "name": "stdout",
     "output_type": "stream",
     "text": [
      "Model has not improved in -------------| 168 epochs\n"
     ]
    },
    {
     "name": "stderr",
     "output_type": "stream",
     "text": [
      "    epoch          : 270\n",
      "    loss           : 0.22601866142617333\n",
      "    my_metric      : 0.9128352490421455\n",
      "    f1             : 0.9129447076068229\n",
      "    balanced_accuracy: 0.9142657977104989\n",
      "    precision      : 0.9165449241731576\n",
      "    recall         : 0.9128352490421455\n",
      "    val_loss       : 1.0003354027867317\n",
      "    val_my_metric  : 0.72265625\n",
      "    val_f1         : 0.7267548750731195\n",
      "    val_balanced_accuracy: 0.7471966431556949\n",
      "    val_precision  : 0.7621502465025605\n",
      "    val_recall     : 0.72265625\n"
     ]
    },
    {
     "name": "stdout",
     "output_type": "stream",
     "text": [
      "Model has not improved in -------------| 169 epochs\n"
     ]
    },
    {
     "name": "stderr",
     "output_type": "stream",
     "text": [
      "    epoch          : 271\n",
      "    loss           : 0.24078396790557438\n",
      "    my_metric      : 0.9020593869731801\n",
      "    f1             : 0.9024970305370312\n",
      "    balanced_accuracy: 0.9047697087975184\n",
      "    precision      : 0.9067711826445266\n",
      "    recall         : 0.9020593869731801\n",
      "    val_loss       : 0.9532563835382462\n",
      "    val_my_metric  : 0.74609375\n",
      "    val_f1         : 0.7195194413525067\n",
      "    val_balanced_accuracy: 0.683929014003823\n",
      "    val_precision  : 0.7023027179621849\n",
      "    val_recall     : 0.74609375\n"
     ]
    },
    {
     "name": "stdout",
     "output_type": "stream",
     "text": [
      "Model has not improved in -------------| 170 epochs\n"
     ]
    },
    {
     "name": "stderr",
     "output_type": "stream",
     "text": [
      "    epoch          : 272\n",
      "    loss           : 0.2268637932009167\n",
      "    my_metric      : 0.9128352490421455\n",
      "    f1             : 0.9131209968014606\n",
      "    balanced_accuracy: 0.914891184761122\n",
      "    precision      : 0.9164029822661485\n",
      "    recall         : 0.9128352490421455\n",
      "    val_loss       : 0.7856522500514984\n",
      "    val_my_metric  : 0.6484375\n",
      "    val_f1         : 0.6483309452181115\n",
      "    val_balanced_accuracy: 0.6905064888935857\n",
      "    val_precision  : 0.7356724840161298\n",
      "    val_recall     : 0.6484375\n"
     ]
    },
    {
     "name": "stdout",
     "output_type": "stream",
     "text": [
      "Model has not improved in -------------| 171 epochs\n"
     ]
    },
    {
     "name": "stderr",
     "output_type": "stream",
     "text": [
      "    epoch          : 273\n",
      "    loss           : 0.24151275058587393\n",
      "    my_metric      : 0.8970306513409962\n",
      "    f1             : 0.897382929284498\n",
      "    balanced_accuracy: 0.900789588434496\n",
      "    precision      : 0.9029864725321901\n",
      "    recall         : 0.8970306513409962\n",
      "    val_loss       : 0.8325845450162888\n",
      "    val_my_metric  : 0.71875\n",
      "    val_f1         : 0.7232215608153766\n",
      "    val_balanced_accuracy: 0.7393173073827233\n",
      "    val_precision  : 0.7514968230694037\n",
      "    val_recall     : 0.71875\n"
     ]
    },
    {
     "name": "stdout",
     "output_type": "stream",
     "text": [
      "Model has not improved in -------------| 172 epochs\n"
     ]
    },
    {
     "name": "stderr",
     "output_type": "stream",
     "text": [
      "    epoch          : 274\n",
      "    loss           : 0.24131286558177736\n",
      "    my_metric      : 0.9037954980842913\n",
      "    f1             : 0.9039198492340533\n",
      "    balanced_accuracy: 0.9060200042493324\n",
      "    precision      : 0.9074652860313309\n",
      "    recall         : 0.9037954980842913\n",
      "    val_loss       : 1.1355363726615906\n",
      "    val_my_metric  : 0.671875\n",
      "    val_f1         : 0.6717531232086027\n",
      "    val_balanced_accuracy: 0.7131405651340995\n",
      "    val_precision  : 0.7574887617396809\n",
      "    val_recall     : 0.671875\n"
     ]
    },
    {
     "name": "stdout",
     "output_type": "stream",
     "text": [
      "Model has not improved in -------------| 173 epochs\n"
     ]
    },
    {
     "name": "stderr",
     "output_type": "stream",
     "text": [
      "    epoch          : 275\n",
      "    loss           : 0.23722340166568756\n",
      "    my_metric      : 0.8994552203065135\n",
      "    f1             : 0.8994576428318388\n",
      "    balanced_accuracy: 0.9004256717072562\n",
      "    precision      : 0.9032340599881571\n",
      "    recall         : 0.8994552203065135\n",
      "    val_loss       : 0.852495402097702\n",
      "    val_my_metric  : 0.6953125\n",
      "    val_f1         : 0.6957141365613098\n",
      "    val_balanced_accuracy: 0.6491804566401341\n",
      "    val_precision  : 0.6990085334512359\n",
      "    val_recall     : 0.6953125\n"
     ]
    },
    {
     "name": "stdout",
     "output_type": "stream",
     "text": [
      "Model has not improved in -------------| 174 epochs\n"
     ]
    },
    {
     "name": "stderr",
     "output_type": "stream",
     "text": [
      "    epoch          : 276\n",
      "    loss           : 0.2395308953192499\n",
      "    my_metric      : 0.8968510536398467\n",
      "    f1             : 0.897327440842663\n",
      "    balanced_accuracy: 0.9008276488925203\n",
      "    precision      : 0.9035749096396621\n",
      "    recall         : 0.8968510536398467\n",
      "    val_loss       : 1.176566332578659\n",
      "    val_my_metric  : 0.578125\n",
      "    val_f1         : 0.5911663911299256\n",
      "    val_balanced_accuracy: 0.5566261839529194\n",
      "    val_precision  : 0.6123025177686607\n",
      "    val_recall     : 0.578125\n"
     ]
    },
    {
     "name": "stdout",
     "output_type": "stream",
     "text": [
      "Model has not improved in -------------| 175 epochs\n"
     ]
    },
    {
     "name": "stderr",
     "output_type": "stream",
     "text": [
      "    epoch          : 277\n",
      "    loss           : 0.2203619819548395\n",
      "    my_metric      : 0.9032866379310344\n",
      "    f1             : 0.9033912276941263\n",
      "    balanced_accuracy: 0.9039308377300124\n",
      "    precision      : 0.9053457585202137\n",
      "    recall         : 0.9032866379310344\n",
      "    val_loss       : 0.884346067905426\n",
      "    val_my_metric  : 0.6796875\n",
      "    val_f1         : 0.6803813659084323\n",
      "    val_balanced_accuracy: 0.7240040604556733\n",
      "    val_precision  : 0.770522509678864\n",
      "    val_recall     : 0.6796875\n"
     ]
    },
    {
     "name": "stdout",
     "output_type": "stream",
     "text": [
      "Model has not improved in -------------| 176 epochs\n"
     ]
    },
    {
     "name": "stderr",
     "output_type": "stream",
     "text": [
      "    epoch          : 278\n",
      "    loss           : 0.24669504745139015\n",
      "    my_metric      : 0.8990960249042145\n",
      "    f1             : 0.8993100904000626\n",
      "    balanced_accuracy: 0.9019725946808449\n",
      "    precision      : 0.9036788039451934\n",
      "    recall         : 0.8990960249042145\n",
      "    val_loss       : 0.8955937474966049\n",
      "    val_my_metric  : 0.65234375\n",
      "    val_f1         : 0.6519395852068315\n",
      "    val_balanced_accuracy: 0.6145789694176792\n",
      "    val_precision  : 0.6625108879795171\n",
      "    val_recall     : 0.65234375\n"
     ]
    },
    {
     "name": "stdout",
     "output_type": "stream",
     "text": [
      "Model has not improved in -------------| 177 epochs\n"
     ]
    },
    {
     "name": "stderr",
     "output_type": "stream",
     "text": [
      "    epoch          : 279\n",
      "    loss           : 0.20914073785146078\n",
      "    my_metric      : 0.9088242337164751\n",
      "    f1             : 0.9088550177112231\n",
      "    balanced_accuracy: 0.9100770008243004\n",
      "    precision      : 0.9113269296925216\n",
      "    recall         : 0.9088242337164751\n",
      "    val_loss       : 0.8487814515829086\n",
      "    val_my_metric  : 0.69921875\n",
      "    val_f1         : 0.7038869197198194\n",
      "    val_balanced_accuracy: 0.7172559870979145\n",
      "    val_precision  : 0.7337215848183123\n",
      "    val_recall     : 0.69921875\n"
     ]
    },
    {
     "name": "stdout",
     "output_type": "stream",
     "text": [
      "Model has not improved in -------------| 178 epochs\n"
     ]
    },
    {
     "name": "stderr",
     "output_type": "stream",
     "text": [
      "    epoch          : 280\n",
      "    loss           : 0.24944325702057946\n",
      "    my_metric      : 0.8999940134099617\n",
      "    f1             : 0.9004974482290442\n",
      "    balanced_accuracy: 0.9034342889814447\n",
      "    precision      : 0.9050407793984283\n",
      "    recall         : 0.8999940134099617\n",
      "    val_loss       : 0.6580400988459587\n",
      "    val_my_metric  : 0.75390625\n",
      "    val_f1         : 0.7570797041018038\n",
      "    val_balanced_accuracy: 0.7715586355666297\n",
      "    val_precision  : 0.793516101953602\n",
      "    val_recall     : 0.75390625\n"
     ]
    },
    {
     "name": "stdout",
     "output_type": "stream",
     "text": [
      "Model has not improved in -------------| 179 epochs\n"
     ]
    },
    {
     "name": "stderr",
     "output_type": "stream",
     "text": [
      "    epoch          : 281\n",
      "    loss           : 0.22888479547368157\n",
      "    my_metric      : 0.8996348180076629\n",
      "    f1             : 0.8997537292032755\n",
      "    balanced_accuracy: 0.9007614301075839\n",
      "    precision      : 0.902823618965363\n",
      "    recall         : 0.8996348180076629\n",
      "    val_loss       : 1.5270249396562576\n",
      "    val_my_metric  : 0.62109375\n",
      "    val_f1         : 0.6336675032252861\n",
      "    val_balanced_accuracy: 0.5994708527006384\n",
      "    val_precision  : 0.6534849912525731\n",
      "    val_recall     : 0.62109375\n"
     ]
    },
    {
     "name": "stdout",
     "output_type": "stream",
     "text": [
      "Model has not improved in -------------| 180 epochs\n"
     ]
    },
    {
     "name": "stderr",
     "output_type": "stream",
     "text": [
      "    epoch          : 282\n",
      "    loss           : 0.24601134243938658\n",
      "    my_metric      : 0.8980783045977011\n",
      "    f1             : 0.8984706182881647\n",
      "    balanced_accuracy: 0.9027179470652003\n",
      "    precision      : 0.9034214167430198\n",
      "    recall         : 0.8980783045977011\n",
      "    val_loss       : 0.6372558400034904\n",
      "    val_my_metric  : 0.78515625\n",
      "    val_f1         : 0.7848033369390224\n",
      "    val_balanced_accuracy: 0.7866094035211681\n",
      "    val_precision  : 0.791214586661785\n",
      "    val_recall     : 0.78515625\n"
     ]
    },
    {
     "name": "stdout",
     "output_type": "stream",
     "text": [
      "Model has not improved in -------------| 181 epochs\n"
     ]
    },
    {
     "name": "stderr",
     "output_type": "stream",
     "text": [
      "    epoch          : 283\n",
      "    loss           : 0.23246792124377358\n",
      "    my_metric      : 0.9072677203065135\n",
      "    f1             : 0.9077861374261769\n",
      "    balanced_accuracy: 0.9124794663956446\n",
      "    precision      : 0.9155391298032853\n",
      "    recall         : 0.9072677203065135\n",
      "    val_loss       : 1.0924955904483795\n",
      "    val_my_metric  : 0.67578125\n",
      "    val_f1         : 0.7178566029007297\n",
      "    val_balanced_accuracy: 0.675142068026523\n",
      "    val_precision  : 0.8040253039032337\n",
      "    val_recall     : 0.67578125\n"
     ]
    },
    {
     "name": "stdout",
     "output_type": "stream",
     "text": [
      "Model has not improved in -------------| 182 epochs\n"
     ]
    },
    {
     "name": "stderr",
     "output_type": "stream",
     "text": [
      "    epoch          : 284\n",
      "    loss           : 0.23672673354546228\n",
      "    my_metric      : 0.9025682471264367\n",
      "    f1             : 0.9037053976911397\n",
      "    balanced_accuracy: 0.9102942882339996\n",
      "    precision      : 0.9135920467985219\n",
      "    recall         : 0.9025682471264367\n",
      "    val_loss       : 0.6955178268253803\n",
      "    val_my_metric  : 0.7890625\n",
      "    val_f1         : 0.7886237684729064\n",
      "    val_balanced_accuracy: 0.7905865147783251\n",
      "    val_precision  : 0.7948384856176172\n",
      "    val_recall     : 0.7890625\n"
     ]
    },
    {
     "name": "stdout",
     "output_type": "stream",
     "text": [
      "Model has not improved in -------------| 183 epochs\n"
     ]
    },
    {
     "name": "stderr",
     "output_type": "stream",
     "text": [
      "    epoch          : 285\n",
      "    loss           : 0.2312115579843521\n",
      "    my_metric      : 0.8963421934865899\n",
      "    f1             : 0.8967886693204883\n",
      "    balanced_accuracy: 0.9006450050319865\n",
      "    precision      : 0.9020199597946136\n",
      "    recall         : 0.8963421934865899\n",
      "    val_loss       : 1.3947205245494843\n",
      "    val_my_metric  : 0.640625\n",
      "    val_f1         : 0.5999615359494391\n",
      "    val_balanced_accuracy: 0.6456319407083526\n",
      "    val_precision  : 0.5868160974067046\n",
      "    val_recall     : 0.640625\n"
     ]
    },
    {
     "name": "stdout",
     "output_type": "stream",
     "text": [
      "Model has not improved in -------------| 184 epochs\n"
     ]
    },
    {
     "name": "stderr",
     "output_type": "stream",
     "text": [
      "    epoch          : 286\n",
      "    loss           : 0.21995688271191385\n",
      "    my_metric      : 0.9123263888888888\n",
      "    f1             : 0.9126833318151336\n",
      "    balanced_accuracy: 0.9145531789201059\n",
      "    precision      : 0.9161580341642406\n",
      "    recall         : 0.9123263888888888\n",
      "    val_loss       : 0.7179516144096851\n",
      "    val_my_metric  : 0.79296875\n",
      "    val_f1         : 0.7942880553304692\n",
      "    val_balanced_accuracy: 0.79507816046609\n",
      "    val_precision  : 0.7996092547336823\n",
      "    val_recall     : 0.79296875\n"
     ]
    },
    {
     "name": "stdout",
     "output_type": "stream",
     "text": [
      "Model has not improved in -------------| 185 epochs\n"
     ]
    },
    {
     "name": "stderr",
     "output_type": "stream",
     "text": [
      "    epoch          : 287\n",
      "    loss           : 0.22340263177951178\n",
      "    my_metric      : 0.9055316091954023\n",
      "    f1             : 0.9059033433259344\n",
      "    balanced_accuracy: 0.9095886951978858\n",
      "    precision      : 0.9121042996561859\n",
      "    recall         : 0.9055316091954023\n",
      "    val_loss       : 0.7420902773737907\n",
      "    val_my_metric  : 0.71484375\n",
      "    val_f1         : 0.6870694260659049\n",
      "    val_balanced_accuracy: 0.6490152598606436\n",
      "    val_precision  : 0.6673815724206349\n",
      "    val_recall     : 0.71484375\n"
     ]
    },
    {
     "name": "stdout",
     "output_type": "stream",
     "text": [
      "Model has not improved in -------------| 186 epochs\n"
     ]
    },
    {
     "name": "stderr",
     "output_type": "stream",
     "text": [
      "    epoch          : 288\n",
      "    loss           : 0.22592517650789684\n",
      "    my_metric      : 0.8989463601532566\n",
      "    f1             : 0.8994056103082735\n",
      "    balanced_accuracy: 0.9030148126244524\n",
      "    precision      : 0.9053036957248679\n",
      "    recall         : 0.8989463601532566\n",
      "    val_loss       : 0.7682199627161026\n",
      "    val_my_metric  : 0.73046875\n",
      "    val_f1         : 0.7341113555768675\n",
      "    val_balanced_accuracy: 0.7503485576923077\n",
      "    val_precision  : 0.764924945967936\n",
      "    val_recall     : 0.73046875\n"
     ]
    },
    {
     "name": "stdout",
     "output_type": "stream",
     "text": [
      "Model has not improved in -------------| 187 epochs\n"
     ]
    },
    {
     "name": "stderr",
     "output_type": "stream",
     "text": [
      "    epoch          : 289\n",
      "    loss           : 0.2253397214743826\n",
      "    my_metric      : 0.9069384578544061\n",
      "    f1             : 0.9071786714534517\n",
      "    balanced_accuracy: 0.9099459883329294\n",
      "    precision      : 0.9110124938206072\n",
      "    recall         : 0.9069384578544061\n",
      "    val_loss       : 0.8433475643396378\n",
      "    val_my_metric  : 0.6484375\n",
      "    val_f1         : 0.6482242922500614\n",
      "    val_balanced_accuracy: 0.6098966087936677\n",
      "    val_precision  : 0.6606542487684729\n",
      "    val_recall     : 0.6484375\n"
     ]
    },
    {
     "name": "stdout",
     "output_type": "stream",
     "text": [
      "Model has not improved in -------------| 188 epochs\n"
     ]
    },
    {
     "name": "stderr",
     "output_type": "stream",
     "text": [
      "    epoch          : 290\n",
      "    loss           : 0.22952934271759456\n",
      "    my_metric      : 0.9008620689655172\n",
      "    f1             : 0.9012254502424882\n",
      "    balanced_accuracy: 0.9052429284358231\n",
      "    precision      : 0.9089387485971441\n",
      "    recall         : 0.9008620689655172\n",
      "    val_loss       : 1.2465248107910156\n",
      "    val_my_metric  : 0.68359375\n",
      "    val_f1         : 0.6850058802535361\n",
      "    val_balanced_accuracy: 0.6852083576388345\n",
      "    val_precision  : 0.6904529789593055\n",
      "    val_recall     : 0.68359375\n"
     ]
    },
    {
     "name": "stdout",
     "output_type": "stream",
     "text": [
      "Model has not improved in -------------| 189 epochs\n"
     ]
    },
    {
     "name": "stderr",
     "output_type": "stream",
     "text": [
      "    epoch          : 291\n",
      "    loss           : 0.24867218774225977\n",
      "    my_metric      : 0.901370929118774\n",
      "    f1             : 0.9015879246952393\n",
      "    balanced_accuracy: 0.9046685820061078\n",
      "    precision      : 0.9064483606387174\n",
      "    recall         : 0.901370929118774\n",
      "    val_loss       : 0.7097640633583069\n",
      "    val_my_metric  : 0.734375\n",
      "    val_f1         : 0.7072539841688239\n",
      "    val_balanced_accuracy: 0.6713858906221335\n",
      "    val_precision  : 0.6898075097495895\n",
      "    val_recall     : 0.734375\n"
     ]
    },
    {
     "name": "stdout",
     "output_type": "stream",
     "text": [
      "Model has not improved in -------------| 190 epochs\n"
     ]
    },
    {
     "name": "stderr",
     "output_type": "stream",
     "text": [
      "    epoch          : 292\n",
      "    loss           : 0.2170313373208046\n",
      "    my_metric      : 0.9062200670498084\n",
      "    f1             : 0.9065060443255738\n",
      "    balanced_accuracy: 0.9081683882283902\n",
      "    precision      : 0.9105108817313646\n",
      "    recall         : 0.9062200670498084\n",
      "    val_loss       : 0.8081183061003685\n",
      "    val_my_metric  : 0.7109375\n",
      "    val_f1         : 0.7159872642894989\n",
      "    val_balanced_accuracy: 0.7269854676104677\n",
      "    val_precision  : 0.7452049161010558\n",
      "    val_recall     : 0.7109375\n"
     ]
    },
    {
     "name": "stdout",
     "output_type": "stream",
     "text": [
      "Model has not improved in -------------| 191 epochs\n"
     ]
    },
    {
     "name": "stderr",
     "output_type": "stream",
     "text": [
      "    epoch          : 293\n",
      "    loss           : 0.24299781024456024\n",
      "    my_metric      : 0.9048431513409962\n",
      "    f1             : 0.9051870673202355\n",
      "    balanced_accuracy: 0.907992700093889\n",
      "    precision      : 0.9087742557829043\n",
      "    recall         : 0.9048431513409962\n",
      "    val_loss       : 0.7812030166387558\n",
      "    val_my_metric  : 0.70703125\n",
      "    val_f1         : 0.7028678976278995\n",
      "    val_balanced_accuracy: 0.7053894040311697\n",
      "    val_precision  : 0.7303049596750768\n",
      "    val_recall     : 0.70703125\n"
     ]
    },
    {
     "name": "stdout",
     "output_type": "stream",
     "text": [
      "Model has not improved in -------------| 192 epochs\n"
     ]
    },
    {
     "name": "stderr",
     "output_type": "stream",
     "text": [
      "    epoch          : 294\n",
      "    loss           : 0.23191993435223898\n",
      "    my_metric      : 0.8963421934865899\n",
      "    f1             : 0.8966373124128945\n",
      "    balanced_accuracy: 0.8990628743055993\n",
      "    precision      : 0.9019705061808284\n",
      "    recall         : 0.8963421934865899\n",
      "    val_loss       : 0.642685467377305\n",
      "    val_my_metric  : 0.78515625\n",
      "    val_f1         : 0.7849961452194018\n",
      "    val_balanced_accuracy: 0.7808684371184371\n",
      "    val_precision  : 0.7879460435791841\n",
      "    val_recall     : 0.78515625\n"
     ]
    },
    {
     "name": "stdout",
     "output_type": "stream",
     "text": [
      "Model has not improved in -------------| 193 epochs\n"
     ]
    },
    {
     "name": "stderr",
     "output_type": "stream",
     "text": [
      "    epoch          : 295\n",
      "    loss           : 0.22274303601847756\n",
      "    my_metric      : 0.9065792624521074\n",
      "    f1             : 0.9068356839679788\n",
      "    balanced_accuracy: 0.9096200871320096\n",
      "    precision      : 0.9119538353532446\n",
      "    recall         : 0.9065792624521074\n",
      "    val_loss       : 1.059156358242035\n",
      "    val_my_metric  : 0.72265625\n",
      "    val_f1         : 0.7178948526869509\n",
      "    val_balanced_accuracy: 0.7228839340703401\n",
      "    val_precision  : 0.7494924721134397\n",
      "    val_recall     : 0.72265625\n"
     ]
    },
    {
     "name": "stdout",
     "output_type": "stream",
     "text": [
      "Model has not improved in -------------| 194 epochs\n"
     ]
    },
    {
     "name": "stderr",
     "output_type": "stream",
     "text": [
      "    epoch          : 296\n",
      "    loss           : 0.2222453902165095\n",
      "    my_metric      : 0.9173551245210727\n",
      "    f1             : 0.9176271678151751\n",
      "    balanced_accuracy: 0.9205810506705121\n",
      "    precision      : 0.9214963829770052\n",
      "    recall         : 0.9173551245210727\n",
      "    val_loss       : 0.7007874697446823\n",
      "    val_my_metric  : 0.72265625\n",
      "    val_f1         : 0.7275262778144214\n",
      "    val_balanced_accuracy: 0.7452748326941876\n",
      "    val_precision  : 0.7601492745535714\n",
      "    val_recall     : 0.72265625\n"
     ]
    },
    {
     "name": "stdout",
     "output_type": "stream",
     "text": [
      "Model has not improved in -------------| 195 epochs\n"
     ]
    },
    {
     "name": "stderr",
     "output_type": "stream",
     "text": [
      "    epoch          : 297\n",
      "    loss           : 0.23736612664328682\n",
      "    my_metric      : 0.900323275862069\n",
      "    f1             : 0.9005966158251795\n",
      "    balanced_accuracy: 0.9032268958264967\n",
      "    precision      : 0.9052444875014302\n",
      "    recall         : 0.900323275862069\n",
      "    val_loss       : 1.1419863253831863\n",
      "    val_my_metric  : 0.6015625\n",
      "    val_f1         : 0.5887356900424249\n",
      "    val_balanced_accuracy: 0.6000351922209541\n",
      "    val_precision  : 0.5820483691088404\n",
      "    val_recall     : 0.6015625\n"
     ]
    },
    {
     "name": "stdout",
     "output_type": "stream",
     "text": [
      "Model has not improved in -------------| 196 epochs\n"
     ]
    },
    {
     "name": "stderr",
     "output_type": "stream",
     "text": [
      "    epoch          : 298\n",
      "    loss           : 0.23011228607760537\n",
      "    my_metric      : 0.8996348180076629\n",
      "    f1             : 0.8999610776772493\n",
      "    balanced_accuracy: 0.9036098912236429\n",
      "    precision      : 0.9059458941028166\n",
      "    recall         : 0.8996348180076629\n",
      "    val_loss       : 0.8708163350820541\n",
      "    val_my_metric  : 0.68359375\n",
      "    val_f1         : 0.6791177858883078\n",
      "    val_balanced_accuracy: 0.6834077380952381\n",
      "    val_precision  : 0.7082152267814033\n",
      "    val_recall     : 0.68359375\n"
     ]
    },
    {
     "name": "stdout",
     "output_type": "stream",
     "text": [
      "Model has not improved in -------------| 197 epochs\n"
     ]
    },
    {
     "name": "stderr",
     "output_type": "stream",
     "text": [
      "    epoch          : 299\n",
      "    loss           : 0.24110175751977497\n",
      "    my_metric      : 0.8840098180076628\n",
      "    f1             : 0.8854363985909015\n",
      "    balanced_accuracy: 0.8924574247092014\n",
      "    precision      : 0.8963409205183756\n",
      "    recall         : 0.8840098180076628\n",
      "    val_loss       : 0.7182715386152267\n",
      "    val_my_metric  : 0.7109375\n",
      "    val_f1         : 0.7146939567265966\n",
      "    val_balanced_accuracy: 0.736196327058396\n",
      "    val_precision  : 0.7574853447411212\n",
      "    val_recall     : 0.7109375\n"
     ]
    },
    {
     "name": "stdout",
     "output_type": "stream",
     "text": [
      "Model has not improved in -------------| 198 epochs\n"
     ]
    },
    {
     "name": "stderr",
     "output_type": "stream",
     "text": [
      "    epoch          : 300\n",
      "    loss           : 0.2379170200890965\n",
      "    my_metric      : 0.905202346743295\n",
      "    f1             : 0.905439963486597\n",
      "    balanced_accuracy: 0.9085896052429749\n",
      "    precision      : 0.910413341977017\n",
      "    recall         : 0.905202346743295\n",
      "    val_loss       : 0.7074194364249706\n",
      "    val_my_metric  : 0.76953125\n",
      "    val_f1         : 0.7699968725823549\n",
      "    val_balanced_accuracy: 0.768742991882988\n",
      "    val_precision  : 0.7720889221549677\n",
      "    val_recall     : 0.76953125\n",
      "Saving checkpoint: saved/MaskedVolume_3d/0619_200535/checkpoint-epoch300.pth ...\n"
     ]
    },
    {
     "name": "stdout",
     "output_type": "stream",
     "text": [
      "Model has not improved in -------------| 199 epochs\n"
     ]
    },
    {
     "name": "stderr",
     "output_type": "stream",
     "text": [
      "    epoch          : 301\n",
      "    loss           : 0.2285544839170244\n",
      "    my_metric      : 0.9024185823754789\n",
      "    f1             : 0.9026437743824468\n",
      "    balanced_accuracy: 0.9057097546084427\n",
      "    precision      : 0.9070215690483211\n",
      "    recall         : 0.9024185823754789\n",
      "    val_loss       : 0.6993070575408638\n",
      "    val_my_metric  : 0.76953125\n",
      "    val_f1         : 0.7691196270633094\n",
      "    val_balanced_accuracy: 0.7743545015603839\n",
      "    val_precision  : 0.779480074827793\n",
      "    val_recall     : 0.76953125\n"
     ]
    },
    {
     "name": "stdout",
     "output_type": "stream",
     "text": [
      "Model has not improved in -------------| 200 epochs\n"
     ]
    },
    {
     "name": "stderr",
     "output_type": "stream",
     "text": [
      "    epoch          : 302\n",
      "    loss           : 0.2303242070807351\n",
      "    my_metric      : 0.9010117337164751\n",
      "    f1             : 0.9012684475834933\n",
      "    balanced_accuracy: 0.9038744489760495\n",
      "    precision      : 0.904672128444842\n",
      "    recall         : 0.9010117337164751\n",
      "    val_loss       : 1.6397167146205902\n",
      "    val_my_metric  : 0.61328125\n",
      "    val_f1         : 0.5765774687617994\n",
      "    val_balanced_accuracy: 0.6773997428883577\n",
      "    val_precision  : 0.5785916777188329\n",
      "    val_recall     : 0.61328125\n"
     ]
    },
    {
     "name": "stdout",
     "output_type": "stream",
     "text": [
      "Model has not improved in -------------| 201 epochs\n"
     ]
    },
    {
     "name": "stderr",
     "output_type": "stream",
     "text": [
      "    epoch          : 303\n",
      "    loss           : 0.21880710704459083\n",
      "    my_metric      : 0.9031070402298851\n",
      "    f1             : 0.9034620969052622\n",
      "    balanced_accuracy: 0.9066267101274822\n",
      "    precision      : 0.9094059865614964\n",
      "    recall         : 0.9031070402298851\n",
      "    val_loss       : 0.7912477254867554\n",
      "    val_my_metric  : 0.72265625\n",
      "    val_f1         : 0.7188622592784404\n",
      "    val_balanced_accuracy: 0.7227732620243397\n",
      "    val_precision  : 0.7464591086102237\n",
      "    val_recall     : 0.72265625\n"
     ]
    },
    {
     "name": "stdout",
     "output_type": "stream",
     "text": [
      "Model has not improved in -------------| 202 epochs\n"
     ]
    },
    {
     "name": "stderr",
     "output_type": "stream",
     "text": [
      "    epoch          : 304\n",
      "    loss           : 0.22795392158958647\n",
      "    my_metric      : 0.8990960249042145\n",
      "    f1             : 0.8993556619163068\n",
      "    balanced_accuracy: 0.9007632657413048\n",
      "    precision      : 0.9022747710021554\n",
      "    recall         : 0.8990960249042145\n",
      "    val_loss       : 0.7206989973783493\n",
      "    val_my_metric  : 0.7890625\n",
      "    val_f1         : 0.7898351804374635\n",
      "    val_balanced_accuracy: 0.7911864741331693\n",
      "    val_precision  : 0.7949032320956242\n",
      "    val_recall     : 0.7890625\n"
     ]
    },
    {
     "name": "stdout",
     "output_type": "stream",
     "text": [
      "Model has not improved in -------------| 203 epochs\n"
     ]
    },
    {
     "name": "stderr",
     "output_type": "stream",
     "text": [
      "    epoch          : 305\n",
      "    loss           : 0.25103839486837387\n",
      "    my_metric      : 0.8911338601532566\n",
      "    f1             : 0.8913700832645038\n",
      "    balanced_accuracy: 0.8937961828269874\n",
      "    precision      : 0.8962445843153299\n",
      "    recall         : 0.8911338601532566\n",
      "    val_loss       : 0.6564430296421051\n",
      "    val_my_metric  : 0.7265625\n",
      "    val_f1         : 0.7546061834895855\n",
      "    val_balanced_accuracy: 0.7250946695683538\n",
      "    val_precision  : 0.7939918076951847\n",
      "    val_recall     : 0.7265625\n"
     ]
    },
    {
     "name": "stdout",
     "output_type": "stream",
     "text": [
      "Model has not improved in -------------| 204 epochs\n"
     ]
    },
    {
     "name": "stderr",
     "output_type": "stream",
     "text": [
      "    epoch          : 306\n",
      "    loss           : 0.2509975946611828\n",
      "    my_metric      : 0.899275622605364\n",
      "    f1             : 0.8998677644749628\n",
      "    balanced_accuracy: 0.9051493151182373\n",
      "    precision      : 0.9086661622745539\n",
      "    recall         : 0.899275622605364\n",
      "    val_loss       : 0.7623907625675201\n",
      "    val_my_metric  : 0.70703125\n",
      "    val_f1         : 0.704188811223187\n",
      "    val_balanced_accuracy: 0.7115553053053052\n",
      "    val_precision  : 0.7429797087104073\n",
      "    val_recall     : 0.70703125\n"
     ]
    },
    {
     "name": "stdout",
     "output_type": "stream",
     "text": [
      "Model has not improved in -------------| 205 epochs\n"
     ]
    },
    {
     "name": "stderr",
     "output_type": "stream",
     "text": [
      "    epoch          : 307\n",
      "    loss           : 0.24155402763022316\n",
      "    my_metric      : 0.9001436781609196\n",
      "    f1             : 0.9003233593226894\n",
      "    balanced_accuracy: 0.9010621271716795\n",
      "    precision      : 0.9031445440306113\n",
      "    recall         : 0.9001436781609196\n",
      "    val_loss       : 0.6565769854933023\n",
      "    val_my_metric  : 0.76953125\n",
      "    val_f1         : 0.7686247639067006\n",
      "    val_balanced_accuracy: 0.766894890898686\n",
      "    val_precision  : 0.7701270727359657\n",
      "    val_recall     : 0.76953125\n"
     ]
    },
    {
     "name": "stdout",
     "output_type": "stream",
     "text": [
      "Model has not improved in -------------| 206 epochs\n"
     ]
    },
    {
     "name": "stderr",
     "output_type": "stream",
     "text": [
      "    epoch          : 308\n",
      "    loss           : 0.23469147500064638\n",
      "    my_metric      : 0.8963421934865899\n",
      "    f1             : 0.8964029637324189\n",
      "    balanced_accuracy: 0.8977699020088354\n",
      "    precision      : 0.9005700090946226\n",
      "    recall         : 0.8963421934865899\n",
      "    val_loss       : 0.674770824611187\n",
      "    val_my_metric  : 0.73046875\n",
      "    val_f1         : 0.7575620009507097\n",
      "    val_balanced_accuracy: 0.7311493347338935\n",
      "    val_precision  : 0.7947285671737536\n",
      "    val_recall     : 0.73046875\n"
     ]
    },
    {
     "name": "stdout",
     "output_type": "stream",
     "text": [
      "Model has not improved in -------------| 207 epochs\n"
     ]
    },
    {
     "name": "stderr",
     "output_type": "stream",
     "text": [
      "    epoch          : 309\n",
      "    loss           : 0.2279854342341423\n",
      "    my_metric      : 0.8954741379310344\n",
      "    f1             : 0.895595510236475\n",
      "    balanced_accuracy: 0.8969793587502202\n",
      "    precision      : 0.8988117567269378\n",
      "    recall         : 0.8954741379310344\n",
      "    val_loss       : 0.8938087671995163\n",
      "    val_my_metric  : 0.72265625\n",
      "    val_f1         : 0.7271640440441176\n",
      "    val_balanced_accuracy: 0.7443826668598472\n",
      "    val_precision  : 0.7570865217192082\n",
      "    val_recall     : 0.72265625\n"
     ]
    },
    {
     "name": "stdout",
     "output_type": "stream",
     "text": [
      "Model has not improved in -------------| 208 epochs\n"
     ]
    },
    {
     "name": "stderr",
     "output_type": "stream",
     "text": [
      "    epoch          : 310\n",
      "    loss           : 0.2317068800330162\n",
      "    my_metric      : 0.9067588601532566\n",
      "    f1             : 0.9068188978288096\n",
      "    balanced_accuracy: 0.9082590253729913\n",
      "    precision      : 0.9094586990359126\n",
      "    recall         : 0.9067588601532566\n",
      "    val_loss       : 0.6546219438314438\n",
      "    val_my_metric  : 0.78125\n",
      "    val_f1         : 0.7820395597050009\n",
      "    val_balanced_accuracy: 0.7846515004692776\n",
      "    val_precision  : 0.7919528066012441\n",
      "    val_recall     : 0.78125\n"
     ]
    },
    {
     "name": "stdout",
     "output_type": "stream",
     "text": [
      "Model has not improved in -------------| 209 epochs\n"
     ]
    },
    {
     "name": "stderr",
     "output_type": "stream",
     "text": [
      "    epoch          : 311\n",
      "    loss           : 0.24648650818400913\n",
      "    my_metric      : 0.9048431513409962\n",
      "    f1             : 0.9055781544387769\n",
      "    balanced_accuracy: 0.9126577757042692\n",
      "    precision      : 0.9132200549372913\n",
      "    recall         : 0.9048431513409962\n",
      "    val_loss       : 0.8295621573925018\n",
      "    val_my_metric  : 0.66796875\n",
      "    val_f1         : 0.6247916707475532\n",
      "    val_balanced_accuracy: 0.6661472922502334\n",
      "    val_precision  : 0.6091784519325704\n",
      "    val_recall     : 0.66796875\n"
     ]
    },
    {
     "name": "stdout",
     "output_type": "stream",
     "text": [
      "Model has not improved in -------------| 210 epochs\n"
     ]
    },
    {
     "name": "stderr",
     "output_type": "stream",
     "text": [
      "    epoch          : 312\n",
      "    loss           : 0.22938823617166942\n",
      "    my_metric      : 0.8944264846743296\n",
      "    f1             : 0.8945754822052248\n",
      "    balanced_accuracy: 0.8954639730080619\n",
      "    precision      : 0.8970207874808848\n",
      "    recall         : 0.8944264846743296\n",
      "    val_loss       : 0.6724755372852087\n",
      "    val_my_metric  : 0.765625\n",
      "    val_f1         : 0.7631615399538193\n",
      "    val_balanced_accuracy: 0.766233236913384\n",
      "    val_precision  : 0.7720468291788856\n",
      "    val_recall     : 0.765625\n"
     ]
    },
    {
     "name": "stdout",
     "output_type": "stream",
     "text": [
      "Model has not improved in -------------| 211 epochs\n"
     ]
    },
    {
     "name": "stderr",
     "output_type": "stream",
     "text": [
      "    epoch          : 313\n",
      "    loss           : 0.21985445502731535\n",
      "    my_metric      : 0.9090038314176245\n",
      "    f1             : 0.909317790604116\n",
      "    balanced_accuracy: 0.9127229850595331\n",
      "    precision      : 0.9140021653837748\n",
      "    recall         : 0.9090038314176245\n",
      "    val_loss       : 0.7821529135107994\n",
      "    val_my_metric  : 0.7109375\n",
      "    val_f1         : 0.7163683316611098\n",
      "    val_balanced_accuracy: 0.7352123096202043\n",
      "    val_precision  : 0.7545929409475711\n",
      "    val_recall     : 0.7109375\n"
     ]
    },
    {
     "name": "stdout",
     "output_type": "stream",
     "text": [
      "Model has not improved in -------------| 212 epochs\n"
     ]
    },
    {
     "name": "stderr",
     "output_type": "stream",
     "text": [
      "    epoch          : 314\n",
      "    loss           : 0.25089599357710946\n",
      "    my_metric      : 0.8907746647509579\n",
      "    f1             : 0.8913932504521173\n",
      "    balanced_accuracy: 0.8961112280255387\n",
      "    precision      : 0.8985152252276569\n",
      "    recall         : 0.8907746647509579\n",
      "    val_loss       : 0.9220465123653412\n",
      "    val_my_metric  : 0.62890625\n",
      "    val_f1         : 0.6296832530269335\n",
      "    val_balanced_accuracy: 0.6309374204528178\n",
      "    val_precision  : 0.6355866863253543\n",
      "    val_recall     : 0.62890625\n"
     ]
    },
    {
     "name": "stdout",
     "output_type": "stream",
     "text": [
      "Model has not improved in -------------| 213 epochs\n"
     ]
    },
    {
     "name": "stderr",
     "output_type": "stream",
     "text": [
      "    epoch          : 315\n",
      "    loss           : 0.21038697163263956\n",
      "    my_metric      : 0.9095426245210727\n",
      "    f1             : 0.9102016248912148\n",
      "    balanced_accuracy: 0.9127872782132109\n",
      "    precision      : 0.9146294384896295\n",
      "    recall         : 0.9095426245210727\n",
      "    val_loss       : 0.7955701351165771\n",
      "    val_my_metric  : 0.70703125\n",
      "    val_f1         : 0.7117828781619089\n",
      "    val_balanced_accuracy: 0.7299961041322272\n",
      "    val_precision  : 0.742626499686889\n",
      "    val_recall     : 0.70703125\n"
     ]
    },
    {
     "name": "stdout",
     "output_type": "stream",
     "text": [
      "Model has not improved in -------------| 214 epochs\n"
     ]
    },
    {
     "name": "stderr",
     "output_type": "stream",
     "text": [
      "    epoch          : 316\n",
      "    loss           : 0.22890661574072307\n",
      "    my_metric      : 0.9117875957854407\n",
      "    f1             : 0.9119552267634098\n",
      "    balanced_accuracy: 0.913843922142062\n",
      "    precision      : 0.9152672338024459\n",
      "    recall         : 0.9117875957854407\n",
      "    val_loss       : 1.0343569666147232\n",
      "    val_my_metric  : 0.6875\n",
      "    val_f1         : 0.6614622411314847\n",
      "    val_balanced_accuracy: 0.6267828482233376\n",
      "    val_precision  : 0.6454024800902766\n",
      "    val_recall     : 0.6875\n"
     ]
    },
    {
     "name": "stdout",
     "output_type": "stream",
     "text": [
      "Model has not improved in -------------| 215 epochs\n"
     ]
    },
    {
     "name": "stderr",
     "output_type": "stream",
     "text": [
      "    epoch          : 317\n",
      "    loss           : 0.22110031379593742\n",
      "    my_metric      : 0.9071180555555556\n",
      "    f1             : 0.9073015557789704\n",
      "    balanced_accuracy: 0.9090628341731901\n",
      "    precision      : 0.9105678903535365\n",
      "    recall         : 0.9071180555555556\n",
      "    val_loss       : 0.6602015420794487\n",
      "    val_my_metric  : 0.796875\n",
      "    val_f1         : 0.7978604895010276\n",
      "    val_balanced_accuracy: 0.7969335923935071\n",
      "    val_precision  : 0.8015302214635854\n",
      "    val_recall     : 0.796875\n"
     ]
    },
    {
     "name": "stdout",
     "output_type": "stream",
     "text": [
      "Model has not improved in -------------| 216 epochs\n"
     ]
    },
    {
     "name": "stderr",
     "output_type": "stream",
     "text": [
      "    epoch          : 318\n",
      "    loss           : 0.2287430754966206\n",
      "    my_metric      : 0.8998144157088122\n",
      "    f1             : 0.8999943874495204\n",
      "    balanced_accuracy: 0.9008487140638606\n",
      "    precision      : 0.9019166135887517\n",
      "    recall         : 0.8998144157088122\n",
      "    val_loss       : 1.0303191840648651\n",
      "    val_my_metric  : 0.70703125\n",
      "    val_f1         : 0.7112666688643526\n",
      "    val_balanced_accuracy: 0.7265255240027044\n",
      "    val_precision  : 0.7393282824584803\n",
      "    val_recall     : 0.70703125\n"
     ]
    },
    {
     "name": "stdout",
     "output_type": "stream",
     "text": [
      "Model has not improved in -------------| 217 epochs\n"
     ]
    },
    {
     "name": "stderr",
     "output_type": "stream",
     "text": [
      "    epoch          : 319\n",
      "    loss           : 0.2185506373643875\n",
      "    my_metric      : 0.9017301245210727\n",
      "    f1             : 0.9019131411461729\n",
      "    balanced_accuracy: 0.9042380236297587\n",
      "    precision      : 0.9048382039251786\n",
      "    recall         : 0.9017301245210727\n",
      "    val_loss       : 0.7182270903140306\n",
      "    val_my_metric  : 0.79296875\n",
      "    val_f1         : 0.7932134303610907\n",
      "    val_balanced_accuracy: 0.7940157025664616\n",
      "    val_precision  : 0.7956112356966247\n",
      "    val_recall     : 0.79296875\n"
     ]
    },
    {
     "name": "stdout",
     "output_type": "stream",
     "text": [
      "Model has not improved in -------------| 218 epochs\n"
     ]
    },
    {
     "name": "stderr",
     "output_type": "stream",
     "text": [
      "    epoch          : 320\n",
      "    loss           : 0.2332485533422894\n",
      "    my_metric      : 0.8944264846743296\n",
      "    f1             : 0.8949320051432404\n",
      "    balanced_accuracy: 0.8993883772062963\n",
      "    precision      : 0.9020155211073215\n",
      "    recall         : 0.8944264846743296\n",
      "    val_loss       : 0.9470774978399277\n",
      "    val_my_metric  : 0.69921875\n",
      "    val_f1         : 0.6992349664224664\n",
      "    val_balanced_accuracy: 0.739520679036808\n",
      "    val_precision  : 0.7826741536458334\n",
      "    val_recall     : 0.69921875\n"
     ]
    },
    {
     "name": "stdout",
     "output_type": "stream",
     "text": [
      "Model has not improved in -------------| 219 epochs\n"
     ]
    },
    {
     "name": "stderr",
     "output_type": "stream",
     "text": [
      "    epoch          : 321\n",
      "    loss           : 0.22654698623551262\n",
      "    my_metric      : 0.9015505268199233\n",
      "    f1             : 0.9017267076359801\n",
      "    balanced_accuracy: 0.9034256813371394\n",
      "    precision      : 0.9048860197474232\n",
      "    recall         : 0.9015505268199233\n",
      "    val_loss       : 0.9310155883431435\n",
      "    val_my_metric  : 0.68359375\n",
      "    val_f1         : 0.6836944713782949\n",
      "    val_balanced_accuracy: 0.6437349077562059\n",
      "    val_precision  : 0.6880883709030179\n",
      "    val_recall     : 0.68359375\n"
     ]
    },
    {
     "name": "stdout",
     "output_type": "stream",
     "text": [
      "Model has not improved in -------------| 220 epochs\n"
     ]
    },
    {
     "name": "stderr",
     "output_type": "stream",
     "text": [
      "    epoch          : 322\n",
      "    loss           : 0.23155431780550215\n",
      "    my_metric      : 0.9067588601532566\n",
      "    f1             : 0.9069125390955186\n",
      "    balanced_accuracy: 0.9082192918280708\n",
      "    precision      : 0.9113309744544004\n",
      "    recall         : 0.9067588601532566\n",
      "    val_loss       : 0.7143984851427376\n",
      "    val_my_metric  : 0.7890625\n",
      "    val_f1         : 0.7889079673657302\n",
      "    val_balanced_accuracy: 0.7902016249416138\n",
      "    val_precision  : 0.7936143395935961\n",
      "    val_recall     : 0.7890625\n"
     ]
    },
    {
     "name": "stdout",
     "output_type": "stream",
     "text": [
      "Model has not improved in -------------| 221 epochs\n"
     ]
    },
    {
     "name": "stderr",
     "output_type": "stream",
     "text": [
      "    epoch          : 323\n",
      "    loss           : 0.21801282299889457\n",
      "    my_metric      : 0.9109195402298851\n",
      "    f1             : 0.9112335293586687\n",
      "    balanced_accuracy: 0.9146051605913503\n",
      "    precision      : 0.9165185167530959\n",
      "    recall         : 0.9109195402298851\n",
      "    val_loss       : 0.6493344902992249\n",
      "    val_my_metric  : 0.6875\n",
      "    val_f1         : 0.6446429208055683\n",
      "    val_balanced_accuracy: 0.6809369605490295\n",
      "    val_precision  : 0.6261117955564265\n",
      "    val_recall     : 0.6875\n"
     ]
    },
    {
     "name": "stdout",
     "output_type": "stream",
     "text": [
      "Model has not improved in -------------| 222 epochs\n"
     ]
    },
    {
     "name": "stderr",
     "output_type": "stream",
     "text": [
      "    epoch          : 324\n",
      "    loss           : 0.2431362039513058\n",
      "    my_metric      : 0.892510775862069\n",
      "    f1             : 0.8926056065254898\n",
      "    balanced_accuracy: 0.8932385127216484\n",
      "    precision      : 0.894658836141202\n",
      "    recall         : 0.892510775862069\n",
      "    val_loss       : 0.7356276027858257\n",
      "    val_my_metric  : 0.7734375\n",
      "    val_f1         : 0.774626141928003\n",
      "    val_balanced_accuracy: 0.7724004154447703\n",
      "    val_precision  : 0.7778210799405969\n",
      "    val_recall     : 0.7734375\n"
     ]
    },
    {
     "name": "stdout",
     "output_type": "stream",
     "text": [
      "Model has not improved in -------------| 223 epochs\n"
     ]
    },
    {
     "name": "stderr",
     "output_type": "stream",
     "text": [
      "    epoch          : 325\n",
      "    loss           : 0.2172417582737075\n",
      "    my_metric      : 0.9138829022988505\n",
      "    f1             : 0.913840558243457\n",
      "    balanced_accuracy: 0.9149534427661791\n",
      "    precision      : 0.9173844934006996\n",
      "    recall         : 0.9138829022988505\n",
      "    val_loss       : 0.666057638823986\n",
      "    val_my_metric  : 0.76953125\n",
      "    val_f1         : 0.7710079788621507\n",
      "    val_balanced_accuracy: 0.7702380952380953\n",
      "    val_precision  : 0.7777605873727791\n",
      "    val_recall     : 0.76953125\n"
     ]
    },
    {
     "name": "stdout",
     "output_type": "stream",
     "text": [
      "Model has not improved in -------------| 224 epochs\n"
     ]
    },
    {
     "name": "stderr",
     "output_type": "stream",
     "text": [
      "    epoch          : 326\n",
      "    loss           : 0.24308857404523426\n",
      "    my_metric      : 0.8959829980842913\n",
      "    f1             : 0.8967663113836868\n",
      "    balanced_accuracy: 0.9017628345207341\n",
      "    precision      : 0.9041837206926253\n",
      "    recall         : 0.8959829980842913\n",
      "    val_loss       : 0.7548676878213882\n",
      "    val_my_metric  : 0.65234375\n",
      "    val_f1         : 0.6538322623770916\n",
      "    val_balanced_accuracy: 0.655687837375824\n",
      "    val_precision  : 0.6664072862887518\n",
      "    val_recall     : 0.65234375\n"
     ]
    },
    {
     "name": "stdout",
     "output_type": "stream",
     "text": [
      "Model has not improved in -------------| 225 epochs\n"
     ]
    },
    {
     "name": "stderr",
     "output_type": "stream",
     "text": [
      "    epoch          : 327\n",
      "    loss           : 0.21053175710969502\n",
      "    my_metric      : 0.9126556513409962\n",
      "    f1             : 0.9129083939962188\n",
      "    balanced_accuracy: 0.9149436009330891\n",
      "    precision      : 0.9176501595020995\n",
      "    recall         : 0.9126556513409962\n",
      "    val_loss       : 1.0186739414930344\n",
      "    val_my_metric  : 0.64453125\n",
      "    val_f1         : 0.6451435078079816\n",
      "    val_balanced_accuracy: 0.6031816059757237\n",
      "    val_precision  : 0.6523544157112706\n",
      "    val_recall     : 0.64453125\n"
     ]
    },
    {
     "name": "stdout",
     "output_type": "stream",
     "text": [
      "Model has not improved in -------------| 226 epochs\n"
     ]
    },
    {
     "name": "stderr",
     "output_type": "stream",
     "text": [
      "    epoch          : 328\n",
      "    loss           : 0.24854313416613472\n",
      "    my_metric      : 0.9010117337164751\n",
      "    f1             : 0.9011430330309492\n",
      "    balanced_accuracy: 0.9026399670607081\n",
      "    precision      : 0.9041736920053912\n",
      "    recall         : 0.9010117337164751\n",
      "    val_loss       : 1.052438959479332\n",
      "    val_my_metric  : 0.6640625\n",
      "    val_f1         : 0.6644846364740655\n",
      "    val_balanced_accuracy: 0.6220814313440021\n",
      "    val_precision  : 0.6665377092155289\n",
      "    val_recall     : 0.6640625\n"
     ]
    },
    {
     "name": "stdout",
     "output_type": "stream",
     "text": [
      "Model has not improved in -------------| 227 epochs\n"
     ]
    },
    {
     "name": "stderr",
     "output_type": "stream",
     "text": [
      "    epoch          : 329\n",
      "    loss           : 0.23282250265280405\n",
      "    my_metric      : 0.9109195402298851\n",
      "    f1             : 0.9111411443990173\n",
      "    balanced_accuracy: 0.9144124356600395\n",
      "    precision      : 0.9168027840037323\n",
      "    recall         : 0.9109195402298851\n",
      "    val_loss       : 1.1246951222419739\n",
      "    val_my_metric  : 0.65234375\n",
      "    val_f1         : 0.6527097484160398\n",
      "    val_balanced_accuracy: 0.6922692143206256\n",
      "    val_precision  : 0.7380748178694249\n",
      "    val_recall     : 0.65234375\n"
     ]
    },
    {
     "name": "stdout",
     "output_type": "stream",
     "text": [
      "Model has not improved in -------------| 228 epochs\n"
     ]
    },
    {
     "name": "stderr",
     "output_type": "stream",
     "text": [
      "    epoch          : 330\n",
      "    loss           : 0.21437097299430105\n",
      "    my_metric      : 0.9050227490421455\n",
      "    f1             : 0.9051785170513611\n",
      "    balanced_accuracy: 0.9083133146735192\n",
      "    precision      : 0.9108576048430537\n",
      "    recall         : 0.9050227490421455\n",
      "    val_loss       : 0.8525680601596832\n",
      "    val_my_metric  : 0.625\n",
      "    val_f1         : 0.6607726981885319\n",
      "    val_balanced_accuracy: 0.6217547550924505\n",
      "    val_precision  : 0.8153487810680698\n",
      "    val_recall     : 0.625\n"
     ]
    },
    {
     "name": "stdout",
     "output_type": "stream",
     "text": [
      "Model has not improved in -------------| 229 epochs\n"
     ]
    },
    {
     "name": "stderr",
     "output_type": "stream",
     "text": [
      "    epoch          : 331\n",
      "    loss           : 0.24266159700022805\n",
      "    my_metric      : 0.9022389846743296\n",
      "    f1             : 0.9026875687301943\n",
      "    balanced_accuracy: 0.9068162739530943\n",
      "    precision      : 0.9085311600820238\n",
      "    recall         : 0.9022389846743296\n",
      "    val_loss       : 0.8162052035331726\n",
      "    val_my_metric  : 0.58984375\n",
      "    val_f1         : 0.6028496554841061\n",
      "    val_balanced_accuracy: 0.5669948405321041\n",
      "    val_precision  : 0.6230449373759921\n",
      "    val_recall     : 0.58984375\n"
     ]
    },
    {
     "name": "stdout",
     "output_type": "stream",
     "text": [
      "Model has not improved in -------------| 230 epochs\n"
     ]
    },
    {
     "name": "stderr",
     "output_type": "stream",
     "text": [
      "    epoch          : 332\n",
      "    loss           : 0.2254766763912307\n",
      "    my_metric      : 0.9057112068965518\n",
      "    f1             : 0.9060348477747865\n",
      "    balanced_accuracy: 0.9095895772601372\n",
      "    precision      : 0.9110349226309423\n",
      "    recall         : 0.9057112068965518\n",
      "    val_loss       : 0.6664568055421114\n",
      "    val_my_metric  : 0.7578125\n",
      "    val_f1         : 0.7584707668492499\n",
      "    val_balanced_accuracy: 0.7555199935400159\n",
      "    val_precision  : 0.7597670755432853\n",
      "    val_recall     : 0.7578125\n"
     ]
    },
    {
     "name": "stdout",
     "output_type": "stream",
     "text": [
      "Model has not improved in -------------| 231 epochs\n"
     ]
    },
    {
     "name": "stderr",
     "output_type": "stream",
     "text": [
      "    epoch          : 333\n",
      "    loss           : 0.22650385772188505\n",
      "    my_metric      : 0.9031070402298851\n",
      "    f1             : 0.903243035459753\n",
      "    balanced_accuracy: 0.9053289427890883\n",
      "    precision      : 0.9069105252236604\n",
      "    recall         : 0.9031070402298851\n",
      "    val_loss       : 0.6973018236458302\n",
      "    val_my_metric  : 0.796875\n",
      "    val_f1         : 0.797153009051237\n",
      "    val_balanced_accuracy: 0.797991569931152\n",
      "    val_precision  : 0.8005028476234244\n",
      "    val_recall     : 0.796875\n"
     ]
    },
    {
     "name": "stdout",
     "output_type": "stream",
     "text": [
      "Model has not improved in -------------| 232 epochs\n"
     ]
    },
    {
     "name": "stderr",
     "output_type": "stream",
     "text": [
      "    epoch          : 334\n",
      "    loss           : 0.24293756153848436\n",
      "    my_metric      : 0.8951149425287357\n",
      "    f1             : 0.8956533991667381\n",
      "    balanced_accuracy: 0.900615950674937\n",
      "    precision      : 0.9027832790964934\n",
      "    recall         : 0.8951149425287357\n",
      "    val_loss       : 0.8689648509025574\n",
      "    val_my_metric  : 0.734375\n",
      "    val_f1         : 0.7304097357423895\n",
      "    val_balanced_accuracy: 0.7325756191070593\n",
      "    val_precision  : 0.7591091781119355\n",
      "    val_recall     : 0.734375\n"
     ]
    },
    {
     "name": "stdout",
     "output_type": "stream",
     "text": [
      "Model has not improved in -------------| 233 epochs\n"
     ]
    },
    {
     "name": "stderr",
     "output_type": "stream",
     "text": [
      "    epoch          : 335\n",
      "    loss           : 0.23373462011416754\n",
      "    my_metric      : 0.8949353448275862\n",
      "    f1             : 0.8953054277156856\n",
      "    balanced_accuracy: 0.8988464297955971\n",
      "    precision      : 0.9008107514642689\n",
      "    recall         : 0.8949353448275862\n",
      "    val_loss       : 0.6323956176638603\n",
      "    val_my_metric  : 0.8046875\n",
      "    val_f1         : 0.8051208473738187\n",
      "    val_balanced_accuracy: 0.8035699050898688\n",
      "    val_precision  : 0.808620596168804\n",
      "    val_recall     : 0.8046875\n"
     ]
    },
    {
     "name": "stdout",
     "output_type": "stream",
     "text": [
      "Model has not improved in -------------| 234 epochs\n"
     ]
    },
    {
     "name": "stderr",
     "output_type": "stream",
     "text": [
      "    epoch          : 336\n",
      "    loss           : 0.23100306342045465\n",
      "    my_metric      : 0.9067588601532566\n",
      "    f1             : 0.9071990854638735\n",
      "    balanced_accuracy: 0.9118790534864468\n",
      "    precision      : 0.9144967198170941\n",
      "    recall         : 0.9067588601532566\n",
      "    val_loss       : 1.0322176814079285\n",
      "    val_my_metric  : 0.734375\n",
      "    val_f1         : 0.7311872581035317\n",
      "    val_balanced_accuracy: 0.7363357843137255\n",
      "    val_precision  : 0.761659532859559\n",
      "    val_recall     : 0.734375\n"
     ]
    },
    {
     "name": "stdout",
     "output_type": "stream",
     "text": [
      "Model has not improved in -------------| 235 epochs\n"
     ]
    },
    {
     "name": "stderr",
     "output_type": "stream",
     "text": [
      "    epoch          : 337\n",
      "    loss           : 0.21417089054981867\n",
      "    my_metric      : 0.9121467911877394\n",
      "    f1             : 0.9123028503844728\n",
      "    balanced_accuracy: 0.9147071781218507\n",
      "    precision      : 0.9168165426504395\n",
      "    recall         : 0.9121467911877394\n",
      "    val_loss       : 1.242764800786972\n",
      "    val_my_metric  : 0.6796875\n",
      "    val_f1         : 0.6803680847338935\n",
      "    val_balanced_accuracy: 0.7220133390505441\n",
      "    val_precision  : 0.7661440364268876\n",
      "    val_recall     : 0.6796875\n"
     ]
    },
    {
     "name": "stdout",
     "output_type": "stream",
     "text": [
      "Model has not improved in -------------| 236 epochs\n"
     ]
    },
    {
     "name": "stderr",
     "output_type": "stream",
     "text": [
      "    epoch          : 338\n",
      "    loss           : 0.2220606588655048\n",
      "    my_metric      : 0.9145713601532566\n",
      "    f1             : 0.9146726966458067\n",
      "    balanced_accuracy: 0.915966823858589\n",
      "    precision      : 0.9174643841688764\n",
      "    recall         : 0.9145713601532566\n",
      "    val_loss       : 1.074619472026825\n",
      "    val_my_metric  : 0.65625\n",
      "    val_f1         : 0.6560526633744677\n",
      "    val_balanced_accuracy: 0.6545216686971415\n",
      "    val_precision  : 0.6563452509236454\n",
      "    val_recall     : 0.65625\n"
     ]
    },
    {
     "name": "stdout",
     "output_type": "stream",
     "text": [
      "Model has not improved in -------------| 237 epochs\n"
     ]
    },
    {
     "name": "stderr",
     "output_type": "stream",
     "text": [
      "    epoch          : 339\n",
      "    loss           : 0.22853500727150175\n",
      "    my_metric      : 0.905202346743295\n",
      "    f1             : 0.9054481194466985\n",
      "    balanced_accuracy: 0.9084014068761938\n",
      "    precision      : 0.909522615641923\n",
      "    recall         : 0.905202346743295\n",
      "    val_loss       : 0.7207922860980034\n",
      "    val_my_metric  : 0.72265625\n",
      "    val_f1         : 0.6952492411569134\n",
      "    val_balanced_accuracy: 0.6521068110942332\n",
      "    val_precision  : 0.676799277599669\n",
      "    val_recall     : 0.72265625\n"
     ]
    },
    {
     "name": "stdout",
     "output_type": "stream",
     "text": [
      "Model has not improved in -------------| 238 epochs\n"
     ]
    },
    {
     "name": "stderr",
     "output_type": "stream",
     "text": [
      "    epoch          : 340\n",
      "    loss           : 0.22859195950958464\n",
      "    my_metric      : 0.9065792624521074\n",
      "    f1             : 0.9072374250711888\n",
      "    balanced_accuracy: 0.9120987477992925\n",
      "    precision      : 0.9143980932366289\n",
      "    recall         : 0.9065792624521074\n",
      "    val_loss       : 0.8711033314466476\n",
      "    val_my_metric  : 0.65234375\n",
      "    val_f1         : 0.6528288786000086\n",
      "    val_balanced_accuracy: 0.6126129231524114\n",
      "    val_precision  : 0.6574599690916269\n",
      "    val_recall     : 0.65234375\n"
     ]
    },
    {
     "name": "stdout",
     "output_type": "stream",
     "text": [
      "Model has not improved in -------------| 239 epochs\n"
     ]
    },
    {
     "name": "stderr",
     "output_type": "stream",
     "text": [
      "    epoch          : 341\n",
      "    loss           : 0.20829141388336816\n",
      "    my_metric      : 0.9225634578544061\n",
      "    f1             : 0.9226449196189043\n",
      "    balanced_accuracy: 0.9241344617659737\n",
      "    precision      : 0.9250571578068474\n",
      "    recall         : 0.9225634578544061\n",
      "    val_loss       : 0.7483940571546555\n",
      "    val_my_metric  : 0.70703125\n",
      "    val_f1         : 0.7027225314612648\n",
      "    val_balanced_accuracy: 0.7078210143473835\n",
      "    val_precision  : 0.7342007658147847\n",
      "    val_recall     : 0.70703125\n"
     ]
    },
    {
     "name": "stdout",
     "output_type": "stream",
     "text": [
      "Model has not improved in -------------| 240 epochs\n"
     ]
    },
    {
     "name": "stderr",
     "output_type": "stream",
     "text": [
      "    epoch          : 342\n",
      "    loss           : 0.21419347077608109\n",
      "    my_metric      : 0.9076269157088122\n",
      "    f1             : 0.9076647491264352\n",
      "    balanced_accuracy: 0.9080792257654983\n",
      "    precision      : 0.9100341891656633\n",
      "    recall         : 0.9076269157088122\n",
      "    val_loss       : 0.6520000994205475\n",
      "    val_my_metric  : 0.7890625\n",
      "    val_f1         : 0.7888853817943386\n",
      "    val_balanced_accuracy: 0.7879726890756302\n",
      "    val_precision  : 0.7891897369832923\n",
      "    val_recall     : 0.7890625\n"
     ]
    },
    {
     "name": "stdout",
     "output_type": "stream",
     "text": [
      "Model has not improved in -------------| 241 epochs\n"
     ]
    },
    {
     "name": "stderr",
     "output_type": "stream",
     "text": [
      "    epoch          : 343\n",
      "    loss           : 0.2239945630232493\n",
      "    my_metric      : 0.9117875957854407\n",
      "    f1             : 0.9119758837004268\n",
      "    balanced_accuracy: 0.9146778691199624\n",
      "    precision      : 0.9154995226596276\n",
      "    recall         : 0.9117875957854407\n",
      "    val_loss       : 0.6300364229828119\n",
      "    val_my_metric  : 0.7734375\n",
      "    val_f1         : 0.7737035627660628\n",
      "    val_balanced_accuracy: 0.7726648329563758\n",
      "    val_precision  : 0.7750849733527331\n",
      "    val_recall     : 0.7734375\n"
     ]
    },
    {
     "name": "stdout",
     "output_type": "stream",
     "text": [
      "Model has not improved in -------------| 242 epochs\n"
     ]
    },
    {
     "name": "stderr",
     "output_type": "stream",
     "text": [
      "    epoch          : 344\n",
      "    loss           : 0.22973909974098206\n",
      "    my_metric      : 0.9044839559386973\n",
      "    f1             : 0.904567903383703\n",
      "    balanced_accuracy: 0.9055577598494248\n",
      "    precision      : 0.9078738359383198\n",
      "    recall         : 0.9044839559386973\n",
      "    val_loss       : 0.6871661767363548\n",
      "    val_my_metric  : 0.7109375\n",
      "    val_f1         : 0.707098059090781\n",
      "    val_balanced_accuracy: 0.7090847940800502\n",
      "    val_precision  : 0.7334480498239926\n",
      "    val_recall     : 0.7109375\n"
     ]
    },
    {
     "name": "stdout",
     "output_type": "stream",
     "text": [
      "Model has not improved in -------------| 243 epochs\n"
     ]
    },
    {
     "name": "stderr",
     "output_type": "stream",
     "text": [
      "    epoch          : 345\n",
      "    loss           : 0.22961782332923678\n",
      "    my_metric      : 0.9067588601532566\n",
      "    f1             : 0.9069326109611929\n",
      "    balanced_accuracy: 0.9097776984338033\n",
      "    precision      : 0.9121994794953119\n",
      "    recall         : 0.9067588601532566\n",
      "    val_loss       : 0.9652219265699387\n",
      "    val_my_metric  : 0.65625\n",
      "    val_f1         : 0.6561439015261277\n",
      "    val_balanced_accuracy: 0.6145909696461168\n",
      "    val_precision  : 0.6591000005818554\n",
      "    val_recall     : 0.65625\n"
     ]
    },
    {
     "name": "stdout",
     "output_type": "stream",
     "text": [
      "Model has not improved in -------------| 244 epochs\n"
     ]
    },
    {
     "name": "stderr",
     "output_type": "stream",
     "text": [
      "    epoch          : 346\n",
      "    loss           : 0.22466514342361027\n",
      "    my_metric      : 0.9024185823754789\n",
      "    f1             : 0.902624828573129\n",
      "    balanced_accuracy: 0.9046762232153698\n",
      "    precision      : 0.9067634908010742\n",
      "    recall         : 0.9024185823754789\n",
      "    val_loss       : 0.9765659272670746\n",
      "    val_my_metric  : 0.60546875\n",
      "    val_f1         : 0.618500954557756\n",
      "    val_balanced_accuracy: 0.584005458772927\n",
      "    val_precision  : 0.6392147744514473\n",
      "    val_recall     : 0.60546875\n"
     ]
    },
    {
     "name": "stdout",
     "output_type": "stream",
     "text": [
      "Model has not improved in -------------| 245 epochs\n"
     ]
    },
    {
     "name": "stderr",
     "output_type": "stream",
     "text": [
      "    epoch          : 347\n",
      "    loss           : 0.22021143055624431\n",
      "    my_metric      : 0.9067588601532566\n",
      "    f1             : 0.9069125360870868\n",
      "    balanced_accuracy: 0.9078287493728556\n",
      "    precision      : 0.9092945721516084\n",
      "    recall         : 0.9067588601532566\n",
      "    val_loss       : 0.9181058555841446\n",
      "    val_my_metric  : 0.58984375\n",
      "    val_f1         : 0.6022821683807433\n",
      "    val_balanced_accuracy: 0.5685107069422976\n",
      "    val_precision  : 0.6224086240099488\n",
      "    val_recall     : 0.58984375\n"
     ]
    },
    {
     "name": "stdout",
     "output_type": "stream",
     "text": [
      "Model has not improved in -------------| 246 epochs\n"
     ]
    },
    {
     "name": "stderr",
     "output_type": "stream",
     "text": [
      "    epoch          : 348\n",
      "    loss           : 0.23347127272023094\n",
      "    my_metric      : 0.8959829980842913\n",
      "    f1             : 0.896015510901441\n",
      "    balanced_accuracy: 0.8969009936803367\n",
      "    precision      : 0.8989318696827598\n",
      "    recall         : 0.8959829980842913\n",
      "    val_loss       : 0.5352754145860672\n",
      "    val_my_metric  : 0.7890625\n",
      "    val_f1         : 0.7888457753791172\n",
      "    val_balanced_accuracy: 0.7902960465964498\n",
      "    val_precision  : 0.7945571252022865\n",
      "    val_recall     : 0.7890625\n"
     ]
    },
    {
     "name": "stdout",
     "output_type": "stream",
     "text": [
      "Model has not improved in -------------| 247 epochs\n"
     ]
    },
    {
     "name": "stderr",
     "output_type": "stream",
     "text": [
      "    epoch          : 349\n",
      "    loss           : 0.23114887873331705\n",
      "    my_metric      : 0.9083153735632185\n",
      "    f1             : 0.908584433321182\n",
      "    balanced_accuracy: 0.9097639025607518\n",
      "    precision      : 0.9117393695868421\n",
      "    recall         : 0.9083153735632185\n",
      "    val_loss       : 0.8469195812940598\n",
      "    val_my_metric  : 0.66796875\n",
      "    val_f1         : 0.6671387330334092\n",
      "    val_balanced_accuracy: 0.6277418054220711\n",
      "    val_precision  : 0.67473612004862\n",
      "    val_recall     : 0.66796875\n"
     ]
    },
    {
     "name": "stdout",
     "output_type": "stream",
     "text": [
      "Model has not improved in -------------| 248 epochs\n"
     ]
    },
    {
     "name": "stderr",
     "output_type": "stream",
     "text": [
      "    epoch          : 350\n",
      "    loss           : 0.2518959210978614\n",
      "    my_metric      : 0.8862547892720306\n",
      "    f1             : 0.8869102679514236\n",
      "    balanced_accuracy: 0.892092705110158\n",
      "    precision      : 0.8942671379373223\n",
      "    recall         : 0.8862547892720306\n",
      "    val_loss       : 0.8232056349515915\n",
      "    val_my_metric  : 0.71484375\n",
      "    val_f1         : 0.7111991167434716\n",
      "    val_balanced_accuracy: 0.7141220674486803\n",
      "    val_precision  : 0.7392602106624631\n",
      "    val_recall     : 0.71484375\n"
     ]
    },
    {
     "name": "stdout",
     "output_type": "stream",
     "text": [
      "Model has not improved in -------------| 249 epochs\n"
     ]
    },
    {
     "name": "stderr",
     "output_type": "stream",
     "text": [
      "    epoch          : 351\n",
      "    loss           : 0.24129303875896665\n",
      "    my_metric      : 0.8920019157088122\n",
      "    f1             : 0.8923912101068853\n",
      "    balanced_accuracy: 0.8958051819684858\n",
      "    precision      : 0.8982134927649127\n",
      "    recall         : 0.8920019157088122\n",
      "    val_loss       : 0.6109833884984255\n",
      "    val_my_metric  : 0.77734375\n",
      "    val_f1         : 0.7767639405138964\n",
      "    val_balanced_accuracy: 0.7773775716003191\n",
      "    val_precision  : 0.7818423828657353\n",
      "    val_recall     : 0.77734375\n"
     ]
    },
    {
     "name": "stdout",
     "output_type": "stream",
     "text": [
      "Model has not improved in -------------| 250 epochs\n"
     ]
    },
    {
     "name": "stderr",
     "output_type": "stream",
     "text": [
      "    epoch          : 352\n",
      "    loss           : 0.23207668877310222\n",
      "    my_metric      : 0.8958034003831418\n",
      "    f1             : 0.8962737391247282\n",
      "    balanced_accuracy: 0.8994851970288816\n",
      "    precision      : 0.9031077004596221\n",
      "    recall         : 0.8958034003831418\n",
      "    val_loss       : 0.8276469707489014\n",
      "    val_my_metric  : 0.671875\n",
      "    val_f1         : 0.6719511791202968\n",
      "    val_balanced_accuracy: 0.6286103708375714\n",
      "    val_precision  : 0.673797123015873\n",
      "    val_recall     : 0.671875\n"
     ]
    },
    {
     "name": "stdout",
     "output_type": "stream",
     "text": [
      "Model has not improved in -------------| 251 epochs\n"
     ]
    },
    {
     "name": "stderr",
     "output_type": "stream",
     "text": [
      "    epoch          : 353\n",
      "    loss           : 0.23803822530640495\n",
      "    my_metric      : 0.8987667624521074\n",
      "    f1             : 0.8988637114056872\n",
      "    balanced_accuracy: 0.9005789275709621\n",
      "    precision      : 0.9022991237315693\n",
      "    recall         : 0.8987667624521074\n",
      "    val_loss       : 0.8190806806087494\n",
      "    val_my_metric  : 0.75390625\n",
      "    val_f1         : 0.7500404839631862\n",
      "    val_balanced_accuracy: 0.752076505365979\n",
      "    val_precision  : 0.7788872512218101\n",
      "    val_recall     : 0.75390625\n"
     ]
    },
    {
     "name": "stdout",
     "output_type": "stream",
     "text": [
      "Model has not improved in -------------| 252 epochs\n"
     ]
    },
    {
     "name": "stderr",
     "output_type": "stream",
     "text": [
      "    epoch          : 354\n",
      "    loss           : 0.2103237733244896\n",
      "    my_metric      : 0.9185524425287357\n",
      "    f1             : 0.9187902630069416\n",
      "    balanced_accuracy: 0.9204447198911555\n",
      "    precision      : 0.9213555132213366\n",
      "    recall         : 0.9185524425287357\n",
      "    val_loss       : 0.7846209108829498\n",
      "    val_my_metric  : 0.6953125\n",
      "    val_f1         : 0.6986770797620427\n",
      "    val_balanced_accuracy: 0.7105157848965897\n",
      "    val_precision  : 0.7282179566123531\n",
      "    val_recall     : 0.6953125\n"
     ]
    },
    {
     "name": "stdout",
     "output_type": "stream",
     "text": [
      "Model has not improved in -------------| 253 epochs\n"
     ]
    },
    {
     "name": "stderr",
     "output_type": "stream",
     "text": [
      "    epoch          : 355\n",
      "    loss           : 0.22227269245518577\n",
      "    my_metric      : 0.9098718869731801\n",
      "    f1             : 0.9099029189908099\n",
      "    balanced_accuracy: 0.9108400057775702\n",
      "    precision      : 0.9134164364658351\n",
      "    recall         : 0.9098718869731801\n",
      "    val_loss       : 1.2039177268743515\n",
      "    val_my_metric  : 0.7109375\n",
      "    val_f1         : 0.7149373140511683\n",
      "    val_balanced_accuracy: 0.7292761971530353\n",
      "    val_precision  : 0.7423614103757554\n",
      "    val_recall     : 0.7109375\n"
     ]
    },
    {
     "name": "stdout",
     "output_type": "stream",
     "text": [
      "Model has not improved in -------------| 254 epochs\n"
     ]
    },
    {
     "name": "stderr",
     "output_type": "stream",
     "text": [
      "    epoch          : 356\n",
      "    loss           : 0.22877504262659284\n",
      "    my_metric      : 0.9018797892720306\n",
      "    f1             : 0.9022868902309544\n",
      "    balanced_accuracy: 0.9049235788099712\n",
      "    precision      : 0.9071736808984685\n",
      "    recall         : 0.9018797892720306\n",
      "    val_loss       : 0.8737991750240326\n",
      "    val_my_metric  : 0.74609375\n",
      "    val_f1         : 0.750732763948088\n",
      "    val_balanced_accuracy: 0.7678709217091135\n",
      "    val_precision  : 0.7809252290763611\n",
      "    val_recall     : 0.74609375\n"
     ]
    },
    {
     "name": "stdout",
     "output_type": "stream",
     "text": [
      "Model has not improved in -------------| 255 epochs\n"
     ]
    },
    {
     "name": "stderr",
     "output_type": "stream",
     "text": [
      "    epoch          : 357\n",
      "    loss           : 0.23057233459419674\n",
      "    my_metric      : 0.8855663314176245\n",
      "    f1             : 0.8860506861950012\n",
      "    balanced_accuracy: 0.8909265863661717\n",
      "    precision      : 0.8942912478550894\n",
      "    recall         : 0.8855663314176245\n",
      "    val_loss       : 0.8772212713956833\n",
      "    val_my_metric  : 0.69921875\n",
      "    val_f1         : 0.671036819338374\n",
      "    val_balanced_accuracy: 0.6250404858299595\n",
      "    val_precision  : 0.6524960568138257\n",
      "    val_recall     : 0.69921875\n"
     ]
    },
    {
     "name": "stdout",
     "output_type": "stream",
     "text": [
      "Model has not improved in -------------| 256 epochs\n"
     ]
    },
    {
     "name": "stderr",
     "output_type": "stream",
     "text": [
      "    epoch          : 358\n",
      "    loss           : 0.21568375908666187\n",
      "    my_metric      : 0.9138829022988505\n",
      "    f1             : 0.9143261307443638\n",
      "    balanced_accuracy: 0.9179011999903002\n",
      "    precision      : 0.9188463030813598\n",
      "    recall         : 0.9138829022988505\n",
      "    val_loss       : 0.944966048002243\n",
      "    val_my_metric  : 0.7265625\n",
      "    val_f1         : 0.7220201178127129\n",
      "    val_balanced_accuracy: 0.7331145786337319\n",
      "    val_precision  : 0.7626197785673454\n",
      "    val_recall     : 0.7265625\n"
     ]
    },
    {
     "name": "stdout",
     "output_type": "stream",
     "text": [
      "Model has not improved in -------------| 257 epochs\n"
     ]
    },
    {
     "name": "stderr",
     "output_type": "stream",
     "text": [
      "    epoch          : 359\n",
      "    loss           : 0.2199652393658956\n",
      "    my_metric      : 0.9126556513409962\n",
      "    f1             : 0.9128490228610571\n",
      "    balanced_accuracy: 0.9167470633244869\n",
      "    precision      : 0.9186705312993158\n",
      "    recall         : 0.9126556513409962\n",
      "    val_loss       : 1.4207215905189514\n",
      "    val_my_metric  : 0.6015625\n",
      "    val_f1         : 0.6140127167206126\n",
      "    val_balanced_accuracy: 0.5790837096332785\n",
      "    val_precision  : 0.6328971204660543\n",
      "    val_recall     : 0.6015625\n"
     ]
    },
    {
     "name": "stdout",
     "output_type": "stream",
     "text": [
      "Model has not improved in -------------| 258 epochs\n"
     ]
    },
    {
     "name": "stderr",
     "output_type": "stream",
     "text": [
      "    epoch          : 360\n",
      "    loss           : 0.22334754715363184\n",
      "    my_metric      : 0.9063996647509579\n",
      "    f1             : 0.906663673751816\n",
      "    balanced_accuracy: 0.9095350843052429\n",
      "    precision      : 0.9110122852809774\n",
      "    recall         : 0.9063996647509579\n",
      "    val_loss       : 0.9748273640871048\n",
      "    val_my_metric  : 0.734375\n",
      "    val_f1         : 0.707377053135129\n",
      "    val_balanced_accuracy: 0.6799859207947443\n",
      "    val_precision  : 0.7046676602711086\n",
      "    val_recall     : 0.734375\n"
     ]
    },
    {
     "name": "stdout",
     "output_type": "stream",
     "text": [
      "Model has not improved in -------------| 259 epochs\n"
     ]
    },
    {
     "name": "stderr",
     "output_type": "stream",
     "text": [
      "    epoch          : 361\n",
      "    loss           : 0.24204282793733808\n",
      "    my_metric      : 0.8881704980842913\n",
      "    f1             : 0.8884379979476272\n",
      "    balanced_accuracy: 0.8907962500713487\n",
      "    precision      : 0.8926087254506297\n",
      "    recall         : 0.8881704980842913\n",
      "    val_loss       : 0.6711356118321419\n",
      "    val_my_metric  : 0.77734375\n",
      "    val_f1         : 0.7771497803666921\n",
      "    val_balanced_accuracy: 0.7744496457489878\n",
      "    val_precision  : 0.777051282051282\n",
      "    val_recall     : 0.77734375\n"
     ]
    },
    {
     "name": "stdout",
     "output_type": "stream",
     "text": [
      "Model has not improved in -------------| 260 epochs\n"
     ]
    },
    {
     "name": "stderr",
     "output_type": "stream",
     "text": [
      "    epoch          : 362\n",
      "    loss           : 0.22360662619272867\n",
      "    my_metric      : 0.9104106800766283\n",
      "    f1             : 0.9109066601994454\n",
      "    balanced_accuracy: 0.9146317636354647\n",
      "    precision      : 0.9160235154413012\n",
      "    recall         : 0.9104106800766283\n",
      "    val_loss       : 0.9033764004707336\n",
      "    val_my_metric  : 0.65625\n",
      "    val_f1         : 0.6566789215686275\n",
      "    val_balanced_accuracy: 0.6183935243158254\n",
      "    val_precision  : 0.6666594903727256\n",
      "    val_recall     : 0.65625\n"
     ]
    },
    {
     "name": "stdout",
     "output_type": "stream",
     "text": [
      "Model has not improved in -------------| 261 epochs\n"
     ]
    },
    {
     "name": "stderr",
     "output_type": "stream",
     "text": [
      "    epoch          : 363\n",
      "    loss           : 0.23234690808587605\n",
      "    my_metric      : 0.9015505268199233\n",
      "    f1             : 0.901652275695197\n",
      "    balanced_accuracy: 0.9036489608582894\n",
      "    precision      : 0.9064374086393876\n",
      "    recall         : 0.9015505268199233\n",
      "    val_loss       : 0.6416222378611565\n",
      "    val_my_metric  : 0.79296875\n",
      "    val_f1         : 0.7936036660010277\n",
      "    val_balanced_accuracy: 0.7957720588235294\n",
      "    val_precision  : 0.8003451582080614\n",
      "    val_recall     : 0.79296875\n"
     ]
    },
    {
     "name": "stdout",
     "output_type": "stream",
     "text": [
      "Model has not improved in -------------| 262 epochs\n"
     ]
    },
    {
     "name": "stderr",
     "output_type": "stream",
     "text": [
      "    epoch          : 364\n",
      "    loss           : 0.2225610820783509\n",
      "    my_metric      : 0.8982579022988505\n",
      "    f1             : 0.8985063638629158\n",
      "    balanced_accuracy: 0.9016069049222738\n",
      "    precision      : 0.9033081996773272\n",
      "    recall         : 0.8982579022988505\n",
      "    val_loss       : 1.129126563668251\n",
      "    val_my_metric  : 0.64453125\n",
      "    val_f1         : 0.6447006526969762\n",
      "    val_balanced_accuracy: 0.6819824650692281\n",
      "    val_precision  : 0.7286281492470065\n",
      "    val_recall     : 0.64453125\n"
     ]
    },
    {
     "name": "stdout",
     "output_type": "stream",
     "text": [
      "Model has not improved in -------------| 263 epochs\n"
     ]
    },
    {
     "name": "stderr",
     "output_type": "stream",
     "text": [
      "    epoch          : 365\n",
      "    loss           : 0.2351318539844619\n",
      "    my_metric      : 0.8958034003831418\n",
      "    f1             : 0.8961355360031722\n",
      "    balanced_accuracy: 0.8974165311553239\n",
      "    precision      : 0.9001429605027015\n",
      "    recall         : 0.8958034003831418\n",
      "    val_loss       : 0.6360340416431427\n",
      "    val_my_metric  : 0.78125\n",
      "    val_f1         : 0.7816779496488517\n",
      "    val_balanced_accuracy: 0.7834491927859559\n",
      "    val_precision  : 0.7857212577514052\n",
      "    val_recall     : 0.78125\n"
     ]
    },
    {
     "name": "stdout",
     "output_type": "stream",
     "text": [
      "Model has not improved in -------------| 264 epochs\n"
     ]
    },
    {
     "name": "stderr",
     "output_type": "stream",
     "text": [
      "    epoch          : 366\n",
      "    loss           : 0.2173899155524042\n",
      "    my_metric      : 0.916995929118774\n",
      "    f1             : 0.9172913027350916\n",
      "    balanced_accuracy: 0.9202589702427486\n",
      "    precision      : 0.9210188187369118\n",
      "    recall         : 0.916995929118774\n",
      "    val_loss       : 0.8686656653881073\n",
      "    val_my_metric  : 0.671875\n",
      "    val_f1         : 0.6294441085375665\n",
      "    val_balanced_accuracy: 0.6675367972122537\n",
      "    val_precision  : 0.6105083923751686\n",
      "    val_recall     : 0.671875\n"
     ]
    },
    {
     "name": "stdout",
     "output_type": "stream",
     "text": [
      "Model has not improved in -------------| 265 epochs\n"
     ]
    },
    {
     "name": "stderr",
     "output_type": "stream",
     "text": [
      "    epoch          : 367\n",
      "    loss           : 0.21260723306073082\n",
      "    my_metric      : 0.9145713601532566\n",
      "    f1             : 0.9147090171006842\n",
      "    balanced_accuracy: 0.9173136324304133\n",
      "    precision      : 0.9185877401678378\n",
      "    recall         : 0.9145713601532566\n",
      "    val_loss       : 0.8675722628831863\n",
      "    val_my_metric  : 0.71875\n",
      "    val_f1         : 0.7226599178403756\n",
      "    val_balanced_accuracy: 0.7374594908243406\n",
      "    val_precision  : 0.7496589781746031\n",
      "    val_recall     : 0.71875\n"
     ]
    },
    {
     "name": "stdout",
     "output_type": "stream",
     "text": [
      "Model has not improved in -------------| 266 epochs\n"
     ]
    },
    {
     "name": "stderr",
     "output_type": "stream",
     "text": [
      "    epoch          : 368\n",
      "    loss           : 0.23357578780916002\n",
      "    my_metric      : 0.9017301245210727\n",
      "    f1             : 0.9019069485632885\n",
      "    balanced_accuracy: 0.9035227894764611\n",
      "    precision      : 0.9062687887440196\n",
      "    recall         : 0.9017301245210727\n",
      "    val_loss       : 0.6514506191015244\n",
      "    val_my_metric  : 0.78515625\n",
      "    val_f1         : 0.7849941037735849\n",
      "    val_balanced_accuracy: 0.7827885790201967\n",
      "    val_precision  : 0.784926935728745\n",
      "    val_recall     : 0.78515625\n"
     ]
    },
    {
     "name": "stdout",
     "output_type": "stream",
     "text": [
      "Model has not improved in -------------| 267 epochs\n"
     ]
    },
    {
     "name": "stderr",
     "output_type": "stream",
     "text": [
      "    epoch          : 369\n",
      "    loss           : 0.22908028380738366\n",
      "    my_metric      : 0.900323275862069\n",
      "    f1             : 0.9009859661839591\n",
      "    balanced_accuracy: 0.9041321797906784\n",
      "    precision      : 0.9064133567146799\n",
      "    recall         : 0.900323275862069\n",
      "    val_loss       : 0.9350858330726624\n",
      "    val_my_metric  : 0.6484375\n",
      "    val_f1         : 0.6477362390721898\n",
      "    val_balanced_accuracy: 0.6460460315855199\n",
      "    val_precision  : 0.6498266434506355\n",
      "    val_recall     : 0.6484375\n"
     ]
    },
    {
     "name": "stdout",
     "output_type": "stream",
     "text": [
      "Model has not improved in -------------| 268 epochs\n"
     ]
    },
    {
     "name": "stderr",
     "output_type": "stream",
     "text": [
      "    epoch          : 370\n",
      "    loss           : 0.22644499937693277\n",
      "    my_metric      : 0.9072677203065135\n",
      "    f1             : 0.9074212339608763\n",
      "    balanced_accuracy: 0.9081792791743479\n",
      "    precision      : 0.9100349212425881\n",
      "    recall         : 0.9072677203065135\n",
      "    val_loss       : 1.0202320665121078\n",
      "    val_my_metric  : 0.63671875\n",
      "    val_f1         : 0.6369606658726618\n",
      "    val_balanced_accuracy: 0.5960531267104543\n",
      "    val_precision  : 0.6406385633680556\n",
      "    val_recall     : 0.63671875\n"
     ]
    },
    {
     "name": "stdout",
     "output_type": "stream",
     "text": [
      "Model has not improved in -------------| 269 epochs\n"
     ]
    },
    {
     "name": "stderr",
     "output_type": "stream",
     "text": [
      "    epoch          : 371\n",
      "    loss           : 0.21103512826893064\n",
      "    my_metric      : 0.9197796934865899\n",
      "    f1             : 0.9199641892431758\n",
      "    balanced_accuracy: 0.921620661953249\n",
      "    precision      : 0.9230698703004533\n",
      "    recall         : 0.9197796934865899\n",
      "    val_loss       : 0.6241725981235504\n",
      "    val_my_metric  : 0.78125\n",
      "    val_f1         : 0.7830669542337757\n",
      "    val_balanced_accuracy: 0.7875233842975778\n",
      "    val_precision  : 0.7968098958333333\n",
      "    val_recall     : 0.78125\n"
     ]
    },
    {
     "name": "stdout",
     "output_type": "stream",
     "text": [
      "Model has not improved in -------------| 270 epochs\n"
     ]
    },
    {
     "name": "stderr",
     "output_type": "stream",
     "text": [
      "    epoch          : 372\n",
      "    loss           : 0.23031042516231537\n",
      "    my_metric      : 0.8942468869731801\n",
      "    f1             : 0.8947364659916963\n",
      "    balanced_accuracy: 0.8985129486861345\n",
      "    precision      : 0.9006553892645788\n",
      "    recall         : 0.8942468869731801\n",
      "    val_loss       : 0.7928293645381927\n",
      "    val_my_metric  : 0.65234375\n",
      "    val_f1         : 0.6518935237980049\n",
      "    val_balanced_accuracy: 0.612557778366602\n",
      "    val_precision  : 0.6601845440143705\n",
      "    val_recall     : 0.65234375\n"
     ]
    },
    {
     "name": "stdout",
     "output_type": "stream",
     "text": [
      "Model has not improved in -------------| 271 epochs\n"
     ]
    },
    {
     "name": "stderr",
     "output_type": "stream",
     "text": [
      "    epoch          : 373\n",
      "    loss           : 0.22243653568956587\n",
      "    my_metric      : 0.9032866379310344\n",
      "    f1             : 0.9034548271868156\n",
      "    balanced_accuracy: 0.9052025607258545\n",
      "    precision      : 0.9074715984842265\n",
      "    recall         : 0.9032866379310344\n",
      "    val_loss       : 0.7459958079271019\n",
      "    val_my_metric  : 0.765625\n",
      "    val_f1         : 0.765785964524539\n",
      "    val_balanced_accuracy: 0.7645670337100358\n",
      "    val_precision  : 0.7661107711963084\n",
      "    val_recall     : 0.765625\n"
     ]
    },
    {
     "name": "stdout",
     "output_type": "stream",
     "text": [
      "Model has not improved in -------------| 272 epochs\n"
     ]
    },
    {
     "name": "stderr",
     "output_type": "stream",
     "text": [
      "    epoch          : 374\n",
      "    loss           : 0.22183180103699365\n",
      "    my_metric      : 0.9078065134099617\n",
      "    f1             : 0.9078953105251419\n",
      "    balanced_accuracy: 0.9094366608387084\n",
      "    precision      : 0.9109507514589337\n",
      "    recall         : 0.9078065134099617\n",
      "    val_loss       : 0.9266549199819565\n",
      "    val_my_metric  : 0.71875\n",
      "    val_f1         : 0.7239762154585849\n",
      "    val_balanced_accuracy: 0.7431723595516699\n",
      "    val_precision  : 0.7580451853464076\n",
      "    val_recall     : 0.71875\n"
     ]
    },
    {
     "name": "stdout",
     "output_type": "stream",
     "text": [
      "Model has not improved in -------------| 273 epochs\n"
     ]
    },
    {
     "name": "stderr",
     "output_type": "stream",
     "text": [
      "    epoch          : 375\n",
      "    loss           : 0.21695757491721046\n",
      "    my_metric      : 0.9145713601532566\n",
      "    f1             : 0.9148385316483343\n",
      "    balanced_accuracy: 0.91837031335646\n",
      "    precision      : 0.9190336922829682\n",
      "    recall         : 0.9145713601532566\n",
      "    val_loss       : 0.706188419368118\n",
      "    val_my_metric  : 0.7734375\n",
      "    val_f1         : 0.7737274707182504\n",
      "    val_balanced_accuracy: 0.7741687845427982\n",
      "    val_precision  : 0.7790160313884591\n",
      "    val_recall     : 0.7734375\n"
     ]
    },
    {
     "name": "stdout",
     "output_type": "stream",
     "text": [
      "Model has not improved in -------------| 274 epochs\n"
     ]
    },
    {
     "name": "stderr",
     "output_type": "stream",
     "text": [
      "    epoch          : 376\n",
      "    loss           : 0.21271631204419666\n",
      "    my_metric      : 0.9095426245210727\n",
      "    f1             : 0.9097101030138752\n",
      "    balanced_accuracy: 0.9111035578461772\n",
      "    precision      : 0.9128002232981464\n",
      "    recall         : 0.9095426245210727\n",
      "    val_loss       : 1.1856393367052078\n",
      "    val_my_metric  : 0.58984375\n",
      "    val_f1         : 0.6027369300440317\n",
      "    val_balanced_accuracy: 0.5684436531210725\n",
      "    val_precision  : 0.6227301058423925\n",
      "    val_recall     : 0.58984375\n"
     ]
    },
    {
     "name": "stdout",
     "output_type": "stream",
     "text": [
      "Model has not improved in -------------| 275 epochs\n"
     ]
    },
    {
     "name": "stderr",
     "output_type": "stream",
     "text": [
      "    epoch          : 377\n",
      "    loss           : 0.22077663822306526\n",
      "    my_metric      : 0.9112787356321839\n",
      "    f1             : 0.9115435491932432\n",
      "    balanced_accuracy: 0.914476996246287\n",
      "    precision      : 0.9157654564169468\n",
      "    recall         : 0.9112787356321839\n",
      "    val_loss       : 0.7803481221199036\n",
      "    val_my_metric  : 0.71875\n",
      "    val_f1         : 0.7136951405007395\n",
      "    val_balanced_accuracy: 0.7184688634641196\n",
      "    val_precision  : 0.744955589657738\n",
      "    val_recall     : 0.71875\n"
     ]
    },
    {
     "name": "stdout",
     "output_type": "stream",
     "text": [
      "Model has not improved in -------------| 276 epochs\n"
     ]
    },
    {
     "name": "stderr",
     "output_type": "stream",
     "text": [
      "    epoch          : 378\n",
      "    loss           : 0.21989193558692932\n",
      "    my_metric      : 0.905202346743295\n",
      "    f1             : 0.9054886558132598\n",
      "    balanced_accuracy: 0.9065092870849002\n",
      "    precision      : 0.9084646337494269\n",
      "    recall         : 0.905202346743295\n",
      "    val_loss       : 0.7655093595385551\n",
      "    val_my_metric  : 0.65625\n",
      "    val_f1         : 0.6558506410792986\n",
      "    val_balanced_accuracy: 0.6953851369752104\n",
      "    val_precision  : 0.7400140940585184\n",
      "    val_recall     : 0.65625\n"
     ]
    },
    {
     "name": "stdout",
     "output_type": "stream",
     "text": [
      "Model has not improved in -------------| 277 epochs\n"
     ]
    },
    {
     "name": "stderr",
     "output_type": "stream",
     "text": [
      "    epoch          : 379\n",
      "    loss           : 0.2246765676471922\n",
      "    my_metric      : 0.9095426245210727\n",
      "    f1             : 0.9096132133878889\n",
      "    balanced_accuracy: 0.9111324196395775\n",
      "    precision      : 0.9127190029061862\n",
      "    recall         : 0.9095426245210727\n",
      "    val_loss       : 0.6897866204380989\n",
      "    val_my_metric  : 0.734375\n",
      "    val_f1         : 0.7382225840146702\n",
      "    val_balanced_accuracy: 0.7521271261986457\n",
      "    val_precision  : 0.7655086962669684\n",
      "    val_recall     : 0.734375\n"
     ]
    },
    {
     "name": "stdout",
     "output_type": "stream",
     "text": [
      "Model has not improved in -------------| 278 epochs\n"
     ]
    },
    {
     "name": "stderr",
     "output_type": "stream",
     "text": [
      "    epoch          : 380\n",
      "    loss           : 0.24313318646616405\n",
      "    my_metric      : 0.8890385536398467\n",
      "    f1             : 0.8893320968487538\n",
      "    balanced_accuracy: 0.8919619809676193\n",
      "    precision      : 0.8937704338570458\n",
      "    recall         : 0.8890385536398467\n",
      "    val_loss       : 1.4326075464487076\n",
      "    val_my_metric  : 0.65234375\n",
      "    val_f1         : 0.6533894772205149\n",
      "    val_balanced_accuracy: 0.6928667859506236\n",
      "    val_precision  : 0.7407457253734828\n",
      "    val_recall     : 0.65234375\n"
     ]
    },
    {
     "name": "stdout",
     "output_type": "stream",
     "text": [
      "Model has not improved in -------------| 279 epochs\n"
     ]
    },
    {
     "name": "stderr",
     "output_type": "stream",
     "text": [
      "    epoch          : 381\n",
      "    loss           : 0.2209096997976303\n",
      "    my_metric      : 0.9084949712643677\n",
      "    f1             : 0.9088985452899959\n",
      "    balanced_accuracy: 0.9106626784842153\n",
      "    precision      : 0.9134864492952909\n",
      "    recall         : 0.9084949712643677\n",
      "    val_loss       : 0.7170922085642815\n",
      "    val_my_metric  : 0.77734375\n",
      "    val_f1         : 0.7788852550632688\n",
      "    val_balanced_accuracy: 0.7800850251281286\n",
      "    val_precision  : 0.7888326755746375\n",
      "    val_recall     : 0.77734375\n"
     ]
    },
    {
     "name": "stdout",
     "output_type": "stream",
     "text": [
      "Model has not improved in -------------| 280 epochs\n"
     ]
    },
    {
     "name": "stderr",
     "output_type": "stream",
     "text": [
      "    epoch          : 382\n",
      "    loss           : 0.23122153182824454\n",
      "    my_metric      : 0.8942468869731801\n",
      "    f1             : 0.8947298273454459\n",
      "    balanced_accuracy: 0.8988858842038927\n",
      "    precision      : 0.9011940556102233\n",
      "    recall         : 0.8942468869731801\n",
      "    val_loss       : 0.6534755975008011\n",
      "    val_my_metric  : 0.76953125\n",
      "    val_f1         : 0.7699297939514789\n",
      "    val_balanced_accuracy: 0.7700902882354494\n",
      "    val_precision  : 0.7726137959898399\n",
      "    val_recall     : 0.76953125\n"
     ]
    },
    {
     "name": "stdout",
     "output_type": "stream",
     "text": [
      "Model has not improved in -------------| 281 epochs\n"
     ]
    },
    {
     "name": "stderr",
     "output_type": "stream",
     "text": [
      "    epoch          : 383\n",
      "    loss           : 0.23968582600355148\n",
      "    my_metric      : 0.8958034003831418\n",
      "    f1             : 0.8963740337472176\n",
      "    balanced_accuracy: 0.8986936331435516\n",
      "    precision      : 0.9009386822049645\n",
      "    recall         : 0.8958034003831418\n",
      "    val_loss       : 1.1342082619667053\n",
      "    val_my_metric  : 0.734375\n",
      "    val_f1         : 0.7303473724455433\n",
      "    val_balanced_accuracy: 0.7351329619891911\n",
      "    val_precision  : 0.7576793334098477\n",
      "    val_recall     : 0.734375\n"
     ]
    },
    {
     "name": "stdout",
     "output_type": "stream",
     "text": [
      "Model has not improved in -------------| 282 epochs\n"
     ]
    },
    {
     "name": "stderr",
     "output_type": "stream",
     "text": [
      "    epoch          : 384\n",
      "    loss           : 0.2217996906903055\n",
      "    my_metric      : 0.8973599137931034\n",
      "    f1             : 0.8976738683864665\n",
      "    balanced_accuracy: 0.9010872505155599\n",
      "    precision      : 0.9040874687403301\n",
      "    recall         : 0.8973599137931034\n",
      "    val_loss       : 0.6101226634345949\n",
      "    val_my_metric  : 0.79296875\n",
      "    val_f1         : 0.7929143772893773\n",
      "    val_balanced_accuracy: 0.794301869802426\n",
      "    val_precision  : 0.7970987802448566\n",
      "    val_recall     : 0.79296875\n"
     ]
    },
    {
     "name": "stdout",
     "output_type": "stream",
     "text": [
      "Model has not improved in -------------| 283 epochs\n"
     ]
    },
    {
     "name": "stderr",
     "output_type": "stream",
     "text": [
      "    epoch          : 385\n",
      "    loss           : 0.2293253151906861\n",
      "    my_metric      : 0.9006525383141761\n",
      "    f1             : 0.9017156444671343\n",
      "    balanced_accuracy: 0.9062268016130604\n",
      "    precision      : 0.9089182648102461\n",
      "    recall         : 0.9006525383141761\n",
      "    val_loss       : 0.6367736905813217\n",
      "    val_my_metric  : 0.8125\n",
      "    val_f1         : 0.8128317049782361\n",
      "    val_balanced_accuracy: 0.8130244806255835\n",
      "    val_precision  : 0.8143858252382699\n",
      "    val_recall     : 0.8125\n"
     ]
    },
    {
     "name": "stdout",
     "output_type": "stream",
     "text": [
      "Model has not improved in -------------| 284 epochs\n"
     ]
    },
    {
     "name": "stderr",
     "output_type": "stream",
     "text": [
      "    epoch          : 386\n",
      "    loss           : 0.23121092220147452\n",
      "    my_metric      : 0.9102310823754789\n",
      "    f1             : 0.9103513035542549\n",
      "    balanced_accuracy: 0.9112501013743013\n",
      "    precision      : 0.9129949729851907\n",
      "    recall         : 0.9102310823754789\n",
      "    val_loss       : 0.7987102717161179\n",
      "    val_my_metric  : 0.71484375\n",
      "    val_f1         : 0.7106767600302084\n",
      "    val_balanced_accuracy: 0.713542100797809\n",
      "    val_precision  : 0.7364631336405529\n",
      "    val_recall     : 0.71484375\n"
     ]
    },
    {
     "name": "stdout",
     "output_type": "stream",
     "text": [
      "Model has not improved in -------------| 285 epochs\n"
     ]
    },
    {
     "name": "stderr",
     "output_type": "stream",
     "text": [
      "    epoch          : 387\n",
      "    loss           : 0.21455802188979256\n",
      "    my_metric      : 0.909183429118774\n",
      "    f1             : 0.9095317786354538\n",
      "    balanced_accuracy: 0.9123508669530891\n",
      "    precision      : 0.9143602876237877\n",
      "    recall         : 0.909183429118774\n",
      "    val_loss       : 0.6763942614197731\n",
      "    val_my_metric  : 0.7578125\n",
      "    val_f1         : 0.7542901587564123\n",
      "    val_balanced_accuracy: 0.7563778712853665\n",
      "    val_precision  : 0.7632255720180045\n",
      "    val_recall     : 0.7578125\n"
     ]
    },
    {
     "name": "stdout",
     "output_type": "stream",
     "text": [
      "Model has not improved in -------------| 286 epochs\n"
     ]
    },
    {
     "name": "stderr",
     "output_type": "stream",
     "text": [
      "    epoch          : 388\n",
      "    loss           : 0.23167555613650215\n",
      "    my_metric      : 0.9037954980842913\n",
      "    f1             : 0.9040423009931673\n",
      "    balanced_accuracy: 0.906340950389479\n",
      "    precision      : 0.9075156460345382\n",
      "    recall         : 0.9037954980842913\n",
      "    val_loss       : 0.7541027795523405\n",
      "    val_my_metric  : 0.74609375\n",
      "    val_f1         : 0.7460912930338706\n",
      "    val_balanced_accuracy: 0.7457696746628893\n",
      "    val_precision  : 0.7492706329376251\n",
      "    val_recall     : 0.74609375\n"
     ]
    },
    {
     "name": "stdout",
     "output_type": "stream",
     "text": [
      "Model has not improved in -------------| 287 epochs\n"
     ]
    },
    {
     "name": "stderr",
     "output_type": "stream",
     "text": [
      "    epoch          : 389\n",
      "    loss           : 0.23941326720847023\n",
      "    my_metric      : 0.8954741379310344\n",
      "    f1             : 0.8959516064194296\n",
      "    balanced_accuracy: 0.898896687259793\n",
      "    precision      : 0.9009052961149339\n",
      "    recall         : 0.8954741379310344\n",
      "    val_loss       : 0.6976504996418953\n",
      "    val_my_metric  : 0.73828125\n",
      "    val_f1         : 0.7629422576267161\n",
      "    val_balanced_accuracy: 0.7337927067896641\n",
      "    val_precision  : 0.802417588550401\n",
      "    val_recall     : 0.73828125\n"
     ]
    },
    {
     "name": "stdout",
     "output_type": "stream",
     "text": [
      "Model has not improved in -------------| 288 epochs\n"
     ]
    },
    {
     "name": "stderr",
     "output_type": "stream",
     "text": [
      "    epoch          : 390\n",
      "    loss           : 0.22948722458548015\n",
      "    my_metric      : 0.9065792624521074\n",
      "    f1             : 0.907053832267579\n",
      "    balanced_accuracy: 0.9120084134931735\n",
      "    precision      : 0.9146206937944539\n",
      "    recall         : 0.9065792624521074\n",
      "    val_loss       : 0.6029822155833244\n",
      "    val_my_metric  : 0.80078125\n",
      "    val_f1         : 0.8007936507936508\n",
      "    val_balanced_accuracy: 0.7951246334310851\n",
      "    val_precision  : 0.8009033203125\n",
      "    val_recall     : 0.80078125\n"
     ]
    },
    {
     "name": "stdout",
     "output_type": "stream",
     "text": [
      "Model has not improved in -------------| 289 epochs\n"
     ]
    },
    {
     "name": "stderr",
     "output_type": "stream",
     "text": [
      "    epoch          : 391\n",
      "    loss           : 0.22382332219017875\n",
      "    my_metric      : 0.9075969827586206\n",
      "    f1             : 0.90775696797184\n",
      "    balanced_accuracy: 0.908572343409576\n",
      "    precision      : 0.9099050207709336\n",
      "    recall         : 0.9075969827586206\n",
      "    val_loss       : 1.0742123872041702\n",
      "    val_my_metric  : 0.6640625\n",
      "    val_f1         : 0.7052273198011599\n",
      "    val_balanced_accuracy: 0.6623541083099906\n",
      "    val_precision  : 0.7904088124454504\n",
      "    val_recall     : 0.6640625\n"
     ]
    },
    {
     "name": "stdout",
     "output_type": "stream",
     "text": [
      "Model has not improved in -------------| 290 epochs\n"
     ]
    },
    {
     "name": "stderr",
     "output_type": "stream",
     "text": [
      "    epoch          : 392\n",
      "    loss           : 0.23873037182622486\n",
      "    my_metric      : 0.9010117337164751\n",
      "    f1             : 0.9016526187588708\n",
      "    balanced_accuracy: 0.90656033552185\n",
      "    precision      : 0.9082237529029504\n",
      "    recall         : 0.9010117337164751\n",
      "    val_loss       : 0.8064973130822182\n",
      "    val_my_metric  : 0.7265625\n",
      "    val_f1         : 0.7244448919624976\n",
      "    val_balanced_accuracy: 0.724688868922615\n",
      "    val_precision  : 0.7558620478983382\n",
      "    val_recall     : 0.7265625\n"
     ]
    },
    {
     "name": "stdout",
     "output_type": "stream",
     "text": [
      "Model has not improved in -------------| 291 epochs\n"
     ]
    },
    {
     "name": "stderr",
     "output_type": "stream",
     "text": [
      "    epoch          : 393\n",
      "    loss           : 0.22848796596129736\n",
      "    my_metric      : 0.9053819444444444\n",
      "    f1             : 0.9057148971633665\n",
      "    balanced_accuracy: 0.9091375221262739\n",
      "    precision      : 0.910164143522525\n",
      "    recall         : 0.9053819444444444\n",
      "    val_loss       : 0.7227741461247206\n",
      "    val_my_metric  : 0.7578125\n",
      "    val_f1         : 0.756424874409221\n",
      "    val_balanced_accuracy: 0.7520340040501331\n",
      "    val_precision  : 0.7569192079224975\n",
      "    val_recall     : 0.7578125\n"
     ]
    },
    {
     "name": "stdout",
     "output_type": "stream",
     "text": [
      "Model has not improved in -------------| 292 epochs\n"
     ]
    },
    {
     "name": "stderr",
     "output_type": "stream",
     "text": [
      "    epoch          : 394\n",
      "    loss           : 0.2375209563308292\n",
      "    my_metric      : 0.900323275862069\n",
      "    f1             : 0.9007700564300448\n",
      "    balanced_accuracy: 0.9060073332607222\n",
      "    precision      : 0.9081789254449765\n",
      "    recall         : 0.900323275862069\n",
      "    val_loss       : 0.986261636018753\n",
      "    val_my_metric  : 0.69140625\n",
      "    val_f1         : 0.6960714785822575\n",
      "    val_balanced_accuracy: 0.7126436781609196\n",
      "    val_precision  : 0.7250836951292156\n",
      "    val_recall     : 0.69140625\n"
     ]
    },
    {
     "name": "stdout",
     "output_type": "stream",
     "text": [
      "Model has not improved in -------------| 293 epochs\n"
     ]
    },
    {
     "name": "stderr",
     "output_type": "stream",
     "text": [
      "    epoch          : 395\n",
      "    loss           : 0.23473395655552545\n",
      "    my_metric      : 0.9069384578544061\n",
      "    f1             : 0.9073560431953757\n",
      "    balanced_accuracy: 0.9113144235547372\n",
      "    precision      : 0.9119731162360772\n",
      "    recall         : 0.9069384578544061\n",
      "    val_loss       : 0.5924077806994319\n",
      "    val_my_metric  : 0.8046875\n",
      "    val_f1         : 0.8041914682539683\n",
      "    val_balanced_accuracy: 0.8022769407085314\n",
      "    val_precision  : 0.8047885449599159\n",
      "    val_recall     : 0.8046875\n"
     ]
    },
    {
     "name": "stdout",
     "output_type": "stream",
     "text": [
      "Model has not improved in -------------| 294 epochs\n"
     ]
    },
    {
     "name": "stderr",
     "output_type": "stream",
     "text": [
      "    epoch          : 396\n",
      "    loss           : 0.22189383622672823\n",
      "    my_metric      : 0.9022389846743296\n",
      "    f1             : 0.9025583808786717\n",
      "    balanced_accuracy: 0.904653235885868\n",
      "    precision      : 0.9056545264100302\n",
      "    recall         : 0.9022389846743296\n",
      "    val_loss       : 0.8614983260631561\n",
      "    val_my_metric  : 0.73046875\n",
      "    val_f1         : 0.7256716070586674\n",
      "    val_balanced_accuracy: 0.7223833607454297\n",
      "    val_precision  : 0.7518272702108415\n",
      "    val_recall     : 0.73046875\n"
     ]
    },
    {
     "name": "stdout",
     "output_type": "stream",
     "text": [
      "Model has not improved in -------------| 295 epochs\n"
     ]
    },
    {
     "name": "stderr",
     "output_type": "stream",
     "text": [
      "    epoch          : 397\n",
      "    loss           : 0.2186303809285164\n",
      "    my_metric      : 0.9138829022988505\n",
      "    f1             : 0.9140414792964955\n",
      "    balanced_accuracy: 0.9152063132298376\n",
      "    precision      : 0.9169293961560238\n",
      "    recall         : 0.9138829022988505\n",
      "    val_loss       : 0.6349763385951519\n",
      "    val_my_metric  : 0.75390625\n",
      "    val_f1         : 0.7536747566159331\n",
      "    val_balanced_accuracy: 0.7515644496888276\n",
      "    val_precision  : 0.7563254147812971\n",
      "    val_recall     : 0.75390625\n"
     ]
    },
    {
     "name": "stdout",
     "output_type": "stream",
     "text": [
      "Model has not improved in -------------| 296 epochs\n"
     ]
    },
    {
     "name": "stderr",
     "output_type": "stream",
     "text": [
      "    epoch          : 398\n",
      "    loss           : 0.2348227095272806\n",
      "    my_metric      : 0.8954741379310344\n",
      "    f1             : 0.8959727226041702\n",
      "    balanced_accuracy: 0.9010190661894373\n",
      "    precision      : 0.9042151750582096\n",
      "    recall         : 0.8954741379310344\n",
      "    val_loss       : 0.7468378581106663\n",
      "    val_my_metric  : 0.71875\n",
      "    val_f1         : 0.722501026272578\n",
      "    val_balanced_accuracy: 0.7399263972956964\n",
      "    val_precision  : 0.7536423739009945\n",
      "    val_recall     : 0.71875\n"
     ]
    },
    {
     "name": "stdout",
     "output_type": "stream",
     "text": [
      "Model has not improved in -------------| 297 epochs\n"
     ]
    },
    {
     "name": "stderr",
     "output_type": "stream",
     "text": [
      "    epoch          : 399\n",
      "    loss           : 0.23122495537002882\n",
      "    my_metric      : 0.8978987068965518\n",
      "    f1             : 0.8979258005493183\n",
      "    balanced_accuracy: 0.8983793398597418\n",
      "    precision      : 0.9008724112072078\n",
      "    recall         : 0.8978987068965518\n",
      "    val_loss       : 1.0096863359212875\n",
      "    val_my_metric  : 0.59765625\n",
      "    val_f1         : 0.6349805046248452\n",
      "    val_balanced_accuracy: 0.5963643790849673\n",
      "    val_precision  : 0.7852045703338807\n",
      "    val_recall     : 0.59765625\n"
     ]
    },
    {
     "name": "stdout",
     "output_type": "stream",
     "text": [
      "Model has not improved in -------------| 298 epochs\n"
     ]
    },
    {
     "name": "stderr",
     "output_type": "stream",
     "text": [
      "    epoch          : 400\n",
      "    loss           : 0.2260548240608639\n",
      "    my_metric      : 0.8999940134099617\n",
      "    f1             : 0.9003501203048577\n",
      "    balanced_accuracy: 0.9039575080380146\n",
      "    precision      : 0.9056139581642417\n",
      "    recall         : 0.8999940134099617\n",
      "    val_loss       : 0.6626265197992325\n",
      "    val_my_metric  : 0.78125\n",
      "    val_f1         : 0.7810518461416824\n",
      "    val_balanced_accuracy: 0.783314015261277\n",
      "    val_precision  : 0.7864432889634503\n",
      "    val_recall     : 0.78125\n",
      "Saving checkpoint: saved/MaskedVolume_3d/0619_200535/checkpoint-epoch400.pth ...\n"
     ]
    },
    {
     "name": "stdout",
     "output_type": "stream",
     "text": [
      "Model has not improved in -------------| 299 epochs\n"
     ]
    },
    {
     "name": "stderr",
     "output_type": "stream",
     "text": [
      "    epoch          : 401\n",
      "    loss           : 0.23274116549226972\n",
      "    my_metric      : 0.8796695402298851\n",
      "    f1             : 0.8800866603598337\n",
      "    balanced_accuracy: 0.8826487270058911\n",
      "    precision      : 0.8848876118682462\n",
      "    recall         : 0.8796695402298851\n",
      "    val_loss       : 0.7219285368919373\n",
      "    val_my_metric  : 0.70703125\n",
      "    val_f1         : 0.7030394544181309\n",
      "    val_balanced_accuracy: 0.7028016148936453\n",
      "    val_precision  : 0.7286598640791302\n",
      "    val_recall     : 0.70703125\n"
     ]
    },
    {
     "name": "stdout",
     "output_type": "stream",
     "text": [
      "Model has not improved in -------------| 300 epochs\n"
     ]
    },
    {
     "name": "stderr",
     "output_type": "stream",
     "text": [
      "    epoch          : 402\n",
      "    loss           : 0.22256050755580267\n",
      "    my_metric      : 0.894396551724138\n",
      "    f1             : 0.8948812046297121\n",
      "    balanced_accuracy: 0.8981869460626988\n",
      "    precision      : 0.8999255913877824\n",
      "    recall         : 0.894396551724138\n",
      "    val_loss       : 0.8797425478696823\n",
      "    val_my_metric  : 0.65625\n",
      "    val_f1         : 0.6979166666666666\n",
      "    val_balanced_accuracy: 0.6551416256157636\n",
      "    val_precision  : 0.78125\n",
      "    val_recall     : 0.65625\n"
     ]
    },
    {
     "name": "stdout",
     "output_type": "stream",
     "text": [
      "Model has not improved in -------------| 301 epochs\n"
     ]
    },
    {
     "name": "stderr",
     "output_type": "stream",
     "text": [
      "    epoch          : 403\n",
      "    loss           : 0.2177612218591902\n",
      "    my_metric      : 0.9138829022988505\n",
      "    f1             : 0.9141546541785927\n",
      "    balanced_accuracy: 0.9170125252922858\n",
      "    precision      : 0.9182322063924239\n",
      "    recall         : 0.9138829022988505\n",
      "    val_loss       : 0.6966968029737473\n",
      "    val_my_metric  : 0.71484375\n",
      "    val_f1         : 0.7191579021434849\n",
      "    val_balanced_accuracy: 0.7357980078224795\n",
      "    val_precision  : 0.7499536798124026\n",
      "    val_recall     : 0.71484375\n"
     ]
    },
    {
     "name": "stdout",
     "output_type": "stream",
     "text": [
      "Model has not improved in -------------| 302 epochs\n"
     ]
    },
    {
     "name": "stderr",
     "output_type": "stream",
     "text": [
      "    epoch          : 404\n",
      "    loss           : 0.22093835224707922\n",
      "    my_metric      : 0.9194204980842913\n",
      "    f1             : 0.9198263726633146\n",
      "    balanced_accuracy: 0.9228175197689799\n",
      "    precision      : 0.9242873399329421\n",
      "    recall         : 0.9194204980842913\n",
      "    val_loss       : 0.7920605689287186\n",
      "    val_my_metric  : 0.6875\n",
      "    val_f1         : 0.7148691249986386\n",
      "    val_balanced_accuracy: 0.6877718077314852\n",
      "    val_precision  : 0.7539262696843576\n",
      "    val_recall     : 0.6875\n"
     ]
    },
    {
     "name": "stdout",
     "output_type": "stream",
     "text": [
      "Model has not improved in -------------| 303 epochs\n"
     ]
    },
    {
     "name": "stderr",
     "output_type": "stream",
     "text": [
      "    epoch          : 405\n",
      "    loss           : 0.2341129332780838\n",
      "    my_metric      : 0.9005028735632185\n",
      "    f1             : 0.9012070584656353\n",
      "    balanced_accuracy: 0.9083652539710112\n",
      "    precision      : 0.9102242532104634\n",
      "    recall         : 0.9005028735632185\n",
      "    val_loss       : 0.6597751353401691\n",
      "    val_my_metric  : 0.765625\n",
      "    val_f1         : 0.7654966947913898\n",
      "    val_balanced_accuracy: 0.7649096880131363\n",
      "    val_precision  : 0.7717692057291667\n",
      "    val_recall     : 0.765625\n"
     ]
    },
    {
     "name": "stdout",
     "output_type": "stream",
     "text": [
      "Model has not improved in -------------| 304 epochs\n"
     ]
    },
    {
     "name": "stderr",
     "output_type": "stream",
     "text": [
      "    epoch          : 406\n",
      "    loss           : 0.2272061150934961\n",
      "    my_metric      : 0.9058908045977011\n",
      "    f1             : 0.9060199261053145\n",
      "    balanced_accuracy: 0.9072527426633743\n",
      "    precision      : 0.9099554945565012\n",
      "    recall         : 0.9058908045977011\n",
      "    val_loss       : 0.8625838309526443\n",
      "    val_my_metric  : 0.72265625\n",
      "    val_f1         : 0.7489861871425062\n",
      "    val_balanced_accuracy: 0.7260263480392157\n",
      "    val_precision  : 0.7931672481304834\n",
      "    val_recall     : 0.72265625\n"
     ]
    },
    {
     "name": "stdout",
     "output_type": "stream",
     "text": [
      "Model has not improved in -------------| 305 epochs\n"
     ]
    },
    {
     "name": "stderr",
     "output_type": "stream",
     "text": [
      "    epoch          : 407\n",
      "    loss           : 0.2269763983786106\n",
      "    my_metric      : 0.9045138888888888\n",
      "    f1             : 0.9049388091211041\n",
      "    balanced_accuracy: 0.9093314407091254\n",
      "    precision      : 0.9101433633005814\n",
      "    recall         : 0.9045138888888888\n",
      "    val_loss       : 0.9015162140130997\n",
      "    val_my_metric  : 0.578125\n",
      "    val_f1         : 0.5653866400991694\n",
      "    val_balanced_accuracy: 0.5754394111944168\n",
      "    val_precision  : 0.5569832470337984\n",
      "    val_recall     : 0.578125\n"
     ]
    },
    {
     "name": "stdout",
     "output_type": "stream",
     "text": [
      "Model has not improved in -------------| 306 epochs\n"
     ]
    },
    {
     "name": "stderr",
     "output_type": "stream",
     "text": [
      "    epoch          : 408\n",
      "    loss           : 0.2048240246044265\n",
      "    my_metric      : 0.9234315134099617\n",
      "    f1             : 0.9234682452252447\n",
      "    balanced_accuracy: 0.9239550118164259\n",
      "    precision      : 0.9255519449747981\n",
      "    recall         : 0.9234315134099617\n",
      "    val_loss       : 0.9832479059696198\n",
      "    val_my_metric  : 0.671875\n",
      "    val_f1         : 0.7120824927630992\n",
      "    val_balanced_accuracy: 0.6726698553462667\n",
      "    val_precision  : 0.8033229924535772\n",
      "    val_recall     : 0.671875\n"
     ]
    },
    {
     "name": "stdout",
     "output_type": "stream",
     "text": [
      "Model has not improved in -------------| 307 epochs\n"
     ]
    },
    {
     "name": "stderr",
     "output_type": "stream",
     "text": [
      "    epoch          : 409\n",
      "    loss           : 0.21495146801074347\n",
      "    my_metric      : 0.9150802203065135\n",
      "    f1             : 0.9154566453078977\n",
      "    balanced_accuracy: 0.9179784365411443\n",
      "    precision      : 0.9199241305901396\n",
      "    recall         : 0.9150802203065135\n",
      "    val_loss       : 1.0042699873447418\n",
      "    val_my_metric  : 0.65625\n",
      "    val_f1         : 0.6555014488971778\n",
      "    val_balanced_accuracy: 0.6680717406325926\n",
      "    val_precision  : 0.6824418703242716\n",
      "    val_recall     : 0.65625\n"
     ]
    },
    {
     "name": "stdout",
     "output_type": "stream",
     "text": [
      "Model has not improved in -------------| 308 epochs\n"
     ]
    },
    {
     "name": "stderr",
     "output_type": "stream",
     "text": [
      "    epoch          : 410\n",
      "    loss           : 0.2315396327111456\n",
      "    my_metric      : 0.9102310823754789\n",
      "    f1             : 0.9104019987366809\n",
      "    balanced_accuracy: 0.9128974213431158\n",
      "    precision      : 0.9138696382791066\n",
      "    recall         : 0.9102310823754789\n",
      "    val_loss       : 1.1812927722930908\n",
      "    val_my_metric  : 0.6484375\n",
      "    val_f1         : 0.6473387313552125\n",
      "    val_balanced_accuracy: 0.6479281010353117\n",
      "    val_precision  : 0.6529227922311166\n",
      "    val_recall     : 0.6484375\n"
     ]
    },
    {
     "name": "stdout",
     "output_type": "stream",
     "text": [
      "Model has not improved in -------------| 309 epochs\n"
     ]
    },
    {
     "name": "stderr",
     "output_type": "stream",
     "text": [
      "    epoch          : 411\n",
      "    loss           : 0.21742471059163412\n",
      "    my_metric      : 0.9090038314176245\n",
      "    f1             : 0.9091641513736342\n",
      "    balanced_accuracy: 0.9120903037686764\n",
      "    precision      : 0.9152758495499226\n",
      "    recall         : 0.9090038314176245\n",
      "    val_loss       : 0.8030383661389351\n",
      "    val_my_metric  : 0.72265625\n",
      "    val_f1         : 0.7189201389870451\n",
      "    val_balanced_accuracy: 0.7230282738095238\n",
      "    val_precision  : 0.74658154924423\n",
      "    val_recall     : 0.72265625\n"
     ]
    },
    {
     "name": "stdout",
     "output_type": "stream",
     "text": [
      "Model has not improved in -------------| 310 epochs\n"
     ]
    },
    {
     "name": "stderr",
     "output_type": "stream",
     "text": [
      "    epoch          : 412\n",
      "    loss           : 0.23156224687894186\n",
      "    my_metric      : 0.8873024425287357\n",
      "    f1             : 0.8875042270774024\n",
      "    balanced_accuracy: 0.8892911949104092\n",
      "    precision      : 0.891106612125089\n",
      "    recall         : 0.8873024425287357\n",
      "    val_loss       : 0.8568249195814133\n",
      "    val_my_metric  : 0.73046875\n",
      "    val_f1         : 0.7260411823320584\n",
      "    val_balanced_accuracy: 0.7335315258702355\n",
      "    val_precision  : 0.7615853527427654\n",
      "    val_recall     : 0.73046875\n"
     ]
    },
    {
     "name": "stdout",
     "output_type": "stream",
     "text": [
      "Model has not improved in -------------| 311 epochs\n"
     ]
    },
    {
     "name": "stderr",
     "output_type": "stream",
     "text": [
      "    epoch          : 413\n",
      "    loss           : 0.22463337952891985\n",
      "    my_metric      : 0.9017301245210727\n",
      "    f1             : 0.9021474230875722\n",
      "    balanced_accuracy: 0.9034026779480886\n",
      "    precision      : 0.9056282075405133\n",
      "    recall         : 0.9017301245210727\n",
      "    val_loss       : 1.156581088900566\n",
      "    val_my_metric  : 0.640625\n",
      "    val_f1         : 0.6400540289297405\n",
      "    val_balanced_accuracy: 0.6809716990244373\n",
      "    val_precision  : 0.7257587139423077\n",
      "    val_recall     : 0.640625\n"
     ]
    },
    {
     "name": "stdout",
     "output_type": "stream",
     "text": [
      "Model has not improved in -------------| 312 epochs\n"
     ]
    },
    {
     "name": "stderr",
     "output_type": "stream",
     "text": [
      "    epoch          : 414\n",
      "    loss           : 0.21266555123858982\n",
      "    my_metric      : 0.9121467911877394\n",
      "    f1             : 0.9124694572268459\n",
      "    balanced_accuracy: 0.9159077518353507\n",
      "    precision      : 0.917552614359533\n",
      "    recall         : 0.9121467911877394\n",
      "    val_loss       : 0.6682192906737328\n",
      "    val_my_metric  : 0.765625\n",
      "    val_f1         : 0.7622001870784538\n",
      "    val_balanced_accuracy: 0.7572535102312798\n",
      "    val_precision  : 0.7651332253305938\n",
      "    val_recall     : 0.765625\n"
     ]
    },
    {
     "name": "stdout",
     "output_type": "stream",
     "text": [
      "Model has not improved in -------------| 313 epochs\n"
     ]
    },
    {
     "name": "stderr",
     "output_type": "stream",
     "text": [
      "    epoch          : 415\n",
      "    loss           : 0.22046800951162973\n",
      "    my_metric      : 0.9065792624521074\n",
      "    f1             : 0.9069493911323703\n",
      "    balanced_accuracy: 0.9100649092126629\n",
      "    precision      : 0.9114903382704733\n",
      "    recall         : 0.9065792624521074\n",
      "    val_loss       : 0.6478261966258287\n",
      "    val_my_metric  : 0.76953125\n",
      "    val_f1         : 0.770455428686583\n",
      "    val_balanced_accuracy: 0.7769506743525831\n",
      "    val_precision  : 0.7910858856903779\n",
      "    val_recall     : 0.76953125\n"
     ]
    },
    {
     "name": "stdout",
     "output_type": "stream",
     "text": [
      "Model has not improved in -------------| 314 epochs\n"
     ]
    },
    {
     "name": "stderr",
     "output_type": "stream",
     "text": [
      "    epoch          : 416\n",
      "    loss           : 0.2313901682694753\n",
      "    my_metric      : 0.9086745689655172\n",
      "    f1             : 0.9089719639294537\n",
      "    balanced_accuracy: 0.91204465182959\n",
      "    precision      : 0.9127518098535522\n",
      "    recall         : 0.9086745689655172\n",
      "    val_loss       : 0.5999236358329654\n",
      "    val_my_metric  : 0.79296875\n",
      "    val_f1         : 0.7930051880358807\n",
      "    val_balanced_accuracy: 0.7888663500711897\n",
      "    val_precision  : 0.796870654701658\n",
      "    val_recall     : 0.79296875\n"
     ]
    },
    {
     "name": "stdout",
     "output_type": "stream",
     "text": [
      "Model has not improved in -------------| 315 epochs\n"
     ]
    },
    {
     "name": "stderr",
     "output_type": "stream",
     "text": [
      "    epoch          : 417\n",
      "    loss           : 0.2261131008466085\n",
      "    my_metric      : 0.9069384578544061\n",
      "    f1             : 0.9069920012746839\n",
      "    balanced_accuracy: 0.9084662386483084\n",
      "    precision      : 0.9096107580129242\n",
      "    recall         : 0.9069384578544061\n",
      "    val_loss       : 1.3012208044528961\n",
      "    val_my_metric  : 0.61328125\n",
      "    val_f1         : 0.6513632437927459\n",
      "    val_balanced_accuracy: 0.616421568627451\n",
      "    val_precision  : 0.8071160190615836\n",
      "    val_recall     : 0.61328125\n"
     ]
    },
    {
     "name": "stdout",
     "output_type": "stream",
     "text": [
      "Model has not improved in -------------| 316 epochs\n"
     ]
    },
    {
     "name": "stderr",
     "output_type": "stream",
     "text": [
      "    epoch          : 418\n",
      "    loss           : 0.21420955575174755\n",
      "    my_metric      : 0.9180435823754789\n",
      "    f1             : 0.918143178327973\n",
      "    balanced_accuracy: 0.920186538456973\n",
      "    precision      : 0.9226497696125529\n",
      "    recall         : 0.9180435823754789\n",
      "    val_loss       : 0.6045880643650889\n",
      "    val_my_metric  : 0.77734375\n",
      "    val_f1         : 0.7780871460597025\n",
      "    val_balanced_accuracy: 0.7753380227518158\n",
      "    val_precision  : 0.7796774699463119\n",
      "    val_recall     : 0.77734375\n"
     ]
    },
    {
     "name": "stdout",
     "output_type": "stream",
     "text": [
      "Model has not improved in -------------| 317 epochs\n"
     ]
    },
    {
     "name": "stderr",
     "output_type": "stream",
     "text": [
      "    epoch          : 419\n",
      "    loss           : 0.22665139784415564\n",
      "    my_metric      : 0.9017301245210727\n",
      "    f1             : 0.9019190640453498\n",
      "    balanced_accuracy: 0.9046426212567162\n",
      "    precision      : 0.9062955150730918\n",
      "    recall         : 0.9017301245210727\n",
      "    val_loss       : 0.7542273327708244\n",
      "    val_my_metric  : 0.6875\n",
      "    val_f1         : 0.6904435045287572\n",
      "    val_balanced_accuracy: 0.7033820585291173\n",
      "    val_precision  : 0.7203511267964393\n",
      "    val_recall     : 0.6875\n"
     ]
    },
    {
     "name": "stdout",
     "output_type": "stream",
     "text": [
      "Model has not improved in -------------| 318 epochs\n"
     ]
    },
    {
     "name": "stderr",
     "output_type": "stream",
     "text": [
      "    epoch          : 420\n",
      "    loss           : 0.2328539647989803\n",
      "    my_metric      : 0.9011913314176245\n",
      "    f1             : 0.9014545829274451\n",
      "    balanced_accuracy: 0.9041816452280007\n",
      "    precision      : 0.9074713222576261\n",
      "    recall         : 0.9011913314176245\n",
      "    val_loss       : 1.0336234122514725\n",
      "    val_my_metric  : 0.6015625\n",
      "    val_f1         : 0.58934026054316\n",
      "    val_balanced_accuracy: 0.6038962413575417\n",
      "    val_precision  : 0.5891743546273799\n",
      "    val_recall     : 0.6015625\n"
     ]
    },
    {
     "name": "stdout",
     "output_type": "stream",
     "text": [
      "Model has not improved in -------------| 319 epochs\n"
     ]
    },
    {
     "name": "stderr",
     "output_type": "stream",
     "text": [
      "    epoch          : 421\n",
      "    loss           : 0.2238791303502189\n",
      "    my_metric      : 0.9093630268199233\n",
      "    f1             : 0.909644595815811\n",
      "    balanced_accuracy: 0.9124366795956538\n",
      "    precision      : 0.9139496398520729\n",
      "    recall         : 0.9093630268199233\n",
      "    val_loss       : 0.81913161277771\n",
      "    val_my_metric  : 0.71875\n",
      "    val_f1         : 0.7242475237614772\n",
      "    val_balanced_accuracy: 0.7400853809474499\n",
      "    val_precision  : 0.7558286552093898\n",
      "    val_recall     : 0.71875\n"
     ]
    },
    {
     "name": "stdout",
     "output_type": "stream",
     "text": [
      "Model has not improved in -------------| 320 epochs\n"
     ]
    },
    {
     "name": "stderr",
     "output_type": "stream",
     "text": [
      "    epoch          : 422\n",
      "    loss           : 0.23239285167720583\n",
      "    my_metric      : 0.9072677203065135\n",
      "    f1             : 0.9076308200966443\n",
      "    balanced_accuracy: 0.9122704937035174\n",
      "    precision      : 0.9140113934695676\n",
      "    recall         : 0.9072677203065135\n",
      "    val_loss       : 0.6987615078687668\n",
      "    val_my_metric  : 0.67578125\n",
      "    val_f1         : 0.6323486161847834\n",
      "    val_balanced_accuracy: 0.6729144965032061\n",
      "    val_precision  : 0.6178349301562472\n",
      "    val_recall     : 0.67578125\n"
     ]
    },
    {
     "name": "stdout",
     "output_type": "stream",
     "text": [
      "Model has not improved in -------------| 321 epochs\n"
     ]
    },
    {
     "name": "stderr",
     "output_type": "stream",
     "text": [
      "    epoch          : 423\n",
      "    loss           : 0.2147752063141929\n",
      "    my_metric      : 0.9171755268199233\n",
      "    f1             : 0.9175993542690283\n",
      "    balanced_accuracy: 0.9220073478598452\n",
      "    precision      : 0.922885642364233\n",
      "    recall         : 0.9171755268199233\n",
      "    val_loss       : 0.5544829647988081\n",
      "    val_my_metric  : 0.8046875\n",
      "    val_f1         : 0.8040167544994768\n",
      "    val_balanced_accuracy: 0.8020375286000286\n",
      "    val_precision  : 0.8067702750119663\n",
      "    val_recall     : 0.8046875\n"
     ]
    },
    {
     "name": "stdout",
     "output_type": "stream",
     "text": [
      "Model has not improved in -------------| 322 epochs\n"
     ]
    },
    {
     "name": "stderr",
     "output_type": "stream",
     "text": [
      "    epoch          : 424\n",
      "    loss           : 0.2219400807387299\n",
      "    my_metric      : 0.9095426245210727\n",
      "    f1             : 0.909707097881813\n",
      "    balanced_accuracy: 0.9113872876561734\n",
      "    precision      : 0.9130476502502063\n",
      "    recall         : 0.9095426245210727\n",
      "    val_loss       : 0.8143554925918579\n",
      "    val_my_metric  : 0.66015625\n",
      "    val_f1         : 0.6607374263336165\n",
      "    val_balanced_accuracy: 0.7028042521994134\n",
      "    val_precision  : 0.7476489302617599\n",
      "    val_recall     : 0.66015625\n"
     ]
    },
    {
     "name": "stdout",
     "output_type": "stream",
     "text": [
      "Model has not improved in -------------| 323 epochs\n"
     ]
    },
    {
     "name": "stderr",
     "output_type": "stream",
     "text": [
      "    epoch          : 425\n",
      "    loss           : 0.24724595910973018\n",
      "    my_metric      : 0.8947557471264367\n",
      "    f1             : 0.8949926018481718\n",
      "    balanced_accuracy: 0.8973829248527578\n",
      "    precision      : 0.8995860060630435\n",
      "    recall         : 0.8947557471264367\n",
      "    val_loss       : 1.0024952739477158\n",
      "    val_my_metric  : 0.70703125\n",
      "    val_f1         : 0.7017742615634313\n",
      "    val_balanced_accuracy: 0.7048093460426609\n",
      "    val_precision  : 0.7284672980434383\n",
      "    val_recall     : 0.70703125\n"
     ]
    },
    {
     "name": "stdout",
     "output_type": "stream",
     "text": [
      "Model has not improved in -------------| 324 epochs\n"
     ]
    },
    {
     "name": "stderr",
     "output_type": "stream",
     "text": [
      "    epoch          : 426\n",
      "    loss           : 0.23194987657997343\n",
      "    my_metric      : 0.9029274425287357\n",
      "    f1             : 0.9030751727917148\n",
      "    balanced_accuracy: 0.9045831157009301\n",
      "    precision      : 0.9051506181012545\n",
      "    recall         : 0.9029274425287357\n",
      "    val_loss       : 0.6645707590505481\n",
      "    val_my_metric  : 0.77734375\n",
      "    val_f1         : 0.7768497839779414\n",
      "    val_balanced_accuracy: 0.7757615985855697\n",
      "    val_precision  : 0.7789304411985863\n",
      "    val_recall     : 0.77734375\n"
     ]
    },
    {
     "name": "stdout",
     "output_type": "stream",
     "text": [
      "Model has not improved in -------------| 325 epochs\n"
     ]
    },
    {
     "name": "stderr",
     "output_type": "stream",
     "text": [
      "    epoch          : 427\n",
      "    loss           : 0.21357178688049316\n",
      "    my_metric      : 0.9128352490421455\n",
      "    f1             : 0.9129372861769048\n",
      "    balanced_accuracy: 0.914241246918141\n",
      "    precision      : 0.9156169459114207\n",
      "    recall         : 0.9128352490421455\n",
      "    val_loss       : 1.1037933677434921\n",
      "    val_my_metric  : 0.69140625\n",
      "    val_f1         : 0.7337925620547969\n",
      "    val_balanced_accuracy: 0.6902062824206363\n",
      "    val_precision  : 0.8194225467083642\n",
      "    val_recall     : 0.69140625\n"
     ]
    },
    {
     "name": "stdout",
     "output_type": "stream",
     "text": [
      "Model has not improved in -------------| 326 epochs\n"
     ]
    },
    {
     "name": "stderr",
     "output_type": "stream",
     "text": [
      "    epoch          : 428\n",
      "    loss           : 0.23190490073627895\n",
      "    my_metric      : 0.9058908045977011\n",
      "    f1             : 0.9060702099973617\n",
      "    balanced_accuracy: 0.9081067213241555\n",
      "    precision      : 0.9094535907304334\n",
      "    recall         : 0.9058908045977011\n",
      "    val_loss       : 1.1858641058206558\n",
      "    val_my_metric  : 0.68359375\n",
      "    val_f1         : 0.6835727177122725\n",
      "    val_balanced_accuracy: 0.726193385467579\n",
      "    val_precision  : 0.7715024755021725\n",
      "    val_recall     : 0.68359375\n"
     ]
    },
    {
     "name": "stdout",
     "output_type": "stream",
     "text": [
      "Model has not improved in -------------| 327 epochs\n"
     ]
    },
    {
     "name": "stderr",
     "output_type": "stream",
     "text": [
      "    epoch          : 429\n",
      "    loss           : 0.21904912094275156\n",
      "    my_metric      : 0.9067588601532566\n",
      "    f1             : 0.9071555105950502\n",
      "    balanced_accuracy: 0.910745699985551\n",
      "    precision      : 0.9125101604123306\n",
      "    recall         : 0.9067588601532566\n",
      "    val_loss       : 0.8210616856813431\n",
      "    val_my_metric  : 0.71875\n",
      "    val_f1         : 0.7145833333333333\n",
      "    val_balanced_accuracy: 0.7194798609098811\n",
      "    val_precision  : 0.7426724515237129\n",
      "    val_recall     : 0.71875\n"
     ]
    },
    {
     "name": "stdout",
     "output_type": "stream",
     "text": [
      "Model has not improved in -------------| 328 epochs\n"
     ]
    },
    {
     "name": "stderr",
     "output_type": "stream",
     "text": [
      "    epoch          : 430\n",
      "    loss           : 0.22402651773558724\n",
      "    my_metric      : 0.9031070402298851\n",
      "    f1             : 0.9032045379905882\n",
      "    balanced_accuracy: 0.9038995348292489\n",
      "    precision      : 0.9057961998419\n",
      "    recall         : 0.9031070402298851\n",
      "    val_loss       : 0.7585480064153671\n",
      "    val_my_metric  : 0.6953125\n",
      "    val_f1         : 0.7018227354279926\n",
      "    val_balanced_accuracy: 0.718785270706523\n",
      "    val_precision  : 0.7378606264891863\n",
      "    val_recall     : 0.6953125\n"
     ]
    },
    {
     "name": "stdout",
     "output_type": "stream",
     "text": [
      "Model has not improved in -------------| 329 epochs\n"
     ]
    },
    {
     "name": "stderr",
     "output_type": "stream",
     "text": [
      "    epoch          : 431\n",
      "    loss           : 0.25309793568319744\n",
      "    my_metric      : 0.876885775862069\n",
      "    f1             : 0.8772388910366891\n",
      "    balanced_accuracy: 0.8810562153045349\n",
      "    precision      : 0.8845287317873106\n",
      "    recall         : 0.876885775862069\n",
      "    val_loss       : 0.8679510354995728\n",
      "    val_my_metric  : 0.7265625\n",
      "    val_f1         : 0.7305364050196318\n",
      "    val_balanced_accuracy: 0.7485542604138429\n",
      "    val_precision  : 0.7621924544029324\n",
      "    val_recall     : 0.7265625\n"
     ]
    },
    {
     "name": "stdout",
     "output_type": "stream",
     "text": [
      "Model has not improved in -------------| 330 epochs\n"
     ]
    },
    {
     "name": "stderr",
     "output_type": "stream",
     "text": [
      "    epoch          : 432\n",
      "    loss           : 0.21016895357105467\n",
      "    my_metric      : 0.9156190134099617\n",
      "    f1             : 0.915842468157671\n",
      "    balanced_accuracy: 0.9181555688366806\n",
      "    precision      : 0.9191235532789442\n",
      "    recall         : 0.9156190134099617\n",
      "    val_loss       : 0.7989386916160583\n",
      "    val_my_metric  : 0.7109375\n",
      "    val_f1         : 0.7081219146062757\n",
      "    val_balanced_accuracy: 0.7152154047509094\n",
      "    val_precision  : 0.742178079138444\n",
      "    val_recall     : 0.7109375\n"
     ]
    },
    {
     "name": "stdout",
     "output_type": "stream",
     "text": [
      "Model has not improved in -------------| 331 epochs\n"
     ]
    },
    {
     "name": "stderr",
     "output_type": "stream",
     "text": [
      "    epoch          : 433\n",
      "    loss           : 0.21869537151522106\n",
      "    my_metric      : 0.9129849137931034\n",
      "    f1             : 0.9136641032981403\n",
      "    balanced_accuracy: 0.9164143437129305\n",
      "    precision      : 0.9184351839303054\n",
      "    recall         : 0.9129849137931034\n",
      "    val_loss       : 0.8952449858188629\n",
      "    val_my_metric  : 0.671875\n",
      "    val_f1         : 0.6718250775337269\n",
      "    val_balanced_accuracy: 0.6320723009031199\n",
      "    val_precision  : 0.6769858374384237\n",
      "    val_recall     : 0.671875\n"
     ]
    },
    {
     "name": "stdout",
     "output_type": "stream",
     "text": [
      "Model has not improved in -------------| 332 epochs\n"
     ]
    },
    {
     "name": "stderr",
     "output_type": "stream",
     "text": [
      "    epoch          : 434\n",
      "    loss           : 0.21734999534156588\n",
      "    my_metric      : 0.9058908045977011\n",
      "    f1             : 0.9061074761179836\n",
      "    balanced_accuracy: 0.909149562518277\n",
      "    precision      : 0.9113008678267069\n",
      "    recall         : 0.9058908045977011\n",
      "    val_loss       : 0.9684326946735382\n",
      "    val_my_metric  : 0.703125\n",
      "    val_f1         : 0.6977428235708635\n",
      "    val_balanced_accuracy: 0.6957725990484611\n",
      "    val_precision  : 0.7250225149709937\n",
      "    val_recall     : 0.703125\n"
     ]
    },
    {
     "name": "stdout",
     "output_type": "stream",
     "text": [
      "Model has not improved in -------------| 333 epochs\n"
     ]
    },
    {
     "name": "stderr",
     "output_type": "stream",
     "text": [
      "    epoch          : 435\n",
      "    loss           : 0.23756198419464958\n",
      "    my_metric      : 0.8996348180076629\n",
      "    f1             : 0.8997988181112925\n",
      "    balanced_accuracy: 0.9012068501944643\n",
      "    precision      : 0.9019379502019544\n",
      "    recall         : 0.8996348180076629\n",
      "    val_loss       : 1.0505688339471817\n",
      "    val_my_metric  : 0.6640625\n",
      "    val_f1         : 0.6653803431449394\n",
      "    val_balanced_accuracy: 0.706350916803503\n",
      "    val_precision  : 0.7550431892669797\n",
      "    val_recall     : 0.6640625\n"
     ]
    },
    {
     "name": "stdout",
     "output_type": "stream",
     "text": [
      "Model has not improved in -------------| 334 epochs\n"
     ]
    },
    {
     "name": "stderr",
     "output_type": "stream",
     "text": [
      "    epoch          : 436\n",
      "    loss           : 0.22623012711604437\n",
      "    my_metric      : 0.9063996647509579\n",
      "    f1             : 0.9068065265600901\n",
      "    balanced_accuracy: 0.9122939575024973\n",
      "    precision      : 0.9146520760582022\n",
      "    recall         : 0.9063996647509579\n",
      "    val_loss       : 0.9267942607402802\n",
      "    val_my_metric  : 0.68359375\n",
      "    val_f1         : 0.6832364545855187\n",
      "    val_balanced_accuracy: 0.6400530125713949\n",
      "    val_precision  : 0.6843886836343733\n",
      "    val_recall     : 0.68359375\n"
     ]
    },
    {
     "name": "stdout",
     "output_type": "stream",
     "text": [
      "Model has not improved in -------------| 335 epochs\n"
     ]
    },
    {
     "name": "stderr",
     "output_type": "stream",
     "text": [
      "    epoch          : 437\n",
      "    loss           : 0.21547337041960823\n",
      "    my_metric      : 0.9050227490421455\n",
      "    f1             : 0.9051951388727224\n",
      "    balanced_accuracy: 0.9063935829451358\n",
      "    precision      : 0.9076452866138075\n",
      "    recall         : 0.9050227490421455\n",
      "    val_loss       : 0.7433877140283585\n",
      "    val_my_metric  : 0.68359375\n",
      "    val_f1         : 0.6911723644933812\n",
      "    val_balanced_accuracy: 0.7086986431737228\n",
      "    val_precision  : 0.7316554649203431\n",
      "    val_recall     : 0.68359375\n"
     ]
    },
    {
     "name": "stdout",
     "output_type": "stream",
     "text": [
      "Model has not improved in -------------| 336 epochs\n"
     ]
    },
    {
     "name": "stderr",
     "output_type": "stream",
     "text": [
      "    epoch          : 438\n",
      "    loss           : 0.2273521845539411\n",
      "    my_metric      : 0.8994552203065135\n",
      "    f1             : 0.8996230725437163\n",
      "    balanced_accuracy: 0.9011141669223733\n",
      "    precision      : 0.9034522095044617\n",
      "    recall         : 0.8994552203065135\n",
      "    val_loss       : 0.8321155309677124\n",
      "    val_my_metric  : 0.734375\n",
      "    val_f1         : 0.7072829131652661\n",
      "    val_balanced_accuracy: 0.6681268853695324\n",
      "    val_precision  : 0.6882440476190477\n",
      "    val_recall     : 0.734375\n"
     ]
    },
    {
     "name": "stdout",
     "output_type": "stream",
     "text": [
      "Model has not improved in -------------| 337 epochs\n"
     ]
    },
    {
     "name": "stderr",
     "output_type": "stream",
     "text": [
      "    epoch          : 439\n",
      "    loss           : 0.21352650473515192\n",
      "    my_metric      : 0.9129849137931034\n",
      "    f1             : 0.9129958919625393\n",
      "    balanced_accuracy: 0.9142241547676081\n",
      "    precision      : 0.9155034030746348\n",
      "    recall         : 0.9129849137931034\n",
      "    val_loss       : 0.6731189489364624\n",
      "    val_my_metric  : 0.7578125\n",
      "    val_f1         : 0.7537207007711516\n",
      "    val_balanced_accuracy: 0.7584590748383851\n",
      "    val_precision  : 0.7826121496775793\n",
      "    val_recall     : 0.7578125\n"
     ]
    },
    {
     "name": "stdout",
     "output_type": "stream",
     "text": [
      "Model has not improved in -------------| 338 epochs\n"
     ]
    },
    {
     "name": "stderr",
     "output_type": "stream",
     "text": [
      "    epoch          : 440\n",
      "    loss           : 0.225687305132548\n",
      "    my_metric      : 0.9117875957854407\n",
      "    f1             : 0.9122484688467625\n",
      "    balanced_accuracy: 0.9177495988278568\n",
      "    precision      : 0.9181190085649616\n",
      "    recall         : 0.9117875957854407\n",
      "    val_loss       : 0.6941573293879628\n",
      "    val_my_metric  : 0.7578125\n",
      "    val_f1         : 0.756938359088092\n",
      "    val_balanced_accuracy: 0.7563427921455939\n",
      "    val_precision  : 0.7608691254625368\n",
      "    val_recall     : 0.7578125\n"
     ]
    },
    {
     "name": "stdout",
     "output_type": "stream",
     "text": [
      "Model has not improved in -------------| 339 epochs\n"
     ]
    },
    {
     "name": "stderr",
     "output_type": "stream",
     "text": [
      "    epoch          : 441\n",
      "    loss           : 0.22857696894142362\n",
      "    my_metric      : 0.8985871647509579\n",
      "    f1             : 0.8990683115419004\n",
      "    balanced_accuracy: 0.9033242103011574\n",
      "    precision      : 0.9051602131051167\n",
      "    recall         : 0.8985871647509579\n",
      "    val_loss       : 0.9838012456893921\n",
      "    val_my_metric  : 0.64453125\n",
      "    val_f1         : 0.6436309096423379\n",
      "    val_balanced_accuracy: 0.6838989441930617\n",
      "    val_precision  : 0.733025960732218\n",
      "    val_recall     : 0.64453125\n"
     ]
    },
    {
     "name": "stdout",
     "output_type": "stream",
     "text": [
      "Model has not improved in -------------| 340 epochs\n"
     ]
    },
    {
     "name": "stderr",
     "output_type": "stream",
     "text": [
      "    epoch          : 442\n",
      "    loss           : 0.22457146727376515\n",
      "    my_metric      : 0.9032866379310344\n",
      "    f1             : 0.9035254641903268\n",
      "    balanced_accuracy: 0.906209786708808\n",
      "    precision      : 0.9088408299844636\n",
      "    recall         : 0.9032866379310344\n",
      "    val_loss       : 0.8960521519184113\n",
      "    val_my_metric  : 0.65234375\n",
      "    val_f1         : 0.653712172492779\n",
      "    val_balanced_accuracy: 0.6091572149387615\n",
      "    val_precision  : 0.6570834812240449\n",
      "    val_recall     : 0.65234375\n"
     ]
    },
    {
     "name": "stdout",
     "output_type": "stream",
     "text": [
      "Model has not improved in -------------| 341 epochs\n"
     ]
    },
    {
     "name": "stderr",
     "output_type": "stream",
     "text": [
      "    epoch          : 443\n",
      "    loss           : 0.2287951476044125\n",
      "    my_metric      : 0.9015505268199233\n",
      "    f1             : 0.9023633765477508\n",
      "    balanced_accuracy: 0.9059899609077866\n",
      "    precision      : 0.9087668766560478\n",
      "    recall         : 0.9015505268199233\n",
      "    val_loss       : 0.6750001767650247\n",
      "    val_my_metric  : 0.77734375\n",
      "    val_f1         : 0.7775727730757004\n",
      "    val_balanced_accuracy: 0.7764778325123153\n",
      "    val_precision  : 0.7782380478767753\n",
      "    val_recall     : 0.77734375\n"
     ]
    },
    {
     "name": "stdout",
     "output_type": "stream",
     "text": [
      "Model has not improved in -------------| 342 epochs\n"
     ]
    },
    {
     "name": "stderr",
     "output_type": "stream",
     "text": [
      "    epoch          : 444\n",
      "    loss           : 0.21473005993498695\n",
      "    my_metric      : 0.9154394157088122\n",
      "    f1             : 0.9156840238938277\n",
      "    balanced_accuracy: 0.9181936023959053\n",
      "    precision      : 0.9200174310317265\n",
      "    recall         : 0.9154394157088122\n",
      "    val_loss       : 0.696345292031765\n",
      "    val_my_metric  : 0.7265625\n",
      "    val_f1         : 0.724557501274717\n",
      "    val_balanced_accuracy: 0.7301543265781141\n",
      "    val_precision  : 0.7606246515686095\n",
      "    val_recall     : 0.7265625\n"
     ]
    },
    {
     "name": "stdout",
     "output_type": "stream",
     "text": [
      "Model has not improved in -------------| 343 epochs\n"
     ]
    },
    {
     "name": "stderr",
     "output_type": "stream",
     "text": [
      "    epoch          : 445\n",
      "    loss           : 0.2188782418767611\n",
      "    my_metric      : 0.9067588601532566\n",
      "    f1             : 0.90710623990361\n",
      "    balanced_accuracy: 0.9092314397958664\n",
      "    precision      : 0.9118747618135163\n",
      "    recall         : 0.9067588601532566\n",
      "    val_loss       : 0.6689228154718876\n",
      "    val_my_metric  : 0.7890625\n",
      "    val_f1         : 0.7900729946953882\n",
      "    val_balanced_accuracy: 0.7933887768817205\n",
      "    val_precision  : 0.7999661646056946\n",
      "    val_recall     : 0.7890625\n"
     ]
    },
    {
     "name": "stdout",
     "output_type": "stream",
     "text": [
      "Model has not improved in -------------| 344 epochs\n"
     ]
    },
    {
     "name": "stderr",
     "output_type": "stream",
     "text": [
      "    epoch          : 446\n",
      "    loss           : 0.21710305412610373\n",
      "    my_metric      : 0.9135237068965518\n",
      "    f1             : 0.9136890966042132\n",
      "    balanced_accuracy: 0.91591443740023\n",
      "    precision      : 0.9188089382843838\n",
      "    recall         : 0.9135237068965518\n",
      "    val_loss       : 0.7532205805182457\n",
      "    val_my_metric  : 0.74609375\n",
      "    val_f1         : 0.7425097831347831\n",
      "    val_balanced_accuracy: 0.7468517604707121\n",
      "    val_precision  : 0.7703947149980681\n",
      "    val_recall     : 0.74609375\n"
     ]
    },
    {
     "name": "stdout",
     "output_type": "stream",
     "text": [
      "Model has not improved in -------------| 345 epochs\n"
     ]
    },
    {
     "name": "stderr",
     "output_type": "stream",
     "text": [
      "    epoch          : 447\n",
      "    loss           : 0.22181007431613076\n",
      "    my_metric      : 0.909183429118774\n",
      "    f1             : 0.9092148417006841\n",
      "    balanced_accuracy: 0.9088071521858042\n",
      "    precision      : 0.910514778878022\n",
      "    recall         : 0.909183429118774\n",
      "    val_loss       : 0.9519084244966507\n",
      "    val_my_metric  : 0.70703125\n",
      "    val_f1         : 0.7339086446207855\n",
      "    val_balanced_accuracy: 0.70304256713809\n",
      "    val_precision  : 0.7699696836366758\n",
      "    val_recall     : 0.70703125\n"
     ]
    },
    {
     "name": "stdout",
     "output_type": "stream",
     "text": [
      "Model has not improved in -------------| 346 epochs\n"
     ]
    },
    {
     "name": "stderr",
     "output_type": "stream",
     "text": [
      "    epoch          : 448\n",
      "    loss           : 0.22055430710315704\n",
      "    my_metric      : 0.9078065134099617\n",
      "    f1             : 0.9079790237414463\n",
      "    balanced_accuracy: 0.9095834663083266\n",
      "    precision      : 0.9117436065512563\n",
      "    recall         : 0.9078065134099617\n",
      "    val_loss       : 0.7704487964510918\n",
      "    val_my_metric  : 0.71875\n",
      "    val_f1         : 0.7150829791037661\n",
      "    val_balanced_accuracy: 0.7195850218857809\n",
      "    val_precision  : 0.742301575482649\n",
      "    val_recall     : 0.71875\n"
     ]
    },
    {
     "name": "stdout",
     "output_type": "stream",
     "text": [
      "Model has not improved in -------------| 347 epochs\n"
     ]
    },
    {
     "name": "stderr",
     "output_type": "stream",
     "text": [
      "    epoch          : 449\n",
      "    loss           : 0.22575073606438106\n",
      "    my_metric      : 0.8959829980842913\n",
      "    f1             : 0.8960154373368001\n",
      "    balanced_accuracy: 0.8966314182086319\n",
      "    precision      : 0.8989393312135796\n",
      "    recall         : 0.8959829980842913\n",
      "    val_loss       : 1.1656134873628616\n",
      "    val_my_metric  : 0.6875\n",
      "    val_f1         : 0.6882144093585626\n",
      "    val_balanced_accuracy: 0.6454588638499555\n",
      "    val_precision  : 0.6916736090988119\n",
      "    val_recall     : 0.6875\n"
     ]
    },
    {
     "name": "stdout",
     "output_type": "stream",
     "text": [
      "Model has not improved in -------------| 348 epochs\n"
     ]
    },
    {
     "name": "stderr",
     "output_type": "stream",
     "text": [
      "    epoch          : 450\n",
      "    loss           : 0.21845627079407373\n",
      "    my_metric      : 0.9096922892720306\n",
      "    f1             : 0.9099741241154268\n",
      "    balanced_accuracy: 0.9139886005674381\n",
      "    precision      : 0.9155122661907763\n",
      "    recall         : 0.9096922892720306\n",
      "    val_loss       : 0.9646594673395157\n",
      "    val_my_metric  : 0.73828125\n",
      "    val_f1         : 0.7345905216007662\n",
      "    val_balanced_accuracy: 0.7396130043220561\n",
      "    val_precision  : 0.7626576378294627\n",
      "    val_recall     : 0.73828125\n"
     ]
    },
    {
     "name": "stdout",
     "output_type": "stream",
     "text": [
      "Model has not improved in -------------| 349 epochs\n"
     ]
    },
    {
     "name": "stderr",
     "output_type": "stream",
     "text": [
      "    epoch          : 451\n",
      "    loss           : 0.22225291033585867\n",
      "    my_metric      : 0.9050227490421455\n",
      "    f1             : 0.9057048274478322\n",
      "    balanced_accuracy: 0.9115803308252554\n",
      "    precision      : 0.9131238826979724\n",
      "    recall         : 0.9050227490421455\n",
      "    val_loss       : 0.6909106895327568\n",
      "    val_my_metric  : 0.79296875\n",
      "    val_f1         : 0.7939135971112745\n",
      "    val_balanced_accuracy: 0.7939871403106697\n",
      "    val_precision  : 0.8012996744138985\n",
      "    val_recall     : 0.79296875\n"
     ]
    },
    {
     "name": "stdout",
     "output_type": "stream",
     "text": [
      "Model has not improved in -------------| 350 epochs\n"
     ]
    },
    {
     "name": "stderr",
     "output_type": "stream",
     "text": [
      "    epoch          : 452\n",
      "    loss           : 0.21747729844517177\n",
      "    my_metric      : 0.9110991379310344\n",
      "    f1             : 0.9111076553435711\n",
      "    balanced_accuracy: 0.9115982200016158\n",
      "    precision      : 0.9140608412403675\n",
      "    recall         : 0.9110991379310344\n",
      "    val_loss       : 0.996251717209816\n",
      "    val_my_metric  : 0.7109375\n",
      "    val_f1         : 0.7372897541583061\n",
      "    val_balanced_accuracy: 0.7093243927125505\n",
      "    val_precision  : 0.7773526875089375\n",
      "    val_recall     : 0.7109375\n"
     ]
    },
    {
     "name": "stdout",
     "output_type": "stream",
     "text": [
      "Model has not improved in -------------| 351 epochs\n"
     ]
    },
    {
     "name": "stderr",
     "output_type": "stream",
     "text": [
      "    epoch          : 453\n",
      "    loss           : 0.24633006503184637\n",
      "    my_metric      : 0.8961326628352491\n",
      "    f1             : 0.8964642944425041\n",
      "    balanced_accuracy: 0.8978297710939898\n",
      "    precision      : 0.9005949574517634\n",
      "    recall         : 0.8961326628352491\n",
      "    val_loss       : 0.6302075069397688\n",
      "    val_my_metric  : 0.79296875\n",
      "    val_f1         : 0.7929623151241221\n",
      "    val_balanced_accuracy: 0.7910770405559937\n",
      "    val_precision  : 0.7968695537054912\n",
      "    val_recall     : 0.79296875\n"
     ]
    },
    {
     "name": "stdout",
     "output_type": "stream",
     "text": [
      "Model has not improved in -------------| 352 epochs\n"
     ]
    },
    {
     "name": "stderr",
     "output_type": "stream",
     "text": [
      "    epoch          : 454\n",
      "    loss           : 0.22455402380890316\n",
      "    my_metric      : 0.9107399425287357\n",
      "    f1             : 0.9110143005806779\n",
      "    balanced_accuracy: 0.9130494517756755\n",
      "    precision      : 0.9139864067379205\n",
      "    recall         : 0.9107399425287357\n",
      "    val_loss       : 0.7994785904884338\n",
      "    val_my_metric  : 0.7265625\n",
      "    val_f1         : 0.753780633361573\n",
      "    val_balanced_accuracy: 0.7240960149241883\n",
      "    val_precision  : 0.7926853952559598\n",
      "    val_recall     : 0.7265625\n"
     ]
    },
    {
     "name": "stdout",
     "output_type": "stream",
     "text": [
      "Model has not improved in -------------| 353 epochs\n"
     ]
    },
    {
     "name": "stderr",
     "output_type": "stream",
     "text": [
      "    epoch          : 455\n",
      "    loss           : 0.22461960050794813\n",
      "    my_metric      : 0.9201089559386973\n",
      "    f1             : 0.920173660835566\n",
      "    balanced_accuracy: 0.9218683900783247\n",
      "    precision      : 0.9237658459907598\n",
      "    recall         : 0.9201089559386973\n",
      "    val_loss       : 0.6553068631328642\n",
      "    val_my_metric  : 0.76171875\n",
      "    val_f1         : 0.762395310452121\n",
      "    val_balanced_accuracy: 0.7668663300864113\n",
      "    val_precision  : 0.7735609509803059\n",
      "    val_recall     : 0.76171875\n"
     ]
    },
    {
     "name": "stdout",
     "output_type": "stream",
     "text": [
      "Model has not improved in -------------| 354 epochs\n"
     ]
    },
    {
     "name": "stderr",
     "output_type": "stream",
     "text": [
      "    epoch          : 456\n",
      "    loss           : 0.2168366875913408\n",
      "    my_metric      : 0.9076269157088122\n",
      "    f1             : 0.9081028320843867\n",
      "    balanced_accuracy: 0.9120535458832025\n",
      "    precision      : 0.9144142834689322\n",
      "    recall         : 0.9076269157088122\n",
      "    val_loss       : 0.7429929487407207\n",
      "    val_my_metric  : 0.7109375\n",
      "    val_f1         : 0.7069346204713943\n",
      "    val_balanced_accuracy: 0.7116996077090627\n",
      "    val_precision  : 0.7349621000744047\n",
      "    val_recall     : 0.7109375\n"
     ]
    },
    {
     "name": "stdout",
     "output_type": "stream",
     "text": [
      "Model has not improved in -------------| 355 epochs\n"
     ]
    },
    {
     "name": "stderr",
     "output_type": "stream",
     "text": [
      "    epoch          : 457\n",
      "    loss           : 0.23134633981519276\n",
      "    my_metric      : 0.9055316091954023\n",
      "    f1             : 0.9058142806897787\n",
      "    balanced_accuracy: 0.9076432767231675\n",
      "    precision      : 0.9088316481785379\n",
      "    recall         : 0.9055316091954023\n",
      "    val_loss       : 0.7181408628821373\n",
      "    val_my_metric  : 0.73828125\n",
      "    val_f1         : 0.7341346153846154\n",
      "    val_balanced_accuracy: 0.7353456183669579\n",
      "    val_precision  : 0.7592366536458333\n",
      "    val_recall     : 0.73828125\n"
     ]
    },
    {
     "name": "stdout",
     "output_type": "stream",
     "text": [
      "Model has not improved in -------------| 356 epochs\n"
     ]
    },
    {
     "name": "stderr",
     "output_type": "stream",
     "text": [
      "    epoch          : 458\n",
      "    loss           : 0.20249740365478727\n",
      "    my_metric      : 0.9180435823754789\n",
      "    f1             : 0.9181404422052962\n",
      "    balanced_accuracy: 0.9195547691451006\n",
      "    precision      : 0.9209740411359362\n",
      "    recall         : 0.9180435823754789\n",
      "    val_loss       : 1.1088537275791168\n",
      "    val_my_metric  : 0.66015625\n",
      "    val_f1         : 0.7027272937476877\n",
      "    val_balanced_accuracy: 0.6600348240469208\n",
      "    val_precision  : 0.7894550492610838\n",
      "    val_recall     : 0.66015625\n"
     ]
    },
    {
     "name": "stdout",
     "output_type": "stream",
     "text": [
      "Model has not improved in -------------| 357 epochs\n"
     ]
    },
    {
     "name": "stderr",
     "output_type": "stream",
     "text": [
      "    epoch          : 459\n",
      "    loss           : 0.2236060599486033\n",
      "    my_metric      : 0.9050227490421455\n",
      "    f1             : 0.905275810629508\n",
      "    balanced_accuracy: 0.9078715795689946\n",
      "    precision      : 0.9091122427048602\n",
      "    recall         : 0.9050227490421455\n",
      "    val_loss       : 0.6165784485638142\n",
      "    val_my_metric  : 0.78125\n",
      "    val_f1         : 0.7813359084813354\n",
      "    val_balanced_accuracy: 0.7813297168135878\n",
      "    val_precision  : 0.7842179455519636\n",
      "    val_recall     : 0.78125\n"
     ]
    },
    {
     "name": "stdout",
     "output_type": "stream",
     "text": [
      "Model has not improved in -------------| 358 epochs\n"
     ]
    },
    {
     "name": "stderr",
     "output_type": "stream",
     "text": [
      "    epoch          : 460\n",
      "    loss           : 0.2522292700078752\n",
      "    my_metric      : 0.8970306513409962\n",
      "    f1             : 0.8978579269274933\n",
      "    balanced_accuracy: 0.9044735337832055\n",
      "    precision      : 0.9068388216433411\n",
      "    recall         : 0.8970306513409962\n",
      "    val_loss       : 1.122779756784439\n",
      "    val_my_metric  : 0.671875\n",
      "    val_f1         : 0.7120717371344194\n",
      "    val_balanced_accuracy: 0.6683928358169344\n",
      "    val_precision  : 0.8004602100202429\n",
      "    val_recall     : 0.671875\n"
     ]
    },
    {
     "name": "stdout",
     "output_type": "stream",
     "text": [
      "Model has not improved in -------------| 359 epochs\n"
     ]
    },
    {
     "name": "stderr",
     "output_type": "stream",
     "text": [
      "    epoch          : 461\n",
      "    loss           : 0.22039315808150503\n",
      "    my_metric      : 0.9147509578544061\n",
      "    f1             : 0.9150680751927553\n",
      "    balanced_accuracy: 0.9191045150643404\n",
      "    precision      : 0.9209769512407205\n",
      "    recall         : 0.9147509578544061\n",
      "    val_loss       : 0.7578545063734055\n",
      "    val_my_metric  : 0.73828125\n",
      "    val_f1         : 0.7343810543370686\n",
      "    val_balanced_accuracy: 0.7415851773879791\n",
      "    val_precision  : 0.7662642910713684\n",
      "    val_recall     : 0.73828125\n"
     ]
    },
    {
     "name": "stdout",
     "output_type": "stream",
     "text": [
      "Model has not improved in -------------| 360 epochs\n"
     ]
    },
    {
     "name": "stderr",
     "output_type": "stream",
     "text": [
      "    epoch          : 462\n",
      "    loss           : 0.21197104867961672\n",
      "    my_metric      : 0.9086745689655172\n",
      "    f1             : 0.908945815098591\n",
      "    balanced_accuracy: 0.9111761279977775\n",
      "    precision      : 0.9127283302859315\n",
      "    recall         : 0.9086745689655172\n",
      "    val_loss       : 0.7126304798293859\n",
      "    val_my_metric  : 0.75390625\n",
      "    val_f1         : 0.7534268723163247\n",
      "    val_balanced_accuracy: 0.7485609356125529\n",
      "    val_precision  : 0.7533835088522589\n",
      "    val_recall     : 0.75390625\n"
     ]
    },
    {
     "name": "stdout",
     "output_type": "stream",
     "text": [
      "Model has not improved in -------------| 361 epochs\n"
     ]
    },
    {
     "name": "stderr",
     "output_type": "stream",
     "text": [
      "    epoch          : 463\n",
      "    loss           : 0.21846874637736213\n",
      "    my_metric      : 0.9083153735632185\n",
      "    f1             : 0.9085473264773091\n",
      "    balanced_accuracy: 0.9099315398832348\n",
      "    precision      : 0.9117067343978332\n",
      "    recall         : 0.9083153735632185\n",
      "    val_loss       : 1.0892775356769562\n",
      "    val_my_metric  : 0.6796875\n",
      "    val_f1         : 0.6806430011270165\n",
      "    val_balanced_accuracy: 0.7245491273432451\n",
      "    val_precision  : 0.7716867965111265\n",
      "    val_recall     : 0.6796875\n"
     ]
    },
    {
     "name": "stdout",
     "output_type": "stream",
     "text": [
      "Model has not improved in -------------| 362 epochs\n"
     ]
    },
    {
     "name": "stderr",
     "output_type": "stream",
     "text": [
      "    epoch          : 464\n",
      "    loss           : 0.21975640124744839\n",
      "    my_metric      : 0.9058908045977011\n",
      "    f1             : 0.9060678621660632\n",
      "    balanced_accuracy: 0.9070430114423983\n",
      "    precision      : 0.908268278239998\n",
      "    recall         : 0.9058908045977011\n",
      "    val_loss       : 1.0632475018501282\n",
      "    val_my_metric  : 0.71484375\n",
      "    val_f1         : 0.7101550356612671\n",
      "    val_balanced_accuracy: 0.7165459287163142\n",
      "    val_precision  : 0.7406910012034094\n",
      "    val_recall     : 0.71484375\n"
     ]
    },
    {
     "name": "stdout",
     "output_type": "stream",
     "text": [
      "Model has not improved in -------------| 363 epochs\n"
     ]
    },
    {
     "name": "stderr",
     "output_type": "stream",
     "text": [
      "    epoch          : 465\n",
      "    loss           : 0.23100159731176165\n",
      "    my_metric      : 0.9010416666666666\n",
      "    f1             : 0.9015162786320166\n",
      "    balanced_accuracy: 0.9069324361163077\n",
      "    precision      : 0.9089157467598068\n",
      "    recall         : 0.9010416666666666\n",
      "    val_loss       : 0.7843412011861801\n",
      "    val_my_metric  : 0.6796875\n",
      "    val_f1         : 0.6799120886658971\n",
      "    val_balanced_accuracy: 0.6386904761904763\n",
      "    val_precision  : 0.6865949566516167\n",
      "    val_recall     : 0.6796875\n"
     ]
    },
    {
     "name": "stdout",
     "output_type": "stream",
     "text": [
      "Model has not improved in -------------| 364 epochs\n"
     ]
    },
    {
     "name": "stderr",
     "output_type": "stream",
     "text": [
      "    epoch          : 466\n",
      "    loss           : 0.22405975146426094\n",
      "    my_metric      : 0.9074473180076629\n",
      "    f1             : 0.9075046449959484\n",
      "    balanced_accuracy: 0.908218288498938\n",
      "    precision      : 0.9106225668298005\n",
      "    recall         : 0.9074473180076629\n",
      "    val_loss       : 0.7858412861824036\n",
      "    val_my_metric  : 0.6953125\n",
      "    val_f1         : 0.6900637515901162\n",
      "    val_balanced_accuracy: 0.6918627142523577\n",
      "    val_precision  : 0.7169642857142857\n",
      "    val_recall     : 0.6953125\n"
     ]
    },
    {
     "name": "stdout",
     "output_type": "stream",
     "text": [
      "Model has not improved in -------------| 365 epochs\n"
     ]
    },
    {
     "name": "stderr",
     "output_type": "stream",
     "text": [
      "    epoch          : 467\n",
      "    loss           : 0.24672177102830675\n",
      "    my_metric      : 0.8994552203065135\n",
      "    f1             : 0.9000928387409647\n",
      "    balanced_accuracy: 0.9050609500894018\n",
      "    precision      : 0.9065735053518595\n",
      "    recall         : 0.8994552203065135\n",
      "    val_loss       : 1.2523284703493118\n",
      "    val_my_metric  : 0.6484375\n",
      "    val_f1         : 0.6497461546554699\n",
      "    val_balanced_accuracy: 0.6474130380380381\n",
      "    val_precision  : 0.6538020191912972\n",
      "    val_recall     : 0.6484375\n"
     ]
    },
    {
     "name": "stdout",
     "output_type": "stream",
     "text": [
      "Model has not improved in -------------| 366 epochs\n"
     ]
    },
    {
     "name": "stderr",
     "output_type": "stream",
     "text": [
      "    epoch          : 468\n",
      "    loss           : 0.22732219679488075\n",
      "    my_metric      : 0.9044839559386973\n",
      "    f1             : 0.9047684166805234\n",
      "    balanced_accuracy: 0.9069987998663832\n",
      "    precision      : 0.9085518317744088\n",
      "    recall         : 0.9044839559386973\n",
      "    val_loss       : 0.6864864230155945\n",
      "    val_my_metric  : 0.78125\n",
      "    val_f1         : 0.7811097966696201\n",
      "    val_balanced_accuracy: 0.7795703338806788\n",
      "    val_precision  : 0.7820101351351352\n",
      "    val_recall     : 0.78125\n"
     ]
    },
    {
     "name": "stdout",
     "output_type": "stream",
     "text": [
      "Model has not improved in -------------| 367 epochs\n"
     ]
    },
    {
     "name": "stderr",
     "output_type": "stream",
     "text": [
      "    epoch          : 469\n",
      "    loss           : 0.22782005369663239\n",
      "    my_metric      : 0.9034363026819923\n",
      "    f1             : 0.9042599923065713\n",
      "    balanced_accuracy: 0.9093565792999002\n",
      "    precision      : 0.9128894872894426\n",
      "    recall         : 0.9034363026819923\n",
      "    val_loss       : 0.9062856733798981\n",
      "    val_my_metric  : 0.72265625\n",
      "    val_f1         : 0.718183613751879\n",
      "    val_balanced_accuracy: 0.7198910826982615\n",
      "    val_precision  : 0.7445197220280646\n",
      "    val_recall     : 0.72265625\n"
     ]
    },
    {
     "name": "stdout",
     "output_type": "stream",
     "text": [
      "Model has not improved in -------------| 368 epochs\n"
     ]
    },
    {
     "name": "stderr",
     "output_type": "stream",
     "text": [
      "    epoch          : 470\n",
      "    loss           : 0.2177453488111496\n",
      "    my_metric      : 0.9152598180076629\n",
      "    f1             : 0.915624981317973\n",
      "    balanced_accuracy: 0.9191077542860953\n",
      "    precision      : 0.9202034018704457\n",
      "    recall         : 0.9152598180076629\n",
      "    val_loss       : 1.026931494474411\n",
      "    val_my_metric  : 0.69140625\n",
      "    val_f1         : 0.6916823679637267\n",
      "    val_balanced_accuracy: 0.6898845719410236\n",
      "    val_precision  : 0.6922352724539889\n",
      "    val_recall     : 0.69140625\n"
     ]
    },
    {
     "name": "stdout",
     "output_type": "stream",
     "text": [
      "Model has not improved in -------------| 369 epochs\n"
     ]
    },
    {
     "name": "stderr",
     "output_type": "stream",
     "text": [
      "    epoch          : 471\n",
      "    loss           : 0.23776348597473568\n",
      "    my_metric      : 0.8989463601532566\n",
      "    f1             : 0.8992991405163213\n",
      "    balanced_accuracy: 0.9015409255177017\n",
      "    precision      : 0.9034495442218721\n",
      "    recall         : 0.8989463601532566\n",
      "    val_loss       : 0.9875827729701996\n",
      "    val_my_metric  : 0.7109375\n",
      "    val_f1         : 0.7075113369866155\n",
      "    val_balanced_accuracy: 0.7120755441876132\n",
      "    val_precision  : 0.7380539572489231\n",
      "    val_recall     : 0.7109375\n"
     ]
    },
    {
     "name": "stdout",
     "output_type": "stream",
     "text": [
      "Model has not improved in -------------| 370 epochs\n"
     ]
    },
    {
     "name": "stderr",
     "output_type": "stream",
     "text": [
      "    epoch          : 472\n",
      "    loss           : 0.22311585189567673\n",
      "    my_metric      : 0.9121467911877394\n",
      "    f1             : 0.9121941529683986\n",
      "    balanced_accuracy: 0.9137790734014462\n",
      "    precision      : 0.9162784137695811\n",
      "    recall         : 0.9121467911877394\n",
      "    val_loss       : 1.1059077978134155\n",
      "    val_my_metric  : 0.58203125\n",
      "    val_f1         : 0.620182897526177\n",
      "    val_balanced_accuracy: 0.5874222320134446\n",
      "    val_precision  : 0.7869125249776635\n",
      "    val_recall     : 0.58203125\n"
     ]
    },
    {
     "name": "stdout",
     "output_type": "stream",
     "text": [
      "Model has not improved in -------------| 371 epochs\n"
     ]
    },
    {
     "name": "stderr",
     "output_type": "stream",
     "text": [
      "    epoch          : 473\n",
      "    loss           : 0.21324664768245485\n",
      "    my_metric      : 0.9140325670498084\n",
      "    f1             : 0.9142149000492652\n",
      "    balanced_accuracy: 0.9165495404062494\n",
      "    precision      : 0.9186383356660114\n",
      "    recall         : 0.9140325670498084\n",
      "    val_loss       : 0.732526071369648\n",
      "    val_my_metric  : 0.75\n",
      "    val_f1         : 0.7440800799486462\n",
      "    val_balanced_accuracy: 0.7455438848785623\n",
      "    val_precision  : 0.7737169579408902\n",
      "    val_recall     : 0.75\n"
     ]
    },
    {
     "name": "stdout",
     "output_type": "stream",
     "text": [
      "Model has not improved in -------------| 372 epochs\n"
     ]
    },
    {
     "name": "stderr",
     "output_type": "stream",
     "text": [
      "    epoch          : 474\n",
      "    loss           : 0.22604955732822418\n",
      "    my_metric      : 0.9093630268199233\n",
      "    f1             : 0.9096848397394405\n",
      "    balanced_accuracy: 0.9121931079849228\n",
      "    precision      : 0.9139855016567149\n",
      "    recall         : 0.9093630268199233\n",
      "    val_loss       : 0.6685384178999811\n",
      "    val_my_metric  : 0.7734375\n",
      "    val_f1         : 0.7720843658227765\n",
      "    val_balanced_accuracy: 0.7723484934822695\n",
      "    val_precision  : 0.776344916181371\n",
      "    val_recall     : 0.7734375\n"
     ]
    },
    {
     "name": "stdout",
     "output_type": "stream",
     "text": [
      "Model has not improved in -------------| 373 epochs\n"
     ]
    },
    {
     "name": "stderr",
     "output_type": "stream",
     "text": [
      "    epoch          : 475\n",
      "    loss           : 0.2204891393582026\n",
      "    my_metric      : 0.9057112068965518\n",
      "    f1             : 0.9061168939851574\n",
      "    balanced_accuracy: 0.9106831593049198\n",
      "    precision      : 0.9125431982230121\n",
      "    recall         : 0.9057112068965518\n",
      "    val_loss       : 0.9813174456357956\n",
      "    val_my_metric  : 0.703125\n",
      "    val_f1         : 0.6757431621051905\n",
      "    val_balanced_accuracy: 0.6386748516610945\n",
      "    val_precision  : 0.6572753979897248\n",
      "    val_recall     : 0.703125\n"
     ]
    },
    {
     "name": "stdout",
     "output_type": "stream",
     "text": [
      "Model has not improved in -------------| 374 epochs\n"
     ]
    },
    {
     "name": "stderr",
     "output_type": "stream",
     "text": [
      "    epoch          : 476\n",
      "    loss           : 0.2244383609957165\n",
      "    my_metric      : 0.9050227490421455\n",
      "    f1             : 0.9056022880782463\n",
      "    balanced_accuracy: 0.9103854430231857\n",
      "    precision      : 0.9118307931985815\n",
      "    recall         : 0.9050227490421455\n",
      "    val_loss       : 1.2776383459568024\n",
      "    val_my_metric  : 0.65625\n",
      "    val_f1         : 0.6561584249084249\n",
      "    val_balanced_accuracy: 0.6128481854288307\n",
      "    val_precision  : 0.6577205882352941\n",
      "    val_recall     : 0.65625\n"
     ]
    },
    {
     "name": "stdout",
     "output_type": "stream",
     "text": [
      "Model has not improved in -------------| 375 epochs\n"
     ]
    },
    {
     "name": "stderr",
     "output_type": "stream",
     "text": [
      "    epoch          : 477\n",
      "    loss           : 0.23431061373816597\n",
      "    my_metric      : 0.9008321360153256\n",
      "    f1             : 0.9015903440108245\n",
      "    balanced_accuracy: 0.9069927901176464\n",
      "    precision      : 0.9105060460714071\n",
      "    recall         : 0.9008321360153256\n",
      "    val_loss       : 0.609265636652708\n",
      "    val_my_metric  : 0.7890625\n",
      "    val_f1         : 0.7898488820460483\n",
      "    val_balanced_accuracy: 0.7917540868085333\n",
      "    val_precision  : 0.7968262143219358\n",
      "    val_recall     : 0.7890625\n"
     ]
    },
    {
     "name": "stdout",
     "output_type": "stream",
     "text": [
      "Model has not improved in -------------| 376 epochs\n"
     ]
    },
    {
     "name": "stderr",
     "output_type": "stream",
     "text": [
      "    epoch          : 478\n",
      "    loss           : 0.21173450847466788\n",
      "    my_metric      : 0.9078065134099617\n",
      "    f1             : 0.9078636208985239\n",
      "    balanced_accuracy: 0.9083331445930583\n",
      "    precision      : 0.9106402490391127\n",
      "    recall         : 0.9078065134099617\n",
      "    val_loss       : 0.8402001857757568\n",
      "    val_my_metric  : 0.73828125\n",
      "    val_f1         : 0.7351182873384096\n",
      "    val_balanced_accuracy: 0.739244639176581\n",
      "    val_precision  : 0.763716033975907\n",
      "    val_recall     : 0.73828125\n"
     ]
    },
    {
     "name": "stdout",
     "output_type": "stream",
     "text": [
      "Model has not improved in -------------| 377 epochs\n"
     ]
    },
    {
     "name": "stderr",
     "output_type": "stream",
     "text": [
      "    epoch          : 479\n",
      "    loss           : 0.2296008856760131\n",
      "    my_metric      : 0.9112488026819923\n",
      "    f1             : 0.911499212719172\n",
      "    balanced_accuracy: 0.9144807114542378\n",
      "    precision      : 0.9160732636115737\n",
      "    recall         : 0.9112488026819923\n",
      "    val_loss       : 0.6594789773225784\n",
      "    val_my_metric  : 0.75390625\n",
      "    val_f1         : 0.7538942006458453\n",
      "    val_balanced_accuracy: 0.7508710407239819\n",
      "    val_precision  : 0.7563184028591499\n",
      "    val_recall     : 0.75390625\n"
     ]
    },
    {
     "name": "stdout",
     "output_type": "stream",
     "text": [
      "Model has not improved in -------------| 378 epochs\n"
     ]
    },
    {
     "name": "stderr",
     "output_type": "stream",
     "text": [
      "    epoch          : 480\n",
      "    loss           : 0.21817620719472566\n",
      "    my_metric      : 0.9138829022988505\n",
      "    f1             : 0.9140552049363619\n",
      "    balanced_accuracy: 0.9161218479066076\n",
      "    precision      : 0.9177367593845437\n",
      "    recall         : 0.9138829022988505\n",
      "    val_loss       : 0.7139203883707523\n",
      "    val_my_metric  : 0.73828125\n",
      "    val_f1         : 0.7420676541269317\n",
      "    val_balanced_accuracy: 0.7569615344365066\n",
      "    val_precision  : 0.7702219452908792\n",
      "    val_recall     : 0.73828125\n"
     ]
    },
    {
     "name": "stdout",
     "output_type": "stream",
     "text": [
      "Model has not improved in -------------| 379 epochs\n"
     ]
    },
    {
     "name": "stderr",
     "output_type": "stream",
     "text": [
      "    epoch          : 481\n",
      "    loss           : 0.21398096448845333\n",
      "    my_metric      : 0.9114583333333334\n",
      "    f1             : 0.91181446968792\n",
      "    balanced_accuracy: 0.9142345676697836\n",
      "    precision      : 0.9156669894497907\n",
      "    recall         : 0.9114583333333334\n",
      "    val_loss       : 0.8777178227901459\n",
      "    val_my_metric  : 0.67578125\n",
      "    val_f1         : 0.6755573482885127\n",
      "    val_balanced_accuracy: 0.6331254713423832\n",
      "    val_precision  : 0.6807444852941176\n",
      "    val_recall     : 0.67578125\n"
     ]
    },
    {
     "name": "stdout",
     "output_type": "stream",
     "text": [
      "Model has not improved in -------------| 380 epochs\n"
     ]
    },
    {
     "name": "stderr",
     "output_type": "stream",
     "text": [
      "    epoch          : 482\n",
      "    loss           : 0.23828428983688354\n",
      "    my_metric      : 0.8873024425287357\n",
      "    f1             : 0.8876069877765013\n",
      "    balanced_accuracy: 0.8903649589338996\n",
      "    precision      : 0.8928869557156747\n",
      "    recall         : 0.8873024425287357\n",
      "    val_loss       : 0.7116590356454253\n",
      "    val_my_metric  : 0.77734375\n",
      "    val_f1         : 0.7783242084712673\n",
      "    val_balanced_accuracy: 0.775556547060852\n",
      "    val_precision  : 0.781791417533605\n",
      "    val_recall     : 0.77734375\n"
     ]
    },
    {
     "name": "stdout",
     "output_type": "stream",
     "text": [
      "Model has not improved in -------------| 381 epochs\n"
     ]
    },
    {
     "name": "stderr",
     "output_type": "stream",
     "text": [
      "    epoch          : 483\n",
      "    loss           : 0.22687808010313246\n",
      "    my_metric      : 0.901370929118774\n",
      "    f1             : 0.9017721212010176\n",
      "    balanced_accuracy: 0.9067282574955227\n",
      "    precision      : 0.9082935283076559\n",
      "    recall         : 0.901370929118774\n",
      "    val_loss       : 1.0082896500825882\n",
      "    val_my_metric  : 0.640625\n",
      "    val_f1         : 0.6406594305786117\n",
      "    val_balanced_accuracy: 0.6005803142104077\n",
      "    val_precision  : 0.6462591333118046\n",
      "    val_recall     : 0.640625\n"
     ]
    },
    {
     "name": "stdout",
     "output_type": "stream",
     "text": [
      "Model has not improved in -------------| 382 epochs\n"
     ]
    },
    {
     "name": "stderr",
     "output_type": "stream",
     "text": [
      "    epoch          : 484\n",
      "    loss           : 0.22548512203825843\n",
      "    my_metric      : 0.9083153735632185\n",
      "    f1             : 0.9087537747307254\n",
      "    balanced_accuracy: 0.9128531183373921\n",
      "    precision      : 0.9144392940435895\n",
      "    recall         : 0.9083153735632185\n",
      "    val_loss       : 0.7990114986896515\n",
      "    val_my_metric  : 0.6953125\n",
      "    val_f1         : 0.6675664521881627\n",
      "    val_balanced_accuracy: 0.6303112789592866\n",
      "    val_precision  : 0.6493731716476913\n",
      "    val_recall     : 0.6953125\n"
     ]
    },
    {
     "name": "stdout",
     "output_type": "stream",
     "text": [
      "Model has not improved in -------------| 383 epochs\n"
     ]
    },
    {
     "name": "stderr",
     "output_type": "stream",
     "text": [
      "    epoch          : 485\n",
      "    loss           : 0.2316182458566295\n",
      "    my_metric      : 0.9037954980842913\n",
      "    f1             : 0.9041350443080776\n",
      "    balanced_accuracy: 0.9067941502460136\n",
      "    precision      : 0.9081033784232139\n",
      "    recall         : 0.9037954980842913\n",
      "    val_loss       : 0.5695148631930351\n",
      "    val_my_metric  : 0.77734375\n",
      "    val_f1         : 0.7771943821516877\n",
      "    val_balanced_accuracy: 0.7716726331744481\n",
      "    val_precision  : 0.7785936677569743\n",
      "    val_recall     : 0.77734375\n"
     ]
    },
    {
     "name": "stdout",
     "output_type": "stream",
     "text": [
      "Model has not improved in -------------| 384 epochs\n"
     ]
    },
    {
     "name": "stderr",
     "output_type": "stream",
     "text": [
      "    epoch          : 486\n",
      "    loss           : 0.23618937366538578\n",
      "    my_metric      : 0.9025981800766283\n",
      "    f1             : 0.9029574995166515\n",
      "    balanced_accuracy: 0.9074812081618305\n",
      "    precision      : 0.9108252447419\n",
      "    recall         : 0.9025981800766283\n",
      "    val_loss       : 1.053842157125473\n",
      "    val_my_metric  : 0.7265625\n",
      "    val_f1         : 0.70069743758636\n",
      "    val_balanced_accuracy: 0.6695433341958484\n",
      "    val_precision  : 0.6895193578485279\n",
      "    val_recall     : 0.7265625\n"
     ]
    },
    {
     "name": "stdout",
     "output_type": "stream",
     "text": [
      "Model has not improved in -------------| 385 epochs\n"
     ]
    },
    {
     "name": "stderr",
     "output_type": "stream",
     "text": [
      "    epoch          : 487\n",
      "    loss           : 0.22302875916163126\n",
      "    my_metric      : 0.9078065134099617\n",
      "    f1             : 0.9078900162500516\n",
      "    balanced_accuracy: 0.9093747617445906\n",
      "    precision      : 0.9118668549234784\n",
      "    recall         : 0.9078065134099617\n",
      "    val_loss       : 0.9619114995002747\n",
      "    val_my_metric  : 0.73828125\n",
      "    val_f1         : 0.7408861839726435\n",
      "    val_balanced_accuracy: 0.7529986134575168\n",
      "    val_precision  : 0.7695797993900839\n",
      "    val_recall     : 0.73828125\n"
     ]
    },
    {
     "name": "stdout",
     "output_type": "stream",
     "text": [
      "Model has not improved in -------------| 386 epochs\n"
     ]
    },
    {
     "name": "stderr",
     "output_type": "stream",
     "text": [
      "    epoch          : 488\n",
      "    loss           : 0.2348439312643475\n",
      "    my_metric      : 0.9015505268199233\n",
      "    f1             : 0.9015833870930678\n",
      "    balanced_accuracy: 0.9025441106104706\n",
      "    precision      : 0.9051142485414841\n",
      "    recall         : 0.9015505268199233\n",
      "    val_loss       : 0.7008118443191051\n",
      "    val_my_metric  : 0.76953125\n",
      "    val_f1         : 0.7688980275305366\n",
      "    val_balanced_accuracy: 0.7657393005279034\n",
      "    val_precision  : 0.7729813410557229\n",
      "    val_recall     : 0.76953125\n"
     ]
    },
    {
     "name": "stdout",
     "output_type": "stream",
     "text": [
      "Model has not improved in -------------| 387 epochs\n"
     ]
    },
    {
     "name": "stderr",
     "output_type": "stream",
     "text": [
      "    epoch          : 489\n",
      "    loss           : 0.2526705140868823\n",
      "    my_metric      : 0.8827825670498084\n",
      "    f1             : 0.8836457581295495\n",
      "    balanced_accuracy: 0.889534770579545\n",
      "    precision      : 0.8934500793093021\n",
      "    recall         : 0.8827825670498084\n",
      "    val_loss       : 0.5675995703786612\n",
      "    val_my_metric  : 0.77734375\n",
      "    val_f1         : 0.7789681565065676\n",
      "    val_balanced_accuracy: 0.7821237196899975\n",
      "    val_precision  : 0.7915104688550112\n",
      "    val_recall     : 0.77734375\n"
     ]
    },
    {
     "name": "stdout",
     "output_type": "stream",
     "text": [
      "Model has not improved in -------------| 388 epochs\n"
     ]
    },
    {
     "name": "stderr",
     "output_type": "stream",
     "text": [
      "    epoch          : 490\n",
      "    loss           : 0.21816139502657783\n",
      "    my_metric      : 0.9034662356321839\n",
      "    f1             : 0.9037003625335722\n",
      "    balanced_accuracy: 0.9059116722740002\n",
      "    precision      : 0.9078986882719797\n",
      "    recall         : 0.9034662356321839\n",
      "    val_loss       : 0.7156088203191757\n",
      "    val_my_metric  : 0.73828125\n",
      "    val_f1         : 0.7333464432288134\n",
      "    val_balanced_accuracy: 0.7356298640875254\n",
      "    val_precision  : 0.7641492078015515\n",
      "    val_recall     : 0.73828125\n"
     ]
    },
    {
     "name": "stdout",
     "output_type": "stream",
     "text": [
      "Model has not improved in -------------| 389 epochs\n"
     ]
    },
    {
     "name": "stderr",
     "output_type": "stream",
     "text": [
      "    epoch          : 491\n",
      "    loss           : 0.2241411937607659\n",
      "    my_metric      : 0.9142121647509579\n",
      "    f1             : 0.9143499607897425\n",
      "    balanced_accuracy: 0.9170486942510436\n",
      "    precision      : 0.9187499959166884\n",
      "    recall         : 0.9142121647509579\n",
      "    val_loss       : 1.0822514742612839\n",
      "    val_my_metric  : 0.66015625\n",
      "    val_f1         : 0.6622255229688897\n",
      "    val_balanced_accuracy: 0.6624995084981405\n",
      "    val_precision  : 0.6709621833647251\n",
      "    val_recall     : 0.66015625\n"
     ]
    },
    {
     "name": "stdout",
     "output_type": "stream",
     "text": [
      "Model has not improved in -------------| 390 epochs\n"
     ]
    }
   ],
   "source": [
    "#Train the network\n",
    "main(config, None)"
   ]
  },
  {
   "cell_type": "code",
   "execution_count": 4,
   "metadata": {},
   "outputs": [
    {
     "name": "stdout",
     "output_type": "stream",
     "text": [
      "skipped file: config.json\n"
     ]
    },
    {
     "data": {
      "image/png": "[encoded data removed]",
      "text/plain": [
       "<Figure size 432x288 with 1 Axes>"
      ]
     },
     "metadata": {
      "needs_background": "light"
     },
     "output_type": "display_data"
    },
    {
     "data": {
      "image/png": "[encoded data removed]",
      "text/plain": [
       "<Figure size 432x288 with 1 Axes>"
      ]
     },
     "metadata": {
      "needs_background": "light"
     },
     "output_type": "display_data"
    },
    {
     "name": "stdout",
     "output_type": "stream",
     "text": [
      "done\n"
     ]
    }
   ],
   "source": [
    "saved_dir = 'saved/MaskedVolume_3d/0619_200535'\n",
    "config_saved_filename = os.path.join(saved_dir, \"config.json\")\n",
    "#os.system('tensorboard --logdir ' + log_dir) cannot use with google VM without paying $$$\n",
    "viewTraining.graphLoss(saved_dir, best=False) #imported from utils\n",
    "\n",
    "print('done')"
   ]
  },
  {
   "cell_type": "code",
   "execution_count": 10,
   "metadata": {},
   "outputs": [],
   "source": [
    "def main2(config, resume):\n",
    "    # setup data_loader instances\n",
    "    data_loader = get_instance(module_data, 'data_loader_test', config)\n",
    "    '''\n",
    "    \n",
    "    data_loader = getattr(module_data, config['data_loader']['type'])(\n",
    "        config['data_loader']['args']['data_dir'],\n",
    "        batch_size=1,\n",
    "        shuffle=False,\n",
    "        validation_split=0.0,\n",
    "        training=False,\n",
    "        num_workers=2\n",
    "    )\n",
    "    '''\n",
    "    # build model architecture\n",
    "    model = get_instance(module_arch, 'arch', config)\n",
    "    print(model)\n",
    "    print(torch.cuda.get_device_name(0))\n",
    "    normalized = False\n",
    "\n",
    "    \n",
    "    # get function handles of loss and metrics\n",
    "    loss_fn = getattr(module_loss, config['loss'])\n",
    "    criterion = loss_fn(None)\n",
    "    metric_fns = [getattr(module_metric, met) for met in config['metrics']]\n",
    "    \n",
    "    # load state dict\n",
    "    checkpoint = torch.load(resume)\n",
    "    state_dict = checkpoint['state_dict'] #dictionary of model parameters from saved file\n",
    "    if config['n_gpu'] > 1:\n",
    "        model = torch.nn.DataParallel(model)\n",
    "    model.load_state_dict(state_dict) \n",
    "    \n",
    "    # prepare model for testing\n",
    "    device = torch.device('cuda' if torch.cuda.is_available() else 'cpu')\n",
    "    model = model.to(device)\n",
    "    model.eval() #tells model to ignore dropout and batch normalization\n",
    "    \n",
    "    total_loss = 0.0\n",
    "    total_metrics = torch.zeros(len(metric_fns))\n",
    "    \n",
    "    classes = ('endothelium', 'pct')\n",
    "    all_pred = []\n",
    "    all_true = []\n",
    "    #hm_layers = {'final_layer': 'layer', 'fc_layer': 'fc_layer', 'conv_num': 17, 'fc_num': 3}\n",
    "    \n",
    "    #heatmapper = classActivationMap.CAMgenerator(hm_layers, config, model)\n",
    "    #heatmapper.generateImage(num_images=10)\n",
    "    \n",
    "    with torch.no_grad(): #speed up calculations, unable to perform back propogation\n",
    "        for i, (data, target) in enumerate(tqdm(data_loader)): #tqdm is a progress bar\n",
    "            data, target = data.to(device), target.to(device)\n",
    "            output = model(data)\n",
    "            image = np.squeeze(data[0].cpu().data.numpy())\n",
    "            all_true.extend(target.cpu().data.numpy())\n",
    "            all_pred.extend(np.argmax(output.cpu().data.numpy(), axis=1))\n",
    "            \n",
    "            #\n",
    "            # save sample images, or do something with output here\n",
    "            #\n",
    "            \n",
    "            \n",
    "            if i < 5:\n",
    "                #util.visualizationOutGray(data, output, target, classes, normalized)\n",
    "                a=1\n",
    "                \n",
    "                \n",
    "                \n",
    "            # computing loss, metrics on test set\n",
    "            loss = criterion(output, target)\n",
    "            batch_size = data.shape[0]\n",
    "            total_loss += loss.item() * batch_size\n",
    "            if output.is_cuda: output = output.cpu()\n",
    "            if target.is_cuda: target = target.cpu()\n",
    "            \n",
    "            for i, metric in enumerate(metric_fns):\n",
    "                total_metrics[i] += metric(output, target) * batch_size\n",
    "        \n",
    "        #plt.show()\n",
    "        \n",
    "    \n",
    "    n_samples = len(data_loader.sampler)\n",
    "    print(\"num test images = \" + str(n_samples))\n",
    "    log = {'loss': total_loss / n_samples}\n",
    "    log.update({met.__name__: total_metrics[i].item() / n_samples for i, met in enumerate(metric_fns)})\n",
    "    for key in log:\n",
    "        print(\"{} = {:.4f}\".format(key, log[key]))\n",
    "    #print(log)\n",
    "    log['classes'] = classes\n",
    "    log['test_targets'] = all_true\n",
    "    log['test_predictions'] = all_pred\n",
    "    print(\"My_metric is accuracy\")\n",
    "    util.plot_confusion_matrix(all_true, all_pred, classes=classes, normalize=False) \n",
    "    \n"
   ]
  },
  {
   "cell_type": "code",
   "execution_count": 11,
   "metadata": {},
   "outputs": [
    {
     "name": "stdout",
     "output_type": "stream",
     "text": [
      "True\n",
      "True\n"
     ]
    }
   ],
   "source": [
    "#saved_dir = \"saved/GroundTruth_cellData/0529_191042/\"\n",
    "resume = os.path.join(saved_dir, \"model_best.pth\")\n",
    "\n",
    "print(os.path.isdir(saved_dir))\n",
    "print(os.path.exists(resume))\n",
    "\n",
    "#config = torch.load(saved_dir + \"config.json\")\n",
    "os.environ[\"CUDA_VISIBLE_DEVICES\"] = \"0,1\""
   ]
  },
  {
   "cell_type": "code",
   "execution_count": 12,
   "metadata": {},
   "outputs": [
    {
     "name": "stderr",
     "output_type": "stream",
     "text": [
      "\r",
      "  0%|          | 0/4 [00:00<?, ?it/s]"
     ]
    },
    {
     "name": "stdout",
     "output_type": "stream",
     "text": [
      "threeDmodel(\n",
      "  (conv_layer1): Sequential(\n",
      "    (0): Conv3d(1, 32, kernel_size=(3, 3, 3), stride=(1, 1, 1), padding=(1, 1, 1))\n",
      "    (1): BatchNorm3d(32, eps=1e-05, momentum=0.1, affine=True, track_running_stats=True)\n",
      "    (2): LeakyReLU(negative_slope=0.01)\n",
      "    (3): Conv3d(32, 32, kernel_size=(3, 3, 3), stride=(1, 1, 1), padding=(1, 1, 1))\n",
      "    (4): BatchNorm3d(32, eps=1e-05, momentum=0.1, affine=True, track_running_stats=True)\n",
      "    (5): LeakyReLU(negative_slope=0.01)\n",
      "    (6): MaxPool3d(kernel_size=(2, 2, 2), stride=(2, 2, 2), padding=0, dilation=1, ceil_mode=False)\n",
      "  )\n",
      "  (conv_layer2): Sequential(\n",
      "    (0): Conv3d(32, 64, kernel_size=(3, 3, 3), stride=(1, 1, 1), padding=(1, 1, 1))\n",
      "    (1): BatchNorm3d(64, eps=1e-05, momentum=0.1, affine=True, track_running_stats=True)\n",
      "    (2): LeakyReLU(negative_slope=0.01)\n",
      "    (3): Conv3d(64, 64, kernel_size=(3, 3, 3), stride=(1, 1, 1), padding=(1, 1, 1))\n",
      "    (4): BatchNorm3d(64, eps=1e-05, momentum=0.1, affine=True, track_running_stats=True)\n",
      "    (5): LeakyReLU(negative_slope=0.01)\n",
      "    (6): MaxPool3d(kernel_size=(2, 2, 2), stride=(2, 2, 2), padding=0, dilation=1, ceil_mode=False)\n",
      "  )\n",
      "  (conv_layer3): Sequential(\n",
      "    (0): Conv3d(64, 128, kernel_size=(3, 3, 3), stride=(1, 1, 1), padding=(1, 1, 1))\n",
      "    (1): BatchNorm3d(128, eps=1e-05, momentum=0.1, affine=True, track_running_stats=True)\n",
      "    (2): LeakyReLU(negative_slope=0.01)\n",
      "    (3): Conv3d(128, 128, kernel_size=(3, 3, 3), stride=(1, 1, 1), padding=(1, 1, 1))\n",
      "    (4): BatchNorm3d(128, eps=1e-05, momentum=0.1, affine=True, track_running_stats=True)\n",
      "    (5): LeakyReLU(negative_slope=0.01)\n",
      "    (6): MaxPool3d(kernel_size=(2, 2, 2), stride=(2, 2, 2), padding=0, dilation=1, ceil_mode=False)\n",
      "  )\n",
      "  (conv_layer4): Conv3d(128, 256, kernel_size=(1, 3, 3), stride=(1, 1, 1), padding=(0, 1, 1))\n",
      "  (fc5): Linear(in_features=4096, out_features=256, bias=True)\n",
      "  (relu): LeakyReLU(negative_slope=0.01)\n",
      "  (batch0): BatchNorm1d(256, eps=1e-05, momentum=0.1, affine=True, track_running_stats=True)\n",
      "  (drop): Dropout(p=0.15)\n",
      "  (fc6): Linear(in_features=256, out_features=128, bias=True)\n",
      "  (relu1): LeakyReLU(negative_slope=0.01)\n",
      "  (batch1): BatchNorm1d(128, eps=1e-05, momentum=0.1, affine=True, track_running_stats=True)\n",
      "  (drop1): Dropout(p=0.15)\n",
      "  (fc7): Linear(in_features=128, out_features=2, bias=True)\n",
      ")\n",
      "Trainable parameters: 2237218\n",
      "Tesla K80\n"
     ]
    },
    {
     "name": "stderr",
     "output_type": "stream",
     "text": [
      "100%|██████████| 4/4 [00:00<00:00,  5.69it/s]\n"
     ]
    },
    {
     "name": "stdout",
     "output_type": "stream",
     "text": [
      "num test images = 230\n",
      "loss = 0.6144\n",
      "my_metric = 0.7391\n",
      "f1 = 0.7331\n",
      "balanced_accuracy = 0.7405\n",
      "precision = 0.7623\n",
      "recall = 0.7391\n",
      "My_metric is accuracy\n",
      "Confusion matrix, without normalization\n",
      "[[91 20]\n",
      " [40 79]]\n"
     ]
    },
    {
     "data": {
      "image/png": "[encoded data removed]",
      "text/plain": [
       "<Figure size 432x288 with 2 Axes>"
      ]
     },
     "metadata": {
      "needs_background": "light"
     },
     "output_type": "display_data"
    }
   ],
   "source": [
    "#Test\n",
    "main2(config, resume)"
   ]
  },
  {
   "cell_type": "code",
   "execution_count": null,
   "metadata": {},
   "outputs": [],
   "source": []
  },
  {
   "cell_type": "code",
   "execution_count": null,
   "metadata": {},
   "outputs": [],
   "source": []
  }
 ],
 "metadata": {
  "kernelspec": {
   "display_name": "Python 3",
   "language": "python",
   "name": "python3"
  },
  "language_info": {
   "codemirror_mode": {
    "name": "ipython",
    "version": 3
   },
   "file_extension": ".py",
   "mimetype": "text/x-python",
   "name": "python",
   "nbconvert_exporter": "python",
   "pygments_lexer": "ipython3",
   "version": "3.6.8"
  }
 },
 "nbformat": 4,
 "nbformat_minor": 2
}
