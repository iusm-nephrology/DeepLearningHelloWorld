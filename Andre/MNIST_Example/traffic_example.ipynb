{
 "cells": [
  {
   "cell_type": "code",
   "execution_count": 42,
   "metadata": {},
   "outputs": [
    {
     "name": "stdout",
     "output_type": "stream",
     "text": [
      "Modules loaded\n",
      "Reload complete\n"
     ]
    }
   ],
   "source": [
    "%matplotlib inline\n",
    "import matplotlib.pyplot as plt\n",
    "import os\n",
    "import numpy as np\n",
    "import json\n",
    "import argparse\n",
    "import torch\n",
    "from tqdm import tqdm\n",
    "import data_loader.data_loaders as module_data\n",
    "import model.loss as module_loss\n",
    "import model.metric as module_metric\n",
    "import model.model as module_arch\n",
    "from trainer import Trainer\n",
    "from utils import Logger\n",
    "import importlib\n",
    "print(\"Modules loaded\")\n",
    "\n",
    "importlib.reload(module_data) #load recent changes to data_loaders.py\n",
    "importlib.reload(module_arch)\n",
    "print(\"Reload complete\")"
   ]
  },
  {
   "cell_type": "code",
   "execution_count": 43,
   "metadata": {},
   "outputs": [],
   "source": [
    "#This function gets the parameters from the config.json file \n",
    "def get_instance(module, name, config, *args):\n",
    "    return getattr(module, config[name]['type'])(*args, **config[name]['args'])\n",
    "\n",
    "def main(config, resume):\n",
    "    train_logger = Logger() #uses entries to store training performance metrics\n",
    "\n",
    "    # setup data_loader instances\n",
    "    data_loader = get_instance(module_data, 'data_loader', config) #looks in data_loader/data_loaders.py for 'MNISTDataLoader'\n",
    "    #print(os.path.isfile(data_loader.dataset))\n",
    "    valid_data_loader = data_loader.split_validation() #allocate some images as validation\n",
    "\n",
    "    # build model architecture\n",
    "    model = get_instance(module_arch, 'arch', config) #looks in the model/model.py for 'MnistModel', as specified by config\n",
    "    print(model)\n",
    "    print(torch.cuda.get_device_name(0))\n",
    "\n",
    "    # get function handles of loss and metrics\n",
    "    loss = getattr(module_loss, config['loss']) #looks in model/loss.py for 'nll_loss'\n",
    "    metrics = [getattr(module_metric, met) for met in config['metrics']] #get all the metrics in model/metrics.py - default is accuracy and top 3 accuracy\n",
    "\n",
    "    # build optimizer, learning rate scheduler. delete every lines containing lr_scheduler for disabling scheduler\n",
    "    trainable_params = filter(lambda p: p.requires_grad, model.parameters()) #Number of training params\n",
    "    optimizer = get_instance(torch.optim, 'optimizer', config, trainable_params)\n",
    "    lr_scheduler = get_instance(torch.optim.lr_scheduler, 'lr_scheduler', config, optimizer)\n",
    "\n",
    "    trainer = Trainer(model, loss, metrics, optimizer,\n",
    "                      resume=resume, #choose a previous epoch to start training from\n",
    "                      config=config,\n",
    "                      data_loader=data_loader,\n",
    "                      valid_data_loader=valid_data_loader,\n",
    "                      lr_scheduler=lr_scheduler,\n",
    "                      train_logger=train_logger)\n",
    "\n",
    "    trainer.train()\n",
    "\n"
   ]
  },
  {
   "cell_type": "code",
   "execution_count": 44,
   "metadata": {},
   "outputs": [],
   "source": [
    "config_file = 'config_traffic.json'\n",
    "# load config file\n",
    "with open(config_file) as handle:\n",
    "    config = json.load(handle)\n",
    "# setting path to save trained models and log files\n",
    "path = os.path.join(config['trainer']['save_dir'], config['name'])"
   ]
  },
  {
   "cell_type": "code",
   "execution_count": 45,
   "metadata": {},
   "outputs": [
    {
     "name": "stdout",
     "output_type": "stream",
     "text": [
      "traffic2Model(\n",
      "  (conv1): Conv2d(3, 6, kernel_size=(5, 5), stride=(1, 1))\n",
      "  (pool): MaxPool2d(kernel_size=2, stride=2, padding=0, dilation=1, ceil_mode=False)\n",
      "  (conv2): Conv2d(6, 16, kernel_size=(5, 5), stride=(1, 1))\n",
      "  (fc1): Linear(in_features=400, out_features=120, bias=True)\n",
      "  (fc2): Linear(in_features=120, out_features=84, bias=True)\n",
      "  (fc3): Linear(in_features=84, out_features=43, bias=True)\n",
      ")\n",
      "Trainable parameters: 64811\n",
      "Tesla K80\n"
     ]
    },
    {
     "name": "stderr",
     "output_type": "stream",
     "text": [
      "Train Epoch: 1 [0/35289 (0%)] Loss: 0.005587\n",
      "Train Epoch: 1 [512/35289 (1%)] Loss: -0.068333\n",
      "Train Epoch: 1 [1024/35289 (3%)] Loss: -0.923643\n",
      "Train Epoch: 1 [1536/35289 (4%)] Loss: -9.577555\n",
      "Train Epoch: 1 [2048/35289 (6%)] Loss: -54.264137\n",
      "Train Epoch: 1 [2560/35289 (7%)] Loss: -291.362152\n",
      "Train Epoch: 1 [3072/35289 (9%)] Loss: -959.259583\n",
      "Train Epoch: 1 [3584/35289 (10%)] Loss: -2895.474854\n",
      "Train Epoch: 1 [4096/35289 (12%)] Loss: -6759.349609\n",
      "Train Epoch: 1 [4608/35289 (13%)] Loss: -16411.763672\n",
      "Train Epoch: 1 [5120/35289 (14%)] Loss: -36833.132812\n",
      "Train Epoch: 1 [5632/35289 (16%)] Loss: -77473.093750\n",
      "Train Epoch: 1 [6144/35289 (17%)] Loss: -124302.906250\n",
      "Train Epoch: 1 [6656/35289 (19%)] Loss: -235149.921875\n",
      "Train Epoch: 1 [7168/35289 (20%)] Loss: -379480.468750\n",
      "Train Epoch: 1 [7680/35289 (22%)] Loss: -588335.187500\n",
      "Train Epoch: 1 [8192/35289 (23%)] Loss: -903285.125000\n",
      "Train Epoch: 1 [8704/35289 (25%)] Loss: -1596334.250000\n",
      "Train Epoch: 1 [9216/35289 (26%)] Loss: -2073393.500000\n",
      "Train Epoch: 1 [9728/35289 (28%)] Loss: -3893365.750000\n",
      "Train Epoch: 1 [10240/35289 (29%)] Loss: -5314553.000000\n",
      "Train Epoch: 1 [10752/35289 (30%)] Loss: -6879200.000000\n",
      "Train Epoch: 1 [11264/35289 (32%)] Loss: -10269611.000000\n",
      "Train Epoch: 1 [11776/35289 (33%)] Loss: -13122086.000000\n",
      "Train Epoch: 1 [12288/35289 (35%)] Loss: -16433443.000000\n",
      "Train Epoch: 1 [12800/35289 (36%)] Loss: -19999522.000000\n",
      "Train Epoch: 1 [13312/35289 (38%)] Loss: -26459276.000000\n",
      "Train Epoch: 1 [13824/35289 (39%)] Loss: -37241500.000000\n",
      "Train Epoch: 1 [14336/35289 (41%)] Loss: -43179488.000000\n",
      "Train Epoch: 1 [14848/35289 (42%)] Loss: -60559612.000000\n",
      "Train Epoch: 1 [15360/35289 (43%)] Loss: -62762588.000000\n",
      "Train Epoch: 1 [15872/35289 (45%)] Loss: -86074448.000000\n",
      "Train Epoch: 1 [16384/35289 (46%)] Loss: -106609840.000000\n",
      "Train Epoch: 1 [16896/35289 (48%)] Loss: -131678296.000000\n",
      "Train Epoch: 1 [17408/35289 (49%)] Loss: -153032208.000000\n",
      "Train Epoch: 1 [17920/35289 (51%)] Loss: -176913328.000000\n",
      "Train Epoch: 1 [18432/35289 (52%)] Loss: -211269040.000000\n",
      "Train Epoch: 1 [18944/35289 (54%)] Loss: -289157888.000000\n",
      "Train Epoch: 1 [19456/35289 (55%)] Loss: -301652480.000000\n",
      "Train Epoch: 1 [19968/35289 (57%)] Loss: -368209472.000000\n",
      "Train Epoch: 1 [20480/35289 (58%)] Loss: -395444704.000000\n",
      "Train Epoch: 1 [20992/35289 (59%)] Loss: -501211968.000000\n",
      "Train Epoch: 1 [21504/35289 (61%)] Loss: -498716992.000000\n",
      "Train Epoch: 1 [22016/35289 (62%)] Loss: -565942272.000000\n",
      "Train Epoch: 1 [22528/35289 (64%)] Loss: -740016576.000000\n",
      "Train Epoch: 1 [23040/35289 (65%)] Loss: -753276736.000000\n",
      "Train Epoch: 1 [23552/35289 (67%)] Loss: -844359808.000000\n",
      "Train Epoch: 1 [24064/35289 (68%)] Loss: -1174283904.000000\n",
      "Train Epoch: 1 [24576/35289 (70%)] Loss: -1163708928.000000\n",
      "Train Epoch: 1 [25088/35289 (71%)] Loss: -1459583744.000000\n",
      "Train Epoch: 1 [25600/35289 (72%)] Loss: -1463585792.000000\n",
      "Train Epoch: 1 [26112/35289 (74%)] Loss: -1801268736.000000\n",
      "Train Epoch: 1 [26624/35289 (75%)] Loss: -1864167808.000000\n",
      "Train Epoch: 1 [27136/35289 (77%)] Loss: -1827084928.000000\n",
      "Train Epoch: 1 [27648/35289 (78%)] Loss: -2070206080.000000\n",
      "Train Epoch: 1 [28160/35289 (80%)] Loss: -2634143488.000000\n",
      "Train Epoch: 1 [28672/35289 (81%)] Loss: -2971606528.000000\n",
      "Train Epoch: 1 [29184/35289 (83%)] Loss: -3555887616.000000\n",
      "Train Epoch: 1 [29696/35289 (84%)] Loss: -3585377536.000000\n",
      "Train Epoch: 1 [30208/35289 (86%)] Loss: -3685144576.000000\n",
      "Train Epoch: 1 [30720/35289 (87%)] Loss: -4075602944.000000\n",
      "Train Epoch: 1 [31232/35289 (88%)] Loss: -4620430336.000000\n",
      "Train Epoch: 1 [31744/35289 (90%)] Loss: -4987962368.000000\n",
      "Train Epoch: 1 [32256/35289 (91%)] Loss: -6017511424.000000\n",
      "Train Epoch: 1 [32768/35289 (93%)] Loss: -6258028032.000000\n",
      "Train Epoch: 1 [33280/35289 (94%)] Loss: -6656233472.000000\n",
      "Train Epoch: 1 [33792/35289 (96%)] Loss: -7309622272.000000\n",
      "Train Epoch: 1 [34304/35289 (97%)] Loss: -8376074240.000000\n",
      "Train Epoch: 1 [34816/35289 (99%)] Loss: -7707740160.000000\n",
      "    val_my_metric2 : 0.1670866935483871\n",
      "    epoch          : 1\n",
      "    val_my_metric  : 0.056451612903225805\n",
      "    val_loss       : -9237059179.35484\n",
      "    my_metric      : 0.05103940217391304\n",
      "    my_metric2     : 0.15789855072463768\n",
      "    loss           : -1382749989.621311\n",
      "Saving checkpoint: saved/trafficSigns_withCSV/0521_160357/checkpoint-epoch1.pth ...\n",
      "Saving current best: model_best.pth ...\n",
      "Train Epoch: 2 [0/35289 (0%)] Loss: -9845233664.000000\n",
      "Train Epoch: 2 [512/35289 (1%)] Loss: -9323404288.000000\n",
      "Train Epoch: 2 [1024/35289 (3%)] Loss: -10230114304.000000\n",
      "Train Epoch: 2 [1536/35289 (4%)] Loss: -12147020800.000000\n",
      "Train Epoch: 2 [2048/35289 (6%)] Loss: -12926240768.000000\n",
      "Train Epoch: 2 [2560/35289 (7%)] Loss: -15062887424.000000\n",
      "Train Epoch: 2 [3072/35289 (9%)] Loss: -13891557376.000000\n",
      "Train Epoch: 2 [3584/35289 (10%)] Loss: -15494081536.000000\n",
      "Train Epoch: 2 [4096/35289 (12%)] Loss: -15639881728.000000\n",
      "Train Epoch: 2 [4608/35289 (13%)] Loss: -18166579200.000000\n",
      "Train Epoch: 2 [5120/35289 (14%)] Loss: -18797352960.000000\n",
      "Train Epoch: 2 [5632/35289 (16%)] Loss: -20975591424.000000\n",
      "Train Epoch: 2 [6144/35289 (17%)] Loss: -19452088320.000000\n",
      "Train Epoch: 2 [6656/35289 (19%)] Loss: -22484111360.000000\n",
      "Train Epoch: 2 [7168/35289 (20%)] Loss: -23945023488.000000\n",
      "Train Epoch: 2 [7680/35289 (22%)] Loss: -28272662528.000000\n",
      "Train Epoch: 2 [8192/35289 (23%)] Loss: -26680530944.000000\n",
      "Train Epoch: 2 [8704/35289 (25%)] Loss: -25964902400.000000\n",
      "Train Epoch: 2 [9216/35289 (26%)] Loss: -31300704256.000000\n",
      "Train Epoch: 2 [9728/35289 (28%)] Loss: -33939755008.000000\n",
      "Train Epoch: 2 [10240/35289 (29%)] Loss: -34339932160.000000\n",
      "Train Epoch: 2 [10752/35289 (30%)] Loss: -41076617216.000000\n",
      "Train Epoch: 2 [11264/35289 (32%)] Loss: -40538783744.000000\n",
      "Train Epoch: 2 [11776/35289 (33%)] Loss: -35072319488.000000\n",
      "Train Epoch: 2 [12288/35289 (35%)] Loss: -50707595264.000000\n",
      "Train Epoch: 2 [12800/35289 (36%)] Loss: -46735851520.000000\n",
      "Train Epoch: 2 [13312/35289 (38%)] Loss: -50579365888.000000\n",
      "Train Epoch: 2 [13824/35289 (39%)] Loss: -51374338048.000000\n",
      "Train Epoch: 2 [14336/35289 (41%)] Loss: -63393906688.000000\n",
      "Train Epoch: 2 [14848/35289 (42%)] Loss: -59519541248.000000\n",
      "Train Epoch: 2 [15360/35289 (43%)] Loss: -58599047168.000000\n",
      "Train Epoch: 2 [15872/35289 (45%)] Loss: -69249548288.000000\n",
      "Train Epoch: 2 [16384/35289 (46%)] Loss: -61712445440.000000\n",
      "Train Epoch: 2 [16896/35289 (48%)] Loss: -69016690688.000000\n",
      "Train Epoch: 2 [17408/35289 (49%)] Loss: -69558902784.000000\n",
      "Train Epoch: 2 [17920/35289 (51%)] Loss: -81988509696.000000\n",
      "Train Epoch: 2 [18432/35289 (52%)] Loss: -80212328448.000000\n",
      "Train Epoch: 2 [18944/35289 (54%)] Loss: -82639609856.000000\n",
      "Train Epoch: 2 [19456/35289 (55%)] Loss: -89855729664.000000\n",
      "Train Epoch: 2 [19968/35289 (57%)] Loss: -94739709952.000000\n",
      "Train Epoch: 2 [20480/35289 (58%)] Loss: -93156057088.000000\n",
      "Train Epoch: 2 [20992/35289 (59%)] Loss: -106356514816.000000\n",
      "Train Epoch: 2 [21504/35289 (61%)] Loss: -111918653440.000000\n",
      "Train Epoch: 2 [22016/35289 (62%)] Loss: -113642536960.000000\n",
      "Train Epoch: 2 [22528/35289 (64%)] Loss: -115893166080.000000\n",
      "Train Epoch: 2 [23040/35289 (65%)] Loss: -120688361472.000000\n",
      "Train Epoch: 2 [23552/35289 (67%)] Loss: -136972255232.000000\n",
      "Train Epoch: 2 [24064/35289 (68%)] Loss: -141229588480.000000\n",
      "Train Epoch: 2 [24576/35289 (70%)] Loss: -152546328576.000000\n",
      "Train Epoch: 2 [25088/35289 (71%)] Loss: -147116883968.000000\n",
      "Train Epoch: 2 [25600/35289 (72%)] Loss: -144216342528.000000\n",
      "Train Epoch: 2 [26112/35289 (74%)] Loss: -166363643904.000000\n",
      "Train Epoch: 2 [26624/35289 (75%)] Loss: -152612847616.000000\n",
      "Train Epoch: 2 [27136/35289 (77%)] Loss: -202895769600.000000\n",
      "Train Epoch: 2 [27648/35289 (78%)] Loss: -188069330944.000000\n",
      "Train Epoch: 2 [28160/35289 (80%)] Loss: -170950475776.000000\n",
      "Train Epoch: 2 [28672/35289 (81%)] Loss: -195396485120.000000\n",
      "Train Epoch: 2 [29184/35289 (83%)] Loss: -208086646784.000000\n",
      "Train Epoch: 2 [29696/35289 (84%)] Loss: -223537954816.000000\n",
      "Train Epoch: 2 [30208/35289 (86%)] Loss: -187513487360.000000\n",
      "Train Epoch: 2 [30720/35289 (87%)] Loss: -227306897408.000000\n",
      "Train Epoch: 2 [31232/35289 (88%)] Loss: -214551265280.000000\n",
      "Train Epoch: 2 [31744/35289 (90%)] Loss: -237948256256.000000\n",
      "Train Epoch: 2 [32256/35289 (91%)] Loss: -256475561984.000000\n"
     ]
    },
    {
     "name": "stderr",
     "output_type": "stream",
     "text": [
      "Train Epoch: 2 [32768/35289 (93%)] Loss: -222136320000.000000\n",
      "Train Epoch: 2 [33280/35289 (94%)] Loss: -291285303296.000000\n",
      "Train Epoch: 2 [33792/35289 (96%)] Loss: -289718239232.000000\n",
      "Train Epoch: 2 [34304/35289 (97%)] Loss: -301540114432.000000\n",
      "Train Epoch: 2 [34816/35289 (99%)] Loss: -320114491392.000000\n",
      "    val_my_metric2 : 0.16784274193548387\n",
      "    epoch          : 2\n",
      "    val_my_metric  : 0.05871975806451613\n",
      "    val_loss       : -320110008518.19354\n",
      "    my_metric      : 0.05695199275362319\n",
      "    my_metric2     : 0.16780570652173912\n",
      "    loss           : -104969329974.72464\n",
      "Saving checkpoint: saved/trafficSigns_withCSV/0521_160357/checkpoint-epoch2.pth ...\n",
      "Saving current best: model_best.pth ...\n",
      "Train Epoch: 3 [0/35289 (0%)] Loss: -359613923328.000000\n",
      "Train Epoch: 3 [512/35289 (1%)] Loss: -336843997184.000000\n",
      "Train Epoch: 3 [1024/35289 (3%)] Loss: -361903325184.000000\n",
      "Train Epoch: 3 [1536/35289 (4%)] Loss: -374358278144.000000\n",
      "Train Epoch: 3 [2048/35289 (6%)] Loss: -382817370112.000000\n",
      "Train Epoch: 3 [2560/35289 (7%)] Loss: -340772061184.000000\n",
      "Train Epoch: 3 [3072/35289 (9%)] Loss: -346275020800.000000\n",
      "Train Epoch: 3 [3584/35289 (10%)] Loss: -401333125120.000000\n",
      "Train Epoch: 3 [4096/35289 (12%)] Loss: -429623050240.000000\n",
      "Train Epoch: 3 [4608/35289 (13%)] Loss: -445046652928.000000\n",
      "Train Epoch: 3 [5120/35289 (14%)] Loss: -499748044800.000000\n",
      "Train Epoch: 3 [5632/35289 (16%)] Loss: -417931296768.000000\n",
      "Train Epoch: 3 [6144/35289 (17%)] Loss: -477200777216.000000\n",
      "Train Epoch: 3 [6656/35289 (19%)] Loss: -513214775296.000000\n",
      "Train Epoch: 3 [7168/35289 (20%)] Loss: -450115600384.000000\n",
      "Train Epoch: 3 [7680/35289 (22%)] Loss: -507518287872.000000\n",
      "Train Epoch: 3 [8192/35289 (23%)] Loss: -507391082496.000000\n",
      "Train Epoch: 3 [8704/35289 (25%)] Loss: -579275587584.000000\n",
      "Train Epoch: 3 [9216/35289 (26%)] Loss: -563462995968.000000\n",
      "Train Epoch: 3 [9728/35289 (28%)] Loss: -550393872384.000000\n",
      "Train Epoch: 3 [10240/35289 (29%)] Loss: -580714168320.000000\n",
      "Train Epoch: 3 [10752/35289 (30%)] Loss: -603582365696.000000\n",
      "Train Epoch: 3 [11264/35289 (32%)] Loss: -622935474176.000000\n",
      "Train Epoch: 3 [11776/35289 (33%)] Loss: -642327904256.000000\n",
      "Train Epoch: 3 [12288/35289 (35%)] Loss: -700396404736.000000\n",
      "Train Epoch: 3 [12800/35289 (36%)] Loss: -734330945536.000000\n",
      "Train Epoch: 3 [13312/35289 (38%)] Loss: -681229221888.000000\n",
      "Train Epoch: 3 [13824/35289 (39%)] Loss: -817389109248.000000\n",
      "Train Epoch: 3 [14336/35289 (41%)] Loss: -748856082432.000000\n",
      "Train Epoch: 3 [14848/35289 (42%)] Loss: -791325900800.000000\n",
      "Train Epoch: 3 [15360/35289 (43%)] Loss: -846339899392.000000\n",
      "Train Epoch: 3 [15872/35289 (45%)] Loss: -718461534208.000000\n",
      "Train Epoch: 3 [16384/35289 (46%)] Loss: -857823903744.000000\n",
      "Train Epoch: 3 [16896/35289 (48%)] Loss: -946535923712.000000\n",
      "Train Epoch: 3 [17408/35289 (49%)] Loss: -964728127488.000000\n",
      "Train Epoch: 3 [17920/35289 (51%)] Loss: -829559996416.000000\n",
      "Train Epoch: 3 [18432/35289 (52%)] Loss: -953914490880.000000\n",
      "Train Epoch: 3 [18944/35289 (54%)] Loss: -913414553600.000000\n",
      "Train Epoch: 3 [19456/35289 (55%)] Loss: -959540953088.000000\n",
      "Train Epoch: 3 [19968/35289 (57%)] Loss: -1114776928256.000000\n",
      "Train Epoch: 3 [20480/35289 (58%)] Loss: -1091568664576.000000\n",
      "Train Epoch: 3 [20992/35289 (59%)] Loss: -1123879616512.000000\n",
      "Train Epoch: 3 [21504/35289 (61%)] Loss: -969790193664.000000\n",
      "Train Epoch: 3 [22016/35289 (62%)] Loss: -1077843722240.000000\n",
      "Train Epoch: 3 [22528/35289 (64%)] Loss: -1128912781312.000000\n",
      "Train Epoch: 3 [23040/35289 (65%)] Loss: -1142022340608.000000\n",
      "Train Epoch: 3 [23552/35289 (67%)] Loss: -1212123447296.000000\n",
      "Train Epoch: 3 [24064/35289 (68%)] Loss: -1304564465664.000000\n",
      "Train Epoch: 3 [24576/35289 (70%)] Loss: -1319267598336.000000\n",
      "Train Epoch: 3 [25088/35289 (71%)] Loss: -1310562320384.000000\n",
      "Train Epoch: 3 [25600/35289 (72%)] Loss: -1152554237952.000000\n",
      "Train Epoch: 3 [26112/35289 (74%)] Loss: -1356615122944.000000\n",
      "Train Epoch: 3 [26624/35289 (75%)] Loss: -1477017468928.000000\n",
      "Train Epoch: 3 [27136/35289 (77%)] Loss: -1502735237120.000000\n",
      "Train Epoch: 3 [27648/35289 (78%)] Loss: -1481023029248.000000\n",
      "Train Epoch: 3 [28160/35289 (80%)] Loss: -1397785624576.000000\n",
      "Train Epoch: 3 [28672/35289 (81%)] Loss: -1598716248064.000000\n",
      "Train Epoch: 3 [29184/35289 (83%)] Loss: -1659987951616.000000\n",
      "Train Epoch: 3 [29696/35289 (84%)] Loss: -1504612581376.000000\n",
      "Train Epoch: 3 [30208/35289 (86%)] Loss: -1627001323520.000000\n",
      "Train Epoch: 3 [30720/35289 (87%)] Loss: -1742606041088.000000\n",
      "Train Epoch: 3 [31232/35289 (88%)] Loss: -1671320305664.000000\n",
      "Train Epoch: 3 [31744/35289 (90%)] Loss: -1708523782144.000000\n",
      "Train Epoch: 3 [32256/35289 (91%)] Loss: -1794922905600.000000\n",
      "Train Epoch: 3 [32768/35289 (93%)] Loss: -1954673065984.000000\n",
      "Train Epoch: 3 [33280/35289 (94%)] Loss: -1813926772736.000000\n",
      "Train Epoch: 3 [33792/35289 (96%)] Loss: -1828198416384.000000\n",
      "Train Epoch: 3 [34304/35289 (97%)] Loss: -1869802242048.000000\n",
      "Train Epoch: 3 [34816/35289 (99%)] Loss: -2244909203456.000000\n",
      "    val_my_metric2 : 0.16784274193548387\n",
      "    epoch          : 3\n",
      "    val_my_metric  : 0.05871975806451613\n",
      "    val_loss       : -2107518791019.3547\n",
      "    my_metric      : 0.0573924365942029\n",
      "    my_metric2     : 0.16776494565217392\n",
      "    loss           : -1005742798462.1449\n",
      "Saving checkpoint: saved/trafficSigns_withCSV/0521_160357/checkpoint-epoch3.pth ...\n",
      "Saving current best: model_best.pth ...\n",
      "Train Epoch: 4 [0/35289 (0%)] Loss: -2342645137408.000000\n",
      "Train Epoch: 4 [512/35289 (1%)] Loss: -2179341090816.000000\n",
      "Train Epoch: 4 [1024/35289 (3%)] Loss: -2128458022912.000000\n",
      "Train Epoch: 4 [1536/35289 (4%)] Loss: -2418942672896.000000\n",
      "Train Epoch: 4 [2048/35289 (6%)] Loss: -2397636395008.000000\n",
      "Train Epoch: 4 [2560/35289 (7%)] Loss: -2405723537408.000000\n",
      "Train Epoch: 4 [3072/35289 (9%)] Loss: -2349685276672.000000\n",
      "Train Epoch: 4 [3584/35289 (10%)] Loss: -2332382461952.000000\n"
     ]
    },
    {
     "ename": "KeyboardInterrupt",
     "evalue": "",
     "output_type": "error",
     "traceback": [
      "\u001b[0;31m---------------------------------------------------------------------------\u001b[0m",
      "\u001b[0;31mKeyboardInterrupt\u001b[0m                         Traceback (most recent call last)",
      "\u001b[0;32m<ipython-input-45-f5cf6c1f3297>\u001b[0m in \u001b[0;36m<module>\u001b[0;34m\u001b[0m\n\u001b[1;32m      1\u001b[0m \u001b[0;31m#Train the network\u001b[0m\u001b[0;34m\u001b[0m\u001b[0;34m\u001b[0m\u001b[0m\n\u001b[0;32m----> 2\u001b[0;31m \u001b[0mmain\u001b[0m\u001b[0;34m(\u001b[0m\u001b[0mconfig\u001b[0m\u001b[0;34m,\u001b[0m \u001b[0;32mNone\u001b[0m\u001b[0;34m)\u001b[0m\u001b[0;34m\u001b[0m\u001b[0m\n\u001b[0m",
      "\u001b[0;32m<ipython-input-43-ff1265bf8149>\u001b[0m in \u001b[0;36mmain\u001b[0;34m(config, resume)\u001b[0m\n\u001b[1;32m     33\u001b[0m                       train_logger=train_logger)\n\u001b[1;32m     34\u001b[0m \u001b[0;34m\u001b[0m\u001b[0m\n\u001b[0;32m---> 35\u001b[0;31m     \u001b[0mtrainer\u001b[0m\u001b[0;34m.\u001b[0m\u001b[0mtrain\u001b[0m\u001b[0;34m(\u001b[0m\u001b[0;34m)\u001b[0m\u001b[0;34m\u001b[0m\u001b[0m\n\u001b[0m\u001b[1;32m     36\u001b[0m \u001b[0;34m\u001b[0m\u001b[0m\n",
      "\u001b[0;32m~/KPMP/MNIST/base/base_trainer.py\u001b[0m in \u001b[0;36mtrain\u001b[0;34m(self)\u001b[0m\n\u001b[1;32m     85\u001b[0m         \"\"\"\n\u001b[1;32m     86\u001b[0m         \u001b[0;32mfor\u001b[0m \u001b[0mepoch\u001b[0m \u001b[0;32min\u001b[0m \u001b[0mrange\u001b[0m\u001b[0;34m(\u001b[0m\u001b[0mself\u001b[0m\u001b[0;34m.\u001b[0m\u001b[0mstart_epoch\u001b[0m\u001b[0;34m,\u001b[0m \u001b[0mself\u001b[0m\u001b[0;34m.\u001b[0m\u001b[0mepochs\u001b[0m \u001b[0;34m+\u001b[0m \u001b[0;36m1\u001b[0m\u001b[0;34m)\u001b[0m\u001b[0;34m:\u001b[0m\u001b[0;34m\u001b[0m\u001b[0m\n\u001b[0;32m---> 87\u001b[0;31m             \u001b[0mresult\u001b[0m \u001b[0;34m=\u001b[0m \u001b[0mself\u001b[0m\u001b[0;34m.\u001b[0m\u001b[0m_train_epoch\u001b[0m\u001b[0;34m(\u001b[0m\u001b[0mepoch\u001b[0m\u001b[0;34m)\u001b[0m\u001b[0;34m\u001b[0m\u001b[0m\n\u001b[0m\u001b[1;32m     88\u001b[0m \u001b[0;34m\u001b[0m\u001b[0m\n\u001b[1;32m     89\u001b[0m             \u001b[0;31m# save logged informations into log dict\u001b[0m\u001b[0;34m\u001b[0m\u001b[0;34m\u001b[0m\u001b[0m\n",
      "\u001b[0;32m~/KPMP/MNIST/trainer/trainer.py\u001b[0m in \u001b[0;36m_train_epoch\u001b[0;34m(self, epoch)\u001b[0m\n\u001b[1;32m     49\u001b[0m         \u001b[0mtotal_loss\u001b[0m \u001b[0;34m=\u001b[0m \u001b[0;36m0\u001b[0m\u001b[0;34m\u001b[0m\u001b[0m\n\u001b[1;32m     50\u001b[0m         \u001b[0mtotal_metrics\u001b[0m \u001b[0;34m=\u001b[0m \u001b[0mnp\u001b[0m\u001b[0;34m.\u001b[0m\u001b[0mzeros\u001b[0m\u001b[0;34m(\u001b[0m\u001b[0mlen\u001b[0m\u001b[0;34m(\u001b[0m\u001b[0mself\u001b[0m\u001b[0;34m.\u001b[0m\u001b[0mmetrics\u001b[0m\u001b[0;34m)\u001b[0m\u001b[0;34m)\u001b[0m\u001b[0;34m\u001b[0m\u001b[0m\n\u001b[0;32m---> 51\u001b[0;31m         \u001b[0;32mfor\u001b[0m \u001b[0mbatch_idx\u001b[0m\u001b[0;34m,\u001b[0m \u001b[0;34m(\u001b[0m\u001b[0mdata\u001b[0m\u001b[0;34m,\u001b[0m \u001b[0mtarget\u001b[0m\u001b[0;34m)\u001b[0m \u001b[0;32min\u001b[0m \u001b[0menumerate\u001b[0m\u001b[0;34m(\u001b[0m\u001b[0mself\u001b[0m\u001b[0;34m.\u001b[0m\u001b[0mdata_loader\u001b[0m\u001b[0;34m)\u001b[0m\u001b[0;34m:\u001b[0m\u001b[0;34m\u001b[0m\u001b[0m\n\u001b[0m\u001b[1;32m     52\u001b[0m             \u001b[0mdata\u001b[0m\u001b[0;34m,\u001b[0m \u001b[0mtarget\u001b[0m \u001b[0;34m=\u001b[0m \u001b[0mdata\u001b[0m\u001b[0;34m.\u001b[0m\u001b[0mto\u001b[0m\u001b[0;34m(\u001b[0m\u001b[0mself\u001b[0m\u001b[0;34m.\u001b[0m\u001b[0mdevice\u001b[0m\u001b[0;34m)\u001b[0m\u001b[0;34m,\u001b[0m \u001b[0mtarget\u001b[0m\u001b[0;34m.\u001b[0m\u001b[0mto\u001b[0m\u001b[0;34m(\u001b[0m\u001b[0mself\u001b[0m\u001b[0;34m.\u001b[0m\u001b[0mdevice\u001b[0m\u001b[0;34m)\u001b[0m\u001b[0;34m\u001b[0m\u001b[0m\n\u001b[1;32m     53\u001b[0m \u001b[0;34m\u001b[0m\u001b[0m\n",
      "\u001b[0;32m~/miniconda3/envs/pytorch_env/lib/python3.5/site-packages/torch/utils/data/dataloader.py\u001b[0m in \u001b[0;36m__next__\u001b[0;34m(self)\u001b[0m\n\u001b[1;32m    629\u001b[0m         \u001b[0;32mwhile\u001b[0m \u001b[0;32mTrue\u001b[0m\u001b[0;34m:\u001b[0m\u001b[0;34m\u001b[0m\u001b[0m\n\u001b[1;32m    630\u001b[0m             \u001b[0;32massert\u001b[0m \u001b[0;34m(\u001b[0m\u001b[0;32mnot\u001b[0m \u001b[0mself\u001b[0m\u001b[0;34m.\u001b[0m\u001b[0mshutdown\u001b[0m \u001b[0;32mand\u001b[0m \u001b[0mself\u001b[0m\u001b[0;34m.\u001b[0m\u001b[0mbatches_outstanding\u001b[0m \u001b[0;34m>\u001b[0m \u001b[0;36m0\u001b[0m\u001b[0;34m)\u001b[0m\u001b[0;34m\u001b[0m\u001b[0m\n\u001b[0;32m--> 631\u001b[0;31m             \u001b[0midx\u001b[0m\u001b[0;34m,\u001b[0m \u001b[0mbatch\u001b[0m \u001b[0;34m=\u001b[0m \u001b[0mself\u001b[0m\u001b[0;34m.\u001b[0m\u001b[0m_get_batch\u001b[0m\u001b[0;34m(\u001b[0m\u001b[0;34m)\u001b[0m\u001b[0;34m\u001b[0m\u001b[0m\n\u001b[0m\u001b[1;32m    632\u001b[0m             \u001b[0mself\u001b[0m\u001b[0;34m.\u001b[0m\u001b[0mbatches_outstanding\u001b[0m \u001b[0;34m-=\u001b[0m \u001b[0;36m1\u001b[0m\u001b[0;34m\u001b[0m\u001b[0m\n\u001b[1;32m    633\u001b[0m             \u001b[0;32mif\u001b[0m \u001b[0midx\u001b[0m \u001b[0;34m!=\u001b[0m \u001b[0mself\u001b[0m\u001b[0;34m.\u001b[0m\u001b[0mrcvd_idx\u001b[0m\u001b[0;34m:\u001b[0m\u001b[0;34m\u001b[0m\u001b[0m\n",
      "\u001b[0;32m~/miniconda3/envs/pytorch_env/lib/python3.5/site-packages/torch/utils/data/dataloader.py\u001b[0m in \u001b[0;36m_get_batch\u001b[0;34m(self)\u001b[0m\n\u001b[1;32m    608\u001b[0m             \u001b[0;31m# need to call `.task_done()` because we don't use `.join()`.\u001b[0m\u001b[0;34m\u001b[0m\u001b[0;34m\u001b[0m\u001b[0m\n\u001b[1;32m    609\u001b[0m         \u001b[0;32melse\u001b[0m\u001b[0;34m:\u001b[0m\u001b[0;34m\u001b[0m\u001b[0m\n\u001b[0;32m--> 610\u001b[0;31m             \u001b[0;32mreturn\u001b[0m \u001b[0mself\u001b[0m\u001b[0;34m.\u001b[0m\u001b[0mdata_queue\u001b[0m\u001b[0;34m.\u001b[0m\u001b[0mget\u001b[0m\u001b[0;34m(\u001b[0m\u001b[0;34m)\u001b[0m\u001b[0;34m\u001b[0m\u001b[0m\n\u001b[0m\u001b[1;32m    611\u001b[0m \u001b[0;34m\u001b[0m\u001b[0m\n\u001b[1;32m    612\u001b[0m     \u001b[0;32mdef\u001b[0m \u001b[0m__next__\u001b[0m\u001b[0;34m(\u001b[0m\u001b[0mself\u001b[0m\u001b[0;34m)\u001b[0m\u001b[0;34m:\u001b[0m\u001b[0;34m\u001b[0m\u001b[0m\n",
      "\u001b[0;32m~/miniconda3/envs/pytorch_env/lib/python3.5/multiprocessing/queues.py\u001b[0m in \u001b[0;36mget\u001b[0;34m(self, block, timeout)\u001b[0m\n\u001b[1;32m    111\u001b[0m                 \u001b[0mself\u001b[0m\u001b[0;34m.\u001b[0m\u001b[0m_rlock\u001b[0m\u001b[0;34m.\u001b[0m\u001b[0mrelease\u001b[0m\u001b[0;34m(\u001b[0m\u001b[0;34m)\u001b[0m\u001b[0;34m\u001b[0m\u001b[0m\n\u001b[1;32m    112\u001b[0m         \u001b[0;31m# unserialize the data after having released the lock\u001b[0m\u001b[0;34m\u001b[0m\u001b[0;34m\u001b[0m\u001b[0m\n\u001b[0;32m--> 113\u001b[0;31m         \u001b[0;32mreturn\u001b[0m \u001b[0mForkingPickler\u001b[0m\u001b[0;34m.\u001b[0m\u001b[0mloads\u001b[0m\u001b[0;34m(\u001b[0m\u001b[0mres\u001b[0m\u001b[0;34m)\u001b[0m\u001b[0;34m\u001b[0m\u001b[0m\n\u001b[0m\u001b[1;32m    114\u001b[0m \u001b[0;34m\u001b[0m\u001b[0m\n\u001b[1;32m    115\u001b[0m     \u001b[0;32mdef\u001b[0m \u001b[0mqsize\u001b[0m\u001b[0;34m(\u001b[0m\u001b[0mself\u001b[0m\u001b[0;34m)\u001b[0m\u001b[0;34m:\u001b[0m\u001b[0;34m\u001b[0m\u001b[0m\n",
      "\u001b[0;32m~/miniconda3/envs/pytorch_env/lib/python3.5/site-packages/torch/multiprocessing/reductions.py\u001b[0m in \u001b[0;36mrebuild_storage_fd\u001b[0;34m(cls, df, size)\u001b[0m\n\u001b[1;32m    254\u001b[0m         \u001b[0mfd\u001b[0m \u001b[0;34m=\u001b[0m \u001b[0mmultiprocessing\u001b[0m\u001b[0;34m.\u001b[0m\u001b[0mreduction\u001b[0m\u001b[0;34m.\u001b[0m\u001b[0mrebuild_handle\u001b[0m\u001b[0;34m(\u001b[0m\u001b[0mdf\u001b[0m\u001b[0;34m)\u001b[0m\u001b[0;34m\u001b[0m\u001b[0m\n\u001b[1;32m    255\u001b[0m     \u001b[0;32melse\u001b[0m\u001b[0;34m:\u001b[0m\u001b[0;34m\u001b[0m\u001b[0m\n\u001b[0;32m--> 256\u001b[0;31m         \u001b[0mfd\u001b[0m \u001b[0;34m=\u001b[0m \u001b[0mdf\u001b[0m\u001b[0;34m.\u001b[0m\u001b[0mdetach\u001b[0m\u001b[0;34m(\u001b[0m\u001b[0;34m)\u001b[0m\u001b[0;34m\u001b[0m\u001b[0m\n\u001b[0m\u001b[1;32m    257\u001b[0m     \u001b[0;32mtry\u001b[0m\u001b[0;34m:\u001b[0m\u001b[0;34m\u001b[0m\u001b[0m\n\u001b[1;32m    258\u001b[0m         \u001b[0mstorage\u001b[0m \u001b[0;34m=\u001b[0m \u001b[0mstorage_from_cache\u001b[0m\u001b[0;34m(\u001b[0m\u001b[0mcls\u001b[0m\u001b[0;34m,\u001b[0m \u001b[0mfd_id\u001b[0m\u001b[0;34m(\u001b[0m\u001b[0mfd\u001b[0m\u001b[0;34m)\u001b[0m\u001b[0;34m)\u001b[0m\u001b[0;34m\u001b[0m\u001b[0m\n",
      "\u001b[0;32m~/miniconda3/envs/pytorch_env/lib/python3.5/multiprocessing/resource_sharer.py\u001b[0m in \u001b[0;36mdetach\u001b[0;34m(self)\u001b[0m\n\u001b[1;32m     55\u001b[0m         \u001b[0;32mdef\u001b[0m \u001b[0mdetach\u001b[0m\u001b[0;34m(\u001b[0m\u001b[0mself\u001b[0m\u001b[0;34m)\u001b[0m\u001b[0;34m:\u001b[0m\u001b[0;34m\u001b[0m\u001b[0m\n\u001b[1;32m     56\u001b[0m             \u001b[0;34m'''Get the fd.  This should only be called once.'''\u001b[0m\u001b[0;34m\u001b[0m\u001b[0m\n\u001b[0;32m---> 57\u001b[0;31m             \u001b[0;32mwith\u001b[0m \u001b[0m_resource_sharer\u001b[0m\u001b[0;34m.\u001b[0m\u001b[0mget_connection\u001b[0m\u001b[0;34m(\u001b[0m\u001b[0mself\u001b[0m\u001b[0;34m.\u001b[0m\u001b[0m_id\u001b[0m\u001b[0;34m)\u001b[0m \u001b[0;32mas\u001b[0m \u001b[0mconn\u001b[0m\u001b[0;34m:\u001b[0m\u001b[0;34m\u001b[0m\u001b[0m\n\u001b[0m\u001b[1;32m     58\u001b[0m                 \u001b[0;32mreturn\u001b[0m \u001b[0mreduction\u001b[0m\u001b[0;34m.\u001b[0m\u001b[0mrecv_handle\u001b[0m\u001b[0;34m(\u001b[0m\u001b[0mconn\u001b[0m\u001b[0;34m)\u001b[0m\u001b[0;34m\u001b[0m\u001b[0m\n\u001b[1;32m     59\u001b[0m \u001b[0;34m\u001b[0m\u001b[0m\n",
      "\u001b[0;32m~/miniconda3/envs/pytorch_env/lib/python3.5/multiprocessing/resource_sharer.py\u001b[0m in \u001b[0;36mget_connection\u001b[0;34m(ident)\u001b[0m\n\u001b[1;32m     85\u001b[0m         \u001b[0;32mfrom\u001b[0m \u001b[0;34m.\u001b[0m\u001b[0mconnection\u001b[0m \u001b[0;32mimport\u001b[0m \u001b[0mClient\u001b[0m\u001b[0;34m\u001b[0m\u001b[0m\n\u001b[1;32m     86\u001b[0m         \u001b[0maddress\u001b[0m\u001b[0;34m,\u001b[0m \u001b[0mkey\u001b[0m \u001b[0;34m=\u001b[0m \u001b[0mident\u001b[0m\u001b[0;34m\u001b[0m\u001b[0m\n\u001b[0;32m---> 87\u001b[0;31m         \u001b[0mc\u001b[0m \u001b[0;34m=\u001b[0m \u001b[0mClient\u001b[0m\u001b[0;34m(\u001b[0m\u001b[0maddress\u001b[0m\u001b[0;34m,\u001b[0m \u001b[0mauthkey\u001b[0m\u001b[0;34m=\u001b[0m\u001b[0mprocess\u001b[0m\u001b[0;34m.\u001b[0m\u001b[0mcurrent_process\u001b[0m\u001b[0;34m(\u001b[0m\u001b[0;34m)\u001b[0m\u001b[0;34m.\u001b[0m\u001b[0mauthkey\u001b[0m\u001b[0;34m)\u001b[0m\u001b[0;34m\u001b[0m\u001b[0m\n\u001b[0m\u001b[1;32m     88\u001b[0m         \u001b[0mc\u001b[0m\u001b[0;34m.\u001b[0m\u001b[0msend\u001b[0m\u001b[0;34m(\u001b[0m\u001b[0;34m(\u001b[0m\u001b[0mkey\u001b[0m\u001b[0;34m,\u001b[0m \u001b[0mos\u001b[0m\u001b[0;34m.\u001b[0m\u001b[0mgetpid\u001b[0m\u001b[0;34m(\u001b[0m\u001b[0;34m)\u001b[0m\u001b[0;34m)\u001b[0m\u001b[0;34m)\u001b[0m\u001b[0;34m\u001b[0m\u001b[0m\n\u001b[1;32m     89\u001b[0m         \u001b[0;32mreturn\u001b[0m \u001b[0mc\u001b[0m\u001b[0;34m\u001b[0m\u001b[0m\n",
      "\u001b[0;32m~/miniconda3/envs/pytorch_env/lib/python3.5/multiprocessing/connection.py\u001b[0m in \u001b[0;36mClient\u001b[0;34m(address, family, authkey)\u001b[0m\n\u001b[1;32m    491\u001b[0m \u001b[0;34m\u001b[0m\u001b[0m\n\u001b[1;32m    492\u001b[0m     \u001b[0;32mif\u001b[0m \u001b[0mauthkey\u001b[0m \u001b[0;32mis\u001b[0m \u001b[0;32mnot\u001b[0m \u001b[0;32mNone\u001b[0m\u001b[0;34m:\u001b[0m\u001b[0;34m\u001b[0m\u001b[0m\n\u001b[0;32m--> 493\u001b[0;31m         \u001b[0manswer_challenge\u001b[0m\u001b[0;34m(\u001b[0m\u001b[0mc\u001b[0m\u001b[0;34m,\u001b[0m \u001b[0mauthkey\u001b[0m\u001b[0;34m)\u001b[0m\u001b[0;34m\u001b[0m\u001b[0m\n\u001b[0m\u001b[1;32m    494\u001b[0m         \u001b[0mdeliver_challenge\u001b[0m\u001b[0;34m(\u001b[0m\u001b[0mc\u001b[0m\u001b[0;34m,\u001b[0m \u001b[0mauthkey\u001b[0m\u001b[0;34m)\u001b[0m\u001b[0;34m\u001b[0m\u001b[0m\n\u001b[1;32m    495\u001b[0m \u001b[0;34m\u001b[0m\u001b[0m\n",
      "\u001b[0;32m~/miniconda3/envs/pytorch_env/lib/python3.5/multiprocessing/connection.py\u001b[0m in \u001b[0;36manswer_challenge\u001b[0;34m(connection, authkey)\u001b[0m\n\u001b[1;32m    728\u001b[0m \u001b[0;34m\u001b[0m\u001b[0m\n\u001b[1;32m    729\u001b[0m \u001b[0;32mdef\u001b[0m \u001b[0manswer_challenge\u001b[0m\u001b[0;34m(\u001b[0m\u001b[0mconnection\u001b[0m\u001b[0;34m,\u001b[0m \u001b[0mauthkey\u001b[0m\u001b[0;34m)\u001b[0m\u001b[0;34m:\u001b[0m\u001b[0;34m\u001b[0m\u001b[0m\n\u001b[0;32m--> 730\u001b[0;31m     \u001b[0;32mimport\u001b[0m \u001b[0mhmac\u001b[0m\u001b[0;34m\u001b[0m\u001b[0m\n\u001b[0m\u001b[1;32m    731\u001b[0m     \u001b[0;32massert\u001b[0m \u001b[0misinstance\u001b[0m\u001b[0;34m(\u001b[0m\u001b[0mauthkey\u001b[0m\u001b[0;34m,\u001b[0m \u001b[0mbytes\u001b[0m\u001b[0;34m)\u001b[0m\u001b[0;34m\u001b[0m\u001b[0m\n\u001b[1;32m    732\u001b[0m     \u001b[0mmessage\u001b[0m \u001b[0;34m=\u001b[0m \u001b[0mconnection\u001b[0m\u001b[0;34m.\u001b[0m\u001b[0mrecv_bytes\u001b[0m\u001b[0;34m(\u001b[0m\u001b[0;36m256\u001b[0m\u001b[0;34m)\u001b[0m         \u001b[0;31m# reject large message\u001b[0m\u001b[0;34m\u001b[0m\u001b[0m\n",
      "\u001b[0;31mKeyboardInterrupt\u001b[0m: "
     ]
    }
   ],
   "source": [
    "#Train the network\n",
    "main(config, None)"
   ]
  },
  {
   "cell_type": "code",
   "execution_count": 118,
   "metadata": {},
   "outputs": [],
   "source": [
    "def main2(config, resume):\n",
    "    # setup data_loader instances\n",
    "    data_loader = getattr(module_data, config['data_loader']['type'])(\n",
    "        config['data_loader']['args']['data_dir'],\n",
    "        batch_size=512,\n",
    "        shuffle=False,\n",
    "        validation_split=0.0,\n",
    "        training=False,\n",
    "        num_workers=2\n",
    "    )\n",
    "    \n",
    "    # build model architecture\n",
    "    model = get_instance(module_arch, 'arch', config)\n",
    "    print(model)\n",
    "    print(torch.cuda.get_device_name(0))\n",
    "\n",
    "\n",
    "    \n",
    "    # get function handles of loss and metrics\n",
    "    loss_fn = getattr(module_loss, config['loss'])\n",
    "    metric_fns = [getattr(module_metric, met) for met in config['metrics']]\n",
    "    \n",
    "    # load state dict\n",
    "    checkpoint = torch.load(resume)\n",
    "    state_dict = checkpoint['state_dict'] #dictionary of model parameters from saved file\n",
    "    if config['n_gpu'] > 1:\n",
    "        model = torch.nn.DataParallel(model)\n",
    "    model.load_state_dict(state_dict) \n",
    "    \n",
    "    # prepare model for testing\n",
    "    device = torch.device('cuda' if torch.cuda.is_available() else 'cpu')\n",
    "    model = model.to(device)\n",
    "    model.eval() #tells model to ignore dropout and batch normalization\n",
    "    \n",
    "    total_loss = 0.0\n",
    "    total_metrics = torch.zeros(len(metric_fns))\n",
    "    \n",
    "    classes = ('plane', 'car', 'bird', 'cat',\n",
    "           'deer', 'dog', 'frog', 'horse', 'ship', 'truck')\n",
    "    \n",
    "    with torch.no_grad(): #speed up calculations, unable to perform back propogation\n",
    "        for i, (data, target) in enumerate(tqdm(data_loader)): #tqdm is a progress bar\n",
    "            data, target = data.to(device), target.to(device)\n",
    "            output = model(data)\n",
    "            #\n",
    "            # save sample images, or do something with output here\n",
    "            #\n",
    "            \n",
    "            \n",
    "            if i < 5:\n",
    "                fig = plt.figure()\n",
    "                output_cpu = output.to(torch.device(\"cpu\"))\n",
    "                target_cpu = target.to(torch.device(\"cpu\"))\n",
    "                idx = (np.argmax(output_cpu[1], axis=0))\n",
    "                cls = classes[idx]\n",
    "                plt.title(\"Prediction = \" + str(cls) + \" | Actual = \" + str(classes[target_cpu[1].numpy()]) )\n",
    "                data_cpu = data.to(torch.device(\"cpu\"))\n",
    "                img = data_cpu[1]\n",
    "                print(data_cpu.shape)\n",
    "                plt.imshow(np.transpose(np.reshape(img,(3, 32,32)), (1,2,0))/2+0.5) #un-normalize and realign\n",
    "                \n",
    "            # computing loss, metrics on test set\n",
    "            loss = loss_fn(output, target)\n",
    "            batch_size = data.shape[0]\n",
    "            total_loss += loss.item() * batch_size\n",
    "            for i, metric in enumerate(metric_fns):\n",
    "                total_metrics[i] += metric(output, target) * batch_size\n",
    "        \n",
    "        plt.show()\n",
    "                      \n",
    "    n_samples = len(data_loader.sampler)\n",
    "    print(\"num samples = \" + str(n_samples))\n",
    "    log = {'loss': total_loss / n_samples}\n",
    "    log.update({met.__name__: total_metrics[i].item() / n_samples for i, met in enumerate(metric_fns)})\n",
    "    print(log)\n",
    "    print(\"My_metric is accuracy, my_metric2 is top-3 accuracy\")"
   ]
  },
  {
   "cell_type": "code",
   "execution_count": 119,
   "metadata": {},
   "outputs": [
    {
     "name": "stdout",
     "output_type": "stream",
     "text": [
      "True\n",
      "True\n"
     ]
    }
   ],
   "source": [
    "resume = \"saved/cifar_fromTAR/0520_203356/model_best.pth\"\n",
    "\n",
    "print(os.path.isdir(\"saved/cifar_fromTAR/0520_203356\"))\n",
    "print(os.path.exists(resume))\n",
    "\n",
    "#config = torch.load(\"saved/Mnist_LeNet/0414_203632/config.json\")\n",
    "os.environ[\"CUDA_VISIBLE_DEVICES\"] = \"0,1\""
   ]
  },
  {
   "cell_type": "code",
   "execution_count": 120,
   "metadata": {},
   "outputs": [
    {
     "name": "stderr",
     "output_type": "stream",
     "text": [
      "\r",
      "  0%|          | 0/20 [00:00<?, ?it/s]"
     ]
    },
    {
     "name": "stdout",
     "output_type": "stream",
     "text": [
      "Cifar10Model(\n",
      "  (conv1): Conv2d(3, 6, kernel_size=(5, 5), stride=(1, 1))\n",
      "  (pool): MaxPool2d(kernel_size=2, stride=2, padding=0, dilation=1, ceil_mode=False)\n",
      "  (conv2): Conv2d(6, 16, kernel_size=(5, 5), stride=(1, 1))\n",
      "  (fc1): Linear(in_features=400, out_features=120, bias=True)\n",
      "  (fc2): Linear(in_features=120, out_features=84, bias=True)\n",
      "  (fc3): Linear(in_features=84, out_features=10, bias=True)\n",
      ")\n",
      "Trainable parameters: 62006\n",
      "Tesla K80\n"
     ]
    },
    {
     "name": "stderr",
     "output_type": "stream",
     "text": [
      "Clipping input data to the valid range for imshow with RGB data ([0..1] for floats or [0..255] for integers).\n",
      "  5%|▌         | 1/20 [00:00<00:05,  3.69it/s]Clipping input data to the valid range for imshow with RGB data ([0..1] for floats or [0..255] for integers).\n",
      "Clipping input data to the valid range for imshow with RGB data ([0..1] for floats or [0..255] for integers).\n",
      " 15%|█▌        | 3/20 [00:00<00:03,  4.68it/s]"
     ]
    },
    {
     "name": "stdout",
     "output_type": "stream",
     "text": [
      "torch.Size([512, 3, 32, 32])\n",
      "torch.Size([512, 3, 32, 32])\n",
      "torch.Size([512, 3, 32, 32])\n"
     ]
    },
    {
     "name": "stderr",
     "output_type": "stream",
     "text": [
      "Clipping input data to the valid range for imshow with RGB data ([0..1] for floats or [0..255] for integers).\n",
      "Clipping input data to the valid range for imshow with RGB data ([0..1] for floats or [0..255] for integers).\n",
      " 25%|██▌       | 5/20 [00:00<00:02,  5.75it/s]"
     ]
    },
    {
     "name": "stdout",
     "output_type": "stream",
     "text": [
      "torch.Size([512, 3, 32, 32])\n",
      "torch.Size([512, 3, 32, 32])\n"
     ]
    },
    {
     "name": "stderr",
     "output_type": "stream",
     "text": [
      "100%|██████████| 20/20 [00:01<00:00, 12.47it/s]\n"
     ]
    },
    {
     "data": {
      "image/png": "[encoded data removed]",
      "text/plain": [
       "<Figure size 432x288 with 1 Axes>"
      ]
     },
     "metadata": {
      "needs_background": "light"
     },
     "output_type": "display_data"
    },
    {
     "data": {
      "image/png": "[encoded data removed]",
      "text/plain": [
       "<Figure size 432x288 with 1 Axes>"
      ]
     },
     "metadata": {
      "needs_background": "light"
     },
     "output_type": "display_data"
    },
    {
     "data": {
      "image/png": "[encoded data removed]",
      "text/plain": [
       "<Figure size 432x288 with 1 Axes>"
      ]
     },
     "metadata": {
      "needs_background": "light"
     },
     "output_type": "display_data"
    },
    {
     "data": {
      "image/png": "[encoded data removed]",
      "text/plain": [
       "<Figure size 432x288 with 1 Axes>"
      ]
     },
     "metadata": {
      "needs_background": "light"
     },
     "output_type": "display_data"
    },
    {
     "data": {
      "image/png": "[encoded data removed]",
      "text/plain": [
       "<Figure size 432x288 with 1 Axes>"
      ]
     },
     "metadata": {
      "needs_background": "light"
     },
     "output_type": "display_data"
    },
    {
     "name": "stdout",
     "output_type": "stream",
     "text": [
      "num samples = 10000\n",
      "{'loss': -314659231546055.06, 'my_metric2': 0.3022, 'my_metric': 0.0974}\n",
      "My_metric is accuracy, my_metric2 is top-3 accuracy\n"
     ]
    }
   ],
   "source": [
    "#Test\n",
    "main2(config, resume)"
   ]
  },
  {
   "cell_type": "code",
   "execution_count": null,
   "metadata": {},
   "outputs": [],
   "source": []
  }
 ],
 "metadata": {
  "kernelspec": {
   "display_name": "Python (myenv)",
   "language": "python",
   "name": "pytorch_env"
  },
  "language_info": {
   "codemirror_mode": {
    "name": "ipython",
    "version": 3
   },
   "file_extension": ".py",
   "mimetype": "text/x-python",
   "name": "python",
   "nbconvert_exporter": "python",
   "pygments_lexer": "ipython3",
   "version": "3.5.6"
  }
 },
 "nbformat": 4,
 "nbformat_minor": 2
}
